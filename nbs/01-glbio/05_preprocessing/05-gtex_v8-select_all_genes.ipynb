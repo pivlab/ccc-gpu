{
 "cells": [
  {
   "cell_type": "markdown",
   "id": "871d5ed2-95c8-48db-b3b3-394fea7a035b",
   "metadata": {
    "papermill": {
     "duration": 0.012093,
     "end_time": "2023-09-06T21:38:01.338569",
     "exception": false,
     "start_time": "2023-09-06T21:38:01.326476",
     "status": "completed"
    },
    "tags": []
   },
   "source": [
    "# Description"
   ]
  },
  {
   "cell_type": "markdown",
   "id": "06b29f41-a8f0-4274-8f72-a5b7cc19bc4e",
   "metadata": {
    "papermill": {
     "duration": 0.006284,
     "end_time": "2023-09-06T21:38:01.364765",
     "exception": false,
     "start_time": "2023-09-06T21:38:01.358481",
     "status": "completed"
    },
    "tags": []
   },
   "source": [
    "It analyzes different strategies to take the genes from GTEx data with the highest variability, being this variability measured with different strategies: variance (`var`), coefficient of variation (`cv`) and mean absolute variation (`mad`) applied on two different versions of the data: 1) the raw TPM-normalized gene expression data (here refered to as `raw`), and 2) the log2-transformed version of the raw data (here refered to as `log2` and `pc_log2`)."
   ]
  },
  {
   "cell_type": "markdown",
   "id": "d05acbf3-ee34-4e31-b359-58d5ffde4213",
   "metadata": {
    "papermill": {
     "duration": 0.006246,
     "end_time": "2023-09-06T21:38:01.377413",
     "exception": false,
     "start_time": "2023-09-06T21:38:01.371167",
     "status": "completed"
    },
    "tags": []
   },
   "source": [
    "# Modules"
   ]
  },
  {
   "cell_type": "code",
   "execution_count": 1,
   "id": "9e466133-c98a-4ca1-9c62-99a70576aca4",
   "metadata": {
    "execution": {
     "iopub.execute_input": "2023-09-06T21:38:01.390672Z",
     "iopub.status.busy": "2023-09-06T21:38:01.390564Z",
     "iopub.status.idle": "2023-09-06T21:38:01.693283Z",
     "shell.execute_reply": "2023-09-06T21:38:01.692988Z"
    },
    "papermill": {
     "duration": 0.31063,
     "end_time": "2023-09-06T21:38:01.694296",
     "exception": false,
     "start_time": "2023-09-06T21:38:01.383666",
     "status": "completed"
    },
    "tags": []
   },
   "outputs": [],
   "source": [
    "import numpy as np\n",
    "import pandas as pd\n",
    "import seaborn as sns\n",
    "from sklearn.decomposition import PCA\n",
    "from sklearn.preprocessing import scale\n",
    "from tqdm import tqdm\n",
    "from pathlib import Path"
   ]
  },
  {
   "cell_type": "markdown",
   "id": "4da399b4-f533-4cd0-8de7-a9afde79abb4",
   "metadata": {
    "papermill": {
     "duration": 0.009603,
     "end_time": "2023-09-06T21:38:01.710777",
     "exception": false,
     "start_time": "2023-09-06T21:38:01.701174",
     "status": "completed"
    },
    "tags": []
   },
   "source": [
    "# Settings"
   ]
  },
  {
   "cell_type": "markdown",
   "id": "79484a9e-8dd9-46b5-bfad-27c257b2b50d",
   "metadata": {
    "papermill": {
     "duration": 0.006283,
     "end_time": "2023-09-06T21:38:01.739051",
     "exception": false,
     "start_time": "2023-09-06T21:38:01.732768",
     "status": "completed"
    },
    "tags": []
   },
   "source": [
    "# Paths"
   ]
  },
  {
   "cell_type": "code",
   "execution_count": 2,
   "id": "f7254449-849e-4bb2-bb02-d52f85589145",
   "metadata": {
    "execution": {
     "iopub.execute_input": "2023-09-06T21:38:01.752287Z",
     "iopub.status.busy": "2023-09-06T21:38:01.752105Z",
     "iopub.status.idle": "2023-09-06T21:38:01.754715Z",
     "shell.execute_reply": "2023-09-06T21:38:01.754582Z"
    },
    "papermill": {
     "duration": 0.009813,
     "end_time": "2023-09-06T21:38:01.755218",
     "exception": false,
     "start_time": "2023-09-06T21:38:01.745405",
     "status": "completed"
    },
    "tags": []
   },
   "outputs": [
    {
     "data": {
      "text/plain": [
       "PosixPath('/mnt/data/proj_data/ccc-gpu/gene_expr/data/gtex_v8/data_by_tissue')"
      ]
     },
     "metadata": {},
     "output_type": "display_data"
    }
   ],
   "source": [
    "DATA_DIR = Path(\"/mnt/data/proj_data/ccc-gpu/gene_expr/data/gtex_v8\")\n",
    "INPUT_DIR = DATA_DIR / \"data_by_tissue\"\n",
    "display(INPUT_DIR)"
   ]
  },
  {
   "cell_type": "code",
   "execution_count": 3,
   "id": "0ef4566f-122f-49e8-99be-491308219cc1",
   "metadata": {
    "execution": {
     "iopub.execute_input": "2023-09-06T21:38:01.768255Z",
     "iopub.status.busy": "2023-09-06T21:38:01.768207Z",
     "iopub.status.idle": "2023-09-06T21:38:01.769896Z",
     "shell.execute_reply": "2023-09-06T21:38:01.769771Z"
    },
    "papermill": {
     "duration": 0.008874,
     "end_time": "2023-09-06T21:38:01.770441",
     "exception": false,
     "start_time": "2023-09-06T21:38:01.761567",
     "status": "completed"
    },
    "tags": []
   },
   "outputs": [
    {
     "data": {
      "text/plain": [
       "PosixPath('/mnt/data/proj_data/ccc-gpu/gene_expr/data/gtex_v8/gene_selection/all')"
      ]
     },
     "metadata": {},
     "output_type": "display_data"
    }
   ],
   "source": [
    "OUTPUT_DIR = DATA_DIR / \"gene_selection\" / \"all\"\n",
    "OUTPUT_DIR.mkdir(parents=True, exist_ok=True)\n",
    "display(OUTPUT_DIR)"
   ]
  },
  {
   "cell_type": "markdown",
   "id": "c5b54814-c607-4dbe-bc47-bb4fe058ed93",
   "metadata": {
    "papermill": {
     "duration": 0.014838,
     "end_time": "2023-09-06T21:39:56.304867",
     "exception": false,
     "start_time": "2023-09-06T21:39:56.290029",
     "status": "completed"
    },
    "tags": []
   },
   "source": [
    "# Select top genes for each tissue data file"
   ]
  },
  {
   "cell_type": "markdown",
   "id": "8904a4c2-2855-4243-8d53-37d45aacae87",
   "metadata": {
    "papermill": {
     "duration": 0.014672,
     "end_time": "2023-09-06T21:39:56.334316",
     "exception": false,
     "start_time": "2023-09-06T21:39:56.319644",
     "status": "completed"
    },
    "tags": []
   },
   "source": [
    "Based on the previous findings, I select genes with both strategies `var_raw` and `var_pc_log2`.\n",
    "\n",
    "Then I save, for both, the raw data (note that I only use the strategies to select genes, not to log-transform the data)."
   ]
  },
  {
   "cell_type": "code",
   "execution_count": 7,
   "id": "b78c27fe-ad78-497c-97ad-e21d38455a34",
   "metadata": {
    "execution": {
     "iopub.execute_input": "2023-09-06T21:39:56.364660Z",
     "iopub.status.busy": "2023-09-06T21:39:56.364547Z",
     "iopub.status.idle": "2023-09-06T21:39:56.367075Z",
     "shell.execute_reply": "2023-09-06T21:39:56.366927Z"
    },
    "papermill": {
     "duration": 0.018659,
     "end_time": "2023-09-06T21:39:56.367749",
     "exception": false,
     "start_time": "2023-09-06T21:39:56.349090",
     "status": "completed"
    },
    "tags": []
   },
   "outputs": [
    {
     "data": {
      "text/plain": [
       "[PosixPath('/mnt/data/proj_data/ccc-gpu/gene_expr/data/gtex_v8/data_by_tissue/gtex_v8_data_adipose_subcutaneous.pkl'),\n",
       " PosixPath('/mnt/data/proj_data/ccc-gpu/gene_expr/data/gtex_v8/data_by_tissue/gtex_v8_data_adipose_visceral_omentum.pkl'),\n",
       " PosixPath('/mnt/data/proj_data/ccc-gpu/gene_expr/data/gtex_v8/data_by_tissue/gtex_v8_data_adrenal_gland.pkl'),\n",
       " PosixPath('/mnt/data/proj_data/ccc-gpu/gene_expr/data/gtex_v8/data_by_tissue/gtex_v8_data_artery_aorta.pkl'),\n",
       " PosixPath('/mnt/data/proj_data/ccc-gpu/gene_expr/data/gtex_v8/data_by_tissue/gtex_v8_data_artery_coronary.pkl')]"
      ]
     },
     "metadata": {},
     "output_type": "display_data"
    }
   ],
   "source": [
    "input_files = sorted(list(INPUT_DIR.glob(\"*.pkl\")))\n",
    "assert len(input_files) == 54, len(input_files)\n",
    "\n",
    "display(input_files[:5])"
   ]
  },
  {
   "cell_type": "markdown",
   "id": "ce8ea183-c567-42dd-abaf-320a9d0ef482",
   "metadata": {
    "papermill": {
     "duration": 0.014919,
     "end_time": "2023-09-06T21:39:56.397570",
     "exception": false,
     "start_time": "2023-09-06T21:39:56.382651",
     "status": "completed"
    },
    "tags": []
   },
   "source": [
    "## Run"
   ]
  },
  {
   "cell_type": "code",
   "execution_count": 8,
   "id": "83685682-4842-44e9-83c1-405365fee395",
   "metadata": {
    "execution": {
     "iopub.execute_input": "2023-09-06T21:39:56.428401Z",
     "iopub.status.busy": "2023-09-06T21:39:56.428299Z",
     "iopub.status.idle": "2023-09-06T21:40:18.297690Z",
     "shell.execute_reply": "2023-09-06T21:40:18.297395Z"
    },
    "papermill": {
     "duration": 21.885907,
     "end_time": "2023-09-06T21:40:18.298458",
     "exception": false,
     "start_time": "2023-09-06T21:39:56.412551",
     "status": "completed"
    },
    "tags": []
   },
   "outputs": [
    {
     "name": "stderr",
     "output_type": "stream",
     "text": [
      "gtex_v8_data_whole_blood: 100%|█████████████████████████████████████| 54/54 [00:40<00:00,  1.33it/s]\n"
     ]
    }
   ],
   "source": [
    "pbar = tqdm(input_files, ncols=100)\n",
    "\n",
    "for tissue_data_file in pbar:\n",
    "    pbar.set_description(tissue_data_file.stem)\n",
    "\n",
    "    tissue_data = pd.read_pickle(tissue_data_file)\n",
    "\n",
    "    # var_raw\n",
    "    top_genes_var = (\n",
    "        tissue_data.var(axis=1).sort_values(ascending=False)\n",
    "        # .head(N_TOP_GENES_MAX_VARIANCE)\n",
    "    )\n",
    "    selected_tissue_data = tissue_data.loc[top_genes_var.index]\n",
    "\n",
    "    output_filename = f\"{tissue_data_file.stem}-var_raw.pkl\"\n",
    "    selected_tissue_data.to_pickle(path=OUTPUT_DIR / output_filename)\n",
    "\n",
    "    # var_pc_log2\n",
    "    log2_tissue_data = np.log2(tissue_data + 1)\n",
    "\n",
    "    top_genes_var = (\n",
    "        log2_tissue_data.var(axis=1).sort_values(ascending=False)\n",
    "        # .head(N_TOP_GENES_MAX_VARIANCE)\n",
    "    )\n",
    "    # save the same raw data, but with genes selected by var_pc_log2\n",
    "    selected_tissue_data = tissue_data.loc[top_genes_var.index]\n",
    "\n",
    "    output_filename = f\"{tissue_data_file.stem}-var_pc_log2.pkl\"\n",
    "    selected_tissue_data.to_pickle(path=OUTPUT_DIR / output_filename)"
   ]
  },
  {
   "cell_type": "markdown",
   "id": "d8d55d8a",
   "metadata": {},
   "source": [
    "## Check results"
   ]
  },
  {
   "cell_type": "code",
   "execution_count": 9,
   "id": "c2f71b3c",
   "metadata": {},
   "outputs": [],
   "source": [
    "genes = pd.read_pickle(OUTPUT_DIR / \"gtex_v8_data_whole_blood-var_pc_log2.pkl\")"
   ]
  },
  {
   "cell_type": "code",
   "execution_count": 10,
   "id": "07d98fbe",
   "metadata": {},
   "outputs": [
    {
     "data": {
      "text/plain": [
       "(56200, 755)"
      ]
     },
     "execution_count": 10,
     "metadata": {},
     "output_type": "execute_result"
    }
   ],
   "source": [
    "genes.shape"
   ]
  },
  {
   "cell_type": "code",
   "execution_count": 11,
   "id": "079f5e83",
   "metadata": {},
   "outputs": [
    {
     "data": {
      "text/html": [
       "<div>\n",
       "<style scoped>\n",
       "    .dataframe tbody tr th:only-of-type {\n",
       "        vertical-align: middle;\n",
       "    }\n",
       "\n",
       "    .dataframe tbody tr th {\n",
       "        vertical-align: top;\n",
       "    }\n",
       "\n",
       "    .dataframe thead th {\n",
       "        text-align: right;\n",
       "    }\n",
       "</style>\n",
       "<table border=\"1\" class=\"dataframe\">\n",
       "  <thead>\n",
       "    <tr style=\"text-align: right;\">\n",
       "      <th></th>\n",
       "      <th>GTEX-111YS-0006-SM-5NQBE</th>\n",
       "      <th>GTEX-1122O-0005-SM-5O99J</th>\n",
       "      <th>GTEX-1128S-0005-SM-5P9HI</th>\n",
       "      <th>GTEX-113IC-0006-SM-5NQ9C</th>\n",
       "      <th>GTEX-113JC-0006-SM-5O997</th>\n",
       "      <th>GTEX-117XS-0005-SM-5PNU6</th>\n",
       "      <th>GTEX-117YW-0005-SM-5NQ8Z</th>\n",
       "      <th>GTEX-1192W-0005-SM-5NQBQ</th>\n",
       "      <th>GTEX-1192X-0005-SM-5NQC3</th>\n",
       "      <th>GTEX-11DXW-0006-SM-5NQ7Y</th>\n",
       "      <th>...</th>\n",
       "      <th>GTEX-ZVE2-0006-SM-51MRW</th>\n",
       "      <th>GTEX-ZVP2-0005-SM-51MRK</th>\n",
       "      <th>GTEX-ZVT2-0005-SM-57WBW</th>\n",
       "      <th>GTEX-ZVT3-0006-SM-51MT9</th>\n",
       "      <th>GTEX-ZVT4-0006-SM-57WB8</th>\n",
       "      <th>GTEX-ZVTK-0006-SM-57WBK</th>\n",
       "      <th>GTEX-ZVZP-0006-SM-51MSW</th>\n",
       "      <th>GTEX-ZVZQ-0006-SM-51MR8</th>\n",
       "      <th>GTEX-ZXES-0005-SM-57WCB</th>\n",
       "      <th>GTEX-ZXG5-0005-SM-57WCN</th>\n",
       "    </tr>\n",
       "    <tr>\n",
       "      <th>gene_ens_id</th>\n",
       "      <th></th>\n",
       "      <th></th>\n",
       "      <th></th>\n",
       "      <th></th>\n",
       "      <th></th>\n",
       "      <th></th>\n",
       "      <th></th>\n",
       "      <th></th>\n",
       "      <th></th>\n",
       "      <th></th>\n",
       "      <th></th>\n",
       "      <th></th>\n",
       "      <th></th>\n",
       "      <th></th>\n",
       "      <th></th>\n",
       "      <th></th>\n",
       "      <th></th>\n",
       "      <th></th>\n",
       "      <th></th>\n",
       "      <th></th>\n",
       "      <th></th>\n",
       "    </tr>\n",
       "  </thead>\n",
       "  <tbody>\n",
       "    <tr>\n",
       "      <th>ENSG00000169429.10</th>\n",
       "      <td>0.5623</td>\n",
       "      <td>0.8067</td>\n",
       "      <td>116.90000</td>\n",
       "      <td>4.047</td>\n",
       "      <td>211.0</td>\n",
       "      <td>58.110</td>\n",
       "      <td>68.38</td>\n",
       "      <td>249.50</td>\n",
       "      <td>5.095</td>\n",
       "      <td>295.9</td>\n",
       "      <td>...</td>\n",
       "      <td>39.960</td>\n",
       "      <td>0.1393</td>\n",
       "      <td>0.22380</td>\n",
       "      <td>245.0</td>\n",
       "      <td>513.6</td>\n",
       "      <td>1626.00</td>\n",
       "      <td>0.5633</td>\n",
       "      <td>515.70</td>\n",
       "      <td>1.19400</td>\n",
       "      <td>1163.00</td>\n",
       "    </tr>\n",
       "    <tr>\n",
       "      <th>ENSG00000135245.9</th>\n",
       "      <td>0.6529</td>\n",
       "      <td>1.3850</td>\n",
       "      <td>199.20000</td>\n",
       "      <td>2.266</td>\n",
       "      <td>116.7</td>\n",
       "      <td>192.300</td>\n",
       "      <td>161.50</td>\n",
       "      <td>263.50</td>\n",
       "      <td>23.540</td>\n",
       "      <td>251.9</td>\n",
       "      <td>...</td>\n",
       "      <td>114.300</td>\n",
       "      <td>1.8330</td>\n",
       "      <td>0.41150</td>\n",
       "      <td>149.0</td>\n",
       "      <td>935.3</td>\n",
       "      <td>233.60</td>\n",
       "      <td>0.8882</td>\n",
       "      <td>134.00</td>\n",
       "      <td>1.12000</td>\n",
       "      <td>295.70</td>\n",
       "    </tr>\n",
       "    <tr>\n",
       "      <th>ENSG00000163631.16</th>\n",
       "      <td>1.8480</td>\n",
       "      <td>0.2503</td>\n",
       "      <td>0.08429</td>\n",
       "      <td>1.251</td>\n",
       "      <td>1348.0</td>\n",
       "      <td>9.971</td>\n",
       "      <td>101.30</td>\n",
       "      <td>95.09</td>\n",
       "      <td>1.264</td>\n",
       "      <td>119.3</td>\n",
       "      <td>...</td>\n",
       "      <td>2.092</td>\n",
       "      <td>2.1100</td>\n",
       "      <td>0.03588</td>\n",
       "      <td>171.8</td>\n",
       "      <td>107.1</td>\n",
       "      <td>71.25</td>\n",
       "      <td>1.7720</td>\n",
       "      <td>309.60</td>\n",
       "      <td>0.07361</td>\n",
       "      <td>17.75</td>\n",
       "    </tr>\n",
       "    <tr>\n",
       "      <th>ENSG00000277632.1</th>\n",
       "      <td>1.6960</td>\n",
       "      <td>1.3450</td>\n",
       "      <td>235.10000</td>\n",
       "      <td>11.770</td>\n",
       "      <td>141.7</td>\n",
       "      <td>199.100</td>\n",
       "      <td>525.50</td>\n",
       "      <td>659.90</td>\n",
       "      <td>10.910</td>\n",
       "      <td>209.3</td>\n",
       "      <td>...</td>\n",
       "      <td>61.340</td>\n",
       "      <td>2.2500</td>\n",
       "      <td>0.72310</td>\n",
       "      <td>261.2</td>\n",
       "      <td>400.0</td>\n",
       "      <td>288.50</td>\n",
       "      <td>2.6960</td>\n",
       "      <td>287.50</td>\n",
       "      <td>3.32300</td>\n",
       "      <td>618.90</td>\n",
       "    </tr>\n",
       "    <tr>\n",
       "      <th>ENSG00000239839.6</th>\n",
       "      <td>185.2000</td>\n",
       "      <td>1.7790</td>\n",
       "      <td>694.30000</td>\n",
       "      <td>23.840</td>\n",
       "      <td>297.3</td>\n",
       "      <td>3122.000</td>\n",
       "      <td>2521.00</td>\n",
       "      <td>1504.00</td>\n",
       "      <td>80.060</td>\n",
       "      <td>652.0</td>\n",
       "      <td>...</td>\n",
       "      <td>1010.000</td>\n",
       "      <td>253.8000</td>\n",
       "      <td>94.52000</td>\n",
       "      <td>6083.0</td>\n",
       "      <td>2768.0</td>\n",
       "      <td>52.06</td>\n",
       "      <td>34.5700</td>\n",
       "      <td>17.36</td>\n",
       "      <td>352.30000</td>\n",
       "      <td>63.85</td>\n",
       "    </tr>\n",
       "  </tbody>\n",
       "</table>\n",
       "<p>5 rows × 755 columns</p>\n",
       "</div>"
      ],
      "text/plain": [
       "                    GTEX-111YS-0006-SM-5NQBE  GTEX-1122O-0005-SM-5O99J  \\\n",
       "gene_ens_id                                                              \n",
       "ENSG00000169429.10                    0.5623                    0.8067   \n",
       "ENSG00000135245.9                     0.6529                    1.3850   \n",
       "ENSG00000163631.16                    1.8480                    0.2503   \n",
       "ENSG00000277632.1                     1.6960                    1.3450   \n",
       "ENSG00000239839.6                   185.2000                    1.7790   \n",
       "\n",
       "                    GTEX-1128S-0005-SM-5P9HI  GTEX-113IC-0006-SM-5NQ9C  \\\n",
       "gene_ens_id                                                              \n",
       "ENSG00000169429.10                 116.90000                     4.047   \n",
       "ENSG00000135245.9                  199.20000                     2.266   \n",
       "ENSG00000163631.16                   0.08429                     1.251   \n",
       "ENSG00000277632.1                  235.10000                    11.770   \n",
       "ENSG00000239839.6                  694.30000                    23.840   \n",
       "\n",
       "                    GTEX-113JC-0006-SM-5O997  GTEX-117XS-0005-SM-5PNU6  \\\n",
       "gene_ens_id                                                              \n",
       "ENSG00000169429.10                     211.0                    58.110   \n",
       "ENSG00000135245.9                      116.7                   192.300   \n",
       "ENSG00000163631.16                    1348.0                     9.971   \n",
       "ENSG00000277632.1                      141.7                   199.100   \n",
       "ENSG00000239839.6                      297.3                  3122.000   \n",
       "\n",
       "                    GTEX-117YW-0005-SM-5NQ8Z  GTEX-1192W-0005-SM-5NQBQ  \\\n",
       "gene_ens_id                                                              \n",
       "ENSG00000169429.10                     68.38                    249.50   \n",
       "ENSG00000135245.9                     161.50                    263.50   \n",
       "ENSG00000163631.16                    101.30                     95.09   \n",
       "ENSG00000277632.1                     525.50                    659.90   \n",
       "ENSG00000239839.6                    2521.00                   1504.00   \n",
       "\n",
       "                    GTEX-1192X-0005-SM-5NQC3  GTEX-11DXW-0006-SM-5NQ7Y  ...  \\\n",
       "gene_ens_id                                                             ...   \n",
       "ENSG00000169429.10                     5.095                     295.9  ...   \n",
       "ENSG00000135245.9                     23.540                     251.9  ...   \n",
       "ENSG00000163631.16                     1.264                     119.3  ...   \n",
       "ENSG00000277632.1                     10.910                     209.3  ...   \n",
       "ENSG00000239839.6                     80.060                     652.0  ...   \n",
       "\n",
       "                    GTEX-ZVE2-0006-SM-51MRW  GTEX-ZVP2-0005-SM-51MRK  \\\n",
       "gene_ens_id                                                            \n",
       "ENSG00000169429.10                   39.960                   0.1393   \n",
       "ENSG00000135245.9                   114.300                   1.8330   \n",
       "ENSG00000163631.16                    2.092                   2.1100   \n",
       "ENSG00000277632.1                    61.340                   2.2500   \n",
       "ENSG00000239839.6                  1010.000                 253.8000   \n",
       "\n",
       "                    GTEX-ZVT2-0005-SM-57WBW  GTEX-ZVT3-0006-SM-51MT9  \\\n",
       "gene_ens_id                                                            \n",
       "ENSG00000169429.10                  0.22380                    245.0   \n",
       "ENSG00000135245.9                   0.41150                    149.0   \n",
       "ENSG00000163631.16                  0.03588                    171.8   \n",
       "ENSG00000277632.1                   0.72310                    261.2   \n",
       "ENSG00000239839.6                  94.52000                   6083.0   \n",
       "\n",
       "                    GTEX-ZVT4-0006-SM-57WB8  GTEX-ZVTK-0006-SM-57WBK  \\\n",
       "gene_ens_id                                                            \n",
       "ENSG00000169429.10                    513.6                  1626.00   \n",
       "ENSG00000135245.9                     935.3                   233.60   \n",
       "ENSG00000163631.16                    107.1                    71.25   \n",
       "ENSG00000277632.1                     400.0                   288.50   \n",
       "ENSG00000239839.6                    2768.0                    52.06   \n",
       "\n",
       "                    GTEX-ZVZP-0006-SM-51MSW  GTEX-ZVZQ-0006-SM-51MR8  \\\n",
       "gene_ens_id                                                            \n",
       "ENSG00000169429.10                   0.5633                   515.70   \n",
       "ENSG00000135245.9                    0.8882                   134.00   \n",
       "ENSG00000163631.16                   1.7720                   309.60   \n",
       "ENSG00000277632.1                    2.6960                   287.50   \n",
       "ENSG00000239839.6                   34.5700                    17.36   \n",
       "\n",
       "                    GTEX-ZXES-0005-SM-57WCB  GTEX-ZXG5-0005-SM-57WCN  \n",
       "gene_ens_id                                                           \n",
       "ENSG00000169429.10                  1.19400                  1163.00  \n",
       "ENSG00000135245.9                   1.12000                   295.70  \n",
       "ENSG00000163631.16                  0.07361                    17.75  \n",
       "ENSG00000277632.1                   3.32300                   618.90  \n",
       "ENSG00000239839.6                 352.30000                    63.85  \n",
       "\n",
       "[5 rows x 755 columns]"
      ]
     },
     "execution_count": 11,
     "metadata": {},
     "output_type": "execute_result"
    }
   ],
   "source": [
    "genes.head()"
   ]
  }
 ],
 "metadata": {
  "jupytext": {
   "cell_metadata_filter": "all,-execution,-papermill,-trusted"
  },
  "kernelspec": {
   "display_name": "Python 3 (ipykernel)",
   "language": "python",
   "name": "python3"
  },
  "language_info": {
   "codemirror_mode": {
    "name": "ipython",
    "version": 3
   },
   "file_extension": ".py",
   "mimetype": "text/x-python",
   "name": "python",
   "nbconvert_exporter": "python",
   "pygments_lexer": "ipython3",
   "version": "3.10.16"
  },
  "papermill": {
   "default_parameters": {},
   "duration": 144.863491,
   "end_time": "2023-09-06T21:40:25.520372",
   "environment_variables": {},
   "exception": null,
   "input_path": "nbs/05_preprocessing/05-gtex_v8-select_top_genes.ipynb",
   "output_path": "nbs/05_preprocessing/05-gtex_v8-select_top_genes.run.ipynb",
   "parameters": {},
   "start_time": "2023-09-06T21:38:00.656881",
   "version": "2.3.3"
  },
  "toc-autonumbering": true,
  "toc-showcode": false,
  "toc-showmarkdowntxt": false
 },
 "nbformat": 4,
 "nbformat_minor": 5
}
