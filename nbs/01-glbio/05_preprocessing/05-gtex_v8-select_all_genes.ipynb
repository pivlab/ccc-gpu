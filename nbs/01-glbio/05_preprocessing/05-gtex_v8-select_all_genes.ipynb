{
 "cells": [
  {
   "cell_type": "markdown",
   "id": "871d5ed2-95c8-48db-b3b3-394fea7a035b",
   "metadata": {
    "papermill": {
     "duration": 0.012093,
     "end_time": "2023-09-06T21:38:01.338569",
     "exception": false,
     "start_time": "2023-09-06T21:38:01.326476",
     "status": "completed"
    },
    "tags": []
   },
   "source": [
    "# Description"
   ]
  },
  {
   "cell_type": "markdown",
   "id": "06b29f41-a8f0-4274-8f72-a5b7cc19bc4e",
   "metadata": {
    "papermill": {
     "duration": 0.006284,
     "end_time": "2023-09-06T21:38:01.364765",
     "exception": false,
     "start_time": "2023-09-06T21:38:01.358481",
     "status": "completed"
    },
    "tags": []
   },
   "source": [
    "It analyzes different strategies to take the genes from GTEx data with the highest variability, being this variability measured with different strategies: variance (`var`), coefficient of variation (`cv`) and mean absolute variation (`mad`) applied on two different versions of the data: 1) the raw TPM-normalized gene expression data (here refered to as `raw`), and 2) the log2-transformed version of the raw data (here refered to as `log2` and `pc_log2`)."
   ]
  },
  {
   "cell_type": "markdown",
   "id": "d05acbf3-ee34-4e31-b359-58d5ffde4213",
   "metadata": {
    "papermill": {
     "duration": 0.006246,
     "end_time": "2023-09-06T21:38:01.377413",
     "exception": false,
     "start_time": "2023-09-06T21:38:01.371167",
     "status": "completed"
    },
    "tags": []
   },
   "source": [
    "# Modules"
   ]
  },
  {
   "cell_type": "code",
   "execution_count": 1,
   "id": "9e466133-c98a-4ca1-9c62-99a70576aca4",
   "metadata": {
    "execution": {
     "iopub.execute_input": "2023-09-06T21:38:01.390672Z",
     "iopub.status.busy": "2023-09-06T21:38:01.390564Z",
     "iopub.status.idle": "2023-09-06T21:38:01.693283Z",
     "shell.execute_reply": "2023-09-06T21:38:01.692988Z"
    },
    "papermill": {
     "duration": 0.31063,
     "end_time": "2023-09-06T21:38:01.694296",
     "exception": false,
     "start_time": "2023-09-06T21:38:01.383666",
     "status": "completed"
    },
    "tags": []
   },
   "outputs": [],
   "source": [
    "import numpy as np\n",
    "import pandas as pd\n",
    "import seaborn as sns\n",
    "from sklearn.decomposition import PCA\n",
    "from sklearn.preprocessing import scale\n",
    "from tqdm import tqdm\n",
    "from pathlib import Path"
   ]
  },
  {
   "cell_type": "markdown",
   "id": "4da399b4-f533-4cd0-8de7-a9afde79abb4",
   "metadata": {
    "papermill": {
     "duration": 0.009603,
     "end_time": "2023-09-06T21:38:01.710777",
     "exception": false,
     "start_time": "2023-09-06T21:38:01.701174",
     "status": "completed"
    },
    "tags": []
   },
   "source": [
    "# Settings"
   ]
  },
  {
   "cell_type": "markdown",
   "id": "79484a9e-8dd9-46b5-bfad-27c257b2b50d",
   "metadata": {
    "papermill": {
     "duration": 0.006283,
     "end_time": "2023-09-06T21:38:01.739051",
     "exception": false,
     "start_time": "2023-09-06T21:38:01.732768",
     "status": "completed"
    },
    "tags": []
   },
   "source": [
    "# Paths"
   ]
  },
  {
   "cell_type": "code",
   "execution_count": null,
   "id": "f7254449-849e-4bb2-bb02-d52f85589145",
   "metadata": {
    "execution": {
     "iopub.execute_input": "2023-09-06T21:38:01.752287Z",
     "iopub.status.busy": "2023-09-06T21:38:01.752105Z",
     "iopub.status.idle": "2023-09-06T21:38:01.754715Z",
     "shell.execute_reply": "2023-09-06T21:38:01.754582Z"
    },
    "papermill": {
     "duration": 0.009813,
     "end_time": "2023-09-06T21:38:01.755218",
     "exception": false,
     "start_time": "2023-09-06T21:38:01.745405",
     "status": "completed"
    },
    "tags": []
   },
   "outputs": [],
   "source": [
    "DATA_DIR = Path(\"/mnt/data/proj_data/ccc-gpu/gene_expr/data/gtex_v8\")\n",
    "INPUT_DIR = DATA_DIR / \"data_by_tissue\"\n",
    "display(INPUT_DIR)"
   ]
  },
  {
   "cell_type": "code",
   "execution_count": null,
   "id": "0ef4566f-122f-49e8-99be-491308219cc1",
   "metadata": {
    "execution": {
     "iopub.execute_input": "2023-09-06T21:38:01.768255Z",
     "iopub.status.busy": "2023-09-06T21:38:01.768207Z",
     "iopub.status.idle": "2023-09-06T21:38:01.769896Z",
     "shell.execute_reply": "2023-09-06T21:38:01.769771Z"
    },
    "papermill": {
     "duration": 0.008874,
     "end_time": "2023-09-06T21:38:01.770441",
     "exception": false,
     "start_time": "2023-09-06T21:38:01.761567",
     "status": "completed"
    },
    "tags": []
   },
   "outputs": [],
   "source": [
    "OUTPUT_DIR = DATA_DIR / \"gene_selection\" / \"all\"\n",
    "OUTPUT_DIR.mkdir(parents=True, exist_ok=True)\n",
    "display(OUTPUT_DIR)"
   ]
  },
  {
   "cell_type": "markdown",
   "id": "c5b54814-c607-4dbe-bc47-bb4fe058ed93",
   "metadata": {
    "papermill": {
     "duration": 0.014838,
     "end_time": "2023-09-06T21:39:56.304867",
     "exception": false,
     "start_time": "2023-09-06T21:39:56.290029",
     "status": "completed"
    },
    "tags": []
   },
   "source": [
    "# Select top genes for each tissue data file"
   ]
  },
  {
   "cell_type": "markdown",
   "id": "8904a4c2-2855-4243-8d53-37d45aacae87",
   "metadata": {
    "papermill": {
     "duration": 0.014672,
     "end_time": "2023-09-06T21:39:56.334316",
     "exception": false,
     "start_time": "2023-09-06T21:39:56.319644",
     "status": "completed"
    },
    "tags": []
   },
   "source": [
    "Based on the previous findings, I select genes with both strategies `var_raw` and `var_pc_log2`.\n",
    "\n",
    "Then I save, for both, the raw data (note that I only use the strategies to select genes, not to log-transform the data)."
   ]
  },
  {
   "cell_type": "code",
   "execution_count": null,
   "id": "b78c27fe-ad78-497c-97ad-e21d38455a34",
   "metadata": {
    "execution": {
     "iopub.execute_input": "2023-09-06T21:39:56.364660Z",
     "iopub.status.busy": "2023-09-06T21:39:56.364547Z",
     "iopub.status.idle": "2023-09-06T21:39:56.367075Z",
     "shell.execute_reply": "2023-09-06T21:39:56.366927Z"
    },
    "papermill": {
     "duration": 0.018659,
     "end_time": "2023-09-06T21:39:56.367749",
     "exception": false,
     "start_time": "2023-09-06T21:39:56.349090",
     "status": "completed"
    },
    "tags": []
   },
   "outputs": [],
   "source": [
    "input_files = sorted(list(INPUT_DIR.glob(\"*.pkl\")))\n",
    "assert len(input_files) == 54, len(input_files)\n",
    "\n",
    "display(input_files[:5])"
   ]
  },
  {
   "cell_type": "markdown",
   "id": "ce8ea183-c567-42dd-abaf-320a9d0ef482",
   "metadata": {
    "papermill": {
     "duration": 0.014919,
     "end_time": "2023-09-06T21:39:56.397570",
     "exception": false,
     "start_time": "2023-09-06T21:39:56.382651",
     "status": "completed"
    },
    "tags": []
   },
   "source": [
    "## Run"
   ]
  },
  {
   "cell_type": "code",
   "execution_count": null,
   "id": "83685682-4842-44e9-83c1-405365fee395",
   "metadata": {
    "execution": {
     "iopub.execute_input": "2023-09-06T21:39:56.428401Z",
     "iopub.status.busy": "2023-09-06T21:39:56.428299Z",
     "iopub.status.idle": "2023-09-06T21:40:18.297690Z",
     "shell.execute_reply": "2023-09-06T21:40:18.297395Z"
    },
    "papermill": {
     "duration": 21.885907,
     "end_time": "2023-09-06T21:40:18.298458",
     "exception": false,
     "start_time": "2023-09-06T21:39:56.412551",
     "status": "completed"
    },
    "tags": []
   },
   "outputs": [],
   "source": [
    "pbar = tqdm(input_files, ncols=100)\n",
    "\n",
    "for tissue_data_file in pbar:\n",
    "    pbar.set_description(tissue_data_file.stem)\n",
    "\n",
    "    tissue_data = pd.read_pickle(tissue_data_file)\n",
    "\n",
    "    # var_raw\n",
    "    top_genes_var = (\n",
    "        tissue_data.var(axis=1).sort_values(ascending=False)\n",
    "        # .head(N_TOP_GENES_MAX_VARIANCE)\n",
    "    )\n",
    "    selected_tissue_data = tissue_data.loc[top_genes_var.index]\n",
    "\n",
    "    output_filename = f\"{tissue_data_file.stem}-var_raw.pkl\"\n",
    "    selected_tissue_data.to_pickle(path=OUTPUT_DIR / output_filename)\n",
    "\n",
    "    # var_pc_log2\n",
    "    log2_tissue_data = np.log2(tissue_data + 1)\n",
    "\n",
    "    top_genes_var = (\n",
    "        log2_tissue_data.var(axis=1).sort_values(ascending=False)\n",
    "        # .head(N_TOP_GENES_MAX_VARIANCE)\n",
    "    )\n",
    "    # save the same raw data, but with genes selected by var_pc_log2\n",
    "    selected_tissue_data = tissue_data.loc[top_genes_var.index]\n",
    "\n",
    "    output_filename = f\"{tissue_data_file.stem}-var_pc_log2.pkl\"\n",
    "    selected_tissue_data.to_pickle(path=OUTPUT_DIR / output_filename)"
   ]
  },
  {
   "cell_type": "markdown",
   "id": "d8d55d8a",
   "metadata": {},
   "source": [
    "## Check results"
   ]
  },
  {
   "cell_type": "code",
   "execution_count": 9,
   "id": "c2f71b3c",
   "metadata": {},
   "outputs": [],
   "source": [
    "genes = pd.read_pickle(OUTPUT_DIR / \"gtex_v8_data_whole_blood-var_pc_log2.pkl\")"
   ]
  },
  {
   "cell_type": "code",
   "execution_count": null,
   "id": "07d98fbe",
   "metadata": {},
   "outputs": [],
   "source": [
    "genes.shape"
   ]
  }
 ],
 "metadata": {
  "jupytext": {
   "cell_metadata_filter": "all,-execution,-papermill,-trusted"
  },
  "kernelspec": {
   "display_name": "Python 3 (ipykernel)",
   "language": "python",
   "name": "python3"
  },
  "language_info": {
   "codemirror_mode": {
    "name": "ipython",
    "version": 3
   },
   "file_extension": ".py",
   "mimetype": "text/x-python",
   "name": "python",
   "nbconvert_exporter": "python",
   "pygments_lexer": "ipython3",
   "version": "3.10.16"
  },
  "papermill": {
   "default_parameters": {},
   "duration": 144.863491,
   "end_time": "2023-09-06T21:40:25.520372",
   "environment_variables": {},
   "exception": null,
   "input_path": "nbs/05_preprocessing/05-gtex_v8-select_top_genes.ipynb",
   "output_path": "nbs/05_preprocessing/05-gtex_v8-select_top_genes.run.ipynb",
   "parameters": {},
   "start_time": "2023-09-06T21:38:00.656881",
   "version": "2.3.3"
  },
  "toc-autonumbering": true,
  "toc-showcode": false,
  "toc-showmarkdowntxt": false
 },
 "nbformat": 4,
 "nbformat_minor": 5
}
