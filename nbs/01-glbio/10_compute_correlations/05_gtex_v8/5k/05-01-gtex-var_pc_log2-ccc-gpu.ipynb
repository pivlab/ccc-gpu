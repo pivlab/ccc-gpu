{
 "cells": [
  {
   "cell_type": "markdown",
   "id": "e9773a95-e8fd-4963-87a5-0c92299434d5",
   "metadata": {
    "papermill": {
     "duration": 0.006516,
     "end_time": "2023-09-11T18:05:13.539053",
     "exception": false,
     "start_time": "2023-09-11T18:05:13.532537",
     "status": "completed"
    },
    "tags": []
   },
   "source": [
    "# Description"
   ]
  },
  {
   "cell_type": "markdown",
   "id": "57f34c74-404d-4776-b547-e6acb2df75d7",
   "metadata": {
    "papermill": {
     "duration": 0.006613,
     "end_time": "2023-09-11T18:05:13.555696",
     "exception": false,
     "start_time": "2023-09-11T18:05:13.549083",
     "status": "completed"
    },
    "tags": []
   },
   "source": [
    "According to the settings specified below, this notebook:\n",
    " 1. reads all the data from one source (GTEx, recount2, etc) according to the gene selection method (`GENE_SELECTION_STRATEGY`),\n",
    " 2. runs a quick performance test using the correlation coefficient specified (`CORRELATION_METHOD`), and\n",
    " 3. computes the correlation matrix across all the genes using the correlation coefficient specified."
   ]
  },
  {
   "cell_type": "markdown",
   "id": "1d8fae6b-e623-46a6-aff6-d7849163c820",
   "metadata": {
    "papermill": {
     "duration": 0.002465,
     "end_time": "2023-09-11T18:05:13.563935",
     "exception": false,
     "start_time": "2023-09-11T18:05:13.561470",
     "status": "completed"
    },
    "tags": []
   },
   "source": [
    "# Modules"
   ]
  },
  {
   "cell_type": "code",
   "execution_count": 1,
   "id": "76729f0e-f742-495b-b676-d9d7b1539e10",
   "metadata": {
    "execution": {
     "iopub.execute_input": "2023-09-11T18:05:13.568306Z",
     "iopub.status.busy": "2023-09-11T18:05:13.568073Z",
     "iopub.status.idle": "2023-09-11T18:05:13.794807Z",
     "shell.execute_reply": "2023-09-11T18:05:13.794529Z"
    },
    "papermill": {
     "duration": 0.229806,
     "end_time": "2023-09-11T18:05:13.795762",
     "exception": false,
     "start_time": "2023-09-11T18:05:13.565956",
     "status": "completed"
    },
    "tags": []
   },
   "outputs": [],
   "source": [
    "import pandas as pd\n",
    "from time import time\n",
    "from tqdm import tqdm\n",
    "from pathlib import Path\n",
    "\n",
    "from ccc.utils import simplify_string\n",
    "from ccc.corr import ccc_gpu"
   ]
  },
  {
   "cell_type": "markdown",
   "id": "a6c3a546-9a49-45e7-9f17-fbdb5af4bfb6",
   "metadata": {
    "papermill": {
     "duration": 0.002454,
     "end_time": "2023-09-11T18:05:13.799751",
     "exception": false,
     "start_time": "2023-09-11T18:05:13.797297",
     "status": "completed"
    },
    "tags": []
   },
   "source": [
    "# Settings"
   ]
  },
  {
   "cell_type": "code",
   "execution_count": 2,
   "id": "56ff94d3-a230-4028-a71d-518ac109209b",
   "metadata": {
    "execution": {
     "iopub.execute_input": "2023-09-11T18:05:13.804103Z",
     "iopub.status.busy": "2023-09-11T18:05:13.804041Z",
     "iopub.status.idle": "2023-09-11T18:05:13.805599Z",
     "shell.execute_reply": "2023-09-11T18:05:13.805437Z"
    },
    "papermill": {
     "duration": 0.00368,
     "end_time": "2023-09-11T18:05:13.806146",
     "exception": false,
     "start_time": "2023-09-11T18:05:13.802466",
     "status": "completed"
    },
    "tags": []
   },
   "outputs": [],
   "source": [
    "GENE_SELECTION_STRATEGY = \"var_pc_log2\"\n",
    "TOP_N_GENES = \"top_5k\""
   ]
  },
  {
   "cell_type": "code",
   "execution_count": 3,
   "id": "f5433907-5b88-4c68-b3d4-fb98298dec4a",
   "metadata": {
    "execution": {
     "iopub.execute_input": "2023-09-11T18:05:13.809036Z",
     "iopub.status.busy": "2023-09-11T18:05:13.808985Z",
     "iopub.status.idle": "2023-09-11T18:05:13.810326Z",
     "shell.execute_reply": "2023-09-11T18:05:13.810192Z"
    },
    "papermill": {
     "duration": 0.003461,
     "end_time": "2023-09-11T18:05:13.810917",
     "exception": false,
     "start_time": "2023-09-11T18:05:13.807456",
     "status": "completed"
    },
    "tags": []
   },
   "outputs": [],
   "source": [
    "# select the top 5 tissues (according to sample size, see nbs/05_preprocessing/00-gtex_v8-split_by_tissue.ipynb)\n",
    "TISSUES = [\n",
    "    # \"Muscle - Skeletal\",\n",
    "    \"Whole Blood\",\n",
    "    # \"Skin - Sun Exposed (Lower leg)\",\n",
    "    # \"Adipose - Subcutaneous\",\n",
    "    # \"Artery - Tibial\",\n",
    "]"
   ]
  },
  {
   "cell_type": "code",
   "execution_count": 4,
   "id": "8fd0656d-e9cc-410b-baa9-96b57538c4c1",
   "metadata": {
    "execution": {
     "iopub.execute_input": "2023-09-11T18:05:13.813928Z",
     "iopub.status.busy": "2023-09-11T18:05:13.813873Z",
     "iopub.status.idle": "2023-09-11T18:05:13.817985Z",
     "shell.execute_reply": "2023-09-11T18:05:13.817777Z"
    },
    "papermill": {
     "duration": 0.006455,
     "end_time": "2023-09-11T18:05:13.818699",
     "exception": false,
     "start_time": "2023-09-11T18:05:13.812244",
     "status": "completed"
    },
    "tags": []
   },
   "outputs": [],
   "source": [
    "N_CPU_CORE = 24"
   ]
  },
  {
   "cell_type": "code",
   "execution_count": 5,
   "id": "8baf4209-ba56-4e3d-b60f-6ce2bb686159",
   "metadata": {
    "execution": {
     "iopub.execute_input": "2023-09-11T18:05:13.823726Z",
     "iopub.status.busy": "2023-09-11T18:05:13.823634Z",
     "iopub.status.idle": "2023-09-11T18:05:13.825810Z",
     "shell.execute_reply": "2023-09-11T18:05:13.825637Z"
    },
    "papermill": {
     "duration": 0.005443,
     "end_time": "2023-09-11T18:05:13.826528",
     "exception": false,
     "start_time": "2023-09-11T18:05:13.821085",
     "status": "completed"
    },
    "tags": []
   },
   "outputs": [
    {
     "data": {
      "text/plain": [
       "'ccc_gpu'"
      ]
     },
     "metadata": {},
     "output_type": "display_data"
    }
   ],
   "source": [
    "CORRELATION_METHOD = lambda x: ccc_gpu(x, n_jobs=N_CPU_CORE)\n",
    "CORRELATION_METHOD.__name__ = \"ccc_gpu\"\n",
    "\n",
    "method_name = CORRELATION_METHOD.__name__\n",
    "display(method_name)"
   ]
  },
  {
   "cell_type": "code",
   "execution_count": 6,
   "id": "6c57edd3",
   "metadata": {},
   "outputs": [],
   "source": [
    "BENCHMARK_N_TOP_GENE = 5000"
   ]
  },
  {
   "cell_type": "markdown",
   "id": "b0afcba9-5847-414e-b448-f0cd08ecd8ce",
   "metadata": {
    "papermill": {
     "duration": 0.001311,
     "end_time": "2023-09-11T18:05:13.834677",
     "exception": false,
     "start_time": "2023-09-11T18:05:13.833366",
     "status": "completed"
    },
    "tags": []
   },
   "source": [
    "# Paths"
   ]
  },
  {
   "cell_type": "code",
   "execution_count": 7,
   "id": "35760114-8560-4a0e-ad4f-2bee9104c63d",
   "metadata": {
    "execution": {
     "iopub.execute_input": "2023-09-11T18:05:13.837691Z",
     "iopub.status.busy": "2023-09-11T18:05:13.837611Z",
     "iopub.status.idle": "2023-09-11T18:05:13.839514Z",
     "shell.execute_reply": "2023-09-11T18:05:13.839392Z"
    },
    "papermill": {
     "duration": 0.003867,
     "end_time": "2023-09-11T18:05:13.839907",
     "exception": false,
     "start_time": "2023-09-11T18:05:13.836040",
     "status": "completed"
    },
    "tags": []
   },
   "outputs": [
    {
     "data": {
      "text/plain": [
       "PosixPath('/mnt/data/proj_data/ccc-gpu/gene_expr/data/gtex_v8/gene_selection/all')"
      ]
     },
     "metadata": {},
     "output_type": "display_data"
    }
   ],
   "source": [
    "DATA_DIR = Path(\"/mnt/data/proj_data/ccc-gpu/gene_expr/data/gtex_v8\")\n",
    "INPUT_DIR = DATA_DIR / \"gene_selection\" / \"all\"\n",
    "display(INPUT_DIR)\n",
    "\n",
    "assert INPUT_DIR.exists()"
   ]
  },
  {
   "cell_type": "code",
   "execution_count": 8,
   "id": "f1418e81-4e77-4f67-b5ed-b29b797e31a0",
   "metadata": {
    "execution": {
     "iopub.execute_input": "2023-09-11T18:05:13.842890Z",
     "iopub.status.busy": "2023-09-11T18:05:13.842827Z",
     "iopub.status.idle": "2023-09-11T18:05:13.844407Z",
     "shell.execute_reply": "2023-09-11T18:05:13.844286Z"
    },
    "papermill": {
     "duration": 0.003502,
     "end_time": "2023-09-11T18:05:13.844791",
     "exception": false,
     "start_time": "2023-09-11T18:05:13.841289",
     "status": "completed"
    },
    "tags": []
   },
   "outputs": [
    {
     "data": {
      "text/plain": [
       "PosixPath('/mnt/data/proj_data/ccc-gpu/gene_expr/data/gtex_v8/similarity_matrices/top_5k')"
      ]
     },
     "metadata": {},
     "output_type": "display_data"
    }
   ],
   "source": [
    "OUTPUT_DIR = DATA_DIR / \"similarity_matrices\" / TOP_N_GENES\n",
    "OUTPUT_DIR.mkdir(parents=True, exist_ok=True)\n",
    "display(OUTPUT_DIR)"
   ]
  },
  {
   "cell_type": "markdown",
   "id": "5fdf8df6-eba0-4cf5-979c-3acd56a5ef3c",
   "metadata": {
    "papermill": {
     "duration": 0.001374,
     "end_time": "2023-09-11T18:05:13.847585",
     "exception": false,
     "start_time": "2023-09-11T18:05:13.846211",
     "status": "completed"
    },
    "tags": []
   },
   "source": [
    "# Data loading"
   ]
  },
  {
   "cell_type": "code",
   "execution_count": 9,
   "id": "74c76939-14b3-4e41-9e18-24c8176d2168",
   "metadata": {
    "execution": {
     "iopub.execute_input": "2023-09-11T18:05:13.850648Z",
     "iopub.status.busy": "2023-09-11T18:05:13.850541Z",
     "iopub.status.idle": "2023-09-11T18:05:13.851783Z",
     "shell.execute_reply": "2023-09-11T18:05:13.851659Z"
    },
    "papermill": {
     "duration": 0.003167,
     "end_time": "2023-09-11T18:05:13.852158",
     "exception": false,
     "start_time": "2023-09-11T18:05:13.848991",
     "status": "completed"
    },
    "tags": []
   },
   "outputs": [],
   "source": [
    "tissue_in_file_names = [f\"_data_{simplify_string(t.lower())}-\" for t in TISSUES]"
   ]
  },
  {
   "cell_type": "code",
   "execution_count": 10,
   "id": "596d25ed-4120-4bef-8984-a91ae6529ab5",
   "metadata": {
    "execution": {
     "iopub.execute_input": "2023-09-11T18:05:13.855297Z",
     "iopub.status.busy": "2023-09-11T18:05:13.855189Z",
     "iopub.status.idle": "2023-09-11T18:05:13.857664Z",
     "shell.execute_reply": "2023-09-11T18:05:13.857537Z"
    },
    "papermill": {
     "duration": 0.004456,
     "end_time": "2023-09-11T18:05:13.858052",
     "exception": false,
     "start_time": "2023-09-11T18:05:13.853596",
     "status": "completed"
    },
    "tags": []
   },
   "outputs": [
    {
     "data": {
      "text/plain": [
       "1"
      ]
     },
     "metadata": {},
     "output_type": "display_data"
    },
    {
     "data": {
      "text/plain": [
       "[PosixPath('/mnt/data/proj_data/ccc-gpu/gene_expr/data/gtex_v8/gene_selection/all/gtex_v8_data_whole_blood-var_pc_log2.pkl')]"
      ]
     },
     "metadata": {},
     "output_type": "display_data"
    }
   ],
   "source": [
    "input_files = sorted(list(INPUT_DIR.glob(f\"*-{GENE_SELECTION_STRATEGY}.pkl\")))\n",
    "input_files = [\n",
    "    f for f in input_files if any(tn in f.name for tn in tissue_in_file_names)\n",
    "]\n",
    "display(len(input_files))\n",
    "\n",
    "assert len(input_files) == len(TISSUES), len(TISSUES)\n",
    "display(input_files)"
   ]
  },
  {
   "cell_type": "markdown",
   "id": "081da632-fd12-462a-9ae1-c0ceccf1bb5d",
   "metadata": {
    "papermill": {
     "duration": 0.001446,
     "end_time": "2023-09-11T18:05:13.860962",
     "exception": false,
     "start_time": "2023-09-11T18:05:13.859516",
     "status": "completed"
    },
    "tags": []
   },
   "source": [
    "# Compute similarity"
   ]
  },
  {
   "cell_type": "markdown",
   "id": "37137fff-2d3a-43d8-9bd5-d7c3284a97f5",
   "metadata": {
    "papermill": {
     "duration": 0.001422,
     "end_time": "2023-09-11T18:05:13.863855",
     "exception": false,
     "start_time": "2023-09-11T18:05:13.862433",
     "status": "completed"
    },
    "tags": []
   },
   "source": [
    "## Performance test"
   ]
  },
  {
   "cell_type": "code",
   "execution_count": 12,
   "id": "5dd40707-759f-4bf9-b8cc-84811b2dfe53",
   "metadata": {
    "execution": {
     "iopub.execute_input": "2023-09-11T18:05:13.866987Z",
     "iopub.status.busy": "2023-09-11T18:05:13.866901Z",
     "iopub.status.idle": "2023-09-11T18:05:13.877650Z",
     "shell.execute_reply": "2023-09-11T18:05:13.877479Z"
    },
    "papermill": {
     "duration": 0.012963,
     "end_time": "2023-09-11T18:05:13.878275",
     "exception": false,
     "start_time": "2023-09-11T18:05:13.865312",
     "status": "completed"
    },
    "tags": []
   },
   "outputs": [
    {
     "data": {
      "text/plain": [
       "PosixPath('/mnt/data/proj_data/ccc-gpu/gene_expr/data/gtex_v8/gene_selection/all/gtex_v8_data_whole_blood-var_pc_log2.pkl')"
      ]
     },
     "metadata": {},
     "output_type": "display_data"
    }
   ],
   "source": [
    "display(input_files[0])\n",
    "test_data = pd.read_pickle(input_files[0])"
   ]
  },
  {
   "cell_type": "code",
   "execution_count": 13,
   "id": "e8acd036-93f7-46c0-a1ee-8da0c2c24790",
   "metadata": {
    "execution": {
     "iopub.execute_input": "2023-09-11T18:05:13.881593Z",
     "iopub.status.busy": "2023-09-11T18:05:13.881492Z",
     "iopub.status.idle": "2023-09-11T18:05:13.882957Z",
     "shell.execute_reply": "2023-09-11T18:05:13.882838Z"
    },
    "papermill": {
     "duration": 0.003623,
     "end_time": "2023-09-11T18:05:13.883452",
     "exception": false,
     "start_time": "2023-09-11T18:05:13.879829",
     "status": "completed"
    },
    "tags": []
   },
   "outputs": [
    {
     "data": {
      "text/plain": [
       "(56200, 755)"
      ]
     },
     "execution_count": 13,
     "metadata": {},
     "output_type": "execute_result"
    }
   ],
   "source": [
    "test_data.shape"
   ]
  },
  {
   "cell_type": "markdown",
   "id": "5903f3f5-791e-4f03-9d79-600102933d04",
   "metadata": {
    "papermill": {
     "duration": 0.00156,
     "end_time": "2023-09-11T18:05:13.897577",
     "exception": false,
     "start_time": "2023-09-11T18:05:13.896017",
     "status": "completed"
    },
    "tags": []
   },
   "source": [
    "This is a quick performance test of the correlation measure. The following line (`_tmp = ...`) is the setup code, which is needed in case the correlation method was optimized using `numba` and needs to be compiled before performing the test."
   ]
  },
  {
   "cell_type": "markdown",
   "id": "fc2f7184-c0da-438c-94f5-002912793636",
   "metadata": {
    "papermill": {
     "duration": 0.009897,
     "end_time": "2023-09-11T18:05:23.572872",
     "exception": false,
     "start_time": "2023-09-11T18:05:23.562975",
     "status": "completed"
    },
    "tags": []
   },
   "source": [
    "## Run"
   ]
  },
  {
   "cell_type": "code",
   "execution_count": 15,
   "id": "1237ae45-d4fc-4074-bfc7-a1de75aeea48",
   "metadata": {
    "execution": {
     "iopub.execute_input": "2023-09-11T18:05:23.582378Z",
     "iopub.status.busy": "2023-09-11T18:05:23.581833Z",
     "iopub.status.idle": "2023-09-11T18:11:08.455694Z",
     "shell.execute_reply": "2023-09-11T18:11:08.455420Z"
    },
    "papermill": {
     "duration": 344.879468,
     "end_time": "2023-09-11T18:11:08.456515",
     "exception": false,
     "start_time": "2023-09-11T18:05:23.577047",
     "status": "completed"
    },
    "tags": []
   },
   "outputs": [
    {
     "name": "stderr",
     "output_type": "stream",
     "text": [
      "gtex_v8_data_whole_blood-var_pc_log2:   0%|                                   | 0/1 [00:00<?, ?it/s]"
     ]
    },
    {
     "data": {
      "text/plain": [
       "11.180723428726196"
      ]
     },
     "metadata": {},
     "output_type": "display_data"
    },
    {
     "name": "stderr",
     "output_type": "stream",
     "text": [
      "gtex_v8_data_whole_blood-var_pc_log2: 100%|███████████████████████████| 1/1 [00:11<00:00, 11.34s/it]\n"
     ]
    }
   ],
   "source": [
    "pbar = tqdm(input_files, ncols=100)\n",
    "\n",
    "for tissue_data_file in pbar:\n",
    "    pbar.set_description(tissue_data_file.stem)\n",
    "\n",
    "    # read\n",
    "    data = pd.read_pickle(tissue_data_file)\n",
    "    data = data.iloc[:BENCHMARK_N_TOP_GENE]\n",
    "    # compute correlations\n",
    "    start_time = time()\n",
    "\n",
    "    data_corrs = CORRELATION_METHOD(data)\n",
    "\n",
    "    end_time = time()\n",
    "    elapsed_time = end_time - start_time\n",
    "    display(elapsed_time)\n",
    "\n",
    "    # save\n",
    "    output_filename = f\"{tissue_data_file.stem}-{method_name}.pkl\"\n",
    "    data_corrs.to_pickle(path=OUTPUT_DIR / output_filename)"
   ]
  }
 ],
 "metadata": {
  "jupytext": {
   "cell_metadata_filter": "all,-execution,-papermill,-trusted",
   "notebook_metadata_filter": "-jupytext.text_representation.jupytext_version"
  },
  "kernelspec": {
   "display_name": "Python 3 (ipykernel)",
   "language": "python",
   "name": "python3"
  },
  "language_info": {
   "codemirror_mode": {
    "name": "ipython",
    "version": 3
   },
   "file_extension": ".py",
   "mimetype": "text/x-python",
   "name": "python",
   "nbconvert_exporter": "python",
   "pygments_lexer": "ipython3",
   "version": "3.10.16"
  },
  "papermill": {
   "default_parameters": {},
   "duration": 355.93018,
   "end_time": "2023-09-11T18:11:08.799026",
   "environment_variables": {},
   "exception": null,
   "input_path": "nbs/10_compute_correlations/05_gtex_v8/07_01-gtex-var_pc_log2-ccc.ipynb",
   "output_path": "nbs/10_compute_correlations/05_gtex_v8/07_01-gtex-var_pc_log2-ccc.run.ipynb",
   "parameters": {},
   "start_time": "2023-09-11T18:05:12.868846",
   "version": "2.3.3"
  }
 },
 "nbformat": 4,
 "nbformat_minor": 5
}
