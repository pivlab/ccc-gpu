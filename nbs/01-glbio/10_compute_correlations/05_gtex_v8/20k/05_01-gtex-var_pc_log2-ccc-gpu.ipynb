{
 "cells": [
  {
   "cell_type": "markdown",
   "id": "e9773a95-e8fd-4963-87a5-0c92299434d5",
   "metadata": {
    "papermill": {
     "duration": 0.002203,
     "end_time": "2025-05-01T17:53:33.146045",
     "exception": false,
     "start_time": "2025-05-01T17:53:33.143842",
     "status": "completed"
    },
    "tags": []
   },
   "source": [
    "# Description"
   ]
  },
  {
   "cell_type": "markdown",
   "id": "57f34c74-404d-4776-b547-e6acb2df75d7",
   "metadata": {
    "papermill": {
     "duration": 0.001684,
     "end_time": "2025-05-01T17:53:33.149582",
     "exception": false,
     "start_time": "2025-05-01T17:53:33.147898",
     "status": "completed"
    },
    "tags": []
   },
   "source": [
    "According to the settings specified below, this notebook:\n",
    " 1. reads all the data from one source (GTEx, recount2, etc) according to the gene selection method (`GENE_SELECTION_STRATEGY`),\n",
    " 2. runs a quick performance test using the correlation coefficient specified (`CORRELATION_METHOD`), and\n",
    " 3. computes the correlation matrix across all the genes using the correlation coefficient specified."
   ]
  },
  {
   "cell_type": "markdown",
   "id": "1d8fae6b-e623-46a6-aff6-d7849163c820",
   "metadata": {
    "papermill": {
     "duration": 0.001653,
     "end_time": "2025-05-01T17:53:33.153005",
     "exception": false,
     "start_time": "2025-05-01T17:53:33.151352",
     "status": "completed"
    },
    "tags": []
   },
   "source": [
    "# Modules"
   ]
  },
  {
   "cell_type": "code",
   "execution_count": 1,
   "id": "76729f0e-f742-495b-b676-d9d7b1539e10",
   "metadata": {
    "execution": {
     "iopub.execute_input": "2025-05-01T17:53:33.157438Z",
     "iopub.status.busy": "2025-05-01T17:53:33.157251Z",
     "iopub.status.idle": "2025-05-01T17:53:33.541156Z",
     "shell.execute_reply": "2025-05-01T17:53:33.540772Z"
    },
    "papermill": {
     "duration": 0.387919,
     "end_time": "2025-05-01T17:53:33.542663",
     "exception": false,
     "start_time": "2025-05-01T17:53:33.154744",
     "status": "completed"
    },
    "tags": []
   },
   "outputs": [],
   "source": [
    "import pandas as pd\n",
    "from time import time\n",
    "from tqdm import tqdm\n",
    "from pathlib import Path\n",
    "\n",
    "from ccc.utils import simplify_string\n",
    "from ccc.corr import ccc_gpu"
   ]
  },
  {
   "cell_type": "markdown",
   "id": "a6c3a546-9a49-45e7-9f17-fbdb5af4bfb6",
   "metadata": {
    "papermill": {
     "duration": 0.001483,
     "end_time": "2025-05-01T17:53:33.545823",
     "exception": false,
     "start_time": "2025-05-01T17:53:33.544340",
     "status": "completed"
    },
    "tags": []
   },
   "source": [
    "# Settings"
   ]
  },
  {
   "cell_type": "code",
   "execution_count": 2,
   "id": "56ff94d3-a230-4028-a71d-518ac109209b",
   "metadata": {
    "execution": {
     "iopub.execute_input": "2025-05-01T17:53:33.550311Z",
     "iopub.status.busy": "2025-05-01T17:53:33.550233Z",
     "iopub.status.idle": "2025-05-01T17:53:33.552268Z",
     "shell.execute_reply": "2025-05-01T17:53:33.552011Z"
    },
    "papermill": {
     "duration": 0.005357,
     "end_time": "2025-05-01T17:53:33.552871",
     "exception": false,
     "start_time": "2025-05-01T17:53:33.547514",
     "status": "completed"
    },
    "tags": []
   },
   "outputs": [],
   "source": [
    "GENE_SELECTION_STRATEGY = \"var_pc_log2\""
   ]
  },
  {
   "cell_type": "code",
   "execution_count": 3,
   "id": "f5433907-5b88-4c68-b3d4-fb98298dec4a",
   "metadata": {
    "execution": {
     "iopub.execute_input": "2025-05-01T17:53:33.556802Z",
     "iopub.status.busy": "2025-05-01T17:53:33.556572Z",
     "iopub.status.idle": "2025-05-01T17:53:33.558286Z",
     "shell.execute_reply": "2025-05-01T17:53:33.558016Z"
    },
    "papermill": {
     "duration": 0.004249,
     "end_time": "2025-05-01T17:53:33.558799",
     "exception": false,
     "start_time": "2025-05-01T17:53:33.554550",
     "status": "completed"
    },
    "tags": []
   },
   "outputs": [],
   "source": [
    "# select the top 5 tissues (according to sample size, see nbs/05_preprocessing/00-gtex_v8-split_by_tissue.ipynb)\n",
    "TISSUES = [\n",
    "    # \"Muscle - Skeletal\",\n",
    "    \"Whole Blood\",\n",
    "    # \"Skin - Sun Exposed (Lower leg)\",\n",
    "    # \"Adipose - Subcutaneous\",\n",
    "    # \"Artery - Tibial\",\n",
    "]"
   ]
  },
  {
   "cell_type": "code",
   "execution_count": 4,
   "id": "8fd0656d-e9cc-410b-baa9-96b57538c4c1",
   "metadata": {
    "execution": {
     "iopub.execute_input": "2025-05-01T17:53:33.562535Z",
     "iopub.status.busy": "2025-05-01T17:53:33.562387Z",
     "iopub.status.idle": "2025-05-01T17:53:33.563922Z",
     "shell.execute_reply": "2025-05-01T17:53:33.563668Z"
    },
    "papermill": {
     "duration": 0.003961,
     "end_time": "2025-05-01T17:53:33.564407",
     "exception": false,
     "start_time": "2025-05-01T17:53:33.560446",
     "status": "completed"
    },
    "tags": []
   },
   "outputs": [],
   "source": [
    "N_CPU_CORE = 24"
   ]
  },
  {
   "cell_type": "code",
   "execution_count": 5,
   "id": "8baf4209-ba56-4e3d-b60f-6ce2bb686159",
   "metadata": {
    "execution": {
     "iopub.execute_input": "2025-05-01T17:53:33.568164Z",
     "iopub.status.busy": "2025-05-01T17:53:33.567972Z",
     "iopub.status.idle": "2025-05-01T17:53:33.571250Z",
     "shell.execute_reply": "2025-05-01T17:53:33.570912Z"
    },
    "papermill": {
     "duration": 0.00585,
     "end_time": "2025-05-01T17:53:33.571924",
     "exception": false,
     "start_time": "2025-05-01T17:53:33.566074",
     "status": "completed"
    },
    "tags": []
   },
   "outputs": [
    {
     "data": {
      "text/plain": [
       "'ccc_gpu'"
      ]
     },
     "metadata": {},
     "output_type": "display_data"
    }
   ],
   "source": [
    "CORRELATION_METHOD = lambda x: ccc_gpu(x, n_jobs=N_CPU_CORE)\n",
    "CORRELATION_METHOD.__name__ = \"ccc_gpu\"\n",
    "\n",
    "method_name = CORRELATION_METHOD.__name__\n",
    "display(method_name)"
   ]
  },
  {
   "cell_type": "markdown",
   "id": "b0afcba9-5847-414e-b448-f0cd08ecd8ce",
   "metadata": {
    "papermill": {
     "duration": 0.001634,
     "end_time": "2025-05-01T17:53:33.575274",
     "exception": false,
     "start_time": "2025-05-01T17:53:33.573640",
     "status": "completed"
    },
    "tags": []
   },
   "source": [
    "# Paths"
   ]
  },
  {
   "cell_type": "code",
   "execution_count": 6,
   "id": "35760114-8560-4a0e-ad4f-2bee9104c63d",
   "metadata": {
    "execution": {
     "iopub.execute_input": "2025-05-01T17:53:33.579808Z",
     "iopub.status.busy": "2025-05-01T17:53:33.579737Z",
     "iopub.status.idle": "2025-05-01T17:53:33.582175Z",
     "shell.execute_reply": "2025-05-01T17:53:33.581912Z"
    },
    "papermill": {
     "duration": 0.005732,
     "end_time": "2025-05-01T17:53:33.582712",
     "exception": false,
     "start_time": "2025-05-01T17:53:33.576980",
     "status": "completed"
    },
    "tags": []
   },
   "outputs": [
    {
     "data": {
      "text/plain": [
       "PosixPath('/mnt/data/proj_data/ccc-gpu/gene_expr/data/gtex_v8/gene_selection/top_20k')"
      ]
     },
     "metadata": {},
     "output_type": "display_data"
    }
   ],
   "source": [
    "DATA_DIR = Path(\"/mnt/data/proj_data/ccc-gpu/gene_expr/data/gtex_v8\")\n",
    "INPUT_DIR = DATA_DIR / \"gene_selection\" / \"top_20k\"\n",
    "display(INPUT_DIR)\n",
    "\n",
    "assert INPUT_DIR.exists()"
   ]
  },
  {
   "cell_type": "code",
   "execution_count": 7,
   "id": "f1418e81-4e77-4f67-b5ed-b29b797e31a0",
   "metadata": {
    "execution": {
     "iopub.execute_input": "2025-05-01T17:53:33.586573Z",
     "iopub.status.busy": "2025-05-01T17:53:33.586504Z",
     "iopub.status.idle": "2025-05-01T17:53:33.588838Z",
     "shell.execute_reply": "2025-05-01T17:53:33.588587Z"
    },
    "papermill": {
     "duration": 0.004881,
     "end_time": "2025-05-01T17:53:33.589326",
     "exception": false,
     "start_time": "2025-05-01T17:53:33.584445",
     "status": "completed"
    },
    "tags": []
   },
   "outputs": [
    {
     "data": {
      "text/plain": [
       "PosixPath('/mnt/data/proj_data/ccc-gpu/gene_expr/data/gtex_v8/similarity_matrices/top_20k')"
      ]
     },
     "metadata": {},
     "output_type": "display_data"
    }
   ],
   "source": [
    "OUTPUT_DIR = DATA_DIR / \"similarity_matrices\" / \"top_20k\"\n",
    "OUTPUT_DIR.mkdir(parents=True, exist_ok=True)\n",
    "display(OUTPUT_DIR)"
   ]
  },
  {
   "cell_type": "markdown",
   "id": "5fdf8df6-eba0-4cf5-979c-3acd56a5ef3c",
   "metadata": {
    "papermill": {
     "duration": 0.001692,
     "end_time": "2025-05-01T17:53:33.592712",
     "exception": false,
     "start_time": "2025-05-01T17:53:33.591020",
     "status": "completed"
    },
    "tags": []
   },
   "source": [
    "# Data loading"
   ]
  },
  {
   "cell_type": "code",
   "execution_count": 8,
   "id": "74c76939-14b3-4e41-9e18-24c8176d2168",
   "metadata": {
    "execution": {
     "iopub.execute_input": "2025-05-01T17:53:33.596803Z",
     "iopub.status.busy": "2025-05-01T17:53:33.596742Z",
     "iopub.status.idle": "2025-05-01T17:53:33.598483Z",
     "shell.execute_reply": "2025-05-01T17:53:33.598239Z"
    },
    "papermill": {
     "duration": 0.00499,
     "end_time": "2025-05-01T17:53:33.599460",
     "exception": false,
     "start_time": "2025-05-01T17:53:33.594470",
     "status": "completed"
    },
    "tags": []
   },
   "outputs": [],
   "source": [
    "tissue_in_file_names = [f\"_data_{simplify_string(t.lower())}-\" for t in TISSUES]"
   ]
  },
  {
   "cell_type": "code",
   "execution_count": 9,
   "id": "596d25ed-4120-4bef-8984-a91ae6529ab5",
   "metadata": {
    "execution": {
     "iopub.execute_input": "2025-05-01T17:53:33.603902Z",
     "iopub.status.busy": "2025-05-01T17:53:33.603785Z",
     "iopub.status.idle": "2025-05-01T17:53:33.607011Z",
     "shell.execute_reply": "2025-05-01T17:53:33.606762Z"
    },
    "papermill": {
     "duration": 0.00634,
     "end_time": "2025-05-01T17:53:33.607560",
     "exception": false,
     "start_time": "2025-05-01T17:53:33.601220",
     "status": "completed"
    },
    "tags": []
   },
   "outputs": [
    {
     "data": {
      "text/plain": [
       "1"
      ]
     },
     "metadata": {},
     "output_type": "display_data"
    },
    {
     "data": {
      "text/plain": [
       "[PosixPath('/mnt/data/proj_data/ccc-gpu/gene_expr/data/gtex_v8/gene_selection/top_20k/gtex_v8_data_whole_blood-var_pc_log2.pkl')]"
      ]
     },
     "metadata": {},
     "output_type": "display_data"
    }
   ],
   "source": [
    "input_files = sorted(list(INPUT_DIR.glob(f\"*-{GENE_SELECTION_STRATEGY}.pkl\")))\n",
    "input_files = [\n",
    "    f for f in input_files if any(tn in f.name for tn in tissue_in_file_names)\n",
    "]\n",
    "display(len(input_files))\n",
    "\n",
    "assert len(input_files) == len(TISSUES), len(TISSUES)\n",
    "display(input_files)"
   ]
  },
  {
   "cell_type": "markdown",
   "id": "081da632-fd12-462a-9ae1-c0ceccf1bb5d",
   "metadata": {
    "papermill": {
     "duration": 0.001828,
     "end_time": "2025-05-01T17:53:33.611188",
     "exception": false,
     "start_time": "2025-05-01T17:53:33.609360",
     "status": "completed"
    },
    "tags": []
   },
   "source": [
    "# Compute similarity"
   ]
  },
  {
   "cell_type": "markdown",
   "id": "37137fff-2d3a-43d8-9bd5-d7c3284a97f5",
   "metadata": {
    "papermill": {
     "duration": 0.001749,
     "end_time": "2025-05-01T17:53:33.614786",
     "exception": false,
     "start_time": "2025-05-01T17:53:33.613037",
     "status": "completed"
    },
    "tags": []
   },
   "source": [
    "## Performance test"
   ]
  },
  {
   "cell_type": "code",
   "execution_count": 10,
   "id": "5dd40707-759f-4bf9-b8cc-84811b2dfe53",
   "metadata": {
    "execution": {
     "iopub.execute_input": "2025-05-01T17:53:33.618909Z",
     "iopub.status.busy": "2025-05-01T17:53:33.618770Z",
     "iopub.status.idle": "2025-05-01T17:53:33.987142Z",
     "shell.execute_reply": "2025-05-01T17:53:33.986741Z"
    },
    "papermill": {
     "duration": 0.372033,
     "end_time": "2025-05-01T17:53:33.988580",
     "exception": false,
     "start_time": "2025-05-01T17:53:33.616547",
     "status": "completed"
    },
    "tags": []
   },
   "outputs": [
    {
     "data": {
      "text/plain": [
       "PosixPath('/mnt/data/proj_data/ccc-gpu/gene_expr/data/gtex_v8/gene_selection/top_20k/gtex_v8_data_whole_blood-var_pc_log2.pkl')"
      ]
     },
     "metadata": {},
     "output_type": "display_data"
    }
   ],
   "source": [
    "display(input_files[0])\n",
    "test_data = pd.read_pickle(input_files[0])"
   ]
  },
  {
   "cell_type": "code",
   "execution_count": 11,
   "id": "e8acd036-93f7-46c0-a1ee-8da0c2c24790",
   "metadata": {
    "execution": {
     "iopub.execute_input": "2025-05-01T17:53:33.993439Z",
     "iopub.status.busy": "2025-05-01T17:53:33.993236Z",
     "iopub.status.idle": "2025-05-01T17:53:33.995671Z",
     "shell.execute_reply": "2025-05-01T17:53:33.995423Z"
    },
    "papermill": {
     "duration": 0.005672,
     "end_time": "2025-05-01T17:53:33.996289",
     "exception": false,
     "start_time": "2025-05-01T17:53:33.990617",
     "status": "completed"
    },
    "tags": []
   },
   "outputs": [
    {
     "data": {
      "text/plain": [
       "(20000, 755)"
      ]
     },
     "execution_count": 11,
     "metadata": {},
     "output_type": "execute_result"
    }
   ],
   "source": [
    "test_data.shape"
   ]
  },
  {
   "cell_type": "code",
   "execution_count": 12,
   "id": "111e360b-dbe4-4b69-9029-7b7669eb5ddc",
   "metadata": {
    "execution": {
     "iopub.execute_input": "2025-05-01T17:53:34.000539Z",
     "iopub.status.busy": "2025-05-01T17:53:34.000381Z",
     "iopub.status.idle": "2025-05-01T17:53:34.009135Z",
     "shell.execute_reply": "2025-05-01T17:53:34.008883Z"
    },
    "papermill": {
     "duration": 0.011676,
     "end_time": "2025-05-01T17:53:34.009765",
     "exception": false,
     "start_time": "2025-05-01T17:53:33.998089",
     "status": "completed"
    },
    "tags": []
   },
   "outputs": [
    {
     "data": {
      "text/html": [
       "<div>\n",
       "<style scoped>\n",
       "    .dataframe tbody tr th:only-of-type {\n",
       "        vertical-align: middle;\n",
       "    }\n",
       "\n",
       "    .dataframe tbody tr th {\n",
       "        vertical-align: top;\n",
       "    }\n",
       "\n",
       "    .dataframe thead th {\n",
       "        text-align: right;\n",
       "    }\n",
       "</style>\n",
       "<table border=\"1\" class=\"dataframe\">\n",
       "  <thead>\n",
       "    <tr style=\"text-align: right;\">\n",
       "      <th></th>\n",
       "      <th>GTEX-111YS-0006-SM-5NQBE</th>\n",
       "      <th>GTEX-1122O-0005-SM-5O99J</th>\n",
       "      <th>GTEX-1128S-0005-SM-5P9HI</th>\n",
       "      <th>GTEX-113IC-0006-SM-5NQ9C</th>\n",
       "      <th>GTEX-113JC-0006-SM-5O997</th>\n",
       "      <th>GTEX-117XS-0005-SM-5PNU6</th>\n",
       "      <th>GTEX-117YW-0005-SM-5NQ8Z</th>\n",
       "      <th>GTEX-1192W-0005-SM-5NQBQ</th>\n",
       "      <th>GTEX-1192X-0005-SM-5NQC3</th>\n",
       "      <th>GTEX-11DXW-0006-SM-5NQ7Y</th>\n",
       "      <th>...</th>\n",
       "      <th>GTEX-ZVE2-0006-SM-51MRW</th>\n",
       "      <th>GTEX-ZVP2-0005-SM-51MRK</th>\n",
       "      <th>GTEX-ZVT2-0005-SM-57WBW</th>\n",
       "      <th>GTEX-ZVT3-0006-SM-51MT9</th>\n",
       "      <th>GTEX-ZVT4-0006-SM-57WB8</th>\n",
       "      <th>GTEX-ZVTK-0006-SM-57WBK</th>\n",
       "      <th>GTEX-ZVZP-0006-SM-51MSW</th>\n",
       "      <th>GTEX-ZVZQ-0006-SM-51MR8</th>\n",
       "      <th>GTEX-ZXES-0005-SM-57WCB</th>\n",
       "      <th>GTEX-ZXG5-0005-SM-57WCN</th>\n",
       "    </tr>\n",
       "    <tr>\n",
       "      <th>gene_ens_id</th>\n",
       "      <th></th>\n",
       "      <th></th>\n",
       "      <th></th>\n",
       "      <th></th>\n",
       "      <th></th>\n",
       "      <th></th>\n",
       "      <th></th>\n",
       "      <th></th>\n",
       "      <th></th>\n",
       "      <th></th>\n",
       "      <th></th>\n",
       "      <th></th>\n",
       "      <th></th>\n",
       "      <th></th>\n",
       "      <th></th>\n",
       "      <th></th>\n",
       "      <th></th>\n",
       "      <th></th>\n",
       "      <th></th>\n",
       "      <th></th>\n",
       "      <th></th>\n",
       "    </tr>\n",
       "  </thead>\n",
       "  <tbody>\n",
       "    <tr>\n",
       "      <th>ENSG00000169429.10</th>\n",
       "      <td>0.5623</td>\n",
       "      <td>0.8067</td>\n",
       "      <td>116.90000</td>\n",
       "      <td>4.047</td>\n",
       "      <td>211.0</td>\n",
       "      <td>58.110</td>\n",
       "      <td>68.38</td>\n",
       "      <td>249.50</td>\n",
       "      <td>5.095</td>\n",
       "      <td>295.9</td>\n",
       "      <td>...</td>\n",
       "      <td>39.960</td>\n",
       "      <td>0.1393</td>\n",
       "      <td>0.22380</td>\n",
       "      <td>245.0</td>\n",
       "      <td>513.6</td>\n",
       "      <td>1626.00</td>\n",
       "      <td>0.5633</td>\n",
       "      <td>515.70</td>\n",
       "      <td>1.19400</td>\n",
       "      <td>1163.00</td>\n",
       "    </tr>\n",
       "    <tr>\n",
       "      <th>ENSG00000135245.9</th>\n",
       "      <td>0.6529</td>\n",
       "      <td>1.3850</td>\n",
       "      <td>199.20000</td>\n",
       "      <td>2.266</td>\n",
       "      <td>116.7</td>\n",
       "      <td>192.300</td>\n",
       "      <td>161.50</td>\n",
       "      <td>263.50</td>\n",
       "      <td>23.540</td>\n",
       "      <td>251.9</td>\n",
       "      <td>...</td>\n",
       "      <td>114.300</td>\n",
       "      <td>1.8330</td>\n",
       "      <td>0.41150</td>\n",
       "      <td>149.0</td>\n",
       "      <td>935.3</td>\n",
       "      <td>233.60</td>\n",
       "      <td>0.8882</td>\n",
       "      <td>134.00</td>\n",
       "      <td>1.12000</td>\n",
       "      <td>295.70</td>\n",
       "    </tr>\n",
       "    <tr>\n",
       "      <th>ENSG00000163631.16</th>\n",
       "      <td>1.8480</td>\n",
       "      <td>0.2503</td>\n",
       "      <td>0.08429</td>\n",
       "      <td>1.251</td>\n",
       "      <td>1348.0</td>\n",
       "      <td>9.971</td>\n",
       "      <td>101.30</td>\n",
       "      <td>95.09</td>\n",
       "      <td>1.264</td>\n",
       "      <td>119.3</td>\n",
       "      <td>...</td>\n",
       "      <td>2.092</td>\n",
       "      <td>2.1100</td>\n",
       "      <td>0.03588</td>\n",
       "      <td>171.8</td>\n",
       "      <td>107.1</td>\n",
       "      <td>71.25</td>\n",
       "      <td>1.7720</td>\n",
       "      <td>309.60</td>\n",
       "      <td>0.07361</td>\n",
       "      <td>17.75</td>\n",
       "    </tr>\n",
       "    <tr>\n",
       "      <th>ENSG00000277632.1</th>\n",
       "      <td>1.6960</td>\n",
       "      <td>1.3450</td>\n",
       "      <td>235.10000</td>\n",
       "      <td>11.770</td>\n",
       "      <td>141.7</td>\n",
       "      <td>199.100</td>\n",
       "      <td>525.50</td>\n",
       "      <td>659.90</td>\n",
       "      <td>10.910</td>\n",
       "      <td>209.3</td>\n",
       "      <td>...</td>\n",
       "      <td>61.340</td>\n",
       "      <td>2.2500</td>\n",
       "      <td>0.72310</td>\n",
       "      <td>261.2</td>\n",
       "      <td>400.0</td>\n",
       "      <td>288.50</td>\n",
       "      <td>2.6960</td>\n",
       "      <td>287.50</td>\n",
       "      <td>3.32300</td>\n",
       "      <td>618.90</td>\n",
       "    </tr>\n",
       "    <tr>\n",
       "      <th>ENSG00000239839.6</th>\n",
       "      <td>185.2000</td>\n",
       "      <td>1.7790</td>\n",
       "      <td>694.30000</td>\n",
       "      <td>23.840</td>\n",
       "      <td>297.3</td>\n",
       "      <td>3122.000</td>\n",
       "      <td>2521.00</td>\n",
       "      <td>1504.00</td>\n",
       "      <td>80.060</td>\n",
       "      <td>652.0</td>\n",
       "      <td>...</td>\n",
       "      <td>1010.000</td>\n",
       "      <td>253.8000</td>\n",
       "      <td>94.52000</td>\n",
       "      <td>6083.0</td>\n",
       "      <td>2768.0</td>\n",
       "      <td>52.06</td>\n",
       "      <td>34.5700</td>\n",
       "      <td>17.36</td>\n",
       "      <td>352.30000</td>\n",
       "      <td>63.85</td>\n",
       "    </tr>\n",
       "  </tbody>\n",
       "</table>\n",
       "<p>5 rows × 755 columns</p>\n",
       "</div>"
      ],
      "text/plain": [
       "                    GTEX-111YS-0006-SM-5NQBE  GTEX-1122O-0005-SM-5O99J  \\\n",
       "gene_ens_id                                                              \n",
       "ENSG00000169429.10                    0.5623                    0.8067   \n",
       "ENSG00000135245.9                     0.6529                    1.3850   \n",
       "ENSG00000163631.16                    1.8480                    0.2503   \n",
       "ENSG00000277632.1                     1.6960                    1.3450   \n",
       "ENSG00000239839.6                   185.2000                    1.7790   \n",
       "\n",
       "                    GTEX-1128S-0005-SM-5P9HI  GTEX-113IC-0006-SM-5NQ9C  \\\n",
       "gene_ens_id                                                              \n",
       "ENSG00000169429.10                 116.90000                     4.047   \n",
       "ENSG00000135245.9                  199.20000                     2.266   \n",
       "ENSG00000163631.16                   0.08429                     1.251   \n",
       "ENSG00000277632.1                  235.10000                    11.770   \n",
       "ENSG00000239839.6                  694.30000                    23.840   \n",
       "\n",
       "                    GTEX-113JC-0006-SM-5O997  GTEX-117XS-0005-SM-5PNU6  \\\n",
       "gene_ens_id                                                              \n",
       "ENSG00000169429.10                     211.0                    58.110   \n",
       "ENSG00000135245.9                      116.7                   192.300   \n",
       "ENSG00000163631.16                    1348.0                     9.971   \n",
       "ENSG00000277632.1                      141.7                   199.100   \n",
       "ENSG00000239839.6                      297.3                  3122.000   \n",
       "\n",
       "                    GTEX-117YW-0005-SM-5NQ8Z  GTEX-1192W-0005-SM-5NQBQ  \\\n",
       "gene_ens_id                                                              \n",
       "ENSG00000169429.10                     68.38                    249.50   \n",
       "ENSG00000135245.9                     161.50                    263.50   \n",
       "ENSG00000163631.16                    101.30                     95.09   \n",
       "ENSG00000277632.1                     525.50                    659.90   \n",
       "ENSG00000239839.6                    2521.00                   1504.00   \n",
       "\n",
       "                    GTEX-1192X-0005-SM-5NQC3  GTEX-11DXW-0006-SM-5NQ7Y  ...  \\\n",
       "gene_ens_id                                                             ...   \n",
       "ENSG00000169429.10                     5.095                     295.9  ...   \n",
       "ENSG00000135245.9                     23.540                     251.9  ...   \n",
       "ENSG00000163631.16                     1.264                     119.3  ...   \n",
       "ENSG00000277632.1                     10.910                     209.3  ...   \n",
       "ENSG00000239839.6                     80.060                     652.0  ...   \n",
       "\n",
       "                    GTEX-ZVE2-0006-SM-51MRW  GTEX-ZVP2-0005-SM-51MRK  \\\n",
       "gene_ens_id                                                            \n",
       "ENSG00000169429.10                   39.960                   0.1393   \n",
       "ENSG00000135245.9                   114.300                   1.8330   \n",
       "ENSG00000163631.16                    2.092                   2.1100   \n",
       "ENSG00000277632.1                    61.340                   2.2500   \n",
       "ENSG00000239839.6                  1010.000                 253.8000   \n",
       "\n",
       "                    GTEX-ZVT2-0005-SM-57WBW  GTEX-ZVT3-0006-SM-51MT9  \\\n",
       "gene_ens_id                                                            \n",
       "ENSG00000169429.10                  0.22380                    245.0   \n",
       "ENSG00000135245.9                   0.41150                    149.0   \n",
       "ENSG00000163631.16                  0.03588                    171.8   \n",
       "ENSG00000277632.1                   0.72310                    261.2   \n",
       "ENSG00000239839.6                  94.52000                   6083.0   \n",
       "\n",
       "                    GTEX-ZVT4-0006-SM-57WB8  GTEX-ZVTK-0006-SM-57WBK  \\\n",
       "gene_ens_id                                                            \n",
       "ENSG00000169429.10                    513.6                  1626.00   \n",
       "ENSG00000135245.9                     935.3                   233.60   \n",
       "ENSG00000163631.16                    107.1                    71.25   \n",
       "ENSG00000277632.1                     400.0                   288.50   \n",
       "ENSG00000239839.6                    2768.0                    52.06   \n",
       "\n",
       "                    GTEX-ZVZP-0006-SM-51MSW  GTEX-ZVZQ-0006-SM-51MR8  \\\n",
       "gene_ens_id                                                            \n",
       "ENSG00000169429.10                   0.5633                   515.70   \n",
       "ENSG00000135245.9                    0.8882                   134.00   \n",
       "ENSG00000163631.16                   1.7720                   309.60   \n",
       "ENSG00000277632.1                    2.6960                   287.50   \n",
       "ENSG00000239839.6                   34.5700                    17.36   \n",
       "\n",
       "                    GTEX-ZXES-0005-SM-57WCB  GTEX-ZXG5-0005-SM-57WCN  \n",
       "gene_ens_id                                                           \n",
       "ENSG00000169429.10                  1.19400                  1163.00  \n",
       "ENSG00000135245.9                   1.12000                   295.70  \n",
       "ENSG00000163631.16                  0.07361                    17.75  \n",
       "ENSG00000277632.1                   3.32300                   618.90  \n",
       "ENSG00000239839.6                 352.30000                    63.85  \n",
       "\n",
       "[5 rows x 755 columns]"
      ]
     },
     "execution_count": 12,
     "metadata": {},
     "output_type": "execute_result"
    }
   ],
   "source": [
    "test_data.head()"
   ]
  },
  {
   "cell_type": "markdown",
   "id": "5903f3f5-791e-4f03-9d79-600102933d04",
   "metadata": {
    "papermill": {
     "duration": 0.001984,
     "end_time": "2025-05-01T17:53:34.013729",
     "exception": false,
     "start_time": "2025-05-01T17:53:34.011745",
     "status": "completed"
    },
    "tags": []
   },
   "source": [
    "This is a quick performance test of the correlation measure. The following line (`_tmp = ...`) is the setup code, which is needed in case the correlation method was optimized using `numba` and needs to be compiled before performing the test."
   ]
  },
  {
   "cell_type": "code",
   "execution_count": 13,
   "id": "118a6631-1cfd-44a3-bd85-5ec7118edd03",
   "metadata": {
    "execution": {
     "iopub.execute_input": "2025-05-01T17:53:34.018618Z",
     "iopub.status.busy": "2025-05-01T17:53:34.018485Z",
     "iopub.status.idle": "2025-05-01T17:53:45.857193Z",
     "shell.execute_reply": "2025-05-01T17:53:45.856896Z"
    },
    "papermill": {
     "duration": 11.842101,
     "end_time": "2025-05-01T17:53:45.857848",
     "exception": false,
     "start_time": "2025-05-01T17:53:34.015747",
     "status": "completed"
    },
    "tags": []
   },
   "outputs": [
    {
     "name": "stdout",
     "output_type": "stream",
     "text": [
      "\n",
      "Memory before device allocations: Free memory: 22.866272 GB, Total memory: 23.517212 GB\n",
      "Memory after device allocations: Free memory: 22.864319 GB, Total memory: 23.517212 GB\n",
      "  Device memory used: 2097152 bytes\n",
      "Memory before kernel launch: Free memory: 22.864319 GB, Total memory: 23.517212 GB\n",
      "Memory after kernel launch: Free memory: 22.864319 GB, Total memory: 23.517212 GB\n",
      "  Device memory used in kernel: 0 bytes\n"
     ]
    },
    {
     "data": {
      "text/plain": [
       "(3, 3)"
      ]
     },
     "metadata": {},
     "output_type": "display_data"
    },
    {
     "data": {
      "text/html": [
       "<div>\n",
       "<style scoped>\n",
       "    .dataframe tbody tr th:only-of-type {\n",
       "        vertical-align: middle;\n",
       "    }\n",
       "\n",
       "    .dataframe tbody tr th {\n",
       "        vertical-align: top;\n",
       "    }\n",
       "\n",
       "    .dataframe thead th {\n",
       "        text-align: right;\n",
       "    }\n",
       "</style>\n",
       "<table border=\"1\" class=\"dataframe\">\n",
       "  <thead>\n",
       "    <tr style=\"text-align: right;\">\n",
       "      <th>gene_ens_id</th>\n",
       "      <th>ENSG00000169429.10</th>\n",
       "      <th>ENSG00000135245.9</th>\n",
       "      <th>ENSG00000163631.16</th>\n",
       "    </tr>\n",
       "    <tr>\n",
       "      <th>gene_ens_id</th>\n",
       "      <th></th>\n",
       "      <th></th>\n",
       "      <th></th>\n",
       "    </tr>\n",
       "  </thead>\n",
       "  <tbody>\n",
       "    <tr>\n",
       "      <th>ENSG00000169429.10</th>\n",
       "      <td>1.000000</td>\n",
       "      <td>0.780181</td>\n",
       "      <td>0.401717</td>\n",
       "    </tr>\n",
       "    <tr>\n",
       "      <th>ENSG00000135245.9</th>\n",
       "      <td>0.780181</td>\n",
       "      <td>1.000000</td>\n",
       "      <td>0.429092</td>\n",
       "    </tr>\n",
       "    <tr>\n",
       "      <th>ENSG00000163631.16</th>\n",
       "      <td>0.401717</td>\n",
       "      <td>0.429092</td>\n",
       "      <td>1.000000</td>\n",
       "    </tr>\n",
       "  </tbody>\n",
       "</table>\n",
       "</div>"
      ],
      "text/plain": [
       "gene_ens_id         ENSG00000169429.10  ENSG00000135245.9  ENSG00000163631.16\n",
       "gene_ens_id                                                                  \n",
       "ENSG00000169429.10            1.000000           0.780181            0.401717\n",
       "ENSG00000135245.9             0.780181           1.000000            0.429092\n",
       "ENSG00000163631.16            0.401717           0.429092            1.000000"
      ]
     },
     "metadata": {},
     "output_type": "display_data"
    }
   ],
   "source": [
    "_tmp = CORRELATION_METHOD(test_data.iloc[:3])\n",
    "\n",
    "display(_tmp.shape)\n",
    "display(_tmp)"
   ]
  },
  {
   "cell_type": "code",
   "execution_count": 14,
   "id": "d32281d8-f640-4f87-a1d5-aefa0757e9c3",
   "metadata": {
    "execution": {
     "iopub.execute_input": "2025-05-01T17:53:45.863041Z",
     "iopub.status.busy": "2025-05-01T17:53:45.862971Z",
     "iopub.status.idle": "2025-05-01T17:56:21.019198Z",
     "shell.execute_reply": "2025-05-01T17:56:21.018788Z"
    },
    "papermill": {
     "duration": 155.159853,
     "end_time": "2025-05-01T17:56:21.019938",
     "exception": false,
     "start_time": "2025-05-01T17:53:45.860085",
     "status": "completed"
    },
    "tags": []
   },
   "outputs": [
    {
     "name": "stdout",
     "output_type": "stream",
     "text": [
      "\n",
      "Memory before device allocations: Free memory: 22.866272 GB, Total memory: 23.517212 GB\n",
      "Memory after device allocations: Free memory: 18.967834 GB, Total memory: 23.517212 GB\n",
      "  Device memory used: 4185915392 bytes\n",
      "Memory before kernel launch: Free memory: 18.967834 GB, Total memory: 23.517212 GB\n",
      "Memory after kernel launch: Free memory: 18.967834 GB, Total memory: 23.517212 GB\n",
      "  Device memory used in kernel: 0 bytes\n",
      "\n",
      "Memory before device allocations: Free memory: 22.866272 GB, Total memory: 23.517212 GB\n",
      "Memory after device allocations: Free memory: 18.967834 GB, Total memory: 23.517212 GB\n",
      "  Device memory used: 4185915392 bytes\n",
      "Memory before kernel launch: Free memory: 18.967834 GB, Total memory: 23.517212 GB\n",
      "Memory after kernel launch: Free memory: 18.967834 GB, Total memory: 23.517212 GB\n",
      "  Device memory used in kernel: 0 bytes\n",
      "\n",
      "Memory before device allocations: Free memory: 22.866272 GB, Total memory: 23.517212 GB\n",
      "Memory after device allocations: Free memory: 18.967834 GB, Total memory: 23.517212 GB\n",
      "  Device memory used: 4185915392 bytes\n",
      "Memory before kernel launch: Free memory: 18.967834 GB, Total memory: 23.517212 GB\n",
      "Memory after kernel launch: Free memory: 18.967834 GB, Total memory: 23.517212 GB\n",
      "  Device memory used in kernel: 0 bytes\n",
      "\n",
      "Memory before device allocations: Free memory: 22.866272 GB, Total memory: 23.517212 GB\n",
      "Memory after device allocations: Free memory: 18.967834 GB, Total memory: 23.517212 GB\n",
      "  Device memory used: 4185915392 bytes\n",
      "Memory before kernel launch: Free memory: 18.967834 GB, Total memory: 23.517212 GB\n",
      "Memory after kernel launch: Free memory: 18.967834 GB, Total memory: 23.517212 GB\n",
      "  Device memory used in kernel: 0 bytes\n",
      "\n",
      "Memory before device allocations: Free memory: 22.866272 GB, Total memory: 23.517212 GB\n",
      "Memory after device allocations: Free memory: 18.967834 GB, Total memory: 23.517212 GB\n",
      "  Device memory used: 4185915392 bytes\n",
      "Memory before kernel launch: Free memory: 18.967834 GB, Total memory: 23.517212 GB\n",
      "Memory after kernel launch: Free memory: 18.967834 GB, Total memory: 23.517212 GB\n",
      "  Device memory used in kernel: 0 bytes\n",
      "\n",
      "Memory before device allocations: Free memory: 22.866150 GB, Total memory: 23.517212 GB\n",
      "Memory after device allocations: Free memory: 18.967712 GB, Total memory: 23.517212 GB\n",
      "  Device memory used: 4185915392 bytes\n",
      "Memory before kernel launch: Free memory: 18.967712 GB, Total memory: 23.517212 GB\n",
      "Memory after kernel launch: Free memory: 18.967712 GB, Total memory: 23.517212 GB\n",
      "  Device memory used in kernel: 0 bytes\n",
      "\n",
      "Memory before device allocations: Free memory: 22.866150 GB, Total memory: 23.517212 GB\n",
      "Memory after device allocations: Free memory: 18.967712 GB, Total memory: 23.517212 GB\n",
      "  Device memory used: 4185915392 bytes\n",
      "Memory before kernel launch: Free memory: 18.967712 GB, Total memory: 23.517212 GB\n",
      "Memory after kernel launch: Free memory: 18.967712 GB, Total memory: 23.517212 GB\n",
      "  Device memory used in kernel: 0 bytes\n",
      "\n",
      "Memory before device allocations: Free memory: 22.866150 GB, Total memory: 23.517212 GB\n",
      "Memory after device allocations: Free memory: 18.967712 GB, Total memory: 23.517212 GB\n",
      "  Device memory used: 4185915392 bytes\n",
      "Memory before kernel launch: Free memory: 18.967712 GB, Total memory: 23.517212 GB\n",
      "Memory after kernel launch: Free memory: 18.967712 GB, Total memory: 23.517212 GB\n",
      "  Device memory used in kernel: 0 bytes\n",
      "\n",
      "Memory before device allocations: Free memory: 22.866150 GB, Total memory: 23.517212 GB\n",
      "Memory after device allocations: Free memory: 18.967712 GB, Total memory: 23.517212 GB\n",
      "  Device memory used: 4185915392 bytes\n",
      "Memory before kernel launch: Free memory: 18.967712 GB, Total memory: 23.517212 GB\n",
      "Memory after kernel launch: Free memory: 18.967712 GB, Total memory: 23.517212 GB\n",
      "  Device memory used in kernel: 0 bytes\n",
      "\n",
      "Memory before device allocations: Free memory: 22.866150 GB, Total memory: 23.517212 GB\n",
      "Memory after device allocations: Free memory: 18.967712 GB, Total memory: 23.517212 GB\n",
      "  Device memory used: 4185915392 bytes\n",
      "Memory before kernel launch: Free memory: 18.967712 GB, Total memory: 23.517212 GB\n",
      "Memory after kernel launch: Free memory: 18.967712 GB, Total memory: 23.517212 GB\n",
      "  Device memory used in kernel: 0 bytes\n",
      "\n",
      "Memory before device allocations: Free memory: 22.866150 GB, Total memory: 23.517212 GB\n",
      "Memory after device allocations: Free memory: 18.967712 GB, Total memory: 23.517212 GB\n",
      "  Device memory used: 4185915392 bytes\n",
      "Memory before kernel launch: Free memory: 18.967712 GB, Total memory: 23.517212 GB\n",
      "Memory after kernel launch: Free memory: 18.967712 GB, Total memory: 23.517212 GB\n",
      "  Device memory used in kernel: 0 bytes\n",
      "\n",
      "Memory before device allocations: Free memory: 22.866150 GB, Total memory: 23.517212 GB\n",
      "Memory after device allocations: Free memory: 18.967712 GB, Total memory: 23.517212 GB\n",
      "  Device memory used: 4185915392 bytes\n",
      "Memory before kernel launch: Free memory: 18.967712 GB, Total memory: 23.517212 GB\n",
      "Memory after kernel launch: Free memory: 18.967712 GB, Total memory: 23.517212 GB\n",
      "  Device memory used in kernel: 0 bytes\n",
      "\n",
      "Memory before device allocations: Free memory: 22.866821 GB, Total memory: 23.517212 GB\n",
      "Memory after device allocations: Free memory: 18.968384 GB, Total memory: 23.517212 GB\n",
      "  Device memory used: 4185915392 bytes\n",
      "Memory before kernel launch: Free memory: 18.968384 GB, Total memory: 23.517212 GB\n",
      "Memory after kernel launch: Free memory: 18.968384 GB, Total memory: 23.517212 GB\n",
      "  Device memory used in kernel: 0 bytes\n",
      "\n",
      "Memory before device allocations: Free memory: 22.866821 GB, Total memory: 23.517212 GB\n",
      "Memory after device allocations: Free memory: 18.968384 GB, Total memory: 23.517212 GB\n",
      "  Device memory used: 4185915392 bytes\n",
      "Memory before kernel launch: Free memory: 18.968384 GB, Total memory: 23.517212 GB\n",
      "Memory after kernel launch: Free memory: 18.968384 GB, Total memory: 23.517212 GB\n",
      "  Device memory used in kernel: 0 bytes\n",
      "\n",
      "Memory before device allocations: Free memory: 22.866821 GB, Total memory: 23.517212 GB\n",
      "Memory after device allocations: Free memory: 18.968384 GB, Total memory: 23.517212 GB\n",
      "  Device memory used: 4185915392 bytes\n",
      "Memory before kernel launch: Free memory: 18.968384 GB, Total memory: 23.517212 GB\n",
      "Memory after kernel launch: Free memory: 18.968384 GB, Total memory: 23.517212 GB\n",
      "  Device memory used in kernel: 0 bytes\n",
      "\n",
      "Memory before device allocations: Free memory: 22.866821 GB, Total memory: 23.517212 GB\n",
      "Memory after device allocations: Free memory: 18.968384 GB, Total memory: 23.517212 GB\n",
      "  Device memory used: 4185915392 bytes\n",
      "Memory before kernel launch: Free memory: 18.968384 GB, Total memory: 23.517212 GB\n",
      "Memory after kernel launch: Free memory: 18.968384 GB, Total memory: 23.517212 GB\n",
      "  Device memory used in kernel: 0 bytes\n",
      "\n",
      "Memory before device allocations: Free memory: 22.866821 GB, Total memory: 23.517212 GB\n",
      "Memory after device allocations: Free memory: 22.730103 GB, Total memory: 23.517212 GB\n",
      "  Device memory used: 146800640 bytes\n",
      "Memory before kernel launch: Free memory: 22.730103 GB, Total memory: 23.517212 GB\n",
      "Memory after kernel launch: Free memory: 22.730103 GB, Total memory: 23.517212 GB\n",
      "  Device memory used in kernel: 0 bytes\n"
     ]
    },
    {
     "name": "stdout",
     "output_type": "stream",
     "text": [
      "\n",
      "Memory before device allocations: Free memory: 22.866821 GB, Total memory: 23.517212 GB\n",
      "Memory after device allocations: Free memory: 18.968384 GB, Total memory: 23.517212 GB\n",
      "  Device memory used: 4185915392 bytes\n",
      "Memory before kernel launch: Free memory: 18.968384 GB, Total memory: 23.517212 GB\n",
      "Memory after kernel launch: Free memory: 18.968384 GB, Total memory: 23.517212 GB\n",
      "  Device memory used in kernel: 0 bytes\n",
      "\n",
      "Memory before device allocations: Free memory: 22.866821 GB, Total memory: 23.517212 GB\n",
      "Memory after device allocations: Free memory: 18.968384 GB, Total memory: 23.517212 GB\n",
      "  Device memory used: 4185915392 bytes\n",
      "Memory before kernel launch: Free memory: 18.968384 GB, Total memory: 23.517212 GB\n",
      "Memory after kernel launch: Free memory: 18.968384 GB, Total memory: 23.517212 GB\n",
      "  Device memory used in kernel: 0 bytes\n",
      "\n",
      "Memory before device allocations: Free memory: 22.866882 GB, Total memory: 23.517212 GB\n",
      "Memory after device allocations: Free memory: 18.968445 GB, Total memory: 23.517212 GB\n",
      "  Device memory used: 4185915392 bytes\n",
      "Memory before kernel launch: Free memory: 18.968445 GB, Total memory: 23.517212 GB\n",
      "Memory after kernel launch: Free memory: 18.968445 GB, Total memory: 23.517212 GB\n",
      "  Device memory used in kernel: 0 bytes\n",
      "\n",
      "Memory before device allocations: Free memory: 22.866882 GB, Total memory: 23.517212 GB\n",
      "Memory after device allocations: Free memory: 18.968445 GB, Total memory: 23.517212 GB\n",
      "  Device memory used: 4185915392 bytes\n",
      "Memory before kernel launch: Free memory: 18.968445 GB, Total memory: 23.517212 GB\n",
      "Memory after kernel launch: Free memory: 18.968445 GB, Total memory: 23.517212 GB\n",
      "  Device memory used in kernel: 0 bytes\n",
      "\n",
      "Memory before device allocations: Free memory: 22.866882 GB, Total memory: 23.517212 GB\n",
      "Memory after device allocations: Free memory: 18.968445 GB, Total memory: 23.517212 GB\n",
      "  Device memory used: 4185915392 bytes\n",
      "Memory before kernel launch: Free memory: 18.968445 GB, Total memory: 23.517212 GB\n",
      "Memory after kernel launch: Free memory: 18.968445 GB, Total memory: 23.517212 GB\n",
      "  Device memory used in kernel: 0 bytes\n",
      "\n",
      "Memory before device allocations: Free memory: 22.866882 GB, Total memory: 23.517212 GB\n",
      "Memory after device allocations: Free memory: 18.968445 GB, Total memory: 23.517212 GB\n",
      "  Device memory used: 4185915392 bytes\n",
      "Memory before kernel launch: Free memory: 18.968445 GB, Total memory: 23.517212 GB\n",
      "Memory after kernel launch: Free memory: 18.968445 GB, Total memory: 23.517212 GB\n",
      "  Device memory used in kernel: 0 bytes\n",
      "\n",
      "Memory before device allocations: Free memory: 22.866882 GB, Total memory: 23.517212 GB\n",
      "Memory after device allocations: Free memory: 18.968445 GB, Total memory: 23.517212 GB\n",
      "  Device memory used: 4185915392 bytes\n",
      "Memory before kernel launch: Free memory: 18.968445 GB, Total memory: 23.517212 GB\n",
      "Memory after kernel launch: Free memory: 18.968445 GB, Total memory: 23.517212 GB\n",
      "  Device memory used in kernel: 0 bytes\n",
      "\n",
      "Memory before device allocations: Free memory: 22.866882 GB, Total memory: 23.517212 GB\n",
      "Memory after device allocations: Free memory: 18.968445 GB, Total memory: 23.517212 GB\n",
      "  Device memory used: 4185915392 bytes\n",
      "Memory before kernel launch: Free memory: 18.968445 GB, Total memory: 23.517212 GB\n",
      "Memory after kernel launch: Free memory: 18.968445 GB, Total memory: 23.517212 GB\n",
      "  Device memory used in kernel: 0 bytes\n",
      "\n",
      "Memory before device allocations: Free memory: 22.867126 GB, Total memory: 23.517212 GB\n",
      "Memory after device allocations: Free memory: 18.968689 GB, Total memory: 23.517212 GB\n",
      "  Device memory used: 4185915392 bytes\n",
      "Memory before kernel launch: Free memory: 18.968689 GB, Total memory: 23.517212 GB\n",
      "Memory after kernel launch: Free memory: 18.968689 GB, Total memory: 23.517212 GB\n",
      "  Device memory used in kernel: 0 bytes\n",
      "\n",
      "Memory before device allocations: Free memory: 22.867126 GB, Total memory: 23.517212 GB\n",
      "Memory after device allocations: Free memory: 18.968689 GB, Total memory: 23.517212 GB\n",
      "  Device memory used: 4185915392 bytes\n",
      "Memory before kernel launch: Free memory: 18.968689 GB, Total memory: 23.517212 GB\n",
      "Memory after kernel launch: Free memory: 18.968689 GB, Total memory: 23.517212 GB\n",
      "  Device memory used in kernel: 0 bytes\n",
      "\n",
      "Memory before device allocations: Free memory: 22.867126 GB, Total memory: 23.517212 GB\n",
      "Memory after device allocations: Free memory: 18.968689 GB, Total memory: 23.517212 GB\n",
      "  Device memory used: 4185915392 bytes\n",
      "Memory before kernel launch: Free memory: 18.968689 GB, Total memory: 23.517212 GB\n",
      "Memory after kernel launch: Free memory: 18.968689 GB, Total memory: 23.517212 GB\n",
      "  Device memory used in kernel: 0 bytes\n",
      "\n",
      "Memory before device allocations: Free memory: 22.867126 GB, Total memory: 23.517212 GB\n",
      "Memory after device allocations: Free memory: 18.968689 GB, Total memory: 23.517212 GB\n",
      "  Device memory used: 4185915392 bytes\n",
      "Memory before kernel launch: Free memory: 18.968689 GB, Total memory: 23.517212 GB\n",
      "Memory after kernel launch: Free memory: 18.968689 GB, Total memory: 23.517212 GB\n",
      "  Device memory used in kernel: 0 bytes\n",
      "\n",
      "Memory before device allocations: Free memory: 22.867126 GB, Total memory: 23.517212 GB\n",
      "Memory after device allocations: Free memory: 18.968689 GB, Total memory: 23.517212 GB\n",
      "  Device memory used: 4185915392 bytes\n",
      "Memory before kernel launch: Free memory: 18.968689 GB, Total memory: 23.517212 GB\n",
      "Memory after kernel launch: Free memory: 18.968689 GB, Total memory: 23.517212 GB\n",
      "  Device memory used in kernel: 0 bytes\n",
      "\n",
      "Memory before device allocations: Free memory: 22.867126 GB, Total memory: 23.517212 GB\n",
      "Memory after device allocations: Free memory: 18.968689 GB, Total memory: 23.517212 GB\n",
      "  Device memory used: 4185915392 bytes\n",
      "Memory before kernel launch: Free memory: 18.968689 GB, Total memory: 23.517212 GB\n",
      "Memory after kernel launch: Free memory: 18.968689 GB, Total memory: 23.517212 GB\n",
      "  Device memory used in kernel: 0 bytes\n",
      "\n",
      "Memory before device allocations: Free memory: 22.867126 GB, Total memory: 23.517212 GB\n",
      "Memory after device allocations: Free memory: 18.968689 GB, Total memory: 23.517212 GB\n",
      "  Device memory used: 4185915392 bytes\n",
      "Memory before kernel launch: Free memory: 18.968689 GB, Total memory: 23.517212 GB\n",
      "Memory after kernel launch: Free memory: 18.968689 GB, Total memory: 23.517212 GB\n",
      "  Device memory used in kernel: 0 bytes\n",
      "\n",
      "Memory before device allocations: Free memory: 22.867126 GB, Total memory: 23.517212 GB\n",
      "Memory after device allocations: Free memory: 18.968689 GB, Total memory: 23.517212 GB\n",
      "  Device memory used: 4185915392 bytes\n",
      "Memory before kernel launch: Free memory: 18.968689 GB, Total memory: 23.517212 GB\n",
      "Memory after kernel launch: Free memory: 18.968689 GB, Total memory: 23.517212 GB\n",
      "  Device memory used in kernel: 0 bytes\n",
      "\n",
      "Memory before device allocations: Free memory: 22.867126 GB, Total memory: 23.517212 GB\n",
      "Memory after device allocations: Free memory: 22.730408 GB, Total memory: 23.517212 GB\n",
      "  Device memory used: 146800640 bytes\n",
      "Memory before kernel launch: Free memory: 22.730408 GB, Total memory: 23.517212 GB\n",
      "Memory after kernel launch: Free memory: 22.730408 GB, Total memory: 23.517212 GB\n",
      "  Device memory used in kernel: 0 bytes\n"
     ]
    },
    {
     "name": "stdout",
     "output_type": "stream",
     "text": [
      "1min 17s ± 0 ns per loop (mean ± std. dev. of 1 run, 1 loop each)\n"
     ]
    }
   ],
   "source": [
    "%timeit -r1 CORRELATION_METHOD(test_data)"
   ]
  },
  {
   "cell_type": "markdown",
   "id": "fc2f7184-c0da-438c-94f5-002912793636",
   "metadata": {
    "papermill": {
     "duration": 0.002126,
     "end_time": "2025-05-01T17:56:21.024523",
     "exception": false,
     "start_time": "2025-05-01T17:56:21.022397",
     "status": "completed"
    },
    "tags": []
   },
   "source": [
    "## Run"
   ]
  },
  {
   "cell_type": "code",
   "execution_count": 15,
   "id": "1237ae45-d4fc-4074-bfc7-a1de75aeea48",
   "metadata": {
    "execution": {
     "iopub.execute_input": "2025-05-01T17:56:21.030026Z",
     "iopub.status.busy": "2025-05-01T17:56:21.029818Z",
     "iopub.status.idle": "2025-05-01T17:57:51.836380Z",
     "shell.execute_reply": "2025-05-01T17:57:51.836075Z"
    },
    "papermill": {
     "duration": 90.810481,
     "end_time": "2025-05-01T17:57:51.837284",
     "exception": false,
     "start_time": "2025-05-01T17:56:21.026803",
     "status": "completed"
    },
    "tags": []
   },
   "outputs": [
    {
     "name": "stderr",
     "output_type": "stream",
     "text": [
      "\r\n",
      "  0%|                                                                         | 0/1 [00:00<?, ?it/s]"
     ]
    },
    {
     "name": "stderr",
     "output_type": "stream",
     "text": [
      "\r\n",
      "gtex_v8_data_whole_blood-var_pc_log2:   0%|                                   | 0/1 [00:00<?, ?it/s]"
     ]
    },
    {
     "name": "stdout",
     "output_type": "stream",
     "text": [
      "\n",
      "Memory before device allocations: Free memory: 22.867126 GB, Total memory: 23.517212 GB\n",
      "Memory after device allocations: Free memory: 18.968689 GB, Total memory: 23.517212 GB\n",
      "  Device memory used: 4185915392 bytes\n",
      "Memory before kernel launch: Free memory: 18.968689 GB, Total memory: 23.517212 GB\n",
      "Memory after kernel launch: Free memory: 18.968689 GB, Total memory: 23.517212 GB\n",
      "  Device memory used in kernel: 0 bytes\n",
      "\n",
      "Memory before device allocations: Free memory: 22.867126 GB, Total memory: 23.517212 GB\n",
      "Memory after device allocations: Free memory: 18.968689 GB, Total memory: 23.517212 GB\n",
      "  Device memory used: 4185915392 bytes\n",
      "Memory before kernel launch: Free memory: 18.968689 GB, Total memory: 23.517212 GB\n",
      "Memory after kernel launch: Free memory: 18.968689 GB, Total memory: 23.517212 GB\n",
      "  Device memory used in kernel: 0 bytes\n",
      "\n",
      "Memory before device allocations: Free memory: 22.867126 GB, Total memory: 23.517212 GB\n",
      "Memory after device allocations: Free memory: 18.968689 GB, Total memory: 23.517212 GB\n",
      "  Device memory used: 4185915392 bytes\n",
      "Memory before kernel launch: Free memory: 18.968689 GB, Total memory: 23.517212 GB\n",
      "Memory after kernel launch: Free memory: 18.968689 GB, Total memory: 23.517212 GB\n",
      "  Device memory used in kernel: 0 bytes\n",
      "\n",
      "Memory before device allocations: Free memory: 22.867126 GB, Total memory: 23.517212 GB\n",
      "Memory after device allocations: Free memory: 18.968689 GB, Total memory: 23.517212 GB\n",
      "  Device memory used: 4185915392 bytes\n",
      "Memory before kernel launch: Free memory: 18.968689 GB, Total memory: 23.517212 GB\n",
      "Memory after kernel launch: Free memory: 18.968689 GB, Total memory: 23.517212 GB\n",
      "  Device memory used in kernel: 0 bytes\n",
      "\n",
      "Memory before device allocations: Free memory: 22.867126 GB, Total memory: 23.517212 GB\n",
      "Memory after device allocations: Free memory: 18.968689 GB, Total memory: 23.517212 GB\n",
      "  Device memory used: 4185915392 bytes\n",
      "Memory before kernel launch: Free memory: 18.968689 GB, Total memory: 23.517212 GB\n",
      "Memory after kernel launch: Free memory: 18.968689 GB, Total memory: 23.517212 GB\n",
      "  Device memory used in kernel: 0 bytes\n",
      "\n",
      "Memory before device allocations: Free memory: 22.867126 GB, Total memory: 23.517212 GB\n",
      "Memory after device allocations: Free memory: 18.968689 GB, Total memory: 23.517212 GB\n",
      "  Device memory used: 4185915392 bytes\n",
      "Memory before kernel launch: Free memory: 18.968689 GB, Total memory: 23.517212 GB\n",
      "Memory after kernel launch: Free memory: 18.968689 GB, Total memory: 23.517212 GB\n",
      "  Device memory used in kernel: 0 bytes\n",
      "\n",
      "Memory before device allocations: Free memory: 22.867126 GB, Total memory: 23.517212 GB\n",
      "Memory after device allocations: Free memory: 18.968689 GB, Total memory: 23.517212 GB\n",
      "  Device memory used: 4185915392 bytes\n",
      "Memory before kernel launch: Free memory: 18.968689 GB, Total memory: 23.517212 GB\n",
      "Memory after kernel launch: Free memory: 18.968689 GB, Total memory: 23.517212 GB\n",
      "  Device memory used in kernel: 0 bytes\n",
      "\n",
      "Memory before device allocations: Free memory: 22.867126 GB, Total memory: 23.517212 GB\n",
      "Memory after device allocations: Free memory: 18.968689 GB, Total memory: 23.517212 GB\n",
      "  Device memory used: 4185915392 bytes\n",
      "Memory before kernel launch: Free memory: 18.968689 GB, Total memory: 23.517212 GB\n",
      "Memory after kernel launch: Free memory: 18.968689 GB, Total memory: 23.517212 GB\n",
      "  Device memory used in kernel: 0 bytes\n",
      "\n",
      "Memory before device allocations: Free memory: 22.867126 GB, Total memory: 23.517212 GB\n",
      "Memory after device allocations: Free memory: 18.968689 GB, Total memory: 23.517212 GB\n",
      "  Device memory used: 4185915392 bytes\n",
      "Memory before kernel launch: Free memory: 18.968689 GB, Total memory: 23.517212 GB\n",
      "Memory after kernel launch: Free memory: 18.968689 GB, Total memory: 23.517212 GB\n",
      "  Device memory used in kernel: 0 bytes\n",
      "\n",
      "Memory before device allocations: Free memory: 22.867126 GB, Total memory: 23.517212 GB\n",
      "Memory after device allocations: Free memory: 18.968689 GB, Total memory: 23.517212 GB\n",
      "  Device memory used: 4185915392 bytes\n",
      "Memory before kernel launch: Free memory: 18.968689 GB, Total memory: 23.517212 GB\n",
      "Memory after kernel launch: Free memory: 18.968689 GB, Total memory: 23.517212 GB\n",
      "  Device memory used in kernel: 0 bytes\n",
      "\n",
      "Memory before device allocations: Free memory: 22.867126 GB, Total memory: 23.517212 GB\n",
      "Memory after device allocations: Free memory: 18.968689 GB, Total memory: 23.517212 GB\n",
      "  Device memory used: 4185915392 bytes\n",
      "Memory before kernel launch: Free memory: 18.968689 GB, Total memory: 23.517212 GB\n",
      "Memory after kernel launch: Free memory: 18.968689 GB, Total memory: 23.517212 GB\n",
      "  Device memory used in kernel: 0 bytes\n",
      "\n",
      "Memory before device allocations: Free memory: 22.867126 GB, Total memory: 23.517212 GB\n",
      "Memory after device allocations: Free memory: 18.968689 GB, Total memory: 23.517212 GB\n",
      "  Device memory used: 4185915392 bytes\n",
      "Memory before kernel launch: Free memory: 18.968689 GB, Total memory: 23.517212 GB\n",
      "Memory after kernel launch: Free memory: 18.968689 GB, Total memory: 23.517212 GB\n",
      "  Device memory used in kernel: 0 bytes\n",
      "\n",
      "Memory before device allocations: Free memory: 22.867126 GB, Total memory: 23.517212 GB\n",
      "Memory after device allocations: Free memory: 18.968689 GB, Total memory: 23.517212 GB\n",
      "  Device memory used: 4185915392 bytes\n",
      "Memory before kernel launch: Free memory: 18.968689 GB, Total memory: 23.517212 GB\n",
      "Memory after kernel launch: Free memory: 18.968689 GB, Total memory: 23.517212 GB\n",
      "  Device memory used in kernel: 0 bytes\n",
      "\n",
      "Memory before device allocations: Free memory: 22.867126 GB, Total memory: 23.517212 GB\n",
      "Memory after device allocations: Free memory: 18.968689 GB, Total memory: 23.517212 GB\n",
      "  Device memory used: 4185915392 bytes\n",
      "Memory before kernel launch: Free memory: 18.968689 GB, Total memory: 23.517212 GB\n",
      "Memory after kernel launch: Free memory: 18.968689 GB, Total memory: 23.517212 GB\n",
      "  Device memory used in kernel: 0 bytes\n",
      "\n",
      "Memory before device allocations: Free memory: 22.867126 GB, Total memory: 23.517212 GB\n",
      "Memory after device allocations: Free memory: 18.968689 GB, Total memory: 23.517212 GB\n",
      "  Device memory used: 4185915392 bytes\n",
      "Memory before kernel launch: Free memory: 18.968689 GB, Total memory: 23.517212 GB\n",
      "Memory after kernel launch: Free memory: 18.968689 GB, Total memory: 23.517212 GB\n",
      "  Device memory used in kernel: 0 bytes\n",
      "\n",
      "Memory before device allocations: Free memory: 22.867126 GB, Total memory: 23.517212 GB\n",
      "Memory after device allocations: Free memory: 18.968689 GB, Total memory: 23.517212 GB\n",
      "  Device memory used: 4185915392 bytes\n",
      "Memory before kernel launch: Free memory: 18.968689 GB, Total memory: 23.517212 GB\n",
      "Memory after kernel launch: Free memory: 18.968689 GB, Total memory: 23.517212 GB\n",
      "  Device memory used in kernel: 0 bytes\n",
      "\n",
      "Memory before device allocations: Free memory: 22.867126 GB, Total memory: 23.517212 GB\n",
      "Memory after device allocations: Free memory: 22.730408 GB, Total memory: 23.517212 GB\n",
      "  Device memory used: 146800640 bytes\n",
      "Memory before kernel launch: Free memory: 22.730408 GB, Total memory: 23.517212 GB\n",
      "Memory after kernel launch: Free memory: 22.730408 GB, Total memory: 23.517212 GB\n",
      "  Device memory used in kernel: 0 bytes\n"
     ]
    },
    {
     "data": {
      "text/plain": [
       "77.63984894752502"
      ]
     },
     "metadata": {},
     "output_type": "display_data"
    },
    {
     "name": "stderr",
     "output_type": "stream",
     "text": [
      "\r\n",
      "gtex_v8_data_whole_blood-var_pc_log2: 100%|███████████████████████████| 1/1 [01:30<00:00, 90.80s/it]"
     ]
    },
    {
     "name": "stderr",
     "output_type": "stream",
     "text": [
      "\r\n",
      "gtex_v8_data_whole_blood-var_pc_log2: 100%|███████████████████████████| 1/1 [01:30<00:00, 90.80s/it]"
     ]
    },
    {
     "name": "stderr",
     "output_type": "stream",
     "text": [
      "\n"
     ]
    }
   ],
   "source": [
    "pbar = tqdm(input_files, ncols=100)\n",
    "\n",
    "for tissue_data_file in pbar:\n",
    "    pbar.set_description(tissue_data_file.stem)\n",
    "\n",
    "    # read\n",
    "    data = pd.read_pickle(tissue_data_file)\n",
    "\n",
    "    # compute correlations\n",
    "    start_time = time()\n",
    "\n",
    "    data_corrs = CORRELATION_METHOD(data)\n",
    "\n",
    "    end_time = time()\n",
    "    elapsed_time = end_time - start_time\n",
    "    display(elapsed_time)\n",
    "\n",
    "    # save\n",
    "    output_filename = f\"{tissue_data_file.stem}-{method_name}-{TOP_N_GENES}-all.pkl\"\n",
    "    data_corrs.to_pickle(path=OUTPUT_DIR / output_filename)"
   ]
  },
  {
   "cell_type": "code",
   "execution_count": null,
   "id": "258babdf-03ce-4450-ab22-7a3d75bf6869",
   "metadata": {
    "papermill": {
     "duration": 0.002643,
     "end_time": "2025-05-01T17:57:51.842896",
     "exception": false,
     "start_time": "2025-05-01T17:57:51.840253",
     "status": "completed"
    },
    "tags": []
   },
   "outputs": [],
   "source": []
  }
 ],
 "metadata": {
  "jupytext": {
   "cell_metadata_filter": "all,-execution,-papermill,-trusted",
   "notebook_metadata_filter": "-jupytext.text_representation.jupytext_version"
  },
  "kernelspec": {
   "display_name": "Python 3 (ipykernel)",
   "language": "python",
   "name": "python3"
  },
  "language_info": {
   "codemirror_mode": {
    "name": "ipython",
    "version": 3
   },
   "file_extension": ".py",
   "mimetype": "text/x-python",
   "name": "python",
   "nbconvert_exporter": "python",
   "pygments_lexer": "ipython3",
   "version": "3.10.16"
  },
  "papermill": {
   "default_parameters": {},
   "duration": 260.05427,
   "end_time": "2025-05-01T17:57:52.565252",
   "environment_variables": {},
   "exception": null,
   "input_path": "10_compute_correlations/05_gtex_v8/20k/05_01-gtex-var_pc_log2-ccc-gpu.ipynb",
   "output_path": "10_compute_correlations/05_gtex_v8/20k/05_01-gtex-var_pc_log2-ccc-gpu.run.ipynb",
   "parameters": {},
   "start_time": "2025-05-01T17:53:32.510982",
   "version": "2.3.3"
  }
 },
 "nbformat": 4,
 "nbformat_minor": 5
}
