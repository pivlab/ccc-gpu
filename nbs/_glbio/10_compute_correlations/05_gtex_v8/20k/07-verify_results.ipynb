{
 "cells": [
  {
   "cell_type": "markdown",
   "id": "e9773a95-e8fd-4963-87a5-0c92299434d5",
   "metadata": {
    "papermill": {
     "duration": 0.006516,
     "end_time": "2023-09-11T18:05:13.539053",
     "exception": false,
     "start_time": "2023-09-11T18:05:13.532537",
     "status": "completed"
    },
    "tags": []
   },
   "source": [
    "# Description"
   ]
  },
  {
   "cell_type": "markdown",
   "id": "57f34c74-404d-4776-b547-e6acb2df75d7",
   "metadata": {
    "papermill": {
     "duration": 0.006613,
     "end_time": "2023-09-11T18:05:13.555696",
     "exception": false,
     "start_time": "2023-09-11T18:05:13.549083",
     "status": "completed"
    },
    "tags": []
   },
   "source": [
    "According to the settings specified below, this notebook:\n",
    " 1. reads all the data from one source (GTEx, recount2, etc) according to the gene selection method (`GENE_SELECTION_STRATEGY`),\n",
    " 2. runs a quick performance test using the correlation coefficient specified (`CORRELATION_METHOD`), and\n",
    " 3. computes the correlation matrix across all the genes using the correlation coefficient specified."
   ]
  },
  {
   "cell_type": "markdown",
   "id": "1d8fae6b-e623-46a6-aff6-d7849163c820",
   "metadata": {
    "papermill": {
     "duration": 0.002465,
     "end_time": "2023-09-11T18:05:13.563935",
     "exception": false,
     "start_time": "2023-09-11T18:05:13.561470",
     "status": "completed"
    },
    "tags": []
   },
   "source": [
    "# Modules"
   ]
  },
  {
   "cell_type": "code",
   "execution_count": 14,
   "id": "76729f0e-f742-495b-b676-d9d7b1539e10",
   "metadata": {
    "execution": {
     "iopub.execute_input": "2023-09-11T18:05:13.568306Z",
     "iopub.status.busy": "2023-09-11T18:05:13.568073Z",
     "iopub.status.idle": "2023-09-11T18:05:13.794807Z",
     "shell.execute_reply": "2023-09-11T18:05:13.794529Z"
    },
    "papermill": {
     "duration": 0.229806,
     "end_time": "2023-09-11T18:05:13.795762",
     "exception": false,
     "start_time": "2023-09-11T18:05:13.565956",
     "status": "completed"
    },
    "tags": []
   },
   "outputs": [],
   "source": [
    "import pandas as pd\n",
    "import numpy as np\n",
    "from pathlib import Path"
   ]
  },
  {
   "cell_type": "markdown",
   "id": "b0afcba9-5847-414e-b448-f0cd08ecd8ce",
   "metadata": {
    "papermill": {
     "duration": 0.001311,
     "end_time": "2023-09-11T18:05:13.834677",
     "exception": false,
     "start_time": "2023-09-11T18:05:13.833366",
     "status": "completed"
    },
    "tags": []
   },
   "source": [
    "# Paths"
   ]
  },
  {
   "cell_type": "code",
   "execution_count": 3,
   "id": "81efd6b2",
   "metadata": {},
   "outputs": [],
   "source": [
    "TOP_N_GENES = \"top_20k\""
   ]
  },
  {
   "cell_type": "code",
   "execution_count": null,
   "id": "35760114-8560-4a0e-ad4f-2bee9104c63d",
   "metadata": {
    "execution": {
     "iopub.execute_input": "2023-09-11T18:05:13.837691Z",
     "iopub.status.busy": "2023-09-11T18:05:13.837611Z",
     "iopub.status.idle": "2023-09-11T18:05:13.839514Z",
     "shell.execute_reply": "2023-09-11T18:05:13.839392Z"
    },
    "papermill": {
     "duration": 0.003867,
     "end_time": "2023-09-11T18:05:13.839907",
     "exception": false,
     "start_time": "2023-09-11T18:05:13.836040",
     "status": "completed"
    },
    "tags": []
   },
   "outputs": [],
   "source": [
    "DATA_DIR = Path(\"/mnt/data/proj_data/ccc-gpu/gene_expr/data/gtex_v8\")\n",
    "INPUT_DIR = DATA_DIR / \"similarity_matrices/\" / TOP_N_GENES\n",
    "display(INPUT_DIR)\n",
    "\n",
    "assert INPUT_DIR.exists()"
   ]
  },
  {
   "cell_type": "markdown",
   "id": "5fdf8df6-eba0-4cf5-979c-3acd56a5ef3c",
   "metadata": {
    "papermill": {
     "duration": 0.001374,
     "end_time": "2023-09-11T18:05:13.847585",
     "exception": false,
     "start_time": "2023-09-11T18:05:13.846211",
     "status": "completed"
    },
    "tags": []
   },
   "source": [
    "# Data loading"
   ]
  },
  {
   "cell_type": "code",
   "execution_count": 7,
   "id": "c5b62afd",
   "metadata": {},
   "outputs": [],
   "source": [
    "cpu_res = pd.read_pickle(\n",
    "    INPUT_DIR / f\"gtex_v8_data_whole_blood-var_pc_log2-ccc-{TOP_N_GENES}.pkl\"\n",
    ")\n",
    "gpu_res = pd.read_pickle(\n",
    "    INPUT_DIR / f\"gtex_v8_data_whole_blood-var_pc_log2-ccc_gpu-{TOP_N_GENES}.pkl\"\n",
    ")"
   ]
  },
  {
   "cell_type": "code",
   "execution_count": null,
   "id": "3a91358d",
   "metadata": {},
   "outputs": [],
   "source": [
    "cpu_res.shape"
   ]
  },
  {
   "cell_type": "code",
   "execution_count": null,
   "id": "0cf916ad",
   "metadata": {},
   "outputs": [],
   "source": [
    "cpu_res.head()"
   ]
  },
  {
   "cell_type": "code",
   "execution_count": null,
   "id": "e3c52541",
   "metadata": {},
   "outputs": [],
   "source": [
    "gpu_res.shape"
   ]
  },
  {
   "cell_type": "code",
   "execution_count": null,
   "id": "60343864",
   "metadata": {},
   "outputs": [],
   "source": [
    "gpu_res.head()"
   ]
  },
  {
   "cell_type": "code",
   "execution_count": 18,
   "id": "20bb7130",
   "metadata": {},
   "outputs": [],
   "source": [
    "# Assert the results are close\n",
    "gpu_res = gpu_res.astype(np.float64)  # convert gpu_res to float64\n",
    "pd.testing.assert_frame_equal(cpu_res, gpu_res, atol=1e-7)  # default atol is 1e-8"
   ]
  }
 ],
 "metadata": {
  "jupytext": {
   "cell_metadata_filter": "all,-execution,-papermill,-trusted",
   "notebook_metadata_filter": "-jupytext.text_representation.jupytext_version"
  },
  "kernelspec": {
   "display_name": "Python 3 (ipykernel)",
   "language": "python",
   "name": "python3"
  },
  "language_info": {
   "codemirror_mode": {
    "name": "ipython",
    "version": 3
   },
   "file_extension": ".py",
   "mimetype": "text/x-python",
   "name": "python",
   "nbconvert_exporter": "python",
   "pygments_lexer": "ipython3",
   "version": "3.10.16"
  },
  "papermill": {
   "default_parameters": {},
   "duration": 355.93018,
   "end_time": "2023-09-11T18:11:08.799026",
   "environment_variables": {},
   "exception": null,
   "input_path": "nbs/10_compute_correlations/05_gtex_v8/07_01-gtex-var_pc_log2-ccc.ipynb",
   "output_path": "nbs/10_compute_correlations/05_gtex_v8/07_01-gtex-var_pc_log2-ccc.run.ipynb",
   "parameters": {},
   "start_time": "2023-09-11T18:05:12.868846",
   "version": "2.3.3"
  }
 },
 "nbformat": 4,
 "nbformat_minor": 5
}
