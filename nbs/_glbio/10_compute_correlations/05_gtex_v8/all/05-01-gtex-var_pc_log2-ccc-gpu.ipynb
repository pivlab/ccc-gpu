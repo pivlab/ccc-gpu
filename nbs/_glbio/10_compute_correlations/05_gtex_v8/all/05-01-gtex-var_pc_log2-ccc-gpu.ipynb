{
 "cells": [
  {
   "cell_type": "markdown",
   "id": "e9773a95-e8fd-4963-87a5-0c92299434d5",
   "metadata": {
    "papermill": {
     "duration": 0.002483,
     "end_time": "2025-05-01T17:50:28.326190",
     "exception": false,
     "start_time": "2025-05-01T17:50:28.323707",
     "status": "completed"
    },
    "tags": []
   },
   "source": [
    "# Description"
   ]
  },
  {
   "cell_type": "markdown",
   "id": "57f34c74-404d-4776-b547-e6acb2df75d7",
   "metadata": {
    "papermill": {
     "duration": 0.001466,
     "end_time": "2025-05-01T17:50:28.329220",
     "exception": false,
     "start_time": "2025-05-01T17:50:28.327754",
     "status": "completed"
    },
    "tags": []
   },
   "source": [
    "According to the settings specified below, this notebook:\n",
    " 1. reads all the data from one source (GTEx, recount2, etc) according to the gene selection method (`GENE_SELECTION_STRATEGY`),\n",
    " 2. runs a quick performance test using the correlation coefficient specified (`CORRELATION_METHOD`), and\n",
    " 3. computes the correlation matrix across all the genes using the correlation coefficient specified."
   ]
  },
  {
   "cell_type": "markdown",
   "id": "1d8fae6b-e623-46a6-aff6-d7849163c820",
   "metadata": {
    "papermill": {
     "duration": 0.00145,
     "end_time": "2025-05-01T17:50:28.332247",
     "exception": false,
     "start_time": "2025-05-01T17:50:28.330797",
     "status": "completed"
    },
    "tags": []
   },
   "source": [
    "# Modules"
   ]
  },
  {
   "cell_type": "code",
   "execution_count": 1,
   "id": "76729f0e-f742-495b-b676-d9d7b1539e10",
   "metadata": {
    "execution": {
     "iopub.execute_input": "2025-05-01T17:50:28.336645Z",
     "iopub.status.busy": "2025-05-01T17:50:28.336347Z",
     "iopub.status.idle": "2025-05-01T17:50:28.722029Z",
     "shell.execute_reply": "2025-05-01T17:50:28.721652Z"
    },
    "papermill": {
     "duration": 0.389838,
     "end_time": "2025-05-01T17:50:28.723571",
     "exception": false,
     "start_time": "2025-05-01T17:50:28.333733",
     "status": "completed"
    },
    "tags": []
   },
   "outputs": [],
   "source": [
    "import pandas as pd\n",
    "from time import time\n",
    "from tqdm import tqdm\n",
    "from pathlib import Path\n",
    "\n",
    "from ccc.utils import simplify_string\n",
    "from ccc.corr import ccc_gpu"
   ]
  },
  {
   "cell_type": "markdown",
   "id": "a6c3a546-9a49-45e7-9f17-fbdb5af4bfb6",
   "metadata": {
    "papermill": {
     "duration": 0.001435,
     "end_time": "2025-05-01T17:50:28.726711",
     "exception": false,
     "start_time": "2025-05-01T17:50:28.725276",
     "status": "completed"
    },
    "tags": []
   },
   "source": [
    "# Settings"
   ]
  },
  {
   "cell_type": "code",
   "execution_count": 2,
   "id": "56ff94d3-a230-4028-a71d-518ac109209b",
   "metadata": {
    "execution": {
     "iopub.execute_input": "2025-05-01T17:50:28.730266Z",
     "iopub.status.busy": "2025-05-01T17:50:28.730194Z",
     "iopub.status.idle": "2025-05-01T17:50:28.732148Z",
     "shell.execute_reply": "2025-05-01T17:50:28.731902Z"
    },
    "papermill": {
     "duration": 0.00439,
     "end_time": "2025-05-01T17:50:28.732637",
     "exception": false,
     "start_time": "2025-05-01T17:50:28.728247",
     "status": "completed"
    },
    "tags": []
   },
   "outputs": [],
   "source": [
    "GENE_SELECTION_STRATEGY = \"var_pc_log2\"\n",
    "TOP_N_GENES = \"all\""
   ]
  },
  {
   "cell_type": "code",
   "execution_count": 3,
   "id": "f5433907-5b88-4c68-b3d4-fb98298dec4a",
   "metadata": {
    "execution": {
     "iopub.execute_input": "2025-05-01T17:50:28.736416Z",
     "iopub.status.busy": "2025-05-01T17:50:28.736247Z",
     "iopub.status.idle": "2025-05-01T17:50:28.738269Z",
     "shell.execute_reply": "2025-05-01T17:50:28.738027Z"
    },
    "papermill": {
     "duration": 0.004685,
     "end_time": "2025-05-01T17:50:28.738779",
     "exception": false,
     "start_time": "2025-05-01T17:50:28.734094",
     "status": "completed"
    },
    "tags": []
   },
   "outputs": [],
   "source": [
    "# select the top 5 tissues (according to sample size, see nbs/05_preprocessing/00-gtex_v8-split_by_tissue.ipynb)\n",
    "TISSUES = [\n",
    "    # \"Muscle - Skeletal\",\n",
    "    \"Whole Blood\",\n",
    "    # \"Skin - Sun Exposed (Lower leg)\",\n",
    "    # \"Adipose - Subcutaneous\",\n",
    "    # \"Artery - Tibial\",\n",
    "]"
   ]
  },
  {
   "cell_type": "code",
   "execution_count": 4,
   "id": "8fd0656d-e9cc-410b-baa9-96b57538c4c1",
   "metadata": {
    "execution": {
     "iopub.execute_input": "2025-05-01T17:50:28.742278Z",
     "iopub.status.busy": "2025-05-01T17:50:28.742123Z",
     "iopub.status.idle": "2025-05-01T17:50:28.743708Z",
     "shell.execute_reply": "2025-05-01T17:50:28.743445Z"
    },
    "papermill": {
     "duration": 0.003918,
     "end_time": "2025-05-01T17:50:28.744170",
     "exception": false,
     "start_time": "2025-05-01T17:50:28.740252",
     "status": "completed"
    },
    "tags": []
   },
   "outputs": [],
   "source": [
    "N_CPU_CORE = 24"
   ]
  },
  {
   "cell_type": "code",
   "execution_count": 5,
   "id": "8baf4209-ba56-4e3d-b60f-6ce2bb686159",
   "metadata": {
    "execution": {
     "iopub.execute_input": "2025-05-01T17:50:28.747795Z",
     "iopub.status.busy": "2025-05-01T17:50:28.747616Z",
     "iopub.status.idle": "2025-05-01T17:50:28.751294Z",
     "shell.execute_reply": "2025-05-01T17:50:28.751059Z"
    },
    "papermill": {
     "duration": 0.006182,
     "end_time": "2025-05-01T17:50:28.751844",
     "exception": false,
     "start_time": "2025-05-01T17:50:28.745662",
     "status": "completed"
    },
    "tags": []
   },
   "outputs": [
    {
     "data": {
      "text/plain": [
       "'ccc_gpu'"
      ]
     },
     "metadata": {},
     "output_type": "display_data"
    }
   ],
   "source": [
    "CORRELATION_METHOD = lambda x: ccc_gpu(x, n_jobs=N_CPU_CORE)\n",
    "CORRELATION_METHOD.__name__ = \"ccc_gpu\"\n",
    "\n",
    "method_name = CORRELATION_METHOD.__name__\n",
    "display(method_name)"
   ]
  },
  {
   "cell_type": "code",
   "execution_count": 6,
   "id": "6c57edd3",
   "metadata": {
    "execution": {
     "iopub.execute_input": "2025-05-01T17:50:28.755835Z",
     "iopub.status.busy": "2025-05-01T17:50:28.755593Z",
     "iopub.status.idle": "2025-05-01T17:50:28.757371Z",
     "shell.execute_reply": "2025-05-01T17:50:28.757183Z"
    },
    "papermill": {
     "duration": 0.004509,
     "end_time": "2025-05-01T17:50:28.757878",
     "exception": false,
     "start_time": "2025-05-01T17:50:28.753369",
     "status": "completed"
    },
    "tags": []
   },
   "outputs": [],
   "source": [
    "BENCHMARK_N_TOP_GENE = 5000"
   ]
  },
  {
   "cell_type": "markdown",
   "id": "b0afcba9-5847-414e-b448-f0cd08ecd8ce",
   "metadata": {
    "papermill": {
     "duration": 0.001555,
     "end_time": "2025-05-01T17:50:28.761053",
     "exception": false,
     "start_time": "2025-05-01T17:50:28.759498",
     "status": "completed"
    },
    "tags": []
   },
   "source": [
    "# Paths"
   ]
  },
  {
   "cell_type": "code",
   "execution_count": 7,
   "id": "35760114-8560-4a0e-ad4f-2bee9104c63d",
   "metadata": {
    "execution": {
     "iopub.execute_input": "2025-05-01T17:50:28.764901Z",
     "iopub.status.busy": "2025-05-01T17:50:28.764816Z",
     "iopub.status.idle": "2025-05-01T17:50:28.766738Z",
     "shell.execute_reply": "2025-05-01T17:50:28.766555Z"
    },
    "papermill": {
     "duration": 0.004628,
     "end_time": "2025-05-01T17:50:28.767258",
     "exception": false,
     "start_time": "2025-05-01T17:50:28.762630",
     "status": "completed"
    },
    "tags": []
   },
   "outputs": [
    {
     "data": {
      "text/plain": [
       "PosixPath('/mnt/data/proj_data/ccc-gpu/gene_expr/data/gtex_v8/gene_selection/all')"
      ]
     },
     "metadata": {},
     "output_type": "display_data"
    }
   ],
   "source": [
    "DATA_DIR = Path(\"/mnt/data/proj_data/ccc-gpu/gene_expr/data/gtex_v8\")\n",
    "INPUT_DIR = DATA_DIR / \"gene_selection\" / \"all\"\n",
    "display(INPUT_DIR)\n",
    "\n",
    "assert INPUT_DIR.exists()"
   ]
  },
  {
   "cell_type": "code",
   "execution_count": 8,
   "id": "f1418e81-4e77-4f67-b5ed-b29b797e31a0",
   "metadata": {
    "execution": {
     "iopub.execute_input": "2025-05-01T17:50:28.770771Z",
     "iopub.status.busy": "2025-05-01T17:50:28.770710Z",
     "iopub.status.idle": "2025-05-01T17:50:28.772639Z",
     "shell.execute_reply": "2025-05-01T17:50:28.772457Z"
    },
    "papermill": {
     "duration": 0.004314,
     "end_time": "2025-05-01T17:50:28.773158",
     "exception": false,
     "start_time": "2025-05-01T17:50:28.768844",
     "status": "completed"
    },
    "tags": []
   },
   "outputs": [
    {
     "data": {
      "text/plain": [
       "PosixPath('/mnt/data/proj_data/ccc-gpu/gene_expr/data/gtex_v8/similarity_matrices/all')"
      ]
     },
     "metadata": {},
     "output_type": "display_data"
    }
   ],
   "source": [
    "OUTPUT_DIR = DATA_DIR / \"similarity_matrices\" / TOP_N_GENES\n",
    "OUTPUT_DIR.mkdir(parents=True, exist_ok=True)\n",
    "display(OUTPUT_DIR)"
   ]
  },
  {
   "cell_type": "markdown",
   "id": "5fdf8df6-eba0-4cf5-979c-3acd56a5ef3c",
   "metadata": {
    "papermill": {
     "duration": 0.001655,
     "end_time": "2025-05-01T17:50:28.776539",
     "exception": false,
     "start_time": "2025-05-01T17:50:28.774884",
     "status": "completed"
    },
    "tags": []
   },
   "source": [
    "# Data loading"
   ]
  },
  {
   "cell_type": "code",
   "execution_count": 9,
   "id": "74c76939-14b3-4e41-9e18-24c8176d2168",
   "metadata": {
    "execution": {
     "iopub.execute_input": "2025-05-01T17:50:28.780465Z",
     "iopub.status.busy": "2025-05-01T17:50:28.780404Z",
     "iopub.status.idle": "2025-05-01T17:50:28.782058Z",
     "shell.execute_reply": "2025-05-01T17:50:28.781890Z"
    },
    "papermill": {
     "duration": 0.004302,
     "end_time": "2025-05-01T17:50:28.782528",
     "exception": false,
     "start_time": "2025-05-01T17:50:28.778226",
     "status": "completed"
    },
    "tags": []
   },
   "outputs": [],
   "source": [
    "tissue_in_file_names = [f\"_data_{simplify_string(t.lower())}-\" for t in TISSUES]"
   ]
  },
  {
   "cell_type": "code",
   "execution_count": 10,
   "id": "596d25ed-4120-4bef-8984-a91ae6529ab5",
   "metadata": {
    "execution": {
     "iopub.execute_input": "2025-05-01T17:50:28.786213Z",
     "iopub.status.busy": "2025-05-01T17:50:28.786151Z",
     "iopub.status.idle": "2025-05-01T17:50:28.791268Z",
     "shell.execute_reply": "2025-05-01T17:50:28.791093Z"
    },
    "papermill": {
     "duration": 0.007833,
     "end_time": "2025-05-01T17:50:28.792031",
     "exception": false,
     "start_time": "2025-05-01T17:50:28.784198",
     "status": "completed"
    },
    "tags": []
   },
   "outputs": [
    {
     "data": {
      "text/plain": [
       "1"
      ]
     },
     "metadata": {},
     "output_type": "display_data"
    },
    {
     "data": {
      "text/plain": [
       "[PosixPath('/mnt/data/proj_data/ccc-gpu/gene_expr/data/gtex_v8/gene_selection/all/gtex_v8_data_whole_blood-var_pc_log2.pkl')]"
      ]
     },
     "metadata": {},
     "output_type": "display_data"
    }
   ],
   "source": [
    "input_files = sorted(list(INPUT_DIR.glob(f\"*-{GENE_SELECTION_STRATEGY}.pkl\")))\n",
    "input_files = [\n",
    "    f for f in input_files if any(tn in f.name for tn in tissue_in_file_names)\n",
    "]\n",
    "display(len(input_files))\n",
    "\n",
    "assert len(input_files) == len(TISSUES), len(TISSUES)\n",
    "display(input_files)"
   ]
  },
  {
   "cell_type": "markdown",
   "id": "081da632-fd12-462a-9ae1-c0ceccf1bb5d",
   "metadata": {
    "papermill": {
     "duration": 0.001687,
     "end_time": "2025-05-01T17:50:28.795634",
     "exception": false,
     "start_time": "2025-05-01T17:50:28.793947",
     "status": "completed"
    },
    "tags": []
   },
   "source": [
    "# Compute similarity"
   ]
  },
  {
   "cell_type": "markdown",
   "id": "37137fff-2d3a-43d8-9bd5-d7c3284a97f5",
   "metadata": {
    "papermill": {
     "duration": 0.001646,
     "end_time": "2025-05-01T17:50:28.798974",
     "exception": false,
     "start_time": "2025-05-01T17:50:28.797328",
     "status": "completed"
    },
    "tags": []
   },
   "source": [
    "## Performance test"
   ]
  },
  {
   "cell_type": "code",
   "execution_count": 11,
   "id": "5dd40707-759f-4bf9-b8cc-84811b2dfe53",
   "metadata": {
    "execution": {
     "iopub.execute_input": "2025-05-01T17:50:28.803255Z",
     "iopub.status.busy": "2025-05-01T17:50:28.803088Z",
     "iopub.status.idle": "2025-05-01T17:50:29.024302Z",
     "shell.execute_reply": "2025-05-01T17:50:29.023923Z"
    },
    "papermill": {
     "duration": 0.224996,
     "end_time": "2025-05-01T17:50:29.025703",
     "exception": false,
     "start_time": "2025-05-01T17:50:28.800707",
     "status": "completed"
    },
    "tags": []
   },
   "outputs": [
    {
     "data": {
      "text/plain": [
       "PosixPath('/mnt/data/proj_data/ccc-gpu/gene_expr/data/gtex_v8/gene_selection/all/gtex_v8_data_whole_blood-var_pc_log2.pkl')"
      ]
     },
     "metadata": {},
     "output_type": "display_data"
    }
   ],
   "source": [
    "display(input_files[0])\n",
    "test_data = pd.read_pickle(input_files[0])"
   ]
  },
  {
   "cell_type": "code",
   "execution_count": 12,
   "id": "e8acd036-93f7-46c0-a1ee-8da0c2c24790",
   "metadata": {
    "execution": {
     "iopub.execute_input": "2025-05-01T17:50:29.029949Z",
     "iopub.status.busy": "2025-05-01T17:50:29.029879Z",
     "iopub.status.idle": "2025-05-01T17:50:29.031845Z",
     "shell.execute_reply": "2025-05-01T17:50:29.031671Z"
    },
    "papermill": {
     "duration": 0.004869,
     "end_time": "2025-05-01T17:50:29.032367",
     "exception": false,
     "start_time": "2025-05-01T17:50:29.027498",
     "status": "completed"
    },
    "tags": []
   },
   "outputs": [
    {
     "data": {
      "text/plain": [
       "(56200, 755)"
      ]
     },
     "execution_count": 12,
     "metadata": {},
     "output_type": "execute_result"
    }
   ],
   "source": [
    "test_data.shape"
   ]
  },
  {
   "cell_type": "code",
   "execution_count": 13,
   "id": "111e360b-dbe4-4b69-9029-7b7669eb5ddc",
   "metadata": {
    "execution": {
     "iopub.execute_input": "2025-05-01T17:50:29.036183Z",
     "iopub.status.busy": "2025-05-01T17:50:29.036125Z",
     "iopub.status.idle": "2025-05-01T17:50:29.044612Z",
     "shell.execute_reply": "2025-05-01T17:50:29.044430Z"
    },
    "papermill": {
     "duration": 0.011324,
     "end_time": "2025-05-01T17:50:29.045401",
     "exception": false,
     "start_time": "2025-05-01T17:50:29.034077",
     "status": "completed"
    },
    "tags": []
   },
   "outputs": [
    {
     "data": {
      "text/html": [
       "<div>\n",
       "<style scoped>\n",
       "    .dataframe tbody tr th:only-of-type {\n",
       "        vertical-align: middle;\n",
       "    }\n",
       "\n",
       "    .dataframe tbody tr th {\n",
       "        vertical-align: top;\n",
       "    }\n",
       "\n",
       "    .dataframe thead th {\n",
       "        text-align: right;\n",
       "    }\n",
       "</style>\n",
       "<table border=\"1\" class=\"dataframe\">\n",
       "  <thead>\n",
       "    <tr style=\"text-align: right;\">\n",
       "      <th></th>\n",
       "      <th>GTEX-111YS-0006-SM-5NQBE</th>\n",
       "      <th>GTEX-1122O-0005-SM-5O99J</th>\n",
       "      <th>GTEX-1128S-0005-SM-5P9HI</th>\n",
       "      <th>GTEX-113IC-0006-SM-5NQ9C</th>\n",
       "      <th>GTEX-113JC-0006-SM-5O997</th>\n",
       "      <th>GTEX-117XS-0005-SM-5PNU6</th>\n",
       "      <th>GTEX-117YW-0005-SM-5NQ8Z</th>\n",
       "      <th>GTEX-1192W-0005-SM-5NQBQ</th>\n",
       "      <th>GTEX-1192X-0005-SM-5NQC3</th>\n",
       "      <th>GTEX-11DXW-0006-SM-5NQ7Y</th>\n",
       "      <th>...</th>\n",
       "      <th>GTEX-ZVE2-0006-SM-51MRW</th>\n",
       "      <th>GTEX-ZVP2-0005-SM-51MRK</th>\n",
       "      <th>GTEX-ZVT2-0005-SM-57WBW</th>\n",
       "      <th>GTEX-ZVT3-0006-SM-51MT9</th>\n",
       "      <th>GTEX-ZVT4-0006-SM-57WB8</th>\n",
       "      <th>GTEX-ZVTK-0006-SM-57WBK</th>\n",
       "      <th>GTEX-ZVZP-0006-SM-51MSW</th>\n",
       "      <th>GTEX-ZVZQ-0006-SM-51MR8</th>\n",
       "      <th>GTEX-ZXES-0005-SM-57WCB</th>\n",
       "      <th>GTEX-ZXG5-0005-SM-57WCN</th>\n",
       "    </tr>\n",
       "    <tr>\n",
       "      <th>gene_ens_id</th>\n",
       "      <th></th>\n",
       "      <th></th>\n",
       "      <th></th>\n",
       "      <th></th>\n",
       "      <th></th>\n",
       "      <th></th>\n",
       "      <th></th>\n",
       "      <th></th>\n",
       "      <th></th>\n",
       "      <th></th>\n",
       "      <th></th>\n",
       "      <th></th>\n",
       "      <th></th>\n",
       "      <th></th>\n",
       "      <th></th>\n",
       "      <th></th>\n",
       "      <th></th>\n",
       "      <th></th>\n",
       "      <th></th>\n",
       "      <th></th>\n",
       "      <th></th>\n",
       "    </tr>\n",
       "  </thead>\n",
       "  <tbody>\n",
       "    <tr>\n",
       "      <th>ENSG00000169429.10</th>\n",
       "      <td>0.5623</td>\n",
       "      <td>0.8067</td>\n",
       "      <td>116.90000</td>\n",
       "      <td>4.047</td>\n",
       "      <td>211.0</td>\n",
       "      <td>58.110</td>\n",
       "      <td>68.38</td>\n",
       "      <td>249.50</td>\n",
       "      <td>5.095</td>\n",
       "      <td>295.9</td>\n",
       "      <td>...</td>\n",
       "      <td>39.960</td>\n",
       "      <td>0.1393</td>\n",
       "      <td>0.22380</td>\n",
       "      <td>245.0</td>\n",
       "      <td>513.6</td>\n",
       "      <td>1626.00</td>\n",
       "      <td>0.5633</td>\n",
       "      <td>515.70</td>\n",
       "      <td>1.19400</td>\n",
       "      <td>1163.00</td>\n",
       "    </tr>\n",
       "    <tr>\n",
       "      <th>ENSG00000135245.9</th>\n",
       "      <td>0.6529</td>\n",
       "      <td>1.3850</td>\n",
       "      <td>199.20000</td>\n",
       "      <td>2.266</td>\n",
       "      <td>116.7</td>\n",
       "      <td>192.300</td>\n",
       "      <td>161.50</td>\n",
       "      <td>263.50</td>\n",
       "      <td>23.540</td>\n",
       "      <td>251.9</td>\n",
       "      <td>...</td>\n",
       "      <td>114.300</td>\n",
       "      <td>1.8330</td>\n",
       "      <td>0.41150</td>\n",
       "      <td>149.0</td>\n",
       "      <td>935.3</td>\n",
       "      <td>233.60</td>\n",
       "      <td>0.8882</td>\n",
       "      <td>134.00</td>\n",
       "      <td>1.12000</td>\n",
       "      <td>295.70</td>\n",
       "    </tr>\n",
       "    <tr>\n",
       "      <th>ENSG00000163631.16</th>\n",
       "      <td>1.8480</td>\n",
       "      <td>0.2503</td>\n",
       "      <td>0.08429</td>\n",
       "      <td>1.251</td>\n",
       "      <td>1348.0</td>\n",
       "      <td>9.971</td>\n",
       "      <td>101.30</td>\n",
       "      <td>95.09</td>\n",
       "      <td>1.264</td>\n",
       "      <td>119.3</td>\n",
       "      <td>...</td>\n",
       "      <td>2.092</td>\n",
       "      <td>2.1100</td>\n",
       "      <td>0.03588</td>\n",
       "      <td>171.8</td>\n",
       "      <td>107.1</td>\n",
       "      <td>71.25</td>\n",
       "      <td>1.7720</td>\n",
       "      <td>309.60</td>\n",
       "      <td>0.07361</td>\n",
       "      <td>17.75</td>\n",
       "    </tr>\n",
       "    <tr>\n",
       "      <th>ENSG00000277632.1</th>\n",
       "      <td>1.6960</td>\n",
       "      <td>1.3450</td>\n",
       "      <td>235.10000</td>\n",
       "      <td>11.770</td>\n",
       "      <td>141.7</td>\n",
       "      <td>199.100</td>\n",
       "      <td>525.50</td>\n",
       "      <td>659.90</td>\n",
       "      <td>10.910</td>\n",
       "      <td>209.3</td>\n",
       "      <td>...</td>\n",
       "      <td>61.340</td>\n",
       "      <td>2.2500</td>\n",
       "      <td>0.72310</td>\n",
       "      <td>261.2</td>\n",
       "      <td>400.0</td>\n",
       "      <td>288.50</td>\n",
       "      <td>2.6960</td>\n",
       "      <td>287.50</td>\n",
       "      <td>3.32300</td>\n",
       "      <td>618.90</td>\n",
       "    </tr>\n",
       "    <tr>\n",
       "      <th>ENSG00000239839.6</th>\n",
       "      <td>185.2000</td>\n",
       "      <td>1.7790</td>\n",
       "      <td>694.30000</td>\n",
       "      <td>23.840</td>\n",
       "      <td>297.3</td>\n",
       "      <td>3122.000</td>\n",
       "      <td>2521.00</td>\n",
       "      <td>1504.00</td>\n",
       "      <td>80.060</td>\n",
       "      <td>652.0</td>\n",
       "      <td>...</td>\n",
       "      <td>1010.000</td>\n",
       "      <td>253.8000</td>\n",
       "      <td>94.52000</td>\n",
       "      <td>6083.0</td>\n",
       "      <td>2768.0</td>\n",
       "      <td>52.06</td>\n",
       "      <td>34.5700</td>\n",
       "      <td>17.36</td>\n",
       "      <td>352.30000</td>\n",
       "      <td>63.85</td>\n",
       "    </tr>\n",
       "  </tbody>\n",
       "</table>\n",
       "<p>5 rows × 755 columns</p>\n",
       "</div>"
      ],
      "text/plain": [
       "                    GTEX-111YS-0006-SM-5NQBE  GTEX-1122O-0005-SM-5O99J  \\\n",
       "gene_ens_id                                                              \n",
       "ENSG00000169429.10                    0.5623                    0.8067   \n",
       "ENSG00000135245.9                     0.6529                    1.3850   \n",
       "ENSG00000163631.16                    1.8480                    0.2503   \n",
       "ENSG00000277632.1                     1.6960                    1.3450   \n",
       "ENSG00000239839.6                   185.2000                    1.7790   \n",
       "\n",
       "                    GTEX-1128S-0005-SM-5P9HI  GTEX-113IC-0006-SM-5NQ9C  \\\n",
       "gene_ens_id                                                              \n",
       "ENSG00000169429.10                 116.90000                     4.047   \n",
       "ENSG00000135245.9                  199.20000                     2.266   \n",
       "ENSG00000163631.16                   0.08429                     1.251   \n",
       "ENSG00000277632.1                  235.10000                    11.770   \n",
       "ENSG00000239839.6                  694.30000                    23.840   \n",
       "\n",
       "                    GTEX-113JC-0006-SM-5O997  GTEX-117XS-0005-SM-5PNU6  \\\n",
       "gene_ens_id                                                              \n",
       "ENSG00000169429.10                     211.0                    58.110   \n",
       "ENSG00000135245.9                      116.7                   192.300   \n",
       "ENSG00000163631.16                    1348.0                     9.971   \n",
       "ENSG00000277632.1                      141.7                   199.100   \n",
       "ENSG00000239839.6                      297.3                  3122.000   \n",
       "\n",
       "                    GTEX-117YW-0005-SM-5NQ8Z  GTEX-1192W-0005-SM-5NQBQ  \\\n",
       "gene_ens_id                                                              \n",
       "ENSG00000169429.10                     68.38                    249.50   \n",
       "ENSG00000135245.9                     161.50                    263.50   \n",
       "ENSG00000163631.16                    101.30                     95.09   \n",
       "ENSG00000277632.1                     525.50                    659.90   \n",
       "ENSG00000239839.6                    2521.00                   1504.00   \n",
       "\n",
       "                    GTEX-1192X-0005-SM-5NQC3  GTEX-11DXW-0006-SM-5NQ7Y  ...  \\\n",
       "gene_ens_id                                                             ...   \n",
       "ENSG00000169429.10                     5.095                     295.9  ...   \n",
       "ENSG00000135245.9                     23.540                     251.9  ...   \n",
       "ENSG00000163631.16                     1.264                     119.3  ...   \n",
       "ENSG00000277632.1                     10.910                     209.3  ...   \n",
       "ENSG00000239839.6                     80.060                     652.0  ...   \n",
       "\n",
       "                    GTEX-ZVE2-0006-SM-51MRW  GTEX-ZVP2-0005-SM-51MRK  \\\n",
       "gene_ens_id                                                            \n",
       "ENSG00000169429.10                   39.960                   0.1393   \n",
       "ENSG00000135245.9                   114.300                   1.8330   \n",
       "ENSG00000163631.16                    2.092                   2.1100   \n",
       "ENSG00000277632.1                    61.340                   2.2500   \n",
       "ENSG00000239839.6                  1010.000                 253.8000   \n",
       "\n",
       "                    GTEX-ZVT2-0005-SM-57WBW  GTEX-ZVT3-0006-SM-51MT9  \\\n",
       "gene_ens_id                                                            \n",
       "ENSG00000169429.10                  0.22380                    245.0   \n",
       "ENSG00000135245.9                   0.41150                    149.0   \n",
       "ENSG00000163631.16                  0.03588                    171.8   \n",
       "ENSG00000277632.1                   0.72310                    261.2   \n",
       "ENSG00000239839.6                  94.52000                   6083.0   \n",
       "\n",
       "                    GTEX-ZVT4-0006-SM-57WB8  GTEX-ZVTK-0006-SM-57WBK  \\\n",
       "gene_ens_id                                                            \n",
       "ENSG00000169429.10                    513.6                  1626.00   \n",
       "ENSG00000135245.9                     935.3                   233.60   \n",
       "ENSG00000163631.16                    107.1                    71.25   \n",
       "ENSG00000277632.1                     400.0                   288.50   \n",
       "ENSG00000239839.6                    2768.0                    52.06   \n",
       "\n",
       "                    GTEX-ZVZP-0006-SM-51MSW  GTEX-ZVZQ-0006-SM-51MR8  \\\n",
       "gene_ens_id                                                            \n",
       "ENSG00000169429.10                   0.5633                   515.70   \n",
       "ENSG00000135245.9                    0.8882                   134.00   \n",
       "ENSG00000163631.16                   1.7720                   309.60   \n",
       "ENSG00000277632.1                    2.6960                   287.50   \n",
       "ENSG00000239839.6                   34.5700                    17.36   \n",
       "\n",
       "                    GTEX-ZXES-0005-SM-57WCB  GTEX-ZXG5-0005-SM-57WCN  \n",
       "gene_ens_id                                                           \n",
       "ENSG00000169429.10                  1.19400                  1163.00  \n",
       "ENSG00000135245.9                   1.12000                   295.70  \n",
       "ENSG00000163631.16                  0.07361                    17.75  \n",
       "ENSG00000277632.1                   3.32300                   618.90  \n",
       "ENSG00000239839.6                 352.30000                    63.85  \n",
       "\n",
       "[5 rows x 755 columns]"
      ]
     },
     "execution_count": 13,
     "metadata": {},
     "output_type": "execute_result"
    }
   ],
   "source": [
    "test_data.head()"
   ]
  },
  {
   "cell_type": "markdown",
   "id": "5903f3f5-791e-4f03-9d79-600102933d04",
   "metadata": {
    "papermill": {
     "duration": 0.001855,
     "end_time": "2025-05-01T17:50:29.049162",
     "exception": false,
     "start_time": "2025-05-01T17:50:29.047307",
     "status": "completed"
    },
    "tags": []
   },
   "source": [
    "This is a quick performance test of the correlation measure. The following line (`_tmp = ...`) is the setup code, which is needed in case the correlation method was optimized using `numba` and needs to be compiled before performing the test."
   ]
  },
  {
   "cell_type": "markdown",
   "id": "fc2f7184-c0da-438c-94f5-002912793636",
   "metadata": {
    "papermill": {
     "duration": 0.001866,
     "end_time": "2025-05-01T17:50:29.052986",
     "exception": false,
     "start_time": "2025-05-01T17:50:29.051120",
     "status": "completed"
    },
    "tags": []
   },
   "source": [
    "## Run"
   ]
  },
  {
   "cell_type": "code",
   "execution_count": 14,
   "id": "1237ae45-d4fc-4074-bfc7-a1de75aeea48",
   "metadata": {
    "execution": {
     "iopub.execute_input": "2025-05-01T17:50:29.057568Z",
     "iopub.status.busy": "2025-05-01T17:50:29.057412Z",
     "iopub.status.idle": "2025-05-01T17:50:46.672916Z",
     "shell.execute_reply": "2025-05-01T17:50:46.672523Z"
    },
    "papermill": {
     "duration": 17.618696,
     "end_time": "2025-05-01T17:50:46.673581",
     "exception": false,
     "start_time": "2025-05-01T17:50:29.054885",
     "status": "completed"
    },
    "tags": []
   },
   "outputs": [
    {
     "name": "stderr",
     "output_type": "stream",
     "text": [
      "\r\n",
      "  0%|                                                                         | 0/1 [00:00<?, ?it/s]"
     ]
    },
    {
     "name": "stderr",
     "output_type": "stream",
     "text": [
      "\r\n",
      "gtex_v8_data_whole_blood-var_pc_log2:   0%|                                   | 0/1 [00:00<?, ?it/s]"
     ]
    },
    {
     "name": "stdout",
     "output_type": "stream",
     "text": [
      "Device 0: \"NVIDIA GeForce RTX 4090\"\n",
      "  CUDA Driver Version / Runtime Version          12.7 / 12.5\n",
      "  CUDA Capability Major/Minor version number:    8.9\n",
      "  Total amount of global memory:                 23.52 GBytes (25251414016 bytes)\n",
      "  GPU Clock rate:                                2535 MHz (2.54 GHz)\n",
      "  Memory Clock rate:                             10501 Mhz\n",
      "  Memory Bus Width:                              384-bit\n",
      "Free memory: 22.915894 GB, Total memory: 23.517212 GB\n",
      "\n",
      "Debug Info:\n",
      "  n_features: 5000\n",
      "  n_partitions: 9\n",
      "  n_objects: 755\n",
      "  n_feature_comp: 12497500\n",
      "  n_aris: 1012297500\n",
      "  batch_n_aris: 1012297500\n",
      "\n",
      "Allocating host memory...\n",
      "  Memory before allocation: Host Memory Usage: 1466 MB (RSS), 15305 MB (Virtual)\n",
      "  Memory after allocation: Host Memory Usage: 1513 MB (RSS), 15352 MB (Virtual)\n",
      "  Memory used: 47 MB\n",
      "\n",
      "Allocating device memory...\n",
      "  max_batch_feature_comp: 12497500\n",
      "  Memory before allocation: Free memory: 22.915894 GB, Total memory: 23.517212 GB\n",
      "  Memory after allocation: Free memory: 22.867065 GB, Total memory: 23.517212 GB\n",
      "  Memory used: 52428800 bytes\n",
      "\n",
      "Processing batch 1 of 1\n",
      "  Start index: 0\n",
      "  Batch size: 1012297500\n",
      "  Memory before batch: Free memory: 22.867065 GB, Total memory: 23.517212 GB\n",
      "  Current batch size: 1012297500\n",
      "\n",
      "Memory before device allocations: Free memory: 22.867065 GB, Total memory: 23.517212 GB\n",
      "Memory after device allocations: Free memory: 19.062378 GB, Total memory: 23.517212 GB\n",
      "  Device memory used: 4085252096 bytes\n",
      "Memory before kernel launch: Free memory: 19.062378 GB, Total memory: 23.517212 GB\n",
      "Memory after kernel launch: Free memory: 19.062378 GB, Total memory: 23.517212 GB\n",
      "  Device memory used in kernel: 0 bytes\n",
      "  Launching kernel with 12497500 blocks, 128 threads per block\n",
      "  Memory after batch: Free memory: 19.095581 GB, Total memory: 23.517212 GB\n",
      "  Memory used in batch: 4049600512 bytes\n"
     ]
    },
    {
     "data": {
      "text/plain": [
       "16.901498317718506"
      ]
     },
     "metadata": {},
     "output_type": "display_data"
    },
    {
     "name": "stderr",
     "output_type": "stream",
     "text": [
      "\r\n",
      "gtex_v8_data_whole_blood-var_pc_log2: 100%|███████████████████████████| 1/1 [00:17<00:00, 17.61s/it]"
     ]
    },
    {
     "name": "stderr",
     "output_type": "stream",
     "text": [
      "\r\n",
      "gtex_v8_data_whole_blood-var_pc_log2: 100%|███████████████████████████| 1/1 [00:17<00:00, 17.61s/it]"
     ]
    },
    {
     "name": "stderr",
     "output_type": "stream",
     "text": [
      "\n"
     ]
    }
   ],
   "source": [
    "pbar = tqdm(input_files, ncols=100)\n",
    "\n",
    "for tissue_data_file in pbar:\n",
    "    pbar.set_description(tissue_data_file.stem)\n",
    "\n",
    "    # read\n",
    "    data = pd.read_pickle(tissue_data_file)\n",
    "    data = data.iloc[:BENCHMARK_N_TOP_GENE]\n",
    "    # compute correlations\n",
    "    start_time = time()\n",
    "\n",
    "    data_corrs = CORRELATION_METHOD(data)\n",
    "\n",
    "    end_time = time()\n",
    "    elapsed_time = end_time - start_time\n",
    "    display(elapsed_time)\n",
    "\n",
    "    # save\n",
    "    output_filename = f\"{tissue_data_file.stem}-{method_name}-{TOP_N_GENES}-all.pkl\"\n",
    "    data_corrs.to_pickle(path=OUTPUT_DIR / output_filename)"
   ]
  }
 ],
 "metadata": {
  "jupytext": {
   "cell_metadata_filter": "all,-execution,-papermill,-trusted",
   "notebook_metadata_filter": "-jupytext.text_representation.jupytext_version"
  },
  "kernelspec": {
   "display_name": "Python 3 (ipykernel)",
   "language": "python",
   "name": "python3"
  },
  "language_info": {
   "codemirror_mode": {
    "name": "ipython",
    "version": 3
   },
   "file_extension": ".py",
   "mimetype": "text/x-python",
   "name": "python",
   "nbconvert_exporter": "python",
   "pygments_lexer": "ipython3",
   "version": "3.10.16"
  },
  "papermill": {
   "default_parameters": {},
   "duration": 19.726902,
   "end_time": "2025-05-01T17:50:47.394882",
   "environment_variables": {},
   "exception": null,
   "input_path": "10_compute_correlations/05_gtex_v8/all/05-01-gtex-var_pc_log2-ccc-gpu.ipynb",
   "output_path": "10_compute_correlations/05_gtex_v8/all/05-01-gtex-var_pc_log2-ccc-gpu.run.ipynb",
   "parameters": {},
   "start_time": "2025-05-01T17:50:27.667980",
   "version": "2.3.3"
  }
 },
 "nbformat": 4,
 "nbformat_minor": 5
}
