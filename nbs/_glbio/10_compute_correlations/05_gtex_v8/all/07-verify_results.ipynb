{
 "cells": [
  {
   "cell_type": "markdown",
   "id": "e9773a95-e8fd-4963-87a5-0c92299434d5",
   "metadata": {
    "papermill": {
     "duration": 0.001645,
     "end_time": "2025-05-20T00:05:27.381068",
     "exception": false,
     "start_time": "2025-05-20T00:05:27.379423",
     "status": "completed"
    },
    "tags": []
   },
   "source": [
    "# Description"
   ]
  },
  {
   "cell_type": "markdown",
   "id": "57f34c74-404d-4776-b547-e6acb2df75d7",
   "metadata": {
    "papermill": {
     "duration": 0.001089,
     "end_time": "2025-05-20T00:05:27.383440",
     "exception": false,
     "start_time": "2025-05-20T00:05:27.382351",
     "status": "completed"
    },
    "tags": []
   },
   "source": [
    "According to the settings specified below, this notebook:\n",
    " 1. reads all the data from one source (GTEx, recount2, etc) according to the gene selection method (`GENE_SELECTION_STRATEGY`),\n",
    " 2. runs a quick performance test using the correlation coefficient specified (`CORRELATION_METHOD`), and\n",
    " 3. computes the correlation matrix across all the genes using the correlation coefficient specified."
   ]
  },
  {
   "cell_type": "markdown",
   "id": "1d8fae6b-e623-46a6-aff6-d7849163c820",
   "metadata": {
    "papermill": {
     "duration": 0.001068,
     "end_time": "2025-05-20T00:05:27.385634",
     "exception": false,
     "start_time": "2025-05-20T00:05:27.384566",
     "status": "completed"
    },
    "tags": []
   },
   "source": [
    "# Modules"
   ]
  },
  {
   "cell_type": "code",
   "execution_count": 1,
   "id": "76729f0e-f742-495b-b676-d9d7b1539e10",
   "metadata": {
    "execution": {
     "iopub.execute_input": "2025-05-20T00:05:27.388365Z",
     "iopub.status.busy": "2025-05-20T00:05:27.388245Z",
     "iopub.status.idle": "2025-05-20T00:05:27.596888Z",
     "shell.execute_reply": "2025-05-20T00:05:27.596457Z"
    },
    "papermill": {
     "duration": 0.211602,
     "end_time": "2025-05-20T00:05:27.598331",
     "exception": false,
     "start_time": "2025-05-20T00:05:27.386729",
     "status": "completed"
    },
    "tags": []
   },
   "outputs": [],
   "source": [
    "import pandas as pd\n",
    "import numpy as np\n",
    "from pathlib import Path"
   ]
  },
  {
   "cell_type": "markdown",
   "id": "b0afcba9-5847-414e-b448-f0cd08ecd8ce",
   "metadata": {
    "papermill": {
     "duration": 0.00116,
     "end_time": "2025-05-20T00:05:27.600854",
     "exception": false,
     "start_time": "2025-05-20T00:05:27.599694",
     "status": "completed"
    },
    "tags": []
   },
   "source": [
    "# Paths"
   ]
  },
  {
   "cell_type": "code",
   "execution_count": 2,
   "id": "81efd6b2",
   "metadata": {
    "execution": {
     "iopub.execute_input": "2025-05-20T00:05:27.603596Z",
     "iopub.status.busy": "2025-05-20T00:05:27.603454Z",
     "iopub.status.idle": "2025-05-20T00:05:27.605457Z",
     "shell.execute_reply": "2025-05-20T00:05:27.605140Z"
    },
    "papermill": {
     "duration": 0.00412,
     "end_time": "2025-05-20T00:05:27.606054",
     "exception": false,
     "start_time": "2025-05-20T00:05:27.601934",
     "status": "completed"
    },
    "tags": []
   },
   "outputs": [],
   "source": [
    "TOP_N_GENES = \"all\""
   ]
  },
  {
   "cell_type": "code",
   "execution_count": 3,
   "id": "35760114-8560-4a0e-ad4f-2bee9104c63d",
   "metadata": {
    "execution": {
     "iopub.execute_input": "2025-05-20T00:05:27.609039Z",
     "iopub.status.busy": "2025-05-20T00:05:27.608823Z",
     "iopub.status.idle": "2025-05-20T00:05:27.612600Z",
     "shell.execute_reply": "2025-05-20T00:05:27.612288Z"
    },
    "papermill": {
     "duration": 0.006022,
     "end_time": "2025-05-20T00:05:27.613228",
     "exception": false,
     "start_time": "2025-05-20T00:05:27.607206",
     "status": "completed"
    },
    "tags": []
   },
   "outputs": [
    {
     "data": {
      "text/plain": [
       "PosixPath('/mnt/data/proj_data/ccc-gpu/gene_expr/data/gtex_v8/similarity_matrices/all')"
      ]
     },
     "metadata": {},
     "output_type": "display_data"
    }
   ],
   "source": [
    "DATA_DIR = Path(\"/mnt/data/proj_data/ccc-gpu/gene_expr/data/gtex_v8\")\n",
    "INPUT_DIR = DATA_DIR / \"similarity_matrices/\" / TOP_N_GENES\n",
    "display(INPUT_DIR)\n",
    "\n",
    "assert INPUT_DIR.exists()"
   ]
  },
  {
   "cell_type": "markdown",
   "id": "5fdf8df6-eba0-4cf5-979c-3acd56a5ef3c",
   "metadata": {
    "papermill": {
     "duration": 0.001108,
     "end_time": "2025-05-20T00:05:27.615571",
     "exception": false,
     "start_time": "2025-05-20T00:05:27.614463",
     "status": "completed"
    },
    "tags": []
   },
   "source": [
    "# Data loading"
   ]
  },
  {
   "cell_type": "code",
   "execution_count": 4,
   "id": "c5b62afd",
   "metadata": {
    "execution": {
     "iopub.execute_input": "2025-05-20T00:05:27.618314Z",
     "iopub.status.busy": "2025-05-20T00:05:27.618197Z",
     "iopub.status.idle": "2025-05-20T00:05:54.937368Z",
     "shell.execute_reply": "2025-05-20T00:05:54.936986Z"
    },
    "papermill": {
     "duration": 27.321548,
     "end_time": "2025-05-20T00:05:54.938323",
     "exception": false,
     "start_time": "2025-05-20T00:05:27.616775",
     "status": "completed"
    },
    "tags": []
   },
   "outputs": [],
   "source": [
    "cpu_res = pd.read_pickle(\n",
    "    INPUT_DIR / f\"gtex_v8_data_whole_blood-var_pc_log2-ccc-{TOP_N_GENES}.pkl\"\n",
    ")\n",
    "gpu_res = pd.read_pickle(\n",
    "    INPUT_DIR / f\"gtex_v8_data_whole_blood-var_pc_log2-ccc_gpu-{TOP_N_GENES}.pkl\"\n",
    ")"
   ]
  },
  {
   "cell_type": "code",
   "execution_count": 5,
   "id": "3a91358d",
   "metadata": {
    "execution": {
     "iopub.execute_input": "2025-05-20T00:05:54.941635Z",
     "iopub.status.busy": "2025-05-20T00:05:54.941524Z",
     "iopub.status.idle": "2025-05-20T00:05:54.943677Z",
     "shell.execute_reply": "2025-05-20T00:05:54.943472Z"
    },
    "papermill": {
     "duration": 0.004489,
     "end_time": "2025-05-20T00:05:54.944311",
     "exception": false,
     "start_time": "2025-05-20T00:05:54.939822",
     "status": "completed"
    },
    "tags": []
   },
   "outputs": [
    {
     "data": {
      "text/plain": [
       "(56200, 56200)"
      ]
     },
     "execution_count": 5,
     "metadata": {},
     "output_type": "execute_result"
    }
   ],
   "source": [
    "cpu_res.shape"
   ]
  },
  {
   "cell_type": "code",
   "execution_count": 6,
   "id": "0cf916ad",
   "metadata": {
    "execution": {
     "iopub.execute_input": "2025-05-20T00:05:54.948277Z",
     "iopub.status.busy": "2025-05-20T00:05:54.947806Z",
     "iopub.status.idle": "2025-05-20T00:05:54.960607Z",
     "shell.execute_reply": "2025-05-20T00:05:54.960290Z"
    },
    "papermill": {
     "duration": 0.015322,
     "end_time": "2025-05-20T00:05:54.961168",
     "exception": false,
     "start_time": "2025-05-20T00:05:54.945846",
     "status": "completed"
    },
    "tags": []
   },
   "outputs": [
    {
     "data": {
      "text/html": [
       "<div>\n",
       "<style scoped>\n",
       "    .dataframe tbody tr th:only-of-type {\n",
       "        vertical-align: middle;\n",
       "    }\n",
       "\n",
       "    .dataframe tbody tr th {\n",
       "        vertical-align: top;\n",
       "    }\n",
       "\n",
       "    .dataframe thead th {\n",
       "        text-align: right;\n",
       "    }\n",
       "</style>\n",
       "<table border=\"1\" class=\"dataframe\">\n",
       "  <thead>\n",
       "    <tr style=\"text-align: right;\">\n",
       "      <th>gene_ens_id</th>\n",
       "      <th>ENSG00000169429.10</th>\n",
       "      <th>ENSG00000135245.9</th>\n",
       "      <th>ENSG00000163631.16</th>\n",
       "      <th>ENSG00000277632.1</th>\n",
       "      <th>ENSG00000239839.6</th>\n",
       "      <th>ENSG00000186652.9</th>\n",
       "      <th>ENSG00000129824.15</th>\n",
       "      <th>ENSG00000152463.14</th>\n",
       "      <th>ENSG00000123689.5</th>\n",
       "      <th>ENSG00000012223.12</th>\n",
       "      <th>...</th>\n",
       "      <th>ENSG00000199224.1</th>\n",
       "      <th>ENSG00000271798.1</th>\n",
       "      <th>ENSG00000229686.1</th>\n",
       "      <th>ENSG00000234273.1</th>\n",
       "      <th>ENSG00000271368.1</th>\n",
       "      <th>ENSG00000278424.1</th>\n",
       "      <th>ENSG00000199024.1</th>\n",
       "      <th>ENSG00000278281.1</th>\n",
       "      <th>ENSG00000232661.1</th>\n",
       "      <th>ENSG00000206780.1</th>\n",
       "    </tr>\n",
       "    <tr>\n",
       "      <th>gene_ens_id</th>\n",
       "      <th></th>\n",
       "      <th></th>\n",
       "      <th></th>\n",
       "      <th></th>\n",
       "      <th></th>\n",
       "      <th></th>\n",
       "      <th></th>\n",
       "      <th></th>\n",
       "      <th></th>\n",
       "      <th></th>\n",
       "      <th></th>\n",
       "      <th></th>\n",
       "      <th></th>\n",
       "      <th></th>\n",
       "      <th></th>\n",
       "      <th></th>\n",
       "      <th></th>\n",
       "      <th></th>\n",
       "      <th></th>\n",
       "      <th></th>\n",
       "      <th></th>\n",
       "    </tr>\n",
       "  </thead>\n",
       "  <tbody>\n",
       "    <tr>\n",
       "      <th>ENSG00000169429.10</th>\n",
       "      <td>1.000000</td>\n",
       "      <td>0.780181</td>\n",
       "      <td>0.401717</td>\n",
       "      <td>0.789583</td>\n",
       "      <td>0.139359</td>\n",
       "      <td>0.524274</td>\n",
       "      <td>0.048667</td>\n",
       "      <td>0.365544</td>\n",
       "      <td>0.799041</td>\n",
       "      <td>0.343411</td>\n",
       "      <td>...</td>\n",
       "      <td>NaN</td>\n",
       "      <td>NaN</td>\n",
       "      <td>NaN</td>\n",
       "      <td>NaN</td>\n",
       "      <td>NaN</td>\n",
       "      <td>NaN</td>\n",
       "      <td>NaN</td>\n",
       "      <td>NaN</td>\n",
       "      <td>NaN</td>\n",
       "      <td>NaN</td>\n",
       "    </tr>\n",
       "    <tr>\n",
       "      <th>ENSG00000135245.9</th>\n",
       "      <td>0.780181</td>\n",
       "      <td>1.000000</td>\n",
       "      <td>0.429092</td>\n",
       "      <td>0.780181</td>\n",
       "      <td>0.159947</td>\n",
       "      <td>0.516615</td>\n",
       "      <td>0.042631</td>\n",
       "      <td>0.334136</td>\n",
       "      <td>0.752314</td>\n",
       "      <td>0.355974</td>\n",
       "      <td>...</td>\n",
       "      <td>NaN</td>\n",
       "      <td>NaN</td>\n",
       "      <td>NaN</td>\n",
       "      <td>NaN</td>\n",
       "      <td>NaN</td>\n",
       "      <td>NaN</td>\n",
       "      <td>NaN</td>\n",
       "      <td>NaN</td>\n",
       "      <td>NaN</td>\n",
       "      <td>NaN</td>\n",
       "    </tr>\n",
       "    <tr>\n",
       "      <th>ENSG00000163631.16</th>\n",
       "      <td>0.401717</td>\n",
       "      <td>0.429092</td>\n",
       "      <td>1.000000</td>\n",
       "      <td>0.408476</td>\n",
       "      <td>0.127681</td>\n",
       "      <td>0.401717</td>\n",
       "      <td>0.020316</td>\n",
       "      <td>0.232700</td>\n",
       "      <td>0.381776</td>\n",
       "      <td>0.261762</td>\n",
       "      <td>...</td>\n",
       "      <td>NaN</td>\n",
       "      <td>NaN</td>\n",
       "      <td>NaN</td>\n",
       "      <td>NaN</td>\n",
       "      <td>NaN</td>\n",
       "      <td>NaN</td>\n",
       "      <td>NaN</td>\n",
       "      <td>NaN</td>\n",
       "      <td>NaN</td>\n",
       "      <td>NaN</td>\n",
       "    </tr>\n",
       "    <tr>\n",
       "      <th>ENSG00000277632.1</th>\n",
       "      <td>0.789583</td>\n",
       "      <td>0.780181</td>\n",
       "      <td>0.408476</td>\n",
       "      <td>1.000000</td>\n",
       "      <td>0.151543</td>\n",
       "      <td>0.547588</td>\n",
       "      <td>0.055712</td>\n",
       "      <td>0.346530</td>\n",
       "      <td>0.761547</td>\n",
       "      <td>0.381776</td>\n",
       "      <td>...</td>\n",
       "      <td>NaN</td>\n",
       "      <td>NaN</td>\n",
       "      <td>NaN</td>\n",
       "      <td>NaN</td>\n",
       "      <td>NaN</td>\n",
       "      <td>NaN</td>\n",
       "      <td>NaN</td>\n",
       "      <td>NaN</td>\n",
       "      <td>NaN</td>\n",
       "      <td>NaN</td>\n",
       "    </tr>\n",
       "    <tr>\n",
       "      <th>ENSG00000239839.6</th>\n",
       "      <td>0.139359</td>\n",
       "      <td>0.159947</td>\n",
       "      <td>0.127681</td>\n",
       "      <td>0.151543</td>\n",
       "      <td>1.000000</td>\n",
       "      <td>0.272752</td>\n",
       "      <td>0.008065</td>\n",
       "      <td>0.100699</td>\n",
       "      <td>0.135411</td>\n",
       "      <td>0.318958</td>\n",
       "      <td>...</td>\n",
       "      <td>NaN</td>\n",
       "      <td>NaN</td>\n",
       "      <td>NaN</td>\n",
       "      <td>NaN</td>\n",
       "      <td>NaN</td>\n",
       "      <td>NaN</td>\n",
       "      <td>NaN</td>\n",
       "      <td>NaN</td>\n",
       "      <td>NaN</td>\n",
       "      <td>NaN</td>\n",
       "    </tr>\n",
       "  </tbody>\n",
       "</table>\n",
       "<p>5 rows × 56200 columns</p>\n",
       "</div>"
      ],
      "text/plain": [
       "gene_ens_id         ENSG00000169429.10  ENSG00000135245.9  ENSG00000163631.16  \\\n",
       "gene_ens_id                                                                     \n",
       "ENSG00000169429.10            1.000000           0.780181            0.401717   \n",
       "ENSG00000135245.9             0.780181           1.000000            0.429092   \n",
       "ENSG00000163631.16            0.401717           0.429092            1.000000   \n",
       "ENSG00000277632.1             0.789583           0.780181            0.408476   \n",
       "ENSG00000239839.6             0.139359           0.159947            0.127681   \n",
       "\n",
       "gene_ens_id         ENSG00000277632.1  ENSG00000239839.6  ENSG00000186652.9  \\\n",
       "gene_ens_id                                                                   \n",
       "ENSG00000169429.10           0.789583           0.139359           0.524274   \n",
       "ENSG00000135245.9            0.780181           0.159947           0.516615   \n",
       "ENSG00000163631.16           0.408476           0.127681           0.401717   \n",
       "ENSG00000277632.1            1.000000           0.151543           0.547588   \n",
       "ENSG00000239839.6            0.151543           1.000000           0.272752   \n",
       "\n",
       "gene_ens_id         ENSG00000129824.15  ENSG00000152463.14  ENSG00000123689.5  \\\n",
       "gene_ens_id                                                                     \n",
       "ENSG00000169429.10            0.048667            0.365544           0.799041   \n",
       "ENSG00000135245.9             0.042631            0.334136           0.752314   \n",
       "ENSG00000163631.16            0.020316            0.232700           0.381776   \n",
       "ENSG00000277632.1             0.055712            0.346530           0.761547   \n",
       "ENSG00000239839.6             0.008065            0.100699           0.135411   \n",
       "\n",
       "gene_ens_id         ENSG00000012223.12  ...  ENSG00000199224.1  \\\n",
       "gene_ens_id                             ...                      \n",
       "ENSG00000169429.10            0.343411  ...                NaN   \n",
       "ENSG00000135245.9             0.355974  ...                NaN   \n",
       "ENSG00000163631.16            0.261762  ...                NaN   \n",
       "ENSG00000277632.1             0.381776  ...                NaN   \n",
       "ENSG00000239839.6             0.318958  ...                NaN   \n",
       "\n",
       "gene_ens_id         ENSG00000271798.1  ENSG00000229686.1  ENSG00000234273.1  \\\n",
       "gene_ens_id                                                                   \n",
       "ENSG00000169429.10                NaN                NaN                NaN   \n",
       "ENSG00000135245.9                 NaN                NaN                NaN   \n",
       "ENSG00000163631.16                NaN                NaN                NaN   \n",
       "ENSG00000277632.1                 NaN                NaN                NaN   \n",
       "ENSG00000239839.6                 NaN                NaN                NaN   \n",
       "\n",
       "gene_ens_id         ENSG00000271368.1  ENSG00000278424.1  ENSG00000199024.1  \\\n",
       "gene_ens_id                                                                   \n",
       "ENSG00000169429.10                NaN                NaN                NaN   \n",
       "ENSG00000135245.9                 NaN                NaN                NaN   \n",
       "ENSG00000163631.16                NaN                NaN                NaN   \n",
       "ENSG00000277632.1                 NaN                NaN                NaN   \n",
       "ENSG00000239839.6                 NaN                NaN                NaN   \n",
       "\n",
       "gene_ens_id         ENSG00000278281.1  ENSG00000232661.1  ENSG00000206780.1  \n",
       "gene_ens_id                                                                  \n",
       "ENSG00000169429.10                NaN                NaN                NaN  \n",
       "ENSG00000135245.9                 NaN                NaN                NaN  \n",
       "ENSG00000163631.16                NaN                NaN                NaN  \n",
       "ENSG00000277632.1                 NaN                NaN                NaN  \n",
       "ENSG00000239839.6                 NaN                NaN                NaN  \n",
       "\n",
       "[5 rows x 56200 columns]"
      ]
     },
     "execution_count": 6,
     "metadata": {},
     "output_type": "execute_result"
    }
   ],
   "source": [
    "cpu_res.head()"
   ]
  },
  {
   "cell_type": "code",
   "execution_count": 7,
   "id": "e3c52541",
   "metadata": {
    "execution": {
     "iopub.execute_input": "2025-05-20T00:05:54.964489Z",
     "iopub.status.busy": "2025-05-20T00:05:54.964236Z",
     "iopub.status.idle": "2025-05-20T00:05:54.966399Z",
     "shell.execute_reply": "2025-05-20T00:05:54.966099Z"
    },
    "papermill": {
     "duration": 0.004318,
     "end_time": "2025-05-20T00:05:54.966904",
     "exception": false,
     "start_time": "2025-05-20T00:05:54.962586",
     "status": "completed"
    },
    "tags": []
   },
   "outputs": [
    {
     "data": {
      "text/plain": [
       "(56200, 56200)"
      ]
     },
     "execution_count": 7,
     "metadata": {},
     "output_type": "execute_result"
    }
   ],
   "source": [
    "gpu_res.shape"
   ]
  },
  {
   "cell_type": "code",
   "execution_count": 8,
   "id": "60343864",
   "metadata": {
    "execution": {
     "iopub.execute_input": "2025-05-20T00:05:54.970284Z",
     "iopub.status.busy": "2025-05-20T00:05:54.970124Z",
     "iopub.status.idle": "2025-05-20T00:05:54.983561Z",
     "shell.execute_reply": "2025-05-20T00:05:54.983286Z"
    },
    "papermill": {
     "duration": 0.015716,
     "end_time": "2025-05-20T00:05:54.984063",
     "exception": false,
     "start_time": "2025-05-20T00:05:54.968347",
     "status": "completed"
    },
    "tags": []
   },
   "outputs": [
    {
     "data": {
      "text/html": [
       "<div>\n",
       "<style scoped>\n",
       "    .dataframe tbody tr th:only-of-type {\n",
       "        vertical-align: middle;\n",
       "    }\n",
       "\n",
       "    .dataframe tbody tr th {\n",
       "        vertical-align: top;\n",
       "    }\n",
       "\n",
       "    .dataframe thead th {\n",
       "        text-align: right;\n",
       "    }\n",
       "</style>\n",
       "<table border=\"1\" class=\"dataframe\">\n",
       "  <thead>\n",
       "    <tr style=\"text-align: right;\">\n",
       "      <th>gene_ens_id</th>\n",
       "      <th>ENSG00000169429.10</th>\n",
       "      <th>ENSG00000135245.9</th>\n",
       "      <th>ENSG00000163631.16</th>\n",
       "      <th>ENSG00000277632.1</th>\n",
       "      <th>ENSG00000239839.6</th>\n",
       "      <th>ENSG00000186652.9</th>\n",
       "      <th>ENSG00000129824.15</th>\n",
       "      <th>ENSG00000152463.14</th>\n",
       "      <th>ENSG00000123689.5</th>\n",
       "      <th>ENSG00000012223.12</th>\n",
       "      <th>...</th>\n",
       "      <th>ENSG00000199224.1</th>\n",
       "      <th>ENSG00000271798.1</th>\n",
       "      <th>ENSG00000229686.1</th>\n",
       "      <th>ENSG00000234273.1</th>\n",
       "      <th>ENSG00000271368.1</th>\n",
       "      <th>ENSG00000278424.1</th>\n",
       "      <th>ENSG00000199024.1</th>\n",
       "      <th>ENSG00000278281.1</th>\n",
       "      <th>ENSG00000232661.1</th>\n",
       "      <th>ENSG00000206780.1</th>\n",
       "    </tr>\n",
       "    <tr>\n",
       "      <th>gene_ens_id</th>\n",
       "      <th></th>\n",
       "      <th></th>\n",
       "      <th></th>\n",
       "      <th></th>\n",
       "      <th></th>\n",
       "      <th></th>\n",
       "      <th></th>\n",
       "      <th></th>\n",
       "      <th></th>\n",
       "      <th></th>\n",
       "      <th></th>\n",
       "      <th></th>\n",
       "      <th></th>\n",
       "      <th></th>\n",
       "      <th></th>\n",
       "      <th></th>\n",
       "      <th></th>\n",
       "      <th></th>\n",
       "      <th></th>\n",
       "      <th></th>\n",
       "      <th></th>\n",
       "    </tr>\n",
       "  </thead>\n",
       "  <tbody>\n",
       "    <tr>\n",
       "      <th>ENSG00000169429.10</th>\n",
       "      <td>1.000000</td>\n",
       "      <td>0.780181</td>\n",
       "      <td>0.401717</td>\n",
       "      <td>0.789583</td>\n",
       "      <td>0.139359</td>\n",
       "      <td>0.524274</td>\n",
       "      <td>0.048667</td>\n",
       "      <td>0.365544</td>\n",
       "      <td>0.799041</td>\n",
       "      <td>0.343411</td>\n",
       "      <td>...</td>\n",
       "      <td>NaN</td>\n",
       "      <td>NaN</td>\n",
       "      <td>NaN</td>\n",
       "      <td>NaN</td>\n",
       "      <td>NaN</td>\n",
       "      <td>NaN</td>\n",
       "      <td>NaN</td>\n",
       "      <td>NaN</td>\n",
       "      <td>NaN</td>\n",
       "      <td>NaN</td>\n",
       "    </tr>\n",
       "    <tr>\n",
       "      <th>ENSG00000135245.9</th>\n",
       "      <td>0.780181</td>\n",
       "      <td>1.000000</td>\n",
       "      <td>0.429092</td>\n",
       "      <td>0.780181</td>\n",
       "      <td>0.159947</td>\n",
       "      <td>0.516615</td>\n",
       "      <td>0.042631</td>\n",
       "      <td>0.334136</td>\n",
       "      <td>0.752314</td>\n",
       "      <td>0.355974</td>\n",
       "      <td>...</td>\n",
       "      <td>NaN</td>\n",
       "      <td>NaN</td>\n",
       "      <td>NaN</td>\n",
       "      <td>NaN</td>\n",
       "      <td>NaN</td>\n",
       "      <td>NaN</td>\n",
       "      <td>NaN</td>\n",
       "      <td>NaN</td>\n",
       "      <td>NaN</td>\n",
       "      <td>NaN</td>\n",
       "    </tr>\n",
       "    <tr>\n",
       "      <th>ENSG00000163631.16</th>\n",
       "      <td>0.401717</td>\n",
       "      <td>0.429092</td>\n",
       "      <td>1.000000</td>\n",
       "      <td>0.408477</td>\n",
       "      <td>0.127681</td>\n",
       "      <td>0.401717</td>\n",
       "      <td>0.020316</td>\n",
       "      <td>0.232700</td>\n",
       "      <td>0.381776</td>\n",
       "      <td>0.261762</td>\n",
       "      <td>...</td>\n",
       "      <td>NaN</td>\n",
       "      <td>NaN</td>\n",
       "      <td>NaN</td>\n",
       "      <td>NaN</td>\n",
       "      <td>NaN</td>\n",
       "      <td>NaN</td>\n",
       "      <td>NaN</td>\n",
       "      <td>NaN</td>\n",
       "      <td>NaN</td>\n",
       "      <td>NaN</td>\n",
       "    </tr>\n",
       "    <tr>\n",
       "      <th>ENSG00000277632.1</th>\n",
       "      <td>0.789583</td>\n",
       "      <td>0.780181</td>\n",
       "      <td>0.408477</td>\n",
       "      <td>1.000000</td>\n",
       "      <td>0.151543</td>\n",
       "      <td>0.547588</td>\n",
       "      <td>0.055712</td>\n",
       "      <td>0.346530</td>\n",
       "      <td>0.761547</td>\n",
       "      <td>0.381776</td>\n",
       "      <td>...</td>\n",
       "      <td>NaN</td>\n",
       "      <td>NaN</td>\n",
       "      <td>NaN</td>\n",
       "      <td>NaN</td>\n",
       "      <td>NaN</td>\n",
       "      <td>NaN</td>\n",
       "      <td>NaN</td>\n",
       "      <td>NaN</td>\n",
       "      <td>NaN</td>\n",
       "      <td>NaN</td>\n",
       "    </tr>\n",
       "    <tr>\n",
       "      <th>ENSG00000239839.6</th>\n",
       "      <td>0.139359</td>\n",
       "      <td>0.159947</td>\n",
       "      <td>0.127681</td>\n",
       "      <td>0.151543</td>\n",
       "      <td>1.000000</td>\n",
       "      <td>0.272752</td>\n",
       "      <td>0.008065</td>\n",
       "      <td>0.100699</td>\n",
       "      <td>0.135411</td>\n",
       "      <td>0.318958</td>\n",
       "      <td>...</td>\n",
       "      <td>NaN</td>\n",
       "      <td>NaN</td>\n",
       "      <td>NaN</td>\n",
       "      <td>NaN</td>\n",
       "      <td>NaN</td>\n",
       "      <td>NaN</td>\n",
       "      <td>NaN</td>\n",
       "      <td>NaN</td>\n",
       "      <td>NaN</td>\n",
       "      <td>NaN</td>\n",
       "    </tr>\n",
       "  </tbody>\n",
       "</table>\n",
       "<p>5 rows × 56200 columns</p>\n",
       "</div>"
      ],
      "text/plain": [
       "gene_ens_id         ENSG00000169429.10  ENSG00000135245.9  ENSG00000163631.16  \\\n",
       "gene_ens_id                                                                     \n",
       "ENSG00000169429.10            1.000000           0.780181            0.401717   \n",
       "ENSG00000135245.9             0.780181           1.000000            0.429092   \n",
       "ENSG00000163631.16            0.401717           0.429092            1.000000   \n",
       "ENSG00000277632.1             0.789583           0.780181            0.408477   \n",
       "ENSG00000239839.6             0.139359           0.159947            0.127681   \n",
       "\n",
       "gene_ens_id         ENSG00000277632.1  ENSG00000239839.6  ENSG00000186652.9  \\\n",
       "gene_ens_id                                                                   \n",
       "ENSG00000169429.10           0.789583           0.139359           0.524274   \n",
       "ENSG00000135245.9            0.780181           0.159947           0.516615   \n",
       "ENSG00000163631.16           0.408477           0.127681           0.401717   \n",
       "ENSG00000277632.1            1.000000           0.151543           0.547588   \n",
       "ENSG00000239839.6            0.151543           1.000000           0.272752   \n",
       "\n",
       "gene_ens_id         ENSG00000129824.15  ENSG00000152463.14  ENSG00000123689.5  \\\n",
       "gene_ens_id                                                                     \n",
       "ENSG00000169429.10            0.048667            0.365544           0.799041   \n",
       "ENSG00000135245.9             0.042631            0.334136           0.752314   \n",
       "ENSG00000163631.16            0.020316            0.232700           0.381776   \n",
       "ENSG00000277632.1             0.055712            0.346530           0.761547   \n",
       "ENSG00000239839.6             0.008065            0.100699           0.135411   \n",
       "\n",
       "gene_ens_id         ENSG00000012223.12  ...  ENSG00000199224.1  \\\n",
       "gene_ens_id                             ...                      \n",
       "ENSG00000169429.10            0.343411  ...                NaN   \n",
       "ENSG00000135245.9             0.355974  ...                NaN   \n",
       "ENSG00000163631.16            0.261762  ...                NaN   \n",
       "ENSG00000277632.1             0.381776  ...                NaN   \n",
       "ENSG00000239839.6             0.318958  ...                NaN   \n",
       "\n",
       "gene_ens_id         ENSG00000271798.1  ENSG00000229686.1  ENSG00000234273.1  \\\n",
       "gene_ens_id                                                                   \n",
       "ENSG00000169429.10                NaN                NaN                NaN   \n",
       "ENSG00000135245.9                 NaN                NaN                NaN   \n",
       "ENSG00000163631.16                NaN                NaN                NaN   \n",
       "ENSG00000277632.1                 NaN                NaN                NaN   \n",
       "ENSG00000239839.6                 NaN                NaN                NaN   \n",
       "\n",
       "gene_ens_id         ENSG00000271368.1  ENSG00000278424.1  ENSG00000199024.1  \\\n",
       "gene_ens_id                                                                   \n",
       "ENSG00000169429.10                NaN                NaN                NaN   \n",
       "ENSG00000135245.9                 NaN                NaN                NaN   \n",
       "ENSG00000163631.16                NaN                NaN                NaN   \n",
       "ENSG00000277632.1                 NaN                NaN                NaN   \n",
       "ENSG00000239839.6                 NaN                NaN                NaN   \n",
       "\n",
       "gene_ens_id         ENSG00000278281.1  ENSG00000232661.1  ENSG00000206780.1  \n",
       "gene_ens_id                                                                  \n",
       "ENSG00000169429.10                NaN                NaN                NaN  \n",
       "ENSG00000135245.9                 NaN                NaN                NaN  \n",
       "ENSG00000163631.16                NaN                NaN                NaN  \n",
       "ENSG00000277632.1                 NaN                NaN                NaN  \n",
       "ENSG00000239839.6                 NaN                NaN                NaN  \n",
       "\n",
       "[5 rows x 56200 columns]"
      ]
     },
     "execution_count": 8,
     "metadata": {},
     "output_type": "execute_result"
    }
   ],
   "source": [
    "gpu_res.head()"
   ]
  },
  {
   "cell_type": "code",
   "execution_count": 9,
   "id": "a395b590",
   "metadata": {
    "execution": {
     "iopub.execute_input": "2025-05-20T00:05:54.987842Z",
     "iopub.status.busy": "2025-05-20T00:05:54.987566Z",
     "iopub.status.idle": "2025-05-20T00:05:54.992648Z",
     "shell.execute_reply": "2025-05-20T00:05:54.992373Z"
    },
    "papermill": {
     "duration": 0.007391,
     "end_time": "2025-05-20T00:05:54.993148",
     "exception": false,
     "start_time": "2025-05-20T00:05:54.985757",
     "status": "completed"
    },
    "tags": []
   },
   "outputs": [
    {
     "data": {
      "text/plain": [
       "gene_ens_id\n",
       "ENSG00000169429.10    0.135411\n",
       "ENSG00000135245.9     0.114192\n",
       "ENSG00000163631.16    0.079873\n",
       "ENSG00000277632.1     0.123901\n",
       "ENSG00000239839.6     0.040029\n",
       "                        ...   \n",
       "ENSG00000278424.1          NaN\n",
       "ENSG00000199024.1          NaN\n",
       "ENSG00000278281.1          NaN\n",
       "ENSG00000232661.1          NaN\n",
       "ENSG00000206780.1          NaN\n",
       "Name: ENSG00000234741.7, Length: 56200, dtype: float32"
      ]
     },
     "execution_count": 9,
     "metadata": {},
     "output_type": "execute_result"
    }
   ],
   "source": [
    "gpu_res[\"ENSG00000234741.7\"]"
   ]
  },
  {
   "cell_type": "code",
   "execution_count": 10,
   "id": "b67ab12f",
   "metadata": {
    "execution": {
     "iopub.execute_input": "2025-05-20T00:05:54.997064Z",
     "iopub.status.busy": "2025-05-20T00:05:54.996782Z",
     "iopub.status.idle": "2025-05-20T00:05:55.001963Z",
     "shell.execute_reply": "2025-05-20T00:05:55.001690Z"
    },
    "papermill": {
     "duration": 0.0077,
     "end_time": "2025-05-20T00:05:55.002500",
     "exception": false,
     "start_time": "2025-05-20T00:05:54.994800",
     "status": "completed"
    },
    "tags": []
   },
   "outputs": [
    {
     "data": {
      "text/plain": [
       "gene_ens_id\n",
       "ENSG00000169429.10    0.135411\n",
       "ENSG00000135245.9     0.114192\n",
       "ENSG00000163631.16    0.079873\n",
       "ENSG00000277632.1     0.123901\n",
       "ENSG00000239839.6     0.040029\n",
       "                        ...   \n",
       "ENSG00000278424.1          NaN\n",
       "ENSG00000199024.1          NaN\n",
       "ENSG00000278281.1          NaN\n",
       "ENSG00000232661.1          NaN\n",
       "ENSG00000206780.1          NaN\n",
       "Name: ENSG00000234741.7, Length: 56200, dtype: float64"
      ]
     },
     "execution_count": 10,
     "metadata": {},
     "output_type": "execute_result"
    }
   ],
   "source": [
    "cpu_res[\"ENSG00000234741.7\"]"
   ]
  },
  {
   "cell_type": "code",
   "execution_count": 11,
   "id": "20bb7130",
   "metadata": {
    "execution": {
     "iopub.execute_input": "2025-05-20T00:05:55.006533Z",
     "iopub.status.busy": "2025-05-20T00:05:55.006239Z",
     "iopub.status.idle": "2025-05-20T00:37:09.631195Z",
     "shell.execute_reply": "2025-05-20T00:37:09.630734Z"
    },
    "papermill": {
     "duration": 1874.628907,
     "end_time": "2025-05-20T00:37:09.633098",
     "exception": false,
     "start_time": "2025-05-20T00:05:55.004191",
     "status": "completed"
    },
    "tags": []
   },
   "outputs": [],
   "source": [
    "# Assert the results are close\n",
    "gpu_res = gpu_res.astype(np.float64)  # convert gpu_res to float64\n",
    "pd.testing.assert_frame_equal(cpu_res, gpu_res, atol=1e-7)  # default atol is 1e-8"
   ]
  }
 ],
 "metadata": {
  "jupytext": {
   "cell_metadata_filter": "all,-execution,-papermill,-trusted",
   "notebook_metadata_filter": "-jupytext.text_representation.jupytext_version"
  },
  "kernelspec": {
   "display_name": "Python 3 (ipykernel)",
   "language": "python",
   "name": "python3"
  },
  "papermill": {
   "default_parameters": {},
   "duration": 1905.14876,
   "end_time": "2025-05-20T00:37:11.862125",
   "environment_variables": {},
   "exception": null,
   "input_path": "10_compute_correlations/05_gtex_v8/all/07-verify_results.ipynb",
   "output_path": "10_compute_correlations/05_gtex_v8/all/07-verify_results.run.ipynb",
   "parameters": {},
   "start_time": "2025-05-20T00:05:26.713365",
   "version": "2.3.3"
  }
 },
 "nbformat": 4,
 "nbformat_minor": 5
}
