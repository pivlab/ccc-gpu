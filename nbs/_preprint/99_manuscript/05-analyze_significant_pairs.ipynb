{
 "cells": [
  {
   "cell_type": "markdown",
   "id": "ec52faa3-656f-483e-9617-d7ec0f7d818c",
   "metadata": {
    "papermill": {
     "duration": 0.009853,
     "end_time": "2024-01-03T06:26:45.256300",
     "exception": false,
     "start_time": "2024-01-03T06:26:45.246447",
     "status": "completed"
    },
    "tags": []
   },
   "source": [
    "# Description"
   ]
  },
  {
   "cell_type": "markdown",
   "id": "51102f42-fcd9-4a58-9c8d-dfcd3d2d464e",
   "metadata": {
    "papermill": {
     "duration": 0.008351,
     "end_time": "2024-01-03T06:26:45.275183",
     "exception": false,
     "start_time": "2024-01-03T06:26:45.266832",
     "status": "completed"
    },
    "tags": []
   },
   "source": [
    "After the manuscript revision, here I analyze each gene pair in Figure 3b to see which one can be replaced taking into account the significance of the correlation coefficients."
   ]
  },
  {
   "cell_type": "markdown",
   "id": "7006ceeb-2651-407d-bfa1-1039727649ef",
   "metadata": {
    "papermill": {
     "duration": 0.008318,
     "end_time": "2024-01-03T06:26:45.292036",
     "exception": false,
     "start_time": "2024-01-03T06:26:45.283718",
     "status": "completed"
    },
    "tags": []
   },
   "source": [
    "# Modules loading"
   ]
  },
  {
   "cell_type": "code",
   "execution_count": 2,
   "id": "1ffa1a96-7545-40b9-ac8b-8627e13de8d4",
   "metadata": {
    "execution": {
     "iopub.execute_input": "2024-01-03T06:26:45.310240Z",
     "iopub.status.busy": "2024-01-03T06:26:45.309728Z",
     "iopub.status.idle": "2024-01-03T06:26:45.845713Z",
     "shell.execute_reply": "2024-01-03T06:26:45.845283Z"
    },
    "papermill": {
     "duration": 0.546832,
     "end_time": "2024-01-03T06:26:45.847325",
     "exception": false,
     "start_time": "2024-01-03T06:26:45.300493",
     "status": "completed"
    },
    "tags": []
   },
   "outputs": [],
   "source": [
    "import numpy as np\n",
    "import pandas as pd\n",
    "import os\n",
    "\n",
    "import matplotlib.pyplot as plt\n",
    "import seaborn as sns\n",
    "\n",
    "from pathlib import Path\n",
    "from ccc import conf"
   ]
  },
  {
   "cell_type": "markdown",
   "id": "0d3cc810-4b17-4213-8f03-6fe7e97a0fe3",
   "metadata": {
    "papermill": {
     "duration": 0.010657,
     "end_time": "2024-01-03T06:26:45.866726",
     "exception": false,
     "start_time": "2024-01-03T06:26:45.856069",
     "status": "completed"
    },
    "tags": []
   },
   "source": [
    "# Settings"
   ]
  },
  {
   "cell_type": "code",
   "execution_count": 3,
   "id": "9a154623-c787-4a31-871a-cad173f0eb9f",
   "metadata": {
    "execution": {
     "iopub.execute_input": "2024-01-03T06:26:45.884294Z",
     "iopub.status.busy": "2024-01-03T06:26:45.884190Z",
     "iopub.status.idle": "2024-01-03T06:26:45.886665Z",
     "shell.execute_reply": "2024-01-03T06:26:45.886288Z"
    },
    "papermill": {
     "duration": 0.012706,
     "end_time": "2024-01-03T06:26:45.887900",
     "exception": false,
     "start_time": "2024-01-03T06:26:45.875194",
     "status": "completed"
    },
    "tags": []
   },
   "outputs": [],
   "source": [
    "GTEX_TISSUE = \"whole_blood\"\n",
    "GENE_SEL_STRATEGY = \"var_pc_log2\"\n",
    "# Configuration constants\n",
    "TOP_N_GENES = \"all\"\n",
    "DATA_DIR = Path(\"/mnt/data/proj_data/ccc-gpu/gene_expr/data/gtex_v8\")\n",
    "GENE_SELECTION_DIR = DATA_DIR / \"gene_selection\" / TOP_N_GENES\n",
    "SIMILARITY_MATRICES_DIR = DATA_DIR / \"similarity_matrices\" / TOP_N_GENES"
   ]
  },
  {
   "cell_type": "markdown",
   "id": "5b09ff83-5377-49a9-b24b-65c6c90277d6",
   "metadata": {
    "papermill": {
     "duration": 0.008483,
     "end_time": "2024-01-03T06:26:45.904927",
     "exception": false,
     "start_time": "2024-01-03T06:26:45.896444",
     "status": "completed"
    },
    "tags": []
   },
   "source": [
    "# Paths"
   ]
  },
  {
   "cell_type": "code",
   "execution_count": 4,
   "id": "3ca43a02-8b27-4869-8f61-9d9f21d8dd76",
   "metadata": {
    "execution": {
     "iopub.execute_input": "2024-01-03T06:26:45.922508Z",
     "iopub.status.busy": "2024-01-03T06:26:45.922423Z",
     "iopub.status.idle": "2024-01-03T06:26:45.924773Z",
     "shell.execute_reply": "2024-01-03T06:26:45.924320Z"
    },
    "papermill": {
     "duration": 0.012596,
     "end_time": "2024-01-03T06:26:45.926078",
     "exception": false,
     "start_time": "2024-01-03T06:26:45.913482",
     "status": "completed"
    },
    "tags": []
   },
   "outputs": [],
   "source": [
    "MANUSCRIPT_DIR = Path(\"/mnt/data/projs/manuscripts/ccc-gpu/\")\n",
    "assert MANUSCRIPT_DIR.exists(), \"Manuscript dir not found\""
   ]
  },
  {
   "cell_type": "code",
   "execution_count": 5,
   "id": "1cb9377d-c826-444b-8ee1-fc209b336e60",
   "metadata": {
    "execution": {
     "iopub.execute_input": "2024-01-03T06:26:45.943659Z",
     "iopub.status.busy": "2024-01-03T06:26:45.943293Z",
     "iopub.status.idle": "2024-01-03T06:26:45.948929Z",
     "shell.execute_reply": "2024-01-03T06:26:45.948428Z"
    },
    "papermill": {
     "duration": 0.015186,
     "end_time": "2024-01-03T06:26:45.949823",
     "exception": false,
     "start_time": "2024-01-03T06:26:45.934637",
     "status": "completed"
    },
    "tags": []
   },
   "outputs": [
    {
     "data": {
      "text/plain": [
       "PosixPath('/mnt/data/projs/manuscripts/ccc-gpu/results')"
      ]
     },
     "metadata": {},
     "output_type": "display_data"
    }
   ],
   "source": [
    "OUTPUT_DATA_DIR = MANUSCRIPT_DIR / \"results\"\n",
    "assert OUTPUT_DATA_DIR.exists()\n",
    "display(OUTPUT_DATA_DIR)"
   ]
  },
  {
   "cell_type": "code",
   "execution_count": 6,
   "id": "641ebf93-b420-4420-98d4-c8b00da79071",
   "metadata": {
    "execution": {
     "iopub.execute_input": "2024-01-03T06:26:45.960132Z",
     "iopub.status.busy": "2024-01-03T06:26:45.959623Z",
     "iopub.status.idle": "2024-01-03T06:26:45.964051Z",
     "shell.execute_reply": "2024-01-03T06:26:45.963595Z"
    },
    "papermill": {
     "duration": 0.01052,
     "end_time": "2024-01-03T06:26:45.964928",
     "exception": false,
     "start_time": "2024-01-03T06:26:45.954408",
     "status": "completed"
    },
    "tags": []
   },
   "outputs": [
    {
     "data": {
      "text/plain": [
       "PosixPath('/mnt/data/projs/manuscripts/ccc-gpu/figures/coefs_comp/gtex_whole_blood')"
      ]
     },
     "metadata": {},
     "output_type": "display_data"
    }
   ],
   "source": [
    "OUTPUT_FIGURE_DIR = MANUSCRIPT_DIR / \"figures\" / \"coefs_comp\" / f\"gtex_{GTEX_TISSUE}\"\n",
    "OUTPUT_FIGURE_DIR.mkdir(parents=True, exist_ok=True)\n",
    "display(OUTPUT_FIGURE_DIR)"
   ]
  },
  {
   "cell_type": "code",
   "execution_count": 7,
   "id": "2741f7c5-a427-4f35-9cda-954d22778894",
   "metadata": {
    "execution": {
     "iopub.execute_input": "2024-01-03T06:26:45.975080Z",
     "iopub.status.busy": "2024-01-03T06:26:45.974758Z",
     "iopub.status.idle": "2024-01-03T06:26:45.978891Z",
     "shell.execute_reply": "2024-01-03T06:26:45.978428Z"
    },
    "papermill": {
     "duration": 0.010205,
     "end_time": "2024-01-03T06:26:45.979759",
     "exception": false,
     "start_time": "2024-01-03T06:26:45.969554",
     "status": "completed"
    },
    "tags": []
   },
   "outputs": [
    {
     "data": {
      "text/plain": [
       "PosixPath('/mnt/data/proj_data/ccc-gpu/gene_expr/data/gtex_v8/gene_selection/all/gtex_v8_data_whole_blood-var_pc_log2.pkl')"
      ]
     },
     "metadata": {},
     "output_type": "display_data"
    }
   ],
   "source": [
    "INPUT_GENE_EXPR_FILE = (\n",
    "    GENE_SELECTION_DIR / f\"gtex_v8_data_{GTEX_TISSUE}-{GENE_SEL_STRATEGY}.pkl\"\n",
    ")\n",
    "display(INPUT_GENE_EXPR_FILE)\n",
    "\n",
    "assert INPUT_GENE_EXPR_FILE.exists()"
   ]
  },
  {
   "cell_type": "code",
   "execution_count": 8,
   "id": "3d1c2867-089c-4af0-8828-286e59834d0f",
   "metadata": {
    "execution": {
     "iopub.execute_input": "2024-01-03T06:26:46.010426Z",
     "iopub.status.busy": "2024-01-03T06:26:46.010047Z",
     "iopub.status.idle": "2024-01-03T06:26:46.014291Z",
     "shell.execute_reply": "2024-01-03T06:26:46.013827Z"
    },
    "papermill": {
     "duration": 0.010566,
     "end_time": "2024-01-03T06:26:46.015159",
     "exception": false,
     "start_time": "2024-01-03T06:26:46.004593",
     "status": "completed"
    },
    "tags": []
   },
   "outputs": [
    {
     "data": {
      "text/plain": [
       "PosixPath('/mnt/data/projs/manuscripts/ccc-gpu/results/gene_pair_intersections-gtex_v8-whole_blood-var_pc_log2.pkl')"
      ]
     },
     "metadata": {},
     "output_type": "display_data"
    }
   ],
   "source": [
    "INPUT_GENE_PAIRS_INTERSECTIONS_FILE = (\n",
    "    OUTPUT_DATA_DIR\n",
    "    / f\"gene_pair_intersections-gtex_v8-{GTEX_TISSUE}-{GENE_SEL_STRATEGY}.pkl\"\n",
    ")\n",
    "display(INPUT_GENE_PAIRS_INTERSECTIONS_FILE)\n",
    "\n",
    "assert INPUT_GENE_PAIRS_INTERSECTIONS_FILE.exists()"
   ]
  },
  {
   "cell_type": "code",
   "execution_count": 9,
   "id": "45d6a9c4-d35b-4727-aa4e-bd28fed9ceea",
   "metadata": {
    "execution": {
     "iopub.execute_input": "2024-01-03T06:26:46.025610Z",
     "iopub.status.busy": "2024-01-03T06:26:46.025254Z",
     "iopub.status.idle": "2024-01-03T06:26:46.029433Z",
     "shell.execute_reply": "2024-01-03T06:26:46.028948Z"
    },
    "papermill": {
     "duration": 0.010388,
     "end_time": "2024-01-03T06:26:46.030308",
     "exception": false,
     "start_time": "2024-01-03T06:26:46.019920",
     "status": "completed"
    },
    "tags": []
   },
   "outputs": [
    {
     "data": {
      "text/plain": [
       "PosixPath('/mnt/data/projs/manuscripts/ccc-gpu/results/pvalues/gene_pair-samples-pvalues-fdr.pkl')"
      ]
     },
     "metadata": {},
     "output_type": "display_data"
    }
   ],
   "source": [
    "INPUT_PVALUES_FILE = OUTPUT_DATA_DIR / \"pvalues\" / \"gene_pair-samples-pvalues-fdr.pkl\"\n",
    "display(INPUT_PVALUES_FILE)\n",
    "assert INPUT_PVALUES_FILE.exists()"
   ]
  },
  {
   "cell_type": "markdown",
   "id": "3d014f0c-d442-48ab-add8-ac338ad15b27",
   "metadata": {
    "papermill": {
     "duration": 0.004779,
     "end_time": "2024-01-03T06:26:46.039953",
     "exception": false,
     "start_time": "2024-01-03T06:26:46.035174",
     "status": "completed"
    },
    "tags": []
   },
   "source": [
    "# Data"
   ]
  },
  {
   "cell_type": "markdown",
   "id": "b67ff245-f8ae-45f2-8b36-bb628e193e16",
   "metadata": {
    "papermill": {
     "duration": 0.005093,
     "end_time": "2024-01-03T06:26:46.049898",
     "exception": false,
     "start_time": "2024-01-03T06:26:46.044805",
     "status": "completed"
    },
    "tags": []
   },
   "source": [
    "## Gene Ensembl ID -> Symbol mapping"
   ]
  },
  {
   "cell_type": "code",
   "execution_count": 10,
   "id": "ec07802f-7834-4b8d-9361-8c31b85e302a",
   "metadata": {
    "execution": {
     "iopub.execute_input": "2024-01-03T06:26:46.060673Z",
     "iopub.status.busy": "2024-01-03T06:26:46.060273Z",
     "iopub.status.idle": "2024-01-03T06:26:46.080649Z",
     "shell.execute_reply": "2024-01-03T06:26:46.080086Z"
    },
    "papermill": {
     "duration": 0.026842,
     "end_time": "2024-01-03T06:26:46.081625",
     "exception": false,
     "start_time": "2024-01-03T06:26:46.054783",
     "status": "completed"
    },
    "tags": []
   },
   "outputs": [],
   "source": [
    "gene_map = pd.read_pickle(MANUSCRIPT_DIR / \"data\" / \"gtex_gene_id_symbol_mappings.pkl\")"
   ]
  },
  {
   "cell_type": "code",
   "execution_count": 11,
   "id": "5278e2ac-3ca4-4404-9512-76659b4dc240",
   "metadata": {
    "execution": {
     "iopub.execute_input": "2024-01-03T06:26:46.092418Z",
     "iopub.status.busy": "2024-01-03T06:26:46.092117Z",
     "iopub.status.idle": "2024-01-03T06:26:46.146651Z",
     "shell.execute_reply": "2024-01-03T06:26:46.146066Z"
    },
    "papermill": {
     "duration": 0.061,
     "end_time": "2024-01-03T06:26:46.147580",
     "exception": false,
     "start_time": "2024-01-03T06:26:46.086580",
     "status": "completed"
    },
    "tags": []
   },
   "outputs": [],
   "source": [
    "gene_map = gene_map.set_index(\"gene_ens_id\")[\"gene_symbol\"].to_dict()"
   ]
  },
  {
   "cell_type": "code",
   "execution_count": 12,
   "id": "f4b76b56-6c3b-48ce-9eea-1297b053cc22",
   "metadata": {
    "execution": {
     "iopub.execute_input": "2024-01-03T06:26:46.158231Z",
     "iopub.status.busy": "2024-01-03T06:26:46.158070Z",
     "iopub.status.idle": "2024-01-03T06:26:46.161049Z",
     "shell.execute_reply": "2024-01-03T06:26:46.160562Z"
    },
    "papermill": {
     "duration": 0.009514,
     "end_time": "2024-01-03T06:26:46.161958",
     "exception": false,
     "start_time": "2024-01-03T06:26:46.152444",
     "status": "completed"
    },
    "tags": []
   },
   "outputs": [],
   "source": [
    "assert gene_map[\"ENSG00000145309.5\"] == \"CABS1\""
   ]
  },
  {
   "cell_type": "markdown",
   "id": "1ee64945-176f-4faa-a083-0784c1ad98e6",
   "metadata": {
    "papermill": {
     "duration": 0.004855,
     "end_time": "2024-01-03T06:26:46.171819",
     "exception": false,
     "start_time": "2024-01-03T06:26:46.166964",
     "status": "completed"
    },
    "tags": []
   },
   "source": [
    "## Gene expression"
   ]
  },
  {
   "cell_type": "code",
   "execution_count": 13,
   "id": "949308e7-b734-4bb8-ad36-22f40e369cbb",
   "metadata": {
    "execution": {
     "iopub.execute_input": "2024-01-03T06:26:46.182586Z",
     "iopub.status.busy": "2024-01-03T06:26:46.182272Z",
     "iopub.status.idle": "2024-01-03T06:26:46.211146Z",
     "shell.execute_reply": "2024-01-03T06:26:46.210585Z"
    },
    "papermill": {
     "duration": 0.03523,
     "end_time": "2024-01-03T06:26:46.211982",
     "exception": false,
     "start_time": "2024-01-03T06:26:46.176752",
     "status": "completed"
    },
    "tags": []
   },
   "outputs": [],
   "source": [
    "gene_expr_df = pd.read_pickle(INPUT_GENE_EXPR_FILE)"
   ]
  },
  {
   "cell_type": "code",
   "execution_count": 14,
   "id": "1261ec25-1edc-4d01-8a8e-f45866c030db",
   "metadata": {
    "execution": {
     "iopub.execute_input": "2024-01-03T06:26:46.222794Z",
     "iopub.status.busy": "2024-01-03T06:26:46.222499Z",
     "iopub.status.idle": "2024-01-03T06:26:46.226354Z",
     "shell.execute_reply": "2024-01-03T06:26:46.225875Z"
    },
    "papermill": {
     "duration": 0.010348,
     "end_time": "2024-01-03T06:26:46.227223",
     "exception": false,
     "start_time": "2024-01-03T06:26:46.216875",
     "status": "completed"
    },
    "tags": []
   },
   "outputs": [
    {
     "data": {
      "text/plain": [
       "(56200, 755)"
      ]
     },
     "execution_count": 14,
     "metadata": {},
     "output_type": "execute_result"
    }
   ],
   "source": [
    "gene_expr_df.shape"
   ]
  },
  {
   "cell_type": "code",
   "execution_count": 15,
   "id": "6db4e1ba-24f5-4710-99e4-1eafe47122fc",
   "metadata": {
    "execution": {
     "iopub.execute_input": "2024-01-03T06:26:46.238074Z",
     "iopub.status.busy": "2024-01-03T06:26:46.237794Z",
     "iopub.status.idle": "2024-01-03T06:26:46.260723Z",
     "shell.execute_reply": "2024-01-03T06:26:46.260251Z"
    },
    "papermill": {
     "duration": 0.029428,
     "end_time": "2024-01-03T06:26:46.261650",
     "exception": false,
     "start_time": "2024-01-03T06:26:46.232222",
     "status": "completed"
    },
    "tags": []
   },
   "outputs": [
    {
     "data": {
      "text/html": [
       "<div>\n",
       "<style scoped>\n",
       "    .dataframe tbody tr th:only-of-type {\n",
       "        vertical-align: middle;\n",
       "    }\n",
       "\n",
       "    .dataframe tbody tr th {\n",
       "        vertical-align: top;\n",
       "    }\n",
       "\n",
       "    .dataframe thead th {\n",
       "        text-align: right;\n",
       "    }\n",
       "</style>\n",
       "<table border=\"1\" class=\"dataframe\">\n",
       "  <thead>\n",
       "    <tr style=\"text-align: right;\">\n",
       "      <th></th>\n",
       "      <th>GTEX-111YS-0006-SM-5NQBE</th>\n",
       "      <th>GTEX-1122O-0005-SM-5O99J</th>\n",
       "      <th>GTEX-1128S-0005-SM-5P9HI</th>\n",
       "      <th>GTEX-113IC-0006-SM-5NQ9C</th>\n",
       "      <th>GTEX-113JC-0006-SM-5O997</th>\n",
       "      <th>GTEX-117XS-0005-SM-5PNU6</th>\n",
       "      <th>GTEX-117YW-0005-SM-5NQ8Z</th>\n",
       "      <th>GTEX-1192W-0005-SM-5NQBQ</th>\n",
       "      <th>GTEX-1192X-0005-SM-5NQC3</th>\n",
       "      <th>GTEX-11DXW-0006-SM-5NQ7Y</th>\n",
       "      <th>...</th>\n",
       "      <th>GTEX-ZVE2-0006-SM-51MRW</th>\n",
       "      <th>GTEX-ZVP2-0005-SM-51MRK</th>\n",
       "      <th>GTEX-ZVT2-0005-SM-57WBW</th>\n",
       "      <th>GTEX-ZVT3-0006-SM-51MT9</th>\n",
       "      <th>GTEX-ZVT4-0006-SM-57WB8</th>\n",
       "      <th>GTEX-ZVTK-0006-SM-57WBK</th>\n",
       "      <th>GTEX-ZVZP-0006-SM-51MSW</th>\n",
       "      <th>GTEX-ZVZQ-0006-SM-51MR8</th>\n",
       "      <th>GTEX-ZXES-0005-SM-57WCB</th>\n",
       "      <th>GTEX-ZXG5-0005-SM-57WCN</th>\n",
       "    </tr>\n",
       "    <tr>\n",
       "      <th>gene_ens_id</th>\n",
       "      <th></th>\n",
       "      <th></th>\n",
       "      <th></th>\n",
       "      <th></th>\n",
       "      <th></th>\n",
       "      <th></th>\n",
       "      <th></th>\n",
       "      <th></th>\n",
       "      <th></th>\n",
       "      <th></th>\n",
       "      <th></th>\n",
       "      <th></th>\n",
       "      <th></th>\n",
       "      <th></th>\n",
       "      <th></th>\n",
       "      <th></th>\n",
       "      <th></th>\n",
       "      <th></th>\n",
       "      <th></th>\n",
       "      <th></th>\n",
       "      <th></th>\n",
       "    </tr>\n",
       "  </thead>\n",
       "  <tbody>\n",
       "    <tr>\n",
       "      <th>ENSG00000169429.10</th>\n",
       "      <td>0.5623</td>\n",
       "      <td>0.8067</td>\n",
       "      <td>116.90000</td>\n",
       "      <td>4.047</td>\n",
       "      <td>211.0</td>\n",
       "      <td>58.110</td>\n",
       "      <td>68.38</td>\n",
       "      <td>249.50</td>\n",
       "      <td>5.095</td>\n",
       "      <td>295.9</td>\n",
       "      <td>...</td>\n",
       "      <td>39.960</td>\n",
       "      <td>0.1393</td>\n",
       "      <td>0.22380</td>\n",
       "      <td>245.0</td>\n",
       "      <td>513.6</td>\n",
       "      <td>1626.00</td>\n",
       "      <td>0.5633</td>\n",
       "      <td>515.70</td>\n",
       "      <td>1.19400</td>\n",
       "      <td>1163.00</td>\n",
       "    </tr>\n",
       "    <tr>\n",
       "      <th>ENSG00000135245.9</th>\n",
       "      <td>0.6529</td>\n",
       "      <td>1.3850</td>\n",
       "      <td>199.20000</td>\n",
       "      <td>2.266</td>\n",
       "      <td>116.7</td>\n",
       "      <td>192.300</td>\n",
       "      <td>161.50</td>\n",
       "      <td>263.50</td>\n",
       "      <td>23.540</td>\n",
       "      <td>251.9</td>\n",
       "      <td>...</td>\n",
       "      <td>114.300</td>\n",
       "      <td>1.8330</td>\n",
       "      <td>0.41150</td>\n",
       "      <td>149.0</td>\n",
       "      <td>935.3</td>\n",
       "      <td>233.60</td>\n",
       "      <td>0.8882</td>\n",
       "      <td>134.00</td>\n",
       "      <td>1.12000</td>\n",
       "      <td>295.70</td>\n",
       "    </tr>\n",
       "    <tr>\n",
       "      <th>ENSG00000163631.16</th>\n",
       "      <td>1.8480</td>\n",
       "      <td>0.2503</td>\n",
       "      <td>0.08429</td>\n",
       "      <td>1.251</td>\n",
       "      <td>1348.0</td>\n",
       "      <td>9.971</td>\n",
       "      <td>101.30</td>\n",
       "      <td>95.09</td>\n",
       "      <td>1.264</td>\n",
       "      <td>119.3</td>\n",
       "      <td>...</td>\n",
       "      <td>2.092</td>\n",
       "      <td>2.1100</td>\n",
       "      <td>0.03588</td>\n",
       "      <td>171.8</td>\n",
       "      <td>107.1</td>\n",
       "      <td>71.25</td>\n",
       "      <td>1.7720</td>\n",
       "      <td>309.60</td>\n",
       "      <td>0.07361</td>\n",
       "      <td>17.75</td>\n",
       "    </tr>\n",
       "    <tr>\n",
       "      <th>ENSG00000277632.1</th>\n",
       "      <td>1.6960</td>\n",
       "      <td>1.3450</td>\n",
       "      <td>235.10000</td>\n",
       "      <td>11.770</td>\n",
       "      <td>141.7</td>\n",
       "      <td>199.100</td>\n",
       "      <td>525.50</td>\n",
       "      <td>659.90</td>\n",
       "      <td>10.910</td>\n",
       "      <td>209.3</td>\n",
       "      <td>...</td>\n",
       "      <td>61.340</td>\n",
       "      <td>2.2500</td>\n",
       "      <td>0.72310</td>\n",
       "      <td>261.2</td>\n",
       "      <td>400.0</td>\n",
       "      <td>288.50</td>\n",
       "      <td>2.6960</td>\n",
       "      <td>287.50</td>\n",
       "      <td>3.32300</td>\n",
       "      <td>618.90</td>\n",
       "    </tr>\n",
       "    <tr>\n",
       "      <th>ENSG00000239839.6</th>\n",
       "      <td>185.2000</td>\n",
       "      <td>1.7790</td>\n",
       "      <td>694.30000</td>\n",
       "      <td>23.840</td>\n",
       "      <td>297.3</td>\n",
       "      <td>3122.000</td>\n",
       "      <td>2521.00</td>\n",
       "      <td>1504.00</td>\n",
       "      <td>80.060</td>\n",
       "      <td>652.0</td>\n",
       "      <td>...</td>\n",
       "      <td>1010.000</td>\n",
       "      <td>253.8000</td>\n",
       "      <td>94.52000</td>\n",
       "      <td>6083.0</td>\n",
       "      <td>2768.0</td>\n",
       "      <td>52.06</td>\n",
       "      <td>34.5700</td>\n",
       "      <td>17.36</td>\n",
       "      <td>352.30000</td>\n",
       "      <td>63.85</td>\n",
       "    </tr>\n",
       "  </tbody>\n",
       "</table>\n",
       "<p>5 rows × 755 columns</p>\n",
       "</div>"
      ],
      "text/plain": [
       "                    GTEX-111YS-0006-SM-5NQBE  GTEX-1122O-0005-SM-5O99J  \\\n",
       "gene_ens_id                                                              \n",
       "ENSG00000169429.10                    0.5623                    0.8067   \n",
       "ENSG00000135245.9                     0.6529                    1.3850   \n",
       "ENSG00000163631.16                    1.8480                    0.2503   \n",
       "ENSG00000277632.1                     1.6960                    1.3450   \n",
       "ENSG00000239839.6                   185.2000                    1.7790   \n",
       "\n",
       "                    GTEX-1128S-0005-SM-5P9HI  GTEX-113IC-0006-SM-5NQ9C  \\\n",
       "gene_ens_id                                                              \n",
       "ENSG00000169429.10                 116.90000                     4.047   \n",
       "ENSG00000135245.9                  199.20000                     2.266   \n",
       "ENSG00000163631.16                   0.08429                     1.251   \n",
       "ENSG00000277632.1                  235.10000                    11.770   \n",
       "ENSG00000239839.6                  694.30000                    23.840   \n",
       "\n",
       "                    GTEX-113JC-0006-SM-5O997  GTEX-117XS-0005-SM-5PNU6  \\\n",
       "gene_ens_id                                                              \n",
       "ENSG00000169429.10                     211.0                    58.110   \n",
       "ENSG00000135245.9                      116.7                   192.300   \n",
       "ENSG00000163631.16                    1348.0                     9.971   \n",
       "ENSG00000277632.1                      141.7                   199.100   \n",
       "ENSG00000239839.6                      297.3                  3122.000   \n",
       "\n",
       "                    GTEX-117YW-0005-SM-5NQ8Z  GTEX-1192W-0005-SM-5NQBQ  \\\n",
       "gene_ens_id                                                              \n",
       "ENSG00000169429.10                     68.38                    249.50   \n",
       "ENSG00000135245.9                     161.50                    263.50   \n",
       "ENSG00000163631.16                    101.30                     95.09   \n",
       "ENSG00000277632.1                     525.50                    659.90   \n",
       "ENSG00000239839.6                    2521.00                   1504.00   \n",
       "\n",
       "                    GTEX-1192X-0005-SM-5NQC3  GTEX-11DXW-0006-SM-5NQ7Y  ...  \\\n",
       "gene_ens_id                                                             ...   \n",
       "ENSG00000169429.10                     5.095                     295.9  ...   \n",
       "ENSG00000135245.9                     23.540                     251.9  ...   \n",
       "ENSG00000163631.16                     1.264                     119.3  ...   \n",
       "ENSG00000277632.1                     10.910                     209.3  ...   \n",
       "ENSG00000239839.6                     80.060                     652.0  ...   \n",
       "\n",
       "                    GTEX-ZVE2-0006-SM-51MRW  GTEX-ZVP2-0005-SM-51MRK  \\\n",
       "gene_ens_id                                                            \n",
       "ENSG00000169429.10                   39.960                   0.1393   \n",
       "ENSG00000135245.9                   114.300                   1.8330   \n",
       "ENSG00000163631.16                    2.092                   2.1100   \n",
       "ENSG00000277632.1                    61.340                   2.2500   \n",
       "ENSG00000239839.6                  1010.000                 253.8000   \n",
       "\n",
       "                    GTEX-ZVT2-0005-SM-57WBW  GTEX-ZVT3-0006-SM-51MT9  \\\n",
       "gene_ens_id                                                            \n",
       "ENSG00000169429.10                  0.22380                    245.0   \n",
       "ENSG00000135245.9                   0.41150                    149.0   \n",
       "ENSG00000163631.16                  0.03588                    171.8   \n",
       "ENSG00000277632.1                   0.72310                    261.2   \n",
       "ENSG00000239839.6                  94.52000                   6083.0   \n",
       "\n",
       "                    GTEX-ZVT4-0006-SM-57WB8  GTEX-ZVTK-0006-SM-57WBK  \\\n",
       "gene_ens_id                                                            \n",
       "ENSG00000169429.10                    513.6                  1626.00   \n",
       "ENSG00000135245.9                     935.3                   233.60   \n",
       "ENSG00000163631.16                    107.1                    71.25   \n",
       "ENSG00000277632.1                     400.0                   288.50   \n",
       "ENSG00000239839.6                    2768.0                    52.06   \n",
       "\n",
       "                    GTEX-ZVZP-0006-SM-51MSW  GTEX-ZVZQ-0006-SM-51MR8  \\\n",
       "gene_ens_id                                                            \n",
       "ENSG00000169429.10                   0.5633                   515.70   \n",
       "ENSG00000135245.9                    0.8882                   134.00   \n",
       "ENSG00000163631.16                   1.7720                   309.60   \n",
       "ENSG00000277632.1                    2.6960                   287.50   \n",
       "ENSG00000239839.6                   34.5700                    17.36   \n",
       "\n",
       "                    GTEX-ZXES-0005-SM-57WCB  GTEX-ZXG5-0005-SM-57WCN  \n",
       "gene_ens_id                                                           \n",
       "ENSG00000169429.10                  1.19400                  1163.00  \n",
       "ENSG00000135245.9                   1.12000                   295.70  \n",
       "ENSG00000163631.16                  0.07361                    17.75  \n",
       "ENSG00000277632.1                   3.32300                   618.90  \n",
       "ENSG00000239839.6                 352.30000                    63.85  \n",
       "\n",
       "[5 rows x 755 columns]"
      ]
     },
     "execution_count": 15,
     "metadata": {},
     "output_type": "execute_result"
    }
   ],
   "source": [
    "gene_expr_df.head()"
   ]
  },
  {
   "cell_type": "markdown",
   "id": "e28a6fac-468b-4c03-bb77-be503ffacd68",
   "metadata": {
    "papermill": {
     "duration": 0.010329,
     "end_time": "2024-01-03T06:26:48.935882",
     "exception": false,
     "start_time": "2024-01-03T06:26:48.925553",
     "status": "completed"
    },
    "tags": []
   },
   "source": [
    "## p-values"
   ]
  },
  {
   "cell_type": "code",
   "execution_count": 16,
   "id": "053b5498-4b2d-445c-a16a-57f65efe586c",
   "metadata": {
    "execution": {
     "iopub.execute_input": "2024-01-03T06:26:48.957276Z",
     "iopub.status.busy": "2024-01-03T06:26:48.957151Z",
     "iopub.status.idle": "2024-01-03T06:26:48.967129Z",
     "shell.execute_reply": "2024-01-03T06:26:48.966425Z"
    },
    "papermill": {
     "duration": 0.021863,
     "end_time": "2024-01-03T06:26:48.968236",
     "exception": false,
     "start_time": "2024-01-03T06:26:48.946373",
     "status": "completed"
    },
    "tags": []
   },
   "outputs": [],
   "source": [
    "df_pvalues = pd.read_pickle(INPUT_PVALUES_FILE).sort_index()"
   ]
  },
  {
   "cell_type": "code",
   "execution_count": 17,
   "id": "ef92461e-27c9-441e-8eda-a93af98e4aea",
   "metadata": {
    "execution": {
     "iopub.execute_input": "2024-01-03T06:26:48.981051Z",
     "iopub.status.busy": "2024-01-03T06:26:48.980473Z",
     "iopub.status.idle": "2024-01-03T06:26:48.985378Z",
     "shell.execute_reply": "2024-01-03T06:26:48.984730Z"
    },
    "papermill": {
     "duration": 0.012438,
     "end_time": "2024-01-03T06:26:48.986314",
     "exception": false,
     "start_time": "2024-01-03T06:26:48.973876",
     "status": "completed"
    },
    "tags": []
   },
   "outputs": [
    {
     "data": {
      "text/plain": [
       "(17008, 10)"
      ]
     },
     "execution_count": 17,
     "metadata": {},
     "output_type": "execute_result"
    }
   ],
   "source": [
    "df_pvalues.shape"
   ]
  },
  {
   "cell_type": "code",
   "execution_count": 18,
   "id": "94596df3-65d0-414a-98ab-4cb33502171c",
   "metadata": {
    "execution": {
     "iopub.execute_input": "2024-01-03T06:26:48.998597Z",
     "iopub.status.busy": "2024-01-03T06:26:48.998245Z",
     "iopub.status.idle": "2024-01-03T06:26:49.011838Z",
     "shell.execute_reply": "2024-01-03T06:26:49.011347Z"
    },
    "papermill": {
     "duration": 0.020755,
     "end_time": "2024-01-03T06:26:49.012706",
     "exception": false,
     "start_time": "2024-01-03T06:26:48.991951",
     "status": "completed"
    },
    "tags": []
   },
   "outputs": [
    {
     "data": {
      "text/html": [
       "<div>\n",
       "<style scoped>\n",
       "    .dataframe tbody tr th:only-of-type {\n",
       "        vertical-align: middle;\n",
       "    }\n",
       "\n",
       "    .dataframe tbody tr th {\n",
       "        vertical-align: top;\n",
       "    }\n",
       "\n",
       "    .dataframe thead th {\n",
       "        text-align: right;\n",
       "    }\n",
       "</style>\n",
       "<table border=\"1\" class=\"dataframe\">\n",
       "  <thead>\n",
       "    <tr style=\"text-align: right;\">\n",
       "      <th></th>\n",
       "      <th></th>\n",
       "      <th>group</th>\n",
       "      <th>ccc</th>\n",
       "      <th>ccc_fdr</th>\n",
       "      <th>ccc_pvalue</th>\n",
       "      <th>pearson</th>\n",
       "      <th>pearson_fdr</th>\n",
       "      <th>pearson_pvalue</th>\n",
       "      <th>spearman</th>\n",
       "      <th>spearman_fdr</th>\n",
       "      <th>spearman_pvalue</th>\n",
       "    </tr>\n",
       "    <tr>\n",
       "      <th>gene0</th>\n",
       "      <th>gene1</th>\n",
       "      <th></th>\n",
       "      <th></th>\n",
       "      <th></th>\n",
       "      <th></th>\n",
       "      <th></th>\n",
       "      <th></th>\n",
       "      <th></th>\n",
       "      <th></th>\n",
       "      <th></th>\n",
       "      <th></th>\n",
       "    </tr>\n",
       "  </thead>\n",
       "  <tbody>\n",
       "    <tr>\n",
       "      <th>ENSG00000000005.5</th>\n",
       "      <th>ENSG00000243101.1</th>\n",
       "      <td>ccc_high_and_pearson_low-random</td>\n",
       "      <td>0.048498</td>\n",
       "      <td>0.06842</td>\n",
       "      <td>0.036963</td>\n",
       "      <td>0.007716</td>\n",
       "      <td>0.983834</td>\n",
       "      <td>0.832370</td>\n",
       "      <td>0.060663</td>\n",
       "      <td>0.253941</td>\n",
       "      <td>0.095789</td>\n",
       "    </tr>\n",
       "    <tr>\n",
       "      <th>ENSG00000000938.12</th>\n",
       "      <th>ENSG00000104419.14</th>\n",
       "      <td>ccc_high_and_spearman_low-random</td>\n",
       "      <td>0.060396</td>\n",
       "      <td>0.00228</td>\n",
       "      <td>0.000999</td>\n",
       "      <td>-0.035049</td>\n",
       "      <td>0.688565</td>\n",
       "      <td>0.336168</td>\n",
       "      <td>0.013827</td>\n",
       "      <td>0.927365</td>\n",
       "      <td>0.704447</td>\n",
       "    </tr>\n",
       "    <tr>\n",
       "      <th rowspan=\"3\" valign=\"top\">ENSG00000001167.14</th>\n",
       "      <th>ENSG00000105514.7</th>\n",
       "      <td>ccc_high_and_spearman_low-top_ccc</td>\n",
       "      <td>0.117324</td>\n",
       "      <td>0.00228</td>\n",
       "      <td>0.000999</td>\n",
       "      <td>-0.080593</td>\n",
       "      <td>0.060727</td>\n",
       "      <td>0.026801</td>\n",
       "      <td>0.007112</td>\n",
       "      <td>0.987225</td>\n",
       "      <td>0.845319</td>\n",
       "    </tr>\n",
       "    <tr>\n",
       "      <th>ENSG00000115271.10</th>\n",
       "      <td>ccc_high_and_spearman_pearson_low-top_spearman</td>\n",
       "      <td>0.046347</td>\n",
       "      <td>0.00228</td>\n",
       "      <td>0.000999</td>\n",
       "      <td>-0.015264</td>\n",
       "      <td>0.979229</td>\n",
       "      <td>0.675394</td>\n",
       "      <td>0.022135</td>\n",
       "      <td>0.866054</td>\n",
       "      <td>0.543673</td>\n",
       "    </tr>\n",
       "    <tr>\n",
       "      <th>ENSG00000120696.8</th>\n",
       "      <td>ccc_high_and_spearman_pearson_low-top_pearson</td>\n",
       "      <td>0.062453</td>\n",
       "      <td>0.00228</td>\n",
       "      <td>0.000999</td>\n",
       "      <td>-0.016073</td>\n",
       "      <td>0.979229</td>\n",
       "      <td>0.659266</td>\n",
       "      <td>-0.008079</td>\n",
       "      <td>0.980615</td>\n",
       "      <td>0.824607</td>\n",
       "    </tr>\n",
       "  </tbody>\n",
       "</table>\n",
       "</div>"
      ],
      "text/plain": [
       "                                                                                group  \\\n",
       "gene0              gene1                                                                \n",
       "ENSG00000000005.5  ENSG00000243101.1                  ccc_high_and_pearson_low-random   \n",
       "ENSG00000000938.12 ENSG00000104419.14                ccc_high_and_spearman_low-random   \n",
       "ENSG00000001167.14 ENSG00000105514.7                ccc_high_and_spearman_low-top_ccc   \n",
       "                   ENSG00000115271.10  ccc_high_and_spearman_pearson_low-top_spearman   \n",
       "                   ENSG00000120696.8    ccc_high_and_spearman_pearson_low-top_pearson   \n",
       "\n",
       "                                            ccc  ccc_fdr  ccc_pvalue  \\\n",
       "gene0              gene1                                               \n",
       "ENSG00000000005.5  ENSG00000243101.1   0.048498  0.06842    0.036963   \n",
       "ENSG00000000938.12 ENSG00000104419.14  0.060396  0.00228    0.000999   \n",
       "ENSG00000001167.14 ENSG00000105514.7   0.117324  0.00228    0.000999   \n",
       "                   ENSG00000115271.10  0.046347  0.00228    0.000999   \n",
       "                   ENSG00000120696.8   0.062453  0.00228    0.000999   \n",
       "\n",
       "                                        pearson  pearson_fdr  pearson_pvalue  \\\n",
       "gene0              gene1                                                       \n",
       "ENSG00000000005.5  ENSG00000243101.1   0.007716     0.983834        0.832370   \n",
       "ENSG00000000938.12 ENSG00000104419.14 -0.035049     0.688565        0.336168   \n",
       "ENSG00000001167.14 ENSG00000105514.7  -0.080593     0.060727        0.026801   \n",
       "                   ENSG00000115271.10 -0.015264     0.979229        0.675394   \n",
       "                   ENSG00000120696.8  -0.016073     0.979229        0.659266   \n",
       "\n",
       "                                       spearman  spearman_fdr  spearman_pvalue  \n",
       "gene0              gene1                                                        \n",
       "ENSG00000000005.5  ENSG00000243101.1   0.060663      0.253941         0.095789  \n",
       "ENSG00000000938.12 ENSG00000104419.14  0.013827      0.927365         0.704447  \n",
       "ENSG00000001167.14 ENSG00000105514.7   0.007112      0.987225         0.845319  \n",
       "                   ENSG00000115271.10  0.022135      0.866054         0.543673  \n",
       "                   ENSG00000120696.8  -0.008079      0.980615         0.824607  "
      ]
     },
     "execution_count": 18,
     "metadata": {},
     "output_type": "execute_result"
    }
   ],
   "source": [
    "df_pvalues.head()"
   ]
  },
  {
   "cell_type": "code",
   "execution_count": 19,
   "id": "dd0578c8-1771-4a41-b8f3-194a0cf60e78",
   "metadata": {
    "execution": {
     "iopub.execute_input": "2024-01-03T06:26:49.025297Z",
     "iopub.status.busy": "2024-01-03T06:26:49.024854Z",
     "iopub.status.idle": "2024-01-03T06:26:49.028878Z",
     "shell.execute_reply": "2024-01-03T06:26:49.028364Z"
    },
    "papermill": {
     "duration": 0.01125,
     "end_time": "2024-01-03T06:26:49.029780",
     "exception": false,
     "start_time": "2024-01-03T06:26:49.018530",
     "status": "completed"
    },
    "tags": []
   },
   "outputs": [],
   "source": [
    "# remove duplicated gene pairs\n",
    "df_pvalues = df_pvalues[~df_pvalues.index.duplicated(keep=\"first\")]"
   ]
  },
  {
   "cell_type": "markdown",
   "id": "2599d1eb-a1d2-4b08-b017-ec8bf525aa2a",
   "metadata": {
    "papermill": {
     "duration": 0.005718,
     "end_time": "2024-01-03T06:26:49.041226",
     "exception": false,
     "start_time": "2024-01-03T06:26:49.035508",
     "status": "completed"
    },
    "tags": []
   },
   "source": [
    "**Note**: Here the \"group\" column specifies the categories in Figure 3a, followed by `top_[coef]`, where for the same category I sorted gene pairs by `coef`. This allows me, for instance, to take the gene pairs where Pearson is high and CCC is low, and sort by any of those coefficient values."
   ]
  },
  {
   "cell_type": "markdown",
   "id": "1b373319-185e-47f6-939a-97dd3a936d63",
   "metadata": {
    "papermill": {
     "duration": 0.005838,
     "end_time": "2024-01-03T06:26:49.052914",
     "exception": false,
     "start_time": "2024-01-03T06:26:49.047076",
     "status": "completed"
    },
    "tags": []
   },
   "source": [
    "## Functions"
   ]
  },
  {
   "cell_type": "code",
   "execution_count": 20,
   "id": "caf59565-f1f7-4ae6-9902-76ed8c0201aa",
   "metadata": {
    "execution": {
     "iopub.execute_input": "2024-01-03T06:26:49.065421Z",
     "iopub.status.busy": "2024-01-03T06:26:49.065110Z",
     "iopub.status.idle": "2024-01-03T06:26:49.073265Z",
     "shell.execute_reply": "2024-01-03T06:26:49.072766Z"
    },
    "papermill": {
     "duration": 0.015466,
     "end_time": "2024-01-03T06:26:49.074095",
     "exception": false,
     "start_time": "2024-01-03T06:26:49.058629",
     "status": "completed"
    },
    "tags": []
   },
   "outputs": [],
   "source": [
    "def plot_gene_pair(top_pairs_df, idx, bins=\"log\", plot_gene_ids=True):\n",
    "    \"\"\"\n",
    "    It plots a gene pair using a hexbin plot. The idea of this function is\n",
    "    to quickly have an idea of the patterns (if any) present in a couple genes.\n",
    "\n",
    "    Args:\n",
    "        top_pairs_df: a dataframe with a preselected group of genes pairs (for instance,\n",
    "            those where pearson is high and ccc is low. Each row is a gene pair.\n",
    "            It is the output of function get_gene_pairs.\n",
    "        idx: an integer that indicates which row in top_pairs_df you want to plot.\n",
    "        bins: the \"bins\" parameter of seaborn's jointplot.\n",
    "        plot_gene_ids: it adds genes' Ensembl IDs to the x and y labels.\n",
    "\n",
    "    Returns:\n",
    "        The JointGrid object returned by seaborn.jointplot.\n",
    "    \"\"\"\n",
    "    gene0, gene1 = top_pairs_df.iloc[idx].name\n",
    "    display((gene0, gene1))\n",
    "\n",
    "    gene0_symbol, gene1_symbol = gene_map[gene0], gene_map[gene1]\n",
    "    display((gene0_symbol, gene1_symbol))\n",
    "\n",
    "    _pearson, _pearson_fdr, _spearman, _spearman_fdr, _ccc, _ccc_fdr = top_pairs_df.loc[\n",
    "        (gene0, gene1),\n",
    "        [\"pearson\", \"pearson_fdr\", \"spearman\", \"spearman_fdr\", \"ccc\", \"ccc_fdr\"],\n",
    "    ].tolist()\n",
    "\n",
    "    p = sns.jointplot(\n",
    "        data=gene_expr_df.T,\n",
    "        x=gene0,\n",
    "        y=gene1,\n",
    "        kind=\"hex\",\n",
    "        bins=bins,\n",
    "        # ylim=(0, 500),\n",
    "    )\n",
    "\n",
    "    gene_x_id = p.ax_joint.get_xlabel()\n",
    "    gene_x_symbol = gene_map[gene_x_id]\n",
    "\n",
    "    gene_y_id = p.ax_joint.get_ylabel()\n",
    "    gene_y_symbol = gene_map[gene_y_id]\n",
    "\n",
    "    if plot_gene_ids:\n",
    "        p.ax_joint.set_xlabel(f\"{gene_x_id}\\n{gene_x_symbol}\")\n",
    "        p.ax_joint.set_ylabel(f\"{gene_y_id}\\n{gene_y_symbol}\")\n",
    "    else:\n",
    "        p.ax_joint.set_xlabel(f\"{gene_x_symbol}\", fontstyle=\"italic\")\n",
    "        p.ax_joint.set_ylabel(f\"{gene_y_symbol}\", fontstyle=\"italic\")\n",
    "\n",
    "    _title = f\"$c={_ccc:.2f}$ (${_ccc_fdr:.2e}$)  $p={_pearson:.2f}$ (${_pearson_fdr:.2e}$)    $s={_spearman:.2f}$ (${_spearman_fdr:.2e}$)\"\n",
    "    p.fig.suptitle(_title)\n",
    "\n",
    "    return p"
   ]
  },
  {
   "cell_type": "markdown",
   "id": "5414e2d4-b4c5-48d9-9dd4-d9ff1585f341",
   "metadata": {
    "papermill": {
     "duration": 0.005732,
     "end_time": "2024-01-03T06:26:49.085647",
     "exception": false,
     "start_time": "2024-01-03T06:26:49.079915",
     "status": "completed"
    },
    "tags": []
   },
   "source": [
    "# Analyze current gene pairs in Figure 3b (before manuscript revision)"
   ]
  },
  {
   "cell_type": "markdown",
   "id": "4705f8f2",
   "metadata": {},
   "source": [
    "Here I look at all the current gene pairs in Figure 3b. We have to decide on whether keep them or remove them.\n",
    "This is bacause after doing the p-value analysis and looking for significant gene pairs across all correlation coefficients, we want to keep some pairs where, for example, CCC is high and significant and Pearson is low but also nonsignificant.\n",
    "Also, if possible and does not affect the conclusions, we want to keep those gene pairs that we are already discussing in the manuscript.\n",
    "\n",
    "Here I look at the current gene pairs, and then I also use notebook `nbs/99_manuscript/coefs_comp/08_05-gtex_whole_blood-intersections_plots.ipynb` to sort gene pairs considering *both* the coefficient value and p-values.\n",
    "I write down here the decision on each gene pair (keep or replace) and the reasons."
   ]
  },
  {
   "cell_type": "markdown",
   "id": "644ebb9f",
   "metadata": {},
   "source": [
    "## IFNG vs SDS"
   ]
  },
  {
   "cell_type": "markdown",
   "id": "4ff52f4c",
   "metadata": {},
   "source": [
    "**Decision:** Keep, because:\n",
    "* Very high CCC value, although Pearson is significant also.\n",
    "* *SDS* is a gene with fewer publications than expected, we are mentioning this argument in the manuscript."
   ]
  },
  {
   "cell_type": "code",
   "execution_count": 21,
   "id": "e36bcb43",
   "metadata": {},
   "outputs": [
    {
     "data": {
      "text/html": [
       "<div>\n",
       "<style scoped>\n",
       "    .dataframe tbody tr th:only-of-type {\n",
       "        vertical-align: middle;\n",
       "    }\n",
       "\n",
       "    .dataframe tbody tr th {\n",
       "        vertical-align: top;\n",
       "    }\n",
       "\n",
       "    .dataframe thead th {\n",
       "        text-align: right;\n",
       "    }\n",
       "</style>\n",
       "<table border=\"1\" class=\"dataframe\">\n",
       "  <thead>\n",
       "    <tr style=\"text-align: right;\">\n",
       "      <th></th>\n",
       "      <th></th>\n",
       "      <th>group</th>\n",
       "      <th>ccc</th>\n",
       "      <th>ccc_fdr</th>\n",
       "      <th>ccc_pvalue</th>\n",
       "      <th>pearson</th>\n",
       "      <th>pearson_fdr</th>\n",
       "      <th>pearson_pvalue</th>\n",
       "      <th>spearman</th>\n",
       "      <th>spearman_fdr</th>\n",
       "      <th>spearman_pvalue</th>\n",
       "    </tr>\n",
       "    <tr>\n",
       "      <th>gene0</th>\n",
       "      <th>gene1</th>\n",
       "      <th></th>\n",
       "      <th></th>\n",
       "      <th></th>\n",
       "      <th></th>\n",
       "      <th></th>\n",
       "      <th></th>\n",
       "      <th></th>\n",
       "      <th></th>\n",
       "      <th></th>\n",
       "      <th></th>\n",
       "    </tr>\n",
       "  </thead>\n",
       "  <tbody>\n",
       "    <tr>\n",
       "      <th>ENSG00000135094.10</th>\n",
       "      <th>ENSG00000111537.4</th>\n",
       "      <td>selected_in_manuscript</td>\n",
       "      <td>0.706993</td>\n",
       "      <td>0.00228</td>\n",
       "      <td>0.000999</td>\n",
       "      <td>0.090451</td>\n",
       "      <td>0.029895</td>\n",
       "      <td>0.012907</td>\n",
       "      <td>0.765177</td>\n",
       "      <td>5.356577e-145</td>\n",
       "      <td>3.793991e-146</td>\n",
       "    </tr>\n",
       "  </tbody>\n",
       "</table>\n",
       "</div>"
      ],
      "text/plain": [
       "                                                       group       ccc  \\\n",
       "gene0              gene1                                                 \n",
       "ENSG00000135094.10 ENSG00000111537.4  selected_in_manuscript  0.706993   \n",
       "\n",
       "                                      ccc_fdr  ccc_pvalue   pearson  \\\n",
       "gene0              gene1                                              \n",
       "ENSG00000135094.10 ENSG00000111537.4  0.00228    0.000999  0.090451   \n",
       "\n",
       "                                      pearson_fdr  pearson_pvalue  spearman  \\\n",
       "gene0              gene1                                                      \n",
       "ENSG00000135094.10 ENSG00000111537.4     0.029895        0.012907  0.765177   \n",
       "\n",
       "                                       spearman_fdr  spearman_pvalue  \n",
       "gene0              gene1                                              \n",
       "ENSG00000135094.10 ENSG00000111537.4  5.356577e-145    3.793991e-146  "
      ]
     },
     "metadata": {},
     "output_type": "display_data"
    },
    {
     "data": {
      "text/plain": [
       "('ENSG00000135094.10', 'ENSG00000111537.4')"
      ]
     },
     "metadata": {},
     "output_type": "display_data"
    },
    {
     "data": {
      "text/plain": [
       "('SDS', 'IFNG')"
      ]
     },
     "metadata": {},
     "output_type": "display_data"
    },
    {
     "data": {
      "text/plain": [
       "<seaborn.axisgrid.JointGrid at 0x725965270d60>"
      ]
     },
     "metadata": {},
     "output_type": "display_data"
    },
    {
     "data": {
      "image/png": "[encoded data removed]",
      "text/plain": [
       "<Figure size 600x600 with 3 Axes>"
      ]
     },
     "metadata": {},
     "output_type": "display_data"
    }
   ],
   "source": [
    "gene0_id = \"ENSG00000135094.10\"\n",
    "gene1_id = \"ENSG00000111537.4\"\n",
    "\n",
    "_tmp = df_pvalues.loc[[(gene0_id, gene1_id)]]\n",
    "display(_tmp)\n",
    "\n",
    "p = plot_gene_pair(_tmp, 0)\n",
    "display(p)"
   ]
  },
  {
   "cell_type": "markdown",
   "id": "b21b1022",
   "metadata": {},
   "source": [
    "## ~JUN vs APOC1~"
   ]
  },
  {
   "cell_type": "markdown",
   "id": "748985b4",
   "metadata": {},
   "source": [
    "**Decision:** Remove and do not replace, because:\n",
    "* Very high CCC value, but Pearson is significant also.\n",
    "* And we do not discuss any of these genes in the manuscript.\n",
    "* And we do not need another example of this category."
   ]
  },
  {
   "cell_type": "code",
   "execution_count": 22,
   "id": "fe86655f",
   "metadata": {},
   "outputs": [
    {
     "data": {
      "text/html": [
       "<div>\n",
       "<style scoped>\n",
       "    .dataframe tbody tr th:only-of-type {\n",
       "        vertical-align: middle;\n",
       "    }\n",
       "\n",
       "    .dataframe tbody tr th {\n",
       "        vertical-align: top;\n",
       "    }\n",
       "\n",
       "    .dataframe thead th {\n",
       "        text-align: right;\n",
       "    }\n",
       "</style>\n",
       "<table border=\"1\" class=\"dataframe\">\n",
       "  <thead>\n",
       "    <tr style=\"text-align: right;\">\n",
       "      <th></th>\n",
       "      <th></th>\n",
       "      <th>group</th>\n",
       "      <th>ccc</th>\n",
       "      <th>ccc_fdr</th>\n",
       "      <th>ccc_pvalue</th>\n",
       "      <th>pearson</th>\n",
       "      <th>pearson_fdr</th>\n",
       "      <th>pearson_pvalue</th>\n",
       "      <th>spearman</th>\n",
       "      <th>spearman_fdr</th>\n",
       "      <th>spearman_pvalue</th>\n",
       "    </tr>\n",
       "    <tr>\n",
       "      <th>gene0</th>\n",
       "      <th>gene1</th>\n",
       "      <th></th>\n",
       "      <th></th>\n",
       "      <th></th>\n",
       "      <th></th>\n",
       "      <th></th>\n",
       "      <th></th>\n",
       "      <th></th>\n",
       "      <th></th>\n",
       "      <th></th>\n",
       "      <th></th>\n",
       "    </tr>\n",
       "  </thead>\n",
       "  <tbody>\n",
       "    <tr>\n",
       "      <th>ENSG00000130208.9</th>\n",
       "      <th>ENSG00000177606.6</th>\n",
       "      <td>selected_in_manuscript</td>\n",
       "      <td>0.612233</td>\n",
       "      <td>0.00228</td>\n",
       "      <td>0.000999</td>\n",
       "      <td>0.084623</td>\n",
       "      <td>0.045814</td>\n",
       "      <td>0.020044</td>\n",
       "      <td>0.748265</td>\n",
       "      <td>3.346193e-135</td>\n",
       "      <td>2.430887e-136</td>\n",
       "    </tr>\n",
       "  </tbody>\n",
       "</table>\n",
       "</div>"
      ],
      "text/plain": [
       "                                                      group       ccc  \\\n",
       "gene0             gene1                                                 \n",
       "ENSG00000130208.9 ENSG00000177606.6  selected_in_manuscript  0.612233   \n",
       "\n",
       "                                     ccc_fdr  ccc_pvalue   pearson  \\\n",
       "gene0             gene1                                              \n",
       "ENSG00000130208.9 ENSG00000177606.6  0.00228    0.000999  0.084623   \n",
       "\n",
       "                                     pearson_fdr  pearson_pvalue  spearman  \\\n",
       "gene0             gene1                                                      \n",
       "ENSG00000130208.9 ENSG00000177606.6     0.045814        0.020044  0.748265   \n",
       "\n",
       "                                      spearman_fdr  spearman_pvalue  \n",
       "gene0             gene1                                              \n",
       "ENSG00000130208.9 ENSG00000177606.6  3.346193e-135    2.430887e-136  "
      ]
     },
     "metadata": {},
     "output_type": "display_data"
    },
    {
     "data": {
      "text/plain": [
       "('ENSG00000130208.9', 'ENSG00000177606.6')"
      ]
     },
     "metadata": {},
     "output_type": "display_data"
    },
    {
     "data": {
      "text/plain": [
       "('APOC1', 'JUN')"
      ]
     },
     "metadata": {},
     "output_type": "display_data"
    },
    {
     "data": {
      "text/plain": [
       "<seaborn.axisgrid.JointGrid at 0x725b21c46cb0>"
      ]
     },
     "metadata": {},
     "output_type": "display_data"
    },
    {
     "data": {
      "image/png": "[encoded data removed]",
      "text/plain": [
       "<Figure size 600x600 with 3 Axes>"
      ]
     },
     "metadata": {},
     "output_type": "display_data"
    }
   ],
   "source": [
    "gene0_id = \"ENSG00000130208.9\"\n",
    "gene1_id = \"ENSG00000177606.6\"\n",
    "\n",
    "_tmp = df_pvalues.loc[[(gene0_id, gene1_id)]]\n",
    "display(_tmp)\n",
    "\n",
    "p = plot_gene_pair(_tmp, 0)\n",
    "display(p)"
   ]
  },
  {
   "cell_type": "code",
   "execution_count": 23,
   "id": "f701c459",
   "metadata": {},
   "outputs": [],
   "source": [
    "# Initially, I though in replacing it by LIF vs APOC1\n",
    "\n",
    "# gene0_id = \"ENSG00000130208.9\"\n",
    "# gene1_id = \"ENSG00000128342.4\"\n",
    "\n",
    "# _tmp = df_pvalues.loc[[(gene0_id, gene1_id)]]\n",
    "# display(_tmp)\n",
    "\n",
    "# p = plot_gene_pair(_tmp, 0)\n",
    "# display(p)"
   ]
  },
  {
   "cell_type": "markdown",
   "id": "7051badf",
   "metadata": {},
   "source": [
    "## ~ZDHHC12 vs CCL18~ CCL18 vs PRSS36"
   ]
  },
  {
   "cell_type": "markdown",
   "id": "3a9f4385",
   "metadata": {},
   "source": [
    "**Decision:** Replace, because:\n",
    "* Significant in all coefficients.\n",
    "* Although we discuss ZDHHC12 as a little studied gene, the ZDHHC family has more studies.\n",
    "* Not strong link of ZDHHC12 to the rest of the network: https://hb.flatironinstitute.org/gene/84885+6362\n",
    "\n",
    "*Replaced by:* CCL18 vs PRSS36\n",
    "\n",
    "* High CCC, low Pearson and not significant, although still significant with Spearman.\n",
    "* Predicted to be expressed in macrophage in GIANT: https://hb.flatironinstitute.org/gene/6362+146547"
   ]
  },
  {
   "cell_type": "code",
   "execution_count": 24,
   "id": "cfa982ac",
   "metadata": {},
   "outputs": [
    {
     "data": {
      "text/html": [
       "<div>\n",
       "<style scoped>\n",
       "    .dataframe tbody tr th:only-of-type {\n",
       "        vertical-align: middle;\n",
       "    }\n",
       "\n",
       "    .dataframe tbody tr th {\n",
       "        vertical-align: top;\n",
       "    }\n",
       "\n",
       "    .dataframe thead th {\n",
       "        text-align: right;\n",
       "    }\n",
       "</style>\n",
       "<table border=\"1\" class=\"dataframe\">\n",
       "  <thead>\n",
       "    <tr style=\"text-align: right;\">\n",
       "      <th></th>\n",
       "      <th></th>\n",
       "      <th>group</th>\n",
       "      <th>ccc</th>\n",
       "      <th>ccc_fdr</th>\n",
       "      <th>ccc_pvalue</th>\n",
       "      <th>pearson</th>\n",
       "      <th>pearson_fdr</th>\n",
       "      <th>pearson_pvalue</th>\n",
       "      <th>spearman</th>\n",
       "      <th>spearman_fdr</th>\n",
       "      <th>spearman_pvalue</th>\n",
       "    </tr>\n",
       "    <tr>\n",
       "      <th>gene0</th>\n",
       "      <th>gene1</th>\n",
       "      <th></th>\n",
       "      <th></th>\n",
       "      <th></th>\n",
       "      <th></th>\n",
       "      <th></th>\n",
       "      <th></th>\n",
       "      <th></th>\n",
       "      <th></th>\n",
       "      <th></th>\n",
       "      <th></th>\n",
       "    </tr>\n",
       "  </thead>\n",
       "  <tbody>\n",
       "    <tr>\n",
       "      <th>ENSG00000275385.1</th>\n",
       "      <th>ENSG00000160446.18</th>\n",
       "      <td>selected_in_manuscript</td>\n",
       "      <td>0.446659</td>\n",
       "      <td>0.00228</td>\n",
       "      <td>0.000999</td>\n",
       "      <td>-0.099853</td>\n",
       "      <td>0.014263</td>\n",
       "      <td>0.006033</td>\n",
       "      <td>-0.560171</td>\n",
       "      <td>1.189280e-62</td>\n",
       "      <td>1.379070e-63</td>\n",
       "    </tr>\n",
       "  </tbody>\n",
       "</table>\n",
       "</div>"
      ],
      "text/plain": [
       "                                                       group       ccc  \\\n",
       "gene0             gene1                                                  \n",
       "ENSG00000275385.1 ENSG00000160446.18  selected_in_manuscript  0.446659   \n",
       "\n",
       "                                      ccc_fdr  ccc_pvalue   pearson  \\\n",
       "gene0             gene1                                               \n",
       "ENSG00000275385.1 ENSG00000160446.18  0.00228    0.000999 -0.099853   \n",
       "\n",
       "                                      pearson_fdr  pearson_pvalue  spearman  \\\n",
       "gene0             gene1                                                       \n",
       "ENSG00000275385.1 ENSG00000160446.18     0.014263        0.006033 -0.560171   \n",
       "\n",
       "                                      spearman_fdr  spearman_pvalue  \n",
       "gene0             gene1                                              \n",
       "ENSG00000275385.1 ENSG00000160446.18  1.189280e-62     1.379070e-63  "
      ]
     },
     "metadata": {},
     "output_type": "display_data"
    },
    {
     "data": {
      "text/plain": [
       "('ENSG00000275385.1', 'ENSG00000160446.18')"
      ]
     },
     "metadata": {},
     "output_type": "display_data"
    },
    {
     "data": {
      "text/plain": [
       "('CCL18', 'ZDHHC12')"
      ]
     },
     "metadata": {},
     "output_type": "display_data"
    },
    {
     "data": {
      "text/plain": [
       "<seaborn.axisgrid.JointGrid at 0x725964890b20>"
      ]
     },
     "metadata": {},
     "output_type": "display_data"
    },
    {
     "data": {
      "image/png": "[encoded data removed]",
      "text/plain": [
       "<Figure size 600x600 with 3 Axes>"
      ]
     },
     "metadata": {},
     "output_type": "display_data"
    }
   ],
   "source": [
    "gene0_id = \"ENSG00000275385.1\"\n",
    "gene1_id = \"ENSG00000160446.18\"\n",
    "\n",
    "_tmp = df_pvalues.loc[[(gene0_id, gene1_id)]]\n",
    "display(_tmp)\n",
    "\n",
    "p = plot_gene_pair(_tmp, 0)\n",
    "display(p)"
   ]
  },
  {
   "cell_type": "markdown",
   "id": "f9561763",
   "metadata": {},
   "source": [
    "## UTY vs KDM6A"
   ]
  },
  {
   "cell_type": "markdown",
   "id": "f8700485",
   "metadata": {},
   "source": [
    "**Decision:** Keep, because:\n",
    "* They are genes in the sex chromosomes.\n",
    "* Figure 4 is about them.\n",
    "* A drawback is that all coefficients are significant. However, in other GTEx tissues (Figure 4) it is possible to see that only CCC captures this pattern consistently."
   ]
  },
  {
   "cell_type": "code",
   "execution_count": 39,
   "id": "51150032",
   "metadata": {},
   "outputs": [
    {
     "data": {
      "text/html": [
       "<div>\n",
       "<style scoped>\n",
       "    .dataframe tbody tr th:only-of-type {\n",
       "        vertical-align: middle;\n",
       "    }\n",
       "\n",
       "    .dataframe tbody tr th {\n",
       "        vertical-align: top;\n",
       "    }\n",
       "\n",
       "    .dataframe thead th {\n",
       "        text-align: right;\n",
       "    }\n",
       "</style>\n",
       "<table border=\"1\" class=\"dataframe\">\n",
       "  <thead>\n",
       "    <tr style=\"text-align: right;\">\n",
       "      <th></th>\n",
       "      <th></th>\n",
       "      <th>group</th>\n",
       "      <th>ccc</th>\n",
       "      <th>ccc_fdr</th>\n",
       "      <th>ccc_pvalue</th>\n",
       "      <th>pearson</th>\n",
       "      <th>pearson_fdr</th>\n",
       "      <th>pearson_pvalue</th>\n",
       "      <th>spearman</th>\n",
       "      <th>spearman_fdr</th>\n",
       "      <th>spearman_pvalue</th>\n",
       "    </tr>\n",
       "    <tr>\n",
       "      <th>gene0</th>\n",
       "      <th>gene1</th>\n",
       "      <th></th>\n",
       "      <th></th>\n",
       "      <th></th>\n",
       "      <th></th>\n",
       "      <th></th>\n",
       "      <th></th>\n",
       "      <th></th>\n",
       "      <th></th>\n",
       "      <th></th>\n",
       "      <th></th>\n",
       "    </tr>\n",
       "  </thead>\n",
       "  <tbody>\n",
       "    <tr>\n",
       "      <th>ENSG00000147050.14</th>\n",
       "      <th>ENSG00000183878.15</th>\n",
       "      <td>selected_in_manuscript</td>\n",
       "      <td>0.294391</td>\n",
       "      <td>0.00228</td>\n",
       "      <td>0.000999</td>\n",
       "      <td>0.23987</td>\n",
       "      <td>9.788206e-11</td>\n",
       "      <td>2.425885e-11</td>\n",
       "      <td>0.100621</td>\n",
       "      <td>0.018482</td>\n",
       "      <td>0.005653</td>\n",
       "    </tr>\n",
       "  </tbody>\n",
       "</table>\n",
       "</div>"
      ],
      "text/plain": [
       "                                                        group       ccc  \\\n",
       "gene0              gene1                                                  \n",
       "ENSG00000147050.14 ENSG00000183878.15  selected_in_manuscript  0.294391   \n",
       "\n",
       "                                       ccc_fdr  ccc_pvalue  pearson  \\\n",
       "gene0              gene1                                              \n",
       "ENSG00000147050.14 ENSG00000183878.15  0.00228    0.000999  0.23987   \n",
       "\n",
       "                                        pearson_fdr  pearson_pvalue  spearman  \\\n",
       "gene0              gene1                                                        \n",
       "ENSG00000147050.14 ENSG00000183878.15  9.788206e-11    2.425885e-11  0.100621   \n",
       "\n",
       "                                       spearman_fdr  spearman_pvalue  \n",
       "gene0              gene1                                              \n",
       "ENSG00000147050.14 ENSG00000183878.15      0.018482         0.005653  "
      ]
     },
     "metadata": {},
     "output_type": "display_data"
    },
    {
     "data": {
      "text/plain": [
       "('ENSG00000147050.14', 'ENSG00000183878.15')"
      ]
     },
     "metadata": {},
     "output_type": "display_data"
    },
    {
     "data": {
      "text/plain": [
       "('KDM6A', 'UTY')"
      ]
     },
     "metadata": {},
     "output_type": "display_data"
    },
    {
     "data": {
      "text/plain": [
       "<seaborn.axisgrid.JointGrid at 0x725942c95d20>"
      ]
     },
     "metadata": {},
     "output_type": "display_data"
    },
    {
     "data": {
      "image/png": "[encoded data removed]",
      "text/plain": [
       "<Figure size 600x600 with 3 Axes>"
      ]
     },
     "metadata": {},
     "output_type": "display_data"
    }
   ],
   "source": [
    "gene0_id = \"ENSG00000147050.14\"\n",
    "gene1_id = \"ENSG00000183878.15\"\n",
    "\n",
    "_tmp = df_pvalues.loc[[(gene0_id, gene1_id)]]\n",
    "display(_tmp)\n",
    "\n",
    "p = plot_gene_pair(_tmp, 0)\n",
    "display(p)\n",
    "\n",
    "p.savefig(OUTPUT_FIGURE_DIR / \"UTY_vs_KDM6A.svg\", format=\"svg\")\n",
    "p.savefig(\"./UTY_vs_KDM6A.svg\", format=\"svg\")"
   ]
  },
  {
   "cell_type": "markdown",
   "id": "01a6b1e7",
   "metadata": {},
   "source": [
    "## RASSF2 vs CYTIP + KDM6A vs DDX3Y"
   ]
  },
  {
   "cell_type": "markdown",
   "id": "dfb4820a",
   "metadata": {},
   "source": [
    "**Decision:** Keep and add another, because:\n",
    "* Nice example of two embedded linear relationships.\n",
    "* Although all coefficients are significant, we can add another example in this category (KDM6A vs DDX3Y) where spearman is not significant.\n",
    "* Predicted to be expressed in leukocytes in GIANT: https://hb.flatironinstitute.org/gene/9770+9595\n",
    "\n",
    "*Add another pair:* KDM6A vs DDX3Y"
   ]
  },
  {
   "cell_type": "code",
   "execution_count": 40,
   "id": "e9c44e1f",
   "metadata": {},
   "outputs": [
    {
     "data": {
      "text/html": [
       "<div>\n",
       "<style scoped>\n",
       "    .dataframe tbody tr th:only-of-type {\n",
       "        vertical-align: middle;\n",
       "    }\n",
       "\n",
       "    .dataframe tbody tr th {\n",
       "        vertical-align: top;\n",
       "    }\n",
       "\n",
       "    .dataframe thead th {\n",
       "        text-align: right;\n",
       "    }\n",
       "</style>\n",
       "<table border=\"1\" class=\"dataframe\">\n",
       "  <thead>\n",
       "    <tr style=\"text-align: right;\">\n",
       "      <th></th>\n",
       "      <th></th>\n",
       "      <th>group</th>\n",
       "      <th>ccc</th>\n",
       "      <th>ccc_fdr</th>\n",
       "      <th>ccc_pvalue</th>\n",
       "      <th>pearson</th>\n",
       "      <th>pearson_fdr</th>\n",
       "      <th>pearson_pvalue</th>\n",
       "      <th>spearman</th>\n",
       "      <th>spearman_fdr</th>\n",
       "      <th>spearman_pvalue</th>\n",
       "    </tr>\n",
       "    <tr>\n",
       "      <th>gene0</th>\n",
       "      <th>gene1</th>\n",
       "      <th></th>\n",
       "      <th></th>\n",
       "      <th></th>\n",
       "      <th></th>\n",
       "      <th></th>\n",
       "      <th></th>\n",
       "      <th></th>\n",
       "      <th></th>\n",
       "      <th></th>\n",
       "      <th></th>\n",
       "    </tr>\n",
       "  </thead>\n",
       "  <tbody>\n",
       "    <tr>\n",
       "      <th>ENSG00000115165.9</th>\n",
       "      <th>ENSG00000101265.15</th>\n",
       "      <td>selected_in_manuscript</td>\n",
       "      <td>0.201962</td>\n",
       "      <td>0.00228</td>\n",
       "      <td>0.000999</td>\n",
       "      <td>-0.15606</td>\n",
       "      <td>0.000044</td>\n",
       "      <td>0.000017</td>\n",
       "      <td>-0.107882</td>\n",
       "      <td>0.010038</td>\n",
       "      <td>0.002997</td>\n",
       "    </tr>\n",
       "  </tbody>\n",
       "</table>\n",
       "</div>"
      ],
      "text/plain": [
       "                                                       group       ccc  \\\n",
       "gene0             gene1                                                  \n",
       "ENSG00000115165.9 ENSG00000101265.15  selected_in_manuscript  0.201962   \n",
       "\n",
       "                                      ccc_fdr  ccc_pvalue  pearson  \\\n",
       "gene0             gene1                                              \n",
       "ENSG00000115165.9 ENSG00000101265.15  0.00228    0.000999 -0.15606   \n",
       "\n",
       "                                      pearson_fdr  pearson_pvalue  spearman  \\\n",
       "gene0             gene1                                                       \n",
       "ENSG00000115165.9 ENSG00000101265.15     0.000044        0.000017 -0.107882   \n",
       "\n",
       "                                      spearman_fdr  spearman_pvalue  \n",
       "gene0             gene1                                              \n",
       "ENSG00000115165.9 ENSG00000101265.15      0.010038         0.002997  "
      ]
     },
     "metadata": {},
     "output_type": "display_data"
    },
    {
     "data": {
      "text/plain": [
       "('ENSG00000115165.9', 'ENSG00000101265.15')"
      ]
     },
     "metadata": {},
     "output_type": "display_data"
    },
    {
     "data": {
      "text/plain": [
       "('CYTIP', 'RASSF2')"
      ]
     },
     "metadata": {},
     "output_type": "display_data"
    },
    {
     "data": {
      "text/plain": [
       "<seaborn.axisgrid.JointGrid at 0x725942db31f0>"
      ]
     },
     "metadata": {},
     "output_type": "display_data"
    },
    {
     "data": {
      "image/png": "[encoded data removed]",
      "text/plain": [
       "<Figure size 600x600 with 3 Axes>"
      ]
     },
     "metadata": {},
     "output_type": "display_data"
    }
   ],
   "source": [
    "gene0_id = \"ENSG00000115165.9\"\n",
    "gene1_id = \"ENSG00000101265.15\"\n",
    "\n",
    "_tmp = df_pvalues.loc[[(gene0_id, gene1_id)]]\n",
    "display(_tmp)\n",
    "\n",
    "p = plot_gene_pair(_tmp, 0)\n",
    "display(p)\n",
    "p.savefig(OUTPUT_FIGURE_DIR / \"RASSF2_vs_CYTIP.svg\", format=\"svg\")\n",
    "p.savefig(\"./RASSF2_vs_CYTIP.svg\", format=\"svg\")"
   ]
  },
  {
   "cell_type": "markdown",
   "id": "88995c24",
   "metadata": {},
   "source": [
    "## AC068580.6 vs KLHL21"
   ]
  },
  {
   "cell_type": "markdown",
   "id": "c8674aaf",
   "metadata": {},
   "source": [
    "**Decision:** Keep, because:\n",
    "* We already talk about this gene pair in the text (about KLHL21).\n",
    "* Pearson is not significant.\n",
    "* Although spearman is significant, all the other gene pairs in this category are also significant in Spearman. The other gene pair that is less significant for Spearman is C17orf53 vs TPX2 (but not worth replacing).\n",
    "* Predicted to be expressed in XXX in GIANT: URL_HERE"
   ]
  },
  {
   "cell_type": "code",
   "execution_count": 41,
   "id": "8d49f1a0",
   "metadata": {},
   "outputs": [
    {
     "data": {
      "text/html": [
       "<div>\n",
       "<style scoped>\n",
       "    .dataframe tbody tr th:only-of-type {\n",
       "        vertical-align: middle;\n",
       "    }\n",
       "\n",
       "    .dataframe tbody tr th {\n",
       "        vertical-align: top;\n",
       "    }\n",
       "\n",
       "    .dataframe thead th {\n",
       "        text-align: right;\n",
       "    }\n",
       "</style>\n",
       "<table border=\"1\" class=\"dataframe\">\n",
       "  <thead>\n",
       "    <tr style=\"text-align: right;\">\n",
       "      <th></th>\n",
       "      <th></th>\n",
       "      <th>group</th>\n",
       "      <th>ccc</th>\n",
       "      <th>ccc_fdr</th>\n",
       "      <th>ccc_pvalue</th>\n",
       "      <th>pearson</th>\n",
       "      <th>pearson_fdr</th>\n",
       "      <th>pearson_pvalue</th>\n",
       "      <th>spearman</th>\n",
       "      <th>spearman_fdr</th>\n",
       "      <th>spearman_pvalue</th>\n",
       "    </tr>\n",
       "    <tr>\n",
       "      <th>gene0</th>\n",
       "      <th>gene1</th>\n",
       "      <th></th>\n",
       "      <th></th>\n",
       "      <th></th>\n",
       "      <th></th>\n",
       "      <th></th>\n",
       "      <th></th>\n",
       "      <th></th>\n",
       "      <th></th>\n",
       "      <th></th>\n",
       "      <th></th>\n",
       "    </tr>\n",
       "  </thead>\n",
       "  <tbody>\n",
       "    <tr>\n",
       "      <th>ENSG00000162413.16</th>\n",
       "      <th>ENSG00000235027.1</th>\n",
       "      <td>selected_in_manuscript</td>\n",
       "      <td>0.184217</td>\n",
       "      <td>0.00228</td>\n",
       "      <td>0.000999</td>\n",
       "      <td>0.062875</td>\n",
       "      <td>0.184207</td>\n",
       "      <td>0.084264</td>\n",
       "      <td>-0.186421</td>\n",
       "      <td>9.592856e-07</td>\n",
       "      <td>2.480890e-07</td>\n",
       "    </tr>\n",
       "  </tbody>\n",
       "</table>\n",
       "</div>"
      ],
      "text/plain": [
       "                                                       group       ccc  \\\n",
       "gene0              gene1                                                 \n",
       "ENSG00000162413.16 ENSG00000235027.1  selected_in_manuscript  0.184217   \n",
       "\n",
       "                                      ccc_fdr  ccc_pvalue   pearson  \\\n",
       "gene0              gene1                                              \n",
       "ENSG00000162413.16 ENSG00000235027.1  0.00228    0.000999  0.062875   \n",
       "\n",
       "                                      pearson_fdr  pearson_pvalue  spearman  \\\n",
       "gene0              gene1                                                      \n",
       "ENSG00000162413.16 ENSG00000235027.1     0.184207        0.084264 -0.186421   \n",
       "\n",
       "                                      spearman_fdr  spearman_pvalue  \n",
       "gene0              gene1                                             \n",
       "ENSG00000162413.16 ENSG00000235027.1  9.592856e-07     2.480890e-07  "
      ]
     },
     "metadata": {},
     "output_type": "display_data"
    },
    {
     "data": {
      "text/plain": [
       "('ENSG00000162413.16', 'ENSG00000235027.1')"
      ]
     },
     "metadata": {},
     "output_type": "display_data"
    },
    {
     "data": {
      "text/plain": [
       "('KLHL21', 'AC068580.6')"
      ]
     },
     "metadata": {},
     "output_type": "display_data"
    },
    {
     "data": {
      "text/plain": [
       "<seaborn.axisgrid.JointGrid at 0x725945c48a90>"
      ]
     },
     "metadata": {},
     "output_type": "display_data"
    },
    {
     "data": {
      "image/png": "[encoded data removed]",
      "text/plain": [
       "<Figure size 600x600 with 3 Axes>"
      ]
     },
     "metadata": {},
     "output_type": "display_data"
    }
   ],
   "source": [
    "gene0_id = \"ENSG00000162413.16\"\n",
    "gene1_id = \"ENSG00000235027.1\"\n",
    "\n",
    "_tmp = df_pvalues.loc[[(gene0_id, gene1_id)]]\n",
    "display(_tmp)\n",
    "\n",
    "p = plot_gene_pair(_tmp, 0)\n",
    "display(p)\n",
    "p.savefig(OUTPUT_FIGURE_DIR / \"AC068580.6_vs_KLHL21.svg\", format=\"svg\")\n",
    "p.savefig(\"./AC068580.6_vs_KLHL21.svg\", format=\"svg\")"
   ]
  },
  {
   "cell_type": "markdown",
   "id": "19c8108b",
   "metadata": {},
   "source": [
    "## MYOZ1 vs TNNI2"
   ]
  },
  {
   "cell_type": "markdown",
   "id": "f7bee667",
   "metadata": {},
   "source": [
    "**Decision:** Keep, because:\n",
    "* We are already analyzing these gene pair: it's included in Figure 5.\n",
    "* Pearson value is very high.\n",
    "* However, all other coefficients are significant.\n",
    "* Predicted to be expressed in skeletal muscle in GIANT: https://hb.flatironinstitute.org/gene/58529+7136"
   ]
  },
  {
   "cell_type": "code",
   "execution_count": 30,
   "id": "c36f9a7f",
   "metadata": {},
   "outputs": [
    {
     "data": {
      "text/html": [
       "<div>\n",
       "<style scoped>\n",
       "    .dataframe tbody tr th:only-of-type {\n",
       "        vertical-align: middle;\n",
       "    }\n",
       "\n",
       "    .dataframe tbody tr th {\n",
       "        vertical-align: top;\n",
       "    }\n",
       "\n",
       "    .dataframe thead th {\n",
       "        text-align: right;\n",
       "    }\n",
       "</style>\n",
       "<table border=\"1\" class=\"dataframe\">\n",
       "  <thead>\n",
       "    <tr style=\"text-align: right;\">\n",
       "      <th></th>\n",
       "      <th></th>\n",
       "      <th>group</th>\n",
       "      <th>ccc</th>\n",
       "      <th>ccc_fdr</th>\n",
       "      <th>ccc_pvalue</th>\n",
       "      <th>pearson</th>\n",
       "      <th>pearson_fdr</th>\n",
       "      <th>pearson_pvalue</th>\n",
       "      <th>spearman</th>\n",
       "      <th>spearman_fdr</th>\n",
       "      <th>spearman_pvalue</th>\n",
       "    </tr>\n",
       "    <tr>\n",
       "      <th>gene0</th>\n",
       "      <th>gene1</th>\n",
       "      <th></th>\n",
       "      <th></th>\n",
       "      <th></th>\n",
       "      <th></th>\n",
       "      <th></th>\n",
       "      <th></th>\n",
       "      <th></th>\n",
       "      <th></th>\n",
       "      <th></th>\n",
       "      <th></th>\n",
       "    </tr>\n",
       "  </thead>\n",
       "  <tbody>\n",
       "    <tr>\n",
       "      <th>ENSG00000130598.15</th>\n",
       "      <th>ENSG00000177791.11</th>\n",
       "      <td>selected_in_manuscript</td>\n",
       "      <td>0.034593</td>\n",
       "      <td>0.00228</td>\n",
       "      <td>0.000999</td>\n",
       "      <td>0.967834</td>\n",
       "      <td>0.0</td>\n",
       "      <td>0.0</td>\n",
       "      <td>0.284206</td>\n",
       "      <td>8.996782e-15</td>\n",
       "      <td>1.706422e-15</td>\n",
       "    </tr>\n",
       "  </tbody>\n",
       "</table>\n",
       "</div>"
      ],
      "text/plain": [
       "                                                        group       ccc  \\\n",
       "gene0              gene1                                                  \n",
       "ENSG00000130598.15 ENSG00000177791.11  selected_in_manuscript  0.034593   \n",
       "\n",
       "                                       ccc_fdr  ccc_pvalue   pearson  \\\n",
       "gene0              gene1                                               \n",
       "ENSG00000130598.15 ENSG00000177791.11  0.00228    0.000999  0.967834   \n",
       "\n",
       "                                       pearson_fdr  pearson_pvalue  spearman  \\\n",
       "gene0              gene1                                                       \n",
       "ENSG00000130598.15 ENSG00000177791.11          0.0             0.0  0.284206   \n",
       "\n",
       "                                       spearman_fdr  spearman_pvalue  \n",
       "gene0              gene1                                              \n",
       "ENSG00000130598.15 ENSG00000177791.11  8.996782e-15     1.706422e-15  "
      ]
     },
     "metadata": {},
     "output_type": "display_data"
    },
    {
     "data": {
      "text/plain": [
       "('ENSG00000130598.15', 'ENSG00000177791.11')"
      ]
     },
     "metadata": {},
     "output_type": "display_data"
    },
    {
     "data": {
      "text/plain": [
       "('TNNI2', 'MYOZ1')"
      ]
     },
     "metadata": {},
     "output_type": "display_data"
    },
    {
     "data": {
      "text/plain": [
       "<seaborn.axisgrid.JointGrid at 0x725945910ee0>"
      ]
     },
     "metadata": {},
     "output_type": "display_data"
    },
    {
     "data": {
      "image/png": "[encoded data removed]",
      "text/plain": [
       "<Figure size 600x600 with 3 Axes>"
      ]
     },
     "metadata": {},
     "output_type": "display_data"
    }
   ],
   "source": [
    "gene0_id = \"ENSG00000130598.15\"\n",
    "gene1_id = \"ENSG00000177791.11\"\n",
    "\n",
    "_tmp = df_pvalues.loc[[(gene0_id, gene1_id)]]\n",
    "display(_tmp)\n",
    "\n",
    "p = plot_gene_pair(_tmp, 0)\n",
    "display(p)"
   ]
  },
  {
   "cell_type": "markdown",
   "id": "bca7caa0",
   "metadata": {},
   "source": [
    "## ~PYGM vs TPM2~ C19orf33 vs SCGB3A1"
   ]
  },
  {
   "cell_type": "markdown",
   "id": "3e5fbdbe",
   "metadata": {},
   "source": [
    "**Decision:** Replace, because:\n",
    "* It's significant in all coefficients.\n",
    "* Predicted to be expressed in skeletal muscle in GIANT: https://hb.flatironinstitute.org/gene/5837+7169\n",
    "\n",
    "*Replaced by:* C19orf33 vs SCGB3A1:\n",
    "* Only significant in Pearson\n",
    "* Predicted to be expressed in the placenta in GIANT: https://hb.flatironinstitute.org/gene/64073+92304"
   ]
  },
  {
   "cell_type": "code",
   "execution_count": 31,
   "id": "9f6c5d41",
   "metadata": {},
   "outputs": [
    {
     "data": {
      "text/html": [
       "<div>\n",
       "<style scoped>\n",
       "    .dataframe tbody tr th:only-of-type {\n",
       "        vertical-align: middle;\n",
       "    }\n",
       "\n",
       "    .dataframe tbody tr th {\n",
       "        vertical-align: top;\n",
       "    }\n",
       "\n",
       "    .dataframe thead th {\n",
       "        text-align: right;\n",
       "    }\n",
       "</style>\n",
       "<table border=\"1\" class=\"dataframe\">\n",
       "  <thead>\n",
       "    <tr style=\"text-align: right;\">\n",
       "      <th></th>\n",
       "      <th></th>\n",
       "      <th>group</th>\n",
       "      <th>ccc</th>\n",
       "      <th>ccc_fdr</th>\n",
       "      <th>ccc_pvalue</th>\n",
       "      <th>pearson</th>\n",
       "      <th>pearson_fdr</th>\n",
       "      <th>pearson_pvalue</th>\n",
       "      <th>spearman</th>\n",
       "      <th>spearman_fdr</th>\n",
       "      <th>spearman_pvalue</th>\n",
       "    </tr>\n",
       "    <tr>\n",
       "      <th>gene0</th>\n",
       "      <th>gene1</th>\n",
       "      <th></th>\n",
       "      <th></th>\n",
       "      <th></th>\n",
       "      <th></th>\n",
       "      <th></th>\n",
       "      <th></th>\n",
       "      <th></th>\n",
       "      <th></th>\n",
       "      <th></th>\n",
       "      <th></th>\n",
       "    </tr>\n",
       "  </thead>\n",
       "  <tbody>\n",
       "    <tr>\n",
       "      <th>ENSG00000198467.13</th>\n",
       "      <th>ENSG00000068976.13</th>\n",
       "      <td>selected_in_manuscript</td>\n",
       "      <td>0.034912</td>\n",
       "      <td>0.00228</td>\n",
       "      <td>0.000999</td>\n",
       "      <td>0.94443</td>\n",
       "      <td>0.0</td>\n",
       "      <td>0.0</td>\n",
       "      <td>0.029852</td>\n",
       "      <td>0.866054</td>\n",
       "      <td>0.412748</td>\n",
       "    </tr>\n",
       "  </tbody>\n",
       "</table>\n",
       "</div>"
      ],
      "text/plain": [
       "                                                        group       ccc  \\\n",
       "gene0              gene1                                                  \n",
       "ENSG00000198467.13 ENSG00000068976.13  selected_in_manuscript  0.034912   \n",
       "\n",
       "                                       ccc_fdr  ccc_pvalue  pearson  \\\n",
       "gene0              gene1                                              \n",
       "ENSG00000198467.13 ENSG00000068976.13  0.00228    0.000999  0.94443   \n",
       "\n",
       "                                       pearson_fdr  pearson_pvalue  spearman  \\\n",
       "gene0              gene1                                                       \n",
       "ENSG00000198467.13 ENSG00000068976.13          0.0             0.0  0.029852   \n",
       "\n",
       "                                       spearman_fdr  spearman_pvalue  \n",
       "gene0              gene1                                              \n",
       "ENSG00000198467.13 ENSG00000068976.13      0.866054         0.412748  "
      ]
     },
     "metadata": {},
     "output_type": "display_data"
    },
    {
     "data": {
      "text/plain": [
       "('ENSG00000198467.13', 'ENSG00000068976.13')"
      ]
     },
     "metadata": {},
     "output_type": "display_data"
    },
    {
     "data": {
      "text/plain": [
       "('TPM2', 'PYGM')"
      ]
     },
     "metadata": {},
     "output_type": "display_data"
    },
    {
     "data": {
      "text/plain": [
       "<seaborn.axisgrid.JointGrid at 0x725945938b80>"
      ]
     },
     "metadata": {},
     "output_type": "display_data"
    },
    {
     "data": {
      "image/png": "[encoded data removed]",
      "text/plain": [
       "<Figure size 600x600 with 3 Axes>"
      ]
     },
     "metadata": {},
     "output_type": "display_data"
    }
   ],
   "source": [
    "gene0_id = \"ENSG00000198467.13\"\n",
    "gene1_id = \"ENSG00000068976.13\"\n",
    "\n",
    "_tmp = df_pvalues.loc[[(gene0_id, gene1_id)]]\n",
    "display(_tmp)\n",
    "\n",
    "p = plot_gene_pair(_tmp, 0)\n",
    "display(p)"
   ]
  }
 ],
 "metadata": {
  "jupytext": {
   "cell_metadata_filter": "all,-execution,-papermill,-trusted",
   "notebook_metadata_filter": "-jupytext.text_representation.jupytext_version",
   "text_representation": {
    "extension": ".py",
    "format_name": "percent",
    "format_version": "1.3"
   }
  },
  "kernelspec": {
   "display_name": "Python 3 (ipykernel)",
   "language": "python",
   "name": "python3"
  },
  "language_info": {
   "codemirror_mode": {
    "name": "ipython",
    "version": 3
   },
   "file_extension": ".py",
   "mimetype": "text/x-python",
   "name": "python",
   "nbconvert_exporter": "python",
   "pygments_lexer": "ipython3",
   "version": "3.10.16"
  },
  "papermill": {
   "default_parameters": {},
   "duration": 25.362038,
   "end_time": "2024-01-03T06:27:09.704528",
   "environment_variables": {},
   "exception": null,
   "input_path": "nbs/99_manuscript/coefs_comp/05-analyze_significant_pairs.ipynb",
   "output_path": "nbs/99_manuscript/coefs_comp/05-analyze_significant_pairs.run.ipynb",
   "parameters": {},
   "start_time": "2024-01-03T06:26:44.342490",
   "version": "2.3.4"
  }
 },
 "nbformat": 4,
 "nbformat_minor": 5
}
