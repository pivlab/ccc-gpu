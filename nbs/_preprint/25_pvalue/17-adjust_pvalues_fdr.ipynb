{
 "cells": [
  {
   "cell_type": "markdown",
   "id": "ec52faa3-656f-483e-9617-d7ec0f7d818c",
   "metadata": {
    "papermill": {
     "duration": 0.006888,
     "end_time": "2023-09-18T15:25:30.423900",
     "exception": false,
     "start_time": "2023-09-18T15:25:30.417012",
     "status": "completed"
    },
    "tags": []
   },
   "source": [
    "# Description"
   ]
  },
  {
   "cell_type": "markdown",
   "id": "51102f42-fcd9-4a58-9c8d-dfcd3d2d464e",
   "metadata": {
    "papermill": {
     "duration": 0.007186,
     "end_time": "2023-09-18T15:25:30.440885",
     "exception": false,
     "start_time": "2023-09-18T15:25:30.433699",
     "status": "completed"
    },
    "tags": []
   },
   "source": [
    "It reads the pvalues generated previously and adjust them using FDR."
   ]
  },
  {
   "cell_type": "markdown",
   "id": "7006ceeb-2651-407d-bfa1-1039727649ef",
   "metadata": {
    "papermill": {
     "duration": 0.003065,
     "end_time": "2023-09-18T15:25:30.448417",
     "exception": false,
     "start_time": "2023-09-18T15:25:30.445352",
     "status": "completed"
    },
    "tags": []
   },
   "source": [
    "# Modules loading"
   ]
  },
  {
   "cell_type": "code",
   "execution_count": 27,
   "id": "1ffa1a96-7545-40b9-ac8b-8627e13de8d4",
   "metadata": {
    "execution": {
     "iopub.execute_input": "2023-09-18T15:25:30.453822Z",
     "iopub.status.busy": "2023-09-18T15:25:30.453663Z",
     "iopub.status.idle": "2023-09-18T15:25:30.579585Z",
     "shell.execute_reply": "2023-09-18T15:25:30.579333Z"
    },
    "papermill": {
     "duration": 0.129605,
     "end_time": "2023-09-18T15:25:30.580473",
     "exception": false,
     "start_time": "2023-09-18T15:25:30.450868",
     "status": "completed"
    },
    "tags": []
   },
   "outputs": [],
   "source": [
    "import numpy as np\n",
    "import pandas as pd\n",
    "import os\n",
    "\n",
    "from pathlib import Path\n",
    "from statsmodels.stats.multitest import multipletests\n",
    "\n",
    "from ccc import conf"
   ]
  },
  {
   "cell_type": "markdown",
   "id": "0d3cc810-4b17-4213-8f03-6fe7e97a0fe3",
   "metadata": {
    "papermill": {
     "duration": 0.001843,
     "end_time": "2023-09-18T15:25:30.584515",
     "exception": false,
     "start_time": "2023-09-18T15:25:30.582672",
     "status": "completed"
    },
    "tags": []
   },
   "source": [
    "# Settings"
   ]
  },
  {
   "cell_type": "code",
   "execution_count": 28,
   "id": "9a154623-c787-4a31-871a-cad173f0eb9f",
   "metadata": {
    "execution": {
     "iopub.execute_input": "2023-09-18T15:25:30.588454Z",
     "iopub.status.busy": "2023-09-18T15:25:30.588383Z",
     "iopub.status.idle": "2023-09-18T15:25:30.590016Z",
     "shell.execute_reply": "2023-09-18T15:25:30.589778Z"
    },
    "papermill": {
     "duration": 0.004271,
     "end_time": "2023-09-18T15:25:30.590544",
     "exception": false,
     "start_time": "2023-09-18T15:25:30.586273",
     "status": "completed"
    },
    "tags": []
   },
   "outputs": [],
   "source": [
    "GTEX_TISSUE = \"whole_blood\"\n",
    "GENE_SEL_STRATEGY = \"var_pc_log2\"\n",
    "\n",
    "# Configuration constants\n",
    "TOP_N_GENES = \"all\"\n",
    "DATA_DIR = Path(\"/mnt/data/proj_data/ccc-gpu/gene_expr/data/gtex_v8\")\n",
    "GENE_SELECTION_DIR = DATA_DIR / \"gene_selection\" / TOP_N_GENES\n",
    "SIMILARITY_MATRICES_DIR = DATA_DIR / \"similarity_matrices\" / TOP_N_GENES"
   ]
  },
  {
   "cell_type": "markdown",
   "id": "5b09ff83-5377-49a9-b24b-65c6c90277d6",
   "metadata": {
    "papermill": {
     "duration": 0.001737,
     "end_time": "2023-09-18T15:25:30.594031",
     "exception": false,
     "start_time": "2023-09-18T15:25:30.592294",
     "status": "completed"
    },
    "tags": []
   },
   "source": [
    "# Paths"
   ]
  },
  {
   "cell_type": "code",
   "execution_count": 29,
   "id": "0122253c-99c0-41e2-8807-60df86bf0619",
   "metadata": {
    "execution": {
     "iopub.execute_input": "2023-09-18T15:25:30.597944Z",
     "iopub.status.busy": "2023-09-18T15:25:30.597885Z",
     "iopub.status.idle": "2023-09-18T15:25:30.599452Z",
     "shell.execute_reply": "2023-09-18T15:25:30.599228Z"
    },
    "papermill": {
     "duration": 0.004167,
     "end_time": "2023-09-18T15:25:30.599947",
     "exception": false,
     "start_time": "2023-09-18T15:25:30.595780",
     "status": "completed"
    },
    "tags": []
   },
   "outputs": [],
   "source": [
    "OUTPUT_DIR = Path(\"/mnt/data/projs/manuscripts/ccc-gpu/results/\") / \"pvalues\"\n",
    "assert OUTPUT_DIR.exists()"
   ]
  },
  {
   "cell_type": "code",
   "execution_count": 30,
   "id": "3003ed2c-5da0-43b9-969d-9cf037d05730",
   "metadata": {
    "execution": {
     "iopub.execute_input": "2023-09-18T15:25:30.603831Z",
     "iopub.status.busy": "2023-09-18T15:25:30.603732Z",
     "iopub.status.idle": "2023-09-18T15:25:30.607163Z",
     "shell.execute_reply": "2023-09-18T15:25:30.606949Z"
    },
    "papermill": {
     "duration": 0.005899,
     "end_time": "2023-09-18T15:25:30.607609",
     "exception": false,
     "start_time": "2023-09-18T15:25:30.601710",
     "status": "completed"
    },
    "tags": []
   },
   "outputs": [
    {
     "data": {
      "text/plain": [
       "PosixPath('/mnt/data/projs/manuscripts/ccc-gpu/results/pvalues')"
      ]
     },
     "execution_count": 30,
     "metadata": {},
     "output_type": "execute_result"
    }
   ],
   "source": [
    "OUTPUT_DIR"
   ]
  },
  {
   "cell_type": "code",
   "execution_count": 31,
   "id": "c740ae5a-c025-41e6-85bb-c06a52a74a35",
   "metadata": {
    "execution": {
     "iopub.execute_input": "2023-09-18T15:25:30.611691Z",
     "iopub.status.busy": "2023-09-18T15:25:30.611491Z",
     "iopub.status.idle": "2023-09-18T15:25:30.613431Z",
     "shell.execute_reply": "2023-09-18T15:25:30.613226Z"
    },
    "papermill": {
     "duration": 0.004463,
     "end_time": "2023-09-18T15:25:30.613881",
     "exception": false,
     "start_time": "2023-09-18T15:25:30.609418",
     "status": "completed"
    },
    "tags": []
   },
   "outputs": [
    {
     "data": {
      "text/plain": [
       "PosixPath('/mnt/data/projs/manuscripts/ccc-gpu/results/pvalues/gene_pair-samples-pvalues.pkl')"
      ]
     },
     "metadata": {},
     "output_type": "display_data"
    }
   ],
   "source": [
    "INPUT_PVALUES_FILE = OUTPUT_DIR / \"gene_pair-samples-pvalues.pkl\"\n",
    "display(INPUT_PVALUES_FILE)\n",
    "assert INPUT_PVALUES_FILE.exists()"
   ]
  },
  {
   "cell_type": "markdown",
   "id": "3d014f0c-d442-48ab-add8-ac338ad15b27",
   "metadata": {
    "papermill": {
     "duration": 0.00186,
     "end_time": "2023-09-18T15:25:30.617563",
     "exception": false,
     "start_time": "2023-09-18T15:25:30.615703",
     "status": "completed"
    },
    "tags": []
   },
   "source": [
    "# Load pvalues"
   ]
  },
  {
   "cell_type": "code",
   "execution_count": 32,
   "id": "6e8ef201-6f98-4fb6-a306-180ed4b467db",
   "metadata": {
    "execution": {
     "iopub.execute_input": "2023-09-18T15:25:30.621569Z",
     "iopub.status.busy": "2023-09-18T15:25:30.621482Z",
     "iopub.status.idle": "2023-09-18T15:25:30.624194Z",
     "shell.execute_reply": "2023-09-18T15:25:30.624056Z"
    },
    "papermill": {
     "duration": 0.00524,
     "end_time": "2023-09-18T15:25:30.624620",
     "exception": false,
     "start_time": "2023-09-18T15:25:30.619380",
     "status": "completed"
    },
    "tags": []
   },
   "outputs": [],
   "source": [
    "pvalues = pd.read_pickle(INPUT_PVALUES_FILE).sort_index()"
   ]
  },
  {
   "cell_type": "code",
   "execution_count": 33,
   "id": "4d18e93e-b394-46bd-8d16-d9261a85ba06",
   "metadata": {
    "execution": {
     "iopub.execute_input": "2023-09-18T15:25:30.628684Z",
     "iopub.status.busy": "2023-09-18T15:25:30.628576Z",
     "iopub.status.idle": "2023-09-18T15:25:30.630043Z",
     "shell.execute_reply": "2023-09-18T15:25:30.629919Z"
    },
    "papermill": {
     "duration": 0.004159,
     "end_time": "2023-09-18T15:25:30.630615",
     "exception": false,
     "start_time": "2023-09-18T15:25:30.626456",
     "status": "completed"
    },
    "tags": []
   },
   "outputs": [
    {
     "data": {
      "text/plain": [
       "(17008, 9)"
      ]
     },
     "execution_count": 33,
     "metadata": {},
     "output_type": "execute_result"
    }
   ],
   "source": [
    "pvalues.shape"
   ]
  },
  {
   "cell_type": "code",
   "execution_count": 34,
   "id": "ea8947b9-9064-43ec-bf10-6e6ae361c451",
   "metadata": {
    "execution": {
     "iopub.execute_input": "2023-09-18T15:25:30.634656Z",
     "iopub.status.busy": "2023-09-18T15:25:30.634574Z",
     "iopub.status.idle": "2023-09-18T15:25:30.639412Z",
     "shell.execute_reply": "2023-09-18T15:25:30.639291Z"
    },
    "papermill": {
     "duration": 0.00739,
     "end_time": "2023-09-18T15:25:30.639897",
     "exception": false,
     "start_time": "2023-09-18T15:25:30.632507",
     "status": "completed"
    },
    "tags": []
   },
   "outputs": [
    {
     "data": {
      "text/html": [
       "<div>\n",
       "<style scoped>\n",
       "    .dataframe tbody tr th:only-of-type {\n",
       "        vertical-align: middle;\n",
       "    }\n",
       "\n",
       "    .dataframe tbody tr th {\n",
       "        vertical-align: top;\n",
       "    }\n",
       "\n",
       "    .dataframe thead th {\n",
       "        text-align: right;\n",
       "    }\n",
       "</style>\n",
       "<table border=\"1\" class=\"dataframe\">\n",
       "  <thead>\n",
       "    <tr style=\"text-align: right;\">\n",
       "      <th></th>\n",
       "      <th>gene0</th>\n",
       "      <th>gene1</th>\n",
       "      <th>group</th>\n",
       "      <th>ccc</th>\n",
       "      <th>ccc_pvalue</th>\n",
       "      <th>pearson</th>\n",
       "      <th>pearson_pvalue</th>\n",
       "      <th>spearman</th>\n",
       "      <th>spearman_pvalue</th>\n",
       "    </tr>\n",
       "  </thead>\n",
       "  <tbody>\n",
       "    <tr>\n",
       "      <th>0</th>\n",
       "      <td>ENSG00000255555.1</td>\n",
       "      <td>ENSG00000230840.1</td>\n",
       "      <td>all_high-top_ccc</td>\n",
       "      <td>1.0</td>\n",
       "      <td>0.001998</td>\n",
       "      <td>1.0</td>\n",
       "      <td>0.0</td>\n",
       "      <td>1.0</td>\n",
       "      <td>0.0</td>\n",
       "    </tr>\n",
       "    <tr>\n",
       "      <th>1</th>\n",
       "      <td>ENSG00000255945.1</td>\n",
       "      <td>ENSG00000257296.1</td>\n",
       "      <td>all_high-top_ccc</td>\n",
       "      <td>1.0</td>\n",
       "      <td>0.003996</td>\n",
       "      <td>1.0</td>\n",
       "      <td>0.0</td>\n",
       "      <td>1.0</td>\n",
       "      <td>0.0</td>\n",
       "    </tr>\n",
       "    <tr>\n",
       "      <th>2</th>\n",
       "      <td>ENSG00000284356.1</td>\n",
       "      <td>ENSG00000248928.1</td>\n",
       "      <td>all_high-top_ccc</td>\n",
       "      <td>1.0</td>\n",
       "      <td>0.003996</td>\n",
       "      <td>1.0</td>\n",
       "      <td>0.0</td>\n",
       "      <td>1.0</td>\n",
       "      <td>0.0</td>\n",
       "    </tr>\n",
       "    <tr>\n",
       "      <th>3</th>\n",
       "      <td>ENSG00000256281.1</td>\n",
       "      <td>ENSG00000267687.1</td>\n",
       "      <td>all_high-top_ccc</td>\n",
       "      <td>1.0</td>\n",
       "      <td>0.000999</td>\n",
       "      <td>1.0</td>\n",
       "      <td>0.0</td>\n",
       "      <td>1.0</td>\n",
       "      <td>0.0</td>\n",
       "    </tr>\n",
       "    <tr>\n",
       "      <th>4</th>\n",
       "      <td>ENSG00000255945.1</td>\n",
       "      <td>ENSG00000232604.1</td>\n",
       "      <td>all_high-top_ccc</td>\n",
       "      <td>1.0</td>\n",
       "      <td>0.002997</td>\n",
       "      <td>1.0</td>\n",
       "      <td>0.0</td>\n",
       "      <td>1.0</td>\n",
       "      <td>0.0</td>\n",
       "    </tr>\n",
       "  </tbody>\n",
       "</table>\n",
       "</div>"
      ],
      "text/plain": [
       "               gene0              gene1             group  ccc  ccc_pvalue  \\\n",
       "0  ENSG00000255555.1  ENSG00000230840.1  all_high-top_ccc  1.0    0.001998   \n",
       "1  ENSG00000255945.1  ENSG00000257296.1  all_high-top_ccc  1.0    0.003996   \n",
       "2  ENSG00000284356.1  ENSG00000248928.1  all_high-top_ccc  1.0    0.003996   \n",
       "3  ENSG00000256281.1  ENSG00000267687.1  all_high-top_ccc  1.0    0.000999   \n",
       "4  ENSG00000255945.1  ENSG00000232604.1  all_high-top_ccc  1.0    0.002997   \n",
       "\n",
       "   pearson  pearson_pvalue  spearman  spearman_pvalue  \n",
       "0      1.0             0.0       1.0              0.0  \n",
       "1      1.0             0.0       1.0              0.0  \n",
       "2      1.0             0.0       1.0              0.0  \n",
       "3      1.0             0.0       1.0              0.0  \n",
       "4      1.0             0.0       1.0              0.0  "
      ]
     },
     "execution_count": 34,
     "metadata": {},
     "output_type": "execute_result"
    }
   ],
   "source": [
    "pvalues.head()"
   ]
  },
  {
   "cell_type": "markdown",
   "id": "5414e2d4-b4c5-48d9-9dd4-d9ff1585f341",
   "metadata": {
    "papermill": {
     "duration": 0.001876,
     "end_time": "2023-09-18T15:25:30.643713",
     "exception": false,
     "start_time": "2023-09-18T15:25:30.641837",
     "status": "completed"
    },
    "tags": []
   },
   "source": [
    "# Get set of unique gene pairs"
   ]
  },
  {
   "cell_type": "code",
   "execution_count": 35,
   "id": "b5ff3e15-7fc7-41d6-a238-1991fb120f2d",
   "metadata": {
    "execution": {
     "iopub.execute_input": "2023-09-18T15:25:30.647919Z",
     "iopub.status.busy": "2023-09-18T15:25:30.647806Z",
     "iopub.status.idle": "2023-09-18T15:25:30.652677Z",
     "shell.execute_reply": "2023-09-18T15:25:30.652539Z"
    },
    "papermill": {
     "duration": 0.007623,
     "end_time": "2023-09-18T15:25:30.653221",
     "exception": false,
     "start_time": "2023-09-18T15:25:30.645598",
     "status": "completed"
    },
    "tags": []
   },
   "outputs": [],
   "source": [
    "pvalues = pvalues.set_index([\"gene0\", \"gene1\"])"
   ]
  },
  {
   "cell_type": "code",
   "execution_count": 36,
   "id": "c7ee16b3-e7fc-45c9-ad8b-7dda50e35dee",
   "metadata": {
    "execution": {
     "iopub.execute_input": "2023-09-18T15:25:30.657483Z",
     "iopub.status.busy": "2023-09-18T15:25:30.657379Z",
     "iopub.status.idle": "2023-09-18T15:25:30.658756Z",
     "shell.execute_reply": "2023-09-18T15:25:30.658612Z"
    },
    "papermill": {
     "duration": 0.004212,
     "end_time": "2023-09-18T15:25:30.659366",
     "exception": false,
     "start_time": "2023-09-18T15:25:30.655154",
     "status": "completed"
    },
    "tags": []
   },
   "outputs": [],
   "source": [
    "assert not pvalues.index.is_unique"
   ]
  },
  {
   "cell_type": "code",
   "execution_count": 37,
   "id": "9a78de8d-ec58-4c22-a54d-1c612c2dbe6d",
   "metadata": {
    "execution": {
     "iopub.execute_input": "2023-09-18T15:25:30.663547Z",
     "iopub.status.busy": "2023-09-18T15:25:30.663464Z",
     "iopub.status.idle": "2023-09-18T15:25:30.670299Z",
     "shell.execute_reply": "2023-09-18T15:25:30.670174Z"
    },
    "papermill": {
     "duration": 0.009538,
     "end_time": "2023-09-18T15:25:30.670844",
     "exception": false,
     "start_time": "2023-09-18T15:25:30.661306",
     "status": "completed"
    },
    "tags": []
   },
   "outputs": [
    {
     "data": {
      "text/html": [
       "<div>\n",
       "<style scoped>\n",
       "    .dataframe tbody tr th:only-of-type {\n",
       "        vertical-align: middle;\n",
       "    }\n",
       "\n",
       "    .dataframe tbody tr th {\n",
       "        vertical-align: top;\n",
       "    }\n",
       "\n",
       "    .dataframe thead th {\n",
       "        text-align: right;\n",
       "    }\n",
       "</style>\n",
       "<table border=\"1\" class=\"dataframe\">\n",
       "  <thead>\n",
       "    <tr style=\"text-align: right;\">\n",
       "      <th></th>\n",
       "      <th></th>\n",
       "      <th>group</th>\n",
       "      <th>ccc</th>\n",
       "      <th>ccc_pvalue</th>\n",
       "      <th>pearson</th>\n",
       "      <th>pearson_pvalue</th>\n",
       "      <th>spearman</th>\n",
       "      <th>spearman_pvalue</th>\n",
       "    </tr>\n",
       "    <tr>\n",
       "      <th>gene0</th>\n",
       "      <th>gene1</th>\n",
       "      <th></th>\n",
       "      <th></th>\n",
       "      <th></th>\n",
       "      <th></th>\n",
       "      <th></th>\n",
       "      <th></th>\n",
       "      <th></th>\n",
       "    </tr>\n",
       "  </thead>\n",
       "  <tbody>\n",
       "    <tr>\n",
       "      <th rowspan=\"2\" valign=\"top\">ENSG00000001167.14</th>\n",
       "      <th>ENSG00000123700.4</th>\n",
       "      <td>ccc_high_and_spearman_low-top_ccc</td>\n",
       "      <td>0.100209</td>\n",
       "      <td>0.000999</td>\n",
       "      <td>-0.032490</td>\n",
       "      <td>3.726696e-01</td>\n",
       "      <td>-0.023504</td>\n",
       "      <td>0.519030</td>\n",
       "    </tr>\n",
       "    <tr>\n",
       "      <th>ENSG00000123700.4</th>\n",
       "      <td>ccc_high_and_spearman_low-top_spearman</td>\n",
       "      <td>0.100209</td>\n",
       "      <td>0.000999</td>\n",
       "      <td>-0.032490</td>\n",
       "      <td>3.726696e-01</td>\n",
       "      <td>-0.023504</td>\n",
       "      <td>0.519030</td>\n",
       "    </tr>\n",
       "    <tr>\n",
       "      <th rowspan=\"2\" valign=\"top\">ENSG00000005007.12</th>\n",
       "      <th>ENSG00000231721.6</th>\n",
       "      <td>ccc_high_and_spearman_pearson_low-top_ccc</td>\n",
       "      <td>0.083668</td>\n",
       "      <td>0.000999</td>\n",
       "      <td>0.003094</td>\n",
       "      <td>9.323651e-01</td>\n",
       "      <td>-0.023397</td>\n",
       "      <td>0.520925</td>\n",
       "    </tr>\n",
       "    <tr>\n",
       "      <th>ENSG00000231721.6</th>\n",
       "      <td>ccc_high_and_spearman_pearson_low-top_spearman</td>\n",
       "      <td>0.083668</td>\n",
       "      <td>0.000999</td>\n",
       "      <td>0.003094</td>\n",
       "      <td>9.323651e-01</td>\n",
       "      <td>-0.023397</td>\n",
       "      <td>0.520925</td>\n",
       "    </tr>\n",
       "    <tr>\n",
       "      <th>ENSG00000007171.16</th>\n",
       "      <th>ENSG00000269621.1</th>\n",
       "      <td>pearson_high_and_ccc_low-top_ccc</td>\n",
       "      <td>0.000138</td>\n",
       "      <td>0.757243</td>\n",
       "      <td>0.908452</td>\n",
       "      <td>1.745591e-287</td>\n",
       "      <td>-0.036033</td>\n",
       "      <td>0.322773</td>\n",
       "    </tr>\n",
       "    <tr>\n",
       "      <th>...</th>\n",
       "      <th>...</th>\n",
       "      <td>...</td>\n",
       "      <td>...</td>\n",
       "      <td>...</td>\n",
       "      <td>...</td>\n",
       "      <td>...</td>\n",
       "      <td>...</td>\n",
       "      <td>...</td>\n",
       "    </tr>\n",
       "    <tr>\n",
       "      <th>ENSG00000283680.1</th>\n",
       "      <th>ENSG00000278497.1</th>\n",
       "      <td>all_high-top_pearson</td>\n",
       "      <td>1.000000</td>\n",
       "      <td>0.000999</td>\n",
       "      <td>1.000000</td>\n",
       "      <td>0.000000e+00</td>\n",
       "      <td>1.000000</td>\n",
       "      <td>0.000000</td>\n",
       "    </tr>\n",
       "    <tr>\n",
       "      <th rowspan=\"4\" valign=\"top\">ENSG00000284508.1</th>\n",
       "      <th>ENSG00000221325.1</th>\n",
       "      <td>all_high-top_pearson</td>\n",
       "      <td>1.000000</td>\n",
       "      <td>0.002997</td>\n",
       "      <td>1.000000</td>\n",
       "      <td>0.000000e+00</td>\n",
       "      <td>1.000000</td>\n",
       "      <td>0.000000</td>\n",
       "    </tr>\n",
       "    <tr>\n",
       "      <th>ENSG00000221325.1</th>\n",
       "      <td>all_high-top_spearman</td>\n",
       "      <td>1.000000</td>\n",
       "      <td>0.002997</td>\n",
       "      <td>1.000000</td>\n",
       "      <td>0.000000e+00</td>\n",
       "      <td>1.000000</td>\n",
       "      <td>0.000000</td>\n",
       "    </tr>\n",
       "    <tr>\n",
       "      <th>ENSG00000271315.1</th>\n",
       "      <td>all_high-top_pearson</td>\n",
       "      <td>1.000000</td>\n",
       "      <td>0.001998</td>\n",
       "      <td>1.000000</td>\n",
       "      <td>0.000000e+00</td>\n",
       "      <td>1.000000</td>\n",
       "      <td>0.000000</td>\n",
       "    </tr>\n",
       "    <tr>\n",
       "      <th>ENSG00000271315.1</th>\n",
       "      <td>all_high-top_spearman</td>\n",
       "      <td>1.000000</td>\n",
       "      <td>0.002997</td>\n",
       "      <td>1.000000</td>\n",
       "      <td>0.000000e+00</td>\n",
       "      <td>1.000000</td>\n",
       "      <td>0.000000</td>\n",
       "    </tr>\n",
       "  </tbody>\n",
       "</table>\n",
       "<p>1927 rows × 7 columns</p>\n",
       "</div>"
      ],
      "text/plain": [
       "                                                                               group  \\\n",
       "gene0              gene1                                                               \n",
       "ENSG00000001167.14 ENSG00000123700.4               ccc_high_and_spearman_low-top_ccc   \n",
       "                   ENSG00000123700.4          ccc_high_and_spearman_low-top_spearman   \n",
       "ENSG00000005007.12 ENSG00000231721.6       ccc_high_and_spearman_pearson_low-top_ccc   \n",
       "                   ENSG00000231721.6  ccc_high_and_spearman_pearson_low-top_spearman   \n",
       "ENSG00000007171.16 ENSG00000269621.1                pearson_high_and_ccc_low-top_ccc   \n",
       "...                                                                              ...   \n",
       "ENSG00000283680.1  ENSG00000278497.1                            all_high-top_pearson   \n",
       "ENSG00000284508.1  ENSG00000221325.1                            all_high-top_pearson   \n",
       "                   ENSG00000221325.1                           all_high-top_spearman   \n",
       "                   ENSG00000271315.1                            all_high-top_pearson   \n",
       "                   ENSG00000271315.1                           all_high-top_spearman   \n",
       "\n",
       "                                           ccc  ccc_pvalue   pearson  \\\n",
       "gene0              gene1                                               \n",
       "ENSG00000001167.14 ENSG00000123700.4  0.100209    0.000999 -0.032490   \n",
       "                   ENSG00000123700.4  0.100209    0.000999 -0.032490   \n",
       "ENSG00000005007.12 ENSG00000231721.6  0.083668    0.000999  0.003094   \n",
       "                   ENSG00000231721.6  0.083668    0.000999  0.003094   \n",
       "ENSG00000007171.16 ENSG00000269621.1  0.000138    0.757243  0.908452   \n",
       "...                                        ...         ...       ...   \n",
       "ENSG00000283680.1  ENSG00000278497.1  1.000000    0.000999  1.000000   \n",
       "ENSG00000284508.1  ENSG00000221325.1  1.000000    0.002997  1.000000   \n",
       "                   ENSG00000221325.1  1.000000    0.002997  1.000000   \n",
       "                   ENSG00000271315.1  1.000000    0.001998  1.000000   \n",
       "                   ENSG00000271315.1  1.000000    0.002997  1.000000   \n",
       "\n",
       "                                      pearson_pvalue  spearman  \\\n",
       "gene0              gene1                                         \n",
       "ENSG00000001167.14 ENSG00000123700.4    3.726696e-01 -0.023504   \n",
       "                   ENSG00000123700.4    3.726696e-01 -0.023504   \n",
       "ENSG00000005007.12 ENSG00000231721.6    9.323651e-01 -0.023397   \n",
       "                   ENSG00000231721.6    9.323651e-01 -0.023397   \n",
       "ENSG00000007171.16 ENSG00000269621.1   1.745591e-287 -0.036033   \n",
       "...                                              ...       ...   \n",
       "ENSG00000283680.1  ENSG00000278497.1    0.000000e+00  1.000000   \n",
       "ENSG00000284508.1  ENSG00000221325.1    0.000000e+00  1.000000   \n",
       "                   ENSG00000221325.1    0.000000e+00  1.000000   \n",
       "                   ENSG00000271315.1    0.000000e+00  1.000000   \n",
       "                   ENSG00000271315.1    0.000000e+00  1.000000   \n",
       "\n",
       "                                      spearman_pvalue  \n",
       "gene0              gene1                               \n",
       "ENSG00000001167.14 ENSG00000123700.4         0.519030  \n",
       "                   ENSG00000123700.4         0.519030  \n",
       "ENSG00000005007.12 ENSG00000231721.6         0.520925  \n",
       "                   ENSG00000231721.6         0.520925  \n",
       "ENSG00000007171.16 ENSG00000269621.1         0.322773  \n",
       "...                                               ...  \n",
       "ENSG00000283680.1  ENSG00000278497.1         0.000000  \n",
       "ENSG00000284508.1  ENSG00000221325.1         0.000000  \n",
       "                   ENSG00000221325.1         0.000000  \n",
       "                   ENSG00000271315.1         0.000000  \n",
       "                   ENSG00000271315.1         0.000000  \n",
       "\n",
       "[1927 rows x 7 columns]"
      ]
     },
     "execution_count": 37,
     "metadata": {},
     "output_type": "execute_result"
    }
   ],
   "source": [
    "pvalues.loc[pvalues.index.duplicated(keep=False)].sort_index()"
   ]
  },
  {
   "cell_type": "code",
   "execution_count": 38,
   "id": "017eec10-d12d-46f6-a7b2-925e8528be77",
   "metadata": {
    "execution": {
     "iopub.execute_input": "2023-09-18T15:25:30.675414Z",
     "iopub.status.busy": "2023-09-18T15:25:30.675359Z",
     "iopub.status.idle": "2023-09-18T15:25:30.677276Z",
     "shell.execute_reply": "2023-09-18T15:25:30.677126Z"
    },
    "papermill": {
     "duration": 0.004698,
     "end_time": "2023-09-18T15:25:30.677659",
     "exception": false,
     "start_time": "2023-09-18T15:25:30.672961",
     "status": "completed"
    },
    "tags": []
   },
   "outputs": [],
   "source": [
    "pvalues_nodup = pvalues.loc[~pvalues.index.duplicated(keep=\"first\"), :]"
   ]
  },
  {
   "cell_type": "code",
   "execution_count": 39,
   "id": "150500bb-9e91-43cd-9d0c-c84202125c48",
   "metadata": {
    "execution": {
     "iopub.execute_input": "2023-09-18T15:25:30.682175Z",
     "iopub.status.busy": "2023-09-18T15:25:30.682087Z",
     "iopub.status.idle": "2023-09-18T15:25:30.683546Z",
     "shell.execute_reply": "2023-09-18T15:25:30.683427Z"
    },
    "papermill": {
     "duration": 0.004199,
     "end_time": "2023-09-18T15:25:30.684038",
     "exception": false,
     "start_time": "2023-09-18T15:25:30.679839",
     "status": "completed"
    },
    "tags": []
   },
   "outputs": [
    {
     "data": {
      "text/plain": [
       "(16005, 7)"
      ]
     },
     "execution_count": 39,
     "metadata": {},
     "output_type": "execute_result"
    }
   ],
   "source": [
    "pvalues_nodup.shape"
   ]
  },
  {
   "cell_type": "markdown",
   "id": "de28ae32-2739-4dca-9c59-20c927b1a114",
   "metadata": {
    "papermill": {
     "duration": 0.002043,
     "end_time": "2023-09-18T15:25:30.688173",
     "exception": false,
     "start_time": "2023-09-18T15:25:30.686130",
     "status": "completed"
    },
    "tags": []
   },
   "source": [
    "# Adjust p-values for all methods"
   ]
  },
  {
   "cell_type": "code",
   "execution_count": 44,
   "id": "1f0ccd27",
   "metadata": {},
   "outputs": [
    {
     "data": {
      "text/plain": [
       "(15954, 7)"
      ]
     },
     "execution_count": 44,
     "metadata": {},
     "output_type": "execute_result"
    }
   ],
   "source": [
    "# remove nans\n",
    "pvalues_nodup = pvalues_nodup.dropna(subset=[\"pearson_pvalue\"])\n",
    "pvalues_nodup.shape\n",
    "# Adjust p-values for all methods"
   ]
  },
  {
   "cell_type": "code",
   "execution_count": 45,
   "id": "6f6ecd58",
   "metadata": {},
   "outputs": [
    {
     "data": {
      "text/plain": [
       "group              0\n",
       "ccc                0\n",
       "ccc_pvalue         0\n",
       "pearson            0\n",
       "pearson_pvalue     0\n",
       "spearman           0\n",
       "spearman_pvalue    0\n",
       "dtype: int64"
      ]
     },
     "execution_count": 45,
     "metadata": {},
     "output_type": "execute_result"
    }
   ],
   "source": [
    "pvalues_nodup.isna().sum()"
   ]
  },
  {
   "cell_type": "code",
   "execution_count": 46,
   "id": "3007d6a2-2576-4907-beb4-080c3aeb9d89",
   "metadata": {
    "execution": {
     "iopub.execute_input": "2023-09-18T15:25:30.692643Z",
     "iopub.status.busy": "2023-09-18T15:25:30.692526Z",
     "iopub.status.idle": "2023-09-18T15:25:30.694620Z",
     "shell.execute_reply": "2023-09-18T15:25:30.694485Z"
    },
    "papermill": {
     "duration": 0.004884,
     "end_time": "2023-09-18T15:25:30.695145",
     "exception": false,
     "start_time": "2023-09-18T15:25:30.690261",
     "status": "completed"
    },
    "tags": []
   },
   "outputs": [],
   "source": [
    "adj_pvals = multipletests(pvalues_nodup[\"pearson_pvalue\"], alpha=0.05, method=\"fdr_bh\")"
   ]
  },
  {
   "cell_type": "code",
   "execution_count": 47,
   "id": "6859ba7f-b40b-4e2c-a49f-b37db0c2e543",
   "metadata": {
    "execution": {
     "iopub.execute_input": "2023-09-18T15:25:30.699644Z",
     "iopub.status.busy": "2023-09-18T15:25:30.699584Z",
     "iopub.status.idle": "2023-09-18T15:25:30.701060Z",
     "shell.execute_reply": "2023-09-18T15:25:30.700942Z"
    },
    "papermill": {
     "duration": 0.004348,
     "end_time": "2023-09-18T15:25:30.701601",
     "exception": false,
     "start_time": "2023-09-18T15:25:30.697253",
     "status": "completed"
    },
    "tags": []
   },
   "outputs": [
    {
     "data": {
      "text/plain": [
       "(15954,)"
      ]
     },
     "execution_count": 47,
     "metadata": {},
     "output_type": "execute_result"
    }
   ],
   "source": [
    "adj_pvals[1].shape"
   ]
  },
  {
   "cell_type": "code",
   "execution_count": 48,
   "id": "2d1e621f-8c6f-4c03-ad1f-ea0d5d5c3bf7",
   "metadata": {
    "execution": {
     "iopub.execute_input": "2023-09-18T15:25:30.706209Z",
     "iopub.status.busy": "2023-09-18T15:25:30.706124Z",
     "iopub.status.idle": "2023-09-18T15:25:30.707723Z",
     "shell.execute_reply": "2023-09-18T15:25:30.707603Z"
    },
    "papermill": {
     "duration": 0.004384,
     "end_time": "2023-09-18T15:25:30.708150",
     "exception": false,
     "start_time": "2023-09-18T15:25:30.703766",
     "status": "completed"
    },
    "tags": []
   },
   "outputs": [
    {
     "data": {
      "text/plain": [
       "(array([ True,  True,  True, ...,  True, False, False]),\n",
       " array([0.00000000e+00, 0.00000000e+00, 0.00000000e+00, ...,\n",
       "        1.14369259e-83, 3.29834078e-01, 9.79228840e-01]),\n",
       " 3.2150690693066863e-06,\n",
       " 3.134010279553717e-06)"
      ]
     },
     "execution_count": 48,
     "metadata": {},
     "output_type": "execute_result"
    }
   ],
   "source": [
    "adj_pvals"
   ]
  },
  {
   "cell_type": "code",
   "execution_count": 49,
   "id": "bfc3537a-5c00-4ab6-bd83-52cc2216e962",
   "metadata": {
    "execution": {
     "iopub.execute_input": "2023-09-18T15:25:30.725548Z",
     "iopub.status.busy": "2023-09-18T15:25:30.725440Z",
     "iopub.status.idle": "2023-09-18T15:25:30.730976Z",
     "shell.execute_reply": "2023-09-18T15:25:30.730816Z"
    },
    "papermill": {
     "duration": 0.021263,
     "end_time": "2023-09-18T15:25:30.731614",
     "exception": false,
     "start_time": "2023-09-18T15:25:30.710351",
     "status": "completed"
    },
    "tags": []
   },
   "outputs": [
    {
     "name": "stdout",
     "output_type": "stream",
     "text": [
      "ccc_pvalue - ccc_fdr\n",
      "pearson_pvalue - pearson_fdr\n",
      "spearman_pvalue - spearman_fdr\n"
     ]
    }
   ],
   "source": [
    "for coef in (\"ccc\", \"pearson\", \"spearman\"):\n",
    "    pval_col_name = f\"{coef}_pvalue\"\n",
    "    fdr_col_name = f\"{coef}_fdr\"\n",
    "    print(f\"{pval_col_name} - {fdr_col_name}\")\n",
    "\n",
    "    adj_pvals = multipletests(pvalues_nodup[pval_col_name], alpha=0.05, method=\"fdr_bh\")\n",
    "    pvalues_nodup = pvalues_nodup.assign(**{fdr_col_name: adj_pvals[1]})"
   ]
  },
  {
   "cell_type": "code",
   "execution_count": 50,
   "id": "5753c8a1-82a7-40b8-8bf9-7e7a0259ba22",
   "metadata": {
    "execution": {
     "iopub.execute_input": "2023-09-18T15:25:30.736714Z",
     "iopub.status.busy": "2023-09-18T15:25:30.736605Z",
     "iopub.status.idle": "2023-09-18T15:25:30.738227Z",
     "shell.execute_reply": "2023-09-18T15:25:30.738094Z"
    },
    "papermill": {
     "duration": 0.004871,
     "end_time": "2023-09-18T15:25:30.738856",
     "exception": false,
     "start_time": "2023-09-18T15:25:30.733985",
     "status": "completed"
    },
    "tags": []
   },
   "outputs": [
    {
     "data": {
      "text/plain": [
       "(15954, 10)"
      ]
     },
     "execution_count": 50,
     "metadata": {},
     "output_type": "execute_result"
    }
   ],
   "source": [
    "pvalues_nodup.shape"
   ]
  },
  {
   "cell_type": "code",
   "execution_count": 51,
   "id": "cec38895-3090-4e2e-9aaf-1bb604592344",
   "metadata": {
    "execution": {
     "iopub.execute_input": "2023-09-18T15:25:30.743765Z",
     "iopub.status.busy": "2023-09-18T15:25:30.743641Z",
     "iopub.status.idle": "2023-09-18T15:25:30.749168Z",
     "shell.execute_reply": "2023-09-18T15:25:30.749036Z"
    },
    "papermill": {
     "duration": 0.008523,
     "end_time": "2023-09-18T15:25:30.749651",
     "exception": false,
     "start_time": "2023-09-18T15:25:30.741128",
     "status": "completed"
    },
    "tags": []
   },
   "outputs": [
    {
     "data": {
      "text/html": [
       "<div>\n",
       "<style scoped>\n",
       "    .dataframe tbody tr th:only-of-type {\n",
       "        vertical-align: middle;\n",
       "    }\n",
       "\n",
       "    .dataframe tbody tr th {\n",
       "        vertical-align: top;\n",
       "    }\n",
       "\n",
       "    .dataframe thead th {\n",
       "        text-align: right;\n",
       "    }\n",
       "</style>\n",
       "<table border=\"1\" class=\"dataframe\">\n",
       "  <thead>\n",
       "    <tr style=\"text-align: right;\">\n",
       "      <th></th>\n",
       "      <th></th>\n",
       "      <th>group</th>\n",
       "      <th>ccc</th>\n",
       "      <th>ccc_fdr</th>\n",
       "      <th>ccc_pvalue</th>\n",
       "      <th>pearson</th>\n",
       "      <th>pearson_fdr</th>\n",
       "      <th>pearson_pvalue</th>\n",
       "      <th>spearman</th>\n",
       "      <th>spearman_fdr</th>\n",
       "      <th>spearman_pvalue</th>\n",
       "    </tr>\n",
       "    <tr>\n",
       "      <th>gene0</th>\n",
       "      <th>gene1</th>\n",
       "      <th></th>\n",
       "      <th></th>\n",
       "      <th></th>\n",
       "      <th></th>\n",
       "      <th></th>\n",
       "      <th></th>\n",
       "      <th></th>\n",
       "      <th></th>\n",
       "      <th></th>\n",
       "      <th></th>\n",
       "    </tr>\n",
       "  </thead>\n",
       "  <tbody>\n",
       "    <tr>\n",
       "      <th>ENSG00000255555.1</th>\n",
       "      <th>ENSG00000230840.1</th>\n",
       "      <td>all_high-top_ccc</td>\n",
       "      <td>1.0</td>\n",
       "      <td>0.004304</td>\n",
       "      <td>0.001998</td>\n",
       "      <td>1.0</td>\n",
       "      <td>0.0</td>\n",
       "      <td>0.0</td>\n",
       "      <td>1.0</td>\n",
       "      <td>0.0</td>\n",
       "      <td>0.0</td>\n",
       "    </tr>\n",
       "    <tr>\n",
       "      <th>ENSG00000255945.1</th>\n",
       "      <th>ENSG00000257296.1</th>\n",
       "      <td>all_high-top_ccc</td>\n",
       "      <td>1.0</td>\n",
       "      <td>0.008145</td>\n",
       "      <td>0.003996</td>\n",
       "      <td>1.0</td>\n",
       "      <td>0.0</td>\n",
       "      <td>0.0</td>\n",
       "      <td>1.0</td>\n",
       "      <td>0.0</td>\n",
       "      <td>0.0</td>\n",
       "    </tr>\n",
       "    <tr>\n",
       "      <th>ENSG00000284356.1</th>\n",
       "      <th>ENSG00000248928.1</th>\n",
       "      <td>all_high-top_ccc</td>\n",
       "      <td>1.0</td>\n",
       "      <td>0.008145</td>\n",
       "      <td>0.003996</td>\n",
       "      <td>1.0</td>\n",
       "      <td>0.0</td>\n",
       "      <td>0.0</td>\n",
       "      <td>1.0</td>\n",
       "      <td>0.0</td>\n",
       "      <td>0.0</td>\n",
       "    </tr>\n",
       "    <tr>\n",
       "      <th>ENSG00000256281.1</th>\n",
       "      <th>ENSG00000267687.1</th>\n",
       "      <td>all_high-top_ccc</td>\n",
       "      <td>1.0</td>\n",
       "      <td>0.002280</td>\n",
       "      <td>0.000999</td>\n",
       "      <td>1.0</td>\n",
       "      <td>0.0</td>\n",
       "      <td>0.0</td>\n",
       "      <td>1.0</td>\n",
       "      <td>0.0</td>\n",
       "      <td>0.0</td>\n",
       "    </tr>\n",
       "    <tr>\n",
       "      <th>ENSG00000255945.1</th>\n",
       "      <th>ENSG00000232604.1</th>\n",
       "      <td>all_high-top_ccc</td>\n",
       "      <td>1.0</td>\n",
       "      <td>0.006217</td>\n",
       "      <td>0.002997</td>\n",
       "      <td>1.0</td>\n",
       "      <td>0.0</td>\n",
       "      <td>0.0</td>\n",
       "      <td>1.0</td>\n",
       "      <td>0.0</td>\n",
       "      <td>0.0</td>\n",
       "    </tr>\n",
       "  </tbody>\n",
       "</table>\n",
       "</div>"
      ],
      "text/plain": [
       "                                                group  ccc   ccc_fdr  \\\n",
       "gene0             gene1                                                \n",
       "ENSG00000255555.1 ENSG00000230840.1  all_high-top_ccc  1.0  0.004304   \n",
       "ENSG00000255945.1 ENSG00000257296.1  all_high-top_ccc  1.0  0.008145   \n",
       "ENSG00000284356.1 ENSG00000248928.1  all_high-top_ccc  1.0  0.008145   \n",
       "ENSG00000256281.1 ENSG00000267687.1  all_high-top_ccc  1.0  0.002280   \n",
       "ENSG00000255945.1 ENSG00000232604.1  all_high-top_ccc  1.0  0.006217   \n",
       "\n",
       "                                     ccc_pvalue  pearson  pearson_fdr  \\\n",
       "gene0             gene1                                                 \n",
       "ENSG00000255555.1 ENSG00000230840.1    0.001998      1.0          0.0   \n",
       "ENSG00000255945.1 ENSG00000257296.1    0.003996      1.0          0.0   \n",
       "ENSG00000284356.1 ENSG00000248928.1    0.003996      1.0          0.0   \n",
       "ENSG00000256281.1 ENSG00000267687.1    0.000999      1.0          0.0   \n",
       "ENSG00000255945.1 ENSG00000232604.1    0.002997      1.0          0.0   \n",
       "\n",
       "                                     pearson_pvalue  spearman  spearman_fdr  \\\n",
       "gene0             gene1                                                       \n",
       "ENSG00000255555.1 ENSG00000230840.1             0.0       1.0           0.0   \n",
       "ENSG00000255945.1 ENSG00000257296.1             0.0       1.0           0.0   \n",
       "ENSG00000284356.1 ENSG00000248928.1             0.0       1.0           0.0   \n",
       "ENSG00000256281.1 ENSG00000267687.1             0.0       1.0           0.0   \n",
       "ENSG00000255945.1 ENSG00000232604.1             0.0       1.0           0.0   \n",
       "\n",
       "                                     spearman_pvalue  \n",
       "gene0             gene1                               \n",
       "ENSG00000255555.1 ENSG00000230840.1              0.0  \n",
       "ENSG00000255945.1 ENSG00000257296.1              0.0  \n",
       "ENSG00000284356.1 ENSG00000248928.1              0.0  \n",
       "ENSG00000256281.1 ENSG00000267687.1              0.0  \n",
       "ENSG00000255945.1 ENSG00000232604.1              0.0  "
      ]
     },
     "metadata": {},
     "output_type": "display_data"
    }
   ],
   "source": [
    "# reorder columns\n",
    "_tmp = (\n",
    "    pvalues_nodup.rename(columns={\"group\": \"agroup\"})\n",
    "    .sort_index(axis=\"columns\")\n",
    "    .rename(columns={\"agroup\": \"group\"})\n",
    ")\n",
    "display(_tmp.head())"
   ]
  },
  {
   "cell_type": "code",
   "execution_count": 52,
   "id": "521f6650",
   "metadata": {},
   "outputs": [],
   "source": [
    "# Remove nans\n",
    "pvalues_nodup = _tmp.dropna(subset=[\"pearson_fdr\"])"
   ]
  },
  {
   "cell_type": "code",
   "execution_count": 53,
   "id": "02dfd8d6-2741-4b86-a686-3f51585cf937",
   "metadata": {
    "execution": {
     "iopub.execute_input": "2023-09-18T15:25:30.761504Z",
     "iopub.status.busy": "2023-09-18T15:25:30.761419Z",
     "iopub.status.idle": "2023-09-18T15:25:30.762885Z",
     "shell.execute_reply": "2023-09-18T15:25:30.762761Z"
    },
    "papermill": {
     "duration": 0.004615,
     "end_time": "2023-09-18T15:25:30.763439",
     "exception": false,
     "start_time": "2023-09-18T15:25:30.758824",
     "status": "completed"
    },
    "tags": []
   },
   "outputs": [
    {
     "data": {
      "text/plain": [
       "(15954, 10)"
      ]
     },
     "execution_count": 53,
     "metadata": {},
     "output_type": "execute_result"
    }
   ],
   "source": [
    "pvalues_nodup.shape"
   ]
  },
  {
   "cell_type": "code",
   "execution_count": 54,
   "id": "4ebc2d51-2d46-44a0-86ea-13aa37661f8b",
   "metadata": {
    "execution": {
     "iopub.execute_input": "2023-09-18T15:25:30.768529Z",
     "iopub.status.busy": "2023-09-18T15:25:30.768478Z",
     "iopub.status.idle": "2023-09-18T15:25:30.773033Z",
     "shell.execute_reply": "2023-09-18T15:25:30.772904Z"
    },
    "papermill": {
     "duration": 0.007645,
     "end_time": "2023-09-18T15:25:30.773474",
     "exception": false,
     "start_time": "2023-09-18T15:25:30.765829",
     "status": "completed"
    },
    "tags": []
   },
   "outputs": [
    {
     "data": {
      "text/html": [
       "<div>\n",
       "<style scoped>\n",
       "    .dataframe tbody tr th:only-of-type {\n",
       "        vertical-align: middle;\n",
       "    }\n",
       "\n",
       "    .dataframe tbody tr th {\n",
       "        vertical-align: top;\n",
       "    }\n",
       "\n",
       "    .dataframe thead th {\n",
       "        text-align: right;\n",
       "    }\n",
       "</style>\n",
       "<table border=\"1\" class=\"dataframe\">\n",
       "  <thead>\n",
       "    <tr style=\"text-align: right;\">\n",
       "      <th></th>\n",
       "      <th></th>\n",
       "      <th>group</th>\n",
       "      <th>ccc</th>\n",
       "      <th>ccc_fdr</th>\n",
       "      <th>ccc_pvalue</th>\n",
       "      <th>pearson</th>\n",
       "      <th>pearson_fdr</th>\n",
       "      <th>pearson_pvalue</th>\n",
       "      <th>spearman</th>\n",
       "      <th>spearman_fdr</th>\n",
       "      <th>spearman_pvalue</th>\n",
       "    </tr>\n",
       "    <tr>\n",
       "      <th>gene0</th>\n",
       "      <th>gene1</th>\n",
       "      <th></th>\n",
       "      <th></th>\n",
       "      <th></th>\n",
       "      <th></th>\n",
       "      <th></th>\n",
       "      <th></th>\n",
       "      <th></th>\n",
       "      <th></th>\n",
       "      <th></th>\n",
       "      <th></th>\n",
       "    </tr>\n",
       "  </thead>\n",
       "  <tbody>\n",
       "    <tr>\n",
       "      <th>ENSG00000255555.1</th>\n",
       "      <th>ENSG00000230840.1</th>\n",
       "      <td>all_high-top_ccc</td>\n",
       "      <td>1.0</td>\n",
       "      <td>0.004304</td>\n",
       "      <td>0.001998</td>\n",
       "      <td>1.0</td>\n",
       "      <td>0.0</td>\n",
       "      <td>0.0</td>\n",
       "      <td>1.0</td>\n",
       "      <td>0.0</td>\n",
       "      <td>0.0</td>\n",
       "    </tr>\n",
       "    <tr>\n",
       "      <th>ENSG00000255945.1</th>\n",
       "      <th>ENSG00000257296.1</th>\n",
       "      <td>all_high-top_ccc</td>\n",
       "      <td>1.0</td>\n",
       "      <td>0.008145</td>\n",
       "      <td>0.003996</td>\n",
       "      <td>1.0</td>\n",
       "      <td>0.0</td>\n",
       "      <td>0.0</td>\n",
       "      <td>1.0</td>\n",
       "      <td>0.0</td>\n",
       "      <td>0.0</td>\n",
       "    </tr>\n",
       "    <tr>\n",
       "      <th>ENSG00000284356.1</th>\n",
       "      <th>ENSG00000248928.1</th>\n",
       "      <td>all_high-top_ccc</td>\n",
       "      <td>1.0</td>\n",
       "      <td>0.008145</td>\n",
       "      <td>0.003996</td>\n",
       "      <td>1.0</td>\n",
       "      <td>0.0</td>\n",
       "      <td>0.0</td>\n",
       "      <td>1.0</td>\n",
       "      <td>0.0</td>\n",
       "      <td>0.0</td>\n",
       "    </tr>\n",
       "    <tr>\n",
       "      <th>ENSG00000256281.1</th>\n",
       "      <th>ENSG00000267687.1</th>\n",
       "      <td>all_high-top_ccc</td>\n",
       "      <td>1.0</td>\n",
       "      <td>0.002280</td>\n",
       "      <td>0.000999</td>\n",
       "      <td>1.0</td>\n",
       "      <td>0.0</td>\n",
       "      <td>0.0</td>\n",
       "      <td>1.0</td>\n",
       "      <td>0.0</td>\n",
       "      <td>0.0</td>\n",
       "    </tr>\n",
       "    <tr>\n",
       "      <th>ENSG00000255945.1</th>\n",
       "      <th>ENSG00000232604.1</th>\n",
       "      <td>all_high-top_ccc</td>\n",
       "      <td>1.0</td>\n",
       "      <td>0.006217</td>\n",
       "      <td>0.002997</td>\n",
       "      <td>1.0</td>\n",
       "      <td>0.0</td>\n",
       "      <td>0.0</td>\n",
       "      <td>1.0</td>\n",
       "      <td>0.0</td>\n",
       "      <td>0.0</td>\n",
       "    </tr>\n",
       "  </tbody>\n",
       "</table>\n",
       "</div>"
      ],
      "text/plain": [
       "                                                group  ccc   ccc_fdr  \\\n",
       "gene0             gene1                                                \n",
       "ENSG00000255555.1 ENSG00000230840.1  all_high-top_ccc  1.0  0.004304   \n",
       "ENSG00000255945.1 ENSG00000257296.1  all_high-top_ccc  1.0  0.008145   \n",
       "ENSG00000284356.1 ENSG00000248928.1  all_high-top_ccc  1.0  0.008145   \n",
       "ENSG00000256281.1 ENSG00000267687.1  all_high-top_ccc  1.0  0.002280   \n",
       "ENSG00000255945.1 ENSG00000232604.1  all_high-top_ccc  1.0  0.006217   \n",
       "\n",
       "                                     ccc_pvalue  pearson  pearson_fdr  \\\n",
       "gene0             gene1                                                 \n",
       "ENSG00000255555.1 ENSG00000230840.1    0.001998      1.0          0.0   \n",
       "ENSG00000255945.1 ENSG00000257296.1    0.003996      1.0          0.0   \n",
       "ENSG00000284356.1 ENSG00000248928.1    0.003996      1.0          0.0   \n",
       "ENSG00000256281.1 ENSG00000267687.1    0.000999      1.0          0.0   \n",
       "ENSG00000255945.1 ENSG00000232604.1    0.002997      1.0          0.0   \n",
       "\n",
       "                                     pearson_pvalue  spearman  spearman_fdr  \\\n",
       "gene0             gene1                                                       \n",
       "ENSG00000255555.1 ENSG00000230840.1             0.0       1.0           0.0   \n",
       "ENSG00000255945.1 ENSG00000257296.1             0.0       1.0           0.0   \n",
       "ENSG00000284356.1 ENSG00000248928.1             0.0       1.0           0.0   \n",
       "ENSG00000256281.1 ENSG00000267687.1             0.0       1.0           0.0   \n",
       "ENSG00000255945.1 ENSG00000232604.1             0.0       1.0           0.0   \n",
       "\n",
       "                                     spearman_pvalue  \n",
       "gene0             gene1                               \n",
       "ENSG00000255555.1 ENSG00000230840.1              0.0  \n",
       "ENSG00000255945.1 ENSG00000257296.1              0.0  \n",
       "ENSG00000284356.1 ENSG00000248928.1              0.0  \n",
       "ENSG00000256281.1 ENSG00000267687.1              0.0  \n",
       "ENSG00000255945.1 ENSG00000232604.1              0.0  "
      ]
     },
     "execution_count": 54,
     "metadata": {},
     "output_type": "execute_result"
    }
   ],
   "source": [
    "pvalues_nodup.head()"
   ]
  },
  {
   "cell_type": "markdown",
   "id": "680f7c69-1bc3-4757-bf23-f4be320bc2cf",
   "metadata": {
    "papermill": {
     "duration": 0.00243,
     "end_time": "2023-09-18T15:25:30.778503",
     "exception": false,
     "start_time": "2023-09-18T15:25:30.776073",
     "status": "completed"
    },
    "tags": []
   },
   "source": [
    "# Reassign adjusted pvalues to original file"
   ]
  },
  {
   "cell_type": "code",
   "execution_count": 55,
   "id": "afa6f302-244e-4b76-9e2e-40abe0d7557f",
   "metadata": {
    "execution": {
     "iopub.execute_input": "2023-09-18T15:25:30.783898Z",
     "iopub.status.busy": "2023-09-18T15:25:30.783799Z",
     "iopub.status.idle": "2023-09-18T15:25:30.785325Z",
     "shell.execute_reply": "2023-09-18T15:25:30.785197Z"
    },
    "papermill": {
     "duration": 0.004699,
     "end_time": "2023-09-18T15:25:30.785763",
     "exception": false,
     "start_time": "2023-09-18T15:25:30.781064",
     "status": "completed"
    },
    "tags": []
   },
   "outputs": [
    {
     "data": {
      "text/plain": [
       "(17008, 7)"
      ]
     },
     "execution_count": 55,
     "metadata": {},
     "output_type": "execute_result"
    }
   ],
   "source": [
    "pvalues.shape"
   ]
  },
  {
   "cell_type": "code",
   "execution_count": 56,
   "id": "dde8801a-4c00-4920-86e1-236925723b70",
   "metadata": {
    "execution": {
     "iopub.execute_input": "2023-09-18T15:25:30.791123Z",
     "iopub.status.busy": "2023-09-18T15:25:30.791028Z",
     "iopub.status.idle": "2023-09-18T15:25:30.814310Z",
     "shell.execute_reply": "2023-09-18T15:25:30.814130Z"
    },
    "papermill": {
     "duration": 0.026736,
     "end_time": "2023-09-18T15:25:30.815022",
     "exception": false,
     "start_time": "2023-09-18T15:25:30.788286",
     "status": "completed"
    },
    "tags": []
   },
   "outputs": [],
   "source": [
    "pvalues = pvalues.assign(\n",
    "    **{\n",
    "        (col := f\"{coef}_fdr\"): pvalues_nodup[col]\n",
    "        for coef in (\"ccc\", \"pearson\", \"spearman\")\n",
    "    }\n",
    ")\n",
    "pvalues = pvalues[pvalues_nodup.columns]"
   ]
  },
  {
   "cell_type": "code",
   "execution_count": 57,
   "id": "d1d58b6c-7d41-4e86-b523-a93a8fe9fbcf",
   "metadata": {
    "execution": {
     "iopub.execute_input": "2023-09-18T15:25:30.820944Z",
     "iopub.status.busy": "2023-09-18T15:25:30.820828Z",
     "iopub.status.idle": "2023-09-18T15:25:30.822417Z",
     "shell.execute_reply": "2023-09-18T15:25:30.822291Z"
    },
    "papermill": {
     "duration": 0.005109,
     "end_time": "2023-09-18T15:25:30.822895",
     "exception": false,
     "start_time": "2023-09-18T15:25:30.817786",
     "status": "completed"
    },
    "tags": []
   },
   "outputs": [
    {
     "data": {
      "text/plain": [
       "(17008, 10)"
      ]
     },
     "execution_count": 57,
     "metadata": {},
     "output_type": "execute_result"
    }
   ],
   "source": [
    "pvalues.shape"
   ]
  },
  {
   "cell_type": "code",
   "execution_count": 58,
   "id": "8cb23d05-04ad-4909-9bbc-dc2d14c76203",
   "metadata": {
    "execution": {
     "iopub.execute_input": "2023-09-18T15:25:30.828523Z",
     "iopub.status.busy": "2023-09-18T15:25:30.828416Z",
     "iopub.status.idle": "2023-09-18T15:25:30.833165Z",
     "shell.execute_reply": "2023-09-18T15:25:30.833038Z"
    },
    "papermill": {
     "duration": 0.008156,
     "end_time": "2023-09-18T15:25:30.833656",
     "exception": false,
     "start_time": "2023-09-18T15:25:30.825500",
     "status": "completed"
    },
    "tags": []
   },
   "outputs": [
    {
     "data": {
      "text/html": [
       "<div>\n",
       "<style scoped>\n",
       "    .dataframe tbody tr th:only-of-type {\n",
       "        vertical-align: middle;\n",
       "    }\n",
       "\n",
       "    .dataframe tbody tr th {\n",
       "        vertical-align: top;\n",
       "    }\n",
       "\n",
       "    .dataframe thead th {\n",
       "        text-align: right;\n",
       "    }\n",
       "</style>\n",
       "<table border=\"1\" class=\"dataframe\">\n",
       "  <thead>\n",
       "    <tr style=\"text-align: right;\">\n",
       "      <th></th>\n",
       "      <th></th>\n",
       "      <th>group</th>\n",
       "      <th>ccc</th>\n",
       "      <th>ccc_fdr</th>\n",
       "      <th>ccc_pvalue</th>\n",
       "      <th>pearson</th>\n",
       "      <th>pearson_fdr</th>\n",
       "      <th>pearson_pvalue</th>\n",
       "      <th>spearman</th>\n",
       "      <th>spearman_fdr</th>\n",
       "      <th>spearman_pvalue</th>\n",
       "    </tr>\n",
       "    <tr>\n",
       "      <th>gene0</th>\n",
       "      <th>gene1</th>\n",
       "      <th></th>\n",
       "      <th></th>\n",
       "      <th></th>\n",
       "      <th></th>\n",
       "      <th></th>\n",
       "      <th></th>\n",
       "      <th></th>\n",
       "      <th></th>\n",
       "      <th></th>\n",
       "      <th></th>\n",
       "    </tr>\n",
       "  </thead>\n",
       "  <tbody>\n",
       "    <tr>\n",
       "      <th>ENSG00000255555.1</th>\n",
       "      <th>ENSG00000230840.1</th>\n",
       "      <td>all_high-top_ccc</td>\n",
       "      <td>1.0</td>\n",
       "      <td>0.004304</td>\n",
       "      <td>0.001998</td>\n",
       "      <td>1.0</td>\n",
       "      <td>0.0</td>\n",
       "      <td>0.0</td>\n",
       "      <td>1.0</td>\n",
       "      <td>0.0</td>\n",
       "      <td>0.0</td>\n",
       "    </tr>\n",
       "    <tr>\n",
       "      <th>ENSG00000255945.1</th>\n",
       "      <th>ENSG00000257296.1</th>\n",
       "      <td>all_high-top_ccc</td>\n",
       "      <td>1.0</td>\n",
       "      <td>0.008145</td>\n",
       "      <td>0.003996</td>\n",
       "      <td>1.0</td>\n",
       "      <td>0.0</td>\n",
       "      <td>0.0</td>\n",
       "      <td>1.0</td>\n",
       "      <td>0.0</td>\n",
       "      <td>0.0</td>\n",
       "    </tr>\n",
       "    <tr>\n",
       "      <th>ENSG00000284356.1</th>\n",
       "      <th>ENSG00000248928.1</th>\n",
       "      <td>all_high-top_ccc</td>\n",
       "      <td>1.0</td>\n",
       "      <td>0.008145</td>\n",
       "      <td>0.003996</td>\n",
       "      <td>1.0</td>\n",
       "      <td>0.0</td>\n",
       "      <td>0.0</td>\n",
       "      <td>1.0</td>\n",
       "      <td>0.0</td>\n",
       "      <td>0.0</td>\n",
       "    </tr>\n",
       "    <tr>\n",
       "      <th>ENSG00000256281.1</th>\n",
       "      <th>ENSG00000267687.1</th>\n",
       "      <td>all_high-top_ccc</td>\n",
       "      <td>1.0</td>\n",
       "      <td>0.002280</td>\n",
       "      <td>0.000999</td>\n",
       "      <td>1.0</td>\n",
       "      <td>0.0</td>\n",
       "      <td>0.0</td>\n",
       "      <td>1.0</td>\n",
       "      <td>0.0</td>\n",
       "      <td>0.0</td>\n",
       "    </tr>\n",
       "    <tr>\n",
       "      <th>ENSG00000255945.1</th>\n",
       "      <th>ENSG00000232604.1</th>\n",
       "      <td>all_high-top_ccc</td>\n",
       "      <td>1.0</td>\n",
       "      <td>0.006217</td>\n",
       "      <td>0.002997</td>\n",
       "      <td>1.0</td>\n",
       "      <td>0.0</td>\n",
       "      <td>0.0</td>\n",
       "      <td>1.0</td>\n",
       "      <td>0.0</td>\n",
       "      <td>0.0</td>\n",
       "    </tr>\n",
       "  </tbody>\n",
       "</table>\n",
       "</div>"
      ],
      "text/plain": [
       "                                                group  ccc   ccc_fdr  \\\n",
       "gene0             gene1                                                \n",
       "ENSG00000255555.1 ENSG00000230840.1  all_high-top_ccc  1.0  0.004304   \n",
       "ENSG00000255945.1 ENSG00000257296.1  all_high-top_ccc  1.0  0.008145   \n",
       "ENSG00000284356.1 ENSG00000248928.1  all_high-top_ccc  1.0  0.008145   \n",
       "ENSG00000256281.1 ENSG00000267687.1  all_high-top_ccc  1.0  0.002280   \n",
       "ENSG00000255945.1 ENSG00000232604.1  all_high-top_ccc  1.0  0.006217   \n",
       "\n",
       "                                     ccc_pvalue  pearson  pearson_fdr  \\\n",
       "gene0             gene1                                                 \n",
       "ENSG00000255555.1 ENSG00000230840.1    0.001998      1.0          0.0   \n",
       "ENSG00000255945.1 ENSG00000257296.1    0.003996      1.0          0.0   \n",
       "ENSG00000284356.1 ENSG00000248928.1    0.003996      1.0          0.0   \n",
       "ENSG00000256281.1 ENSG00000267687.1    0.000999      1.0          0.0   \n",
       "ENSG00000255945.1 ENSG00000232604.1    0.002997      1.0          0.0   \n",
       "\n",
       "                                     pearson_pvalue  spearman  spearman_fdr  \\\n",
       "gene0             gene1                                                       \n",
       "ENSG00000255555.1 ENSG00000230840.1             0.0       1.0           0.0   \n",
       "ENSG00000255945.1 ENSG00000257296.1             0.0       1.0           0.0   \n",
       "ENSG00000284356.1 ENSG00000248928.1             0.0       1.0           0.0   \n",
       "ENSG00000256281.1 ENSG00000267687.1             0.0       1.0           0.0   \n",
       "ENSG00000255945.1 ENSG00000232604.1             0.0       1.0           0.0   \n",
       "\n",
       "                                     spearman_pvalue  \n",
       "gene0             gene1                               \n",
       "ENSG00000255555.1 ENSG00000230840.1              0.0  \n",
       "ENSG00000255945.1 ENSG00000257296.1              0.0  \n",
       "ENSG00000284356.1 ENSG00000248928.1              0.0  \n",
       "ENSG00000256281.1 ENSG00000267687.1              0.0  \n",
       "ENSG00000255945.1 ENSG00000232604.1              0.0  "
      ]
     },
     "execution_count": 58,
     "metadata": {},
     "output_type": "execute_result"
    }
   ],
   "source": [
    "pvalues.head()"
   ]
  },
  {
   "cell_type": "code",
   "execution_count": 59,
   "id": "a425f337-f367-4cd5-8f1c-1ad0df548603",
   "metadata": {
    "execution": {
     "iopub.execute_input": "2023-09-18T15:25:30.839462Z",
     "iopub.status.busy": "2023-09-18T15:25:30.839359Z",
     "iopub.status.idle": "2023-09-18T15:25:30.847042Z",
     "shell.execute_reply": "2023-09-18T15:25:30.846809Z"
    },
    "papermill": {
     "duration": 0.011276,
     "end_time": "2023-09-18T15:25:30.847616",
     "exception": false,
     "start_time": "2023-09-18T15:25:30.836340",
     "status": "completed"
    },
    "tags": []
   },
   "outputs": [
    {
     "data": {
      "text/html": [
       "<div>\n",
       "<style scoped>\n",
       "    .dataframe tbody tr th:only-of-type {\n",
       "        vertical-align: middle;\n",
       "    }\n",
       "\n",
       "    .dataframe tbody tr th {\n",
       "        vertical-align: top;\n",
       "    }\n",
       "\n",
       "    .dataframe thead th {\n",
       "        text-align: right;\n",
       "    }\n",
       "</style>\n",
       "<table border=\"1\" class=\"dataframe\">\n",
       "  <thead>\n",
       "    <tr style=\"text-align: right;\">\n",
       "      <th></th>\n",
       "      <th></th>\n",
       "      <th>group</th>\n",
       "      <th>ccc</th>\n",
       "      <th>ccc_fdr</th>\n",
       "      <th>ccc_pvalue</th>\n",
       "      <th>pearson</th>\n",
       "      <th>pearson_fdr</th>\n",
       "      <th>pearson_pvalue</th>\n",
       "      <th>spearman</th>\n",
       "      <th>spearman_fdr</th>\n",
       "      <th>spearman_pvalue</th>\n",
       "    </tr>\n",
       "    <tr>\n",
       "      <th>gene0</th>\n",
       "      <th>gene1</th>\n",
       "      <th></th>\n",
       "      <th></th>\n",
       "      <th></th>\n",
       "      <th></th>\n",
       "      <th></th>\n",
       "      <th></th>\n",
       "      <th></th>\n",
       "      <th></th>\n",
       "      <th></th>\n",
       "      <th></th>\n",
       "    </tr>\n",
       "  </thead>\n",
       "  <tbody>\n",
       "    <tr>\n",
       "      <th rowspan=\"2\" valign=\"top\">ENSG00000001167.14</th>\n",
       "      <th>ENSG00000123700.4</th>\n",
       "      <td>ccc_high_and_spearman_low-top_ccc</td>\n",
       "      <td>0.100209</td>\n",
       "      <td>0.002280</td>\n",
       "      <td>0.000999</td>\n",
       "      <td>-0.032490</td>\n",
       "      <td>7.595262e-01</td>\n",
       "      <td>3.726696e-01</td>\n",
       "      <td>-0.023504</td>\n",
       "      <td>0.866054</td>\n",
       "      <td>0.519030</td>\n",
       "    </tr>\n",
       "    <tr>\n",
       "      <th>ENSG00000123700.4</th>\n",
       "      <td>ccc_high_and_spearman_low-top_spearman</td>\n",
       "      <td>0.100209</td>\n",
       "      <td>0.002280</td>\n",
       "      <td>0.000999</td>\n",
       "      <td>-0.032490</td>\n",
       "      <td>7.595262e-01</td>\n",
       "      <td>3.726696e-01</td>\n",
       "      <td>-0.023504</td>\n",
       "      <td>0.866054</td>\n",
       "      <td>0.519030</td>\n",
       "    </tr>\n",
       "    <tr>\n",
       "      <th rowspan=\"2\" valign=\"top\">ENSG00000005007.12</th>\n",
       "      <th>ENSG00000231721.6</th>\n",
       "      <td>ccc_high_and_spearman_pearson_low-top_ccc</td>\n",
       "      <td>0.083668</td>\n",
       "      <td>0.002280</td>\n",
       "      <td>0.000999</td>\n",
       "      <td>0.003094</td>\n",
       "      <td>9.939301e-01</td>\n",
       "      <td>9.323651e-01</td>\n",
       "      <td>-0.023397</td>\n",
       "      <td>0.866054</td>\n",
       "      <td>0.520925</td>\n",
       "    </tr>\n",
       "    <tr>\n",
       "      <th>ENSG00000231721.6</th>\n",
       "      <td>ccc_high_and_spearman_pearson_low-top_spearman</td>\n",
       "      <td>0.083668</td>\n",
       "      <td>0.002280</td>\n",
       "      <td>0.000999</td>\n",
       "      <td>0.003094</td>\n",
       "      <td>9.939301e-01</td>\n",
       "      <td>9.323651e-01</td>\n",
       "      <td>-0.023397</td>\n",
       "      <td>0.866054</td>\n",
       "      <td>0.520925</td>\n",
       "    </tr>\n",
       "    <tr>\n",
       "      <th>ENSG00000007171.16</th>\n",
       "      <th>ENSG00000269621.1</th>\n",
       "      <td>pearson_high_and_ccc_low-top_ccc</td>\n",
       "      <td>0.000138</td>\n",
       "      <td>1.000000</td>\n",
       "      <td>0.757243</td>\n",
       "      <td>0.908452</td>\n",
       "      <td>1.514364e-286</td>\n",
       "      <td>1.745591e-287</td>\n",
       "      <td>-0.036033</td>\n",
       "      <td>0.726205</td>\n",
       "      <td>0.322773</td>\n",
       "    </tr>\n",
       "    <tr>\n",
       "      <th>...</th>\n",
       "      <th>...</th>\n",
       "      <td>...</td>\n",
       "      <td>...</td>\n",
       "      <td>...</td>\n",
       "      <td>...</td>\n",
       "      <td>...</td>\n",
       "      <td>...</td>\n",
       "      <td>...</td>\n",
       "      <td>...</td>\n",
       "      <td>...</td>\n",
       "      <td>...</td>\n",
       "    </tr>\n",
       "    <tr>\n",
       "      <th>ENSG00000283680.1</th>\n",
       "      <th>ENSG00000278497.1</th>\n",
       "      <td>all_high-top_pearson</td>\n",
       "      <td>1.000000</td>\n",
       "      <td>0.002280</td>\n",
       "      <td>0.000999</td>\n",
       "      <td>1.000000</td>\n",
       "      <td>0.000000e+00</td>\n",
       "      <td>0.000000e+00</td>\n",
       "      <td>1.000000</td>\n",
       "      <td>0.000000</td>\n",
       "      <td>0.000000</td>\n",
       "    </tr>\n",
       "    <tr>\n",
       "      <th rowspan=\"4\" valign=\"top\">ENSG00000284508.1</th>\n",
       "      <th>ENSG00000221325.1</th>\n",
       "      <td>all_high-top_pearson</td>\n",
       "      <td>1.000000</td>\n",
       "      <td>0.006217</td>\n",
       "      <td>0.002997</td>\n",
       "      <td>1.000000</td>\n",
       "      <td>0.000000e+00</td>\n",
       "      <td>0.000000e+00</td>\n",
       "      <td>1.000000</td>\n",
       "      <td>0.000000</td>\n",
       "      <td>0.000000</td>\n",
       "    </tr>\n",
       "    <tr>\n",
       "      <th>ENSG00000221325.1</th>\n",
       "      <td>all_high-top_spearman</td>\n",
       "      <td>1.000000</td>\n",
       "      <td>0.006217</td>\n",
       "      <td>0.002997</td>\n",
       "      <td>1.000000</td>\n",
       "      <td>0.000000e+00</td>\n",
       "      <td>0.000000e+00</td>\n",
       "      <td>1.000000</td>\n",
       "      <td>0.000000</td>\n",
       "      <td>0.000000</td>\n",
       "    </tr>\n",
       "    <tr>\n",
       "      <th>ENSG00000271315.1</th>\n",
       "      <td>all_high-top_pearson</td>\n",
       "      <td>1.000000</td>\n",
       "      <td>0.004304</td>\n",
       "      <td>0.001998</td>\n",
       "      <td>1.000000</td>\n",
       "      <td>0.000000e+00</td>\n",
       "      <td>0.000000e+00</td>\n",
       "      <td>1.000000</td>\n",
       "      <td>0.000000</td>\n",
       "      <td>0.000000</td>\n",
       "    </tr>\n",
       "    <tr>\n",
       "      <th>ENSG00000271315.1</th>\n",
       "      <td>all_high-top_spearman</td>\n",
       "      <td>1.000000</td>\n",
       "      <td>0.004304</td>\n",
       "      <td>0.002997</td>\n",
       "      <td>1.000000</td>\n",
       "      <td>0.000000e+00</td>\n",
       "      <td>0.000000e+00</td>\n",
       "      <td>1.000000</td>\n",
       "      <td>0.000000</td>\n",
       "      <td>0.000000</td>\n",
       "    </tr>\n",
       "  </tbody>\n",
       "</table>\n",
       "<p>1927 rows × 10 columns</p>\n",
       "</div>"
      ],
      "text/plain": [
       "                                                                               group  \\\n",
       "gene0              gene1                                                               \n",
       "ENSG00000001167.14 ENSG00000123700.4               ccc_high_and_spearman_low-top_ccc   \n",
       "                   ENSG00000123700.4          ccc_high_and_spearman_low-top_spearman   \n",
       "ENSG00000005007.12 ENSG00000231721.6       ccc_high_and_spearman_pearson_low-top_ccc   \n",
       "                   ENSG00000231721.6  ccc_high_and_spearman_pearson_low-top_spearman   \n",
       "ENSG00000007171.16 ENSG00000269621.1                pearson_high_and_ccc_low-top_ccc   \n",
       "...                                                                              ...   \n",
       "ENSG00000283680.1  ENSG00000278497.1                            all_high-top_pearson   \n",
       "ENSG00000284508.1  ENSG00000221325.1                            all_high-top_pearson   \n",
       "                   ENSG00000221325.1                           all_high-top_spearman   \n",
       "                   ENSG00000271315.1                            all_high-top_pearson   \n",
       "                   ENSG00000271315.1                           all_high-top_spearman   \n",
       "\n",
       "                                           ccc   ccc_fdr  ccc_pvalue  \\\n",
       "gene0              gene1                                               \n",
       "ENSG00000001167.14 ENSG00000123700.4  0.100209  0.002280    0.000999   \n",
       "                   ENSG00000123700.4  0.100209  0.002280    0.000999   \n",
       "ENSG00000005007.12 ENSG00000231721.6  0.083668  0.002280    0.000999   \n",
       "                   ENSG00000231721.6  0.083668  0.002280    0.000999   \n",
       "ENSG00000007171.16 ENSG00000269621.1  0.000138  1.000000    0.757243   \n",
       "...                                        ...       ...         ...   \n",
       "ENSG00000283680.1  ENSG00000278497.1  1.000000  0.002280    0.000999   \n",
       "ENSG00000284508.1  ENSG00000221325.1  1.000000  0.006217    0.002997   \n",
       "                   ENSG00000221325.1  1.000000  0.006217    0.002997   \n",
       "                   ENSG00000271315.1  1.000000  0.004304    0.001998   \n",
       "                   ENSG00000271315.1  1.000000  0.004304    0.002997   \n",
       "\n",
       "                                       pearson    pearson_fdr  pearson_pvalue  \\\n",
       "gene0              gene1                                                        \n",
       "ENSG00000001167.14 ENSG00000123700.4 -0.032490   7.595262e-01    3.726696e-01   \n",
       "                   ENSG00000123700.4 -0.032490   7.595262e-01    3.726696e-01   \n",
       "ENSG00000005007.12 ENSG00000231721.6  0.003094   9.939301e-01    9.323651e-01   \n",
       "                   ENSG00000231721.6  0.003094   9.939301e-01    9.323651e-01   \n",
       "ENSG00000007171.16 ENSG00000269621.1  0.908452  1.514364e-286   1.745591e-287   \n",
       "...                                        ...            ...             ...   \n",
       "ENSG00000283680.1  ENSG00000278497.1  1.000000   0.000000e+00    0.000000e+00   \n",
       "ENSG00000284508.1  ENSG00000221325.1  1.000000   0.000000e+00    0.000000e+00   \n",
       "                   ENSG00000221325.1  1.000000   0.000000e+00    0.000000e+00   \n",
       "                   ENSG00000271315.1  1.000000   0.000000e+00    0.000000e+00   \n",
       "                   ENSG00000271315.1  1.000000   0.000000e+00    0.000000e+00   \n",
       "\n",
       "                                      spearman  spearman_fdr  spearman_pvalue  \n",
       "gene0              gene1                                                       \n",
       "ENSG00000001167.14 ENSG00000123700.4 -0.023504      0.866054         0.519030  \n",
       "                   ENSG00000123700.4 -0.023504      0.866054         0.519030  \n",
       "ENSG00000005007.12 ENSG00000231721.6 -0.023397      0.866054         0.520925  \n",
       "                   ENSG00000231721.6 -0.023397      0.866054         0.520925  \n",
       "ENSG00000007171.16 ENSG00000269621.1 -0.036033      0.726205         0.322773  \n",
       "...                                        ...           ...              ...  \n",
       "ENSG00000283680.1  ENSG00000278497.1  1.000000      0.000000         0.000000  \n",
       "ENSG00000284508.1  ENSG00000221325.1  1.000000      0.000000         0.000000  \n",
       "                   ENSG00000221325.1  1.000000      0.000000         0.000000  \n",
       "                   ENSG00000271315.1  1.000000      0.000000         0.000000  \n",
       "                   ENSG00000271315.1  1.000000      0.000000         0.000000  \n",
       "\n",
       "[1927 rows x 10 columns]"
      ]
     },
     "execution_count": 59,
     "metadata": {},
     "output_type": "execute_result"
    }
   ],
   "source": [
    "# Make sure duplicated gene pairs have the same pvalues/values\n",
    "pvalues.loc[pvalues.index.duplicated(keep=False)].sort_index()"
   ]
  },
  {
   "cell_type": "code",
   "execution_count": 60,
   "id": "00461db2-125b-4cb5-b8ee-ac4aa5a0e979",
   "metadata": {
    "execution": {
     "iopub.execute_input": "2023-09-18T15:25:30.853769Z",
     "iopub.status.busy": "2023-09-18T15:25:30.853667Z",
     "iopub.status.idle": "2023-09-18T15:25:30.855733Z",
     "shell.execute_reply": "2023-09-18T15:25:30.855581Z"
    },
    "papermill": {
     "duration": 0.005698,
     "end_time": "2023-09-18T15:25:30.856196",
     "exception": false,
     "start_time": "2023-09-18T15:25:30.850498",
     "status": "completed"
    },
    "tags": []
   },
   "outputs": [],
   "source": [
    "def _assert_same_values(x):\n",
    "    for coef in (\"ccc\", \"pearson\", \"spearman\"):\n",
    "        assert x[f\"{coef}\"].unique().shape[0] == 1\n",
    "        assert x[f\"{coef}_fdr\"].unique().shape[0] == 1\n",
    "\n",
    "        # for CCC, the pvalue column is computed via permutations, so we don't expect to be all the same\n",
    "        if coef == \"ccc\":\n",
    "            assert x[f\"{coef}_pvalue\"].unique().shape[0] >= 1, x\n",
    "        else:\n",
    "            assert x[f\"{coef}_pvalue\"].unique().shape[0] == 1, x"
   ]
  },
  {
   "cell_type": "code",
   "execution_count": 61,
   "id": "5ead466d-b1a0-4e5c-b69b-daa4a0dfceb5",
   "metadata": {
    "execution": {
     "iopub.execute_input": "2023-09-18T15:25:30.862226Z",
     "iopub.status.busy": "2023-09-18T15:25:30.862112Z",
     "iopub.status.idle": "2023-09-18T15:25:31.177749Z",
     "shell.execute_reply": "2023-09-18T15:25:31.177490Z"
    },
    "papermill": {
     "duration": 0.319364,
     "end_time": "2023-09-18T15:25:31.178423",
     "exception": false,
     "start_time": "2023-09-18T15:25:30.859059",
     "status": "completed"
    },
    "tags": []
   },
   "outputs": [
    {
     "name": "stdout",
     "output_type": "stream",
     "text": [
      "values seem correct\n"
     ]
    }
   ],
   "source": [
    "pvalues.loc[pvalues.index.duplicated(keep=False)].groupby([\"gene0\", \"gene1\"]).apply(\n",
    "    _assert_same_values\n",
    ")\n",
    "print(\"values seem correct\")"
   ]
  },
  {
   "cell_type": "markdown",
   "id": "8103e9f8-dd0b-452b-bf42-0cd40c0c84d5",
   "metadata": {
    "papermill": {
     "duration": 0.003709,
     "end_time": "2023-09-18T15:25:31.185077",
     "exception": false,
     "start_time": "2023-09-18T15:25:31.181368",
     "status": "completed"
    },
    "tags": []
   },
   "source": [
    "# Save"
   ]
  },
  {
   "cell_type": "code",
   "execution_count": 62,
   "id": "5552de4c-3c44-4d14-85c2-035c2f59663f",
   "metadata": {
    "execution": {
     "iopub.execute_input": "2023-09-18T15:25:31.191565Z",
     "iopub.status.busy": "2023-09-18T15:25:31.191460Z",
     "iopub.status.idle": "2023-09-18T15:25:31.193554Z",
     "shell.execute_reply": "2023-09-18T15:25:31.193398Z"
    },
    "papermill": {
     "duration": 0.005916,
     "end_time": "2023-09-18T15:25:31.194073",
     "exception": false,
     "start_time": "2023-09-18T15:25:31.188157",
     "status": "completed"
    },
    "tags": []
   },
   "outputs": [
    {
     "data": {
      "text/plain": [
       "PosixPath('/mnt/data/projs/manuscripts/ccc-gpu/results/pvalues')"
      ]
     },
     "execution_count": 62,
     "metadata": {},
     "output_type": "execute_result"
    }
   ],
   "source": [
    "INPUT_PVALUES_FILE.parent"
   ]
  },
  {
   "cell_type": "code",
   "execution_count": 63,
   "id": "92fbaef0-08ae-4e15-b7f3-6e4b1a8becb3",
   "metadata": {
    "execution": {
     "iopub.execute_input": "2023-09-18T15:25:31.200128Z",
     "iopub.status.busy": "2023-09-18T15:25:31.200001Z",
     "iopub.status.idle": "2023-09-18T15:25:31.201542Z",
     "shell.execute_reply": "2023-09-18T15:25:31.201416Z"
    },
    "papermill": {
     "duration": 0.005089,
     "end_time": "2023-09-18T15:25:31.201978",
     "exception": false,
     "start_time": "2023-09-18T15:25:31.196889",
     "status": "completed"
    },
    "tags": []
   },
   "outputs": [
    {
     "data": {
      "text/plain": [
       "'gene_pair-samples-pvalues'"
      ]
     },
     "execution_count": 63,
     "metadata": {},
     "output_type": "execute_result"
    }
   ],
   "source": [
    "INPUT_PVALUES_FILE.stem"
   ]
  },
  {
   "cell_type": "code",
   "execution_count": 64,
   "id": "d8bb6205-b58b-4653-957a-fac8c335418a",
   "metadata": {
    "execution": {
     "iopub.execute_input": "2023-09-18T15:25:31.207963Z",
     "iopub.status.busy": "2023-09-18T15:25:31.207869Z",
     "iopub.status.idle": "2023-09-18T15:25:31.209298Z",
     "shell.execute_reply": "2023-09-18T15:25:31.209172Z"
    },
    "papermill": {
     "duration": 0.004913,
     "end_time": "2023-09-18T15:25:31.209733",
     "exception": false,
     "start_time": "2023-09-18T15:25:31.204820",
     "status": "completed"
    },
    "tags": []
   },
   "outputs": [
    {
     "data": {
      "text/plain": [
       "'.pkl'"
      ]
     },
     "execution_count": 64,
     "metadata": {},
     "output_type": "execute_result"
    }
   ],
   "source": [
    "INPUT_PVALUES_FILE.suffix"
   ]
  },
  {
   "cell_type": "code",
   "execution_count": 65,
   "id": "178a09a8-1a2e-425a-8a52-773f41c72633",
   "metadata": {
    "execution": {
     "iopub.execute_input": "2023-09-18T15:25:31.215872Z",
     "iopub.status.busy": "2023-09-18T15:25:31.215745Z",
     "iopub.status.idle": "2023-09-18T15:25:31.217308Z",
     "shell.execute_reply": "2023-09-18T15:25:31.217185Z"
    },
    "papermill": {
     "duration": 0.005268,
     "end_time": "2023-09-18T15:25:31.217848",
     "exception": false,
     "start_time": "2023-09-18T15:25:31.212580",
     "status": "completed"
    },
    "tags": []
   },
   "outputs": [
    {
     "data": {
      "text/plain": [
       "PosixPath('/mnt/data/projs/manuscripts/ccc-gpu/results/pvalues/gene_pair-samples-pvalues-fdr.pkl')"
      ]
     },
     "metadata": {},
     "output_type": "display_data"
    }
   ],
   "source": [
    "output_file = (\n",
    "    INPUT_PVALUES_FILE.parent\n",
    "    / f\"{INPUT_PVALUES_FILE.stem}-fdr{INPUT_PVALUES_FILE.suffix}\"\n",
    ")\n",
    "display(output_file)"
   ]
  },
  {
   "cell_type": "code",
   "execution_count": 66,
   "id": "5d32c0e3-502c-46af-964c-58afbac4c403",
   "metadata": {
    "execution": {
     "iopub.execute_input": "2023-09-18T15:25:31.223955Z",
     "iopub.status.busy": "2023-09-18T15:25:31.223866Z",
     "iopub.status.idle": "2023-09-18T15:25:31.226051Z",
     "shell.execute_reply": "2023-09-18T15:25:31.225904Z"
    },
    "papermill": {
     "duration": 0.00581,
     "end_time": "2023-09-18T15:25:31.226557",
     "exception": false,
     "start_time": "2023-09-18T15:25:31.220747",
     "status": "completed"
    },
    "tags": []
   },
   "outputs": [],
   "source": [
    "pvalues.to_pickle(output_file)"
   ]
  },
  {
   "cell_type": "code",
   "execution_count": null,
   "id": "46cff789-6c90-42c5-9328-21ee7bd70851",
   "metadata": {
    "papermill": {
     "duration": 0.002836,
     "end_time": "2023-09-18T15:25:31.232301",
     "exception": false,
     "start_time": "2023-09-18T15:25:31.229465",
     "status": "completed"
    },
    "tags": []
   },
   "outputs": [],
   "source": []
  }
 ],
 "metadata": {
  "jupytext": {
   "cell_metadata_filter": "all,-execution,-papermill,-trusted",
   "notebook_metadata_filter": "-jupytext.text_representation.jupytext_version",
   "text_representation": {
    "extension": ".py",
    "format_name": "percent",
    "format_version": "1.3"
   }
  },
  "kernelspec": {
   "display_name": "Python 3 (ipykernel)",
   "language": "python",
   "name": "python3"
  },
  "language_info": {
   "codemirror_mode": {
    "name": "ipython",
    "version": 3
   },
   "file_extension": ".py",
   "mimetype": "text/x-python",
   "name": "python",
   "nbconvert_exporter": "python",
   "pygments_lexer": "ipython3",
   "version": "3.10.16"
  },
  "papermill": {
   "default_parameters": {},
   "duration": 1.598928,
   "end_time": "2023-09-18T15:25:31.348981",
   "environment_variables": {},
   "exception": null,
   "input_path": "nbs/25_pvalue/17-adjust_pvalues_fdr.ipynb",
   "output_path": "nbs/25_pvalue/17-adjust_pvalues_fdr.run.ipynb",
   "parameters": {},
   "start_time": "2023-09-18T15:25:29.750053",
   "version": "2.3.4"
  }
 },
 "nbformat": 4,
 "nbformat_minor": 5
}
