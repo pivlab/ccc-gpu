{
 "cells": [
  {
   "cell_type": "markdown",
   "id": "ec52faa3-656f-483e-9617-d7ec0f7d818c",
   "metadata": {
    "papermill": {
     "duration": 0.006806,
     "end_time": "2023-09-14T17:33:15.645231",
     "exception": false,
     "start_time": "2023-09-14T17:33:15.638425",
     "status": "completed"
    },
    "tags": []
   },
   "source": [
    "# Description"
   ]
  },
  {
   "cell_type": "markdown",
   "id": "51102f42-fcd9-4a58-9c8d-dfcd3d2d464e",
   "metadata": {
    "papermill": {
     "duration": 0.004653,
     "end_time": "2023-09-14T17:33:15.659532",
     "exception": false,
     "start_time": "2023-09-14T17:33:15.654879",
     "status": "completed"
    },
    "tags": []
   },
   "source": [
    "It sample gene pairs from the categories in Figure 3b."
   ]
  },
  {
   "cell_type": "markdown",
   "id": "7006ceeb-2651-407d-bfa1-1039727649ef",
   "metadata": {
    "papermill": {
     "duration": 0.002339,
     "end_time": "2023-09-14T17:33:15.665021",
     "exception": false,
     "start_time": "2023-09-14T17:33:15.662682",
     "status": "completed"
    },
    "tags": []
   },
   "source": [
    "# Modules loading"
   ]
  },
  {
   "cell_type": "code",
   "execution_count": 89,
   "id": "1ffa1a96-7545-40b9-ac8b-8627e13de8d4",
   "metadata": {
    "execution": {
     "iopub.execute_input": "2023-09-14T17:33:15.671365Z",
     "iopub.status.busy": "2023-09-14T17:33:15.671213Z",
     "iopub.status.idle": "2023-09-14T17:33:15.964588Z",
     "shell.execute_reply": "2023-09-14T17:33:15.964401Z"
    },
    "papermill": {
     "duration": 0.297687,
     "end_time": "2023-09-14T17:33:15.965326",
     "exception": false,
     "start_time": "2023-09-14T17:33:15.667639",
     "status": "completed"
    },
    "tags": []
   },
   "outputs": [],
   "source": [
    "import numpy as np\n",
    "import matplotlib.pyplot as plt\n",
    "import seaborn as sns\n",
    "from scipy import stats\n",
    "import numpy as np\n",
    "import pandas as pd\n",
    "from pathlib import Path\n",
    "\n",
    "from ccc import conf"
   ]
  },
  {
   "cell_type": "markdown",
   "id": "0d3cc810-4b17-4213-8f03-6fe7e97a0fe3",
   "metadata": {
    "papermill": {
     "duration": 0.009494,
     "end_time": "2023-09-14T17:33:15.977623",
     "exception": false,
     "start_time": "2023-09-14T17:33:15.968129",
     "status": "completed"
    },
    "tags": []
   },
   "source": [
    "# Settings"
   ]
  },
  {
   "cell_type": "code",
   "execution_count": 90,
   "id": "50bf9eba",
   "metadata": {},
   "outputs": [],
   "source": [
    "# Configuration constants\n",
    "TOP_N_GENES = \"all\"\n",
    "DATA_DIR = Path(\"/mnt/data/proj_data/ccc-gpu/gene_expr/data/gtex_v8\")\n",
    "GENE_SELECTION_DIR = DATA_DIR / \"gene_selection\" / TOP_N_GENES\n",
    "SIMILARITY_MATRICES_DIR = DATA_DIR / \"similarity_matrices\" / TOP_N_GENES"
   ]
  },
  {
   "cell_type": "code",
   "execution_count": 91,
   "id": "9a154623-c787-4a31-871a-cad173f0eb9f",
   "metadata": {
    "execution": {
     "iopub.execute_input": "2023-09-14T17:33:15.983775Z",
     "iopub.status.busy": "2023-09-14T17:33:15.983653Z",
     "iopub.status.idle": "2023-09-14T17:33:15.985687Z",
     "shell.execute_reply": "2023-09-14T17:33:15.985528Z"
    },
    "papermill": {
     "duration": 0.005541,
     "end_time": "2023-09-14T17:33:15.986138",
     "exception": false,
     "start_time": "2023-09-14T17:33:15.980597",
     "status": "completed"
    },
    "tags": []
   },
   "outputs": [],
   "source": [
    "GTEX_TISSUE = \"whole_blood\"\n",
    "GENE_SEL_STRATEGY = \"var_pc_log2\"\n",
    "N_MAX_SAMPLES_PER_CATEGORY = 500\n",
    "\n",
    "RANDOM_STATE = np.random.RandomState(0)"
   ]
  },
  {
   "cell_type": "markdown",
   "id": "5b09ff83-5377-49a9-b24b-65c6c90277d6",
   "metadata": {
    "papermill": {
     "duration": 0.002614,
     "end_time": "2023-09-14T17:33:15.991369",
     "exception": false,
     "start_time": "2023-09-14T17:33:15.988755",
     "status": "completed"
    },
    "tags": []
   },
   "source": [
    "# Paths"
   ]
  },
  {
   "cell_type": "code",
   "execution_count": 92,
   "id": "c6f73068-fa38-44be-bd0c-708f6ff450ea",
   "metadata": {
    "execution": {
     "iopub.execute_input": "2023-09-14T17:33:15.996521Z",
     "iopub.status.busy": "2023-09-14T17:33:15.996435Z",
     "iopub.status.idle": "2023-09-14T17:33:15.999074Z",
     "shell.execute_reply": "2023-09-14T17:33:15.998934Z"
    },
    "papermill": {
     "duration": 0.005746,
     "end_time": "2023-09-14T17:33:15.999484",
     "exception": false,
     "start_time": "2023-09-14T17:33:15.993738",
     "status": "completed"
    },
    "tags": []
   },
   "outputs": [
    {
     "data": {
      "text/plain": [
       "PosixPath('/mnt/data/proj_data/ccc-gpu/gene_expr/data/gtex_v8/gene_selection/all/gtex_v8_data_whole_blood-var_pc_log2.pkl')"
      ]
     },
     "metadata": {},
     "output_type": "display_data"
    }
   ],
   "source": [
    "INPUT_GENE_EXPR_FILE = (\n",
    "    GENE_SELECTION_DIR / f\"gtex_v8_data_{GTEX_TISSUE}-{GENE_SEL_STRATEGY}.pkl\"\n",
    ")\n",
    "display(INPUT_GENE_EXPR_FILE)\n",
    "\n",
    "assert INPUT_GENE_EXPR_FILE.exists()"
   ]
  },
  {
   "cell_type": "code",
   "execution_count": 93,
   "id": "30cce6f5-ca1b-438c-859d-31903a42d4c6",
   "metadata": {
    "execution": {
     "iopub.execute_input": "2023-09-14T17:33:16.004617Z",
     "iopub.status.busy": "2023-09-14T17:33:16.004498Z",
     "iopub.status.idle": "2023-09-14T17:33:16.006326Z",
     "shell.execute_reply": "2023-09-14T17:33:16.006188Z"
    },
    "papermill": {
     "duration": 0.00486,
     "end_time": "2023-09-14T17:33:16.006811",
     "exception": false,
     "start_time": "2023-09-14T17:33:16.001951",
     "status": "completed"
    },
    "tags": []
   },
   "outputs": [
    {
     "data": {
      "text/plain": [
       "PosixPath('/mnt/data/projs/manuscripts/ccc-gpu/results/gene_pair_intersections-gtex_v8-whole_blood-var_pc_log2.pkl')"
      ]
     },
     "metadata": {},
     "output_type": "display_data"
    }
   ],
   "source": [
    "INPUT_GENE_PAIRS_INTERSECTIONS_FILE = Path(\n",
    "    \"/mnt/data/projs/manuscripts/ccc-gpu/results/gene_pair_intersections-gtex_v8-whole_blood-var_pc_log2.pkl\"\n",
    ")\n",
    "display(INPUT_GENE_PAIRS_INTERSECTIONS_FILE)\n",
    "\n",
    "assert INPUT_GENE_PAIRS_INTERSECTIONS_FILE.exists()"
   ]
  },
  {
   "cell_type": "code",
   "execution_count": 94,
   "id": "0122253c-99c0-41e2-8807-60df86bf0619",
   "metadata": {
    "execution": {
     "iopub.execute_input": "2023-09-14T17:33:16.014503Z",
     "iopub.status.busy": "2023-09-14T17:33:16.014240Z",
     "iopub.status.idle": "2023-09-14T17:33:16.015958Z",
     "shell.execute_reply": "2023-09-14T17:33:16.015809Z"
    },
    "papermill": {
     "duration": 0.006054,
     "end_time": "2023-09-14T17:33:16.016383",
     "exception": false,
     "start_time": "2023-09-14T17:33:16.010329",
     "status": "completed"
    },
    "tags": []
   },
   "outputs": [],
   "source": [
    "OUTPUT_DIR = Path(\"/mnt/data/projs/manuscripts/ccc-gpu/results/\") / \"pvalues\"\n",
    "OUTPUT_DIR.mkdir(parents=True, exist_ok=True)"
   ]
  },
  {
   "cell_type": "code",
   "execution_count": 95,
   "id": "3003ed2c-5da0-43b9-969d-9cf037d05730",
   "metadata": {
    "execution": {
     "iopub.execute_input": "2023-09-14T17:33:16.021922Z",
     "iopub.status.busy": "2023-09-14T17:33:16.021847Z",
     "iopub.status.idle": "2023-09-14T17:33:16.023562Z",
     "shell.execute_reply": "2023-09-14T17:33:16.023416Z"
    },
    "papermill": {
     "duration": 0.005215,
     "end_time": "2023-09-14T17:33:16.024051",
     "exception": false,
     "start_time": "2023-09-14T17:33:16.018836",
     "status": "completed"
    },
    "tags": []
   },
   "outputs": [
    {
     "data": {
      "text/plain": [
       "PosixPath('/mnt/data/projs/manuscripts/ccc-gpu/results/pvalues')"
      ]
     },
     "execution_count": 95,
     "metadata": {},
     "output_type": "execute_result"
    }
   ],
   "source": [
    "OUTPUT_DIR"
   ]
  },
  {
   "cell_type": "markdown",
   "id": "3d014f0c-d442-48ab-add8-ac338ad15b27",
   "metadata": {
    "papermill": {
     "duration": 0.002412,
     "end_time": "2023-09-14T17:33:16.041805",
     "exception": false,
     "start_time": "2023-09-14T17:33:16.039393",
     "status": "completed"
    },
    "tags": []
   },
   "source": [
    "# Load gene pairs intersection"
   ]
  },
  {
   "cell_type": "code",
   "execution_count": 96,
   "id": "da1d768a-fbfb-40e8-8fbb-790d1a94aa83",
   "metadata": {
    "execution": {
     "iopub.execute_input": "2023-09-14T17:33:16.047268Z",
     "iopub.status.busy": "2023-09-14T17:33:16.047153Z",
     "iopub.status.idle": "2023-09-14T17:33:16.212681Z",
     "shell.execute_reply": "2023-09-14T17:33:16.212403Z"
    },
    "papermill": {
     "duration": 0.169325,
     "end_time": "2023-09-14T17:33:16.213564",
     "exception": false,
     "start_time": "2023-09-14T17:33:16.044239",
     "status": "completed"
    },
    "tags": []
   },
   "outputs": [],
   "source": [
    "df_plot = pd.read_pickle(INPUT_GENE_PAIRS_INTERSECTIONS_FILE)"
   ]
  },
  {
   "cell_type": "code",
   "execution_count": 97,
   "id": "6123d474-0c0d-4771-9678-248ce89424ce",
   "metadata": {
    "execution": {
     "iopub.execute_input": "2023-09-14T17:33:16.226586Z",
     "iopub.status.busy": "2023-09-14T17:33:16.226525Z",
     "iopub.status.idle": "2023-09-14T17:33:16.228442Z",
     "shell.execute_reply": "2023-09-14T17:33:16.228319Z"
    },
    "papermill": {
     "duration": 0.01265,
     "end_time": "2023-09-14T17:33:16.228979",
     "exception": false,
     "start_time": "2023-09-14T17:33:16.216329",
     "status": "completed"
    },
    "tags": []
   },
   "outputs": [
    {
     "data": {
      "text/plain": [
       "(276440000, 9)"
      ]
     },
     "execution_count": 97,
     "metadata": {},
     "output_type": "execute_result"
    }
   ],
   "source": [
    "df_plot.shape"
   ]
  },
  {
   "cell_type": "code",
   "execution_count": 98,
   "id": "b028abd8-c5b1-48c2-aa5e-cb1b49c943a4",
   "metadata": {
    "execution": {
     "iopub.execute_input": "2023-09-14T17:33:16.234308Z",
     "iopub.status.busy": "2023-09-14T17:33:16.234256Z",
     "iopub.status.idle": "2023-09-14T17:33:16.239461Z",
     "shell.execute_reply": "2023-09-14T17:33:16.239332Z"
    },
    "papermill": {
     "duration": 0.008553,
     "end_time": "2023-09-14T17:33:16.239986",
     "exception": false,
     "start_time": "2023-09-14T17:33:16.231433",
     "status": "completed"
    },
    "tags": []
   },
   "outputs": [
    {
     "data": {
      "text/html": [
       "<div>\n",
       "<style scoped>\n",
       "    .dataframe tbody tr th:only-of-type {\n",
       "        vertical-align: middle;\n",
       "    }\n",
       "\n",
       "    .dataframe tbody tr th {\n",
       "        vertical-align: top;\n",
       "    }\n",
       "\n",
       "    .dataframe thead th {\n",
       "        text-align: right;\n",
       "    }\n",
       "</style>\n",
       "<table border=\"1\" class=\"dataframe\">\n",
       "  <thead>\n",
       "    <tr style=\"text-align: right;\">\n",
       "      <th></th>\n",
       "      <th></th>\n",
       "      <th>Pearson (high)</th>\n",
       "      <th>Pearson (low)</th>\n",
       "      <th>Spearman (high)</th>\n",
       "      <th>Spearman (low)</th>\n",
       "      <th>CCC (high)</th>\n",
       "      <th>CCC (low)</th>\n",
       "      <th>ccc</th>\n",
       "      <th>pearson</th>\n",
       "      <th>spearman</th>\n",
       "    </tr>\n",
       "  </thead>\n",
       "  <tbody>\n",
       "    <tr>\n",
       "      <th rowspan=\"5\" valign=\"top\">ENSG00000000419.12</th>\n",
       "      <th>ENSG00000000419.12</th>\n",
       "      <td>False</td>\n",
       "      <td>False</td>\n",
       "      <td>False</td>\n",
       "      <td>False</td>\n",
       "      <td>False</td>\n",
       "      <td>False</td>\n",
       "      <td>NaN</td>\n",
       "      <td>NaN</td>\n",
       "      <td>NaN</td>\n",
       "    </tr>\n",
       "    <tr>\n",
       "      <th>ENSG00000000938.12</th>\n",
       "      <td>False</td>\n",
       "      <td>False</td>\n",
       "      <td>False</td>\n",
       "      <td>False</td>\n",
       "      <td>False</td>\n",
       "      <td>False</td>\n",
       "      <td>NaN</td>\n",
       "      <td>NaN</td>\n",
       "      <td>NaN</td>\n",
       "    </tr>\n",
       "    <tr>\n",
       "      <th>ENSG00000001167.14</th>\n",
       "      <td>False</td>\n",
       "      <td>False</td>\n",
       "      <td>False</td>\n",
       "      <td>False</td>\n",
       "      <td>False</td>\n",
       "      <td>False</td>\n",
       "      <td>NaN</td>\n",
       "      <td>NaN</td>\n",
       "      <td>NaN</td>\n",
       "    </tr>\n",
       "    <tr>\n",
       "      <th>ENSG00000001561.6</th>\n",
       "      <td>False</td>\n",
       "      <td>False</td>\n",
       "      <td>False</td>\n",
       "      <td>False</td>\n",
       "      <td>False</td>\n",
       "      <td>False</td>\n",
       "      <td>NaN</td>\n",
       "      <td>NaN</td>\n",
       "      <td>NaN</td>\n",
       "    </tr>\n",
       "    <tr>\n",
       "      <th>ENSG00000002549.12</th>\n",
       "      <td>False</td>\n",
       "      <td>False</td>\n",
       "      <td>False</td>\n",
       "      <td>False</td>\n",
       "      <td>False</td>\n",
       "      <td>False</td>\n",
       "      <td>NaN</td>\n",
       "      <td>NaN</td>\n",
       "      <td>NaN</td>\n",
       "    </tr>\n",
       "  </tbody>\n",
       "</table>\n",
       "</div>"
      ],
      "text/plain": [
       "                                       Pearson (high)  Pearson (low)  \\\n",
       "ENSG00000000419.12 ENSG00000000419.12           False          False   \n",
       "                   ENSG00000000938.12           False          False   \n",
       "                   ENSG00000001167.14           False          False   \n",
       "                   ENSG00000001561.6            False          False   \n",
       "                   ENSG00000002549.12           False          False   \n",
       "\n",
       "                                       Spearman (high)  Spearman (low)  \\\n",
       "ENSG00000000419.12 ENSG00000000419.12            False           False   \n",
       "                   ENSG00000000938.12            False           False   \n",
       "                   ENSG00000001167.14            False           False   \n",
       "                   ENSG00000001561.6             False           False   \n",
       "                   ENSG00000002549.12            False           False   \n",
       "\n",
       "                                       CCC (high)  CCC (low)  ccc  pearson  \\\n",
       "ENSG00000000419.12 ENSG00000000419.12       False      False  NaN      NaN   \n",
       "                   ENSG00000000938.12       False      False  NaN      NaN   \n",
       "                   ENSG00000001167.14       False      False  NaN      NaN   \n",
       "                   ENSG00000001561.6        False      False  NaN      NaN   \n",
       "                   ENSG00000002549.12       False      False  NaN      NaN   \n",
       "\n",
       "                                       spearman  \n",
       "ENSG00000000419.12 ENSG00000000419.12       NaN  \n",
       "                   ENSG00000000938.12       NaN  \n",
       "                   ENSG00000001167.14       NaN  \n",
       "                   ENSG00000001561.6        NaN  \n",
       "                   ENSG00000002549.12       NaN  "
      ]
     },
     "execution_count": 98,
     "metadata": {},
     "output_type": "execute_result"
    }
   ],
   "source": [
    "df_plot.head()"
   ]
  },
  {
   "cell_type": "code",
   "execution_count": 99,
   "id": "604301e3",
   "metadata": {},
   "outputs": [],
   "source": [
    "df_plot = df_plot.dropna(subset=[\"spearman\"])"
   ]
  },
  {
   "cell_type": "code",
   "execution_count": 100,
   "id": "b3208643",
   "metadata": {},
   "outputs": [
    {
     "data": {
      "text/plain": [
       "(130408456, 9)"
      ]
     },
     "execution_count": 100,
     "metadata": {},
     "output_type": "execute_result"
    }
   ],
   "source": [
    "df_cleaned.shape"
   ]
  },
  {
   "cell_type": "code",
   "execution_count": 101,
   "id": "3aced73f-7ece-4451-a0e7-f74b106fe3d7",
   "metadata": {
    "execution": {
     "iopub.execute_input": "2023-09-14T17:33:16.245590Z",
     "iopub.status.busy": "2023-09-14T17:33:16.245520Z",
     "iopub.status.idle": "2023-09-14T17:33:16.273063Z",
     "shell.execute_reply": "2023-09-14T17:33:16.272914Z"
    },
    "papermill": {
     "duration": 0.031258,
     "end_time": "2023-09-14T17:33:16.273790",
     "exception": false,
     "start_time": "2023-09-14T17:33:16.242532",
     "status": "completed"
    },
    "tags": []
   },
   "outputs": [
    {
     "data": {
      "text/html": [
       "<div>\n",
       "<style scoped>\n",
       "    .dataframe tbody tr th:only-of-type {\n",
       "        vertical-align: middle;\n",
       "    }\n",
       "\n",
       "    .dataframe tbody tr th {\n",
       "        vertical-align: top;\n",
       "    }\n",
       "\n",
       "    .dataframe thead th {\n",
       "        text-align: right;\n",
       "    }\n",
       "</style>\n",
       "<table border=\"1\" class=\"dataframe\">\n",
       "  <thead>\n",
       "    <tr style=\"text-align: right;\">\n",
       "      <th></th>\n",
       "      <th></th>\n",
       "      <th>Pearson (high)</th>\n",
       "      <th>Pearson (low)</th>\n",
       "      <th>Spearman (high)</th>\n",
       "      <th>Spearman (low)</th>\n",
       "      <th>CCC (high)</th>\n",
       "      <th>CCC (low)</th>\n",
       "      <th>ccc</th>\n",
       "      <th>pearson</th>\n",
       "      <th>spearman</th>\n",
       "    </tr>\n",
       "  </thead>\n",
       "  <tbody>\n",
       "    <tr>\n",
       "      <th rowspan=\"2\" valign=\"top\">ENSG00000000938.12</th>\n",
       "      <th>ENSG00000137965.10</th>\n",
       "      <td>False</td>\n",
       "      <td>True</td>\n",
       "      <td>True</td>\n",
       "      <td>False</td>\n",
       "      <td>False</td>\n",
       "      <td>False</td>\n",
       "      <td>0.023258</td>\n",
       "      <td>0.006621</td>\n",
       "      <td>0.216907</td>\n",
       "    </tr>\n",
       "    <tr>\n",
       "      <th>ENSG00000268836.1</th>\n",
       "      <td>False</td>\n",
       "      <td>True</td>\n",
       "      <td>True</td>\n",
       "      <td>False</td>\n",
       "      <td>False</td>\n",
       "      <td>False</td>\n",
       "      <td>0.032612</td>\n",
       "      <td>0.014857</td>\n",
       "      <td>0.213642</td>\n",
       "    </tr>\n",
       "    <tr>\n",
       "      <th rowspan=\"3\" valign=\"top\">ENSG00000001167.14</th>\n",
       "      <th>ENSG00000134339.8</th>\n",
       "      <td>False</td>\n",
       "      <td>True</td>\n",
       "      <td>True</td>\n",
       "      <td>False</td>\n",
       "      <td>False</td>\n",
       "      <td>False</td>\n",
       "      <td>0.027904</td>\n",
       "      <td>0.004786</td>\n",
       "      <td>0.215145</td>\n",
       "    </tr>\n",
       "    <tr>\n",
       "      <th>ENSG00000173432.10</th>\n",
       "      <td>False</td>\n",
       "      <td>True</td>\n",
       "      <td>True</td>\n",
       "      <td>False</td>\n",
       "      <td>False</td>\n",
       "      <td>False</td>\n",
       "      <td>0.026785</td>\n",
       "      <td>0.006571</td>\n",
       "      <td>0.234618</td>\n",
       "    </tr>\n",
       "    <tr>\n",
       "      <th>ENSG00000243063.1</th>\n",
       "      <td>False</td>\n",
       "      <td>True</td>\n",
       "      <td>True</td>\n",
       "      <td>False</td>\n",
       "      <td>False</td>\n",
       "      <td>False</td>\n",
       "      <td>0.036472</td>\n",
       "      <td>0.000864</td>\n",
       "      <td>0.258927</td>\n",
       "    </tr>\n",
       "    <tr>\n",
       "      <th>...</th>\n",
       "      <th>...</th>\n",
       "      <td>...</td>\n",
       "      <td>...</td>\n",
       "      <td>...</td>\n",
       "      <td>...</td>\n",
       "      <td>...</td>\n",
       "      <td>...</td>\n",
       "      <td>...</td>\n",
       "      <td>...</td>\n",
       "      <td>...</td>\n",
       "    </tr>\n",
       "    <tr>\n",
       "      <th>ENSG00000268350.7</th>\n",
       "      <th>ENSG00000157423.17</th>\n",
       "      <td>False</td>\n",
       "      <td>True</td>\n",
       "      <td>True</td>\n",
       "      <td>False</td>\n",
       "      <td>False</td>\n",
       "      <td>False</td>\n",
       "      <td>0.030687</td>\n",
       "      <td>0.014044</td>\n",
       "      <td>0.243887</td>\n",
       "    </tr>\n",
       "    <tr>\n",
       "      <th>ENSG00000268686.1</th>\n",
       "      <th>ENSG00000039139.9</th>\n",
       "      <td>False</td>\n",
       "      <td>True</td>\n",
       "      <td>True</td>\n",
       "      <td>False</td>\n",
       "      <td>False</td>\n",
       "      <td>False</td>\n",
       "      <td>0.027179</td>\n",
       "      <td>0.009811</td>\n",
       "      <td>0.194752</td>\n",
       "    </tr>\n",
       "    <tr>\n",
       "      <th>ENSG00000272259.5</th>\n",
       "      <th>ENSG00000075035.9</th>\n",
       "      <td>False</td>\n",
       "      <td>True</td>\n",
       "      <td>True</td>\n",
       "      <td>False</td>\n",
       "      <td>False</td>\n",
       "      <td>False</td>\n",
       "      <td>0.025143</td>\n",
       "      <td>0.004198</td>\n",
       "      <td>0.221999</td>\n",
       "    </tr>\n",
       "    <tr>\n",
       "      <th rowspan=\"2\" valign=\"top\">ENSG00000279010.3</th>\n",
       "      <th>ENSG00000124092.12</th>\n",
       "      <td>False</td>\n",
       "      <td>True</td>\n",
       "      <td>True</td>\n",
       "      <td>False</td>\n",
       "      <td>False</td>\n",
       "      <td>False</td>\n",
       "      <td>0.019237</td>\n",
       "      <td>0.001117</td>\n",
       "      <td>0.193529</td>\n",
       "    </tr>\n",
       "    <tr>\n",
       "      <th>ENSG00000182329.12</th>\n",
       "      <td>False</td>\n",
       "      <td>True</td>\n",
       "      <td>True</td>\n",
       "      <td>False</td>\n",
       "      <td>False</td>\n",
       "      <td>False</td>\n",
       "      <td>0.028669</td>\n",
       "      <td>0.015704</td>\n",
       "      <td>0.216664</td>\n",
       "    </tr>\n",
       "  </tbody>\n",
       "</table>\n",
       "<p>107920 rows × 9 columns</p>\n",
       "</div>"
      ],
      "text/plain": [
       "                                       Pearson (high)  Pearson (low)  \\\n",
       "ENSG00000000938.12 ENSG00000137965.10           False           True   \n",
       "                   ENSG00000268836.1            False           True   \n",
       "ENSG00000001167.14 ENSG00000134339.8            False           True   \n",
       "                   ENSG00000173432.10           False           True   \n",
       "                   ENSG00000243063.1            False           True   \n",
       "...                                               ...            ...   \n",
       "ENSG00000268350.7  ENSG00000157423.17           False           True   \n",
       "ENSG00000268686.1  ENSG00000039139.9            False           True   \n",
       "ENSG00000272259.5  ENSG00000075035.9            False           True   \n",
       "ENSG00000279010.3  ENSG00000124092.12           False           True   \n",
       "                   ENSG00000182329.12           False           True   \n",
       "\n",
       "                                       Spearman (high)  Spearman (low)  \\\n",
       "ENSG00000000938.12 ENSG00000137965.10             True           False   \n",
       "                   ENSG00000268836.1              True           False   \n",
       "ENSG00000001167.14 ENSG00000134339.8              True           False   \n",
       "                   ENSG00000173432.10             True           False   \n",
       "                   ENSG00000243063.1              True           False   \n",
       "...                                                ...             ...   \n",
       "ENSG00000268350.7  ENSG00000157423.17             True           False   \n",
       "ENSG00000268686.1  ENSG00000039139.9              True           False   \n",
       "ENSG00000272259.5  ENSG00000075035.9              True           False   \n",
       "ENSG00000279010.3  ENSG00000124092.12             True           False   \n",
       "                   ENSG00000182329.12             True           False   \n",
       "\n",
       "                                       CCC (high)  CCC (low)       ccc  \\\n",
       "ENSG00000000938.12 ENSG00000137965.10       False      False  0.023258   \n",
       "                   ENSG00000268836.1        False      False  0.032612   \n",
       "ENSG00000001167.14 ENSG00000134339.8        False      False  0.027904   \n",
       "                   ENSG00000173432.10       False      False  0.026785   \n",
       "                   ENSG00000243063.1        False      False  0.036472   \n",
       "...                                           ...        ...       ...   \n",
       "ENSG00000268350.7  ENSG00000157423.17       False      False  0.030687   \n",
       "ENSG00000268686.1  ENSG00000039139.9        False      False  0.027179   \n",
       "ENSG00000272259.5  ENSG00000075035.9        False      False  0.025143   \n",
       "ENSG00000279010.3  ENSG00000124092.12       False      False  0.019237   \n",
       "                   ENSG00000182329.12       False      False  0.028669   \n",
       "\n",
       "                                        pearson  spearman  \n",
       "ENSG00000000938.12 ENSG00000137965.10  0.006621  0.216907  \n",
       "                   ENSG00000268836.1   0.014857  0.213642  \n",
       "ENSG00000001167.14 ENSG00000134339.8   0.004786  0.215145  \n",
       "                   ENSG00000173432.10  0.006571  0.234618  \n",
       "                   ENSG00000243063.1   0.000864  0.258927  \n",
       "...                                         ...       ...  \n",
       "ENSG00000268350.7  ENSG00000157423.17  0.014044  0.243887  \n",
       "ENSG00000268686.1  ENSG00000039139.9   0.009811  0.194752  \n",
       "ENSG00000272259.5  ENSG00000075035.9   0.004198  0.221999  \n",
       "ENSG00000279010.3  ENSG00000124092.12  0.001117  0.193529  \n",
       "                   ENSG00000182329.12  0.015704  0.216664  \n",
       "\n",
       "[107920 rows x 9 columns]"
      ]
     },
     "execution_count": 101,
     "metadata": {},
     "output_type": "execute_result"
    }
   ],
   "source": [
    "df_plot[\n",
    "    df_plot[\"Spearman (high)\"]\n",
    "    & df_plot[\"Pearson (low)\"]\n",
    "    & (~df_plot[\"CCC (high)\"])\n",
    "    & (~df_plot[\"CCC (low)\"])\n",
    "]"
   ]
  },
  {
   "cell_type": "markdown",
   "id": "6ee33b44-ef8c-405e-9ab4-be1679b75619",
   "metadata": {
    "papermill": {
     "duration": 0.002616,
     "end_time": "2023-09-14T17:33:16.279263",
     "exception": false,
     "start_time": "2023-09-14T17:33:16.276647",
     "status": "completed"
    },
    "tags": []
   },
   "source": [
    "# Select gene pairs from each category in Figure 3b"
   ]
  },
  {
   "cell_type": "code",
   "execution_count": 102,
   "id": "6bac2e17-743d-49b5-9ae5-b168879b2dbc",
   "metadata": {
    "execution": {
     "iopub.execute_input": "2023-09-14T17:33:16.285021Z",
     "iopub.status.busy": "2023-09-14T17:33:16.284915Z",
     "iopub.status.idle": "2023-09-14T17:33:16.286369Z",
     "shell.execute_reply": "2023-09-14T17:33:16.286206Z"
    },
    "papermill": {
     "duration": 0.004897,
     "end_time": "2023-09-14T17:33:16.286869",
     "exception": false,
     "start_time": "2023-09-14T17:33:16.281972",
     "status": "completed"
    },
    "tags": []
   },
   "outputs": [],
   "source": [
    "gene_pair_cats = {}"
   ]
  },
  {
   "cell_type": "code",
   "execution_count": 103,
   "id": "bba6b621-09fa-4abc-90ba-789a2a9491dc",
   "metadata": {
    "execution": {
     "iopub.execute_input": "2023-09-14T17:33:16.292410Z",
     "iopub.status.busy": "2023-09-14T17:33:16.292288Z",
     "iopub.status.idle": "2023-09-14T17:33:16.374908Z",
     "shell.execute_reply": "2023-09-14T17:33:16.374677Z"
    },
    "papermill": {
     "duration": 0.086132,
     "end_time": "2023-09-14T17:33:16.375607",
     "exception": false,
     "start_time": "2023-09-14T17:33:16.289475",
     "status": "completed"
    },
    "tags": []
   },
   "outputs": [
    {
     "data": {
      "text/plain": [
       "(29892823, 9)"
      ]
     },
     "metadata": {},
     "output_type": "display_data"
    }
   ],
   "source": [
    "gene_pair_cats[\"all_high\"] = df_plot[\n",
    "    df_plot[\"CCC (high)\"] & df_plot[\"Spearman (high)\"] & df_plot[\"Pearson (high)\"]\n",
    "]\n",
    "display(gene_pair_cats[\"all_high\"].shape)"
   ]
  },
  {
   "cell_type": "code",
   "execution_count": 104,
   "id": "22290518-845b-4cb5-8294-6275e58941d4",
   "metadata": {
    "execution": {
     "iopub.execute_input": "2023-09-14T17:33:16.381991Z",
     "iopub.status.busy": "2023-09-14T17:33:16.381907Z",
     "iopub.status.idle": "2023-09-14T17:33:16.455698Z",
     "shell.execute_reply": "2023-09-14T17:33:16.455550Z"
    },
    "papermill": {
     "duration": 0.077686,
     "end_time": "2023-09-14T17:33:16.456215",
     "exception": false,
     "start_time": "2023-09-14T17:33:16.378529",
     "status": "completed"
    },
    "tags": []
   },
   "outputs": [
    {
     "data": {
      "text/plain": [
       "(23625260, 9)"
      ]
     },
     "metadata": {},
     "output_type": "display_data"
    }
   ],
   "source": [
    "gene_pair_cats[\"all_low\"] = df_plot[\n",
    "    df_plot[\"CCC (low)\"] & df_plot[\"Spearman (low)\"] & df_plot[\"Pearson (low)\"]\n",
    "]\n",
    "display(gene_pair_cats[\"all_low\"].shape)"
   ]
  },
  {
   "cell_type": "code",
   "execution_count": 105,
   "id": "edf88fd5-11ea-493a-9c94-fe40df8bb475",
   "metadata": {
    "execution": {
     "iopub.execute_input": "2023-09-14T17:33:16.462317Z",
     "iopub.status.busy": "2023-09-14T17:33:16.462228Z",
     "iopub.status.idle": "2023-09-14T17:33:16.476706Z",
     "shell.execute_reply": "2023-09-14T17:33:16.476554Z"
    },
    "papermill": {
     "duration": 0.01825,
     "end_time": "2023-09-14T17:33:16.477401",
     "exception": false,
     "start_time": "2023-09-14T17:33:16.459151",
     "status": "completed"
    },
    "tags": []
   },
   "outputs": [
    {
     "data": {
      "text/plain": [
       "(115638, 9)"
      ]
     },
     "metadata": {},
     "output_type": "display_data"
    }
   ],
   "source": [
    "gene_pair_cats[\"ccc_spearman_high_and_pearson_low\"] = df_plot[\n",
    "    df_plot[\"CCC (high)\"] & df_plot[\"Spearman (high)\"] & df_plot[\"Pearson (low)\"]\n",
    "]\n",
    "display(gene_pair_cats[\"ccc_spearman_high_and_pearson_low\"].shape)"
   ]
  },
  {
   "cell_type": "code",
   "execution_count": 106,
   "id": "42b391d0-2ba4-408c-b944-2ca0fdb67ca9",
   "metadata": {
    "execution": {
     "iopub.execute_input": "2023-09-14T17:33:16.488235Z",
     "iopub.status.busy": "2023-09-14T17:33:16.488145Z",
     "iopub.status.idle": "2023-09-14T17:33:16.509059Z",
     "shell.execute_reply": "2023-09-14T17:33:16.508911Z"
    },
    "papermill": {
     "duration": 0.027085,
     "end_time": "2023-09-14T17:33:16.509838",
     "exception": false,
     "start_time": "2023-09-14T17:33:16.482753",
     "status": "completed"
    },
    "tags": []
   },
   "outputs": [
    {
     "data": {
      "text/plain": [
       "(1062901, 9)"
      ]
     },
     "metadata": {},
     "output_type": "display_data"
    }
   ],
   "source": [
    "gene_pair_cats[\"ccc_high_and_pearson_low\"] = df_plot[\n",
    "    df_plot[\"CCC (high)\"]\n",
    "    & (~df_plot[\"Spearman (high)\"])\n",
    "    & (~df_plot[\"Spearman (low)\"])\n",
    "    & df_plot[\"Pearson (low)\"]\n",
    "]\n",
    "display(gene_pair_cats[\"ccc_high_and_pearson_low\"].shape)"
   ]
  },
  {
   "cell_type": "code",
   "execution_count": 107,
   "id": "433d5ab5-8f07-4c94-8ba4-87e196e29446",
   "metadata": {
    "execution": {
     "iopub.execute_input": "2023-09-14T17:33:16.519861Z",
     "iopub.status.busy": "2023-09-14T17:33:16.519770Z",
     "iopub.status.idle": "2023-09-14T17:33:16.536025Z",
     "shell.execute_reply": "2023-09-14T17:33:16.535877Z"
    },
    "papermill": {
     "duration": 0.021488,
     "end_time": "2023-09-14T17:33:16.536630",
     "exception": false,
     "start_time": "2023-09-14T17:33:16.515142",
     "status": "completed"
    },
    "tags": []
   },
   "outputs": [
    {
     "data": {
      "text/plain": [
       "(38304, 9)"
      ]
     },
     "metadata": {},
     "output_type": "display_data"
    }
   ],
   "source": [
    "gene_pair_cats[\"ccc_high_and_spearman_low\"] = df_plot[\n",
    "    df_plot[\"CCC (high)\"]\n",
    "    & df_plot[\"Spearman (low)\"]\n",
    "    & (~df_plot[\"Pearson (low)\"])\n",
    "    & (~df_plot[\"Pearson (high)\"])\n",
    "]\n",
    "display(gene_pair_cats[\"ccc_high_and_spearman_low\"].shape)"
   ]
  },
  {
   "cell_type": "code",
   "execution_count": 108,
   "id": "dd31ba44-c026-48ef-b7fe-ece7299e5e50",
   "metadata": {
    "execution": {
     "iopub.execute_input": "2023-09-14T17:33:16.543145Z",
     "iopub.status.busy": "2023-09-14T17:33:16.542979Z",
     "iopub.status.idle": "2023-09-14T17:33:16.555909Z",
     "shell.execute_reply": "2023-09-14T17:33:16.555768Z"
    },
    "papermill": {
     "duration": 0.016742,
     "end_time": "2023-09-14T17:33:16.556437",
     "exception": false,
     "start_time": "2023-09-14T17:33:16.539695",
     "status": "completed"
    },
    "tags": []
   },
   "outputs": [
    {
     "data": {
      "text/plain": [
       "(5378, 9)"
      ]
     },
     "metadata": {},
     "output_type": "display_data"
    }
   ],
   "source": [
    "gene_pair_cats[\"ccc_high_and_spearman_pearson_low\"] = df_plot[\n",
    "    df_plot[\"CCC (high)\"] & df_plot[\"Spearman (low)\"] & df_plot[\"Pearson (low)\"]\n",
    "]\n",
    "display(gene_pair_cats[\"ccc_high_and_spearman_pearson_low\"].shape)"
   ]
  },
  {
   "cell_type": "code",
   "execution_count": 109,
   "id": "45166ee1-98a2-44db-bfa4-1a414a081300",
   "metadata": {
    "execution": {
     "iopub.execute_input": "2023-09-14T17:33:16.562704Z",
     "iopub.status.busy": "2023-09-14T17:33:16.562608Z",
     "iopub.status.idle": "2023-09-14T17:33:16.581473Z",
     "shell.execute_reply": "2023-09-14T17:33:16.581303Z"
    },
    "papermill": {
     "duration": 0.022639,
     "end_time": "2023-09-14T17:33:16.582041",
     "exception": false,
     "start_time": "2023-09-14T17:33:16.559402",
     "status": "completed"
    },
    "tags": []
   },
   "outputs": [
    {
     "data": {
      "text/plain": [
       "(33473, 9)"
      ]
     },
     "metadata": {},
     "output_type": "display_data"
    }
   ],
   "source": [
    "gene_pair_cats[\"pearson_high_and_ccc_low\"] = df_plot[\n",
    "    df_plot[\"CCC (low)\"]\n",
    "    & (~df_plot[\"Spearman (low)\"])\n",
    "    & (~df_plot[\"Spearman (high)\"])\n",
    "    & df_plot[\"Pearson (high)\"]\n",
    "]\n",
    "display(gene_pair_cats[\"pearson_high_and_ccc_low\"].shape)"
   ]
  },
  {
   "cell_type": "code",
   "execution_count": 110,
   "id": "d21c075a-d8c8-4e9f-aa2b-c6d2cf22e0ad",
   "metadata": {
    "execution": {
     "iopub.execute_input": "2023-09-14T17:33:16.588912Z",
     "iopub.status.busy": "2023-09-14T17:33:16.588554Z",
     "iopub.status.idle": "2023-09-14T17:33:16.603046Z",
     "shell.execute_reply": "2023-09-14T17:33:16.602893Z"
    },
    "papermill": {
     "duration": 0.018357,
     "end_time": "2023-09-14T17:33:16.603535",
     "exception": false,
     "start_time": "2023-09-14T17:33:16.585178",
     "status": "completed"
    },
    "tags": []
   },
   "outputs": [
    {
     "data": {
      "text/plain": [
       "(75674, 9)"
      ]
     },
     "metadata": {},
     "output_type": "display_data"
    }
   ],
   "source": [
    "gene_pair_cats[\"pearson_high_and_ccc_spearman_low\"] = df_plot[\n",
    "    df_plot[\"CCC (low)\"] & df_plot[\"Spearman (low)\"] & df_plot[\"Pearson (high)\"]\n",
    "]\n",
    "display(gene_pair_cats[\"pearson_high_and_ccc_spearman_low\"].shape)"
   ]
  },
  {
   "cell_type": "code",
   "execution_count": 111,
   "id": "a001c630-1ba1-4001-8abb-643556e07502",
   "metadata": {
    "execution": {
     "iopub.execute_input": "2023-09-14T17:33:16.609799Z",
     "iopub.status.busy": "2023-09-14T17:33:16.609715Z",
     "iopub.status.idle": "2023-09-14T17:33:16.611140Z",
     "shell.execute_reply": "2023-09-14T17:33:16.610998Z"
    },
    "papermill": {
     "duration": 0.005088,
     "end_time": "2023-09-14T17:33:16.611590",
     "exception": false,
     "start_time": "2023-09-14T17:33:16.606502",
     "status": "completed"
    },
    "tags": []
   },
   "outputs": [],
   "source": [
    "assert len(gene_pair_cats) == 8"
   ]
  },
  {
   "cell_type": "markdown",
   "id": "fcde3368-e994-4cae-b905-9b6ebccb58a4",
   "metadata": {
    "papermill": {
     "duration": 0.002769,
     "end_time": "2023-09-14T17:33:16.617399",
     "exception": false,
     "start_time": "2023-09-14T17:33:16.614630",
     "status": "completed"
    },
    "tags": []
   },
   "source": [
    "# Sample gene pairs"
   ]
  },
  {
   "cell_type": "markdown",
   "id": "83884d11-7729-4ade-baf3-f98f956244af",
   "metadata": {
    "papermill": {
     "duration": 0.002777,
     "end_time": "2023-09-14T17:33:16.623026",
     "exception": false,
     "start_time": "2023-09-14T17:33:16.620249",
     "status": "completed"
    },
    "tags": []
   },
   "source": [
    "Here I take all the categories defined above (keys in dictionaries) and I create three subcategories for each, where I take the top genes prioritized by the three coefficients."
   ]
  },
  {
   "cell_type": "code",
   "execution_count": 112,
   "id": "30528d10-262c-485a-8923-aef0a0d44c67",
   "metadata": {
    "execution": {
     "iopub.execute_input": "2023-09-14T17:33:16.629176Z",
     "iopub.status.busy": "2023-09-14T17:33:16.629088Z",
     "iopub.status.idle": "2023-09-14T17:33:18.014406Z",
     "shell.execute_reply": "2023-09-14T17:33:18.014178Z"
    },
    "papermill": {
     "duration": 1.389307,
     "end_time": "2023-09-14T17:33:18.015202",
     "exception": false,
     "start_time": "2023-09-14T17:33:16.625895",
     "status": "completed"
    },
    "tags": []
   },
   "outputs": [],
   "source": [
    "# prepare weights for sampling, where I will put zeros on already sampled gene pairs\n",
    "gene_pairs_weights = (\n",
    "    df_plot.drop(columns=df_plot.columns[:-1])\n",
    "    .rename(columns={df_plot.columns[-1]: \"weight\"})\n",
    "    .assign(weight=1.0)\n",
    "    .squeeze()\n",
    "    .sort_index()\n",
    ")"
   ]
  },
  {
   "cell_type": "code",
   "execution_count": 113,
   "id": "8d9149d2-5bea-46cc-8042-d3b57c7be784",
   "metadata": {
    "execution": {
     "iopub.execute_input": "2023-09-14T17:33:18.022122Z",
     "iopub.status.busy": "2023-09-14T17:33:18.022012Z",
     "iopub.status.idle": "2023-09-14T17:33:18.025121Z",
     "shell.execute_reply": "2023-09-14T17:33:18.024985Z"
    },
    "papermill": {
     "duration": 0.007278,
     "end_time": "2023-09-14T17:33:18.025587",
     "exception": false,
     "start_time": "2023-09-14T17:33:18.018309",
     "status": "completed"
    },
    "tags": []
   },
   "outputs": [
    {
     "data": {
      "text/plain": [
       "ENSG00000000003.14  ENSG00000003987.13    1.0\n",
       "                    ENSG00000019549.9     1.0\n",
       "                    ENSG00000060656.19    1.0\n",
       "                    ENSG00000061337.15    1.0\n",
       "                    ENSG00000061676.14    1.0\n",
       "                                         ... \n",
       "ENSG00000284600.1   ENSG00000284471.1     1.0\n",
       "                    ENSG00000284488.1     1.0\n",
       "                    ENSG00000284518.1     1.0\n",
       "                    ENSG00000284519.1     1.0\n",
       "                    ENSG00000284522.1     1.0\n",
       "Name: weight, Length: 130408456, dtype: float64"
      ]
     },
     "execution_count": 113,
     "metadata": {},
     "output_type": "execute_result"
    }
   ],
   "source": [
    "gene_pairs_weights"
   ]
  },
  {
   "cell_type": "code",
   "execution_count": 114,
   "id": "8c9e264f-230e-4e94-8bb2-40b3f2af5871",
   "metadata": {
    "execution": {
     "iopub.execute_input": "2023-09-14T17:33:18.031992Z",
     "iopub.status.busy": "2023-09-14T17:33:18.031865Z",
     "iopub.status.idle": "2023-09-14T17:33:19.169156Z",
     "shell.execute_reply": "2023-09-14T17:33:19.169008Z"
    },
    "papermill": {
     "duration": 1.141457,
     "end_time": "2023-09-14T17:33:19.169931",
     "exception": false,
     "start_time": "2023-09-14T17:33:18.028474",
     "status": "completed"
    },
    "tags": []
   },
   "outputs": [
    {
     "data": {
      "text/html": [
       "<div>\n",
       "<style scoped>\n",
       "    .dataframe tbody tr th:only-of-type {\n",
       "        vertical-align: middle;\n",
       "    }\n",
       "\n",
       "    .dataframe tbody tr th {\n",
       "        vertical-align: top;\n",
       "    }\n",
       "\n",
       "    .dataframe thead th {\n",
       "        text-align: right;\n",
       "    }\n",
       "</style>\n",
       "<table border=\"1\" class=\"dataframe\">\n",
       "  <thead>\n",
       "    <tr style=\"text-align: right;\">\n",
       "      <th></th>\n",
       "      <th></th>\n",
       "      <th>Pearson (high)</th>\n",
       "      <th>Pearson (low)</th>\n",
       "      <th>Spearman (high)</th>\n",
       "      <th>Spearman (low)</th>\n",
       "      <th>CCC (high)</th>\n",
       "      <th>CCC (low)</th>\n",
       "      <th>ccc</th>\n",
       "      <th>pearson</th>\n",
       "      <th>spearman</th>\n",
       "    </tr>\n",
       "  </thead>\n",
       "  <tbody>\n",
       "    <tr>\n",
       "      <th>ENSG00000244756.1</th>\n",
       "      <th>ENSG00000250310.1</th>\n",
       "      <td>False</td>\n",
       "      <td>False</td>\n",
       "      <td>False</td>\n",
       "      <td>False</td>\n",
       "      <td>False</td>\n",
       "      <td>True</td>\n",
       "      <td>0.000000</td>\n",
       "      <td>0.020010</td>\n",
       "      <td>0.026727</td>\n",
       "    </tr>\n",
       "    <tr>\n",
       "      <th>ENSG00000241539.1</th>\n",
       "      <th>ENSG00000232223.1</th>\n",
       "      <td>False</td>\n",
       "      <td>True</td>\n",
       "      <td>False</td>\n",
       "      <td>True</td>\n",
       "      <td>False</td>\n",
       "      <td>True</td>\n",
       "      <td>0.000000</td>\n",
       "      <td>0.014177</td>\n",
       "      <td>0.016560</td>\n",
       "    </tr>\n",
       "    <tr>\n",
       "      <th>ENSG00000258557.1</th>\n",
       "      <th>ENSG00000207095.1</th>\n",
       "      <td>False</td>\n",
       "      <td>True</td>\n",
       "      <td>False</td>\n",
       "      <td>True</td>\n",
       "      <td>False</td>\n",
       "      <td>True</td>\n",
       "      <td>0.000000</td>\n",
       "      <td>0.009926</td>\n",
       "      <td>0.011207</td>\n",
       "    </tr>\n",
       "    <tr>\n",
       "      <th>ENSG00000260378.1</th>\n",
       "      <th>ENSG00000234776.4</th>\n",
       "      <td>False</td>\n",
       "      <td>False</td>\n",
       "      <td>False</td>\n",
       "      <td>False</td>\n",
       "      <td>False</td>\n",
       "      <td>False</td>\n",
       "      <td>0.027693</td>\n",
       "      <td>0.110594</td>\n",
       "      <td>0.080923</td>\n",
       "    </tr>\n",
       "    <tr>\n",
       "      <th>ENSG00000271959.1</th>\n",
       "      <th>ENSG00000167332.7</th>\n",
       "      <td>False</td>\n",
       "      <td>False</td>\n",
       "      <td>False</td>\n",
       "      <td>False</td>\n",
       "      <td>False</td>\n",
       "      <td>False</td>\n",
       "      <td>0.012219</td>\n",
       "      <td>0.079028</td>\n",
       "      <td>0.117659</td>\n",
       "    </tr>\n",
       "    <tr>\n",
       "      <th>ENSG00000166401.14</th>\n",
       "      <th>ENSG00000163399.15</th>\n",
       "      <td>False</td>\n",
       "      <td>False</td>\n",
       "      <td>True</td>\n",
       "      <td>False</td>\n",
       "      <td>True</td>\n",
       "      <td>False</td>\n",
       "      <td>0.056554</td>\n",
       "      <td>0.151035</td>\n",
       "      <td>0.217069</td>\n",
       "    </tr>\n",
       "    <tr>\n",
       "      <th>ENSG00000229817.1</th>\n",
       "      <th>ENSG00000254467.1</th>\n",
       "      <td>False</td>\n",
       "      <td>False</td>\n",
       "      <td>False</td>\n",
       "      <td>False</td>\n",
       "      <td>False</td>\n",
       "      <td>True</td>\n",
       "      <td>0.000000</td>\n",
       "      <td>0.029640</td>\n",
       "      <td>0.041419</td>\n",
       "    </tr>\n",
       "    <tr>\n",
       "      <th>ENSG00000235885.7</th>\n",
       "      <th>ENSG00000259734.1</th>\n",
       "      <td>False</td>\n",
       "      <td>True</td>\n",
       "      <td>False</td>\n",
       "      <td>True</td>\n",
       "      <td>False</td>\n",
       "      <td>True</td>\n",
       "      <td>0.000000</td>\n",
       "      <td>0.012179</td>\n",
       "      <td>0.014005</td>\n",
       "    </tr>\n",
       "    <tr>\n",
       "      <th>ENSG00000256098.1</th>\n",
       "      <th>ENSG00000230583.6</th>\n",
       "      <td>False</td>\n",
       "      <td>True</td>\n",
       "      <td>False</td>\n",
       "      <td>False</td>\n",
       "      <td>False</td>\n",
       "      <td>False</td>\n",
       "      <td>0.018606</td>\n",
       "      <td>0.007308</td>\n",
       "      <td>0.063136</td>\n",
       "    </tr>\n",
       "    <tr>\n",
       "      <th>ENSG00000271299.1</th>\n",
       "      <th>ENSG00000233947.1</th>\n",
       "      <td>False</td>\n",
       "      <td>False</td>\n",
       "      <td>False</td>\n",
       "      <td>True</td>\n",
       "      <td>False</td>\n",
       "      <td>True</td>\n",
       "      <td>0.000000</td>\n",
       "      <td>0.025113</td>\n",
       "      <td>0.022440</td>\n",
       "    </tr>\n",
       "  </tbody>\n",
       "</table>\n",
       "</div>"
      ],
      "text/plain": [
       "                                       Pearson (high)  Pearson (low)  \\\n",
       "ENSG00000244756.1  ENSG00000250310.1            False          False   \n",
       "ENSG00000241539.1  ENSG00000232223.1            False           True   \n",
       "ENSG00000258557.1  ENSG00000207095.1            False           True   \n",
       "ENSG00000260378.1  ENSG00000234776.4            False          False   \n",
       "ENSG00000271959.1  ENSG00000167332.7            False          False   \n",
       "ENSG00000166401.14 ENSG00000163399.15           False          False   \n",
       "ENSG00000229817.1  ENSG00000254467.1            False          False   \n",
       "ENSG00000235885.7  ENSG00000259734.1            False           True   \n",
       "ENSG00000256098.1  ENSG00000230583.6            False           True   \n",
       "ENSG00000271299.1  ENSG00000233947.1            False          False   \n",
       "\n",
       "                                       Spearman (high)  Spearman (low)  \\\n",
       "ENSG00000244756.1  ENSG00000250310.1             False           False   \n",
       "ENSG00000241539.1  ENSG00000232223.1             False            True   \n",
       "ENSG00000258557.1  ENSG00000207095.1             False            True   \n",
       "ENSG00000260378.1  ENSG00000234776.4             False           False   \n",
       "ENSG00000271959.1  ENSG00000167332.7             False           False   \n",
       "ENSG00000166401.14 ENSG00000163399.15             True           False   \n",
       "ENSG00000229817.1  ENSG00000254467.1             False           False   \n",
       "ENSG00000235885.7  ENSG00000259734.1             False            True   \n",
       "ENSG00000256098.1  ENSG00000230583.6             False           False   \n",
       "ENSG00000271299.1  ENSG00000233947.1             False            True   \n",
       "\n",
       "                                       CCC (high)  CCC (low)       ccc  \\\n",
       "ENSG00000244756.1  ENSG00000250310.1        False       True  0.000000   \n",
       "ENSG00000241539.1  ENSG00000232223.1        False       True  0.000000   \n",
       "ENSG00000258557.1  ENSG00000207095.1        False       True  0.000000   \n",
       "ENSG00000260378.1  ENSG00000234776.4        False      False  0.027693   \n",
       "ENSG00000271959.1  ENSG00000167332.7        False      False  0.012219   \n",
       "ENSG00000166401.14 ENSG00000163399.15        True      False  0.056554   \n",
       "ENSG00000229817.1  ENSG00000254467.1        False       True  0.000000   \n",
       "ENSG00000235885.7  ENSG00000259734.1        False       True  0.000000   \n",
       "ENSG00000256098.1  ENSG00000230583.6        False      False  0.018606   \n",
       "ENSG00000271299.1  ENSG00000233947.1        False       True  0.000000   \n",
       "\n",
       "                                        pearson  spearman  \n",
       "ENSG00000244756.1  ENSG00000250310.1   0.020010  0.026727  \n",
       "ENSG00000241539.1  ENSG00000232223.1   0.014177  0.016560  \n",
       "ENSG00000258557.1  ENSG00000207095.1   0.009926  0.011207  \n",
       "ENSG00000260378.1  ENSG00000234776.4   0.110594  0.080923  \n",
       "ENSG00000271959.1  ENSG00000167332.7   0.079028  0.117659  \n",
       "ENSG00000166401.14 ENSG00000163399.15  0.151035  0.217069  \n",
       "ENSG00000229817.1  ENSG00000254467.1   0.029640  0.041419  \n",
       "ENSG00000235885.7  ENSG00000259734.1   0.012179  0.014005  \n",
       "ENSG00000256098.1  ENSG00000230583.6   0.007308  0.063136  \n",
       "ENSG00000271299.1  ENSG00000233947.1   0.025113  0.022440  "
      ]
     },
     "metadata": {},
     "output_type": "display_data"
    }
   ],
   "source": [
    "_tmp = df_plot.sample(n=10, replace=False, weights=gene_pairs_weights)\n",
    "assert _tmp.shape[0] == 10\n",
    "\n",
    "display(_tmp)"
   ]
  },
  {
   "cell_type": "code",
   "execution_count": 115,
   "id": "4bba8586-0ffb-48ee-9261-ff96551d43f0",
   "metadata": {
    "execution": {
     "iopub.execute_input": "2023-09-14T17:33:19.183704Z",
     "iopub.status.busy": "2023-09-14T17:33:19.183615Z",
     "iopub.status.idle": "2023-09-14T17:33:30.190000Z",
     "shell.execute_reply": "2023-09-14T17:33:30.189848Z"
    },
    "papermill": {
     "duration": 11.017066,
     "end_time": "2023-09-14T17:33:30.190413",
     "exception": false,
     "start_time": "2023-09-14T17:33:19.173347",
     "status": "completed"
    },
    "tags": []
   },
   "outputs": [
    {
     "data": {
      "text/plain": [
       "'all_high-top_ccc: (500, 9)'"
      ]
     },
     "metadata": {},
     "output_type": "display_data"
    },
    {
     "data": {
      "text/plain": [
       "'all_high-top_pearson: (500, 9)'"
      ]
     },
     "metadata": {},
     "output_type": "display_data"
    },
    {
     "data": {
      "text/plain": [
       "'all_high-top_spearman: (500, 9)'"
      ]
     },
     "metadata": {},
     "output_type": "display_data"
    },
    {
     "data": {
      "text/plain": [
       "'all_high-random: (500, 9)'"
      ]
     },
     "metadata": {},
     "output_type": "display_data"
    },
    {
     "data": {
      "text/plain": [
       "'all_low-top_ccc: (500, 9)'"
      ]
     },
     "metadata": {},
     "output_type": "display_data"
    },
    {
     "data": {
      "text/plain": [
       "'all_low-top_pearson: (500, 9)'"
      ]
     },
     "metadata": {},
     "output_type": "display_data"
    },
    {
     "data": {
      "text/plain": [
       "'all_low-top_spearman: (500, 9)'"
      ]
     },
     "metadata": {},
     "output_type": "display_data"
    },
    {
     "data": {
      "text/plain": [
       "'all_low-random: (500, 9)'"
      ]
     },
     "metadata": {},
     "output_type": "display_data"
    },
    {
     "data": {
      "text/plain": [
       "'ccc_spearman_high_and_pearson_low-top_ccc: (500, 9)'"
      ]
     },
     "metadata": {},
     "output_type": "display_data"
    },
    {
     "data": {
      "text/plain": [
       "'ccc_spearman_high_and_pearson_low-top_pearson: (500, 9)'"
      ]
     },
     "metadata": {},
     "output_type": "display_data"
    },
    {
     "data": {
      "text/plain": [
       "'ccc_spearman_high_and_pearson_low-top_spearman: (500, 9)'"
      ]
     },
     "metadata": {},
     "output_type": "display_data"
    },
    {
     "data": {
      "text/plain": [
       "'ccc_spearman_high_and_pearson_low-random: (500, 9)'"
      ]
     },
     "metadata": {},
     "output_type": "display_data"
    },
    {
     "data": {
      "text/plain": [
       "'ccc_high_and_pearson_low-top_ccc: (500, 9)'"
      ]
     },
     "metadata": {},
     "output_type": "display_data"
    },
    {
     "data": {
      "text/plain": [
       "'ccc_high_and_pearson_low-top_pearson: (500, 9)'"
      ]
     },
     "metadata": {},
     "output_type": "display_data"
    },
    {
     "data": {
      "text/plain": [
       "'ccc_high_and_pearson_low-top_spearman: (500, 9)'"
      ]
     },
     "metadata": {},
     "output_type": "display_data"
    },
    {
     "data": {
      "text/plain": [
       "'ccc_high_and_pearson_low-random: (500, 9)'"
      ]
     },
     "metadata": {},
     "output_type": "display_data"
    },
    {
     "data": {
      "text/plain": [
       "'ccc_high_and_spearman_low-top_ccc: (500, 9)'"
      ]
     },
     "metadata": {},
     "output_type": "display_data"
    },
    {
     "data": {
      "text/plain": [
       "'ccc_high_and_spearman_low-top_pearson: (500, 9)'"
      ]
     },
     "metadata": {},
     "output_type": "display_data"
    },
    {
     "data": {
      "text/plain": [
       "'ccc_high_and_spearman_low-top_spearman: (500, 9)'"
      ]
     },
     "metadata": {},
     "output_type": "display_data"
    },
    {
     "data": {
      "text/plain": [
       "'ccc_high_and_spearman_low-random: (500, 9)'"
      ]
     },
     "metadata": {},
     "output_type": "display_data"
    },
    {
     "data": {
      "text/plain": [
       "'ccc_high_and_spearman_pearson_low-top_ccc: (500, 9)'"
      ]
     },
     "metadata": {},
     "output_type": "display_data"
    },
    {
     "data": {
      "text/plain": [
       "'ccc_high_and_spearman_pearson_low-top_pearson: (500, 9)'"
      ]
     },
     "metadata": {},
     "output_type": "display_data"
    },
    {
     "data": {
      "text/plain": [
       "'ccc_high_and_spearman_pearson_low-top_spearman: (500, 9)'"
      ]
     },
     "metadata": {},
     "output_type": "display_data"
    },
    {
     "data": {
      "text/plain": [
       "'ccc_high_and_spearman_pearson_low-random: (500, 9)'"
      ]
     },
     "metadata": {},
     "output_type": "display_data"
    },
    {
     "data": {
      "text/plain": [
       "'pearson_high_and_ccc_low-top_ccc: (500, 9)'"
      ]
     },
     "metadata": {},
     "output_type": "display_data"
    },
    {
     "data": {
      "text/plain": [
       "'pearson_high_and_ccc_low-top_pearson: (500, 9)'"
      ]
     },
     "metadata": {},
     "output_type": "display_data"
    },
    {
     "data": {
      "text/plain": [
       "'pearson_high_and_ccc_low-top_spearman: (500, 9)'"
      ]
     },
     "metadata": {},
     "output_type": "display_data"
    },
    {
     "data": {
      "text/plain": [
       "'pearson_high_and_ccc_low-random: (500, 9)'"
      ]
     },
     "metadata": {},
     "output_type": "display_data"
    },
    {
     "data": {
      "text/plain": [
       "'pearson_high_and_ccc_spearman_low-top_ccc: (500, 9)'"
      ]
     },
     "metadata": {},
     "output_type": "display_data"
    },
    {
     "data": {
      "text/plain": [
       "'pearson_high_and_ccc_spearman_low-top_pearson: (500, 9)'"
      ]
     },
     "metadata": {},
     "output_type": "display_data"
    },
    {
     "data": {
      "text/plain": [
       "'pearson_high_and_ccc_spearman_low-top_spearman: (500, 9)'"
      ]
     },
     "metadata": {},
     "output_type": "display_data"
    },
    {
     "data": {
      "text/plain": [
       "'pearson_high_and_ccc_spearman_low-random: (500, 9)'"
      ]
     },
     "metadata": {},
     "output_type": "display_data"
    }
   ],
   "source": [
    "gene_pair_samples = {}\n",
    "\n",
    "for k, v in gene_pair_cats.items():\n",
    "    # sample at most 100 gene pairs\n",
    "    df = gene_pair_cats[k]\n",
    "\n",
    "    n = min(N_MAX_SAMPLES_PER_CATEGORY, df.shape[0])\n",
    "\n",
    "    for coef in (\"ccc\", \"pearson\", \"spearman\", \"random\"):\n",
    "        if coef == \"random\":\n",
    "            new_k = f\"{k}-{coef}\"\n",
    "\n",
    "            # do not sample if all gene pairs were already sampled\n",
    "            df_weights = gene_pairs_weights.loc[df.index]\n",
    "            if (df_weights > 0).sum() < n:\n",
    "                display(f\"  WARNING: {new_k}: none selected\")\n",
    "                continue\n",
    "\n",
    "            sample_n = df.sample(\n",
    "                n=n,\n",
    "                replace=False,\n",
    "                random_state=RANDOM_STATE,\n",
    "                weights=gene_pairs_weights,\n",
    "            )\n",
    "\n",
    "            # do not sample these gene pairs again\n",
    "            gene_pairs_weights.loc[sample_n.index] = 0.0\n",
    "\n",
    "            gene_pair_samples[new_k] = sample_n\n",
    "\n",
    "            display(f\"{new_k}: {gene_pair_samples[new_k].shape}\")\n",
    "\n",
    "            continue\n",
    "\n",
    "        df_coef = df.sort_values(coef, ascending=False)\n",
    "        sample_n = df_coef.head(n)\n",
    "\n",
    "        # when taking the top gene pairs by a coefficient, I do not remove repeated ones\n",
    "\n",
    "        # do not sample these gene pairs again\n",
    "        gene_pairs_weights.loc[sample_n.index] = 0.0\n",
    "\n",
    "        new_k = f\"{k}-top_{coef}\"\n",
    "        gene_pair_samples[new_k] = sample_n\n",
    "\n",
    "        display(f\"{new_k}: {gene_pair_samples[new_k].shape}\")"
   ]
  },
  {
   "cell_type": "markdown",
   "id": "93bc3462-2328-432c-a25a-e17cfa36a3cc",
   "metadata": {
    "papermill": {
     "duration": 0.009884,
     "end_time": "2023-09-14T17:33:30.204183",
     "exception": false,
     "start_time": "2023-09-14T17:33:30.194299",
     "status": "completed"
    },
    "tags": []
   },
   "source": [
    "# Include gene pairs mentioned in the paper"
   ]
  },
  {
   "cell_type": "code",
   "execution_count": 116,
   "id": "c4410546-9a92-42d0-81f0-d601ef8fa745",
   "metadata": {
    "execution": {
     "iopub.execute_input": "2023-09-14T17:33:30.212083Z",
     "iopub.status.busy": "2023-09-14T17:33:30.211986Z",
     "iopub.status.idle": "2023-09-14T17:33:30.213697Z",
     "shell.execute_reply": "2023-09-14T17:33:30.213553Z"
    },
    "papermill": {
     "duration": 0.006448,
     "end_time": "2023-09-14T17:33:30.214286",
     "exception": false,
     "start_time": "2023-09-14T17:33:30.207838",
     "status": "completed"
    },
    "tags": []
   },
   "outputs": [],
   "source": [
    "selected_gene_pairs = [\n",
    "    # ('SDS', 'IFNG')\n",
    "    (\"ENSG00000135094.10\", \"ENSG00000111537.4\"),\n",
    "    # ('APOC1', 'JUN')\n",
    "    (\"ENSG00000130208.9\", \"ENSG00000177606.6\"),\n",
    "    # ('CCL18', 'ZDHHC12')\n",
    "    (\"ENSG00000275385.1\", \"ENSG00000160446.18\"),\n",
    "    # ('KDM6A', 'UTY')\n",
    "    (\"ENSG00000147050.14\", \"ENSG00000183878.15\"),\n",
    "    # ('CYTIP', 'RASSF2')\n",
    "    (\"ENSG00000115165.9\", \"ENSG00000101265.15\"),\n",
    "    # ('KLHL21', 'AC068580.6')\n",
    "    (\"ENSG00000162413.16\", \"ENSG00000235027.1\"),\n",
    "    # ('TNNI2', 'MYOZ1')\n",
    "    (\"ENSG00000130598.15\", \"ENSG00000177791.11\"),\n",
    "    # ('TPM2', 'PYGM')\n",
    "    (\"ENSG00000198467.13\", \"ENSG00000068976.13\"),\n",
    "]"
   ]
  },
  {
   "cell_type": "code",
   "execution_count": 117,
   "id": "ae6c1652-38ca-4cf6-938f-76533e075512",
   "metadata": {
    "execution": {
     "iopub.execute_input": "2023-09-14T17:33:30.221835Z",
     "iopub.status.busy": "2023-09-14T17:33:30.221758Z",
     "iopub.status.idle": "2023-09-14T17:33:31.103707Z",
     "shell.execute_reply": "2023-09-14T17:33:31.103347Z"
    },
    "papermill": {
     "duration": 0.886593,
     "end_time": "2023-09-14T17:33:31.104462",
     "exception": false,
     "start_time": "2023-09-14T17:33:30.217869",
     "status": "completed"
    },
    "tags": []
   },
   "outputs": [
    {
     "data": {
      "text/plain": [
       "(8, 9)"
      ]
     },
     "metadata": {},
     "output_type": "display_data"
    }
   ],
   "source": [
    "gene_pair_samples[\"selected_in_manuscript\"] = df_plot.loc[selected_gene_pairs]\n",
    "display(gene_pair_samples[\"selected_in_manuscript\"].shape)"
   ]
  },
  {
   "cell_type": "code",
   "execution_count": 118,
   "id": "da6d6dd2-59e6-417e-a42c-d7fbba3ba2dc",
   "metadata": {
    "execution": {
     "iopub.execute_input": "2023-09-14T17:33:31.119348Z",
     "iopub.status.busy": "2023-09-14T17:33:31.119280Z",
     "iopub.status.idle": "2023-09-14T17:33:31.124054Z",
     "shell.execute_reply": "2023-09-14T17:33:31.123927Z"
    },
    "papermill": {
     "duration": 0.016172,
     "end_time": "2023-09-14T17:33:31.125045",
     "exception": false,
     "start_time": "2023-09-14T17:33:31.108873",
     "status": "completed"
    },
    "tags": []
   },
   "outputs": [
    {
     "data": {
      "text/html": [
       "<div>\n",
       "<style scoped>\n",
       "    .dataframe tbody tr th:only-of-type {\n",
       "        vertical-align: middle;\n",
       "    }\n",
       "\n",
       "    .dataframe tbody tr th {\n",
       "        vertical-align: top;\n",
       "    }\n",
       "\n",
       "    .dataframe thead th {\n",
       "        text-align: right;\n",
       "    }\n",
       "</style>\n",
       "<table border=\"1\" class=\"dataframe\">\n",
       "  <thead>\n",
       "    <tr style=\"text-align: right;\">\n",
       "      <th></th>\n",
       "      <th></th>\n",
       "      <th>Pearson (high)</th>\n",
       "      <th>Pearson (low)</th>\n",
       "      <th>Spearman (high)</th>\n",
       "      <th>Spearman (low)</th>\n",
       "      <th>CCC (high)</th>\n",
       "      <th>CCC (low)</th>\n",
       "      <th>ccc</th>\n",
       "      <th>pearson</th>\n",
       "      <th>spearman</th>\n",
       "    </tr>\n",
       "  </thead>\n",
       "  <tbody>\n",
       "    <tr>\n",
       "      <th>ENSG00000135094.10</th>\n",
       "      <th>ENSG00000111537.4</th>\n",
       "      <td>False</td>\n",
       "      <td>False</td>\n",
       "      <td>True</td>\n",
       "      <td>False</td>\n",
       "      <td>True</td>\n",
       "      <td>False</td>\n",
       "      <td>0.706993</td>\n",
       "      <td>0.090451</td>\n",
       "      <td>0.765177</td>\n",
       "    </tr>\n",
       "    <tr>\n",
       "      <th>ENSG00000130208.9</th>\n",
       "      <th>ENSG00000177606.6</th>\n",
       "      <td>False</td>\n",
       "      <td>False</td>\n",
       "      <td>True</td>\n",
       "      <td>False</td>\n",
       "      <td>True</td>\n",
       "      <td>False</td>\n",
       "      <td>0.612233</td>\n",
       "      <td>0.084623</td>\n",
       "      <td>0.748265</td>\n",
       "    </tr>\n",
       "    <tr>\n",
       "      <th>ENSG00000275385.1</th>\n",
       "      <th>ENSG00000160446.18</th>\n",
       "      <td>False</td>\n",
       "      <td>False</td>\n",
       "      <td>True</td>\n",
       "      <td>False</td>\n",
       "      <td>True</td>\n",
       "      <td>False</td>\n",
       "      <td>0.446659</td>\n",
       "      <td>0.099853</td>\n",
       "      <td>0.560171</td>\n",
       "    </tr>\n",
       "    <tr>\n",
       "      <th>ENSG00000147050.14</th>\n",
       "      <th>ENSG00000183878.15</th>\n",
       "      <td>True</td>\n",
       "      <td>False</td>\n",
       "      <td>False</td>\n",
       "      <td>False</td>\n",
       "      <td>True</td>\n",
       "      <td>False</td>\n",
       "      <td>0.294391</td>\n",
       "      <td>0.239870</td>\n",
       "      <td>0.100621</td>\n",
       "    </tr>\n",
       "    <tr>\n",
       "      <th>ENSG00000115165.9</th>\n",
       "      <th>ENSG00000101265.15</th>\n",
       "      <td>False</td>\n",
       "      <td>False</td>\n",
       "      <td>False</td>\n",
       "      <td>False</td>\n",
       "      <td>True</td>\n",
       "      <td>False</td>\n",
       "      <td>0.201962</td>\n",
       "      <td>0.156060</td>\n",
       "      <td>0.107882</td>\n",
       "    </tr>\n",
       "    <tr>\n",
       "      <th>ENSG00000162413.16</th>\n",
       "      <th>ENSG00000235027.1</th>\n",
       "      <td>False</td>\n",
       "      <td>False</td>\n",
       "      <td>False</td>\n",
       "      <td>False</td>\n",
       "      <td>True</td>\n",
       "      <td>False</td>\n",
       "      <td>0.184217</td>\n",
       "      <td>0.062875</td>\n",
       "      <td>0.186421</td>\n",
       "    </tr>\n",
       "    <tr>\n",
       "      <th>ENSG00000130598.15</th>\n",
       "      <th>ENSG00000177791.11</th>\n",
       "      <td>True</td>\n",
       "      <td>False</td>\n",
       "      <td>True</td>\n",
       "      <td>False</td>\n",
       "      <td>False</td>\n",
       "      <td>False</td>\n",
       "      <td>0.034594</td>\n",
       "      <td>0.967834</td>\n",
       "      <td>0.284206</td>\n",
       "    </tr>\n",
       "    <tr>\n",
       "      <th>ENSG00000198467.13</th>\n",
       "      <th>ENSG00000068976.13</th>\n",
       "      <td>True</td>\n",
       "      <td>False</td>\n",
       "      <td>False</td>\n",
       "      <td>False</td>\n",
       "      <td>False</td>\n",
       "      <td>False</td>\n",
       "      <td>0.034912</td>\n",
       "      <td>0.944430</td>\n",
       "      <td>0.029852</td>\n",
       "    </tr>\n",
       "  </tbody>\n",
       "</table>\n",
       "</div>"
      ],
      "text/plain": [
       "                                       Pearson (high)  Pearson (low)  \\\n",
       "ENSG00000135094.10 ENSG00000111537.4            False          False   \n",
       "ENSG00000130208.9  ENSG00000177606.6            False          False   \n",
       "ENSG00000275385.1  ENSG00000160446.18           False          False   \n",
       "ENSG00000147050.14 ENSG00000183878.15            True          False   \n",
       "ENSG00000115165.9  ENSG00000101265.15           False          False   \n",
       "ENSG00000162413.16 ENSG00000235027.1            False          False   \n",
       "ENSG00000130598.15 ENSG00000177791.11            True          False   \n",
       "ENSG00000198467.13 ENSG00000068976.13            True          False   \n",
       "\n",
       "                                       Spearman (high)  Spearman (low)  \\\n",
       "ENSG00000135094.10 ENSG00000111537.4              True           False   \n",
       "ENSG00000130208.9  ENSG00000177606.6              True           False   \n",
       "ENSG00000275385.1  ENSG00000160446.18             True           False   \n",
       "ENSG00000147050.14 ENSG00000183878.15            False           False   \n",
       "ENSG00000115165.9  ENSG00000101265.15            False           False   \n",
       "ENSG00000162413.16 ENSG00000235027.1             False           False   \n",
       "ENSG00000130598.15 ENSG00000177791.11             True           False   \n",
       "ENSG00000198467.13 ENSG00000068976.13            False           False   \n",
       "\n",
       "                                       CCC (high)  CCC (low)       ccc  \\\n",
       "ENSG00000135094.10 ENSG00000111537.4         True      False  0.706993   \n",
       "ENSG00000130208.9  ENSG00000177606.6         True      False  0.612233   \n",
       "ENSG00000275385.1  ENSG00000160446.18        True      False  0.446659   \n",
       "ENSG00000147050.14 ENSG00000183878.15        True      False  0.294391   \n",
       "ENSG00000115165.9  ENSG00000101265.15        True      False  0.201962   \n",
       "ENSG00000162413.16 ENSG00000235027.1         True      False  0.184217   \n",
       "ENSG00000130598.15 ENSG00000177791.11       False      False  0.034594   \n",
       "ENSG00000198467.13 ENSG00000068976.13       False      False  0.034912   \n",
       "\n",
       "                                        pearson  spearman  \n",
       "ENSG00000135094.10 ENSG00000111537.4   0.090451  0.765177  \n",
       "ENSG00000130208.9  ENSG00000177606.6   0.084623  0.748265  \n",
       "ENSG00000275385.1  ENSG00000160446.18  0.099853  0.560171  \n",
       "ENSG00000147050.14 ENSG00000183878.15  0.239870  0.100621  \n",
       "ENSG00000115165.9  ENSG00000101265.15  0.156060  0.107882  \n",
       "ENSG00000162413.16 ENSG00000235027.1   0.062875  0.186421  \n",
       "ENSG00000130598.15 ENSG00000177791.11  0.967834  0.284206  \n",
       "ENSG00000198467.13 ENSG00000068976.13  0.944430  0.029852  "
      ]
     },
     "execution_count": 118,
     "metadata": {},
     "output_type": "execute_result"
    }
   ],
   "source": [
    "gene_pair_samples[\"selected_in_manuscript\"]"
   ]
  },
  {
   "cell_type": "markdown",
   "id": "4861a98c-3337-46af-9d77-bf4a7e0b49f6",
   "metadata": {
    "papermill": {
     "duration": 0.006424,
     "end_time": "2023-09-14T17:33:31.138651",
     "exception": false,
     "start_time": "2023-09-14T17:33:31.132227",
     "status": "completed"
    },
    "tags": []
   },
   "source": [
    "# Include a random sample across the entire dataset"
   ]
  },
  {
   "cell_type": "markdown",
   "id": "9cd04572-168d-4499-a8c2-e1fb044f02cf",
   "metadata": {
    "papermill": {
     "duration": 0.003681,
     "end_time": "2023-09-14T17:33:31.146216",
     "exception": false,
     "start_time": "2023-09-14T17:33:31.142535",
     "status": "completed"
    },
    "tags": []
   },
   "source": [
    "This includes all possible gene pairs from the top 5k genes initially selected, not the filtered list derived from the intersections."
   ]
  },
  {
   "cell_type": "markdown",
   "id": "b6c2b591-ade4-48b4-8cda-0b135c35f033",
   "metadata": {
    "papermill": {
     "duration": 0.003714,
     "end_time": "2023-09-14T17:33:31.153652",
     "exception": false,
     "start_time": "2023-09-14T17:33:31.149938",
     "status": "completed"
    },
    "tags": []
   },
   "source": [
    "## Load all correlations"
   ]
  },
  {
   "cell_type": "code",
   "execution_count": 119,
   "id": "f7ba1893-fdcd-47bc-8cca-9cc29fe9d28a",
   "metadata": {
    "execution": {
     "iopub.execute_input": "2023-09-14T17:33:31.161686Z",
     "iopub.status.busy": "2023-09-14T17:33:31.161571Z",
     "iopub.status.idle": "2023-09-14T17:33:31.163743Z",
     "shell.execute_reply": "2023-09-14T17:33:31.163539Z"
    },
    "papermill": {
     "duration": 0.006903,
     "end_time": "2023-09-14T17:33:31.164380",
     "exception": false,
     "start_time": "2023-09-14T17:33:31.157477",
     "status": "completed"
    },
    "tags": []
   },
   "outputs": [
    {
     "data": {
      "text/plain": [
       "PosixPath('/mnt/data/proj_data/ccc-gpu/gene_expr/data/gtex_v8/similarity_matrices/all/gtex_v8_data_{tissue}-{gene_sel_strategy}-{corr_method}.pkl')"
      ]
     },
     "metadata": {},
     "output_type": "display_data"
    }
   ],
   "source": [
    "INPUT_CORR_FILE_TEMPLATE = (\n",
    "    SIMILARITY_MATRICES_DIR\n",
    "    / \"gtex_v8_data_{tissue}-{gene_sel_strategy}-{corr_method}.pkl\"\n",
    ")\n",
    "display(INPUT_CORR_FILE_TEMPLATE)"
   ]
  },
  {
   "cell_type": "code",
   "execution_count": 120,
   "id": "7a0ca509-8fc2-4cc7-822f-992d4e0810d5",
   "metadata": {
    "execution": {
     "iopub.execute_input": "2023-09-14T17:33:31.172524Z",
     "iopub.status.busy": "2023-09-14T17:33:31.172420Z",
     "iopub.status.idle": "2023-09-14T17:33:31.174107Z",
     "shell.execute_reply": "2023-09-14T17:33:31.173985Z"
    },
    "papermill": {
     "duration": 0.006601,
     "end_time": "2023-09-14T17:33:31.174737",
     "exception": false,
     "start_time": "2023-09-14T17:33:31.168136",
     "status": "completed"
    },
    "tags": []
   },
   "outputs": [
    {
     "data": {
      "text/plain": [
       "PosixPath('/mnt/data/proj_data/ccc-gpu/gene_expr/data/gtex_v8/similarity_matrices/all/gtex_v8_data_whole_blood-var_pc_log2-all.pkl')"
      ]
     },
     "metadata": {},
     "output_type": "display_data"
    }
   ],
   "source": [
    "INPUT_CORR_FILE = SIMILARITY_MATRICES_DIR / str(INPUT_CORR_FILE_TEMPLATE).format(\n",
    "    tissue=GTEX_TISSUE,\n",
    "    gene_sel_strategy=GENE_SEL_STRATEGY,\n",
    "    corr_method=\"all\",\n",
    ")\n",
    "display(INPUT_CORR_FILE)"
   ]
  },
  {
   "cell_type": "code",
   "execution_count": 121,
   "id": "3e4b11c9-5ad7-465d-ba5b-e00f28905ba5",
   "metadata": {
    "execution": {
     "iopub.execute_input": "2023-09-14T17:33:31.182595Z",
     "iopub.status.busy": "2023-09-14T17:33:31.182474Z",
     "iopub.status.idle": "2023-09-14T17:33:31.304429Z",
     "shell.execute_reply": "2023-09-14T17:33:31.304165Z"
    },
    "papermill": {
     "duration": 0.126858,
     "end_time": "2023-09-14T17:33:31.305304",
     "exception": false,
     "start_time": "2023-09-14T17:33:31.178446",
     "status": "completed"
    },
    "tags": []
   },
   "outputs": [],
   "source": [
    "df = pd.read_pickle(INPUT_CORR_FILE)"
   ]
  },
  {
   "cell_type": "code",
   "execution_count": 122,
   "id": "a915005a-a4ab-4197-8f2d-84fec95b6548",
   "metadata": {
    "execution": {
     "iopub.execute_input": "2023-09-14T17:33:31.319898Z",
     "iopub.status.busy": "2023-09-14T17:33:31.319801Z",
     "iopub.status.idle": "2023-09-14T17:33:31.322138Z",
     "shell.execute_reply": "2023-09-14T17:33:31.321778Z"
    },
    "papermill": {
     "duration": 0.013079,
     "end_time": "2023-09-14T17:33:31.322640",
     "exception": false,
     "start_time": "2023-09-14T17:33:31.309561",
     "status": "completed"
    },
    "tags": []
   },
   "outputs": [
    {
     "data": {
      "text/plain": [
       "(276440000, 3)"
      ]
     },
     "execution_count": 122,
     "metadata": {},
     "output_type": "execute_result"
    }
   ],
   "source": [
    "df.shape"
   ]
  },
  {
   "cell_type": "code",
   "execution_count": 123,
   "id": "a1e98073-86ad-4eb2-9043-b148e33ac4a1",
   "metadata": {
    "execution": {
     "iopub.execute_input": "2023-09-14T17:33:31.330957Z",
     "iopub.status.busy": "2023-09-14T17:33:31.330859Z",
     "iopub.status.idle": "2023-09-14T17:33:31.334241Z",
     "shell.execute_reply": "2023-09-14T17:33:31.334070Z"
    },
    "papermill": {
     "duration": 0.008068,
     "end_time": "2023-09-14T17:33:31.334685",
     "exception": false,
     "start_time": "2023-09-14T17:33:31.326617",
     "status": "completed"
    },
    "tags": []
   },
   "outputs": [
    {
     "data": {
      "text/html": [
       "<div>\n",
       "<style scoped>\n",
       "    .dataframe tbody tr th:only-of-type {\n",
       "        vertical-align: middle;\n",
       "    }\n",
       "\n",
       "    .dataframe tbody tr th {\n",
       "        vertical-align: top;\n",
       "    }\n",
       "\n",
       "    .dataframe thead th {\n",
       "        text-align: right;\n",
       "    }\n",
       "</style>\n",
       "<table border=\"1\" class=\"dataframe\">\n",
       "  <thead>\n",
       "    <tr style=\"text-align: right;\">\n",
       "      <th></th>\n",
       "      <th></th>\n",
       "      <th>ccc</th>\n",
       "      <th>pearson</th>\n",
       "      <th>spearman</th>\n",
       "    </tr>\n",
       "  </thead>\n",
       "  <tbody>\n",
       "    <tr>\n",
       "      <th rowspan=\"5\" valign=\"top\">ENSG00000000419.12</th>\n",
       "      <th>ENSG00000000419.12</th>\n",
       "      <td>NaN</td>\n",
       "      <td>NaN</td>\n",
       "      <td>NaN</td>\n",
       "    </tr>\n",
       "    <tr>\n",
       "      <th>ENSG00000000938.12</th>\n",
       "      <td>NaN</td>\n",
       "      <td>NaN</td>\n",
       "      <td>NaN</td>\n",
       "    </tr>\n",
       "    <tr>\n",
       "      <th>ENSG00000001167.14</th>\n",
       "      <td>NaN</td>\n",
       "      <td>NaN</td>\n",
       "      <td>NaN</td>\n",
       "    </tr>\n",
       "    <tr>\n",
       "      <th>ENSG00000001561.6</th>\n",
       "      <td>NaN</td>\n",
       "      <td>NaN</td>\n",
       "      <td>NaN</td>\n",
       "    </tr>\n",
       "    <tr>\n",
       "      <th>ENSG00000002549.12</th>\n",
       "      <td>NaN</td>\n",
       "      <td>NaN</td>\n",
       "      <td>NaN</td>\n",
       "    </tr>\n",
       "  </tbody>\n",
       "</table>\n",
       "</div>"
      ],
      "text/plain": [
       "                                       ccc  pearson  spearman\n",
       "ENSG00000000419.12 ENSG00000000419.12  NaN      NaN       NaN\n",
       "                   ENSG00000000938.12  NaN      NaN       NaN\n",
       "                   ENSG00000001167.14  NaN      NaN       NaN\n",
       "                   ENSG00000001561.6   NaN      NaN       NaN\n",
       "                   ENSG00000002549.12  NaN      NaN       NaN"
      ]
     },
     "execution_count": 123,
     "metadata": {},
     "output_type": "execute_result"
    }
   ],
   "source": [
    "df.head()"
   ]
  },
  {
   "cell_type": "markdown",
   "id": "2f1f3a16-d43b-4d1f-805c-6b884d9edf45",
   "metadata": {
    "papermill": {
     "duration": 0.003877,
     "end_time": "2023-09-14T17:33:31.342388",
     "exception": false,
     "start_time": "2023-09-14T17:33:31.338511",
     "status": "completed"
    },
    "tags": []
   },
   "source": [
    "## Select 2n here (double)"
   ]
  },
  {
   "cell_type": "code",
   "execution_count": 124,
   "id": "d25034ed-6b39-468a-8e81-aaa5afc609f7",
   "metadata": {
    "execution": {
     "iopub.execute_input": "2023-09-14T17:33:31.350493Z",
     "iopub.status.busy": "2023-09-14T17:33:31.350382Z",
     "iopub.status.idle": "2023-09-14T17:33:31.598963Z",
     "shell.execute_reply": "2023-09-14T17:33:31.598688Z"
    },
    "papermill": {
     "duration": 0.253579,
     "end_time": "2023-09-14T17:33:31.599787",
     "exception": false,
     "start_time": "2023-09-14T17:33:31.346208",
     "status": "completed"
    },
    "tags": []
   },
   "outputs": [],
   "source": [
    "sample_n = df.sample(n=int(n * 2), replace=False, random_state=RANDOM_STATE)\n",
    "\n",
    "new_k = f\"entire_dataset-random\"\n",
    "gene_pair_samples[new_k] = sample_n"
   ]
  },
  {
   "cell_type": "code",
   "execution_count": 125,
   "id": "1a525ccb-d51a-4923-93dc-1336ecc86790",
   "metadata": {
    "execution": {
     "iopub.execute_input": "2023-09-14T17:33:31.608601Z",
     "iopub.status.busy": "2023-09-14T17:33:31.608522Z",
     "iopub.status.idle": "2023-09-14T17:33:31.610807Z",
     "shell.execute_reply": "2023-09-14T17:33:31.610574Z"
    },
    "papermill": {
     "duration": 0.00732,
     "end_time": "2023-09-14T17:33:31.611379",
     "exception": false,
     "start_time": "2023-09-14T17:33:31.604059",
     "status": "completed"
    },
    "tags": []
   },
   "outputs": [
    {
     "data": {
      "text/plain": [
       "(1000, 3)"
      ]
     },
     "execution_count": 125,
     "metadata": {},
     "output_type": "execute_result"
    }
   ],
   "source": [
    "gene_pair_samples[new_k].shape"
   ]
  },
  {
   "cell_type": "code",
   "execution_count": 126,
   "id": "6535d825-46dc-4cf4-9bfa-226db6fd2591",
   "metadata": {
    "execution": {
     "iopub.execute_input": "2023-09-14T17:33:31.619664Z",
     "iopub.status.busy": "2023-09-14T17:33:31.619591Z",
     "iopub.status.idle": "2023-09-14T17:33:31.624399Z",
     "shell.execute_reply": "2023-09-14T17:33:31.624201Z"
    },
    "papermill": {
     "duration": 0.009631,
     "end_time": "2023-09-14T17:33:31.624918",
     "exception": false,
     "start_time": "2023-09-14T17:33:31.615287",
     "status": "completed"
    },
    "tags": []
   },
   "outputs": [
    {
     "data": {
      "text/html": [
       "<div>\n",
       "<style scoped>\n",
       "    .dataframe tbody tr th:only-of-type {\n",
       "        vertical-align: middle;\n",
       "    }\n",
       "\n",
       "    .dataframe tbody tr th {\n",
       "        vertical-align: top;\n",
       "    }\n",
       "\n",
       "    .dataframe thead th {\n",
       "        text-align: right;\n",
       "    }\n",
       "</style>\n",
       "<table border=\"1\" class=\"dataframe\">\n",
       "  <thead>\n",
       "    <tr style=\"text-align: right;\">\n",
       "      <th></th>\n",
       "      <th></th>\n",
       "      <th>ccc</th>\n",
       "      <th>pearson</th>\n",
       "      <th>spearman</th>\n",
       "    </tr>\n",
       "  </thead>\n",
       "  <tbody>\n",
       "    <tr>\n",
       "      <th>ENSG00000254053.1</th>\n",
       "      <th>ENSG00000278007.1</th>\n",
       "      <td>NaN</td>\n",
       "      <td>NaN</td>\n",
       "      <td>NaN</td>\n",
       "    </tr>\n",
       "    <tr>\n",
       "      <th>ENSG00000196352.14</th>\n",
       "      <th>ENSG00000182054.9</th>\n",
       "      <td>NaN</td>\n",
       "      <td>NaN</td>\n",
       "      <td>NaN</td>\n",
       "    </tr>\n",
       "    <tr>\n",
       "      <th>ENSG00000272870.1</th>\n",
       "      <th>ENSG00000116819.6</th>\n",
       "      <td>0.038725</td>\n",
       "      <td>0.352643</td>\n",
       "      <td>0.340834</td>\n",
       "    </tr>\n",
       "    <tr>\n",
       "      <th>ENSG00000279744.1</th>\n",
       "      <th>ENSG00000159618.15</th>\n",
       "      <td>0.139359</td>\n",
       "      <td>0.374609</td>\n",
       "      <td>0.545365</td>\n",
       "    </tr>\n",
       "    <tr>\n",
       "      <th>ENSG00000188092.14</th>\n",
       "      <th>ENSG00000186204.14</th>\n",
       "      <td>0.035889</td>\n",
       "      <td>0.275522</td>\n",
       "      <td>0.332118</td>\n",
       "    </tr>\n",
       "    <tr>\n",
       "      <th>...</th>\n",
       "      <th>...</th>\n",
       "      <td>...</td>\n",
       "      <td>...</td>\n",
       "      <td>...</td>\n",
       "    </tr>\n",
       "    <tr>\n",
       "      <th>ENSG00000275426.1</th>\n",
       "      <th>ENSG00000175548.8</th>\n",
       "      <td>NaN</td>\n",
       "      <td>NaN</td>\n",
       "      <td>NaN</td>\n",
       "    </tr>\n",
       "    <tr>\n",
       "      <th>ENSG00000250560.2</th>\n",
       "      <th>ENSG00000251747.1</th>\n",
       "      <td>NaN</td>\n",
       "      <td>NaN</td>\n",
       "      <td>NaN</td>\n",
       "    </tr>\n",
       "    <tr>\n",
       "      <th>ENSG00000251998.1</th>\n",
       "      <th>ENSG00000224865.7</th>\n",
       "      <td>0.009948</td>\n",
       "      <td>NaN</td>\n",
       "      <td>NaN</td>\n",
       "    </tr>\n",
       "    <tr>\n",
       "      <th>ENSG00000196604.12</th>\n",
       "      <th>ENSG00000224237.1</th>\n",
       "      <td>NaN</td>\n",
       "      <td>NaN</td>\n",
       "      <td>NaN</td>\n",
       "    </tr>\n",
       "    <tr>\n",
       "      <th>ENSG00000239608.1</th>\n",
       "      <th>ENSG00000182752.9</th>\n",
       "      <td>NaN</td>\n",
       "      <td>NaN</td>\n",
       "      <td>NaN</td>\n",
       "    </tr>\n",
       "  </tbody>\n",
       "</table>\n",
       "<p>1000 rows × 3 columns</p>\n",
       "</div>"
      ],
      "text/plain": [
       "                                            ccc   pearson  spearman\n",
       "ENSG00000254053.1  ENSG00000278007.1        NaN       NaN       NaN\n",
       "ENSG00000196352.14 ENSG00000182054.9        NaN       NaN       NaN\n",
       "ENSG00000272870.1  ENSG00000116819.6   0.038725  0.352643  0.340834\n",
       "ENSG00000279744.1  ENSG00000159618.15  0.139359  0.374609  0.545365\n",
       "ENSG00000188092.14 ENSG00000186204.14  0.035889  0.275522  0.332118\n",
       "...                                         ...       ...       ...\n",
       "ENSG00000275426.1  ENSG00000175548.8        NaN       NaN       NaN\n",
       "ENSG00000250560.2  ENSG00000251747.1        NaN       NaN       NaN\n",
       "ENSG00000251998.1  ENSG00000224865.7   0.009948       NaN       NaN\n",
       "ENSG00000196604.12 ENSG00000224237.1        NaN       NaN       NaN\n",
       "ENSG00000239608.1  ENSG00000182752.9        NaN       NaN       NaN\n",
       "\n",
       "[1000 rows x 3 columns]"
      ]
     },
     "execution_count": 126,
     "metadata": {},
     "output_type": "execute_result"
    }
   ],
   "source": [
    "gene_pair_samples[new_k]"
   ]
  },
  {
   "cell_type": "markdown",
   "id": "c15b6534-bd10-4091-a33d-e924a883cd93",
   "metadata": {
    "papermill": {
     "duration": 0.00383,
     "end_time": "2023-09-14T17:33:31.632761",
     "exception": false,
     "start_time": "2023-09-14T17:33:31.628931",
     "status": "completed"
    },
    "tags": []
   },
   "source": [
    "# Save"
   ]
  },
  {
   "cell_type": "code",
   "execution_count": 127,
   "id": "62d8632e-13e0-4a78-ad30-26770172d21e",
   "metadata": {
    "execution": {
     "iopub.execute_input": "2023-09-14T17:33:31.640993Z",
     "iopub.status.busy": "2023-09-14T17:33:31.640887Z",
     "iopub.status.idle": "2023-09-14T17:33:31.642237Z",
     "shell.execute_reply": "2023-09-14T17:33:31.642105Z"
    },
    "papermill": {
     "duration": 0.006038,
     "end_time": "2023-09-14T17:33:31.642741",
     "exception": false,
     "start_time": "2023-09-14T17:33:31.636703",
     "status": "completed"
    },
    "tags": []
   },
   "outputs": [],
   "source": [
    "output_file = OUTPUT_DIR / \"gene_pair-samples.pkl\""
   ]
  },
  {
   "cell_type": "code",
   "execution_count": 128,
   "id": "bb8e28d4-3adf-4d6a-a94e-81b6763ebd61",
   "metadata": {
    "execution": {
     "iopub.execute_input": "2023-09-14T17:33:31.650958Z",
     "iopub.status.busy": "2023-09-14T17:33:31.650853Z",
     "iopub.status.idle": "2023-09-14T17:33:31.654098Z",
     "shell.execute_reply": "2023-09-14T17:33:31.653741Z"
    },
    "papermill": {
     "duration": 0.008042,
     "end_time": "2023-09-14T17:33:31.654665",
     "exception": false,
     "start_time": "2023-09-14T17:33:31.646623",
     "status": "completed"
    },
    "tags": []
   },
   "outputs": [],
   "source": [
    "pd.to_pickle(gene_pair_samples, output_file)"
   ]
  },
  {
   "cell_type": "code",
   "execution_count": null,
   "id": "46cff789-6c90-42c5-9328-21ee7bd70851",
   "metadata": {
    "papermill": {
     "duration": 0.003794,
     "end_time": "2023-09-14T17:33:31.662319",
     "exception": false,
     "start_time": "2023-09-14T17:33:31.658525",
     "status": "completed"
    },
    "tags": []
   },
   "outputs": [],
   "source": []
  }
 ],
 "metadata": {
  "jupytext": {
   "cell_metadata_filter": "all,-execution,-papermill,-trusted",
   "notebook_metadata_filter": "-jupytext.text_representation.jupytext_version"
  },
  "kernelspec": {
   "display_name": "Python 3 (ipykernel)",
   "language": "python",
   "name": "python3"
  },
  "papermill": {
   "default_parameters": {},
   "duration": 17.008798,
   "end_time": "2023-09-14T17:33:31.980924",
   "environment_variables": {},
   "exception": null,
   "input_path": "nbs/25_pvalue/10-sample_gene_pair_categories.ipynb",
   "output_path": "nbs/25_pvalue/10-sample_gene_pair_categories.run.ipynb",
   "parameters": {},
   "start_time": "2023-09-14T17:33:14.972126",
   "version": "2.3.4"
  }
 },
 "nbformat": 4,
 "nbformat_minor": 5
}
