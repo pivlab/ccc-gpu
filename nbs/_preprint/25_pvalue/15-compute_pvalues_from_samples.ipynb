{
 "cells": [
  {
   "cell_type": "markdown",
   "id": "ec52faa3-656f-483e-9617-d7ec0f7d818c",
   "metadata": {
    "papermill": {
     "duration": 0.002949,
     "end_time": "2025-05-30T06:59:22.166534",
     "exception": false,
     "start_time": "2025-05-30T06:59:22.163585",
     "status": "completed"
    },
    "tags": []
   },
   "source": [
    "# Description"
   ]
  },
  {
   "cell_type": "markdown",
   "id": "51102f42-fcd9-4a58-9c8d-dfcd3d2d464e",
   "metadata": {
    "papermill": {
     "duration": 0.002101,
     "end_time": "2025-05-30T06:59:22.170915",
     "exception": false,
     "start_time": "2025-05-30T06:59:22.168814",
     "status": "completed"
    },
    "tags": []
   },
   "source": [
    "Reads the gene pair samples across different categories and computes their p-values."
   ]
  },
  {
   "cell_type": "markdown",
   "id": "7006ceeb-2651-407d-bfa1-1039727649ef",
   "metadata": {
    "papermill": {
     "duration": 0.002108,
     "end_time": "2025-05-30T06:59:22.175187",
     "exception": false,
     "start_time": "2025-05-30T06:59:22.173079",
     "status": "completed"
    },
    "tags": []
   },
   "source": [
    "# Modules loading"
   ]
  },
  {
   "cell_type": "code",
   "execution_count": 1,
   "id": "1ffa1a96-7545-40b9-ac8b-8627e13de8d4",
   "metadata": {
    "execution": {
     "iopub.execute_input": "2025-05-30T06:59:22.180452Z",
     "iopub.status.busy": "2025-05-30T06:59:22.180160Z",
     "iopub.status.idle": "2025-05-30T06:59:22.983852Z",
     "shell.execute_reply": "2025-05-30T06:59:22.983542Z"
    },
    "papermill": {
     "duration": 0.807839,
     "end_time": "2025-05-30T06:59:22.985245",
     "exception": false,
     "start_time": "2025-05-30T06:59:22.177406",
     "status": "completed"
    },
    "tags": []
   },
   "outputs": [],
   "source": [
    "import numpy as np\n",
    "import matplotlib.pyplot as plt\n",
    "import seaborn as sns\n",
    "from scipy import stats\n",
    "import numpy as np\n",
    "import pandas as pd\n",
    "from concurrent.futures import as_completed, ProcessPoolExecutor\n",
    "from tqdm import tqdm\n",
    "from pathlib import Path\n",
    "\n",
    "from ccc.coef import ccc\n",
    "from ccc import conf"
   ]
  },
  {
   "cell_type": "markdown",
   "id": "0d3cc810-4b17-4213-8f03-6fe7e97a0fe3",
   "metadata": {
    "papermill": {
     "duration": 0.002168,
     "end_time": "2025-05-30T06:59:22.989898",
     "exception": false,
     "start_time": "2025-05-30T06:59:22.987730",
     "status": "completed"
    },
    "tags": []
   },
   "source": [
    "# Settings"
   ]
  },
  {
   "cell_type": "markdown",
   "id": "bfaa99db",
   "metadata": {},
   "source": []
  },
  {
   "cell_type": "code",
   "execution_count": 2,
   "id": "9a154623-c787-4a31-871a-cad173f0eb9f",
   "metadata": {
    "execution": {
     "iopub.execute_input": "2025-05-30T06:59:22.994642Z",
     "iopub.status.busy": "2025-05-30T06:59:22.994570Z",
     "iopub.status.idle": "2025-05-30T06:59:22.996704Z",
     "shell.execute_reply": "2025-05-30T06:59:22.996513Z"
    },
    "papermill": {
     "duration": 0.005148,
     "end_time": "2025-05-30T06:59:22.997195",
     "exception": false,
     "start_time": "2025-05-30T06:59:22.992047",
     "status": "completed"
    },
    "tags": []
   },
   "outputs": [],
   "source": [
    "DATASET_CONFIG = conf.GTEX\n",
    "GTEX_TISSUE = \"whole_blood\"\n",
    "GENE_SEL_STRATEGY = \"var_pc_log2\"\n",
    "\n",
    "PVALUE_N_PERMS = 1000\n",
    "\n",
    "RANDOM_STATE = np.random.RandomState(0)\n",
    "\n",
    "# Configuration constants\n",
    "TOP_N_GENES = \"all\"\n",
    "DATA_DIR = Path(\"/mnt/data/proj_data/ccc-gpu/gene_expr/data/gtex_v8\")\n",
    "GENE_SELECTION_DIR = DATA_DIR / \"gene_selection\" / TOP_N_GENES\n",
    "SIMILARITY_MATRICES_DIR = DATA_DIR / \"similarity_matrices\" / TOP_N_GENES"
   ]
  },
  {
   "cell_type": "markdown",
   "id": "5b09ff83-5377-49a9-b24b-65c6c90277d6",
   "metadata": {
    "papermill": {
     "duration": 0.002103,
     "end_time": "2025-05-30T06:59:23.001484",
     "exception": false,
     "start_time": "2025-05-30T06:59:22.999381",
     "status": "completed"
    },
    "tags": []
   },
   "source": [
    "# Paths"
   ]
  },
  {
   "cell_type": "code",
   "execution_count": 3,
   "id": "c6f73068-fa38-44be-bd0c-708f6ff450ea",
   "metadata": {
    "execution": {
     "iopub.execute_input": "2025-05-30T06:59:23.006181Z",
     "iopub.status.busy": "2025-05-30T06:59:23.006118Z",
     "iopub.status.idle": "2025-05-30T06:59:23.009042Z",
     "shell.execute_reply": "2025-05-30T06:59:23.008857Z"
    },
    "papermill": {
     "duration": 0.006007,
     "end_time": "2025-05-30T06:59:23.009682",
     "exception": false,
     "start_time": "2025-05-30T06:59:23.003675",
     "status": "completed"
    },
    "tags": []
   },
   "outputs": [
    {
     "data": {
      "text/plain": [
       "PosixPath('/mnt/data/proj_data/ccc-gpu/gene_expr/data/gtex_v8/gene_selection/all/gtex_v8_data_whole_blood-var_pc_log2.pkl')"
      ]
     },
     "metadata": {},
     "output_type": "display_data"
    }
   ],
   "source": [
    "INPUT_GENE_EXPR_FILE = (\n",
    "    GENE_SELECTION_DIR / f\"gtex_v8_data_{GTEX_TISSUE}-{GENE_SEL_STRATEGY}.pkl\"\n",
    ")\n",
    "display(INPUT_GENE_EXPR_FILE)\n",
    "\n",
    "assert INPUT_GENE_EXPR_FILE.exists()"
   ]
  },
  {
   "cell_type": "code",
   "execution_count": 4,
   "id": "30cce6f5-ca1b-438c-859d-31903a42d4c6",
   "metadata": {
    "execution": {
     "iopub.execute_input": "2025-05-30T06:59:23.014441Z",
     "iopub.status.busy": "2025-05-30T06:59:23.014381Z",
     "iopub.status.idle": "2025-05-30T06:59:23.016323Z",
     "shell.execute_reply": "2025-05-30T06:59:23.016145Z"
    },
    "papermill": {
     "duration": 0.004948,
     "end_time": "2025-05-30T06:59:23.016875",
     "exception": false,
     "start_time": "2025-05-30T06:59:23.011927",
     "status": "completed"
    },
    "tags": []
   },
   "outputs": [
    {
     "data": {
      "text/plain": [
       "PosixPath('/mnt/data/projs/manuscripts/ccc-gpu/results/gene_pair_intersections-gtex_v8-whole_blood-var_pc_log2.pkl')"
      ]
     },
     "metadata": {},
     "output_type": "display_data"
    }
   ],
   "source": [
    "INPUT_GENE_PAIRS_INTERSECTIONS_FILE = Path(\n",
    "    \"/mnt/data/projs/manuscripts/ccc-gpu/results/gene_pair_intersections-gtex_v8-whole_blood-var_pc_log2.pkl\"\n",
    ")\n",
    "display(INPUT_GENE_PAIRS_INTERSECTIONS_FILE)\n",
    "\n",
    "assert INPUT_GENE_PAIRS_INTERSECTIONS_FILE.exists()"
   ]
  },
  {
   "cell_type": "code",
   "execution_count": 5,
   "id": "0122253c-99c0-41e2-8807-60df86bf0619",
   "metadata": {
    "execution": {
     "iopub.execute_input": "2025-05-30T06:59:23.021990Z",
     "iopub.status.busy": "2025-05-30T06:59:23.021929Z",
     "iopub.status.idle": "2025-05-30T06:59:23.024030Z",
     "shell.execute_reply": "2025-05-30T06:59:23.023850Z"
    },
    "papermill": {
     "duration": 0.00521,
     "end_time": "2025-05-30T06:59:23.024571",
     "exception": false,
     "start_time": "2025-05-30T06:59:23.019361",
     "status": "completed"
    },
    "tags": []
   },
   "outputs": [],
   "source": [
    "OUTPUT_DIR = Path(\"/mnt/data/projs/manuscripts/ccc-gpu/results/\") / \"pvalues\"\n",
    "OUTPUT_DIR.mkdir(parents=True, exist_ok=True)"
   ]
  },
  {
   "cell_type": "code",
   "execution_count": 6,
   "id": "3003ed2c-5da0-43b9-969d-9cf037d05730",
   "metadata": {
    "execution": {
     "iopub.execute_input": "2025-05-30T06:59:23.029445Z",
     "iopub.status.busy": "2025-05-30T06:59:23.029382Z",
     "iopub.status.idle": "2025-05-30T06:59:23.031260Z",
     "shell.execute_reply": "2025-05-30T06:59:23.031088Z"
    },
    "papermill": {
     "duration": 0.004988,
     "end_time": "2025-05-30T06:59:23.031801",
     "exception": false,
     "start_time": "2025-05-30T06:59:23.026813",
     "status": "completed"
    },
    "tags": []
   },
   "outputs": [
    {
     "data": {
      "text/plain": [
       "PosixPath('/mnt/data/projs/manuscripts/ccc-gpu/results/pvalues')"
      ]
     },
     "execution_count": 6,
     "metadata": {},
     "output_type": "execute_result"
    }
   ],
   "source": [
    "OUTPUT_DIR"
   ]
  },
  {
   "cell_type": "markdown",
   "id": "3d014f0c-d442-48ab-add8-ac338ad15b27",
   "metadata": {
    "papermill": {
     "duration": 0.002254,
     "end_time": "2025-05-30T06:59:23.036361",
     "exception": false,
     "start_time": "2025-05-30T06:59:23.034107",
     "status": "completed"
    },
    "tags": []
   },
   "source": [
    "# Load gene expression data"
   ]
  },
  {
   "cell_type": "code",
   "execution_count": 7,
   "id": "6e8ef201-6f98-4fb6-a306-180ed4b467db",
   "metadata": {
    "execution": {
     "iopub.execute_input": "2025-05-30T06:59:23.041566Z",
     "iopub.status.busy": "2025-05-30T06:59:23.041506Z",
     "iopub.status.idle": "2025-05-30T06:59:23.328632Z",
     "shell.execute_reply": "2025-05-30T06:59:23.328296Z"
    },
    "papermill": {
     "duration": 0.290933,
     "end_time": "2025-05-30T06:59:23.329613",
     "exception": false,
     "start_time": "2025-05-30T06:59:23.038680",
     "status": "completed"
    },
    "tags": []
   },
   "outputs": [],
   "source": [
    "data = pd.read_pickle(INPUT_GENE_EXPR_FILE).sort_index()"
   ]
  },
  {
   "cell_type": "code",
   "execution_count": 8,
   "id": "4d18e93e-b394-46bd-8d16-d9261a85ba06",
   "metadata": {
    "execution": {
     "iopub.execute_input": "2025-05-30T06:59:23.335023Z",
     "iopub.status.busy": "2025-05-30T06:59:23.334951Z",
     "iopub.status.idle": "2025-05-30T06:59:23.336986Z",
     "shell.execute_reply": "2025-05-30T06:59:23.336813Z"
    },
    "papermill": {
     "duration": 0.00527,
     "end_time": "2025-05-30T06:59:23.337486",
     "exception": false,
     "start_time": "2025-05-30T06:59:23.332216",
     "status": "completed"
    },
    "tags": []
   },
   "outputs": [
    {
     "data": {
      "text/plain": [
       "(56200, 755)"
      ]
     },
     "execution_count": 8,
     "metadata": {},
     "output_type": "execute_result"
    }
   ],
   "source": [
    "data.shape"
   ]
  },
  {
   "cell_type": "markdown",
   "id": "5414e2d4-b4c5-48d9-9dd4-d9ff1585f341",
   "metadata": {
    "papermill": {
     "duration": 0.002256,
     "end_time": "2025-05-30T06:59:23.342101",
     "exception": false,
     "start_time": "2025-05-30T06:59:23.339845",
     "status": "completed"
    },
    "tags": []
   },
   "source": [
    "# Load gene pairs samples"
   ]
  },
  {
   "cell_type": "code",
   "execution_count": 9,
   "id": "178a09a8-1a2e-425a-8a52-773f41c72633",
   "metadata": {
    "execution": {
     "iopub.execute_input": "2025-05-30T06:59:23.347519Z",
     "iopub.status.busy": "2025-05-30T06:59:23.347354Z",
     "iopub.status.idle": "2025-05-30T06:59:23.348959Z",
     "shell.execute_reply": "2025-05-30T06:59:23.348759Z"
    },
    "papermill": {
     "duration": 0.004978,
     "end_time": "2025-05-30T06:59:23.349431",
     "exception": false,
     "start_time": "2025-05-30T06:59:23.344453",
     "status": "completed"
    },
    "tags": []
   },
   "outputs": [],
   "source": [
    "output_file = OUTPUT_DIR / \"gene_pair-samples.pkl\""
   ]
  },
  {
   "cell_type": "code",
   "execution_count": 10,
   "id": "c42a9f4c-3672-4ab0-b9ff-c214eb40cd2f",
   "metadata": {
    "execution": {
     "iopub.execute_input": "2025-05-30T06:59:23.354385Z",
     "iopub.status.busy": "2025-05-30T06:59:23.354322Z",
     "iopub.status.idle": "2025-05-30T06:59:23.366464Z",
     "shell.execute_reply": "2025-05-30T06:59:23.366252Z"
    },
    "papermill": {
     "duration": 0.015264,
     "end_time": "2025-05-30T06:59:23.367021",
     "exception": false,
     "start_time": "2025-05-30T06:59:23.351757",
     "status": "completed"
    },
    "tags": []
   },
   "outputs": [],
   "source": [
    "gene_pair_samples = pd.read_pickle(output_file)"
   ]
  },
  {
   "cell_type": "code",
   "execution_count": 11,
   "id": "1724d63c-19eb-49a8-83fc-6c8b07585e98",
   "metadata": {
    "execution": {
     "iopub.execute_input": "2025-05-30T06:59:23.371954Z",
     "iopub.status.busy": "2025-05-30T06:59:23.371892Z",
     "iopub.status.idle": "2025-05-30T06:59:23.373738Z",
     "shell.execute_reply": "2025-05-30T06:59:23.373532Z"
    },
    "papermill": {
     "duration": 0.004882,
     "end_time": "2025-05-30T06:59:23.374243",
     "exception": false,
     "start_time": "2025-05-30T06:59:23.369361",
     "status": "completed"
    },
    "tags": []
   },
   "outputs": [
    {
     "data": {
      "text/plain": [
       "34"
      ]
     },
     "execution_count": 11,
     "metadata": {},
     "output_type": "execute_result"
    }
   ],
   "source": [
    "len(gene_pair_samples)"
   ]
  },
  {
   "cell_type": "code",
   "execution_count": 12,
   "id": "99f5098f-aa01-471b-a6a2-5aabc332176b",
   "metadata": {
    "execution": {
     "iopub.execute_input": "2025-05-30T06:59:23.379262Z",
     "iopub.status.busy": "2025-05-30T06:59:23.379199Z",
     "iopub.status.idle": "2025-05-30T06:59:23.381083Z",
     "shell.execute_reply": "2025-05-30T06:59:23.380911Z"
    },
    "papermill": {
     "duration": 0.004935,
     "end_time": "2025-05-30T06:59:23.381578",
     "exception": false,
     "start_time": "2025-05-30T06:59:23.376643",
     "status": "completed"
    },
    "tags": []
   },
   "outputs": [
    {
     "data": {
      "text/plain": [
       "['all_high-random',\n",
       " 'all_high-top_ccc',\n",
       " 'all_high-top_pearson',\n",
       " 'all_high-top_spearman',\n",
       " 'all_low-random',\n",
       " 'all_low-top_ccc',\n",
       " 'all_low-top_pearson',\n",
       " 'all_low-top_spearman',\n",
       " 'ccc_high_and_pearson_low-random',\n",
       " 'ccc_high_and_pearson_low-top_ccc',\n",
       " 'ccc_high_and_pearson_low-top_pearson',\n",
       " 'ccc_high_and_pearson_low-top_spearman',\n",
       " 'ccc_high_and_spearman_low-random',\n",
       " 'ccc_high_and_spearman_low-top_ccc',\n",
       " 'ccc_high_and_spearman_low-top_pearson',\n",
       " 'ccc_high_and_spearman_low-top_spearman',\n",
       " 'ccc_high_and_spearman_pearson_low-random',\n",
       " 'ccc_high_and_spearman_pearson_low-top_ccc',\n",
       " 'ccc_high_and_spearman_pearson_low-top_pearson',\n",
       " 'ccc_high_and_spearman_pearson_low-top_spearman',\n",
       " 'ccc_spearman_high_and_pearson_low-random',\n",
       " 'ccc_spearman_high_and_pearson_low-top_ccc',\n",
       " 'ccc_spearman_high_and_pearson_low-top_pearson',\n",
       " 'ccc_spearman_high_and_pearson_low-top_spearman',\n",
       " 'entire_dataset-random',\n",
       " 'pearson_high_and_ccc_low-random',\n",
       " 'pearson_high_and_ccc_low-top_ccc',\n",
       " 'pearson_high_and_ccc_low-top_pearson',\n",
       " 'pearson_high_and_ccc_low-top_spearman',\n",
       " 'pearson_high_and_ccc_spearman_low-random',\n",
       " 'pearson_high_and_ccc_spearman_low-top_ccc',\n",
       " 'pearson_high_and_ccc_spearman_low-top_pearson',\n",
       " 'pearson_high_and_ccc_spearman_low-top_spearman',\n",
       " 'selected_in_manuscript']"
      ]
     },
     "execution_count": 12,
     "metadata": {},
     "output_type": "execute_result"
    }
   ],
   "source": [
    "sorted(gene_pair_samples.keys())"
   ]
  },
  {
   "cell_type": "code",
   "execution_count": 13,
   "id": "c60378f6-3f87-49d4-8b86-cf3ec30fc545",
   "metadata": {
    "execution": {
     "iopub.execute_input": "2025-05-30T06:59:23.386953Z",
     "iopub.status.busy": "2025-05-30T06:59:23.386730Z",
     "iopub.status.idle": "2025-05-30T06:59:23.392942Z",
     "shell.execute_reply": "2025-05-30T06:59:23.392761Z"
    },
    "papermill": {
     "duration": 0.009508,
     "end_time": "2025-05-30T06:59:23.393509",
     "exception": false,
     "start_time": "2025-05-30T06:59:23.384001",
     "status": "completed"
    },
    "tags": []
   },
   "outputs": [
    {
     "data": {
      "text/html": [
       "<div>\n",
       "<style scoped>\n",
       "    .dataframe tbody tr th:only-of-type {\n",
       "        vertical-align: middle;\n",
       "    }\n",
       "\n",
       "    .dataframe tbody tr th {\n",
       "        vertical-align: top;\n",
       "    }\n",
       "\n",
       "    .dataframe thead th {\n",
       "        text-align: right;\n",
       "    }\n",
       "</style>\n",
       "<table border=\"1\" class=\"dataframe\">\n",
       "  <thead>\n",
       "    <tr style=\"text-align: right;\">\n",
       "      <th></th>\n",
       "      <th></th>\n",
       "      <th>Pearson (high)</th>\n",
       "      <th>Pearson (low)</th>\n",
       "      <th>Spearman (high)</th>\n",
       "      <th>Spearman (low)</th>\n",
       "      <th>CCC (high)</th>\n",
       "      <th>CCC (low)</th>\n",
       "      <th>ccc</th>\n",
       "      <th>pearson</th>\n",
       "      <th>spearman</th>\n",
       "    </tr>\n",
       "  </thead>\n",
       "  <tbody>\n",
       "    <tr>\n",
       "      <th rowspan=\"2\" valign=\"top\">ENSG00000255945.1</th>\n",
       "      <th>ENSG00000232604.1</th>\n",
       "      <td>True</td>\n",
       "      <td>False</td>\n",
       "      <td>True</td>\n",
       "      <td>False</td>\n",
       "      <td>True</td>\n",
       "      <td>False</td>\n",
       "      <td>1.0</td>\n",
       "      <td>1.0</td>\n",
       "      <td>1.0</td>\n",
       "    </tr>\n",
       "    <tr>\n",
       "      <th>ENSG00000257296.1</th>\n",
       "      <td>True</td>\n",
       "      <td>False</td>\n",
       "      <td>True</td>\n",
       "      <td>False</td>\n",
       "      <td>True</td>\n",
       "      <td>False</td>\n",
       "      <td>1.0</td>\n",
       "      <td>1.0</td>\n",
       "      <td>1.0</td>\n",
       "    </tr>\n",
       "    <tr>\n",
       "      <th>ENSG00000256281.1</th>\n",
       "      <th>ENSG00000267687.1</th>\n",
       "      <td>True</td>\n",
       "      <td>False</td>\n",
       "      <td>True</td>\n",
       "      <td>False</td>\n",
       "      <td>True</td>\n",
       "      <td>False</td>\n",
       "      <td>1.0</td>\n",
       "      <td>1.0</td>\n",
       "      <td>1.0</td>\n",
       "    </tr>\n",
       "    <tr>\n",
       "      <th>ENSG00000284356.1</th>\n",
       "      <th>ENSG00000248928.1</th>\n",
       "      <td>True</td>\n",
       "      <td>False</td>\n",
       "      <td>True</td>\n",
       "      <td>False</td>\n",
       "      <td>True</td>\n",
       "      <td>False</td>\n",
       "      <td>1.0</td>\n",
       "      <td>1.0</td>\n",
       "      <td>1.0</td>\n",
       "    </tr>\n",
       "    <tr>\n",
       "      <th>ENSG00000283680.1</th>\n",
       "      <th>ENSG00000278497.1</th>\n",
       "      <td>True</td>\n",
       "      <td>False</td>\n",
       "      <td>True</td>\n",
       "      <td>False</td>\n",
       "      <td>True</td>\n",
       "      <td>False</td>\n",
       "      <td>1.0</td>\n",
       "      <td>1.0</td>\n",
       "      <td>1.0</td>\n",
       "    </tr>\n",
       "  </tbody>\n",
       "</table>\n",
       "</div>"
      ],
      "text/plain": [
       "                                     Pearson (high)  Pearson (low)  \\\n",
       "ENSG00000255945.1 ENSG00000232604.1            True          False   \n",
       "                  ENSG00000257296.1            True          False   \n",
       "ENSG00000256281.1 ENSG00000267687.1            True          False   \n",
       "ENSG00000284356.1 ENSG00000248928.1            True          False   \n",
       "ENSG00000283680.1 ENSG00000278497.1            True          False   \n",
       "\n",
       "                                     Spearman (high)  Spearman (low)  \\\n",
       "ENSG00000255945.1 ENSG00000232604.1             True           False   \n",
       "                  ENSG00000257296.1             True           False   \n",
       "ENSG00000256281.1 ENSG00000267687.1             True           False   \n",
       "ENSG00000284356.1 ENSG00000248928.1             True           False   \n",
       "ENSG00000283680.1 ENSG00000278497.1             True           False   \n",
       "\n",
       "                                     CCC (high)  CCC (low)  ccc  pearson  \\\n",
       "ENSG00000255945.1 ENSG00000232604.1        True      False  1.0      1.0   \n",
       "                  ENSG00000257296.1        True      False  1.0      1.0   \n",
       "ENSG00000256281.1 ENSG00000267687.1        True      False  1.0      1.0   \n",
       "ENSG00000284356.1 ENSG00000248928.1        True      False  1.0      1.0   \n",
       "ENSG00000283680.1 ENSG00000278497.1        True      False  1.0      1.0   \n",
       "\n",
       "                                     spearman  \n",
       "ENSG00000255945.1 ENSG00000232604.1       1.0  \n",
       "                  ENSG00000257296.1       1.0  \n",
       "ENSG00000256281.1 ENSG00000267687.1       1.0  \n",
       "ENSG00000284356.1 ENSG00000248928.1       1.0  \n",
       "ENSG00000283680.1 ENSG00000278497.1       1.0  "
      ]
     },
     "execution_count": 13,
     "metadata": {},
     "output_type": "execute_result"
    }
   ],
   "source": [
    "_k = list(gene_pair_samples.keys())[0]\n",
    "gene_pair_samples[_k].head()"
   ]
  },
  {
   "cell_type": "code",
   "execution_count": 14,
   "id": "6ccae66e-e276-43c3-809c-512aa0fe795b",
   "metadata": {
    "execution": {
     "iopub.execute_input": "2025-05-30T06:59:23.399096Z",
     "iopub.status.busy": "2025-05-30T06:59:23.398809Z",
     "iopub.status.idle": "2025-05-30T06:59:23.401119Z",
     "shell.execute_reply": "2025-05-30T06:59:23.400945Z"
    },
    "papermill": {
     "duration": 0.005547,
     "end_time": "2025-05-30T06:59:23.401618",
     "exception": false,
     "start_time": "2025-05-30T06:59:23.396071",
     "status": "completed"
    },
    "tags": []
   },
   "outputs": [
    {
     "data": {
      "text/plain": [
       "[('ENSG00000255945.1', 'ENSG00000232604.1'),\n",
       " ('ENSG00000255945.1', 'ENSG00000257296.1'),\n",
       " ('ENSG00000256281.1', 'ENSG00000267687.1'),\n",
       " ('ENSG00000284356.1', 'ENSG00000248928.1'),\n",
       " ('ENSG00000283680.1', 'ENSG00000278497.1'),\n",
       " ('ENSG00000255555.1', 'ENSG00000230840.1'),\n",
       " ('ENSG00000278988.1', 'ENSG00000219666.2'),\n",
       " ('ENSG00000202160.1', 'ENSG00000252554.1'),\n",
       " ('ENSG00000202160.1', 'ENSG00000263967.1'),\n",
       " ('ENSG00000280580.1', 'ENSG00000278381.1')]"
      ]
     },
     "execution_count": 14,
     "metadata": {},
     "output_type": "execute_result"
    }
   ],
   "source": [
    "[i for i in gene_pair_samples[_k].head(10).index]"
   ]
  },
  {
   "cell_type": "markdown",
   "id": "6402879c-e9a0-414b-b60b-9e4ed1e9e99e",
   "metadata": {
    "papermill": {
     "duration": 0.00244,
     "end_time": "2025-05-30T06:59:23.406610",
     "exception": false,
     "start_time": "2025-05-30T06:59:23.404170",
     "status": "completed"
    },
    "tags": []
   },
   "source": [
    "# Compute pvalues on sampled gene pairs"
   ]
  },
  {
   "cell_type": "code",
   "execution_count": 15,
   "id": "62d8632e-13e0-4a78-ad30-26770172d21e",
   "metadata": {
    "execution": {
     "iopub.execute_input": "2025-05-30T06:59:23.412153Z",
     "iopub.status.busy": "2025-05-30T06:59:23.412009Z",
     "iopub.status.idle": "2025-05-30T06:59:23.413801Z",
     "shell.execute_reply": "2025-05-30T06:59:23.413621Z"
    },
    "papermill": {
     "duration": 0.005094,
     "end_time": "2025-05-30T06:59:23.414280",
     "exception": false,
     "start_time": "2025-05-30T06:59:23.409186",
     "status": "completed"
    },
    "tags": []
   },
   "outputs": [],
   "source": [
    "output_file = OUTPUT_DIR / \"gene_pair-samples-pvalues.pkl\""
   ]
  },
  {
   "cell_type": "code",
   "execution_count": 16,
   "id": "c8a85ce0-4c5a-4ed9-8ad6-24b21fb10b1e",
   "metadata": {
    "execution": {
     "iopub.execute_input": "2025-05-30T06:59:23.420029Z",
     "iopub.status.busy": "2025-05-30T06:59:23.419862Z",
     "iopub.status.idle": "2025-05-30T06:59:23.422085Z",
     "shell.execute_reply": "2025-05-30T06:59:23.421906Z"
    },
    "papermill": {
     "duration": 0.005693,
     "end_time": "2025-05-30T06:59:23.422570",
     "exception": false,
     "start_time": "2025-05-30T06:59:23.416877",
     "status": "completed"
    },
    "tags": []
   },
   "outputs": [],
   "source": [
    "def corr_single(x, y):\n",
    "    ccc_val, ccc_pval = ccc(x, y, pvalue_n_perms=PVALUE_N_PERMS, n_jobs=12)\n",
    "    p_val, p_pval = stats.pearsonr(x, y)\n",
    "    s_val, s_pval = stats.spearmanr(x, y)\n",
    "\n",
    "    return ccc_val, ccc_pval, p_val, p_pval, s_val, s_pval"
   ]
  },
  {
   "cell_type": "code",
   "execution_count": null,
   "id": "d9838801-1f01-4316-8e29-ffedbdc2a67a",
   "metadata": {
    "execution": {
     "iopub.execute_input": "2025-05-30T06:59:23.428643Z",
     "iopub.status.busy": "2025-05-30T06:59:23.428521Z",
     "iopub.status.idle": "2025-05-30T07:36:15.365405Z",
     "shell.execute_reply": "2025-05-30T07:36:15.365095Z"
    },
    "papermill": {
     "duration": 2211.941514,
     "end_time": "2025-05-30T07:36:15.366668",
     "exception": false,
     "start_time": "2025-05-30T06:59:23.425154",
     "status": "completed"
    },
    "tags": []
   },
   "outputs": [],
   "source": [
    "results = []\n",
    "\n",
    "# I leave the ProcessPoolExecutor here in case I want to easily swith between\n",
    "# parallelize across gene pairs (max_workers=conf.GENERAL[\"N_JOBS\"] and n_jobs=1 inside function corr_single)\n",
    "# or across permutations for one gene pair (max_workers=1 and n_jobs=conf.GENERAL[\"N_JOBS\"])\n",
    "with ProcessPoolExecutor(max_workers=conf.GENERAL[\"N_JOBS\"]) as executor:\n",
    "    tasks = {\n",
    "        executor.submit(corr_single, data.loc[gene0], data.loc[gene1]): (\n",
    "            gene0,\n",
    "            gene1,\n",
    "            k,\n",
    "        )\n",
    "        for k, v in gene_pair_samples.items()\n",
    "        for gene0, gene1 in gene_pair_samples[k].index\n",
    "    }\n",
    "\n",
    "    for t_idx, t in tqdm(enumerate(as_completed(tasks)), total=len(tasks), ncols=100):\n",
    "        gene0, gene1, k = tasks[t]\n",
    "        ccc_val, ccc_pval, p_val, p_pval, s_val, s_pval = t.result()\n",
    "\n",
    "        results.append(\n",
    "            {\n",
    "                \"gene0\": gene0,\n",
    "                \"gene1\": gene1,\n",
    "                \"group\": k,\n",
    "                \"ccc\": ccc_val,\n",
    "                \"ccc_pvalue\": ccc_pval,\n",
    "                \"pearson\": p_val,\n",
    "                \"pearson_pvalue\": p_pval,\n",
    "                \"spearman\": s_val,\n",
    "                \"spearman_pvalue\": s_pval,\n",
    "            }\n",
    "        )\n",
    "\n",
    "        # save\n",
    "        _df = pd.DataFrame(results)\n",
    "        _df[\"group\"] = _df[\"group\"].astype(\"category\")\n",
    "        _df.to_pickle(output_file)"
   ]
  },
  {
   "cell_type": "code",
   "execution_count": 18,
   "id": "6f32ad1a-3b2f-4e08-8a53-35cfb68e3970",
   "metadata": {
    "execution": {
     "iopub.execute_input": "2025-05-30T07:36:26.078775Z",
     "iopub.status.busy": "2025-05-30T07:36:26.078657Z",
     "iopub.status.idle": "2025-05-30T07:36:26.080953Z",
     "shell.execute_reply": "2025-05-30T07:36:26.080776Z"
    },
    "papermill": {
     "duration": 5.318654,
     "end_time": "2025-05-30T07:36:26.081640",
     "exception": false,
     "start_time": "2025-05-30T07:36:20.762986",
     "status": "completed"
    },
    "tags": []
   },
   "outputs": [
    {
     "data": {
      "text/plain": [
       "17008"
      ]
     },
     "execution_count": 18,
     "metadata": {},
     "output_type": "execute_result"
    }
   ],
   "source": [
    "len(results)"
   ]
  },
  {
   "cell_type": "code",
   "execution_count": 19,
   "id": "e68a65a5-8bba-4a79-a740-26d722dc670e",
   "metadata": {
    "execution": {
     "iopub.execute_input": "2025-05-30T07:36:36.784246Z",
     "iopub.status.busy": "2025-05-30T07:36:36.784053Z",
     "iopub.status.idle": "2025-05-30T07:36:36.800413Z",
     "shell.execute_reply": "2025-05-30T07:36:36.800197Z"
    },
    "papermill": {
     "duration": 5.313749,
     "end_time": "2025-05-30T07:36:36.801457",
     "exception": false,
     "start_time": "2025-05-30T07:36:31.487708",
     "status": "completed"
    },
    "tags": []
   },
   "outputs": [],
   "source": [
    "results_df = pd.DataFrame(results)\n",
    "results_df[\"group\"] = results_df[\"group\"].astype(\"category\")"
   ]
  },
  {
   "cell_type": "code",
   "execution_count": 20,
   "id": "9514ebb1-f1c1-46d9-96b6-a2264e3a6b4b",
   "metadata": {
    "execution": {
     "iopub.execute_input": "2025-05-30T07:36:47.446947Z",
     "iopub.status.busy": "2025-05-30T07:36:47.446837Z",
     "iopub.status.idle": "2025-05-30T07:36:47.449054Z",
     "shell.execute_reply": "2025-05-30T07:36:47.448882Z"
    },
    "papermill": {
     "duration": 5.318939,
     "end_time": "2025-05-30T07:36:47.449956",
     "exception": false,
     "start_time": "2025-05-30T07:36:42.131017",
     "status": "completed"
    },
    "tags": []
   },
   "outputs": [
    {
     "data": {
      "text/plain": [
       "(17008, 9)"
      ]
     },
     "execution_count": 20,
     "metadata": {},
     "output_type": "execute_result"
    }
   ],
   "source": [
    "results_df.shape"
   ]
  },
  {
   "cell_type": "code",
   "execution_count": 21,
   "id": "6110dd19-95e0-4400-847a-424a498fa63d",
   "metadata": {
    "execution": {
     "iopub.execute_input": "2025-05-30T07:36:58.186876Z",
     "iopub.status.busy": "2025-05-30T07:36:58.186762Z",
     "iopub.status.idle": "2025-05-30T07:36:58.192275Z",
     "shell.execute_reply": "2025-05-30T07:36:58.192093Z"
    },
    "papermill": {
     "duration": 5.357881,
     "end_time": "2025-05-30T07:36:58.193366",
     "exception": false,
     "start_time": "2025-05-30T07:36:52.835485",
     "status": "completed"
    },
    "tags": []
   },
   "outputs": [
    {
     "data": {
      "text/html": [
       "<div>\n",
       "<style scoped>\n",
       "    .dataframe tbody tr th:only-of-type {\n",
       "        vertical-align: middle;\n",
       "    }\n",
       "\n",
       "    .dataframe tbody tr th {\n",
       "        vertical-align: top;\n",
       "    }\n",
       "\n",
       "    .dataframe thead th {\n",
       "        text-align: right;\n",
       "    }\n",
       "</style>\n",
       "<table border=\"1\" class=\"dataframe\">\n",
       "  <thead>\n",
       "    <tr style=\"text-align: right;\">\n",
       "      <th></th>\n",
       "      <th>gene0</th>\n",
       "      <th>gene1</th>\n",
       "      <th>group</th>\n",
       "      <th>ccc</th>\n",
       "      <th>ccc_pvalue</th>\n",
       "      <th>pearson</th>\n",
       "      <th>pearson_pvalue</th>\n",
       "      <th>spearman</th>\n",
       "      <th>spearman_pvalue</th>\n",
       "    </tr>\n",
       "  </thead>\n",
       "  <tbody>\n",
       "    <tr>\n",
       "      <th>0</th>\n",
       "      <td>ENSG00000255555.1</td>\n",
       "      <td>ENSG00000230840.1</td>\n",
       "      <td>all_high-top_ccc</td>\n",
       "      <td>1.0</td>\n",
       "      <td>0.001998</td>\n",
       "      <td>1.0</td>\n",
       "      <td>0.0</td>\n",
       "      <td>1.0</td>\n",
       "      <td>0.0</td>\n",
       "    </tr>\n",
       "    <tr>\n",
       "      <th>1</th>\n",
       "      <td>ENSG00000255945.1</td>\n",
       "      <td>ENSG00000257296.1</td>\n",
       "      <td>all_high-top_ccc</td>\n",
       "      <td>1.0</td>\n",
       "      <td>0.003996</td>\n",
       "      <td>1.0</td>\n",
       "      <td>0.0</td>\n",
       "      <td>1.0</td>\n",
       "      <td>0.0</td>\n",
       "    </tr>\n",
       "    <tr>\n",
       "      <th>2</th>\n",
       "      <td>ENSG00000284356.1</td>\n",
       "      <td>ENSG00000248928.1</td>\n",
       "      <td>all_high-top_ccc</td>\n",
       "      <td>1.0</td>\n",
       "      <td>0.003996</td>\n",
       "      <td>1.0</td>\n",
       "      <td>0.0</td>\n",
       "      <td>1.0</td>\n",
       "      <td>0.0</td>\n",
       "    </tr>\n",
       "    <tr>\n",
       "      <th>3</th>\n",
       "      <td>ENSG00000256281.1</td>\n",
       "      <td>ENSG00000267687.1</td>\n",
       "      <td>all_high-top_ccc</td>\n",
       "      <td>1.0</td>\n",
       "      <td>0.000999</td>\n",
       "      <td>1.0</td>\n",
       "      <td>0.0</td>\n",
       "      <td>1.0</td>\n",
       "      <td>0.0</td>\n",
       "    </tr>\n",
       "    <tr>\n",
       "      <th>4</th>\n",
       "      <td>ENSG00000255945.1</td>\n",
       "      <td>ENSG00000232604.1</td>\n",
       "      <td>all_high-top_ccc</td>\n",
       "      <td>1.0</td>\n",
       "      <td>0.002997</td>\n",
       "      <td>1.0</td>\n",
       "      <td>0.0</td>\n",
       "      <td>1.0</td>\n",
       "      <td>0.0</td>\n",
       "    </tr>\n",
       "  </tbody>\n",
       "</table>\n",
       "</div>"
      ],
      "text/plain": [
       "               gene0              gene1             group  ccc  ccc_pvalue  \\\n",
       "0  ENSG00000255555.1  ENSG00000230840.1  all_high-top_ccc  1.0    0.001998   \n",
       "1  ENSG00000255945.1  ENSG00000257296.1  all_high-top_ccc  1.0    0.003996   \n",
       "2  ENSG00000284356.1  ENSG00000248928.1  all_high-top_ccc  1.0    0.003996   \n",
       "3  ENSG00000256281.1  ENSG00000267687.1  all_high-top_ccc  1.0    0.000999   \n",
       "4  ENSG00000255945.1  ENSG00000232604.1  all_high-top_ccc  1.0    0.002997   \n",
       "\n",
       "   pearson  pearson_pvalue  spearman  spearman_pvalue  \n",
       "0      1.0             0.0       1.0              0.0  \n",
       "1      1.0             0.0       1.0              0.0  \n",
       "2      1.0             0.0       1.0              0.0  \n",
       "3      1.0             0.0       1.0              0.0  \n",
       "4      1.0             0.0       1.0              0.0  "
      ]
     },
     "execution_count": 21,
     "metadata": {},
     "output_type": "execute_result"
    }
   ],
   "source": [
    "results_df.head()"
   ]
  },
  {
   "cell_type": "markdown",
   "id": "c15b6534-bd10-4091-a33d-e924a883cd93",
   "metadata": {
    "papermill": {
     "duration": 5.266667,
     "end_time": "2025-05-30T07:37:08.727060",
     "exception": false,
     "start_time": "2025-05-30T07:37:03.460393",
     "status": "completed"
    },
    "tags": []
   },
   "source": [
    "# Remove duplicated gene pairs"
   ]
  },
  {
   "cell_type": "markdown",
   "id": "ce70fca7-1f97-4362-a165-04b228576624",
   "metadata": {
    "papermill": {
     "duration": 5.319487,
     "end_time": "2025-05-30T07:37:19.331696",
     "exception": false,
     "start_time": "2025-05-30T07:37:14.012209",
     "status": "completed"
    },
    "tags": []
   },
   "source": [
    "This could happen when gene pairs overlap and are the top of different coefficients."
   ]
  },
  {
   "cell_type": "code",
   "execution_count": 22,
   "id": "bc3b8e5a-2685-4c9c-a1ca-3602cb0fba10",
   "metadata": {
    "execution": {
     "iopub.execute_input": "2025-05-30T07:37:29.524296Z",
     "iopub.status.busy": "2025-05-30T07:37:29.524169Z",
     "iopub.status.idle": "2025-05-30T07:37:29.526061Z",
     "shell.execute_reply": "2025-05-30T07:37:29.525858Z"
    },
    "papermill": {
     "duration": 5.040143,
     "end_time": "2025-05-30T07:37:29.526576",
     "exception": false,
     "start_time": "2025-05-30T07:37:24.486433",
     "status": "completed"
    },
    "tags": []
   },
   "outputs": [],
   "source": [
    "# results_df = results_df.drop_duplicates(subset=[\"gene0\", \"gene1\"])"
   ]
  },
  {
   "cell_type": "code",
   "execution_count": 23,
   "id": "6c64c47e-4d99-4a42-8ea7-9ec3c412d12e",
   "metadata": {
    "execution": {
     "iopub.execute_input": "2025-05-30T07:37:39.982406Z",
     "iopub.status.busy": "2025-05-30T07:37:39.982294Z",
     "iopub.status.idle": "2025-05-30T07:37:39.984599Z",
     "shell.execute_reply": "2025-05-30T07:37:39.984340Z"
    },
    "papermill": {
     "duration": 5.275349,
     "end_time": "2025-05-30T07:37:39.985126",
     "exception": false,
     "start_time": "2025-05-30T07:37:34.709777",
     "status": "completed"
    },
    "tags": []
   },
   "outputs": [],
   "source": [
    "# results.shape"
   ]
  },
  {
   "cell_type": "markdown",
   "id": "b5a5bb97-00c2-4228-9f3d-77920fe679db",
   "metadata": {
    "papermill": {
     "duration": 5.252375,
     "end_time": "2025-05-30T07:37:50.470148",
     "exception": false,
     "start_time": "2025-05-30T07:37:45.217773",
     "status": "completed"
    },
    "tags": []
   },
   "source": [
    "# Save"
   ]
  },
  {
   "cell_type": "code",
   "execution_count": 24,
   "id": "bb8e28d4-3adf-4d6a-a94e-81b6763ebd61",
   "metadata": {
    "execution": {
     "iopub.execute_input": "2025-05-30T07:38:00.987861Z",
     "iopub.status.busy": "2025-05-30T07:38:00.987694Z",
     "iopub.status.idle": "2025-05-30T07:38:00.992603Z",
     "shell.execute_reply": "2025-05-30T07:38:00.992406Z"
    },
    "papermill": {
     "duration": 5.252403,
     "end_time": "2025-05-30T07:38:00.993291",
     "exception": false,
     "start_time": "2025-05-30T07:37:55.740888",
     "status": "completed"
    },
    "tags": []
   },
   "outputs": [],
   "source": [
    "results_df.to_pickle(output_file)"
   ]
  },
  {
   "cell_type": "code",
   "execution_count": null,
   "id": "46cff789-6c90-42c5-9328-21ee7bd70851",
   "metadata": {
    "papermill": {
     "duration": 5.282072,
     "end_time": "2025-05-30T07:38:11.539748",
     "exception": false,
     "start_time": "2025-05-30T07:38:06.257676",
     "status": "completed"
    },
    "tags": []
   },
   "outputs": [],
   "source": []
  }
 ],
 "metadata": {
  "jupytext": {
   "cell_metadata_filter": "all,-execution,-papermill,-trusted",
   "notebook_metadata_filter": "-jupytext.text_representation.jupytext_version"
  },
  "kernelspec": {
   "display_name": "Python 3 (ipykernel)",
   "language": "python",
   "name": "python3"
  },
  "papermill": {
   "default_parameters": {},
   "duration": 2335.885544,
   "end_time": "2025-05-30T07:38:17.423770",
   "environment_variables": {},
   "exception": null,
   "input_path": "15-compute_pvalues_from_samples.ipynb",
   "output_path": "15-compute_pvalues_from_samples.run.ipynb",
   "parameters": {},
   "start_time": "2025-05-30T06:59:21.538226",
   "version": "2.3.4"
  }
 },
 "nbformat": 4,
 "nbformat_minor": 5
}
