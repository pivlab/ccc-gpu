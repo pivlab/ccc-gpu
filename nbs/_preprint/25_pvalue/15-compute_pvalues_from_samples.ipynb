{
 "cells": [
  {
   "cell_type": "markdown",
   "id": "ec52faa3-656f-483e-9617-d7ec0f7d818c",
   "metadata": {
    "papermill": {
     "duration": 0.002863,
     "end_time": "2025-06-02T03:46:25.257371",
     "exception": false,
     "start_time": "2025-06-02T03:46:25.254508",
     "status": "completed"
    },
    "tags": []
   },
   "source": [
    "# Description"
   ]
  },
  {
   "cell_type": "markdown",
   "id": "51102f42-fcd9-4a58-9c8d-dfcd3d2d464e",
   "metadata": {
    "papermill": {
     "duration": 0.002233,
     "end_time": "2025-06-02T03:46:25.261932",
     "exception": false,
     "start_time": "2025-06-02T03:46:25.259699",
     "status": "completed"
    },
    "tags": []
   },
   "source": [
    "Reads the gene pair samples across different categories and computes their p-values."
   ]
  },
  {
   "cell_type": "markdown",
   "id": "7006ceeb-2651-407d-bfa1-1039727649ef",
   "metadata": {
    "papermill": {
     "duration": 0.002144,
     "end_time": "2025-06-02T03:46:25.266307",
     "exception": false,
     "start_time": "2025-06-02T03:46:25.264163",
     "status": "completed"
    },
    "tags": []
   },
   "source": [
    "# Modules loading"
   ]
  },
  {
   "cell_type": "code",
   "execution_count": 1,
   "id": "1ffa1a96-7545-40b9-ac8b-8627e13de8d4",
   "metadata": {
    "execution": {
     "iopub.execute_input": "2025-06-02T03:46:25.271832Z",
     "iopub.status.busy": "2025-06-02T03:46:25.271672Z",
     "iopub.status.idle": "2025-06-02T03:46:26.021375Z",
     "shell.execute_reply": "2025-06-02T03:46:26.021111Z"
    },
    "papermill": {
     "duration": 0.754267,
     "end_time": "2025-06-02T03:46:26.022833",
     "exception": false,
     "start_time": "2025-06-02T03:46:25.268566",
     "status": "completed"
    },
    "tags": []
   },
   "outputs": [],
   "source": [
    "import numpy as np\n",
    "import matplotlib.pyplot as plt\n",
    "import seaborn as sns\n",
    "from scipy import stats\n",
    "import numpy as np\n",
    "import pandas as pd\n",
    "from concurrent.futures import as_completed, ProcessPoolExecutor\n",
    "from tqdm import tqdm\n",
    "from pathlib import Path\n",
    "\n",
    "from ccc.coef import ccc\n",
    "from ccc import conf"
   ]
  },
  {
   "cell_type": "markdown",
   "id": "0d3cc810-4b17-4213-8f03-6fe7e97a0fe3",
   "metadata": {
    "papermill": {
     "duration": 0.002154,
     "end_time": "2025-06-02T03:46:26.027258",
     "exception": false,
     "start_time": "2025-06-02T03:46:26.025104",
     "status": "completed"
    },
    "tags": []
   },
   "source": [
    "# Settings"
   ]
  },
  {
   "cell_type": "markdown",
   "id": "bfaa99db",
   "metadata": {
    "papermill": {
     "duration": 0.002102,
     "end_time": "2025-06-02T03:46:26.031588",
     "exception": false,
     "start_time": "2025-06-02T03:46:26.029486",
     "status": "completed"
    },
    "tags": []
   },
   "source": []
  },
  {
   "cell_type": "code",
   "execution_count": 2,
   "id": "9a154623-c787-4a31-871a-cad173f0eb9f",
   "metadata": {
    "execution": {
     "iopub.execute_input": "2025-06-02T03:46:26.036466Z",
     "iopub.status.busy": "2025-06-02T03:46:26.036393Z",
     "iopub.status.idle": "2025-06-02T03:46:26.038769Z",
     "shell.execute_reply": "2025-06-02T03:46:26.038598Z"
    },
    "papermill": {
     "duration": 0.005481,
     "end_time": "2025-06-02T03:46:26.039224",
     "exception": false,
     "start_time": "2025-06-02T03:46:26.033743",
     "status": "completed"
    },
    "tags": []
   },
   "outputs": [],
   "source": [
    "DATASET_CONFIG = conf.GTEX\n",
    "GTEX_TISSUE = \"whole_blood\"\n",
    "GENE_SEL_STRATEGY = \"var_pc_log2\"\n",
    "\n",
    "PVALUE_N_PERMS = 100000\n",
    "\n",
    "RANDOM_STATE = np.random.RandomState(0)\n",
    "\n",
    "# Configuration constants\n",
    "TOP_N_GENES = \"all\"\n",
    "DATA_DIR = Path(\"/mnt/data/proj_data/ccc-gpu/gene_expr/data/gtex_v8\")\n",
    "GENE_SELECTION_DIR = DATA_DIR / \"gene_selection\" / TOP_N_GENES\n",
    "SIMILARITY_MATRICES_DIR = DATA_DIR / \"similarity_matrices\" / TOP_N_GENES"
   ]
  },
  {
   "cell_type": "markdown",
   "id": "5b09ff83-5377-49a9-b24b-65c6c90277d6",
   "metadata": {
    "papermill": {
     "duration": 0.00204,
     "end_time": "2025-06-02T03:46:26.043483",
     "exception": false,
     "start_time": "2025-06-02T03:46:26.041443",
     "status": "completed"
    },
    "tags": []
   },
   "source": [
    "# Paths"
   ]
  },
  {
   "cell_type": "code",
   "execution_count": 3,
   "id": "c6f73068-fa38-44be-bd0c-708f6ff450ea",
   "metadata": {
    "execution": {
     "iopub.execute_input": "2025-06-02T03:46:26.048709Z",
     "iopub.status.busy": "2025-06-02T03:46:26.048539Z",
     "iopub.status.idle": "2025-06-02T03:46:26.051512Z",
     "shell.execute_reply": "2025-06-02T03:46:26.051343Z"
    },
    "papermill": {
     "duration": 0.006319,
     "end_time": "2025-06-02T03:46:26.052016",
     "exception": false,
     "start_time": "2025-06-02T03:46:26.045697",
     "status": "completed"
    },
    "tags": []
   },
   "outputs": [
    {
     "data": {
      "text/plain": [
       "PosixPath('/mnt/data/proj_data/ccc-gpu/gene_expr/data/gtex_v8/gene_selection/all/gtex_v8_data_whole_blood-var_pc_log2.pkl')"
      ]
     },
     "metadata": {},
     "output_type": "display_data"
    }
   ],
   "source": [
    "INPUT_GENE_EXPR_FILE = (\n",
    "    GENE_SELECTION_DIR / f\"gtex_v8_data_{GTEX_TISSUE}-{GENE_SEL_STRATEGY}.pkl\"\n",
    ")\n",
    "display(INPUT_GENE_EXPR_FILE)\n",
    "\n",
    "assert INPUT_GENE_EXPR_FILE.exists()"
   ]
  },
  {
   "cell_type": "code",
   "execution_count": 4,
   "id": "30cce6f5-ca1b-438c-859d-31903a42d4c6",
   "metadata": {
    "execution": {
     "iopub.execute_input": "2025-06-02T03:46:26.057245Z",
     "iopub.status.busy": "2025-06-02T03:46:26.057081Z",
     "iopub.status.idle": "2025-06-02T03:46:26.059338Z",
     "shell.execute_reply": "2025-06-02T03:46:26.059180Z"
    },
    "papermill": {
     "duration": 0.005639,
     "end_time": "2025-06-02T03:46:26.059823",
     "exception": false,
     "start_time": "2025-06-02T03:46:26.054184",
     "status": "completed"
    },
    "tags": []
   },
   "outputs": [
    {
     "data": {
      "text/plain": [
       "PosixPath('/mnt/data/projs/manuscripts/ccc-gpu/results/gene_pair_intersections-gtex_v8-whole_blood-var_pc_log2.pkl')"
      ]
     },
     "metadata": {},
     "output_type": "display_data"
    }
   ],
   "source": [
    "INPUT_GENE_PAIRS_INTERSECTIONS_FILE = Path(\n",
    "    \"/mnt/data/projs/manuscripts/ccc-gpu/results/gene_pair_intersections-gtex_v8-whole_blood-var_pc_log2.pkl\"\n",
    ")\n",
    "display(INPUT_GENE_PAIRS_INTERSECTIONS_FILE)\n",
    "\n",
    "assert INPUT_GENE_PAIRS_INTERSECTIONS_FILE.exists()"
   ]
  },
  {
   "cell_type": "code",
   "execution_count": 5,
   "id": "0122253c-99c0-41e2-8807-60df86bf0619",
   "metadata": {
    "execution": {
     "iopub.execute_input": "2025-06-02T03:46:26.065048Z",
     "iopub.status.busy": "2025-06-02T03:46:26.064889Z",
     "iopub.status.idle": "2025-06-02T03:46:26.066526Z",
     "shell.execute_reply": "2025-06-02T03:46:26.066363Z"
    },
    "papermill": {
     "duration": 0.004994,
     "end_time": "2025-06-02T03:46:26.066982",
     "exception": false,
     "start_time": "2025-06-02T03:46:26.061988",
     "status": "completed"
    },
    "tags": []
   },
   "outputs": [],
   "source": [
    "OUTPUT_DIR = Path(\"/mnt/data/projs/manuscripts/ccc-gpu/results/\") / \"pvalues\"\n",
    "OUTPUT_DIR.mkdir(parents=True, exist_ok=True)"
   ]
  },
  {
   "cell_type": "code",
   "execution_count": 6,
   "id": "3003ed2c-5da0-43b9-969d-9cf037d05730",
   "metadata": {
    "execution": {
     "iopub.execute_input": "2025-06-02T03:46:26.072151Z",
     "iopub.status.busy": "2025-06-02T03:46:26.072043Z",
     "iopub.status.idle": "2025-06-02T03:46:26.073856Z",
     "shell.execute_reply": "2025-06-02T03:46:26.073700Z"
    },
    "papermill": {
     "duration": 0.005157,
     "end_time": "2025-06-02T03:46:26.074331",
     "exception": false,
     "start_time": "2025-06-02T03:46:26.069174",
     "status": "completed"
    },
    "tags": []
   },
   "outputs": [
    {
     "data": {
      "text/plain": [
       "PosixPath('/mnt/data/projs/manuscripts/ccc-gpu/results/pvalues')"
      ]
     },
     "execution_count": 6,
     "metadata": {},
     "output_type": "execute_result"
    }
   ],
   "source": [
    "OUTPUT_DIR"
   ]
  },
  {
   "cell_type": "markdown",
   "id": "3d014f0c-d442-48ab-add8-ac338ad15b27",
   "metadata": {
    "papermill": {
     "duration": 0.002339,
     "end_time": "2025-06-02T03:46:26.078899",
     "exception": false,
     "start_time": "2025-06-02T03:46:26.076560",
     "status": "completed"
    },
    "tags": []
   },
   "source": [
    "# Load gene expression data"
   ]
  },
  {
   "cell_type": "code",
   "execution_count": 7,
   "id": "6e8ef201-6f98-4fb6-a306-180ed4b467db",
   "metadata": {
    "execution": {
     "iopub.execute_input": "2025-06-02T03:46:26.084222Z",
     "iopub.status.busy": "2025-06-02T03:46:26.084082Z",
     "iopub.status.idle": "2025-06-02T03:46:26.373525Z",
     "shell.execute_reply": "2025-06-02T03:46:26.373211Z"
    },
    "papermill": {
     "duration": 0.293395,
     "end_time": "2025-06-02T03:46:26.374615",
     "exception": false,
     "start_time": "2025-06-02T03:46:26.081220",
     "status": "completed"
    },
    "tags": []
   },
   "outputs": [],
   "source": [
    "data = pd.read_pickle(INPUT_GENE_EXPR_FILE).sort_index()"
   ]
  },
  {
   "cell_type": "code",
   "execution_count": 8,
   "id": "4d18e93e-b394-46bd-8d16-d9261a85ba06",
   "metadata": {
    "execution": {
     "iopub.execute_input": "2025-06-02T03:46:26.380198Z",
     "iopub.status.busy": "2025-06-02T03:46:26.380052Z",
     "iopub.status.idle": "2025-06-02T03:46:26.382070Z",
     "shell.execute_reply": "2025-06-02T03:46:26.381907Z"
    },
    "papermill": {
     "duration": 0.005454,
     "end_time": "2025-06-02T03:46:26.382573",
     "exception": false,
     "start_time": "2025-06-02T03:46:26.377119",
     "status": "completed"
    },
    "tags": []
   },
   "outputs": [
    {
     "data": {
      "text/plain": [
       "(56200, 755)"
      ]
     },
     "execution_count": 8,
     "metadata": {},
     "output_type": "execute_result"
    }
   ],
   "source": [
    "data.shape"
   ]
  },
  {
   "cell_type": "markdown",
   "id": "5414e2d4-b4c5-48d9-9dd4-d9ff1585f341",
   "metadata": {
    "papermill": {
     "duration": 0.002357,
     "end_time": "2025-06-02T03:46:26.387303",
     "exception": false,
     "start_time": "2025-06-02T03:46:26.384946",
     "status": "completed"
    },
    "tags": []
   },
   "source": [
    "# Load gene pairs samples"
   ]
  },
  {
   "cell_type": "code",
   "execution_count": 9,
   "id": "178a09a8-1a2e-425a-8a52-773f41c72633",
   "metadata": {
    "execution": {
     "iopub.execute_input": "2025-06-02T03:46:26.392555Z",
     "iopub.status.busy": "2025-06-02T03:46:26.392424Z",
     "iopub.status.idle": "2025-06-02T03:46:26.394227Z",
     "shell.execute_reply": "2025-06-02T03:46:26.394052Z"
    },
    "papermill": {
     "duration": 0.005045,
     "end_time": "2025-06-02T03:46:26.394714",
     "exception": false,
     "start_time": "2025-06-02T03:46:26.389669",
     "status": "completed"
    },
    "tags": []
   },
   "outputs": [],
   "source": [
    "output_file = OUTPUT_DIR / \"gene_pair-samples.pkl\""
   ]
  },
  {
   "cell_type": "code",
   "execution_count": 10,
   "id": "c42a9f4c-3672-4ab0-b9ff-c214eb40cd2f",
   "metadata": {
    "execution": {
     "iopub.execute_input": "2025-06-02T03:46:26.399699Z",
     "iopub.status.busy": "2025-06-02T03:46:26.399639Z",
     "iopub.status.idle": "2025-06-02T03:46:26.411336Z",
     "shell.execute_reply": "2025-06-02T03:46:26.411097Z"
    },
    "papermill": {
     "duration": 0.015228,
     "end_time": "2025-06-02T03:46:26.412283",
     "exception": false,
     "start_time": "2025-06-02T03:46:26.397055",
     "status": "completed"
    },
    "tags": []
   },
   "outputs": [],
   "source": [
    "gene_pair_samples = pd.read_pickle(output_file)"
   ]
  },
  {
   "cell_type": "code",
   "execution_count": 11,
   "id": "1724d63c-19eb-49a8-83fc-6c8b07585e98",
   "metadata": {
    "execution": {
     "iopub.execute_input": "2025-06-02T03:46:26.417573Z",
     "iopub.status.busy": "2025-06-02T03:46:26.417437Z",
     "iopub.status.idle": "2025-06-02T03:46:26.419670Z",
     "shell.execute_reply": "2025-06-02T03:46:26.419462Z"
    },
    "papermill": {
     "duration": 0.005596,
     "end_time": "2025-06-02T03:46:26.420170",
     "exception": false,
     "start_time": "2025-06-02T03:46:26.414574",
     "status": "completed"
    },
    "tags": []
   },
   "outputs": [
    {
     "data": {
      "text/plain": [
       "34"
      ]
     },
     "execution_count": 11,
     "metadata": {},
     "output_type": "execute_result"
    }
   ],
   "source": [
    "len(gene_pair_samples)"
   ]
  },
  {
   "cell_type": "code",
   "execution_count": 12,
   "id": "99f5098f-aa01-471b-a6a2-5aabc332176b",
   "metadata": {
    "execution": {
     "iopub.execute_input": "2025-06-02T03:46:26.425181Z",
     "iopub.status.busy": "2025-06-02T03:46:26.425127Z",
     "iopub.status.idle": "2025-06-02T03:46:26.426931Z",
     "shell.execute_reply": "2025-06-02T03:46:26.426778Z"
    },
    "papermill": {
     "duration": 0.004893,
     "end_time": "2025-06-02T03:46:26.427453",
     "exception": false,
     "start_time": "2025-06-02T03:46:26.422560",
     "status": "completed"
    },
    "tags": []
   },
   "outputs": [
    {
     "data": {
      "text/plain": [
       "['all_high-random',\n",
       " 'all_high-top_ccc',\n",
       " 'all_high-top_pearson',\n",
       " 'all_high-top_spearman',\n",
       " 'all_low-random',\n",
       " 'all_low-top_ccc',\n",
       " 'all_low-top_pearson',\n",
       " 'all_low-top_spearman',\n",
       " 'ccc_high_and_pearson_low-random',\n",
       " 'ccc_high_and_pearson_low-top_ccc',\n",
       " 'ccc_high_and_pearson_low-top_pearson',\n",
       " 'ccc_high_and_pearson_low-top_spearman',\n",
       " 'ccc_high_and_spearman_low-random',\n",
       " 'ccc_high_and_spearman_low-top_ccc',\n",
       " 'ccc_high_and_spearman_low-top_pearson',\n",
       " 'ccc_high_and_spearman_low-top_spearman',\n",
       " 'ccc_high_and_spearman_pearson_low-random',\n",
       " 'ccc_high_and_spearman_pearson_low-top_ccc',\n",
       " 'ccc_high_and_spearman_pearson_low-top_pearson',\n",
       " 'ccc_high_and_spearman_pearson_low-top_spearman',\n",
       " 'ccc_spearman_high_and_pearson_low-random',\n",
       " 'ccc_spearman_high_and_pearson_low-top_ccc',\n",
       " 'ccc_spearman_high_and_pearson_low-top_pearson',\n",
       " 'ccc_spearman_high_and_pearson_low-top_spearman',\n",
       " 'entire_dataset-random',\n",
       " 'pearson_high_and_ccc_low-random',\n",
       " 'pearson_high_and_ccc_low-top_ccc',\n",
       " 'pearson_high_and_ccc_low-top_pearson',\n",
       " 'pearson_high_and_ccc_low-top_spearman',\n",
       " 'pearson_high_and_ccc_spearman_low-random',\n",
       " 'pearson_high_and_ccc_spearman_low-top_ccc',\n",
       " 'pearson_high_and_ccc_spearman_low-top_pearson',\n",
       " 'pearson_high_and_ccc_spearman_low-top_spearman',\n",
       " 'selected_in_manuscript']"
      ]
     },
     "execution_count": 12,
     "metadata": {},
     "output_type": "execute_result"
    }
   ],
   "source": [
    "sorted(gene_pair_samples.keys())"
   ]
  },
  {
   "cell_type": "code",
   "execution_count": 13,
   "id": "c60378f6-3f87-49d4-8b86-cf3ec30fc545",
   "metadata": {
    "execution": {
     "iopub.execute_input": "2025-06-02T03:46:26.432665Z",
     "iopub.status.busy": "2025-06-02T03:46:26.432547Z",
     "iopub.status.idle": "2025-06-02T03:46:26.437840Z",
     "shell.execute_reply": "2025-06-02T03:46:26.437658Z"
    },
    "papermill": {
     "duration": 0.008515,
     "end_time": "2025-06-02T03:46:26.438357",
     "exception": false,
     "start_time": "2025-06-02T03:46:26.429842",
     "status": "completed"
    },
    "tags": []
   },
   "outputs": [
    {
     "data": {
      "text/html": [
       "<div>\n",
       "<style scoped>\n",
       "    .dataframe tbody tr th:only-of-type {\n",
       "        vertical-align: middle;\n",
       "    }\n",
       "\n",
       "    .dataframe tbody tr th {\n",
       "        vertical-align: top;\n",
       "    }\n",
       "\n",
       "    .dataframe thead th {\n",
       "        text-align: right;\n",
       "    }\n",
       "</style>\n",
       "<table border=\"1\" class=\"dataframe\">\n",
       "  <thead>\n",
       "    <tr style=\"text-align: right;\">\n",
       "      <th></th>\n",
       "      <th></th>\n",
       "      <th>Pearson (high)</th>\n",
       "      <th>Pearson (low)</th>\n",
       "      <th>Spearman (high)</th>\n",
       "      <th>Spearman (low)</th>\n",
       "      <th>CCC (high)</th>\n",
       "      <th>CCC (low)</th>\n",
       "      <th>ccc</th>\n",
       "      <th>pearson</th>\n",
       "      <th>spearman</th>\n",
       "    </tr>\n",
       "  </thead>\n",
       "  <tbody>\n",
       "    <tr>\n",
       "      <th rowspan=\"2\" valign=\"top\">ENSG00000255945.1</th>\n",
       "      <th>ENSG00000232604.1</th>\n",
       "      <td>True</td>\n",
       "      <td>False</td>\n",
       "      <td>True</td>\n",
       "      <td>False</td>\n",
       "      <td>True</td>\n",
       "      <td>False</td>\n",
       "      <td>1.0</td>\n",
       "      <td>1.0</td>\n",
       "      <td>1.0</td>\n",
       "    </tr>\n",
       "    <tr>\n",
       "      <th>ENSG00000257296.1</th>\n",
       "      <td>True</td>\n",
       "      <td>False</td>\n",
       "      <td>True</td>\n",
       "      <td>False</td>\n",
       "      <td>True</td>\n",
       "      <td>False</td>\n",
       "      <td>1.0</td>\n",
       "      <td>1.0</td>\n",
       "      <td>1.0</td>\n",
       "    </tr>\n",
       "    <tr>\n",
       "      <th>ENSG00000256281.1</th>\n",
       "      <th>ENSG00000267687.1</th>\n",
       "      <td>True</td>\n",
       "      <td>False</td>\n",
       "      <td>True</td>\n",
       "      <td>False</td>\n",
       "      <td>True</td>\n",
       "      <td>False</td>\n",
       "      <td>1.0</td>\n",
       "      <td>1.0</td>\n",
       "      <td>1.0</td>\n",
       "    </tr>\n",
       "    <tr>\n",
       "      <th>ENSG00000284356.1</th>\n",
       "      <th>ENSG00000248928.1</th>\n",
       "      <td>True</td>\n",
       "      <td>False</td>\n",
       "      <td>True</td>\n",
       "      <td>False</td>\n",
       "      <td>True</td>\n",
       "      <td>False</td>\n",
       "      <td>1.0</td>\n",
       "      <td>1.0</td>\n",
       "      <td>1.0</td>\n",
       "    </tr>\n",
       "    <tr>\n",
       "      <th>ENSG00000283680.1</th>\n",
       "      <th>ENSG00000278497.1</th>\n",
       "      <td>True</td>\n",
       "      <td>False</td>\n",
       "      <td>True</td>\n",
       "      <td>False</td>\n",
       "      <td>True</td>\n",
       "      <td>False</td>\n",
       "      <td>1.0</td>\n",
       "      <td>1.0</td>\n",
       "      <td>1.0</td>\n",
       "    </tr>\n",
       "  </tbody>\n",
       "</table>\n",
       "</div>"
      ],
      "text/plain": [
       "                                     Pearson (high)  Pearson (low)  \\\n",
       "ENSG00000255945.1 ENSG00000232604.1            True          False   \n",
       "                  ENSG00000257296.1            True          False   \n",
       "ENSG00000256281.1 ENSG00000267687.1            True          False   \n",
       "ENSG00000284356.1 ENSG00000248928.1            True          False   \n",
       "ENSG00000283680.1 ENSG00000278497.1            True          False   \n",
       "\n",
       "                                     Spearman (high)  Spearman (low)  \\\n",
       "ENSG00000255945.1 ENSG00000232604.1             True           False   \n",
       "                  ENSG00000257296.1             True           False   \n",
       "ENSG00000256281.1 ENSG00000267687.1             True           False   \n",
       "ENSG00000284356.1 ENSG00000248928.1             True           False   \n",
       "ENSG00000283680.1 ENSG00000278497.1             True           False   \n",
       "\n",
       "                                     CCC (high)  CCC (low)  ccc  pearson  \\\n",
       "ENSG00000255945.1 ENSG00000232604.1        True      False  1.0      1.0   \n",
       "                  ENSG00000257296.1        True      False  1.0      1.0   \n",
       "ENSG00000256281.1 ENSG00000267687.1        True      False  1.0      1.0   \n",
       "ENSG00000284356.1 ENSG00000248928.1        True      False  1.0      1.0   \n",
       "ENSG00000283680.1 ENSG00000278497.1        True      False  1.0      1.0   \n",
       "\n",
       "                                     spearman  \n",
       "ENSG00000255945.1 ENSG00000232604.1       1.0  \n",
       "                  ENSG00000257296.1       1.0  \n",
       "ENSG00000256281.1 ENSG00000267687.1       1.0  \n",
       "ENSG00000284356.1 ENSG00000248928.1       1.0  \n",
       "ENSG00000283680.1 ENSG00000278497.1       1.0  "
      ]
     },
     "execution_count": 13,
     "metadata": {},
     "output_type": "execute_result"
    }
   ],
   "source": [
    "_k = list(gene_pair_samples.keys())[0]\n",
    "gene_pair_samples[_k].head()"
   ]
  },
  {
   "cell_type": "code",
   "execution_count": 14,
   "id": "6ccae66e-e276-43c3-809c-512aa0fe795b",
   "metadata": {
    "execution": {
     "iopub.execute_input": "2025-06-02T03:46:26.444374Z",
     "iopub.status.busy": "2025-06-02T03:46:26.444223Z",
     "iopub.status.idle": "2025-06-02T03:46:26.446314Z",
     "shell.execute_reply": "2025-06-02T03:46:26.446155Z"
    },
    "papermill": {
     "duration": 0.006031,
     "end_time": "2025-06-02T03:46:26.446856",
     "exception": false,
     "start_time": "2025-06-02T03:46:26.440825",
     "status": "completed"
    },
    "tags": []
   },
   "outputs": [
    {
     "data": {
      "text/plain": [
       "[('ENSG00000255945.1', 'ENSG00000232604.1'),\n",
       " ('ENSG00000255945.1', 'ENSG00000257296.1'),\n",
       " ('ENSG00000256281.1', 'ENSG00000267687.1'),\n",
       " ('ENSG00000284356.1', 'ENSG00000248928.1'),\n",
       " ('ENSG00000283680.1', 'ENSG00000278497.1'),\n",
       " ('ENSG00000255555.1', 'ENSG00000230840.1'),\n",
       " ('ENSG00000278988.1', 'ENSG00000219666.2'),\n",
       " ('ENSG00000202160.1', 'ENSG00000252554.1'),\n",
       " ('ENSG00000202160.1', 'ENSG00000263967.1'),\n",
       " ('ENSG00000280580.1', 'ENSG00000278381.1')]"
      ]
     },
     "execution_count": 14,
     "metadata": {},
     "output_type": "execute_result"
    }
   ],
   "source": [
    "[i for i in gene_pair_samples[_k].head(10).index]"
   ]
  },
  {
   "cell_type": "markdown",
   "id": "6402879c-e9a0-414b-b60b-9e4ed1e9e99e",
   "metadata": {
    "papermill": {
     "duration": 0.002511,
     "end_time": "2025-06-02T03:46:26.451798",
     "exception": false,
     "start_time": "2025-06-02T03:46:26.449287",
     "status": "completed"
    },
    "tags": []
   },
   "source": [
    "# Compute pvalues on sampled gene pairs"
   ]
  },
  {
   "cell_type": "code",
   "execution_count": 15,
   "id": "62d8632e-13e0-4a78-ad30-26770172d21e",
   "metadata": {
    "execution": {
     "iopub.execute_input": "2025-06-02T03:46:26.457461Z",
     "iopub.status.busy": "2025-06-02T03:46:26.457305Z",
     "iopub.status.idle": "2025-06-02T03:46:26.459013Z",
     "shell.execute_reply": "2025-06-02T03:46:26.458855Z"
    },
    "papermill": {
     "duration": 0.005131,
     "end_time": "2025-06-02T03:46:26.459461",
     "exception": false,
     "start_time": "2025-06-02T03:46:26.454330",
     "status": "completed"
    },
    "tags": []
   },
   "outputs": [],
   "source": [
    "output_file = OUTPUT_DIR / \"gene_pair-samples-pvalues.pkl\""
   ]
  },
  {
   "cell_type": "code",
   "execution_count": 16,
   "id": "c8a85ce0-4c5a-4ed9-8ad6-24b21fb10b1e",
   "metadata": {
    "execution": {
     "iopub.execute_input": "2025-06-02T03:46:26.464749Z",
     "iopub.status.busy": "2025-06-02T03:46:26.464695Z",
     "iopub.status.idle": "2025-06-02T03:46:26.466361Z",
     "shell.execute_reply": "2025-06-02T03:46:26.466185Z"
    },
    "papermill": {
     "duration": 0.004917,
     "end_time": "2025-06-02T03:46:26.466819",
     "exception": false,
     "start_time": "2025-06-02T03:46:26.461902",
     "status": "completed"
    },
    "tags": []
   },
   "outputs": [],
   "source": [
    "def corr_single(x, y):\n",
    "    ccc_val, ccc_pval = ccc(x, y, pvalue_n_perms=PVALUE_N_PERMS, n_jobs=12)\n",
    "    p_val, p_pval = stats.pearsonr(x, y)\n",
    "    s_val, s_pval = stats.spearmanr(x, y)\n",
    "\n",
    "    return ccc_val, ccc_pval, p_val, p_pval, s_val, s_pval"
   ]
  },
  {
   "cell_type": "code",
   "execution_count": null,
   "id": "d9838801-1f01-4316-8e29-ffedbdc2a67a",
   "metadata": {
    "execution": {
     "iopub.execute_input": "2025-06-02T03:46:26.472260Z",
     "iopub.status.busy": "2025-06-02T03:46:26.472187Z",
     "iopub.status.idle": "2025-06-02T12:53:28.868484Z",
     "shell.execute_reply": "2025-06-02T12:53:28.868239Z"
    },
    "papermill": {
     "duration": 32822.399832,
     "end_time": "2025-06-02T12:53:28.869176",
     "exception": false,
     "start_time": "2025-06-02T03:46:26.469344",
     "status": "completed"
    },
    "tags": []
   },
   "outputs": [],
   "source": [
    "results = []\n",
    "\n",
    "import warnings\n",
    "\n",
    "# Disable warnings for nans\n",
    "warnings.filterwarnings(\"ignore\", category=RuntimeWarning, module=\"numpy\")\n",
    "\n",
    "# I leave the ProcessPoolExecutor here in case I want to easily swith between\n",
    "# parallelize across gene pairs (max_workers=conf.GENERAL[\"N_JOBS\"] and n_jobs=1 inside function corr_single)\n",
    "# or across permutations for one gene pair (max_workers=1 and n_jobs=conf.GENERAL[\"N_JOBS\"])\n",
    "with ProcessPoolExecutor(max_workers=2) as executor:\n",
    "    tasks = {\n",
    "        executor.submit(corr_single, data.loc[gene0], data.loc[gene1]): (\n",
    "            gene0,\n",
    "            gene1,\n",
    "            k,\n",
    "        )\n",
    "        for k, v in gene_pair_samples.items()\n",
    "        for gene0, gene1 in gene_pair_samples[k].index\n",
    "    }\n",
    "\n",
    "    for t_idx, t in tqdm(enumerate(as_completed(tasks)), total=len(tasks), ncols=100):\n",
    "        gene0, gene1, k = tasks[t]\n",
    "        ccc_val, ccc_pval, p_val, p_pval, s_val, s_pval = t.result()\n",
    "\n",
    "        results.append(\n",
    "            {\n",
    "                \"gene0\": gene0,\n",
    "                \"gene1\": gene1,\n",
    "                \"group\": k,\n",
    "                \"ccc\": ccc_val,\n",
    "                \"ccc_pvalue\": ccc_pval,\n",
    "                \"pearson\": p_val,\n",
    "                \"pearson_pvalue\": p_pval,\n",
    "                \"spearman\": s_val,\n",
    "                \"spearman_pvalue\": s_pval,\n",
    "            }\n",
    "        )\n",
    "\n",
    "        # save\n",
    "        _df = pd.DataFrame(results)\n",
    "        _df[\"group\"] = _df[\"group\"].astype(\"category\")\n",
    "        _df.to_pickle(output_file)"
   ]
  },
  {
   "cell_type": "code",
   "execution_count": 18,
   "id": "6f32ad1a-3b2f-4e08-8a53-35cfb68e3970",
   "metadata": {
    "execution": {
     "iopub.execute_input": "2025-06-02T12:53:29.609620Z",
     "iopub.status.busy": "2025-06-02T12:53:29.609496Z",
     "iopub.status.idle": "2025-06-02T12:53:29.611938Z",
     "shell.execute_reply": "2025-06-02T12:53:29.611655Z"
    },
    "papermill": {
     "duration": 0.372302,
     "end_time": "2025-06-02T12:53:29.612512",
     "exception": false,
     "start_time": "2025-06-02T12:53:29.240210",
     "status": "completed"
    },
    "tags": []
   },
   "outputs": [
    {
     "data": {
      "text/plain": [
       "17008"
      ]
     },
     "execution_count": 18,
     "metadata": {},
     "output_type": "execute_result"
    }
   ],
   "source": [
    "len(results)"
   ]
  },
  {
   "cell_type": "code",
   "execution_count": 19,
   "id": "e68a65a5-8bba-4a79-a740-26d722dc670e",
   "metadata": {
    "execution": {
     "iopub.execute_input": "2025-06-02T12:53:30.332177Z",
     "iopub.status.busy": "2025-06-02T12:53:30.332078Z",
     "iopub.status.idle": "2025-06-02T12:53:30.348929Z",
     "shell.execute_reply": "2025-06-02T12:53:30.348720Z"
    },
    "papermill": {
     "duration": 0.36535,
     "end_time": "2025-06-02T12:53:30.349523",
     "exception": false,
     "start_time": "2025-06-02T12:53:29.984173",
     "status": "completed"
    },
    "tags": []
   },
   "outputs": [],
   "source": [
    "results_df = pd.DataFrame(results)\n",
    "results_df[\"group\"] = results_df[\"group\"].astype(\"category\")"
   ]
  },
  {
   "cell_type": "code",
   "execution_count": 20,
   "id": "9514ebb1-f1c1-46d9-96b6-a2264e3a6b4b",
   "metadata": {
    "execution": {
     "iopub.execute_input": "2025-06-02T12:53:31.088742Z",
     "iopub.status.busy": "2025-06-02T12:53:31.088638Z",
     "iopub.status.idle": "2025-06-02T12:53:31.090785Z",
     "shell.execute_reply": "2025-06-02T12:53:31.090596Z"
    },
    "papermill": {
     "duration": 0.371496,
     "end_time": "2025-06-02T12:53:31.091335",
     "exception": false,
     "start_time": "2025-06-02T12:53:30.719839",
     "status": "completed"
    },
    "tags": []
   },
   "outputs": [
    {
     "data": {
      "text/plain": [
       "(17008, 9)"
      ]
     },
     "execution_count": 20,
     "metadata": {},
     "output_type": "execute_result"
    }
   ],
   "source": [
    "results_df.shape"
   ]
  },
  {
   "cell_type": "code",
   "execution_count": 21,
   "id": "6110dd19-95e0-4400-847a-424a498fa63d",
   "metadata": {
    "execution": {
     "iopub.execute_input": "2025-06-02T12:53:31.812693Z",
     "iopub.status.busy": "2025-06-02T12:53:31.812579Z",
     "iopub.status.idle": "2025-06-02T12:53:31.817826Z",
     "shell.execute_reply": "2025-06-02T12:53:31.817652Z"
    },
    "papermill": {
     "duration": 0.353182,
     "end_time": "2025-06-02T12:53:31.818792",
     "exception": false,
     "start_time": "2025-06-02T12:53:31.465610",
     "status": "completed"
    },
    "tags": []
   },
   "outputs": [
    {
     "data": {
      "text/html": [
       "<div>\n",
       "<style scoped>\n",
       "    .dataframe tbody tr th:only-of-type {\n",
       "        vertical-align: middle;\n",
       "    }\n",
       "\n",
       "    .dataframe tbody tr th {\n",
       "        vertical-align: top;\n",
       "    }\n",
       "\n",
       "    .dataframe thead th {\n",
       "        text-align: right;\n",
       "    }\n",
       "</style>\n",
       "<table border=\"1\" class=\"dataframe\">\n",
       "  <thead>\n",
       "    <tr style=\"text-align: right;\">\n",
       "      <th></th>\n",
       "      <th>gene0</th>\n",
       "      <th>gene1</th>\n",
       "      <th>group</th>\n",
       "      <th>ccc</th>\n",
       "      <th>ccc_pvalue</th>\n",
       "      <th>pearson</th>\n",
       "      <th>pearson_pvalue</th>\n",
       "      <th>spearman</th>\n",
       "      <th>spearman_pvalue</th>\n",
       "    </tr>\n",
       "  </thead>\n",
       "  <tbody>\n",
       "    <tr>\n",
       "      <th>0</th>\n",
       "      <td>ENSG00000255945.1</td>\n",
       "      <td>ENSG00000257296.1</td>\n",
       "      <td>all_high-top_ccc</td>\n",
       "      <td>1.0</td>\n",
       "      <td>0.00114</td>\n",
       "      <td>1.0</td>\n",
       "      <td>0.0</td>\n",
       "      <td>1.0</td>\n",
       "      <td>0.0</td>\n",
       "    </tr>\n",
       "    <tr>\n",
       "      <th>1</th>\n",
       "      <td>ENSG00000255945.1</td>\n",
       "      <td>ENSG00000232604.1</td>\n",
       "      <td>all_high-top_ccc</td>\n",
       "      <td>1.0</td>\n",
       "      <td>0.00145</td>\n",
       "      <td>1.0</td>\n",
       "      <td>0.0</td>\n",
       "      <td>1.0</td>\n",
       "      <td>0.0</td>\n",
       "    </tr>\n",
       "    <tr>\n",
       "      <th>2</th>\n",
       "      <td>ENSG00000256281.1</td>\n",
       "      <td>ENSG00000267687.1</td>\n",
       "      <td>all_high-top_ccc</td>\n",
       "      <td>1.0</td>\n",
       "      <td>0.00143</td>\n",
       "      <td>1.0</td>\n",
       "      <td>0.0</td>\n",
       "      <td>1.0</td>\n",
       "      <td>0.0</td>\n",
       "    </tr>\n",
       "    <tr>\n",
       "      <th>3</th>\n",
       "      <td>ENSG00000284356.1</td>\n",
       "      <td>ENSG00000248928.1</td>\n",
       "      <td>all_high-top_ccc</td>\n",
       "      <td>1.0</td>\n",
       "      <td>0.00140</td>\n",
       "      <td>1.0</td>\n",
       "      <td>0.0</td>\n",
       "      <td>1.0</td>\n",
       "      <td>0.0</td>\n",
       "    </tr>\n",
       "    <tr>\n",
       "      <th>4</th>\n",
       "      <td>ENSG00000255555.1</td>\n",
       "      <td>ENSG00000230840.1</td>\n",
       "      <td>all_high-top_ccc</td>\n",
       "      <td>1.0</td>\n",
       "      <td>0.00127</td>\n",
       "      <td>1.0</td>\n",
       "      <td>0.0</td>\n",
       "      <td>1.0</td>\n",
       "      <td>0.0</td>\n",
       "    </tr>\n",
       "  </tbody>\n",
       "</table>\n",
       "</div>"
      ],
      "text/plain": [
       "               gene0              gene1             group  ccc  ccc_pvalue  \\\n",
       "0  ENSG00000255945.1  ENSG00000257296.1  all_high-top_ccc  1.0     0.00114   \n",
       "1  ENSG00000255945.1  ENSG00000232604.1  all_high-top_ccc  1.0     0.00145   \n",
       "2  ENSG00000256281.1  ENSG00000267687.1  all_high-top_ccc  1.0     0.00143   \n",
       "3  ENSG00000284356.1  ENSG00000248928.1  all_high-top_ccc  1.0     0.00140   \n",
       "4  ENSG00000255555.1  ENSG00000230840.1  all_high-top_ccc  1.0     0.00127   \n",
       "\n",
       "   pearson  pearson_pvalue  spearman  spearman_pvalue  \n",
       "0      1.0             0.0       1.0              0.0  \n",
       "1      1.0             0.0       1.0              0.0  \n",
       "2      1.0             0.0       1.0              0.0  \n",
       "3      1.0             0.0       1.0              0.0  \n",
       "4      1.0             0.0       1.0              0.0  "
      ]
     },
     "execution_count": 21,
     "metadata": {},
     "output_type": "execute_result"
    }
   ],
   "source": [
    "results_df.head()"
   ]
  },
  {
   "cell_type": "markdown",
   "id": "c15b6534-bd10-4091-a33d-e924a883cd93",
   "metadata": {
    "papermill": {
     "duration": 0.371206,
     "end_time": "2025-06-02T12:53:32.557044",
     "exception": false,
     "start_time": "2025-06-02T12:53:32.185838",
     "status": "completed"
    },
    "tags": []
   },
   "source": [
    "# Remove duplicated gene pairs"
   ]
  },
  {
   "cell_type": "markdown",
   "id": "ce70fca7-1f97-4362-a165-04b228576624",
   "metadata": {
    "papermill": {
     "duration": 0.36252,
     "end_time": "2025-06-02T12:53:33.261384",
     "exception": false,
     "start_time": "2025-06-02T12:53:32.898864",
     "status": "completed"
    },
    "tags": []
   },
   "source": [
    "This could happen when gene pairs overlap and are the top of different coefficients."
   ]
  },
  {
   "cell_type": "code",
   "execution_count": 22,
   "id": "bc3b8e5a-2685-4c9c-a1ca-3602cb0fba10",
   "metadata": {
    "execution": {
     "iopub.execute_input": "2025-06-02T12:53:33.996074Z",
     "iopub.status.busy": "2025-06-02T12:53:33.995959Z",
     "iopub.status.idle": "2025-06-02T12:53:33.997923Z",
     "shell.execute_reply": "2025-06-02T12:53:33.997732Z"
    },
    "papermill": {
     "duration": 0.372304,
     "end_time": "2025-06-02T12:53:33.998459",
     "exception": false,
     "start_time": "2025-06-02T12:53:33.626155",
     "status": "completed"
    },
    "tags": []
   },
   "outputs": [],
   "source": [
    "# results_df = results_df.drop_duplicates(subset=[\"gene0\", \"gene1\"])"
   ]
  },
  {
   "cell_type": "code",
   "execution_count": 23,
   "id": "6c64c47e-4d99-4a42-8ea7-9ec3c412d12e",
   "metadata": {
    "execution": {
     "iopub.execute_input": "2025-06-02T12:53:34.706039Z",
     "iopub.status.busy": "2025-06-02T12:53:34.705934Z",
     "iopub.status.idle": "2025-06-02T12:53:34.707585Z",
     "shell.execute_reply": "2025-06-02T12:53:34.707392Z"
    },
    "papermill": {
     "duration": 0.367523,
     "end_time": "2025-06-02T12:53:34.708061",
     "exception": false,
     "start_time": "2025-06-02T12:53:34.340538",
     "status": "completed"
    },
    "tags": []
   },
   "outputs": [],
   "source": [
    "# results.shape"
   ]
  },
  {
   "cell_type": "markdown",
   "id": "b5a5bb97-00c2-4228-9f3d-77920fe679db",
   "metadata": {
    "papermill": {
     "duration": 0.342707,
     "end_time": "2025-06-02T12:53:35.418188",
     "exception": false,
     "start_time": "2025-06-02T12:53:35.075481",
     "status": "completed"
    },
    "tags": []
   },
   "source": [
    "# Save"
   ]
  },
  {
   "cell_type": "code",
   "execution_count": 24,
   "id": "bb8e28d4-3adf-4d6a-a94e-81b6763ebd61",
   "metadata": {
    "execution": {
     "iopub.execute_input": "2025-06-02T12:53:36.145433Z",
     "iopub.status.busy": "2025-06-02T12:53:36.145314Z",
     "iopub.status.idle": "2025-06-02T12:53:36.150611Z",
     "shell.execute_reply": "2025-06-02T12:53:36.150130Z"
    },
    "papermill": {
     "duration": 0.373465,
     "end_time": "2025-06-02T12:53:36.151238",
     "exception": false,
     "start_time": "2025-06-02T12:53:35.777773",
     "status": "completed"
    },
    "tags": []
   },
   "outputs": [],
   "source": [
    "results_df.to_pickle(output_file)"
   ]
  },
  {
   "cell_type": "code",
   "execution_count": null,
   "id": "46cff789-6c90-42c5-9328-21ee7bd70851",
   "metadata": {
    "papermill": {
     "duration": 0.341533,
     "end_time": "2025-06-02T12:53:36.861040",
     "exception": false,
     "start_time": "2025-06-02T12:53:36.519507",
     "status": "completed"
    },
    "tags": []
   },
   "outputs": [],
   "source": []
  }
 ],
 "metadata": {
  "jupytext": {
   "cell_metadata_filter": "all,-execution,-papermill,-trusted",
   "notebook_metadata_filter": "-jupytext.text_representation.jupytext_version"
  },
  "kernelspec": {
   "display_name": "Python 3 (ipykernel)",
   "language": "python",
   "name": "python3"
  },
  "language_info": {
   "codemirror_mode": {
    "name": "ipython",
    "version": 3
   },
   "file_extension": ".py",
   "mimetype": "text/x-python",
   "name": "python",
   "nbconvert_exporter": "python",
   "pygments_lexer": "ipython3",
   "version": "3.10.16"
  },
  "papermill": {
   "default_parameters": {},
   "duration": 32833.12453,
   "end_time": "2025-06-02T12:53:37.743835",
   "environment_variables": {},
   "exception": null,
   "input_path": "15-compute_pvalues_from_samples.ipynb",
   "output_path": "15-compute_pvalues_from_samples.run.ipynb",
   "parameters": {},
   "start_time": "2025-06-02T03:46:24.619305",
   "version": "2.3.4"
  }
 },
 "nbformat": 4,
 "nbformat_minor": 5
}
