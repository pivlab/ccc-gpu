{
 "cells": [
  {
   "cell_type": "markdown",
   "id": "c1948eb4-fb63-4fad-8243-bcd57b98def3",
   "metadata": {
    "papermill": {
     "duration": 0.007254,
     "end_time": "2023-09-11T18:11:10.440688",
     "exception": false,
     "start_time": "2023-09-11T18:11:10.433434",
     "status": "completed"
    },
    "tags": []
   },
   "source": [
    "# Description"
   ]
  },
  {
   "cell_type": "markdown",
   "id": "0abb1d73-c786-4c6d-9dc2-b9243e5183e2",
   "metadata": {
    "papermill": {
     "duration": 0.006621,
     "end_time": "2023-09-11T18:11:10.457454",
     "exception": false,
     "start_time": "2023-09-11T18:11:10.450833",
     "status": "completed"
    },
    "tags": []
   },
   "source": [
    "It combines all coefficient values in one tissue (see `Settings` below) into a single dataframe for easier processing later."
   ]
  },
  {
   "cell_type": "markdown",
   "id": "d6252b4c-6d56-4cf0-aecd-5d8c769a3609",
   "metadata": {
    "papermill": {
     "duration": 0.002752,
     "end_time": "2023-09-11T18:11:10.464269",
     "exception": false,
     "start_time": "2023-09-11T18:11:10.461517",
     "status": "completed"
    },
    "tags": []
   },
   "source": [
    "# Modules loading"
   ]
  },
  {
   "cell_type": "code",
   "execution_count": 5,
   "id": "77e9d29d-5307-4b4a-b103-7d1fbd6a7e56",
   "metadata": {
    "execution": {
     "iopub.execute_input": "2023-09-11T18:11:10.470012Z",
     "iopub.status.busy": "2023-09-11T18:11:10.469895Z",
     "iopub.status.idle": "2023-09-11T18:11:10.583740Z",
     "shell.execute_reply": "2023-09-11T18:11:10.583440Z"
    },
    "papermill": {
     "duration": 0.117763,
     "end_time": "2023-09-11T18:11:10.584590",
     "exception": false,
     "start_time": "2023-09-11T18:11:10.466827",
     "status": "completed"
    },
    "tags": []
   },
   "outputs": [],
   "source": [
    "import pandas as pd\n",
    "from pathlib import Path\n",
    "\n",
    "from ccc import conf\n",
    "from ccc.utils import get_upper_triag"
   ]
  },
  {
   "cell_type": "markdown",
   "id": "262eb535-3e5d-43d7-9efd-bd6cfdac9190",
   "metadata": {
    "papermill": {
     "duration": 0.002699,
     "end_time": "2023-09-11T18:11:10.590106",
     "exception": false,
     "start_time": "2023-09-11T18:11:10.587407",
     "status": "completed"
    },
    "tags": []
   },
   "source": [
    "# Settings"
   ]
  },
  {
   "cell_type": "code",
   "execution_count": 8,
   "id": "2d2bd14a-a40d-4710-98c2-587148d0f532",
   "metadata": {
    "execution": {
     "iopub.execute_input": "2023-09-11T18:11:10.595833Z",
     "iopub.status.busy": "2023-09-11T18:11:10.595768Z",
     "iopub.status.idle": "2023-09-11T18:11:10.597740Z",
     "shell.execute_reply": "2023-09-11T18:11:10.597416Z"
    },
    "papermill": {
     "duration": 0.005517,
     "end_time": "2023-09-11T18:11:10.598297",
     "exception": false,
     "start_time": "2023-09-11T18:11:10.592780",
     "status": "completed"
    },
    "tags": [
     "parameters"
    ]
   },
   "outputs": [],
   "source": [
    "TOP_N_GENES = \"all\"\n",
    "# gtex_v8_data_{tissue}-{gene_sel_strategy}-{corr_method}.pkl\n",
    "DATA_DIR = Path(\"/mnt/data/proj_data/ccc-gpu/gene_expr/data/gtex_v8\")\n",
    "# whole blood by default, but this is a parameters cells that can be changed when running papermill\n",
    "GTEX_TISSUE = \"whole_blood\"\n",
    "GENE_SELECTION_STRATEGY = \"var_pc_log2\""
   ]
  },
  {
   "cell_type": "code",
   "execution_count": 3,
   "id": "9554e81e-3e31-475c-a984-e29f433c56c1",
   "metadata": {
    "execution": {
     "iopub.execute_input": "2023-09-11T18:11:10.604002Z",
     "iopub.status.busy": "2023-09-11T18:11:10.603664Z",
     "iopub.status.idle": "2023-09-11T18:11:10.605227Z",
     "shell.execute_reply": "2023-09-11T18:11:10.605089Z"
    },
    "papermill": {
     "duration": 0.004751,
     "end_time": "2023-09-11T18:11:10.605622",
     "exception": false,
     "start_time": "2023-09-11T18:11:10.600871",
     "status": "completed"
    },
    "tags": []
   },
   "outputs": [],
   "source": [
    "assert GTEX_TISSUE is not None, \"Tissue not selected\""
   ]
  },
  {
   "cell_type": "code",
   "execution_count": 17,
   "id": "c9c7ff27",
   "metadata": {},
   "outputs": [],
   "source": [
    "GENE_SELECTION_DIR = DATA_DIR / \"gene_selection\" / TOP_N_GENES\n",
    "SIMILARITY_MATRICES_DIR = DATA_DIR / \"similarity_matrices\" / TOP_N_GENES"
   ]
  },
  {
   "cell_type": "markdown",
   "id": "eec9bb6d-4ba2-4817-9b36-bc8e68a2beae",
   "metadata": {
    "papermill": {
     "duration": 0.002449,
     "end_time": "2023-09-11T18:11:10.610670",
     "exception": false,
     "start_time": "2023-09-11T18:11:10.608221",
     "status": "completed"
    },
    "tags": []
   },
   "source": [
    "# Paths"
   ]
  },
  {
   "cell_type": "code",
   "execution_count": 19,
   "id": "3c15c5b5-1b4f-456a-a548-8fc23e03f0ae",
   "metadata": {
    "execution": {
     "iopub.execute_input": "2023-09-11T18:11:10.616100Z",
     "iopub.status.busy": "2023-09-11T18:11:10.615996Z",
     "iopub.status.idle": "2023-09-11T18:11:10.619277Z",
     "shell.execute_reply": "2023-09-11T18:11:10.619153Z"
    },
    "papermill": {
     "duration": 0.006472,
     "end_time": "2023-09-11T18:11:10.619787",
     "exception": false,
     "start_time": "2023-09-11T18:11:10.613315",
     "status": "completed"
    },
    "tags": []
   },
   "outputs": [
    {
     "data": {
      "text/plain": [
       "PosixPath('/mnt/data/proj_data/ccc-gpu/gene_expr/data/gtex_v8/gene_selection/all/gtex_v8_data_whole_blood-var_pc_log2.pkl')"
      ]
     },
     "metadata": {},
     "output_type": "display_data"
    }
   ],
   "source": [
    "INPUT_GENE_EXPR_DATA_FILE = (\n",
    "    GENE_SELECTION_DIR / f\"gtex_v8_data_{GTEX_TISSUE}-{GENE_SELECTION_STRATEGY}.pkl\"\n",
    ")\n",
    "display(INPUT_GENE_EXPR_DATA_FILE)\n",
    "\n",
    "assert INPUT_GENE_EXPR_DATA_FILE.exists()"
   ]
  },
  {
   "cell_type": "code",
   "execution_count": 20,
   "id": "34c70f63-0878-4f29-9ea5-2570e6f9f33b",
   "metadata": {
    "execution": {
     "iopub.execute_input": "2023-09-11T18:11:10.625348Z",
     "iopub.status.busy": "2023-09-11T18:11:10.625268Z",
     "iopub.status.idle": "2023-09-11T18:11:10.626893Z",
     "shell.execute_reply": "2023-09-11T18:11:10.626772Z"
    },
    "papermill": {
     "duration": 0.004811,
     "end_time": "2023-09-11T18:11:10.627279",
     "exception": false,
     "start_time": "2023-09-11T18:11:10.622468",
     "status": "completed"
    },
    "tags": []
   },
   "outputs": [
    {
     "data": {
      "text/plain": [
       "PosixPath('/mnt/data/proj_data/ccc-gpu/gene_expr/data/gtex_v8/similarity_matrices/all/gtex_v8_data_{tissue}-{gene_sel_strategy}-{corr_method}.pkl')"
      ]
     },
     "metadata": {},
     "output_type": "display_data"
    }
   ],
   "source": [
    "SIMILARITY_MATRIX_FILENAME_TEMPLATE = (\n",
    "    \"gtex_v8_data_{tissue}-{gene_sel_strategy}-{corr_method}.pkl\"\n",
    ")\n",
    "INPUT_CORR_FILE_TEMPLATE = Path(\n",
    "    SIMILARITY_MATRICES_DIR / SIMILARITY_MATRIX_FILENAME_TEMPLATE\n",
    ")\n",
    "display(INPUT_CORR_FILE_TEMPLATE)"
   ]
  },
  {
   "cell_type": "code",
   "execution_count": 21,
   "id": "92b9bfd4",
   "metadata": {
    "execution": {
     "iopub.execute_input": "2023-09-11T18:11:10.632796Z",
     "iopub.status.busy": "2023-09-11T18:11:10.632705Z",
     "iopub.status.idle": "2023-09-11T18:11:10.634359Z",
     "shell.execute_reply": "2023-09-11T18:11:10.634234Z"
    },
    "papermill": {
     "duration": 0.00486,
     "end_time": "2023-09-11T18:11:10.634766",
     "exception": false,
     "start_time": "2023-09-11T18:11:10.629906",
     "status": "completed"
    },
    "tags": []
   },
   "outputs": [
    {
     "data": {
      "text/plain": [
       "PosixPath('/mnt/data/proj_data/ccc-gpu/gene_expr/data/gtex_v8/similarity_matrices/all/gtex_v8_data_whole_blood-var_pc_log2-all.pkl')"
      ]
     },
     "metadata": {},
     "output_type": "display_data"
    }
   ],
   "source": [
    "OUTPUT_FILE = SIMILARITY_MATRICES_DIR / str(INPUT_CORR_FILE_TEMPLATE).format(\n",
    "    tissue=GTEX_TISSUE,\n",
    "    gene_sel_strategy=GENE_SELECTION_STRATEGY,\n",
    "    corr_method=\"all\",\n",
    ")\n",
    "display(OUTPUT_FILE)"
   ]
  },
  {
   "cell_type": "markdown",
   "id": "e2746a93-d631-4346-9d10-a5c1f9f8de4a",
   "metadata": {
    "papermill": {
     "duration": 0.01429,
     "end_time": "2023-09-11T18:11:10.651782",
     "exception": false,
     "start_time": "2023-09-11T18:11:10.637492",
     "status": "completed"
    },
    "tags": []
   },
   "source": [
    "# Load data"
   ]
  },
  {
   "cell_type": "markdown",
   "id": "76ab9bbb-c93f-4154-b8ba-81934beb14bc",
   "metadata": {
    "papermill": {
     "duration": 0.002536,
     "end_time": "2023-09-11T18:11:10.657184",
     "exception": false,
     "start_time": "2023-09-11T18:11:10.654648",
     "status": "completed"
    },
    "tags": []
   },
   "source": [
    "## Gene Ensembl ID -> Symbol mapping"
   ]
  },
  {
   "cell_type": "code",
   "execution_count": 22,
   "id": "39b30f9d-d55b-440b-bb27-d5dc32e43780",
   "metadata": {
    "execution": {
     "iopub.execute_input": "2023-09-11T18:11:10.662932Z",
     "iopub.status.busy": "2023-09-11T18:11:10.662803Z",
     "iopub.status.idle": "2023-09-11T18:11:10.670299Z",
     "shell.execute_reply": "2023-09-11T18:11:10.670115Z"
    },
    "papermill": {
     "duration": 0.011026,
     "end_time": "2023-09-11T18:11:10.670833",
     "exception": false,
     "start_time": "2023-09-11T18:11:10.659807",
     "status": "completed"
    },
    "tags": []
   },
   "outputs": [],
   "source": [
    "gene_map = pd.read_pickle(DATA_DIR / \"gtex_gene_id_symbol_mappings.pkl\")"
   ]
  },
  {
   "cell_type": "code",
   "execution_count": 23,
   "id": "7a6eabb9-80c7-4711-84b1-b29d5d7adea6",
   "metadata": {
    "execution": {
     "iopub.execute_input": "2023-09-11T18:11:10.676517Z",
     "iopub.status.busy": "2023-09-11T18:11:10.676408Z",
     "iopub.status.idle": "2023-09-11T18:11:10.691688Z",
     "shell.execute_reply": "2023-09-11T18:11:10.691527Z"
    },
    "papermill": {
     "duration": 0.018614,
     "end_time": "2023-09-11T18:11:10.692139",
     "exception": false,
     "start_time": "2023-09-11T18:11:10.673525",
     "status": "completed"
    },
    "tags": []
   },
   "outputs": [],
   "source": [
    "gene_map = gene_map.set_index(\"gene_ens_id\")[\"gene_symbol\"].to_dict()"
   ]
  },
  {
   "cell_type": "code",
   "execution_count": 24,
   "id": "e51b921d-0adf-4006-9602-d075f223c260",
   "metadata": {
    "execution": {
     "iopub.execute_input": "2023-09-11T18:11:10.697903Z",
     "iopub.status.busy": "2023-09-11T18:11:10.697786Z",
     "iopub.status.idle": "2023-09-11T18:11:10.699108Z",
     "shell.execute_reply": "2023-09-11T18:11:10.698974Z"
    },
    "papermill": {
     "duration": 0.004631,
     "end_time": "2023-09-11T18:11:10.699497",
     "exception": false,
     "start_time": "2023-09-11T18:11:10.694866",
     "status": "completed"
    },
    "tags": []
   },
   "outputs": [],
   "source": [
    "assert gene_map[\"ENSG00000145309.5\"] == \"CABS1\""
   ]
  },
  {
   "cell_type": "markdown",
   "id": "f4669dbd-b654-4090-8a72-aa6bf0a6053c",
   "metadata": {
    "papermill": {
     "duration": 0.002566,
     "end_time": "2023-09-11T18:11:10.704756",
     "exception": false,
     "start_time": "2023-09-11T18:11:10.702190",
     "status": "completed"
    },
    "tags": []
   },
   "source": [
    "## Gene expression"
   ]
  },
  {
   "cell_type": "code",
   "execution_count": 25,
   "id": "04690975-e95b-4fc9-ad3e-3d29e2a3ff5a",
   "metadata": {
    "execution": {
     "iopub.execute_input": "2023-09-11T18:11:10.710230Z",
     "iopub.status.busy": "2023-09-11T18:11:10.710155Z",
     "iopub.status.idle": "2023-09-11T18:11:10.720192Z",
     "shell.execute_reply": "2023-09-11T18:11:10.720045Z"
    },
    "papermill": {
     "duration": 0.01326,
     "end_time": "2023-09-11T18:11:10.720644",
     "exception": false,
     "start_time": "2023-09-11T18:11:10.707384",
     "status": "completed"
    },
    "tags": []
   },
   "outputs": [],
   "source": [
    "data = pd.read_pickle(INPUT_GENE_EXPR_DATA_FILE)"
   ]
  },
  {
   "cell_type": "code",
   "execution_count": 26,
   "id": "bebfab6c-9805-4cee-8fc3-be66cb45ade7",
   "metadata": {
    "execution": {
     "iopub.execute_input": "2023-09-11T18:11:10.726234Z",
     "iopub.status.busy": "2023-09-11T18:11:10.726108Z",
     "iopub.status.idle": "2023-09-11T18:11:10.727721Z",
     "shell.execute_reply": "2023-09-11T18:11:10.727596Z"
    },
    "papermill": {
     "duration": 0.004795,
     "end_time": "2023-09-11T18:11:10.728136",
     "exception": false,
     "start_time": "2023-09-11T18:11:10.723341",
     "status": "completed"
    },
    "tags": []
   },
   "outputs": [
    {
     "data": {
      "text/plain": [
       "(56200, 755)"
      ]
     },
     "execution_count": 26,
     "metadata": {},
     "output_type": "execute_result"
    }
   ],
   "source": [
    "data.shape"
   ]
  },
  {
   "cell_type": "code",
   "execution_count": 27,
   "id": "20cdd83a-3bbb-4b7b-95a7-1095713af74c",
   "metadata": {
    "execution": {
     "iopub.execute_input": "2023-09-11T18:11:10.733865Z",
     "iopub.status.busy": "2023-09-11T18:11:10.733717Z",
     "iopub.status.idle": "2023-09-11T18:11:10.741473Z",
     "shell.execute_reply": "2023-09-11T18:11:10.741342Z"
    },
    "papermill": {
     "duration": 0.011072,
     "end_time": "2023-09-11T18:11:10.741893",
     "exception": false,
     "start_time": "2023-09-11T18:11:10.730821",
     "status": "completed"
    },
    "tags": []
   },
   "outputs": [
    {
     "data": {
      "text/html": [
       "<div>\n",
       "<style scoped>\n",
       "    .dataframe tbody tr th:only-of-type {\n",
       "        vertical-align: middle;\n",
       "    }\n",
       "\n",
       "    .dataframe tbody tr th {\n",
       "        vertical-align: top;\n",
       "    }\n",
       "\n",
       "    .dataframe thead th {\n",
       "        text-align: right;\n",
       "    }\n",
       "</style>\n",
       "<table border=\"1\" class=\"dataframe\">\n",
       "  <thead>\n",
       "    <tr style=\"text-align: right;\">\n",
       "      <th></th>\n",
       "      <th>GTEX-111YS-0006-SM-5NQBE</th>\n",
       "      <th>GTEX-1122O-0005-SM-5O99J</th>\n",
       "      <th>GTEX-1128S-0005-SM-5P9HI</th>\n",
       "      <th>GTEX-113IC-0006-SM-5NQ9C</th>\n",
       "      <th>GTEX-113JC-0006-SM-5O997</th>\n",
       "      <th>GTEX-117XS-0005-SM-5PNU6</th>\n",
       "      <th>GTEX-117YW-0005-SM-5NQ8Z</th>\n",
       "      <th>GTEX-1192W-0005-SM-5NQBQ</th>\n",
       "      <th>GTEX-1192X-0005-SM-5NQC3</th>\n",
       "      <th>GTEX-11DXW-0006-SM-5NQ7Y</th>\n",
       "      <th>...</th>\n",
       "      <th>GTEX-ZVE2-0006-SM-51MRW</th>\n",
       "      <th>GTEX-ZVP2-0005-SM-51MRK</th>\n",
       "      <th>GTEX-ZVT2-0005-SM-57WBW</th>\n",
       "      <th>GTEX-ZVT3-0006-SM-51MT9</th>\n",
       "      <th>GTEX-ZVT4-0006-SM-57WB8</th>\n",
       "      <th>GTEX-ZVTK-0006-SM-57WBK</th>\n",
       "      <th>GTEX-ZVZP-0006-SM-51MSW</th>\n",
       "      <th>GTEX-ZVZQ-0006-SM-51MR8</th>\n",
       "      <th>GTEX-ZXES-0005-SM-57WCB</th>\n",
       "      <th>GTEX-ZXG5-0005-SM-57WCN</th>\n",
       "    </tr>\n",
       "    <tr>\n",
       "      <th>gene_ens_id</th>\n",
       "      <th></th>\n",
       "      <th></th>\n",
       "      <th></th>\n",
       "      <th></th>\n",
       "      <th></th>\n",
       "      <th></th>\n",
       "      <th></th>\n",
       "      <th></th>\n",
       "      <th></th>\n",
       "      <th></th>\n",
       "      <th></th>\n",
       "      <th></th>\n",
       "      <th></th>\n",
       "      <th></th>\n",
       "      <th></th>\n",
       "      <th></th>\n",
       "      <th></th>\n",
       "      <th></th>\n",
       "      <th></th>\n",
       "      <th></th>\n",
       "      <th></th>\n",
       "    </tr>\n",
       "  </thead>\n",
       "  <tbody>\n",
       "    <tr>\n",
       "      <th>ENSG00000169429.10</th>\n",
       "      <td>0.5623</td>\n",
       "      <td>0.8067</td>\n",
       "      <td>116.90000</td>\n",
       "      <td>4.047</td>\n",
       "      <td>211.0</td>\n",
       "      <td>58.110</td>\n",
       "      <td>68.38</td>\n",
       "      <td>249.50</td>\n",
       "      <td>5.095</td>\n",
       "      <td>295.9</td>\n",
       "      <td>...</td>\n",
       "      <td>39.960</td>\n",
       "      <td>0.1393</td>\n",
       "      <td>0.22380</td>\n",
       "      <td>245.0</td>\n",
       "      <td>513.6</td>\n",
       "      <td>1626.00</td>\n",
       "      <td>0.5633</td>\n",
       "      <td>515.70</td>\n",
       "      <td>1.19400</td>\n",
       "      <td>1163.00</td>\n",
       "    </tr>\n",
       "    <tr>\n",
       "      <th>ENSG00000135245.9</th>\n",
       "      <td>0.6529</td>\n",
       "      <td>1.3850</td>\n",
       "      <td>199.20000</td>\n",
       "      <td>2.266</td>\n",
       "      <td>116.7</td>\n",
       "      <td>192.300</td>\n",
       "      <td>161.50</td>\n",
       "      <td>263.50</td>\n",
       "      <td>23.540</td>\n",
       "      <td>251.9</td>\n",
       "      <td>...</td>\n",
       "      <td>114.300</td>\n",
       "      <td>1.8330</td>\n",
       "      <td>0.41150</td>\n",
       "      <td>149.0</td>\n",
       "      <td>935.3</td>\n",
       "      <td>233.60</td>\n",
       "      <td>0.8882</td>\n",
       "      <td>134.00</td>\n",
       "      <td>1.12000</td>\n",
       "      <td>295.70</td>\n",
       "    </tr>\n",
       "    <tr>\n",
       "      <th>ENSG00000163631.16</th>\n",
       "      <td>1.8480</td>\n",
       "      <td>0.2503</td>\n",
       "      <td>0.08429</td>\n",
       "      <td>1.251</td>\n",
       "      <td>1348.0</td>\n",
       "      <td>9.971</td>\n",
       "      <td>101.30</td>\n",
       "      <td>95.09</td>\n",
       "      <td>1.264</td>\n",
       "      <td>119.3</td>\n",
       "      <td>...</td>\n",
       "      <td>2.092</td>\n",
       "      <td>2.1100</td>\n",
       "      <td>0.03588</td>\n",
       "      <td>171.8</td>\n",
       "      <td>107.1</td>\n",
       "      <td>71.25</td>\n",
       "      <td>1.7720</td>\n",
       "      <td>309.60</td>\n",
       "      <td>0.07361</td>\n",
       "      <td>17.75</td>\n",
       "    </tr>\n",
       "    <tr>\n",
       "      <th>ENSG00000277632.1</th>\n",
       "      <td>1.6960</td>\n",
       "      <td>1.3450</td>\n",
       "      <td>235.10000</td>\n",
       "      <td>11.770</td>\n",
       "      <td>141.7</td>\n",
       "      <td>199.100</td>\n",
       "      <td>525.50</td>\n",
       "      <td>659.90</td>\n",
       "      <td>10.910</td>\n",
       "      <td>209.3</td>\n",
       "      <td>...</td>\n",
       "      <td>61.340</td>\n",
       "      <td>2.2500</td>\n",
       "      <td>0.72310</td>\n",
       "      <td>261.2</td>\n",
       "      <td>400.0</td>\n",
       "      <td>288.50</td>\n",
       "      <td>2.6960</td>\n",
       "      <td>287.50</td>\n",
       "      <td>3.32300</td>\n",
       "      <td>618.90</td>\n",
       "    </tr>\n",
       "    <tr>\n",
       "      <th>ENSG00000239839.6</th>\n",
       "      <td>185.2000</td>\n",
       "      <td>1.7790</td>\n",
       "      <td>694.30000</td>\n",
       "      <td>23.840</td>\n",
       "      <td>297.3</td>\n",
       "      <td>3122.000</td>\n",
       "      <td>2521.00</td>\n",
       "      <td>1504.00</td>\n",
       "      <td>80.060</td>\n",
       "      <td>652.0</td>\n",
       "      <td>...</td>\n",
       "      <td>1010.000</td>\n",
       "      <td>253.8000</td>\n",
       "      <td>94.52000</td>\n",
       "      <td>6083.0</td>\n",
       "      <td>2768.0</td>\n",
       "      <td>52.06</td>\n",
       "      <td>34.5700</td>\n",
       "      <td>17.36</td>\n",
       "      <td>352.30000</td>\n",
       "      <td>63.85</td>\n",
       "    </tr>\n",
       "  </tbody>\n",
       "</table>\n",
       "<p>5 rows × 755 columns</p>\n",
       "</div>"
      ],
      "text/plain": [
       "                    GTEX-111YS-0006-SM-5NQBE  GTEX-1122O-0005-SM-5O99J  \\\n",
       "gene_ens_id                                                              \n",
       "ENSG00000169429.10                    0.5623                    0.8067   \n",
       "ENSG00000135245.9                     0.6529                    1.3850   \n",
       "ENSG00000163631.16                    1.8480                    0.2503   \n",
       "ENSG00000277632.1                     1.6960                    1.3450   \n",
       "ENSG00000239839.6                   185.2000                    1.7790   \n",
       "\n",
       "                    GTEX-1128S-0005-SM-5P9HI  GTEX-113IC-0006-SM-5NQ9C  \\\n",
       "gene_ens_id                                                              \n",
       "ENSG00000169429.10                 116.90000                     4.047   \n",
       "ENSG00000135245.9                  199.20000                     2.266   \n",
       "ENSG00000163631.16                   0.08429                     1.251   \n",
       "ENSG00000277632.1                  235.10000                    11.770   \n",
       "ENSG00000239839.6                  694.30000                    23.840   \n",
       "\n",
       "                    GTEX-113JC-0006-SM-5O997  GTEX-117XS-0005-SM-5PNU6  \\\n",
       "gene_ens_id                                                              \n",
       "ENSG00000169429.10                     211.0                    58.110   \n",
       "ENSG00000135245.9                      116.7                   192.300   \n",
       "ENSG00000163631.16                    1348.0                     9.971   \n",
       "ENSG00000277632.1                      141.7                   199.100   \n",
       "ENSG00000239839.6                      297.3                  3122.000   \n",
       "\n",
       "                    GTEX-117YW-0005-SM-5NQ8Z  GTEX-1192W-0005-SM-5NQBQ  \\\n",
       "gene_ens_id                                                              \n",
       "ENSG00000169429.10                     68.38                    249.50   \n",
       "ENSG00000135245.9                     161.50                    263.50   \n",
       "ENSG00000163631.16                    101.30                     95.09   \n",
       "ENSG00000277632.1                     525.50                    659.90   \n",
       "ENSG00000239839.6                    2521.00                   1504.00   \n",
       "\n",
       "                    GTEX-1192X-0005-SM-5NQC3  GTEX-11DXW-0006-SM-5NQ7Y  ...  \\\n",
       "gene_ens_id                                                             ...   \n",
       "ENSG00000169429.10                     5.095                     295.9  ...   \n",
       "ENSG00000135245.9                     23.540                     251.9  ...   \n",
       "ENSG00000163631.16                     1.264                     119.3  ...   \n",
       "ENSG00000277632.1                     10.910                     209.3  ...   \n",
       "ENSG00000239839.6                     80.060                     652.0  ...   \n",
       "\n",
       "                    GTEX-ZVE2-0006-SM-51MRW  GTEX-ZVP2-0005-SM-51MRK  \\\n",
       "gene_ens_id                                                            \n",
       "ENSG00000169429.10                   39.960                   0.1393   \n",
       "ENSG00000135245.9                   114.300                   1.8330   \n",
       "ENSG00000163631.16                    2.092                   2.1100   \n",
       "ENSG00000277632.1                    61.340                   2.2500   \n",
       "ENSG00000239839.6                  1010.000                 253.8000   \n",
       "\n",
       "                    GTEX-ZVT2-0005-SM-57WBW  GTEX-ZVT3-0006-SM-51MT9  \\\n",
       "gene_ens_id                                                            \n",
       "ENSG00000169429.10                  0.22380                    245.0   \n",
       "ENSG00000135245.9                   0.41150                    149.0   \n",
       "ENSG00000163631.16                  0.03588                    171.8   \n",
       "ENSG00000277632.1                   0.72310                    261.2   \n",
       "ENSG00000239839.6                  94.52000                   6083.0   \n",
       "\n",
       "                    GTEX-ZVT4-0006-SM-57WB8  GTEX-ZVTK-0006-SM-57WBK  \\\n",
       "gene_ens_id                                                            \n",
       "ENSG00000169429.10                    513.6                  1626.00   \n",
       "ENSG00000135245.9                     935.3                   233.60   \n",
       "ENSG00000163631.16                    107.1                    71.25   \n",
       "ENSG00000277632.1                     400.0                   288.50   \n",
       "ENSG00000239839.6                    2768.0                    52.06   \n",
       "\n",
       "                    GTEX-ZVZP-0006-SM-51MSW  GTEX-ZVZQ-0006-SM-51MR8  \\\n",
       "gene_ens_id                                                            \n",
       "ENSG00000169429.10                   0.5633                   515.70   \n",
       "ENSG00000135245.9                    0.8882                   134.00   \n",
       "ENSG00000163631.16                   1.7720                   309.60   \n",
       "ENSG00000277632.1                    2.6960                   287.50   \n",
       "ENSG00000239839.6                   34.5700                    17.36   \n",
       "\n",
       "                    GTEX-ZXES-0005-SM-57WCB  GTEX-ZXG5-0005-SM-57WCN  \n",
       "gene_ens_id                                                           \n",
       "ENSG00000169429.10                  1.19400                  1163.00  \n",
       "ENSG00000135245.9                   1.12000                   295.70  \n",
       "ENSG00000163631.16                  0.07361                    17.75  \n",
       "ENSG00000277632.1                   3.32300                   618.90  \n",
       "ENSG00000239839.6                 352.30000                    63.85  \n",
       "\n",
       "[5 rows x 755 columns]"
      ]
     },
     "execution_count": 27,
     "metadata": {},
     "output_type": "execute_result"
    }
   ],
   "source": [
    "data.head()"
   ]
  },
  {
   "cell_type": "markdown",
   "id": "f816809d-2024-4c2c-be4f-3c04e24ecfca",
   "metadata": {
    "papermill": {
     "duration": 0.002691,
     "end_time": "2023-09-11T18:11:10.747469",
     "exception": false,
     "start_time": "2023-09-11T18:11:10.744778",
     "status": "completed"
    },
    "tags": []
   },
   "source": [
    "## CCC-GPU"
   ]
  },
  {
   "cell_type": "code",
   "execution_count": 29,
   "id": "9a8196ee-48d8-42f8-814b-8125a4e5e63b",
   "metadata": {
    "execution": {
     "iopub.execute_input": "2023-09-11T18:11:10.753251Z",
     "iopub.status.busy": "2023-09-11T18:11:10.753159Z",
     "iopub.status.idle": "2023-09-11T18:11:10.816760Z",
     "shell.execute_reply": "2023-09-11T18:11:10.816496Z"
    },
    "papermill": {
     "duration": 0.067338,
     "end_time": "2023-09-11T18:11:10.817581",
     "exception": false,
     "start_time": "2023-09-11T18:11:10.750243",
     "status": "completed"
    },
    "tags": []
   },
   "outputs": [],
   "source": [
    "clustermatch_df = pd.read_pickle(\n",
    "    str(INPUT_CORR_FILE_TEMPLATE).format(\n",
    "        tissue=GTEX_TISSUE,\n",
    "        gene_sel_strategy=GENE_SELECTION_STRATEGY,\n",
    "        corr_method=\"ccc_gpu\",\n",
    "    )\n",
    ")"
   ]
  },
  {
   "cell_type": "code",
   "execution_count": 30,
   "id": "5f611930-9923-4ff2-9c1f-fb81bcdad625",
   "metadata": {
    "execution": {
     "iopub.execute_input": "2023-09-11T18:11:10.824005Z",
     "iopub.status.busy": "2023-09-11T18:11:10.823924Z",
     "iopub.status.idle": "2023-09-11T18:11:10.825754Z",
     "shell.execute_reply": "2023-09-11T18:11:10.825617Z"
    },
    "papermill": {
     "duration": 0.005538,
     "end_time": "2023-09-11T18:11:10.826243",
     "exception": false,
     "start_time": "2023-09-11T18:11:10.820705",
     "status": "completed"
    },
    "tags": []
   },
   "outputs": [
    {
     "data": {
      "text/plain": [
       "(56200, 56200)"
      ]
     },
     "execution_count": 30,
     "metadata": {},
     "output_type": "execute_result"
    }
   ],
   "source": [
    "clustermatch_df.shape"
   ]
  },
  {
   "cell_type": "code",
   "execution_count": 31,
   "id": "c9fc4460-6ae2-42ab-9923-9f7a3e3d942c",
   "metadata": {
    "execution": {
     "iopub.execute_input": "2023-09-11T18:11:10.832206Z",
     "iopub.status.busy": "2023-09-11T18:11:10.832093Z",
     "iopub.status.idle": "2023-09-11T18:11:10.838507Z",
     "shell.execute_reply": "2023-09-11T18:11:10.838353Z"
    },
    "papermill": {
     "duration": 0.009954,
     "end_time": "2023-09-11T18:11:10.839004",
     "exception": false,
     "start_time": "2023-09-11T18:11:10.829050",
     "status": "completed"
    },
    "tags": []
   },
   "outputs": [
    {
     "data": {
      "text/html": [
       "<div>\n",
       "<style scoped>\n",
       "    .dataframe tbody tr th:only-of-type {\n",
       "        vertical-align: middle;\n",
       "    }\n",
       "\n",
       "    .dataframe tbody tr th {\n",
       "        vertical-align: top;\n",
       "    }\n",
       "\n",
       "    .dataframe thead th {\n",
       "        text-align: right;\n",
       "    }\n",
       "</style>\n",
       "<table border=\"1\" class=\"dataframe\">\n",
       "  <thead>\n",
       "    <tr style=\"text-align: right;\">\n",
       "      <th>gene_ens_id</th>\n",
       "      <th>ENSG00000169429.10</th>\n",
       "      <th>ENSG00000135245.9</th>\n",
       "      <th>ENSG00000163631.16</th>\n",
       "      <th>ENSG00000277632.1</th>\n",
       "      <th>ENSG00000239839.6</th>\n",
       "      <th>ENSG00000186652.9</th>\n",
       "      <th>ENSG00000129824.15</th>\n",
       "      <th>ENSG00000152463.14</th>\n",
       "      <th>ENSG00000123689.5</th>\n",
       "      <th>ENSG00000012223.12</th>\n",
       "      <th>...</th>\n",
       "      <th>ENSG00000199224.1</th>\n",
       "      <th>ENSG00000271798.1</th>\n",
       "      <th>ENSG00000229686.1</th>\n",
       "      <th>ENSG00000234273.1</th>\n",
       "      <th>ENSG00000271368.1</th>\n",
       "      <th>ENSG00000278424.1</th>\n",
       "      <th>ENSG00000199024.1</th>\n",
       "      <th>ENSG00000278281.1</th>\n",
       "      <th>ENSG00000232661.1</th>\n",
       "      <th>ENSG00000206780.1</th>\n",
       "    </tr>\n",
       "    <tr>\n",
       "      <th>gene_ens_id</th>\n",
       "      <th></th>\n",
       "      <th></th>\n",
       "      <th></th>\n",
       "      <th></th>\n",
       "      <th></th>\n",
       "      <th></th>\n",
       "      <th></th>\n",
       "      <th></th>\n",
       "      <th></th>\n",
       "      <th></th>\n",
       "      <th></th>\n",
       "      <th></th>\n",
       "      <th></th>\n",
       "      <th></th>\n",
       "      <th></th>\n",
       "      <th></th>\n",
       "      <th></th>\n",
       "      <th></th>\n",
       "      <th></th>\n",
       "      <th></th>\n",
       "      <th></th>\n",
       "    </tr>\n",
       "  </thead>\n",
       "  <tbody>\n",
       "    <tr>\n",
       "      <th>ENSG00000169429.10</th>\n",
       "      <td>1.000000</td>\n",
       "      <td>0.780181</td>\n",
       "      <td>0.401717</td>\n",
       "      <td>0.789583</td>\n",
       "      <td>0.139359</td>\n",
       "      <td>0.524274</td>\n",
       "      <td>0.048667</td>\n",
       "      <td>0.365544</td>\n",
       "      <td>0.799041</td>\n",
       "      <td>0.343411</td>\n",
       "      <td>...</td>\n",
       "      <td>NaN</td>\n",
       "      <td>NaN</td>\n",
       "      <td>NaN</td>\n",
       "      <td>NaN</td>\n",
       "      <td>NaN</td>\n",
       "      <td>NaN</td>\n",
       "      <td>NaN</td>\n",
       "      <td>NaN</td>\n",
       "      <td>NaN</td>\n",
       "      <td>NaN</td>\n",
       "    </tr>\n",
       "    <tr>\n",
       "      <th>ENSG00000135245.9</th>\n",
       "      <td>0.780181</td>\n",
       "      <td>1.000000</td>\n",
       "      <td>0.429092</td>\n",
       "      <td>0.780181</td>\n",
       "      <td>0.159947</td>\n",
       "      <td>0.516615</td>\n",
       "      <td>0.042631</td>\n",
       "      <td>0.334136</td>\n",
       "      <td>0.752314</td>\n",
       "      <td>0.355974</td>\n",
       "      <td>...</td>\n",
       "      <td>NaN</td>\n",
       "      <td>NaN</td>\n",
       "      <td>NaN</td>\n",
       "      <td>NaN</td>\n",
       "      <td>NaN</td>\n",
       "      <td>NaN</td>\n",
       "      <td>NaN</td>\n",
       "      <td>NaN</td>\n",
       "      <td>NaN</td>\n",
       "      <td>NaN</td>\n",
       "    </tr>\n",
       "    <tr>\n",
       "      <th>ENSG00000163631.16</th>\n",
       "      <td>0.401717</td>\n",
       "      <td>0.429092</td>\n",
       "      <td>1.000000</td>\n",
       "      <td>0.408477</td>\n",
       "      <td>0.127681</td>\n",
       "      <td>0.401717</td>\n",
       "      <td>0.020316</td>\n",
       "      <td>0.232700</td>\n",
       "      <td>0.381776</td>\n",
       "      <td>0.261762</td>\n",
       "      <td>...</td>\n",
       "      <td>NaN</td>\n",
       "      <td>NaN</td>\n",
       "      <td>NaN</td>\n",
       "      <td>NaN</td>\n",
       "      <td>NaN</td>\n",
       "      <td>NaN</td>\n",
       "      <td>NaN</td>\n",
       "      <td>NaN</td>\n",
       "      <td>NaN</td>\n",
       "      <td>NaN</td>\n",
       "    </tr>\n",
       "    <tr>\n",
       "      <th>ENSG00000277632.1</th>\n",
       "      <td>0.789583</td>\n",
       "      <td>0.780181</td>\n",
       "      <td>0.408477</td>\n",
       "      <td>1.000000</td>\n",
       "      <td>0.151543</td>\n",
       "      <td>0.547588</td>\n",
       "      <td>0.055712</td>\n",
       "      <td>0.346530</td>\n",
       "      <td>0.761547</td>\n",
       "      <td>0.381776</td>\n",
       "      <td>...</td>\n",
       "      <td>NaN</td>\n",
       "      <td>NaN</td>\n",
       "      <td>NaN</td>\n",
       "      <td>NaN</td>\n",
       "      <td>NaN</td>\n",
       "      <td>NaN</td>\n",
       "      <td>NaN</td>\n",
       "      <td>NaN</td>\n",
       "      <td>NaN</td>\n",
       "      <td>NaN</td>\n",
       "    </tr>\n",
       "    <tr>\n",
       "      <th>ENSG00000239839.6</th>\n",
       "      <td>0.139359</td>\n",
       "      <td>0.159947</td>\n",
       "      <td>0.127681</td>\n",
       "      <td>0.151543</td>\n",
       "      <td>1.000000</td>\n",
       "      <td>0.272752</td>\n",
       "      <td>0.008065</td>\n",
       "      <td>0.100699</td>\n",
       "      <td>0.135411</td>\n",
       "      <td>0.318958</td>\n",
       "      <td>...</td>\n",
       "      <td>NaN</td>\n",
       "      <td>NaN</td>\n",
       "      <td>NaN</td>\n",
       "      <td>NaN</td>\n",
       "      <td>NaN</td>\n",
       "      <td>NaN</td>\n",
       "      <td>NaN</td>\n",
       "      <td>NaN</td>\n",
       "      <td>NaN</td>\n",
       "      <td>NaN</td>\n",
       "    </tr>\n",
       "  </tbody>\n",
       "</table>\n",
       "<p>5 rows × 56200 columns</p>\n",
       "</div>"
      ],
      "text/plain": [
       "gene_ens_id         ENSG00000169429.10  ENSG00000135245.9  ENSG00000163631.16  \\\n",
       "gene_ens_id                                                                     \n",
       "ENSG00000169429.10            1.000000           0.780181            0.401717   \n",
       "ENSG00000135245.9             0.780181           1.000000            0.429092   \n",
       "ENSG00000163631.16            0.401717           0.429092            1.000000   \n",
       "ENSG00000277632.1             0.789583           0.780181            0.408477   \n",
       "ENSG00000239839.6             0.139359           0.159947            0.127681   \n",
       "\n",
       "gene_ens_id         ENSG00000277632.1  ENSG00000239839.6  ENSG00000186652.9  \\\n",
       "gene_ens_id                                                                   \n",
       "ENSG00000169429.10           0.789583           0.139359           0.524274   \n",
       "ENSG00000135245.9            0.780181           0.159947           0.516615   \n",
       "ENSG00000163631.16           0.408477           0.127681           0.401717   \n",
       "ENSG00000277632.1            1.000000           0.151543           0.547588   \n",
       "ENSG00000239839.6            0.151543           1.000000           0.272752   \n",
       "\n",
       "gene_ens_id         ENSG00000129824.15  ENSG00000152463.14  ENSG00000123689.5  \\\n",
       "gene_ens_id                                                                     \n",
       "ENSG00000169429.10            0.048667            0.365544           0.799041   \n",
       "ENSG00000135245.9             0.042631            0.334136           0.752314   \n",
       "ENSG00000163631.16            0.020316            0.232700           0.381776   \n",
       "ENSG00000277632.1             0.055712            0.346530           0.761547   \n",
       "ENSG00000239839.6             0.008065            0.100699           0.135411   \n",
       "\n",
       "gene_ens_id         ENSG00000012223.12  ...  ENSG00000199224.1  \\\n",
       "gene_ens_id                             ...                      \n",
       "ENSG00000169429.10            0.343411  ...                NaN   \n",
       "ENSG00000135245.9             0.355974  ...                NaN   \n",
       "ENSG00000163631.16            0.261762  ...                NaN   \n",
       "ENSG00000277632.1             0.381776  ...                NaN   \n",
       "ENSG00000239839.6             0.318958  ...                NaN   \n",
       "\n",
       "gene_ens_id         ENSG00000271798.1  ENSG00000229686.1  ENSG00000234273.1  \\\n",
       "gene_ens_id                                                                   \n",
       "ENSG00000169429.10                NaN                NaN                NaN   \n",
       "ENSG00000135245.9                 NaN                NaN                NaN   \n",
       "ENSG00000163631.16                NaN                NaN                NaN   \n",
       "ENSG00000277632.1                 NaN                NaN                NaN   \n",
       "ENSG00000239839.6                 NaN                NaN                NaN   \n",
       "\n",
       "gene_ens_id         ENSG00000271368.1  ENSG00000278424.1  ENSG00000199024.1  \\\n",
       "gene_ens_id                                                                   \n",
       "ENSG00000169429.10                NaN                NaN                NaN   \n",
       "ENSG00000135245.9                 NaN                NaN                NaN   \n",
       "ENSG00000163631.16                NaN                NaN                NaN   \n",
       "ENSG00000277632.1                 NaN                NaN                NaN   \n",
       "ENSG00000239839.6                 NaN                NaN                NaN   \n",
       "\n",
       "gene_ens_id         ENSG00000278281.1  ENSG00000232661.1  ENSG00000206780.1  \n",
       "gene_ens_id                                                                  \n",
       "ENSG00000169429.10                NaN                NaN                NaN  \n",
       "ENSG00000135245.9                 NaN                NaN                NaN  \n",
       "ENSG00000163631.16                NaN                NaN                NaN  \n",
       "ENSG00000277632.1                 NaN                NaN                NaN  \n",
       "ENSG00000239839.6                 NaN                NaN                NaN  \n",
       "\n",
       "[5 rows x 56200 columns]"
      ]
     },
     "execution_count": 31,
     "metadata": {},
     "output_type": "execute_result"
    }
   ],
   "source": [
    "clustermatch_df.head()"
   ]
  },
  {
   "cell_type": "code",
   "execution_count": 32,
   "id": "e8d06663-b757-4c9a-bf88-efe799cf4c16",
   "metadata": {
    "execution": {
     "iopub.execute_input": "2023-09-11T18:11:10.845301Z",
     "iopub.status.busy": "2023-09-11T18:11:10.845203Z",
     "iopub.status.idle": "2023-09-11T18:11:10.846613Z",
     "shell.execute_reply": "2023-09-11T18:11:10.846458Z"
    },
    "papermill": {
     "duration": 0.005131,
     "end_time": "2023-09-11T18:11:10.847088",
     "exception": false,
     "start_time": "2023-09-11T18:11:10.841957",
     "status": "completed"
    },
    "tags": []
   },
   "outputs": [],
   "source": [
    "assert data.index.equals(clustermatch_df.index)"
   ]
  },
  {
   "cell_type": "markdown",
   "id": "0277745a-71cf-4b42-a1ad-949ffa423a35",
   "metadata": {
    "papermill": {
     "duration": 0.002827,
     "end_time": "2023-09-11T18:11:10.852825",
     "exception": false,
     "start_time": "2023-09-11T18:11:10.849998",
     "status": "completed"
    },
    "tags": []
   },
   "source": [
    "## Pearson"
   ]
  },
  {
   "cell_type": "code",
   "execution_count": 33,
   "id": "25fec66a-2209-4556-9ab9-a6de8ae6737c",
   "metadata": {
    "execution": {
     "iopub.execute_input": "2023-09-11T18:11:10.859088Z",
     "iopub.status.busy": "2023-09-11T18:11:10.859020Z",
     "iopub.status.idle": "2023-09-11T18:11:10.918750Z",
     "shell.execute_reply": "2023-09-11T18:11:10.918550Z"
    },
    "papermill": {
     "duration": 0.063792,
     "end_time": "2023-09-11T18:11:10.919520",
     "exception": false,
     "start_time": "2023-09-11T18:11:10.855728",
     "status": "completed"
    },
    "tags": []
   },
   "outputs": [],
   "source": [
    "pearson_df = pd.read_pickle(\n",
    "    str(INPUT_CORR_FILE_TEMPLATE).format(\n",
    "        tissue=GTEX_TISSUE,\n",
    "        gene_sel_strategy=GENE_SELECTION_STRATEGY,\n",
    "        corr_method=\"pearson\",\n",
    "    )\n",
    ")"
   ]
  },
  {
   "cell_type": "code",
   "execution_count": 34,
   "id": "9cf7764d-a6f1-4fa3-9731-4eacac4ec7ef",
   "metadata": {
    "execution": {
     "iopub.execute_input": "2023-09-11T18:11:10.926035Z",
     "iopub.status.busy": "2023-09-11T18:11:10.925944Z",
     "iopub.status.idle": "2023-09-11T18:11:10.927661Z",
     "shell.execute_reply": "2023-09-11T18:11:10.927535Z"
    },
    "papermill": {
     "duration": 0.005432,
     "end_time": "2023-09-11T18:11:10.928124",
     "exception": false,
     "start_time": "2023-09-11T18:11:10.922692",
     "status": "completed"
    },
    "tags": []
   },
   "outputs": [
    {
     "data": {
      "text/plain": [
       "(56200, 56200)"
      ]
     },
     "execution_count": 34,
     "metadata": {},
     "output_type": "execute_result"
    }
   ],
   "source": [
    "pearson_df.shape"
   ]
  },
  {
   "cell_type": "code",
   "execution_count": 35,
   "id": "d2a2fe84-ead6-4ac3-8980-e9ecc8fb4eec",
   "metadata": {
    "execution": {
     "iopub.execute_input": "2023-09-11T18:11:10.934465Z",
     "iopub.status.busy": "2023-09-11T18:11:10.934388Z",
     "iopub.status.idle": "2023-09-11T18:11:10.940866Z",
     "shell.execute_reply": "2023-09-11T18:11:10.940710Z"
    },
    "papermill": {
     "duration": 0.010296,
     "end_time": "2023-09-11T18:11:10.941387",
     "exception": false,
     "start_time": "2023-09-11T18:11:10.931091",
     "status": "completed"
    },
    "tags": []
   },
   "outputs": [
    {
     "data": {
      "text/html": [
       "<div>\n",
       "<style scoped>\n",
       "    .dataframe tbody tr th:only-of-type {\n",
       "        vertical-align: middle;\n",
       "    }\n",
       "\n",
       "    .dataframe tbody tr th {\n",
       "        vertical-align: top;\n",
       "    }\n",
       "\n",
       "    .dataframe thead th {\n",
       "        text-align: right;\n",
       "    }\n",
       "</style>\n",
       "<table border=\"1\" class=\"dataframe\">\n",
       "  <thead>\n",
       "    <tr style=\"text-align: right;\">\n",
       "      <th>gene_ens_id</th>\n",
       "      <th>ENSG00000169429.10</th>\n",
       "      <th>ENSG00000135245.9</th>\n",
       "      <th>ENSG00000163631.16</th>\n",
       "      <th>ENSG00000277632.1</th>\n",
       "      <th>ENSG00000239839.6</th>\n",
       "      <th>ENSG00000186652.9</th>\n",
       "      <th>ENSG00000129824.15</th>\n",
       "      <th>ENSG00000152463.14</th>\n",
       "      <th>ENSG00000123689.5</th>\n",
       "      <th>ENSG00000012223.12</th>\n",
       "      <th>...</th>\n",
       "      <th>ENSG00000199224.1</th>\n",
       "      <th>ENSG00000271798.1</th>\n",
       "      <th>ENSG00000229686.1</th>\n",
       "      <th>ENSG00000234273.1</th>\n",
       "      <th>ENSG00000271368.1</th>\n",
       "      <th>ENSG00000278424.1</th>\n",
       "      <th>ENSG00000199024.1</th>\n",
       "      <th>ENSG00000278281.1</th>\n",
       "      <th>ENSG00000232661.1</th>\n",
       "      <th>ENSG00000206780.1</th>\n",
       "    </tr>\n",
       "    <tr>\n",
       "      <th>gene_ens_id</th>\n",
       "      <th></th>\n",
       "      <th></th>\n",
       "      <th></th>\n",
       "      <th></th>\n",
       "      <th></th>\n",
       "      <th></th>\n",
       "      <th></th>\n",
       "      <th></th>\n",
       "      <th></th>\n",
       "      <th></th>\n",
       "      <th></th>\n",
       "      <th></th>\n",
       "      <th></th>\n",
       "      <th></th>\n",
       "      <th></th>\n",
       "      <th></th>\n",
       "      <th></th>\n",
       "      <th></th>\n",
       "      <th></th>\n",
       "      <th></th>\n",
       "      <th></th>\n",
       "    </tr>\n",
       "  </thead>\n",
       "  <tbody>\n",
       "    <tr>\n",
       "      <th>ENSG00000169429.10</th>\n",
       "      <td>1.000000</td>\n",
       "      <td>0.571672</td>\n",
       "      <td>0.126906</td>\n",
       "      <td>0.456538</td>\n",
       "      <td>0.127140</td>\n",
       "      <td>0.256347</td>\n",
       "      <td>0.300878</td>\n",
       "      <td>-0.268024</td>\n",
       "      <td>0.472277</td>\n",
       "      <td>0.355504</td>\n",
       "      <td>...</td>\n",
       "      <td>NaN</td>\n",
       "      <td>NaN</td>\n",
       "      <td>NaN</td>\n",
       "      <td>NaN</td>\n",
       "      <td>NaN</td>\n",
       "      <td>NaN</td>\n",
       "      <td>NaN</td>\n",
       "      <td>NaN</td>\n",
       "      <td>NaN</td>\n",
       "      <td>NaN</td>\n",
       "    </tr>\n",
       "    <tr>\n",
       "      <th>ENSG00000135245.9</th>\n",
       "      <td>0.571672</td>\n",
       "      <td>1.000000</td>\n",
       "      <td>0.110612</td>\n",
       "      <td>0.438929</td>\n",
       "      <td>0.209161</td>\n",
       "      <td>0.223671</td>\n",
       "      <td>0.203370</td>\n",
       "      <td>-0.325667</td>\n",
       "      <td>0.532544</td>\n",
       "      <td>0.406272</td>\n",
       "      <td>...</td>\n",
       "      <td>NaN</td>\n",
       "      <td>NaN</td>\n",
       "      <td>NaN</td>\n",
       "      <td>NaN</td>\n",
       "      <td>NaN</td>\n",
       "      <td>NaN</td>\n",
       "      <td>NaN</td>\n",
       "      <td>NaN</td>\n",
       "      <td>NaN</td>\n",
       "      <td>NaN</td>\n",
       "    </tr>\n",
       "    <tr>\n",
       "      <th>ENSG00000163631.16</th>\n",
       "      <td>0.126906</td>\n",
       "      <td>0.110612</td>\n",
       "      <td>1.000000</td>\n",
       "      <td>0.129248</td>\n",
       "      <td>0.021091</td>\n",
       "      <td>0.054572</td>\n",
       "      <td>0.072717</td>\n",
       "      <td>-0.131141</td>\n",
       "      <td>0.235882</td>\n",
       "      <td>0.098683</td>\n",
       "      <td>...</td>\n",
       "      <td>NaN</td>\n",
       "      <td>NaN</td>\n",
       "      <td>NaN</td>\n",
       "      <td>NaN</td>\n",
       "      <td>NaN</td>\n",
       "      <td>NaN</td>\n",
       "      <td>NaN</td>\n",
       "      <td>NaN</td>\n",
       "      <td>NaN</td>\n",
       "      <td>NaN</td>\n",
       "    </tr>\n",
       "    <tr>\n",
       "      <th>ENSG00000277632.1</th>\n",
       "      <td>0.456538</td>\n",
       "      <td>0.438929</td>\n",
       "      <td>0.129248</td>\n",
       "      <td>1.000000</td>\n",
       "      <td>0.199647</td>\n",
       "      <td>0.238356</td>\n",
       "      <td>0.366739</td>\n",
       "      <td>-0.361011</td>\n",
       "      <td>0.406964</td>\n",
       "      <td>0.416603</td>\n",
       "      <td>...</td>\n",
       "      <td>NaN</td>\n",
       "      <td>NaN</td>\n",
       "      <td>NaN</td>\n",
       "      <td>NaN</td>\n",
       "      <td>NaN</td>\n",
       "      <td>NaN</td>\n",
       "      <td>NaN</td>\n",
       "      <td>NaN</td>\n",
       "      <td>NaN</td>\n",
       "      <td>NaN</td>\n",
       "    </tr>\n",
       "    <tr>\n",
       "      <th>ENSG00000239839.6</th>\n",
       "      <td>0.127140</td>\n",
       "      <td>0.209161</td>\n",
       "      <td>0.021091</td>\n",
       "      <td>0.199647</td>\n",
       "      <td>1.000000</td>\n",
       "      <td>0.229287</td>\n",
       "      <td>0.022563</td>\n",
       "      <td>-0.183318</td>\n",
       "      <td>0.077410</td>\n",
       "      <td>0.541731</td>\n",
       "      <td>...</td>\n",
       "      <td>NaN</td>\n",
       "      <td>NaN</td>\n",
       "      <td>NaN</td>\n",
       "      <td>NaN</td>\n",
       "      <td>NaN</td>\n",
       "      <td>NaN</td>\n",
       "      <td>NaN</td>\n",
       "      <td>NaN</td>\n",
       "      <td>NaN</td>\n",
       "      <td>NaN</td>\n",
       "    </tr>\n",
       "  </tbody>\n",
       "</table>\n",
       "<p>5 rows × 56200 columns</p>\n",
       "</div>"
      ],
      "text/plain": [
       "gene_ens_id         ENSG00000169429.10  ENSG00000135245.9  ENSG00000163631.16  \\\n",
       "gene_ens_id                                                                     \n",
       "ENSG00000169429.10            1.000000           0.571672            0.126906   \n",
       "ENSG00000135245.9             0.571672           1.000000            0.110612   \n",
       "ENSG00000163631.16            0.126906           0.110612            1.000000   \n",
       "ENSG00000277632.1             0.456538           0.438929            0.129248   \n",
       "ENSG00000239839.6             0.127140           0.209161            0.021091   \n",
       "\n",
       "gene_ens_id         ENSG00000277632.1  ENSG00000239839.6  ENSG00000186652.9  \\\n",
       "gene_ens_id                                                                   \n",
       "ENSG00000169429.10           0.456538           0.127140           0.256347   \n",
       "ENSG00000135245.9            0.438929           0.209161           0.223671   \n",
       "ENSG00000163631.16           0.129248           0.021091           0.054572   \n",
       "ENSG00000277632.1            1.000000           0.199647           0.238356   \n",
       "ENSG00000239839.6            0.199647           1.000000           0.229287   \n",
       "\n",
       "gene_ens_id         ENSG00000129824.15  ENSG00000152463.14  ENSG00000123689.5  \\\n",
       "gene_ens_id                                                                     \n",
       "ENSG00000169429.10            0.300878           -0.268024           0.472277   \n",
       "ENSG00000135245.9             0.203370           -0.325667           0.532544   \n",
       "ENSG00000163631.16            0.072717           -0.131141           0.235882   \n",
       "ENSG00000277632.1             0.366739           -0.361011           0.406964   \n",
       "ENSG00000239839.6             0.022563           -0.183318           0.077410   \n",
       "\n",
       "gene_ens_id         ENSG00000012223.12  ...  ENSG00000199224.1  \\\n",
       "gene_ens_id                             ...                      \n",
       "ENSG00000169429.10            0.355504  ...                NaN   \n",
       "ENSG00000135245.9             0.406272  ...                NaN   \n",
       "ENSG00000163631.16            0.098683  ...                NaN   \n",
       "ENSG00000277632.1             0.416603  ...                NaN   \n",
       "ENSG00000239839.6             0.541731  ...                NaN   \n",
       "\n",
       "gene_ens_id         ENSG00000271798.1  ENSG00000229686.1  ENSG00000234273.1  \\\n",
       "gene_ens_id                                                                   \n",
       "ENSG00000169429.10                NaN                NaN                NaN   \n",
       "ENSG00000135245.9                 NaN                NaN                NaN   \n",
       "ENSG00000163631.16                NaN                NaN                NaN   \n",
       "ENSG00000277632.1                 NaN                NaN                NaN   \n",
       "ENSG00000239839.6                 NaN                NaN                NaN   \n",
       "\n",
       "gene_ens_id         ENSG00000271368.1  ENSG00000278424.1  ENSG00000199024.1  \\\n",
       "gene_ens_id                                                                   \n",
       "ENSG00000169429.10                NaN                NaN                NaN   \n",
       "ENSG00000135245.9                 NaN                NaN                NaN   \n",
       "ENSG00000163631.16                NaN                NaN                NaN   \n",
       "ENSG00000277632.1                 NaN                NaN                NaN   \n",
       "ENSG00000239839.6                 NaN                NaN                NaN   \n",
       "\n",
       "gene_ens_id         ENSG00000278281.1  ENSG00000232661.1  ENSG00000206780.1  \n",
       "gene_ens_id                                                                  \n",
       "ENSG00000169429.10                NaN                NaN                NaN  \n",
       "ENSG00000135245.9                 NaN                NaN                NaN  \n",
       "ENSG00000163631.16                NaN                NaN                NaN  \n",
       "ENSG00000277632.1                 NaN                NaN                NaN  \n",
       "ENSG00000239839.6                 NaN                NaN                NaN  \n",
       "\n",
       "[5 rows x 56200 columns]"
      ]
     },
     "execution_count": 35,
     "metadata": {},
     "output_type": "execute_result"
    }
   ],
   "source": [
    "pearson_df.head()"
   ]
  },
  {
   "cell_type": "code",
   "execution_count": 36,
   "id": "52aec2ed-709e-4a8b-885f-0d5f6a24e01d",
   "metadata": {
    "execution": {
     "iopub.execute_input": "2023-09-11T18:11:10.947870Z",
     "iopub.status.busy": "2023-09-11T18:11:10.947723Z",
     "iopub.status.idle": "2023-09-11T18:11:10.949162Z",
     "shell.execute_reply": "2023-09-11T18:11:10.949025Z"
    },
    "papermill": {
     "duration": 0.005161,
     "end_time": "2023-09-11T18:11:10.949602",
     "exception": false,
     "start_time": "2023-09-11T18:11:10.944441",
     "status": "completed"
    },
    "tags": []
   },
   "outputs": [],
   "source": [
    "assert data.index.equals(pearson_df.index)"
   ]
  },
  {
   "cell_type": "markdown",
   "id": "6f0ee3a9-baa6-4a05-904d-8606b26da6c5",
   "metadata": {
    "papermill": {
     "duration": 0.002945,
     "end_time": "2023-09-11T18:11:10.955608",
     "exception": false,
     "start_time": "2023-09-11T18:11:10.952663",
     "status": "completed"
    },
    "tags": []
   },
   "source": [
    "## Spearman"
   ]
  },
  {
   "cell_type": "code",
   "execution_count": 37,
   "id": "41edc475-d086-4041-85dc-e41a0d6a89ac",
   "metadata": {
    "execution": {
     "iopub.execute_input": "2023-09-11T18:11:10.961993Z",
     "iopub.status.busy": "2023-09-11T18:11:10.961840Z",
     "iopub.status.idle": "2023-09-11T18:11:11.023620Z",
     "shell.execute_reply": "2023-09-11T18:11:11.023337Z"
    },
    "papermill": {
     "duration": 0.06596,
     "end_time": "2023-09-11T18:11:11.024564",
     "exception": false,
     "start_time": "2023-09-11T18:11:10.958604",
     "status": "completed"
    },
    "tags": []
   },
   "outputs": [],
   "source": [
    "spearman_df = pd.read_pickle(\n",
    "    str(INPUT_CORR_FILE_TEMPLATE).format(\n",
    "        tissue=GTEX_TISSUE,\n",
    "        gene_sel_strategy=GENE_SELECTION_STRATEGY,\n",
    "        corr_method=\"spearman\",\n",
    "    )\n",
    ")"
   ]
  },
  {
   "cell_type": "code",
   "execution_count": 38,
   "id": "a5326477-cc14-47bc-9c7b-cd4e1afffdff",
   "metadata": {
    "execution": {
     "iopub.execute_input": "2023-09-11T18:11:11.031660Z",
     "iopub.status.busy": "2023-09-11T18:11:11.031596Z",
     "iopub.status.idle": "2023-09-11T18:11:11.033487Z",
     "shell.execute_reply": "2023-09-11T18:11:11.033333Z"
    },
    "papermill": {
     "duration": 0.006025,
     "end_time": "2023-09-11T18:11:11.034062",
     "exception": false,
     "start_time": "2023-09-11T18:11:11.028037",
     "status": "completed"
    },
    "tags": []
   },
   "outputs": [
    {
     "data": {
      "text/plain": [
       "(56200, 56200)"
      ]
     },
     "execution_count": 38,
     "metadata": {},
     "output_type": "execute_result"
    }
   ],
   "source": [
    "spearman_df.shape"
   ]
  },
  {
   "cell_type": "code",
   "execution_count": 39,
   "id": "acb0044e-2fb2-4349-a103-07c675895321",
   "metadata": {
    "execution": {
     "iopub.execute_input": "2023-09-11T18:11:11.040439Z",
     "iopub.status.busy": "2023-09-11T18:11:11.040380Z",
     "iopub.status.idle": "2023-09-11T18:11:11.046712Z",
     "shell.execute_reply": "2023-09-11T18:11:11.046579Z"
    },
    "papermill": {
     "duration": 0.010117,
     "end_time": "2023-09-11T18:11:11.047234",
     "exception": false,
     "start_time": "2023-09-11T18:11:11.037117",
     "status": "completed"
    },
    "tags": []
   },
   "outputs": [
    {
     "data": {
      "text/html": [
       "<div>\n",
       "<style scoped>\n",
       "    .dataframe tbody tr th:only-of-type {\n",
       "        vertical-align: middle;\n",
       "    }\n",
       "\n",
       "    .dataframe tbody tr th {\n",
       "        vertical-align: top;\n",
       "    }\n",
       "\n",
       "    .dataframe thead th {\n",
       "        text-align: right;\n",
       "    }\n",
       "</style>\n",
       "<table border=\"1\" class=\"dataframe\">\n",
       "  <thead>\n",
       "    <tr style=\"text-align: right;\">\n",
       "      <th>gene_ens_id</th>\n",
       "      <th>ENSG00000169429.10</th>\n",
       "      <th>ENSG00000135245.9</th>\n",
       "      <th>ENSG00000163631.16</th>\n",
       "      <th>ENSG00000277632.1</th>\n",
       "      <th>ENSG00000239839.6</th>\n",
       "      <th>ENSG00000186652.9</th>\n",
       "      <th>ENSG00000129824.15</th>\n",
       "      <th>ENSG00000152463.14</th>\n",
       "      <th>ENSG00000123689.5</th>\n",
       "      <th>ENSG00000012223.12</th>\n",
       "      <th>...</th>\n",
       "      <th>ENSG00000199224.1</th>\n",
       "      <th>ENSG00000271798.1</th>\n",
       "      <th>ENSG00000229686.1</th>\n",
       "      <th>ENSG00000234273.1</th>\n",
       "      <th>ENSG00000271368.1</th>\n",
       "      <th>ENSG00000278424.1</th>\n",
       "      <th>ENSG00000199024.1</th>\n",
       "      <th>ENSG00000278281.1</th>\n",
       "      <th>ENSG00000232661.1</th>\n",
       "      <th>ENSG00000206780.1</th>\n",
       "    </tr>\n",
       "    <tr>\n",
       "      <th>gene_ens_id</th>\n",
       "      <th></th>\n",
       "      <th></th>\n",
       "      <th></th>\n",
       "      <th></th>\n",
       "      <th></th>\n",
       "      <th></th>\n",
       "      <th></th>\n",
       "      <th></th>\n",
       "      <th></th>\n",
       "      <th></th>\n",
       "      <th></th>\n",
       "      <th></th>\n",
       "      <th></th>\n",
       "      <th></th>\n",
       "      <th></th>\n",
       "      <th></th>\n",
       "      <th></th>\n",
       "      <th></th>\n",
       "      <th></th>\n",
       "      <th></th>\n",
       "      <th></th>\n",
       "    </tr>\n",
       "  </thead>\n",
       "  <tbody>\n",
       "    <tr>\n",
       "      <th>ENSG00000169429.10</th>\n",
       "      <td>1.000000</td>\n",
       "      <td>0.853836</td>\n",
       "      <td>0.709240</td>\n",
       "      <td>0.850371</td>\n",
       "      <td>0.379835</td>\n",
       "      <td>0.760102</td>\n",
       "      <td>0.243599</td>\n",
       "      <td>-0.694446</td>\n",
       "      <td>0.866183</td>\n",
       "      <td>0.657452</td>\n",
       "      <td>...</td>\n",
       "      <td>NaN</td>\n",
       "      <td>NaN</td>\n",
       "      <td>NaN</td>\n",
       "      <td>NaN</td>\n",
       "      <td>NaN</td>\n",
       "      <td>NaN</td>\n",
       "      <td>NaN</td>\n",
       "      <td>NaN</td>\n",
       "      <td>NaN</td>\n",
       "      <td>NaN</td>\n",
       "    </tr>\n",
       "    <tr>\n",
       "      <th>ENSG00000135245.9</th>\n",
       "      <td>0.853836</td>\n",
       "      <td>1.000000</td>\n",
       "      <td>0.675719</td>\n",
       "      <td>0.834496</td>\n",
       "      <td>0.422539</td>\n",
       "      <td>0.735840</td>\n",
       "      <td>0.233504</td>\n",
       "      <td>-0.574572</td>\n",
       "      <td>0.827193</td>\n",
       "      <td>0.626538</td>\n",
       "      <td>...</td>\n",
       "      <td>NaN</td>\n",
       "      <td>NaN</td>\n",
       "      <td>NaN</td>\n",
       "      <td>NaN</td>\n",
       "      <td>NaN</td>\n",
       "      <td>NaN</td>\n",
       "      <td>NaN</td>\n",
       "      <td>NaN</td>\n",
       "      <td>NaN</td>\n",
       "      <td>NaN</td>\n",
       "    </tr>\n",
       "    <tr>\n",
       "      <th>ENSG00000163631.16</th>\n",
       "      <td>0.709240</td>\n",
       "      <td>0.675719</td>\n",
       "      <td>1.000000</td>\n",
       "      <td>0.683018</td>\n",
       "      <td>0.388814</td>\n",
       "      <td>0.730922</td>\n",
       "      <td>0.177607</td>\n",
       "      <td>-0.558213</td>\n",
       "      <td>0.667917</td>\n",
       "      <td>0.613913</td>\n",
       "      <td>...</td>\n",
       "      <td>NaN</td>\n",
       "      <td>NaN</td>\n",
       "      <td>NaN</td>\n",
       "      <td>NaN</td>\n",
       "      <td>NaN</td>\n",
       "      <td>NaN</td>\n",
       "      <td>NaN</td>\n",
       "      <td>NaN</td>\n",
       "      <td>NaN</td>\n",
       "      <td>NaN</td>\n",
       "    </tr>\n",
       "    <tr>\n",
       "      <th>ENSG00000277632.1</th>\n",
       "      <td>0.850371</td>\n",
       "      <td>0.834496</td>\n",
       "      <td>0.683018</td>\n",
       "      <td>1.000000</td>\n",
       "      <td>0.402836</td>\n",
       "      <td>0.756369</td>\n",
       "      <td>0.281333</td>\n",
       "      <td>-0.667793</td>\n",
       "      <td>0.808998</td>\n",
       "      <td>0.659031</td>\n",
       "      <td>...</td>\n",
       "      <td>NaN</td>\n",
       "      <td>NaN</td>\n",
       "      <td>NaN</td>\n",
       "      <td>NaN</td>\n",
       "      <td>NaN</td>\n",
       "      <td>NaN</td>\n",
       "      <td>NaN</td>\n",
       "      <td>NaN</td>\n",
       "      <td>NaN</td>\n",
       "      <td>NaN</td>\n",
       "    </tr>\n",
       "    <tr>\n",
       "      <th>ENSG00000239839.6</th>\n",
       "      <td>0.379835</td>\n",
       "      <td>0.422539</td>\n",
       "      <td>0.388814</td>\n",
       "      <td>0.402836</td>\n",
       "      <td>1.000000</td>\n",
       "      <td>0.626519</td>\n",
       "      <td>0.045501</td>\n",
       "      <td>-0.341542</td>\n",
       "      <td>0.297492</td>\n",
       "      <td>0.691271</td>\n",
       "      <td>...</td>\n",
       "      <td>NaN</td>\n",
       "      <td>NaN</td>\n",
       "      <td>NaN</td>\n",
       "      <td>NaN</td>\n",
       "      <td>NaN</td>\n",
       "      <td>NaN</td>\n",
       "      <td>NaN</td>\n",
       "      <td>NaN</td>\n",
       "      <td>NaN</td>\n",
       "      <td>NaN</td>\n",
       "    </tr>\n",
       "  </tbody>\n",
       "</table>\n",
       "<p>5 rows × 56200 columns</p>\n",
       "</div>"
      ],
      "text/plain": [
       "gene_ens_id         ENSG00000169429.10  ENSG00000135245.9  ENSG00000163631.16  \\\n",
       "gene_ens_id                                                                     \n",
       "ENSG00000169429.10            1.000000           0.853836            0.709240   \n",
       "ENSG00000135245.9             0.853836           1.000000            0.675719   \n",
       "ENSG00000163631.16            0.709240           0.675719            1.000000   \n",
       "ENSG00000277632.1             0.850371           0.834496            0.683018   \n",
       "ENSG00000239839.6             0.379835           0.422539            0.388814   \n",
       "\n",
       "gene_ens_id         ENSG00000277632.1  ENSG00000239839.6  ENSG00000186652.9  \\\n",
       "gene_ens_id                                                                   \n",
       "ENSG00000169429.10           0.850371           0.379835           0.760102   \n",
       "ENSG00000135245.9            0.834496           0.422539           0.735840   \n",
       "ENSG00000163631.16           0.683018           0.388814           0.730922   \n",
       "ENSG00000277632.1            1.000000           0.402836           0.756369   \n",
       "ENSG00000239839.6            0.402836           1.000000           0.626519   \n",
       "\n",
       "gene_ens_id         ENSG00000129824.15  ENSG00000152463.14  ENSG00000123689.5  \\\n",
       "gene_ens_id                                                                     \n",
       "ENSG00000169429.10            0.243599           -0.694446           0.866183   \n",
       "ENSG00000135245.9             0.233504           -0.574572           0.827193   \n",
       "ENSG00000163631.16            0.177607           -0.558213           0.667917   \n",
       "ENSG00000277632.1             0.281333           -0.667793           0.808998   \n",
       "ENSG00000239839.6             0.045501           -0.341542           0.297492   \n",
       "\n",
       "gene_ens_id         ENSG00000012223.12  ...  ENSG00000199224.1  \\\n",
       "gene_ens_id                             ...                      \n",
       "ENSG00000169429.10            0.657452  ...                NaN   \n",
       "ENSG00000135245.9             0.626538  ...                NaN   \n",
       "ENSG00000163631.16            0.613913  ...                NaN   \n",
       "ENSG00000277632.1             0.659031  ...                NaN   \n",
       "ENSG00000239839.6             0.691271  ...                NaN   \n",
       "\n",
       "gene_ens_id         ENSG00000271798.1  ENSG00000229686.1  ENSG00000234273.1  \\\n",
       "gene_ens_id                                                                   \n",
       "ENSG00000169429.10                NaN                NaN                NaN   \n",
       "ENSG00000135245.9                 NaN                NaN                NaN   \n",
       "ENSG00000163631.16                NaN                NaN                NaN   \n",
       "ENSG00000277632.1                 NaN                NaN                NaN   \n",
       "ENSG00000239839.6                 NaN                NaN                NaN   \n",
       "\n",
       "gene_ens_id         ENSG00000271368.1  ENSG00000278424.1  ENSG00000199024.1  \\\n",
       "gene_ens_id                                                                   \n",
       "ENSG00000169429.10                NaN                NaN                NaN   \n",
       "ENSG00000135245.9                 NaN                NaN                NaN   \n",
       "ENSG00000163631.16                NaN                NaN                NaN   \n",
       "ENSG00000277632.1                 NaN                NaN                NaN   \n",
       "ENSG00000239839.6                 NaN                NaN                NaN   \n",
       "\n",
       "gene_ens_id         ENSG00000278281.1  ENSG00000232661.1  ENSG00000206780.1  \n",
       "gene_ens_id                                                                  \n",
       "ENSG00000169429.10                NaN                NaN                NaN  \n",
       "ENSG00000135245.9                 NaN                NaN                NaN  \n",
       "ENSG00000163631.16                NaN                NaN                NaN  \n",
       "ENSG00000277632.1                 NaN                NaN                NaN  \n",
       "ENSG00000239839.6                 NaN                NaN                NaN  \n",
       "\n",
       "[5 rows x 56200 columns]"
      ]
     },
     "execution_count": 39,
     "metadata": {},
     "output_type": "execute_result"
    }
   ],
   "source": [
    "spearman_df.head()"
   ]
  },
  {
   "cell_type": "code",
   "execution_count": 40,
   "id": "ccd00c49-b2b0-42b3-97e9-a444bffc0654",
   "metadata": {
    "execution": {
     "iopub.execute_input": "2023-09-11T18:11:11.054318Z",
     "iopub.status.busy": "2023-09-11T18:11:11.054249Z",
     "iopub.status.idle": "2023-09-11T18:11:11.055664Z",
     "shell.execute_reply": "2023-09-11T18:11:11.055531Z"
    },
    "papermill": {
     "duration": 0.005253,
     "end_time": "2023-09-11T18:11:11.056118",
     "exception": false,
     "start_time": "2023-09-11T18:11:11.050865",
     "status": "completed"
    },
    "tags": []
   },
   "outputs": [],
   "source": [
    "assert data.index.equals(spearman_df.index)"
   ]
  },
  {
   "cell_type": "markdown",
   "id": "d8ad7af3-5821-4501-b336-c01a4cfb78ec",
   "metadata": {
    "papermill": {
     "duration": 0.003061,
     "end_time": "2023-09-11T18:11:11.062394",
     "exception": false,
     "start_time": "2023-09-11T18:11:11.059333",
     "status": "completed"
    },
    "tags": []
   },
   "source": [
    "## Merge"
   ]
  },
  {
   "cell_type": "code",
   "execution_count": 25,
   "id": "0f647602-5e63-4f49-b88f-9dbc175d1967",
   "metadata": {
    "execution": {
     "iopub.execute_input": "2023-09-11T18:11:11.069080Z",
     "iopub.status.busy": "2023-09-11T18:11:11.069003Z",
     "iopub.status.idle": "2023-09-11T18:11:11.070171Z",
     "shell.execute_reply": "2023-09-11T18:11:11.070038Z"
    },
    "papermill": {
     "duration": 0.005067,
     "end_time": "2023-09-11T18:11:11.070646",
     "exception": false,
     "start_time": "2023-09-11T18:11:11.065579",
     "status": "completed"
    },
    "tags": []
   },
   "outputs": [],
   "source": [
    "# # make sure genes match\n",
    "# clustermatch_df = clustermatch_df.loc[pearson_df.index, pearson_df.columns]"
   ]
  },
  {
   "cell_type": "code",
   "execution_count": 41,
   "id": "ae82d327-4f1b-413c-a7e9-c5b82268f013",
   "metadata": {
    "execution": {
     "iopub.execute_input": "2023-09-11T18:11:11.077326Z",
     "iopub.status.busy": "2023-09-11T18:11:11.077195Z",
     "iopub.status.idle": "2023-09-11T18:11:11.208889Z",
     "shell.execute_reply": "2023-09-11T18:11:11.208688Z"
    },
    "papermill": {
     "duration": 0.13585,
     "end_time": "2023-09-11T18:11:11.209691",
     "exception": false,
     "start_time": "2023-09-11T18:11:11.073841",
     "status": "completed"
    },
    "tags": []
   },
   "outputs": [],
   "source": [
    "clustermatch_df = get_upper_triag(clustermatch_df)"
   ]
  },
  {
   "cell_type": "code",
   "execution_count": 42,
   "id": "b51f60c1-8f81-45ae-a89a-11ae721ed8d2",
   "metadata": {
    "execution": {
     "iopub.execute_input": "2023-09-11T18:11:11.223956Z",
     "iopub.status.busy": "2023-09-11T18:11:11.223862Z",
     "iopub.status.idle": "2023-09-11T18:11:11.446504Z",
     "shell.execute_reply": "2023-09-11T18:11:11.446202Z"
    },
    "papermill": {
     "duration": 0.234201,
     "end_time": "2023-09-11T18:11:11.447672",
     "exception": false,
     "start_time": "2023-09-11T18:11:11.213471",
     "status": "completed"
    },
    "tags": []
   },
   "outputs": [
    {
     "ename": "",
     "evalue": "",
     "output_type": "error",
     "traceback": [
      "\u001b[1;31mThe Kernel crashed while executing code in the current cell or a previous cell. \n",
      "\u001b[1;31mPlease review the code in the cell(s) to identify a possible cause of the failure. \n",
      "\u001b[1;31mClick <a href='https://aka.ms/vscodeJupyterKernelCrash'>here</a> for more info. \n",
      "\u001b[1;31mView Jupyter <a href='command:jupyter.viewOutput'>log</a> for further details."
     ]
    },
    {
     "ename": "",
     "evalue": "",
     "output_type": "error",
     "traceback": [
      "\u001b[1;31mCanceled future for execute_request message before replies were done"
     ]
    },
    {
     "ename": "",
     "evalue": "",
     "output_type": "error",
     "traceback": [
      "\u001b[1;31mCanceled future for execute_request message before replies were done. \n",
      "\u001b[1;31mView Jupyter <a href='command:jupyter.viewOutput'>log</a> for further details."
     ]
    }
   ],
   "source": [
    "clustermatch_df = clustermatch_df.unstack().rename_axis((None, None)).dropna()"
   ]
  },
  {
   "cell_type": "code",
   "execution_count": 28,
   "id": "6dcab8f8-b51f-4120-8f3d-6322ddf0fc9b",
   "metadata": {
    "execution": {
     "iopub.execute_input": "2023-09-11T18:11:11.464309Z",
     "iopub.status.busy": "2023-09-11T18:11:11.464232Z",
     "iopub.status.idle": "2023-09-11T18:11:11.466360Z",
     "shell.execute_reply": "2023-09-11T18:11:11.466210Z"
    },
    "papermill": {
     "duration": 0.012978,
     "end_time": "2023-09-11T18:11:11.466949",
     "exception": false,
     "start_time": "2023-09-11T18:11:11.453971",
     "status": "completed"
    },
    "tags": []
   },
   "outputs": [
    {
     "data": {
      "text/plain": [
       "(12497500,)"
      ]
     },
     "execution_count": 28,
     "metadata": {},
     "output_type": "execute_result"
    }
   ],
   "source": [
    "clustermatch_df.shape"
   ]
  },
  {
   "cell_type": "code",
   "execution_count": 29,
   "id": "9b1d8344-94ab-449e-803b-fbfbb6c0a152",
   "metadata": {
    "execution": {
     "iopub.execute_input": "2023-09-11T18:11:11.476654Z",
     "iopub.status.busy": "2023-09-11T18:11:11.476440Z",
     "iopub.status.idle": "2023-09-11T18:11:11.479552Z",
     "shell.execute_reply": "2023-09-11T18:11:11.479357Z"
    },
    "papermill": {
     "duration": 0.009379,
     "end_time": "2023-09-11T18:11:11.480275",
     "exception": false,
     "start_time": "2023-09-11T18:11:11.470896",
     "status": "completed"
    },
    "tags": []
   },
   "outputs": [
    {
     "data": {
      "text/plain": [
       "ENSG00000135245.9   ENSG00000169429.10    0.780181\n",
       "ENSG00000163631.16  ENSG00000169429.10    0.401717\n",
       "                    ENSG00000135245.9     0.429092\n",
       "ENSG00000277632.1   ENSG00000169429.10    0.789583\n",
       "                    ENSG00000135245.9     0.780181\n",
       "dtype: float64"
      ]
     },
     "execution_count": 29,
     "metadata": {},
     "output_type": "execute_result"
    }
   ],
   "source": [
    "clustermatch_df.head()"
   ]
  },
  {
   "cell_type": "code",
   "execution_count": 30,
   "id": "2d15b513-c949-4b43-96e7-9eb3f30fc5ef",
   "metadata": {
    "execution": {
     "iopub.execute_input": "2023-09-11T18:11:11.487939Z",
     "iopub.status.busy": "2023-09-11T18:11:11.487837Z",
     "iopub.status.idle": "2023-09-11T18:11:11.618330Z",
     "shell.execute_reply": "2023-09-11T18:11:11.618044Z"
    },
    "papermill": {
     "duration": 0.134915,
     "end_time": "2023-09-11T18:11:11.619274",
     "exception": false,
     "start_time": "2023-09-11T18:11:11.484359",
     "status": "completed"
    },
    "tags": []
   },
   "outputs": [],
   "source": [
    "pearson_df = get_upper_triag(pearson_df)"
   ]
  },
  {
   "cell_type": "code",
   "execution_count": 31,
   "id": "62e67326-bdd5-4710-9bbe-da0ca57ec466",
   "metadata": {
    "execution": {
     "iopub.execute_input": "2023-09-11T18:11:11.633433Z",
     "iopub.status.busy": "2023-09-11T18:11:11.633321Z",
     "iopub.status.idle": "2023-09-11T18:11:11.870138Z",
     "shell.execute_reply": "2023-09-11T18:11:11.869835Z"
    },
    "papermill": {
     "duration": 0.248283,
     "end_time": "2023-09-11T18:11:11.871277",
     "exception": false,
     "start_time": "2023-09-11T18:11:11.622994",
     "status": "completed"
    },
    "tags": []
   },
   "outputs": [],
   "source": [
    "# make pearson abs\n",
    "pearson_df = pearson_df.unstack().rename_axis((None, None)).dropna().abs()"
   ]
  },
  {
   "cell_type": "code",
   "execution_count": 32,
   "id": "1a357889-1e00-4ff3-b0d1-a65ae9254824",
   "metadata": {
    "execution": {
     "iopub.execute_input": "2023-09-11T18:11:11.886520Z",
     "iopub.status.busy": "2023-09-11T18:11:11.886393Z",
     "iopub.status.idle": "2023-09-11T18:11:11.889073Z",
     "shell.execute_reply": "2023-09-11T18:11:11.888865Z"
    },
    "papermill": {
     "duration": 0.013406,
     "end_time": "2023-09-11T18:11:11.889573",
     "exception": false,
     "start_time": "2023-09-11T18:11:11.876167",
     "status": "completed"
    },
    "tags": []
   },
   "outputs": [
    {
     "data": {
      "text/plain": [
       "(12497500,)"
      ]
     },
     "execution_count": 32,
     "metadata": {},
     "output_type": "execute_result"
    }
   ],
   "source": [
    "pearson_df.shape"
   ]
  },
  {
   "cell_type": "code",
   "execution_count": 33,
   "id": "1e2a38f8-8e02-490f-8e8f-4fee1b1159fa",
   "metadata": {
    "execution": {
     "iopub.execute_input": "2023-09-11T18:11:11.898452Z",
     "iopub.status.busy": "2023-09-11T18:11:11.898313Z",
     "iopub.status.idle": "2023-09-11T18:11:11.901505Z",
     "shell.execute_reply": "2023-09-11T18:11:11.901328Z"
    },
    "papermill": {
     "duration": 0.007996,
     "end_time": "2023-09-11T18:11:11.902056",
     "exception": false,
     "start_time": "2023-09-11T18:11:11.894060",
     "status": "completed"
    },
    "tags": []
   },
   "outputs": [
    {
     "data": {
      "text/plain": [
       "ENSG00000135245.9   ENSG00000169429.10    0.571672\n",
       "ENSG00000163631.16  ENSG00000169429.10    0.126906\n",
       "                    ENSG00000135245.9     0.110612\n",
       "ENSG00000277632.1   ENSG00000169429.10    0.456538\n",
       "                    ENSG00000135245.9     0.438929\n",
       "dtype: float64"
      ]
     },
     "execution_count": 33,
     "metadata": {},
     "output_type": "execute_result"
    }
   ],
   "source": [
    "pearson_df.head()"
   ]
  },
  {
   "cell_type": "code",
   "execution_count": 34,
   "id": "002f33f3-ebcf-4755-aa7b-82802e115ee0",
   "metadata": {
    "execution": {
     "iopub.execute_input": "2023-09-11T18:11:11.910999Z",
     "iopub.status.busy": "2023-09-11T18:11:11.910854Z",
     "iopub.status.idle": "2023-09-11T18:11:12.919371Z",
     "shell.execute_reply": "2023-09-11T18:11:12.919079Z"
    },
    "papermill": {
     "duration": 1.014095,
     "end_time": "2023-09-11T18:11:12.920101",
     "exception": false,
     "start_time": "2023-09-11T18:11:11.906006",
     "status": "completed"
    },
    "tags": []
   },
   "outputs": [],
   "source": [
    "assert clustermatch_df.index.equals(pearson_df.index)"
   ]
  },
  {
   "cell_type": "code",
   "execution_count": 35,
   "id": "2b1a29c7-221a-4e92-a6ac-e8f3932178e3",
   "metadata": {
    "execution": {
     "iopub.execute_input": "2023-09-11T18:11:12.927497Z",
     "iopub.status.busy": "2023-09-11T18:11:12.927410Z",
     "iopub.status.idle": "2023-09-11T18:11:13.060009Z",
     "shell.execute_reply": "2023-09-11T18:11:13.059733Z"
    },
    "papermill": {
     "duration": 0.137296,
     "end_time": "2023-09-11T18:11:13.060904",
     "exception": false,
     "start_time": "2023-09-11T18:11:12.923608",
     "status": "completed"
    },
    "tags": []
   },
   "outputs": [],
   "source": [
    "spearman_df = get_upper_triag(spearman_df)"
   ]
  },
  {
   "cell_type": "code",
   "execution_count": 36,
   "id": "0969a867-08ad-43c4-a0ca-9617867e0c50",
   "metadata": {
    "execution": {
     "iopub.execute_input": "2023-09-11T18:11:13.068454Z",
     "iopub.status.busy": "2023-09-11T18:11:13.068380Z",
     "iopub.status.idle": "2023-09-11T18:11:13.303244Z",
     "shell.execute_reply": "2023-09-11T18:11:13.303019Z"
    },
    "papermill": {
     "duration": 0.239561,
     "end_time": "2023-09-11T18:11:13.304105",
     "exception": false,
     "start_time": "2023-09-11T18:11:13.064544",
     "status": "completed"
    },
    "tags": []
   },
   "outputs": [],
   "source": [
    "# make spearman abs\n",
    "spearman_df = spearman_df.unstack().rename_axis((None, None)).dropna().abs()"
   ]
  },
  {
   "cell_type": "code",
   "execution_count": 37,
   "id": "866bbc4c-ef0b-430a-8d17-7edadd5b2fd2",
   "metadata": {
    "execution": {
     "iopub.execute_input": "2023-09-11T18:11:13.318085Z",
     "iopub.status.busy": "2023-09-11T18:11:13.318021Z",
     "iopub.status.idle": "2023-09-11T18:11:13.320113Z",
     "shell.execute_reply": "2023-09-11T18:11:13.319983Z"
    },
    "papermill": {
     "duration": 0.012659,
     "end_time": "2023-09-11T18:11:13.320528",
     "exception": false,
     "start_time": "2023-09-11T18:11:13.307869",
     "status": "completed"
    },
    "tags": []
   },
   "outputs": [
    {
     "data": {
      "text/plain": [
       "(12497500,)"
      ]
     },
     "execution_count": 37,
     "metadata": {},
     "output_type": "execute_result"
    }
   ],
   "source": [
    "spearman_df.shape"
   ]
  },
  {
   "cell_type": "code",
   "execution_count": 38,
   "id": "4fc27d0e-87a0-40a7-9f53-ea8a215e4fee",
   "metadata": {
    "execution": {
     "iopub.execute_input": "2023-09-11T18:11:13.327511Z",
     "iopub.status.busy": "2023-09-11T18:11:13.327447Z",
     "iopub.status.idle": "2023-09-11T18:11:13.329639Z",
     "shell.execute_reply": "2023-09-11T18:11:13.329509Z"
    },
    "papermill": {
     "duration": 0.006231,
     "end_time": "2023-09-11T18:11:13.330099",
     "exception": false,
     "start_time": "2023-09-11T18:11:13.323868",
     "status": "completed"
    },
    "tags": []
   },
   "outputs": [
    {
     "data": {
      "text/plain": [
       "ENSG00000135245.9   ENSG00000169429.10    0.853836\n",
       "ENSG00000163631.16  ENSG00000169429.10    0.709240\n",
       "                    ENSG00000135245.9     0.675719\n",
       "ENSG00000277632.1   ENSG00000169429.10    0.850371\n",
       "                    ENSG00000135245.9     0.834496\n",
       "dtype: float64"
      ]
     },
     "execution_count": 38,
     "metadata": {},
     "output_type": "execute_result"
    }
   ],
   "source": [
    "spearman_df.head()"
   ]
  },
  {
   "cell_type": "code",
   "execution_count": 39,
   "id": "92999223-d496-43b4-8381-172d55030e21",
   "metadata": {
    "execution": {
     "iopub.execute_input": "2023-09-11T18:11:13.337012Z",
     "iopub.status.busy": "2023-09-11T18:11:13.336923Z",
     "iopub.status.idle": "2023-09-11T18:11:14.342958Z",
     "shell.execute_reply": "2023-09-11T18:11:14.342585Z"
    },
    "papermill": {
     "duration": 1.010354,
     "end_time": "2023-09-11T18:11:14.343777",
     "exception": false,
     "start_time": "2023-09-11T18:11:13.333423",
     "status": "completed"
    },
    "tags": []
   },
   "outputs": [],
   "source": [
    "assert clustermatch_df.index.equals(spearman_df.index)"
   ]
  },
  {
   "cell_type": "code",
   "execution_count": 40,
   "id": "aaada007-6ad1-4adb-91a4-e456f95231f5",
   "metadata": {
    "execution": {
     "iopub.execute_input": "2023-09-11T18:11:14.357889Z",
     "iopub.status.busy": "2023-09-11T18:11:14.357822Z",
     "iopub.status.idle": "2023-09-11T18:11:31.439813Z",
     "shell.execute_reply": "2023-09-11T18:11:31.439418Z"
    },
    "papermill": {
     "duration": 17.09322,
     "end_time": "2023-09-11T18:11:31.440815",
     "exception": false,
     "start_time": "2023-09-11T18:11:14.347595",
     "status": "completed"
    },
    "tags": []
   },
   "outputs": [],
   "source": [
    "df = pd.DataFrame(\n",
    "    {\n",
    "        \"ccc\": clustermatch_df,\n",
    "        \"pearson\": pearson_df,\n",
    "        \"spearman\": spearman_df,\n",
    "    }\n",
    ").sort_index()"
   ]
  },
  {
   "cell_type": "code",
   "execution_count": 41,
   "id": "7613642e-0a3d-442d-8511-d4acd6271194",
   "metadata": {
    "execution": {
     "iopub.execute_input": "2023-09-11T18:11:31.455367Z",
     "iopub.status.busy": "2023-09-11T18:11:31.455301Z",
     "iopub.status.idle": "2023-09-11T18:11:31.480374Z",
     "shell.execute_reply": "2023-09-11T18:11:31.480178Z"
    },
    "papermill": {
     "duration": 0.036928,
     "end_time": "2023-09-11T18:11:31.481508",
     "exception": false,
     "start_time": "2023-09-11T18:11:31.444580",
     "status": "completed"
    },
    "tags": []
   },
   "outputs": [],
   "source": [
    "assert not df.isna().any().any()"
   ]
  },
  {
   "cell_type": "code",
   "execution_count": 42,
   "id": "baf842f9-d6c8-48b7-bffe-8eb05c73d7de",
   "metadata": {
    "execution": {
     "iopub.execute_input": "2023-09-11T18:11:31.489162Z",
     "iopub.status.busy": "2023-09-11T18:11:31.489049Z",
     "iopub.status.idle": "2023-09-11T18:11:31.490840Z",
     "shell.execute_reply": "2023-09-11T18:11:31.490705Z"
    },
    "papermill": {
     "duration": 0.006531,
     "end_time": "2023-09-11T18:11:31.491722",
     "exception": false,
     "start_time": "2023-09-11T18:11:31.485191",
     "status": "completed"
    },
    "tags": []
   },
   "outputs": [
    {
     "data": {
      "text/plain": [
       "(12497500, 3)"
      ]
     },
     "execution_count": 42,
     "metadata": {},
     "output_type": "execute_result"
    }
   ],
   "source": [
    "df.shape"
   ]
  },
  {
   "cell_type": "code",
   "execution_count": 43,
   "id": "3bd226fe-0c9d-4b69-8250-e22ccaf3730f",
   "metadata": {
    "execution": {
     "iopub.execute_input": "2023-09-11T18:11:31.504199Z",
     "iopub.status.busy": "2023-09-11T18:11:31.504087Z",
     "iopub.status.idle": "2023-09-11T18:11:31.507164Z",
     "shell.execute_reply": "2023-09-11T18:11:31.507031Z"
    },
    "papermill": {
     "duration": 0.010228,
     "end_time": "2023-09-11T18:11:31.508019",
     "exception": false,
     "start_time": "2023-09-11T18:11:31.497791",
     "status": "completed"
    },
    "tags": []
   },
   "outputs": [
    {
     "data": {
      "text/html": [
       "<div>\n",
       "<style scoped>\n",
       "    .dataframe tbody tr th:only-of-type {\n",
       "        vertical-align: middle;\n",
       "    }\n",
       "\n",
       "    .dataframe tbody tr th {\n",
       "        vertical-align: top;\n",
       "    }\n",
       "\n",
       "    .dataframe thead th {\n",
       "        text-align: right;\n",
       "    }\n",
       "</style>\n",
       "<table border=\"1\" class=\"dataframe\">\n",
       "  <thead>\n",
       "    <tr style=\"text-align: right;\">\n",
       "      <th></th>\n",
       "      <th></th>\n",
       "      <th>ccc</th>\n",
       "      <th>pearson</th>\n",
       "      <th>spearman</th>\n",
       "    </tr>\n",
       "  </thead>\n",
       "  <tbody>\n",
       "    <tr>\n",
       "      <th rowspan=\"5\" valign=\"top\">ENSG00000000419.12</th>\n",
       "      <th>ENSG00000002834.17</th>\n",
       "      <td>0.418721</td>\n",
       "      <td>0.681847</td>\n",
       "      <td>0.786595</td>\n",
       "    </tr>\n",
       "    <tr>\n",
       "      <th>ENSG00000002919.14</th>\n",
       "      <td>0.405090</td>\n",
       "      <td>0.734699</td>\n",
       "      <td>0.816991</td>\n",
       "    </tr>\n",
       "    <tr>\n",
       "      <th>ENSG00000002933.7</th>\n",
       "      <td>0.007466</td>\n",
       "      <td>0.013825</td>\n",
       "      <td>0.004128</td>\n",
       "    </tr>\n",
       "    <tr>\n",
       "      <th>ENSG00000003402.19</th>\n",
       "      <td>0.391683</td>\n",
       "      <td>0.727347</td>\n",
       "      <td>0.803653</td>\n",
       "    </tr>\n",
       "    <tr>\n",
       "      <th>ENSG00000004478.7</th>\n",
       "      <td>0.099013</td>\n",
       "      <td>0.094147</td>\n",
       "      <td>0.231269</td>\n",
       "    </tr>\n",
       "  </tbody>\n",
       "</table>\n",
       "</div>"
      ],
      "text/plain": [
       "                                            ccc   pearson  spearman\n",
       "ENSG00000000419.12 ENSG00000002834.17  0.418721  0.681847  0.786595\n",
       "                   ENSG00000002919.14  0.405090  0.734699  0.816991\n",
       "                   ENSG00000002933.7   0.007466  0.013825  0.004128\n",
       "                   ENSG00000003402.19  0.391683  0.727347  0.803653\n",
       "                   ENSG00000004478.7   0.099013  0.094147  0.231269"
      ]
     },
     "execution_count": 43,
     "metadata": {},
     "output_type": "execute_result"
    }
   ],
   "source": [
    "df.head()"
   ]
  },
  {
   "cell_type": "markdown",
   "id": "24a50051-141d-4ba0-ad33-3123b4afc1b6",
   "metadata": {
    "papermill": {
     "duration": 0.003313,
     "end_time": "2023-09-11T18:11:31.517375",
     "exception": false,
     "start_time": "2023-09-11T18:11:31.514062",
     "status": "completed"
    },
    "tags": []
   },
   "source": [
    "# Save"
   ]
  },
  {
   "cell_type": "code",
   "execution_count": 44,
   "id": "2f20fdf4-a44a-48c0-bbe1-8def473ac2a5",
   "metadata": {
    "execution": {
     "iopub.execute_input": "2023-09-11T18:11:31.524522Z",
     "iopub.status.busy": "2023-09-11T18:11:31.524461Z",
     "iopub.status.idle": "2023-09-11T18:11:31.700744Z",
     "shell.execute_reply": "2023-09-11T18:11:31.700409Z"
    },
    "papermill": {
     "duration": 0.18081,
     "end_time": "2023-09-11T18:11:31.701610",
     "exception": false,
     "start_time": "2023-09-11T18:11:31.520800",
     "status": "completed"
    },
    "tags": []
   },
   "outputs": [],
   "source": [
    "df.to_pickle(OUTPUT_FILE)"
   ]
  },
  {
   "cell_type": "code",
   "execution_count": null,
   "id": "8f464a7f-b76f-4898-8bf5-074eabd33626",
   "metadata": {
    "papermill": {
     "duration": 0.003675,
     "end_time": "2023-09-11T18:11:31.709404",
     "exception": false,
     "start_time": "2023-09-11T18:11:31.705729",
     "status": "completed"
    },
    "tags": []
   },
   "outputs": [],
   "source": []
  }
 ],
 "metadata": {
  "jupytext": {
   "cell_metadata_filter": "all,-execution,-papermill,-trusted",
   "notebook_metadata_filter": "-jupytext.text_representation.jupytext_version"
  },
  "kernelspec": {
   "display_name": "Python 3 (ipykernel)",
   "language": "python",
   "name": "python3"
  },
  "language_info": {
   "codemirror_mode": {
    "name": "ipython",
    "version": 3
   },
   "file_extension": ".py",
   "mimetype": "text/x-python",
   "name": "python",
   "nbconvert_exporter": "python",
   "pygments_lexer": "ipython3",
   "version": "3.10.16"
  },
  "papermill": {
   "default_parameters": {},
   "duration": 22.204008,
   "end_time": "2023-09-11T18:11:31.826786",
   "environment_variables": {},
   "exception": null,
   "input_path": "nbs/10_compute_correlations/05_gtex_v8/50-combine_all.ipynb",
   "output_path": "nbs/10_compute_correlations/05_gtex_v8/50-combine_all.run.ipynb",
   "parameters": {
    "GTEX_TISSUE": "skin_sun_exposed_lower_leg"
   },
   "start_time": "2023-09-11T18:11:09.622778",
   "version": "2.3.3"
  }
 },
 "nbformat": 4,
 "nbformat_minor": 5
}
