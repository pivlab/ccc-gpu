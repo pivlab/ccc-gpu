{
 "cells": [
  {
   "cell_type": "markdown",
   "metadata": {},
   "source": [
    "# Description\n",
    "This notebook demonstrates:\n",
    "\n",
    "1. how to compute coefficients values\n",
    "2. how to correlate gene expression data with categorical metadata\n",
    "\n",
    "using CCC GPU with public data from GTEx v8."
   ]
  },
  {
   "cell_type": "markdown",
   "metadata": {},
   "source": [
    "Please follow the instructions in the [README](../README.md), section \"Quick Install with pip\" to install CCC-GPU with a conda environment `ccc-gpu-env`.\n",
    "\n",
    "Then activate the environment and start the jupyter notebook server in order to run this notebook.\n",
    "\n",
    "```bash\n",
    "conda activate ccc-gpu-env\n",
    "pip install notebook\n",
    "jupyter notebook\n",
    "```"
   ]
  },
  {
   "cell_type": "code",
   "execution_count": 22,
   "metadata": {},
   "outputs": [],
   "source": [
    "import os\n",
    "import re\n",
    "import pandas as pd\n",
    "import urllib.request\n",
    "from tqdm import tqdm\n",
    "from pathlib import Path\n",
    "\n",
    "from ccc.utils import simplify_string\n",
    "from ccc import conf"
   ]
  },
  {
   "cell_type": "code",
   "execution_count": 39,
   "metadata": {},
   "outputs": [],
   "source": [
    "# Set this path to the directory where you want to save the intermediate data and results\n",
    "ANALYSIS_DIR = Path(\"/mnt/data/proj_data/ccc-gpu/data/tutorial\")"
   ]
  },
  {
   "cell_type": "markdown",
   "metadata": {},
   "source": [
    "## Data Fetching and Preprocessing\n",
    "This section downloads:\n",
    "1. the public GTEx v8 gene TPMs data (https://www.gtexportal.org/home/downloads/adult-gtex/bulk_tissue_expression)\n",
    "2. the GTEx sample attributes file (https://www.gtexportal.org/home/downloads/adult-gtex/metadata)\n",
    "3. the GTEx subject attributes file (https://www.gtexportal.org/home/downloads/adult-gtex/metadata)\n",
    "\n",
    "and perform preprocessing to prepare the data for the analysis."
   ]
  },
  {
   "cell_type": "markdown",
   "metadata": {},
   "source": [
    "### Download GTEx v8 gene expression data and split by tissue"
   ]
  },
  {
   "cell_type": "code",
   "execution_count": 24,
   "metadata": {},
   "outputs": [
    {
     "name": "stdout",
     "output_type": "stream",
     "text": [
      "gtex_all_sample_ids_with_expr_data already exists at /mnt/data/proj_data/ccc-gpu/data/tutorial/GTEx_Analysis_2017-06-05_v8_RNASeQCv1.1.9_gene_tpm.gct.gz\n",
      "gtex_sample_attrs already exists at /mnt/data/proj_data/ccc-gpu/data/tutorial/GTEx_Analysis_v8_Annotations_SampleAttributesDS.txt\n",
      "Downloading gtex_subject_attrs to /mnt/data/proj_data/ccc-gpu/data/tutorial/GTEx_Analysis_v8_Annotations_SubjectPhenotypesDS.txt\n",
      "Download completed!\n"
     ]
    }
   ],
   "source": [
    "# Create analysis directory if it doesn't exist\n",
    "os.makedirs(ANALYSIS_DIR, exist_ok=True)\n",
    "\n",
    "# Define files to download\n",
    "files_to_download = {\n",
    "    \"gtex_all_sample_ids_with_expr_data\": \"https://storage.googleapis.com/adult-gtex/bulk-gex/v8/rna-seq/GTEx_Analysis_2017-06-05_v8_RNASeQCv1.1.9_gene_tpm.gct.gz\",\n",
    "    \"gtex_sample_attrs\": \"https://storage.googleapis.com/adult-gtex/annotations/v8/metadata-files/GTEx_Analysis_v8_Annotations_SampleAttributesDS.txt\",\n",
    "    \"gtex_subject_attrs\": \"https://storage.googleapis.com/adult-gtex/annotations/v8/metadata-files/GTEx_Analysis_v8_Annotations_SubjectPhenotypesDS.txt\"\n",
    "}\n",
    "\n",
    "# Dictionary to store file paths\n",
    "file_paths = {}\n",
    "\n",
    "# Download files\n",
    "for var_name, url in files_to_download.items():\n",
    "    filename = Path(url).name\n",
    "    file_path = Path(ANALYSIS_DIR) / filename\n",
    "    file_paths[var_name] = file_path\n",
    "    \n",
    "    if not file_path.exists():\n",
    "        print(f\"Downloading {var_name} to {file_path}\")\n",
    "        urllib.request.urlretrieve(url, file_path)\n",
    "        print(\"Download completed!\")\n",
    "    else:\n",
    "        print(f\"{var_name} already exists at {file_path}\")"
   ]
  },
  {
   "cell_type": "code",
   "execution_count": 25,
   "metadata": {},
   "outputs": [
    {
     "name": "stdout",
     "output_type": "stream",
     "text": [
      "GTEx sample attributes shape: (22951, 63)\n",
      "GTEx sample attributes columns: Index(['SAMPID', 'SMATSSCR', 'SMCENTER', 'SMPTHNTS', 'SMRIN', 'SMTS', 'SMTSD',\n",
      "       'SMUBRID', 'SMTSISCH', 'SMTSPAX', 'SMNABTCH', 'SMNABTCHT', 'SMNABTCHD',\n",
      "       'SMGEBTCH', 'SMGEBTCHD', 'SMGEBTCHT', 'SMAFRZE', 'SMGTC', 'SME2MPRT',\n",
      "       'SMCHMPRS', 'SMNTRART', 'SMNUMGPS', 'SMMAPRT', 'SMEXNCRT', 'SM550NRM',\n",
      "       'SMGNSDTC', 'SMUNMPRT', 'SM350NRM', 'SMRDLGTH', 'SMMNCPB', 'SME1MMRT',\n",
      "       'SMSFLGTH', 'SMESTLBS', 'SMMPPD', 'SMNTERRT', 'SMRRNANM', 'SMRDTTL',\n",
      "       'SMVQCFL', 'SMMNCV', 'SMTRSCPT', 'SMMPPDPR', 'SMCGLGTH', 'SMGAPPCT',\n",
      "       'SMUNPDRD', 'SMNTRNRT', 'SMMPUNRT', 'SMEXPEFF', 'SMMPPDUN', 'SME2MMRT',\n",
      "       'SME2ANTI', 'SMALTALG', 'SME2SNSE', 'SMMFLGTH', 'SME1ANTI', 'SMSPLTRD',\n",
      "       'SMBSMMRT', 'SME1SNSE', 'SME1PCTS', 'SMRRNART', 'SME1MPRT', 'SMNUM5CD',\n",
      "       'SMDPMPRT', 'SME2PCTS'],\n",
      "      dtype='object')\n"
     ]
    }
   ],
   "source": [
    "gtex_sample_attrs = pd.read_csv(file_paths[\"gtex_sample_attrs\"], sep=\"\\t\")\n",
    "print(f\"GTEx sample attributes shape: {gtex_sample_attrs.shape}\")\n",
    "print(f\"GTEx sample attributes columns: {gtex_sample_attrs.columns}\")"
   ]
  },
  {
   "cell_type": "code",
   "execution_count": 26,
   "metadata": {},
   "outputs": [
    {
     "name": "stdout",
     "output_type": "stream",
     "text": [
      "55\n",
      "['Whole Blood' 'Brain - Frontal Cortex (BA9)' 'Adipose - Subcutaneous'\n",
      " 'Muscle - Skeletal' 'Artery - Tibial' 'Artery - Coronary'\n",
      " 'Heart - Atrial Appendage' 'Adipose - Visceral (Omentum)' 'Ovary'\n",
      " 'Uterus' 'Vagina' 'Breast - Mammary Tissue'\n",
      " 'Skin - Not Sun Exposed (Suprapubic)' 'Minor Salivary Gland'\n",
      " 'Brain - Cortex' 'Adrenal Gland' 'Thyroid' 'Lung' 'Spleen' 'Pancreas'\n",
      " 'Esophagus - Muscularis' 'Esophagus - Mucosa'\n",
      " 'Esophagus - Gastroesophageal Junction' 'Stomach' 'Colon - Sigmoid'\n",
      " 'Small Intestine - Terminal Ileum' 'Colon - Transverse' 'Prostate'\n",
      " 'Testis' 'Skin - Sun Exposed (Lower leg)' 'Nerve - Tibial'\n",
      " 'Heart - Left Ventricle' 'Pituitary' 'Brain - Cerebellum'\n",
      " 'Cells - Cultured fibroblasts' 'Artery - Aorta'\n",
      " 'Cells - EBV-transformed lymphocytes' 'Brain - Cerebellar Hemisphere'\n",
      " 'Brain - Caudate (basal ganglia)'\n",
      " 'Brain - Nucleus accumbens (basal ganglia)'\n",
      " 'Brain - Putamen (basal ganglia)' 'Brain - Hypothalamus'\n",
      " 'Brain - Spinal cord (cervical c-1)' 'Liver' 'Brain - Hippocampus'\n",
      " 'Brain - Anterior cingulate cortex (BA24)' 'Brain - Substantia nigra'\n",
      " 'Kidney - Cortex' 'Brain - Amygdala' 'Cervix - Ectocervix'\n",
      " 'Fallopian Tube' 'Cervix - Endocervix' 'Bladder' 'Kidney - Medulla'\n",
      " 'Cells - Leukemia cell line (CML)']\n"
     ]
    }
   ],
   "source": [
    "# Get tissue names\n",
    "gtex_tissues = gtex_sample_attrs[\"SMTSD\"].unique()\n",
    "print(len(gtex_tissues))\n",
    "print(gtex_tissues)"
   ]
  },
  {
   "cell_type": "markdown",
   "metadata": {},
   "source": [
    "#### Get sample IDs for each tissue"
   ]
  },
  {
   "cell_type": "code",
   "execution_count": 27,
   "metadata": {},
   "outputs": [
    {
     "name": "stdout",
     "output_type": "stream",
     "text": [
      "Number of samples with expression data: 17382\n",
      "Sample IDs with expression data: ['GTEX-1HFI7-2426-SM-B2LXV', 'GTEX-11TTK-0226-SM-5N9EC', 'GTEX-11UD2-1226-SM-5EQMI', 'GTEX-X4EO-0006-SM-3P5ZF', 'GTEX-13O21-0326-SM-5J1N9', 'GTEX-XBED-1526-SM-4AT5W', 'GTEX-13NZ8-0011-R8b-SM-5KM48', 'GTEX-1H3O1-0005-SM-ACKV8', 'GTEX-13JVG-0011-R5a-SM-5MR4O', 'GTEX-1F88F-1126-SM-7MKHL']\n"
     ]
    }
   ],
   "source": [
    "# first, get all sample IDs with expression data\n",
    "gtex_all_sample_ids_with_expr_data = set(\n",
    "    pd.read_csv(\n",
    "        file_paths[\"gtex_all_sample_ids_with_expr_data\"],\n",
    "        sep=\"\\t\",\n",
    "        skiprows=2,\n",
    "        nrows=1,\n",
    "        usecols=lambda x: x not in (\"Name\", \"Description\"),\n",
    "    ).columns\n",
    ")\n",
    "\n",
    "print(f\"Number of samples with expression data: {len(gtex_all_sample_ids_with_expr_data)}\")\n",
    "print(f\"Sample IDs with expression data: {list(gtex_all_sample_ids_with_expr_data)[:10]}\")"
   ]
  },
  {
   "cell_type": "code",
   "execution_count": 28,
   "metadata": {},
   "outputs": [],
   "source": [
    "# get sample IDs by tissue\n",
    "sample_ids_by_tissue = {\n",
    "    tissue_name: sorted(\n",
    "        list(\n",
    "            gtex_all_sample_ids_with_expr_data.intersection(\n",
    "                set(\n",
    "                    gtex_sample_attrs[gtex_sample_attrs[\"SMTSD\"] == tissue_name][\n",
    "                        \"SAMPID\"\n",
    "                    ].tolist()\n",
    "                )\n",
    "            )\n",
    "        )\n",
    "    )\n",
    "    for tissue_name in gtex_tissues\n",
    "}\n",
    "\n",
    "assert len(gtex_tissues) == len(sample_ids_by_tissue)"
   ]
  },
  {
   "cell_type": "markdown",
   "metadata": {},
   "source": []
  },
  {
   "cell_type": "code",
   "execution_count": 29,
   "metadata": {},
   "outputs": [
    {
     "data": {
      "text/plain": [
       "['GTEX-111YS-0006-SM-5NQBE',\n",
       " 'GTEX-1122O-0005-SM-5O99J',\n",
       " 'GTEX-1128S-0005-SM-5P9HI',\n",
       " 'GTEX-113IC-0006-SM-5NQ9C',\n",
       " 'GTEX-113JC-0006-SM-5O997',\n",
       " 'GTEX-117XS-0005-SM-5PNU6',\n",
       " 'GTEX-117YW-0005-SM-5NQ8Z',\n",
       " 'GTEX-1192W-0005-SM-5NQBQ',\n",
       " 'GTEX-1192X-0005-SM-5NQC3',\n",
       " 'GTEX-11DXW-0006-SM-5NQ7Y']"
      ]
     },
     "execution_count": 54,
     "metadata": {},
     "output_type": "execute_result"
    }
   ],
   "source": [
    "sample_ids_by_tissue[\"Whole Blood\"][:10]"
   ]
  },
  {
   "cell_type": "code",
   "execution_count": 30,
   "metadata": {},
   "outputs": [],
   "source": [
    "# Ensure all IDs are unique\n",
    "assert all(\n",
    "    [\n",
    "        len(sample_ids_by_tissue[tissue_name])\n",
    "        == len(set(sample_ids_by_tissue[tissue_name]))\n",
    "        for tissue_name in sample_ids_by_tissue.keys()\n",
    "    ]\n",
    ")"
   ]
  },
  {
   "cell_type": "markdown",
   "metadata": {},
   "source": [
    "#### Show sample size by tissue"
   ]
  },
  {
   "cell_type": "code",
   "execution_count": 31,
   "metadata": {},
   "outputs": [
    {
     "data": {
      "text/html": [
       "<div>\n",
       "<style scoped>\n",
       "    .dataframe tbody tr th:only-of-type {\n",
       "        vertical-align: middle;\n",
       "    }\n",
       "\n",
       "    .dataframe tbody tr th {\n",
       "        vertical-align: top;\n",
       "    }\n",
       "\n",
       "    .dataframe thead th {\n",
       "        text-align: right;\n",
       "    }\n",
       "</style>\n",
       "<table border=\"1\" class=\"dataframe\">\n",
       "  <thead>\n",
       "    <tr style=\"text-align: right;\">\n",
       "      <th></th>\n",
       "      <th>tissue</th>\n",
       "      <th>sample_size</th>\n",
       "    </tr>\n",
       "  </thead>\n",
       "  <tbody>\n",
       "    <tr>\n",
       "      <th>3</th>\n",
       "      <td>Muscle - Skeletal</td>\n",
       "      <td>803</td>\n",
       "    </tr>\n",
       "    <tr>\n",
       "      <th>0</th>\n",
       "      <td>Whole Blood</td>\n",
       "      <td>755</td>\n",
       "    </tr>\n",
       "    <tr>\n",
       "      <th>29</th>\n",
       "      <td>Skin - Sun Exposed (Lower leg)</td>\n",
       "      <td>701</td>\n",
       "    </tr>\n",
       "    <tr>\n",
       "      <th>4</th>\n",
       "      <td>Artery - Tibial</td>\n",
       "      <td>663</td>\n",
       "    </tr>\n",
       "    <tr>\n",
       "      <th>2</th>\n",
       "      <td>Adipose - Subcutaneous</td>\n",
       "      <td>663</td>\n",
       "    </tr>\n",
       "    <tr>\n",
       "      <th>16</th>\n",
       "      <td>Thyroid</td>\n",
       "      <td>653</td>\n",
       "    </tr>\n",
       "    <tr>\n",
       "      <th>30</th>\n",
       "      <td>Nerve - Tibial</td>\n",
       "      <td>619</td>\n",
       "    </tr>\n",
       "    <tr>\n",
       "      <th>12</th>\n",
       "      <td>Skin - Not Sun Exposed (Suprapubic)</td>\n",
       "      <td>604</td>\n",
       "    </tr>\n",
       "    <tr>\n",
       "      <th>17</th>\n",
       "      <td>Lung</td>\n",
       "      <td>578</td>\n",
       "    </tr>\n",
       "    <tr>\n",
       "      <th>21</th>\n",
       "      <td>Esophagus - Mucosa</td>\n",
       "      <td>555</td>\n",
       "    </tr>\n",
       "    <tr>\n",
       "      <th>7</th>\n",
       "      <td>Adipose - Visceral (Omentum)</td>\n",
       "      <td>541</td>\n",
       "    </tr>\n",
       "    <tr>\n",
       "      <th>20</th>\n",
       "      <td>Esophagus - Muscularis</td>\n",
       "      <td>515</td>\n",
       "    </tr>\n",
       "    <tr>\n",
       "      <th>34</th>\n",
       "      <td>Cells - Cultured fibroblasts</td>\n",
       "      <td>504</td>\n",
       "    </tr>\n",
       "    <tr>\n",
       "      <th>11</th>\n",
       "      <td>Breast - Mammary Tissue</td>\n",
       "      <td>459</td>\n",
       "    </tr>\n",
       "    <tr>\n",
       "      <th>31</th>\n",
       "      <td>Heart - Left Ventricle</td>\n",
       "      <td>432</td>\n",
       "    </tr>\n",
       "    <tr>\n",
       "      <th>35</th>\n",
       "      <td>Artery - Aorta</td>\n",
       "      <td>432</td>\n",
       "    </tr>\n",
       "    <tr>\n",
       "      <th>6</th>\n",
       "      <td>Heart - Atrial Appendage</td>\n",
       "      <td>429</td>\n",
       "    </tr>\n",
       "    <tr>\n",
       "      <th>26</th>\n",
       "      <td>Colon - Transverse</td>\n",
       "      <td>406</td>\n",
       "    </tr>\n",
       "    <tr>\n",
       "      <th>22</th>\n",
       "      <td>Esophagus - Gastroesophageal Junction</td>\n",
       "      <td>375</td>\n",
       "    </tr>\n",
       "    <tr>\n",
       "      <th>24</th>\n",
       "      <td>Colon - Sigmoid</td>\n",
       "      <td>373</td>\n",
       "    </tr>\n",
       "    <tr>\n",
       "      <th>28</th>\n",
       "      <td>Testis</td>\n",
       "      <td>361</td>\n",
       "    </tr>\n",
       "    <tr>\n",
       "      <th>23</th>\n",
       "      <td>Stomach</td>\n",
       "      <td>359</td>\n",
       "    </tr>\n",
       "    <tr>\n",
       "      <th>19</th>\n",
       "      <td>Pancreas</td>\n",
       "      <td>328</td>\n",
       "    </tr>\n",
       "    <tr>\n",
       "      <th>32</th>\n",
       "      <td>Pituitary</td>\n",
       "      <td>283</td>\n",
       "    </tr>\n",
       "    <tr>\n",
       "      <th>15</th>\n",
       "      <td>Adrenal Gland</td>\n",
       "      <td>258</td>\n",
       "    </tr>\n",
       "    <tr>\n",
       "      <th>14</th>\n",
       "      <td>Brain - Cortex</td>\n",
       "      <td>255</td>\n",
       "    </tr>\n",
       "    <tr>\n",
       "      <th>38</th>\n",
       "      <td>Brain - Caudate (basal ganglia)</td>\n",
       "      <td>246</td>\n",
       "    </tr>\n",
       "    <tr>\n",
       "      <th>39</th>\n",
       "      <td>Brain - Nucleus accumbens (basal ganglia)</td>\n",
       "      <td>246</td>\n",
       "    </tr>\n",
       "    <tr>\n",
       "      <th>27</th>\n",
       "      <td>Prostate</td>\n",
       "      <td>245</td>\n",
       "    </tr>\n",
       "    <tr>\n",
       "      <th>18</th>\n",
       "      <td>Spleen</td>\n",
       "      <td>241</td>\n",
       "    </tr>\n",
       "    <tr>\n",
       "      <th>33</th>\n",
       "      <td>Brain - Cerebellum</td>\n",
       "      <td>241</td>\n",
       "    </tr>\n",
       "    <tr>\n",
       "      <th>5</th>\n",
       "      <td>Artery - Coronary</td>\n",
       "      <td>240</td>\n",
       "    </tr>\n",
       "    <tr>\n",
       "      <th>43</th>\n",
       "      <td>Liver</td>\n",
       "      <td>226</td>\n",
       "    </tr>\n",
       "    <tr>\n",
       "      <th>37</th>\n",
       "      <td>Brain - Cerebellar Hemisphere</td>\n",
       "      <td>215</td>\n",
       "    </tr>\n",
       "    <tr>\n",
       "      <th>1</th>\n",
       "      <td>Brain - Frontal Cortex (BA9)</td>\n",
       "      <td>209</td>\n",
       "    </tr>\n",
       "    <tr>\n",
       "      <th>40</th>\n",
       "      <td>Brain - Putamen (basal ganglia)</td>\n",
       "      <td>205</td>\n",
       "    </tr>\n",
       "    <tr>\n",
       "      <th>41</th>\n",
       "      <td>Brain - Hypothalamus</td>\n",
       "      <td>202</td>\n",
       "    </tr>\n",
       "    <tr>\n",
       "      <th>44</th>\n",
       "      <td>Brain - Hippocampus</td>\n",
       "      <td>197</td>\n",
       "    </tr>\n",
       "    <tr>\n",
       "      <th>25</th>\n",
       "      <td>Small Intestine - Terminal Ileum</td>\n",
       "      <td>187</td>\n",
       "    </tr>\n",
       "    <tr>\n",
       "      <th>8</th>\n",
       "      <td>Ovary</td>\n",
       "      <td>180</td>\n",
       "    </tr>\n",
       "    <tr>\n",
       "      <th>45</th>\n",
       "      <td>Brain - Anterior cingulate cortex (BA24)</td>\n",
       "      <td>176</td>\n",
       "    </tr>\n",
       "    <tr>\n",
       "      <th>36</th>\n",
       "      <td>Cells - EBV-transformed lymphocytes</td>\n",
       "      <td>174</td>\n",
       "    </tr>\n",
       "    <tr>\n",
       "      <th>13</th>\n",
       "      <td>Minor Salivary Gland</td>\n",
       "      <td>162</td>\n",
       "    </tr>\n",
       "    <tr>\n",
       "      <th>42</th>\n",
       "      <td>Brain - Spinal cord (cervical c-1)</td>\n",
       "      <td>159</td>\n",
       "    </tr>\n",
       "    <tr>\n",
       "      <th>10</th>\n",
       "      <td>Vagina</td>\n",
       "      <td>156</td>\n",
       "    </tr>\n",
       "    <tr>\n",
       "      <th>48</th>\n",
       "      <td>Brain - Amygdala</td>\n",
       "      <td>152</td>\n",
       "    </tr>\n",
       "    <tr>\n",
       "      <th>9</th>\n",
       "      <td>Uterus</td>\n",
       "      <td>142</td>\n",
       "    </tr>\n",
       "    <tr>\n",
       "      <th>46</th>\n",
       "      <td>Brain - Substantia nigra</td>\n",
       "      <td>139</td>\n",
       "    </tr>\n",
       "    <tr>\n",
       "      <th>47</th>\n",
       "      <td>Kidney - Cortex</td>\n",
       "      <td>85</td>\n",
       "    </tr>\n",
       "    <tr>\n",
       "      <th>52</th>\n",
       "      <td>Bladder</td>\n",
       "      <td>21</td>\n",
       "    </tr>\n",
       "    <tr>\n",
       "      <th>51</th>\n",
       "      <td>Cervix - Endocervix</td>\n",
       "      <td>10</td>\n",
       "    </tr>\n",
       "    <tr>\n",
       "      <th>50</th>\n",
       "      <td>Fallopian Tube</td>\n",
       "      <td>9</td>\n",
       "    </tr>\n",
       "    <tr>\n",
       "      <th>49</th>\n",
       "      <td>Cervix - Ectocervix</td>\n",
       "      <td>9</td>\n",
       "    </tr>\n",
       "    <tr>\n",
       "      <th>53</th>\n",
       "      <td>Kidney - Medulla</td>\n",
       "      <td>4</td>\n",
       "    </tr>\n",
       "    <tr>\n",
       "      <th>54</th>\n",
       "      <td>Cells - Leukemia cell line (CML)</td>\n",
       "      <td>0</td>\n",
       "    </tr>\n",
       "  </tbody>\n",
       "</table>\n",
       "</div>"
      ],
      "text/plain": [
       "                                       tissue  sample_size\n",
       "3                           Muscle - Skeletal          803\n",
       "0                                 Whole Blood          755\n",
       "29             Skin - Sun Exposed (Lower leg)          701\n",
       "4                             Artery - Tibial          663\n",
       "2                      Adipose - Subcutaneous          663\n",
       "16                                    Thyroid          653\n",
       "30                             Nerve - Tibial          619\n",
       "12        Skin - Not Sun Exposed (Suprapubic)          604\n",
       "17                                       Lung          578\n",
       "21                         Esophagus - Mucosa          555\n",
       "7                Adipose - Visceral (Omentum)          541\n",
       "20                     Esophagus - Muscularis          515\n",
       "34               Cells - Cultured fibroblasts          504\n",
       "11                    Breast - Mammary Tissue          459\n",
       "31                     Heart - Left Ventricle          432\n",
       "35                             Artery - Aorta          432\n",
       "6                    Heart - Atrial Appendage          429\n",
       "26                         Colon - Transverse          406\n",
       "22      Esophagus - Gastroesophageal Junction          375\n",
       "24                            Colon - Sigmoid          373\n",
       "28                                     Testis          361\n",
       "23                                    Stomach          359\n",
       "19                                   Pancreas          328\n",
       "32                                  Pituitary          283\n",
       "15                              Adrenal Gland          258\n",
       "14                             Brain - Cortex          255\n",
       "38            Brain - Caudate (basal ganglia)          246\n",
       "39  Brain - Nucleus accumbens (basal ganglia)          246\n",
       "27                                   Prostate          245\n",
       "18                                     Spleen          241\n",
       "33                         Brain - Cerebellum          241\n",
       "5                           Artery - Coronary          240\n",
       "43                                      Liver          226\n",
       "37              Brain - Cerebellar Hemisphere          215\n",
       "1                Brain - Frontal Cortex (BA9)          209\n",
       "40            Brain - Putamen (basal ganglia)          205\n",
       "41                       Brain - Hypothalamus          202\n",
       "44                        Brain - Hippocampus          197\n",
       "25           Small Intestine - Terminal Ileum          187\n",
       "8                                       Ovary          180\n",
       "45   Brain - Anterior cingulate cortex (BA24)          176\n",
       "36        Cells - EBV-transformed lymphocytes          174\n",
       "13                       Minor Salivary Gland          162\n",
       "42         Brain - Spinal cord (cervical c-1)          159\n",
       "10                                     Vagina          156\n",
       "48                           Brain - Amygdala          152\n",
       "9                                      Uterus          142\n",
       "46                   Brain - Substantia nigra          139\n",
       "47                            Kidney - Cortex           85\n",
       "52                                    Bladder           21\n",
       "51                        Cervix - Endocervix           10\n",
       "50                             Fallopian Tube            9\n",
       "49                        Cervix - Ectocervix            9\n",
       "53                           Kidney - Medulla            4\n",
       "54           Cells - Leukemia cell line (CML)            0"
      ]
     },
     "metadata": {},
     "output_type": "display_data"
    }
   ],
   "source": [
    "tissue_sample_size = pd.DataFrame(\n",
    "    [{\"tissue\": k, \"sample_size\": len(v)} for k, v in sample_ids_by_tissue.items()]\n",
    ")\n",
    "\n",
    "tissue_sample_size = tissue_sample_size.sort_values(\"sample_size\", ascending=False)\n",
    "display(tissue_sample_size)"
   ]
  },
  {
   "cell_type": "code",
   "execution_count": 32,
   "metadata": {},
   "outputs": [],
   "source": [
    "# Simple validations\n",
    "_tmp = tissue_sample_size.set_index(\"tissue\").squeeze()\n",
    "assert _tmp.loc[\"Muscle - Skeletal\"] == 803\n",
    "assert _tmp.loc[\"Whole Blood\"] == 755\n",
    "assert _tmp.loc[\"Skin - Not Sun Exposed (Suprapubic)\"] == 604\n",
    "assert _tmp.loc[\"Kidney - Medulla\"] == 4"
   ]
  },
  {
   "cell_type": "markdown",
   "metadata": {},
   "source": [
    "These numbers match those you can find here: https://gtexportal.org/home/tissueSummaryPage#sampleCountsPerTissue"
   ]
  },
  {
   "cell_type": "markdown",
   "metadata": {},
   "source": [
    "### Split expression data by tissue"
   ]
  },
  {
   "cell_type": "code",
   "execution_count": 33,
   "metadata": {},
   "outputs": [
    {
     "name": "stderr",
     "output_type": "stream",
     "text": [
      "Cells - Leukemia cell line (CML): 100%|█████████████████████████████████████████████████████████████████████████████████| 55/55 [00:00<00:00, 4357.51it/s]"
     ]
    },
    {
     "name": "stdout",
     "output_type": "stream",
     "text": [
      "Skipping Muscle - Skeletal - file already exists\n",
      "Skipping Whole Blood - file already exists\n",
      "Skipping Skin - Sun Exposed (Lower leg) - file already exists\n",
      "Skipping Artery - Tibial - file already exists\n",
      "Skipping Adipose - Subcutaneous - file already exists\n",
      "Skipping Thyroid - file already exists\n",
      "Skipping Nerve - Tibial - file already exists\n",
      "Skipping Skin - Not Sun Exposed (Suprapubic) - file already exists\n",
      "Skipping Lung - file already exists\n",
      "Skipping Esophagus - Mucosa - file already exists\n",
      "Skipping Adipose - Visceral (Omentum) - file already exists\n",
      "Skipping Esophagus - Muscularis - file already exists\n",
      "Skipping Cells - Cultured fibroblasts - file already exists\n",
      "Skipping Breast - Mammary Tissue - file already exists\n",
      "Skipping Heart - Left Ventricle - file already exists\n",
      "Skipping Artery - Aorta - file already exists\n",
      "Skipping Heart - Atrial Appendage - file already exists\n",
      "Skipping Colon - Transverse - file already exists\n",
      "Skipping Esophagus - Gastroesophageal Junction - file already exists\n",
      "Skipping Colon - Sigmoid - file already exists\n",
      "Skipping Testis - file already exists\n",
      "Skipping Stomach - file already exists\n",
      "Skipping Pancreas - file already exists\n",
      "Skipping Pituitary - file already exists\n",
      "Skipping Adrenal Gland - file already exists\n",
      "Skipping Brain - Cortex - file already exists\n",
      "Skipping Brain - Caudate (basal ganglia) - file already exists\n",
      "Skipping Brain - Nucleus accumbens (basal ganglia) - file already exists\n",
      "Skipping Prostate - file already exists\n",
      "Skipping Spleen - file already exists\n",
      "Skipping Brain - Cerebellum - file already exists\n",
      "Skipping Artery - Coronary - file already exists\n",
      "Skipping Liver - file already exists\n",
      "Skipping Brain - Cerebellar Hemisphere - file already exists\n",
      "Skipping Brain - Frontal Cortex (BA9) - file already exists\n",
      "Skipping Brain - Putamen (basal ganglia) - file already exists\n",
      "Skipping Brain - Hypothalamus - file already exists\n",
      "Skipping Brain - Hippocampus - file already exists\n",
      "Skipping Small Intestine - Terminal Ileum - file already exists\n",
      "Skipping Ovary - file already exists\n",
      "Skipping Brain - Anterior cingulate cortex (BA24) - file already exists\n",
      "Skipping Cells - EBV-transformed lymphocytes - file already exists\n",
      "Skipping Minor Salivary Gland - file already exists\n",
      "Skipping Brain - Spinal cord (cervical c-1) - file already exists\n",
      "Skipping Vagina - file already exists\n",
      "Skipping Brain - Amygdala - file already exists\n",
      "Skipping Uterus - file already exists\n",
      "Skipping Brain - Substantia nigra - file already exists\n",
      "Skipping Kidney - Cortex - file already exists\n",
      "Skipping Bladder - file already exists\n",
      "Skipping Cervix - Endocervix - file already exists\n",
      "Skipping Fallopian Tube - file already exists\n",
      "Skipping Cervix - Ectocervix - file already exists\n",
      "Skipping Kidney - Medulla - file already exists\n"
     ]
    },
    {
     "name": "stderr",
     "output_type": "stream",
     "text": [
      "\n"
     ]
    }
   ],
   "source": [
    "TISSUE_DATA_DIR = ANALYSIS_DIR / \"data_by_tissue\"\n",
    "TISSUE_DATA_DIR.mkdir(parents=True, exist_ok=True)\n",
    "\n",
    "pbar = tqdm(tissue_sample_size[\"tissue\"])\n",
    "\n",
    "gene_id_symbol_map_tuples = set()\n",
    "\n",
    "for tissue_name in pbar:\n",
    "    pbar.set_description(tissue_name)\n",
    "\n",
    "    tissue_ids = sample_ids_by_tissue[tissue_name]\n",
    "    if len(tissue_ids) == 0:\n",
    "        continue\n",
    "\n",
    "    # Generate output filename\n",
    "    tissue_name_simple = simplify_string(simplify_string(tissue_name.lower()))\n",
    "    output_file = TISSUE_DATA_DIR / f\"gtex_v8_data_{tissue_name_simple}.pkl\"\n",
    "    output_gene_mappings = ANALYSIS_DIR / \"gtex_gene_id_symbol_mappings.pkl\"\n",
    "    \n",
    "    # Skip if file already exists\n",
    "    if output_file.exists() and output_gene_mappings.exists():\n",
    "        print(f\"Skipping {tissue_name} - file already exists\")\n",
    "        continue\n",
    "\n",
    "    try:\n",
    "        tissue_data = pd.read_csv(\n",
    "            file_paths[\"gtex_all_sample_ids_with_expr_data\"],\n",
    "            sep=\"\\t\",\n",
    "            skiprows=2,\n",
    "            usecols=[\"Name\", \"Description\"] + tissue_ids,\n",
    "        )\n",
    "\n",
    "        tissue_data = tissue_data.rename(\n",
    "            columns={\n",
    "                \"Name\": \"gene_ens_id\",\n",
    "                \"Description\": \"gene_symbol\",\n",
    "            }\n",
    "        )\n",
    "\n",
    "        # Validate data before processing\n",
    "        if tissue_data.empty:\n",
    "            print(f\"Warning: No data found for {tissue_name}\")\n",
    "            continue\n",
    "\n",
    "        # add gene id / gene symbol to mapping variable\n",
    "        gene_id_symbol_map_tuples.update(\n",
    "            tissue_data[[\"gene_ens_id\", \"gene_symbol\"]].itertuples(index=False)\n",
    "        )\n",
    "\n",
    "        tissue_data = tissue_data.drop(columns=[\"gene_symbol\"]).set_index(\"gene_ens_id\")\n",
    "\n",
    "        # Data quality checks\n",
    "        assert not tissue_data.isna().any().any(), f\"NaN values found in {tissue_name}\"\n",
    "        assert tissue_data.index.is_unique, f\"Non-unique gene IDs in {tissue_name}\"\n",
    "        assert tissue_data.columns.is_unique, f\"Non-unique sample IDs in {tissue_name}\"\n",
    "\n",
    "        # save\n",
    "        tissue_data.to_pickle(path=output_file)\n",
    "        \n",
    "    except Exception as e:\n",
    "        print(f\"Error processing {tissue_name}: {str(e)}\")\n",
    "        continue"
   ]
  },
  {
   "cell_type": "code",
   "execution_count": 34,
   "metadata": {},
   "outputs": [],
   "source": [
    "# Simple validations\n",
    "_tmp = pd.read_pickle(TISSUE_DATA_DIR / \"gtex_v8_data_brain_cerebellar_hemisphere.pkl\")\n",
    "\n",
    "assert \"GTEX-11DXY-0011-R11a-SM-DNZZN\" in _tmp.columns\n",
    "assert \"GTEX-WL46-0011-R11A-SM-3MJFT\" in _tmp.columns\n",
    "assert \"GTEX-ZF28-0011-R11a-SM-4WWEI\" in _tmp.columns\n",
    "\n",
    "_v = _tmp.loc[\"ENSG00000223972.5\", \"GTEX-11DXY-0011-R11a-SM-DNZZN\"]\n",
    "assert _v == 0.04045, _v\n",
    "_v = _tmp.loc[\"ENSG00000278267.1\", \"GTEX-11DXY-0011-R11a-SM-DNZZN\"]\n",
    "assert _v == 0.0, _v\n",
    "\n",
    "_v = _tmp.loc[\"ENSG00000233327.10\", \"GTEX-WL46-0011-R11A-SM-3MJFT\"]\n",
    "assert _v == 146.4000, _v\n",
    "_v = _tmp.loc[\"ENSG00000237118.2\", \"GTEX-WL46-0011-R11A-SM-3MJFT\"]\n",
    "assert _v == 0.3357, _v\n",
    "\n",
    "_v = _tmp.loc[\"ENSG00000233327.10\", \"GTEX-ZF28-0011-R11a-SM-4WWEI\"]\n",
    "assert _v == 30.7200, _v\n",
    "_v = _tmp.loc[\"ENSG00000186907.7\", \"GTEX-ZF28-0011-R11a-SM-4WWEI\"]\n",
    "assert _v == 0.94720, _v"
   ]
  },
  {
   "cell_type": "markdown",
   "metadata": {},
   "source": [
    "### Save gene mappings"
   ]
  },
  {
   "cell_type": "code",
   "execution_count": 37,
   "metadata": {},
   "outputs": [
    {
     "name": "stdout",
     "output_type": "stream",
     "text": [
      "Loaded existing gene mappings from /mnt/data/proj_data/ccc-gpu/data/tutorial/gtex_gene_id_symbol_mappings.pkl\n",
      "gene_mappings.shape: (56200, 2)\n",
      "          gene_ens_id  gene_symbol\n",
      "0  ENSG00000144278.14      GALNT13\n",
      "1   ENSG00000260976.1    LINC01633\n",
      "2  ENSG00000186660.14        ZFP91\n",
      "3  ENSG00000123560.13         PLP1\n",
      "4   ENSG00000227371.1  RP11-3L10.2\n"
     ]
    }
   ],
   "source": [
    "output_gene_mappings = ANALYSIS_DIR / \"gtex_gene_id_symbol_mappings.pkl\"\n",
    "\n",
    "if output_gene_mappings.exists():\n",
    "    gene_mappings = pd.read_pickle(output_gene_mappings)\n",
    "    print(f\"Loaded existing gene mappings from {output_gene_mappings}\")\n",
    "else:\n",
    "    gene_mappings = pd.DataFrame(gene_id_symbol_map_tuples)\n",
    "    gene_mappings.to_pickle(output_gene_mappings)\n",
    "    print(f\"Created and saved gene mappings to {output_gene_mappings}\")\n",
    "\n",
    "print(f\"gene_mappings.shape: {gene_mappings.shape}\")\n",
    "print(gene_mappings.head())"
   ]
  },
  {
   "cell_type": "code",
   "execution_count": 43,
   "metadata": {},
   "outputs": [],
   "source": [
    "# Simple validations\n",
    "# no null\n",
    "assert gene_mappings.dropna(how=\"any\").shape == gene_mappings.shape\n",
    "# no duplicates\n",
    "assert gene_mappings.drop_duplicates().shape == gene_mappings.shape\n",
    "\n",
    "_tmp = gene_mappings.set_index(\"gene_ens_id\").squeeze()\n",
    "assert _tmp.loc[\"ENSG00000223972.5\"] == \"DDX11L1\"\n",
    "assert _tmp.loc[\"ENSG00000243485.5\"] == \"MIR1302-2HG\"\n",
    "assert _tmp.loc[\"ENSG00000274059.1\"] == \"5S_rRNA\"  # repeated gene\n",
    "assert _tmp.loc[\"ENSG00000275305.1\"] == \"5S_rRNA\"  # repeated gene"
   ]
  },
  {
   "cell_type": "markdown",
   "metadata": {},
   "source": [
    "## Compute correlation coefficients"
   ]
  },
  {
   "cell_type": "markdown",
   "metadata": {},
   "source": [
    "We provide a command-line tool for computing CCC, Spearman, and Pearson correlations between two genes in a given tissue.\n",
    "\n",
    "```bash\n",
    "usage: compute_single_gene_pair_correlations_cli.py [-h] [--tissue TISSUE] [--data-dir DATA_DIR] [--gene-mapping GENE_MAPPING] [--list-tissues] [--show-genes TISSUE] [--n-genes N_GENES] [--debug] [genes ...]\n",
    "```"
   ]
  },
  {
   "cell_type": "code",
   "execution_count": 53,
   "metadata": {},
   "outputs": [
    {
     "name": "stderr",
     "output_type": "stream",
     "text": [
      "[2025-09-25 11:33:38,498 - root] INFO: Loading tissue data from: /mnt/data/proj_data/ccc-gpu/data/tutorial/data_by_tissue/gtex_v8_data_whole_blood.pkl\n",
      "[2025-09-25 11:33:38,644 - root] INFO: Tissue data shape: (56200, 755)\n",
      "[2025-09-25 11:33:38,644 - root] INFO: Loading gene mapping from: /mnt/data/proj_data/ccc-gpu/data/tutorial/gtex_gene_id_symbol_mappings.pkl\n",
      "[2025-09-25 11:33:38,649 - root] INFO: Loaded 56200 gene mappings\n"
     ]
    },
    {
     "name": "stdout",
     "output_type": "stream",
     "text": [
      "\n",
      "=== Tissue: whole_blood ===\n",
      "Total genes: 56,200\n",
      "Total samples: 755\n",
      "\n",
      "First 20 genes:\n",
      "------------------------------------------------------------\n",
      "#    Gene Symbol     Ensembl ID          \n",
      "------------------------------------------------------------\n",
      "1    DDX11L1         ENSG00000223972.5   \n",
      "2    WASH7P          ENSG00000227232.5   \n",
      "3    MIR6859-1       ENSG00000278267.1   \n",
      "4    MIR1302-2HG     ENSG00000243485.5   \n",
      "5    FAM138A         ENSG00000237613.2   \n",
      "6    OR4G4P          ENSG00000268020.3   \n",
      "7    OR4G11P         ENSG00000240361.1   \n",
      "8    OR4F5           ENSG00000186092.4   \n",
      "9    RP11-34P13.7    ENSG00000238009.6   \n",
      "10   CICP27          ENSG00000233750.3   \n",
      "11   RP11-34P13.15   ENSG00000268903.1   \n",
      "12   RP11-34P13.16   ENSG00000269981.1   \n",
      "13   RP11-34P13.14   ENSG00000239906.1   \n",
      "14   RP11-34P13.13   ENSG00000241860.6   \n",
      "15   RNU6-1100P      ENSG00000222623.1   \n",
      "16   RP11-34P13.9    ENSG00000241599.1   \n",
      "17   ABC7-43046700E7.1 ENSG00000279928.2   \n",
      "18   RP11-34P13.18   ENSG00000279457.4   \n",
      "19   MIR6859-2       ENSG00000273874.1   \n",
      "20   AP006222.2      ENSG00000228463.9   \n",
      "... and 56,180 more genes\n",
      "\n"
     ]
    }
   ],
   "source": [
    "# Make sure you start the notebook from the ROOT directory of the project\n",
    "\n",
    "# Preview genes in a tissue\n",
    "%run ./nbs/common/compute_single_gene_pair_correlations_cli.py --show-genes whole_blood --data-dir {TISSUE_DATA_DIR} --gene-mapping {ANALYSIS_DIR}/gtex_gene_id_symbol_mappings.pkl"
   ]
  },
  {
   "cell_type": "code",
   "execution_count": 56,
   "metadata": {},
   "outputs": [
    {
     "name": "stderr",
     "output_type": "stream",
     "text": [
      "[2025-09-25 11:33:38,676 - root] INFO: Loading gene mapping from: /mnt/data/proj_data/ccc-gpu/data/tutorial/gtex_gene_id_symbol_mappings.pkl\n",
      "[2025-09-25 11:33:38,681 - root] INFO: Loaded 56200 gene mappings\n",
      "[2025-09-25 11:33:38,686 - root] INFO: Loading tissue data from: /mnt/data/proj_data/ccc-gpu/data/tutorial/data_by_tissue/gtex_v8_data_whole_blood.pkl\n",
      "[2025-09-25 11:33:38,824 - root] INFO: Tissue data shape: (56200, 755)\n",
      "[2025-09-25 11:33:38,827 - root] INFO: Computing correlations for 755 samples\n",
      "[2025-09-25 11:33:38,832 - root] INFO: Computing CCC correlation...\n",
      "[2025-09-25 11:33:38,857 - root] INFO: Computing Pearson correlation...\n",
      "[2025-09-25 11:33:38,871 - root] INFO: Computing Spearman correlation...\n"
     ]
    },
    {
     "name": "stdout",
     "output_type": "stream",
     "text": [
      "\n",
      "============================================================\n",
      "GENE PAIR CORRELATION RESULTS\n",
      "============================================================\n",
      "Gene 1: DDX11L1 (ENSG00000223972.5)\n",
      "Gene 2: WASH7P (ENSG00000227232.5)\n",
      "Tissue: whole_blood\n",
      "Samples: 755\n",
      "------------------------------------------------------------\n",
      "         CCC: 0.005060\n",
      "     PEARSON: 0.063041\n",
      "    SPEARMAN: 0.040069\n",
      "============================================================\n",
      "\n"
     ]
    }
   ],
   "source": [
    "# Compute CCC, Spearman, and Pearson correlations between two genes in a given tissue\n",
    "%run ./nbs/common/compute_single_gene_pair_correlations_cli.py DDX11L1 WASH7P --tissue whole_blood --data-dir {TISSUE_DATA_DIR} --gene-mapping {ANALYSIS_DIR}/gtex_gene_id_symbol_mappings.pkl"
   ]
  },
  {
   "cell_type": "markdown",
   "metadata": {},
   "source": [
    "## Metadata Correlation\n",
    "We will compute the correlation between the gene expression and the metadata for each tissue. Metadata is downloaded from: https://www.gtexportal.org/home/downloads/adult-gtex/metadata"
   ]
  },
  {
   "cell_type": "markdown",
   "metadata": {},
   "source": [
    "### Data Preparation"
   ]
  },
  {
   "cell_type": "code",
   "execution_count": null,
   "metadata": {},
   "outputs": [
    {
     "name": "stdout",
     "output_type": "stream",
     "text": [
      "(22951, 62)\n"
     ]
    }
   ],
   "source": [
    "# Load GTEx samples info\n",
    "gtex_samples = pd.read_csv(file_paths[\"gtex_sample_attrs\"], sep=\"\\t\", index_col=\"SAMPID\")\n",
    "print(gtex_samples.shape)\n",
    "assert gtex_samples.index.is_unique"
   ]
  },
  {
   "cell_type": "code",
   "execution_count": null,
   "metadata": {},
   "outputs": [
    {
     "name": "stdout",
     "output_type": "stream",
     "text": [
      "(980, 4)\n"
     ]
    }
   ],
   "source": [
    "# Load GTEx subject attributes\n",
    "gtex_phenotypes = pd.read_csv(file_paths[\"gtex_subject_attrs\"], sep=\"\\t\")\n",
    "print(gtex_phenotypes.shape)\n",
    "assert gtex_phenotypes.index.is_unique"
   ]
  },
  {
   "cell_type": "code",
   "execution_count": null,
   "metadata": {},
   "outputs": [
    {
     "name": "stdout",
     "output_type": "stream",
     "text": [
      "['GTEX-1117F-0003-SM-58Q7G', 'GTEX-1117F-0003-SM-5DWSB', 'GTEX-1117F-0003-SM-6WBT7', 'GTEX-1117F-0011-R10a-SM-AHZ7F', 'GTEX-1117F-0011-R10b-SM-CYKQ8']\n"
     ]
    }
   ],
   "source": [
    "# Get GTEx sample metadata\n",
    "gtex_samples_ids = gtex_samples.index.to_list()\n",
    "print(gtex_samples_ids[:5])"
   ]
  },
  {
   "cell_type": "code",
   "execution_count": null,
   "metadata": {},
   "outputs": [
    {
     "data": {
      "text/plain": [
       "0             GTEX-1117F-0003-SM-58Q7G\n",
       "1             GTEX-1117F-0003-SM-5DWSB\n",
       "2             GTEX-1117F-0003-SM-6WBT7\n",
       "3        GTEX-1117F-0011-R10a-SM-AHZ7F\n",
       "4        GTEX-1117F-0011-R10b-SM-CYKQ8\n",
       "                     ...              \n",
       "22946                   K-562-SM-E9EZC\n",
       "22947                   K-562-SM-E9EZI\n",
       "22948                   K-562-SM-E9EZO\n",
       "22949                   K-562-SM-E9EZT\n",
       "22950                   K-562-SM-E9EZZ\n",
       "Name: SAMPID, Length: 22951, dtype: object"
      ]
     },
     "execution_count": 90,
     "metadata": {},
     "output_type": "execute_result"
    }
   ],
   "source": [
    "gtex_samples_ids = pd.Series(gtex_samples_ids).rename(\"SAMPID\")\n",
    "gtex_samples_ids"
   ]
  },
  {
   "cell_type": "code",
   "execution_count": null,
   "metadata": {},
   "outputs": [
    {
     "data": {
      "text/plain": [
       "0        GTEX-1117F\n",
       "1        GTEX-1117F\n",
       "2        GTEX-1117F\n",
       "3        GTEX-1117F\n",
       "4        GTEX-1117F\n",
       "            ...    \n",
       "22946         K-562\n",
       "22947         K-562\n",
       "22948         K-562\n",
       "22949         K-562\n",
       "22950         K-562\n",
       "Name: SUBJID, Length: 22951, dtype: object"
      ]
     },
     "execution_count": 91,
     "metadata": {},
     "output_type": "execute_result"
    }
   ],
   "source": [
    "gtex_subjects_ids = gtex_samples_ids.str.extract(\n",
    "    r\"([\\w\\d]+\\-[\\w\\d]+)\", flags=re.IGNORECASE, expand=True\n",
    ")[0].rename(\"SUBJID\")\n",
    "\n",
    "gtex_subjects_ids"
   ]
  },
  {
   "cell_type": "code",
   "execution_count": null,
   "metadata": {},
   "outputs": [
    {
     "data": {
      "text/html": [
       "<div>\n",
       "<style scoped>\n",
       "    .dataframe tbody tr th:only-of-type {\n",
       "        vertical-align: middle;\n",
       "    }\n",
       "\n",
       "    .dataframe tbody tr th {\n",
       "        vertical-align: top;\n",
       "    }\n",
       "\n",
       "    .dataframe thead th {\n",
       "        text-align: right;\n",
       "    }\n",
       "</style>\n",
       "<table border=\"1\" class=\"dataframe\">\n",
       "  <thead>\n",
       "    <tr style=\"text-align: right;\">\n",
       "      <th></th>\n",
       "      <th>SAMPID</th>\n",
       "      <th>SUBJID</th>\n",
       "    </tr>\n",
       "  </thead>\n",
       "  <tbody>\n",
       "    <tr>\n",
       "      <th>0</th>\n",
       "      <td>GTEX-1117F-0003-SM-58Q7G</td>\n",
       "      <td>GTEX-1117F</td>\n",
       "    </tr>\n",
       "    <tr>\n",
       "      <th>1</th>\n",
       "      <td>GTEX-1117F-0003-SM-5DWSB</td>\n",
       "      <td>GTEX-1117F</td>\n",
       "    </tr>\n",
       "    <tr>\n",
       "      <th>2</th>\n",
       "      <td>GTEX-1117F-0003-SM-6WBT7</td>\n",
       "      <td>GTEX-1117F</td>\n",
       "    </tr>\n",
       "    <tr>\n",
       "      <th>3</th>\n",
       "      <td>GTEX-1117F-0011-R10a-SM-AHZ7F</td>\n",
       "      <td>GTEX-1117F</td>\n",
       "    </tr>\n",
       "    <tr>\n",
       "      <th>4</th>\n",
       "      <td>GTEX-1117F-0011-R10b-SM-CYKQ8</td>\n",
       "      <td>GTEX-1117F</td>\n",
       "    </tr>\n",
       "    <tr>\n",
       "      <th>...</th>\n",
       "      <td>...</td>\n",
       "      <td>...</td>\n",
       "    </tr>\n",
       "    <tr>\n",
       "      <th>22946</th>\n",
       "      <td>K-562-SM-E9EZC</td>\n",
       "      <td>K-562</td>\n",
       "    </tr>\n",
       "    <tr>\n",
       "      <th>22947</th>\n",
       "      <td>K-562-SM-E9EZI</td>\n",
       "      <td>K-562</td>\n",
       "    </tr>\n",
       "    <tr>\n",
       "      <th>22948</th>\n",
       "      <td>K-562-SM-E9EZO</td>\n",
       "      <td>K-562</td>\n",
       "    </tr>\n",
       "    <tr>\n",
       "      <th>22949</th>\n",
       "      <td>K-562-SM-E9EZT</td>\n",
       "      <td>K-562</td>\n",
       "    </tr>\n",
       "    <tr>\n",
       "      <th>22950</th>\n",
       "      <td>K-562-SM-E9EZZ</td>\n",
       "      <td>K-562</td>\n",
       "    </tr>\n",
       "  </tbody>\n",
       "</table>\n",
       "<p>22951 rows × 2 columns</p>\n",
       "</div>"
      ],
      "text/plain": [
       "                              SAMPID      SUBJID\n",
       "0           GTEX-1117F-0003-SM-58Q7G  GTEX-1117F\n",
       "1           GTEX-1117F-0003-SM-5DWSB  GTEX-1117F\n",
       "2           GTEX-1117F-0003-SM-6WBT7  GTEX-1117F\n",
       "3      GTEX-1117F-0011-R10a-SM-AHZ7F  GTEX-1117F\n",
       "4      GTEX-1117F-0011-R10b-SM-CYKQ8  GTEX-1117F\n",
       "...                              ...         ...\n",
       "22946                 K-562-SM-E9EZC       K-562\n",
       "22947                 K-562-SM-E9EZI       K-562\n",
       "22948                 K-562-SM-E9EZO       K-562\n",
       "22949                 K-562-SM-E9EZT       K-562\n",
       "22950                 K-562-SM-E9EZZ       K-562\n",
       "\n",
       "[22951 rows x 2 columns]"
      ]
     },
     "execution_count": 92,
     "metadata": {},
     "output_type": "execute_result"
    }
   ],
   "source": [
    "gtex_metadata = pd.concat([gtex_samples_ids, gtex_subjects_ids], axis=1)\n",
    "gtex_metadata"
   ]
  },
  {
   "cell_type": "code",
   "execution_count": null,
   "metadata": {},
   "outputs": [
    {
     "data": {
      "text/html": [
       "<div>\n",
       "<style scoped>\n",
       "    .dataframe tbody tr th:only-of-type {\n",
       "        vertical-align: middle;\n",
       "    }\n",
       "\n",
       "    .dataframe tbody tr th {\n",
       "        vertical-align: top;\n",
       "    }\n",
       "\n",
       "    .dataframe thead th {\n",
       "        text-align: right;\n",
       "    }\n",
       "</style>\n",
       "<table border=\"1\" class=\"dataframe\">\n",
       "  <thead>\n",
       "    <tr style=\"text-align: right;\">\n",
       "      <th></th>\n",
       "      <th>SUBJID</th>\n",
       "      <th>SEX</th>\n",
       "      <th>AGE</th>\n",
       "      <th>DTHHRDY</th>\n",
       "    </tr>\n",
       "  </thead>\n",
       "  <tbody>\n",
       "    <tr>\n",
       "      <th>0</th>\n",
       "      <td>GTEX-1117F</td>\n",
       "      <td>2</td>\n",
       "      <td>60-69</td>\n",
       "      <td>4.0</td>\n",
       "    </tr>\n",
       "    <tr>\n",
       "      <th>1</th>\n",
       "      <td>GTEX-111CU</td>\n",
       "      <td>1</td>\n",
       "      <td>50-59</td>\n",
       "      <td>0.0</td>\n",
       "    </tr>\n",
       "    <tr>\n",
       "      <th>2</th>\n",
       "      <td>GTEX-111FC</td>\n",
       "      <td>1</td>\n",
       "      <td>60-69</td>\n",
       "      <td>1.0</td>\n",
       "    </tr>\n",
       "    <tr>\n",
       "      <th>3</th>\n",
       "      <td>GTEX-111VG</td>\n",
       "      <td>1</td>\n",
       "      <td>60-69</td>\n",
       "      <td>3.0</td>\n",
       "    </tr>\n",
       "    <tr>\n",
       "      <th>4</th>\n",
       "      <td>GTEX-111YS</td>\n",
       "      <td>1</td>\n",
       "      <td>60-69</td>\n",
       "      <td>0.0</td>\n",
       "    </tr>\n",
       "    <tr>\n",
       "      <th>...</th>\n",
       "      <td>...</td>\n",
       "      <td>...</td>\n",
       "      <td>...</td>\n",
       "      <td>...</td>\n",
       "    </tr>\n",
       "    <tr>\n",
       "      <th>975</th>\n",
       "      <td>GTEX-ZYY3</td>\n",
       "      <td>2</td>\n",
       "      <td>60-69</td>\n",
       "      <td>4.0</td>\n",
       "    </tr>\n",
       "    <tr>\n",
       "      <th>976</th>\n",
       "      <td>GTEX-ZZ64</td>\n",
       "      <td>1</td>\n",
       "      <td>20-29</td>\n",
       "      <td>0.0</td>\n",
       "    </tr>\n",
       "    <tr>\n",
       "      <th>977</th>\n",
       "      <td>GTEX-ZZPT</td>\n",
       "      <td>1</td>\n",
       "      <td>50-59</td>\n",
       "      <td>4.0</td>\n",
       "    </tr>\n",
       "    <tr>\n",
       "      <th>978</th>\n",
       "      <td>GTEX-ZZPU</td>\n",
       "      <td>2</td>\n",
       "      <td>50-59</td>\n",
       "      <td>0.0</td>\n",
       "    </tr>\n",
       "    <tr>\n",
       "      <th>979</th>\n",
       "      <td>K-562</td>\n",
       "      <td>2</td>\n",
       "      <td>50-59</td>\n",
       "      <td>NaN</td>\n",
       "    </tr>\n",
       "  </tbody>\n",
       "</table>\n",
       "<p>980 rows × 4 columns</p>\n",
       "</div>"
      ],
      "text/plain": [
       "         SUBJID  SEX    AGE  DTHHRDY\n",
       "0    GTEX-1117F    2  60-69      4.0\n",
       "1    GTEX-111CU    1  50-59      0.0\n",
       "2    GTEX-111FC    1  60-69      1.0\n",
       "3    GTEX-111VG    1  60-69      3.0\n",
       "4    GTEX-111YS    1  60-69      0.0\n",
       "..          ...  ...    ...      ...\n",
       "975   GTEX-ZYY3    2  60-69      4.0\n",
       "976   GTEX-ZZ64    1  20-29      0.0\n",
       "977   GTEX-ZZPT    1  50-59      4.0\n",
       "978   GTEX-ZZPU    2  50-59      0.0\n",
       "979       K-562    2  50-59      NaN\n",
       "\n",
       "[980 rows x 4 columns]"
      ]
     },
     "execution_count": 93,
     "metadata": {},
     "output_type": "execute_result"
    }
   ],
   "source": [
    "gtex_phenotypes"
   ]
  },
  {
   "cell_type": "code",
   "execution_count": null,
   "metadata": {},
   "outputs": [
    {
     "data": {
      "text/html": [
       "<div>\n",
       "<style scoped>\n",
       "    .dataframe tbody tr th:only-of-type {\n",
       "        vertical-align: middle;\n",
       "    }\n",
       "\n",
       "    .dataframe tbody tr th {\n",
       "        vertical-align: top;\n",
       "    }\n",
       "\n",
       "    .dataframe thead th {\n",
       "        text-align: right;\n",
       "    }\n",
       "</style>\n",
       "<table border=\"1\" class=\"dataframe\">\n",
       "  <thead>\n",
       "    <tr style=\"text-align: right;\">\n",
       "      <th></th>\n",
       "      <th>SUBJID</th>\n",
       "      <th>SEX</th>\n",
       "      <th>AGE</th>\n",
       "      <th>DTHHRDY</th>\n",
       "    </tr>\n",
       "    <tr>\n",
       "      <th>SAMPID</th>\n",
       "      <th></th>\n",
       "      <th></th>\n",
       "      <th></th>\n",
       "      <th></th>\n",
       "    </tr>\n",
       "  </thead>\n",
       "  <tbody>\n",
       "    <tr>\n",
       "      <th>GTEX-1117F-0003-SM-58Q7G</th>\n",
       "      <td>GTEX-1117F</td>\n",
       "      <td>2</td>\n",
       "      <td>60-69</td>\n",
       "      <td>4.0</td>\n",
       "    </tr>\n",
       "    <tr>\n",
       "      <th>GTEX-1117F-0003-SM-5DWSB</th>\n",
       "      <td>GTEX-1117F</td>\n",
       "      <td>2</td>\n",
       "      <td>60-69</td>\n",
       "      <td>4.0</td>\n",
       "    </tr>\n",
       "    <tr>\n",
       "      <th>GTEX-1117F-0003-SM-6WBT7</th>\n",
       "      <td>GTEX-1117F</td>\n",
       "      <td>2</td>\n",
       "      <td>60-69</td>\n",
       "      <td>4.0</td>\n",
       "    </tr>\n",
       "    <tr>\n",
       "      <th>GTEX-1117F-0011-R10a-SM-AHZ7F</th>\n",
       "      <td>GTEX-1117F</td>\n",
       "      <td>2</td>\n",
       "      <td>60-69</td>\n",
       "      <td>4.0</td>\n",
       "    </tr>\n",
       "    <tr>\n",
       "      <th>GTEX-1117F-0011-R10b-SM-CYKQ8</th>\n",
       "      <td>GTEX-1117F</td>\n",
       "      <td>2</td>\n",
       "      <td>60-69</td>\n",
       "      <td>4.0</td>\n",
       "    </tr>\n",
       "    <tr>\n",
       "      <th>...</th>\n",
       "      <td>...</td>\n",
       "      <td>...</td>\n",
       "      <td>...</td>\n",
       "      <td>...</td>\n",
       "    </tr>\n",
       "    <tr>\n",
       "      <th>K-562-SM-E9EZC</th>\n",
       "      <td>K-562</td>\n",
       "      <td>2</td>\n",
       "      <td>50-59</td>\n",
       "      <td>NaN</td>\n",
       "    </tr>\n",
       "    <tr>\n",
       "      <th>K-562-SM-E9EZI</th>\n",
       "      <td>K-562</td>\n",
       "      <td>2</td>\n",
       "      <td>50-59</td>\n",
       "      <td>NaN</td>\n",
       "    </tr>\n",
       "    <tr>\n",
       "      <th>K-562-SM-E9EZO</th>\n",
       "      <td>K-562</td>\n",
       "      <td>2</td>\n",
       "      <td>50-59</td>\n",
       "      <td>NaN</td>\n",
       "    </tr>\n",
       "    <tr>\n",
       "      <th>K-562-SM-E9EZT</th>\n",
       "      <td>K-562</td>\n",
       "      <td>2</td>\n",
       "      <td>50-59</td>\n",
       "      <td>NaN</td>\n",
       "    </tr>\n",
       "    <tr>\n",
       "      <th>K-562-SM-E9EZZ</th>\n",
       "      <td>K-562</td>\n",
       "      <td>2</td>\n",
       "      <td>50-59</td>\n",
       "      <td>NaN</td>\n",
       "    </tr>\n",
       "  </tbody>\n",
       "</table>\n",
       "<p>22951 rows × 4 columns</p>\n",
       "</div>"
      ],
      "text/plain": [
       "                                   SUBJID  SEX    AGE  DTHHRDY\n",
       "SAMPID                                                        \n",
       "GTEX-1117F-0003-SM-58Q7G       GTEX-1117F    2  60-69      4.0\n",
       "GTEX-1117F-0003-SM-5DWSB       GTEX-1117F    2  60-69      4.0\n",
       "GTEX-1117F-0003-SM-6WBT7       GTEX-1117F    2  60-69      4.0\n",
       "GTEX-1117F-0011-R10a-SM-AHZ7F  GTEX-1117F    2  60-69      4.0\n",
       "GTEX-1117F-0011-R10b-SM-CYKQ8  GTEX-1117F    2  60-69      4.0\n",
       "...                                   ...  ...    ...      ...\n",
       "K-562-SM-E9EZC                      K-562    2  50-59      NaN\n",
       "K-562-SM-E9EZI                      K-562    2  50-59      NaN\n",
       "K-562-SM-E9EZO                      K-562    2  50-59      NaN\n",
       "K-562-SM-E9EZT                      K-562    2  50-59      NaN\n",
       "K-562-SM-E9EZZ                      K-562    2  50-59      NaN\n",
       "\n",
       "[22951 rows x 4 columns]"
      ]
     },
     "execution_count": 94,
     "metadata": {},
     "output_type": "execute_result"
    }
   ],
   "source": [
    "gtex_metadata = pd.merge(gtex_metadata, gtex_phenotypes).set_index(\"SAMPID\")\n",
    "gtex_metadata"
   ]
  },
  {
   "cell_type": "code",
   "execution_count": null,
   "metadata": {},
   "outputs": [
    {
     "data": {
      "text/html": [
       "<div>\n",
       "<style scoped>\n",
       "    .dataframe tbody tr th:only-of-type {\n",
       "        vertical-align: middle;\n",
       "    }\n",
       "\n",
       "    .dataframe tbody tr th {\n",
       "        vertical-align: top;\n",
       "    }\n",
       "\n",
       "    .dataframe thead th {\n",
       "        text-align: right;\n",
       "    }\n",
       "</style>\n",
       "<table border=\"1\" class=\"dataframe\">\n",
       "  <thead>\n",
       "    <tr style=\"text-align: right;\">\n",
       "      <th></th>\n",
       "      <th>SUBJID</th>\n",
       "      <th>SEX</th>\n",
       "      <th>AGE</th>\n",
       "      <th>DTHHRDY</th>\n",
       "      <th>SMATSSCR</th>\n",
       "      <th>SMCENTER</th>\n",
       "      <th>SMPTHNTS</th>\n",
       "      <th>SMRIN</th>\n",
       "      <th>SMTS</th>\n",
       "      <th>SMTSD</th>\n",
       "      <th>...</th>\n",
       "      <th>SME1ANTI</th>\n",
       "      <th>SMSPLTRD</th>\n",
       "      <th>SMBSMMRT</th>\n",
       "      <th>SME1SNSE</th>\n",
       "      <th>SME1PCTS</th>\n",
       "      <th>SMRRNART</th>\n",
       "      <th>SME1MPRT</th>\n",
       "      <th>SMNUM5CD</th>\n",
       "      <th>SMDPMPRT</th>\n",
       "      <th>SME2PCTS</th>\n",
       "    </tr>\n",
       "    <tr>\n",
       "      <th>SAMPID</th>\n",
       "      <th></th>\n",
       "      <th></th>\n",
       "      <th></th>\n",
       "      <th></th>\n",
       "      <th></th>\n",
       "      <th></th>\n",
       "      <th></th>\n",
       "      <th></th>\n",
       "      <th></th>\n",
       "      <th></th>\n",
       "      <th></th>\n",
       "      <th></th>\n",
       "      <th></th>\n",
       "      <th></th>\n",
       "      <th></th>\n",
       "      <th></th>\n",
       "      <th></th>\n",
       "      <th></th>\n",
       "      <th></th>\n",
       "      <th></th>\n",
       "      <th></th>\n",
       "    </tr>\n",
       "  </thead>\n",
       "  <tbody>\n",
       "    <tr>\n",
       "      <th>GTEX-1117F-0003-SM-58Q7G</th>\n",
       "      <td>GTEX-1117F</td>\n",
       "      <td>Female</td>\n",
       "      <td>60-69</td>\n",
       "      <td>4.0</td>\n",
       "      <td>NaN</td>\n",
       "      <td>B1</td>\n",
       "      <td>NaN</td>\n",
       "      <td>NaN</td>\n",
       "      <td>Blood</td>\n",
       "      <td>Whole Blood</td>\n",
       "      <td>...</td>\n",
       "      <td>NaN</td>\n",
       "      <td>NaN</td>\n",
       "      <td>NaN</td>\n",
       "      <td>NaN</td>\n",
       "      <td>NaN</td>\n",
       "      <td>NaN</td>\n",
       "      <td>NaN</td>\n",
       "      <td>NaN</td>\n",
       "      <td>NaN</td>\n",
       "      <td>NaN</td>\n",
       "    </tr>\n",
       "    <tr>\n",
       "      <th>GTEX-1117F-0003-SM-5DWSB</th>\n",
       "      <td>GTEX-1117F</td>\n",
       "      <td>Female</td>\n",
       "      <td>60-69</td>\n",
       "      <td>4.0</td>\n",
       "      <td>NaN</td>\n",
       "      <td>B1</td>\n",
       "      <td>NaN</td>\n",
       "      <td>NaN</td>\n",
       "      <td>Blood</td>\n",
       "      <td>Whole Blood</td>\n",
       "      <td>...</td>\n",
       "      <td>NaN</td>\n",
       "      <td>NaN</td>\n",
       "      <td>NaN</td>\n",
       "      <td>NaN</td>\n",
       "      <td>NaN</td>\n",
       "      <td>NaN</td>\n",
       "      <td>NaN</td>\n",
       "      <td>NaN</td>\n",
       "      <td>NaN</td>\n",
       "      <td>NaN</td>\n",
       "    </tr>\n",
       "    <tr>\n",
       "      <th>GTEX-1117F-0003-SM-6WBT7</th>\n",
       "      <td>GTEX-1117F</td>\n",
       "      <td>Female</td>\n",
       "      <td>60-69</td>\n",
       "      <td>4.0</td>\n",
       "      <td>NaN</td>\n",
       "      <td>B1</td>\n",
       "      <td>NaN</td>\n",
       "      <td>NaN</td>\n",
       "      <td>Blood</td>\n",
       "      <td>Whole Blood</td>\n",
       "      <td>...</td>\n",
       "      <td>NaN</td>\n",
       "      <td>NaN</td>\n",
       "      <td>NaN</td>\n",
       "      <td>NaN</td>\n",
       "      <td>NaN</td>\n",
       "      <td>NaN</td>\n",
       "      <td>NaN</td>\n",
       "      <td>NaN</td>\n",
       "      <td>NaN</td>\n",
       "      <td>NaN</td>\n",
       "    </tr>\n",
       "    <tr>\n",
       "      <th>GTEX-1117F-0011-R10a-SM-AHZ7F</th>\n",
       "      <td>GTEX-1117F</td>\n",
       "      <td>Female</td>\n",
       "      <td>60-69</td>\n",
       "      <td>4.0</td>\n",
       "      <td>NaN</td>\n",
       "      <td>B1, A1</td>\n",
       "      <td>NaN</td>\n",
       "      <td>NaN</td>\n",
       "      <td>Brain</td>\n",
       "      <td>Brain - Frontal Cortex (BA9)</td>\n",
       "      <td>...</td>\n",
       "      <td>NaN</td>\n",
       "      <td>NaN</td>\n",
       "      <td>NaN</td>\n",
       "      <td>NaN</td>\n",
       "      <td>NaN</td>\n",
       "      <td>NaN</td>\n",
       "      <td>NaN</td>\n",
       "      <td>NaN</td>\n",
       "      <td>NaN</td>\n",
       "      <td>NaN</td>\n",
       "    </tr>\n",
       "    <tr>\n",
       "      <th>GTEX-1117F-0011-R10b-SM-CYKQ8</th>\n",
       "      <td>GTEX-1117F</td>\n",
       "      <td>Female</td>\n",
       "      <td>60-69</td>\n",
       "      <td>4.0</td>\n",
       "      <td>NaN</td>\n",
       "      <td>B1, A1</td>\n",
       "      <td>NaN</td>\n",
       "      <td>7.2</td>\n",
       "      <td>Brain</td>\n",
       "      <td>Brain - Frontal Cortex (BA9)</td>\n",
       "      <td>...</td>\n",
       "      <td>NaN</td>\n",
       "      <td>NaN</td>\n",
       "      <td>NaN</td>\n",
       "      <td>NaN</td>\n",
       "      <td>NaN</td>\n",
       "      <td>NaN</td>\n",
       "      <td>NaN</td>\n",
       "      <td>NaN</td>\n",
       "      <td>NaN</td>\n",
       "      <td>NaN</td>\n",
       "    </tr>\n",
       "  </tbody>\n",
       "</table>\n",
       "<p>5 rows × 66 columns</p>\n",
       "</div>"
      ],
      "text/plain": [
       "                                   SUBJID     SEX    AGE  DTHHRDY  SMATSSCR  \\\n",
       "SAMPID                                                                        \n",
       "GTEX-1117F-0003-SM-58Q7G       GTEX-1117F  Female  60-69      4.0       NaN   \n",
       "GTEX-1117F-0003-SM-5DWSB       GTEX-1117F  Female  60-69      4.0       NaN   \n",
       "GTEX-1117F-0003-SM-6WBT7       GTEX-1117F  Female  60-69      4.0       NaN   \n",
       "GTEX-1117F-0011-R10a-SM-AHZ7F  GTEX-1117F  Female  60-69      4.0       NaN   \n",
       "GTEX-1117F-0011-R10b-SM-CYKQ8  GTEX-1117F  Female  60-69      4.0       NaN   \n",
       "\n",
       "                              SMCENTER SMPTHNTS  SMRIN   SMTS  \\\n",
       "SAMPID                                                          \n",
       "GTEX-1117F-0003-SM-58Q7G            B1      NaN    NaN  Blood   \n",
       "GTEX-1117F-0003-SM-5DWSB            B1      NaN    NaN  Blood   \n",
       "GTEX-1117F-0003-SM-6WBT7            B1      NaN    NaN  Blood   \n",
       "GTEX-1117F-0011-R10a-SM-AHZ7F   B1, A1      NaN    NaN  Brain   \n",
       "GTEX-1117F-0011-R10b-SM-CYKQ8   B1, A1      NaN    7.2  Brain   \n",
       "\n",
       "                                                      SMTSD  ... SME1ANTI  \\\n",
       "SAMPID                                                       ...            \n",
       "GTEX-1117F-0003-SM-58Q7G                        Whole Blood  ...      NaN   \n",
       "GTEX-1117F-0003-SM-5DWSB                        Whole Blood  ...      NaN   \n",
       "GTEX-1117F-0003-SM-6WBT7                        Whole Blood  ...      NaN   \n",
       "GTEX-1117F-0011-R10a-SM-AHZ7F  Brain - Frontal Cortex (BA9)  ...      NaN   \n",
       "GTEX-1117F-0011-R10b-SM-CYKQ8  Brain - Frontal Cortex (BA9)  ...      NaN   \n",
       "\n",
       "                               SMSPLTRD  SMBSMMRT SME1SNSE SME1PCTS SMRRNART  \\\n",
       "SAMPID                                                                         \n",
       "GTEX-1117F-0003-SM-58Q7G            NaN       NaN      NaN      NaN      NaN   \n",
       "GTEX-1117F-0003-SM-5DWSB            NaN       NaN      NaN      NaN      NaN   \n",
       "GTEX-1117F-0003-SM-6WBT7            NaN       NaN      NaN      NaN      NaN   \n",
       "GTEX-1117F-0011-R10a-SM-AHZ7F       NaN       NaN      NaN      NaN      NaN   \n",
       "GTEX-1117F-0011-R10b-SM-CYKQ8       NaN       NaN      NaN      NaN      NaN   \n",
       "\n",
       "                              SME1MPRT SMNUM5CD SMDPMPRT SME2PCTS  \n",
       "SAMPID                                                             \n",
       "GTEX-1117F-0003-SM-58Q7G           NaN      NaN      NaN      NaN  \n",
       "GTEX-1117F-0003-SM-5DWSB           NaN      NaN      NaN      NaN  \n",
       "GTEX-1117F-0003-SM-6WBT7           NaN      NaN      NaN      NaN  \n",
       "GTEX-1117F-0011-R10a-SM-AHZ7F      NaN      NaN      NaN      NaN  \n",
       "GTEX-1117F-0011-R10b-SM-CYKQ8      NaN      NaN      NaN      NaN  \n",
       "\n",
       "[5 rows x 66 columns]"
      ]
     },
     "execution_count": 95,
     "metadata": {},
     "output_type": "execute_result"
    }
   ],
   "source": [
    "gtex_metadata = pd.merge(gtex_metadata, gtex_samples, left_index=True, right_index=True)\n",
    "\n",
    "gtex_metadata = gtex_metadata.replace(\n",
    "    {\n",
    "        \"SEX\": {\n",
    "            1: \"Male\",\n",
    "            2: \"Female\",\n",
    "        }\n",
    "    }\n",
    ")\n",
    "\n",
    "gtex_metadata = gtex_metadata.sort_index()\n",
    "\n",
    "gtex_metadata.head()"
   ]
  },
  {
   "cell_type": "code",
   "execution_count": null,
   "metadata": {},
   "outputs": [],
   "source": [
    "# Simple validations\n",
    "assert not gtex_metadata[\"SUBJID\"].isna().any()\n",
    "\n",
    "assert not gtex_metadata[\"SMTS\"].isna().any()\n",
    "assert not gtex_metadata[\"SMTSD\"].isna().any()\n",
    "\n",
    "assert not gtex_metadata[\"SEX\"].isna().any()\n",
    "assert gtex_metadata[\"SEX\"].unique().shape[0] == 2\n",
    "assert set(gtex_metadata[\"SEX\"].unique()) == {\"Female\", \"Male\"}"
   ]
  },
  {
   "cell_type": "code",
   "execution_count": null,
   "metadata": {},
   "outputs": [],
   "source": [
    "# Save metadata\n",
    "gtex_metadatadata_filename = ANALYSIS_DIR / \"gtex_v8-sample_metadata.pkl\"\n",
    "gtex_metadata.to_pickle(gtex_metadatadata_filename)"
   ]
  },
  {
   "cell_type": "markdown",
   "metadata": {},
   "source": [
    "### Metadata correlation\n",
    "We also provide a command-line tool `nbs/common/metadata_corr_cli.py` for computing the correlation between the gene expression and the metadata for each tissue.\n",
    "\n",
    "```bash\n",
    "usage: metadata_corr_cli.py [-h] [--expr-data-dir EXPR_DATA_DIR] [--include [INCLUDE ...]] [--exclude [EXCLUDE ...]] [--permutations PERMUTATIONS]\n",
    "                            [--n-jobs N_JOBS] [--list-metadata-columns] [--list-tissues] [--output-dir OUTPUT_DIR] [--quiet] [--no-csv-output]\n",
    "                            [--no-individual-logs] [--data-dir DATA_DIR]\n",
    "                            gene_symbols [gene_symbols ...]\n",
    "\n",
    "Analyze gene expression correlations with metadata using CCC across multiple tissues\n",
    "\n",
    "positional arguments:\n",
    "  gene_symbols          Gene symbol(s) to analyze (e.g., RASSF2 TP53 BRCA1)\n",
    "\n",
    "options:\n",
    "  -h, --help            show this help message and exit\n",
    "  --expr-data-dir EXPR_DATA_DIR\n",
    "                        Directory containing expression data files (default: /pividori_lab/haoyu_projects/ccc-gpu/data/gtex/gene_selection/all)\n",
    "  --include [INCLUDE ...]\n",
    "                        Include only tissues matching these patterns (fuzzy match on tissue name) (default: None)\n",
    "  --exclude [EXCLUDE ...]\n",
    "                        Exclude tissues matching these patterns (fuzzy match on tissue name) (default: None)\n",
    "  --permutations PERMUTATIONS\n",
    "                        Number of permutations for p-value calculation (default: 100000)\n",
    "  --n-jobs N_JOBS       Number of parallel jobs for computation (default: 4)\n",
    "  --list-metadata-columns\n",
    "                        List available metadata columns and exit (default: False)\n",
    "  --list-tissues        List available tissue files and exit (default: False)\n",
    "  --output-dir OUTPUT_DIR\n",
    "                        Directory to save output files (default: current directory) (default: .)\n",
    "  --quiet               Reduce output verbosity for batch processing (default: False)\n",
    "  --no-csv-output       Skip CSV file generation (only create pickle files) (default: False)\n",
    "  --no-individual-logs  Skip individual tissue log files (only keep summary logs) (default: False)\n",
    "  --data-dir DATA_DIR   Directory containing GTEx data files (metadata and gene mappings) (default: /pividori_lab/haoyu_projects/ccc-gpu/data/gtex)\n",
    "```"
   ]
  },
  {
   "cell_type": "code",
   "execution_count": null,
   "metadata": {},
   "outputs": [],
   "source": [
    "METADATA_CORRELATIONS_RESULT_DIR = ANALYSIS_DIR / \"metadata_correlations\"\n",
    "os.makedirs(METADATA_CORRELATIONS_RESULT_DIR, exist_ok=True)"
   ]
  },
  {
   "cell_type": "code",
   "execution_count": null,
   "metadata": {},
   "outputs": [
    {
     "name": "stderr",
     "output_type": "stream",
     "text": [
      "[2025-09-25 13:05:17,840 - summary] INFO: Output directory: /mnt/data/proj_data/ccc-gpu/data/tutorial/metadata_correlations\n",
      "[2025-09-25 13:05:17,840 - summary] INFO: Summary log file: /mnt/data/proj_data/ccc-gpu/data/tutorial/metadata_correlations/_RASSF2_CYTIP_summary_execution.log\n",
      "[2025-09-25 13:05:17,840 - summary] INFO: Summary tables file: /mnt/data/proj_data/ccc-gpu/data/tutorial/metadata_correlations/_RASSF2_CYTIP_summary_tables.log\n",
      "[2025-09-25 13:05:17,840 - summary] INFO: Gene symbols to analyze: RASSF2, CYTIP\n",
      "[2025-09-25 13:05:17,857 - summary] INFO: \n",
      "====================================================================================================\n",
      "[2025-09-25 13:05:17,858 - summary] INFO: PROCESSING GENE 1/2: RASSF2\n",
      "[2025-09-25 13:05:17,858 - summary] INFO: ====================================================================================================\n",
      "[2025-09-25 13:05:17,858 - summary] INFO: \n",
      "[1/1] Starting processing for RASSF2 in whole_blood...\n",
      "[2025-09-25 13:05:17,859 - tissue_RASSF2_whole_blood] INFO: \n",
      "============================================================\n",
      "[2025-09-25 13:05:17,859 - tissue_RASSF2_whole_blood] INFO: Processing tissue: whole_blood\n",
      "[2025-09-25 13:05:17,859 - tissue_RASSF2_whole_blood] INFO: File: gtex_v8_data_whole_blood.pkl\n",
      "[2025-09-25 13:05:17,859 - tissue_RASSF2_whole_blood] INFO: Log file: /mnt/data/proj_data/ccc-gpu/data/tutorial/metadata_correlations/RASSF2_whole_blood.log\n",
      "[2025-09-25 13:05:17,859 - tissue_RASSF2_whole_blood] INFO: ============================================================\n",
      "[2025-09-25 13:05:17,860 - tissue_RASSF2_whole_blood] INFO: Loading expression data...\n",
      "[2025-09-25 13:05:18,013 - tissue_RASSF2_whole_blood] INFO: Expression data shape: (56200, 755)\n",
      "[2025-09-25 13:05:18,016 - tissue_RASSF2_whole_blood] INFO: Gene ID for RASSF2: ENSG00000101265.15\n",
      "[2025-09-25 13:05:18,019 - tissue_RASSF2_whole_blood] INFO: Number of samples: 755\n",
      "[2025-09-25 13:05:18,021 - tissue_RASSF2_whole_blood] INFO: Common samples: 755\n",
      "[2025-09-25 13:05:18,023 - tissue_RASSF2_whole_blood] INFO: Computing CCC between RASSF2 expression and all metadata columns...\n",
      "[2025-09-25 13:05:18,023 - tissue_RASSF2_whole_blood] INFO: Using 100000 permutations and 4 jobs\n",
      "[2025-09-25 13:05:18,023 - tissue_RASSF2_whole_blood] INFO: Processing 66 metadata columns...\n",
      "[2025-09-25 13:05:18,023 - tissue_RASSF2_whole_blood] INFO: Processing column 1/66: SUBJID\n"
     ]
    },
    {
     "name": "stdout",
     "output_type": "stream",
     "text": [
      "Output directory: /mnt/data/proj_data/ccc-gpu/data/tutorial/metadata_correlations\n",
      "Summary log file: /mnt/data/proj_data/ccc-gpu/data/tutorial/metadata_correlations/_RASSF2_CYTIP_summary_execution.log\n",
      "Summary tables file: /mnt/data/proj_data/ccc-gpu/data/tutorial/metadata_correlations/_RASSF2_CYTIP_summary_tables.log\n",
      "Gene symbols to analyze: RASSF2, CYTIP\n",
      "Found 1 expression files to process:\n",
      "  whole_blood: gtex_v8_data_whole_blood.pkl\n",
      "Loading metadata and gene mapping files...\n",
      "Loaded metadata: (22951, 66)\n",
      "Loaded gene mapping: (56200, 2)\n",
      "\n",
      "====================================================================================================\n",
      "PROCESSING GENE 1/2: RASSF2\n",
      "====================================================================================================\n",
      "\n",
      "[1/1] Starting processing for RASSF2 in whole_blood...\n",
      "\n",
      "============================================================\n",
      "Processing tissue: whole_blood\n",
      "File: gtex_v8_data_whole_blood.pkl\n",
      "Log file: /mnt/data/proj_data/ccc-gpu/data/tutorial/metadata_correlations/RASSF2_whole_blood.log\n",
      "============================================================\n",
      "Loading expression data...\n",
      "Expression data shape: (56200, 755)\n",
      "Gene ID for RASSF2: ENSG00000101265.15\n",
      "Number of samples: 755\n",
      "Common samples: 755\n",
      "Computing CCC between RASSF2 expression and all metadata columns...\n",
      "Using 100000 permutations and 4 jobs\n",
      "Processing 66 metadata columns...\n",
      "Processing column 1/66: SUBJID\n"
     ]
    },
    {
     "name": "stderr",
     "output_type": "stream",
     "text": [
      "[2025-09-25 13:05:18,143 - tissue_RASSF2_whole_blood] INFO:   CCC: 0.000000, p-value: 1.00e+00\n",
      "[2025-09-25 13:05:18,144 - tissue_RASSF2_whole_blood] INFO: Processing column 2/66: SEX\n",
      "[2025-09-25 13:05:18,217 - tissue_RASSF2_whole_blood] INFO:   CCC: 0.007134, p-value: 1.23e-02\n",
      "[2025-09-25 13:05:18,217 - tissue_RASSF2_whole_blood] INFO: Processing column 3/66: AGE\n",
      "[2025-09-25 13:05:18,291 - tissue_RASSF2_whole_blood] INFO:   CCC: 0.039824, p-value: 1.00e-05\n",
      "[2025-09-25 13:05:18,291 - tissue_RASSF2_whole_blood] INFO: Processing column 4/66: DTHHRDY\n"
     ]
    },
    {
     "name": "stdout",
     "output_type": "stream",
     "text": [
      "  CCC: 0.000000, p-value: 1.00e+00\n",
      "Processing column 2/66: SEX\n",
      "  CCC: 0.007134, p-value: 1.23e-02\n",
      "Processing column 3/66: AGE\n",
      "  CCC: 0.039824, p-value: 1.00e-05\n",
      "Processing column 4/66: DTHHRDY\n"
     ]
    },
    {
     "name": "stderr",
     "output_type": "stream",
     "text": [
      "[2025-09-25 13:05:18,547 - tissue_RASSF2_whole_blood] INFO:   CCC: 0.464582, p-value: 1.00e-05\n",
      "[2025-09-25 13:05:18,548 - tissue_RASSF2_whole_blood] INFO: Processing column 5/66: SMATSSCR\n",
      "[2025-09-25 13:05:18,548 - tissue_RASSF2_whole_blood] INFO:   Skipping SMATSSCR: all values are NaN\n",
      "[2025-09-25 13:05:18,548 - tissue_RASSF2_whole_blood] INFO: Processing column 6/66: SMCENTER\n",
      "[2025-09-25 13:05:18,618 - tissue_RASSF2_whole_blood] INFO:   CCC: 0.108148, p-value: 1.00e-05\n",
      "[2025-09-25 13:05:18,618 - tissue_RASSF2_whole_blood] INFO: Processing column 7/66: SMPTHNTS\n",
      "[2025-09-25 13:05:18,619 - tissue_RASSF2_whole_blood] INFO:   Skipping SMPTHNTS: all values are NaN\n",
      "[2025-09-25 13:05:18,619 - tissue_RASSF2_whole_blood] INFO: Processing column 8/66: SMRIN\n"
     ]
    },
    {
     "name": "stdout",
     "output_type": "stream",
     "text": [
      "  CCC: 0.464582, p-value: 1.00e-05\n",
      "Processing column 5/66: SMATSSCR\n",
      "  Skipping SMATSSCR: all values are NaN\n",
      "Processing column 6/66: SMCENTER\n",
      "  CCC: 0.108148, p-value: 1.00e-05\n",
      "Processing column 7/66: SMPTHNTS\n",
      "  Skipping SMPTHNTS: all values are NaN\n",
      "Processing column 8/66: SMRIN\n"
     ]
    },
    {
     "name": "stderr",
     "output_type": "stream",
     "text": [
      "[2025-09-25 13:05:18,872 - tissue_RASSF2_whole_blood] INFO:   CCC: 0.048847, p-value: 1.00e-05\n",
      "[2025-09-25 13:05:18,872 - tissue_RASSF2_whole_blood] INFO: Processing column 9/66: SMTS\n",
      "[2025-09-25 13:05:18,873 - tissue_RASSF2_whole_blood] INFO:   Skipping SMTS: only 1 unique value(s)\n",
      "[2025-09-25 13:05:18,874 - tissue_RASSF2_whole_blood] INFO: Processing column 10/66: SMTSD\n",
      "[2025-09-25 13:05:18,874 - tissue_RASSF2_whole_blood] INFO:   Skipping SMTSD: only 1 unique value(s)\n",
      "[2025-09-25 13:05:18,874 - tissue_RASSF2_whole_blood] INFO: Processing column 11/66: SMUBRID\n",
      "[2025-09-25 13:05:18,875 - tissue_RASSF2_whole_blood] INFO:   Skipping SMUBRID: only 1 unique value(s)\n",
      "[2025-09-25 13:05:18,875 - tissue_RASSF2_whole_blood] INFO: Processing column 12/66: SMTSISCH\n"
     ]
    },
    {
     "name": "stdout",
     "output_type": "stream",
     "text": [
      "  CCC: 0.048847, p-value: 1.00e-05\n",
      "Processing column 9/66: SMTS\n",
      "  Skipping SMTS: only 1 unique value(s)\n",
      "Processing column 10/66: SMTSD\n",
      "  Skipping SMTSD: only 1 unique value(s)\n",
      "Processing column 11/66: SMUBRID\n",
      "  Skipping SMUBRID: only 1 unique value(s)\n",
      "Processing column 12/66: SMTSISCH\n"
     ]
    },
    {
     "name": "stderr",
     "output_type": "stream",
     "text": [
      "[2025-09-25 13:05:19,129 - tissue_RASSF2_whole_blood] INFO:   CCC: 0.528125, p-value: 1.00e-05\n",
      "[2025-09-25 13:05:19,130 - tissue_RASSF2_whole_blood] INFO: Processing column 13/66: SMTSPAX\n",
      "[2025-09-25 13:05:19,130 - tissue_RASSF2_whole_blood] INFO:   Skipping SMTSPAX: all values are NaN\n",
      "[2025-09-25 13:05:19,130 - tissue_RASSF2_whole_blood] INFO: Processing column 14/66: SMNABTCH\n",
      "[2025-09-25 13:05:19,194 - tissue_RASSF2_whole_blood] INFO:   CCC: 0.000884, p-value: 1.00e-05\n",
      "[2025-09-25 13:05:19,195 - tissue_RASSF2_whole_blood] INFO: Processing column 15/66: SMNABTCHT\n",
      "[2025-09-25 13:05:19,196 - tissue_RASSF2_whole_blood] INFO:   Skipping SMNABTCHT: only 1 unique value(s)\n",
      "[2025-09-25 13:05:19,196 - tissue_RASSF2_whole_blood] INFO: Processing column 16/66: SMNABTCHD\n",
      "[2025-09-25 13:05:19,259 - tissue_RASSF2_whole_blood] INFO:   CCC: 0.000900, p-value: 1.00e-05\n",
      "[2025-09-25 13:05:19,259 - tissue_RASSF2_whole_blood] INFO: Processing column 17/66: SMGEBTCH\n",
      "[2025-09-25 13:05:19,316 - tissue_RASSF2_whole_blood] INFO:   CCC: 0.003663, p-value: 1.00e-05\n",
      "[2025-09-25 13:05:19,316 - tissue_RASSF2_whole_blood] INFO: Processing column 18/66: SMGEBTCHD\n"
     ]
    },
    {
     "name": "stdout",
     "output_type": "stream",
     "text": [
      "  CCC: 0.528125, p-value: 1.00e-05\n",
      "Processing column 13/66: SMTSPAX\n",
      "  Skipping SMTSPAX: all values are NaN\n",
      "Processing column 14/66: SMNABTCH\n",
      "  CCC: 0.000884, p-value: 1.00e-05\n",
      "Processing column 15/66: SMNABTCHT\n",
      "  Skipping SMNABTCHT: only 1 unique value(s)\n",
      "Processing column 16/66: SMNABTCHD\n",
      "  CCC: 0.000900, p-value: 1.00e-05\n",
      "Processing column 17/66: SMGEBTCH\n",
      "  CCC: 0.003663, p-value: 1.00e-05\n",
      "Processing column 18/66: SMGEBTCHD\n"
     ]
    },
    {
     "name": "stderr",
     "output_type": "stream",
     "text": [
      "[2025-09-25 13:05:19,374 - tissue_RASSF2_whole_blood] INFO:   CCC: 0.005827, p-value: 1.00e-05\n",
      "[2025-09-25 13:05:19,374 - tissue_RASSF2_whole_blood] INFO: Processing column 19/66: SMGEBTCHT\n",
      "[2025-09-25 13:05:19,375 - tissue_RASSF2_whole_blood] INFO:   Skipping SMGEBTCHT: only 1 unique value(s)\n",
      "[2025-09-25 13:05:19,375 - tissue_RASSF2_whole_blood] INFO: Processing column 20/66: SMAFRZE\n",
      "[2025-09-25 13:05:19,375 - tissue_RASSF2_whole_blood] INFO:   Skipping SMAFRZE: only 1 unique value(s)\n",
      "[2025-09-25 13:05:19,376 - tissue_RASSF2_whole_blood] INFO: Processing column 21/66: SMGTC\n",
      "[2025-09-25 13:05:19,376 - tissue_RASSF2_whole_blood] INFO:   Skipping SMGTC: all values are NaN\n",
      "[2025-09-25 13:05:19,376 - tissue_RASSF2_whole_blood] INFO: Processing column 22/66: SME2MPRT\n"
     ]
    },
    {
     "name": "stdout",
     "output_type": "stream",
     "text": [
      "  CCC: 0.005827, p-value: 1.00e-05\n",
      "Processing column 19/66: SMGEBTCHT\n",
      "  Skipping SMGEBTCHT: only 1 unique value(s)\n",
      "Processing column 20/66: SMAFRZE\n",
      "  Skipping SMAFRZE: only 1 unique value(s)\n",
      "Processing column 21/66: SMGTC\n",
      "  Skipping SMGTC: all values are NaN\n",
      "Processing column 22/66: SME2MPRT\n"
     ]
    },
    {
     "name": "stderr",
     "output_type": "stream",
     "text": [
      "[2025-09-25 13:05:19,629 - tissue_RASSF2_whole_blood] INFO:   CCC: 0.172974, p-value: 1.00e-05\n",
      "[2025-09-25 13:05:19,629 - tissue_RASSF2_whole_blood] INFO: Processing column 23/66: SMCHMPRS\n"
     ]
    },
    {
     "name": "stdout",
     "output_type": "stream",
     "text": [
      "  CCC: 0.172974, p-value: 1.00e-05\n",
      "Processing column 23/66: SMCHMPRS\n"
     ]
    },
    {
     "name": "stderr",
     "output_type": "stream",
     "text": [
      "[2025-09-25 13:05:19,882 - tissue_RASSF2_whole_blood] INFO:   CCC: 0.143365, p-value: 1.00e-05\n",
      "[2025-09-25 13:05:19,882 - tissue_RASSF2_whole_blood] INFO: Processing column 24/66: SMNTRART\n"
     ]
    },
    {
     "name": "stdout",
     "output_type": "stream",
     "text": [
      "  CCC: 0.143365, p-value: 1.00e-05\n",
      "Processing column 24/66: SMNTRART\n"
     ]
    },
    {
     "name": "stderr",
     "output_type": "stream",
     "text": [
      "[2025-09-25 13:05:20,136 - tissue_RASSF2_whole_blood] INFO:   CCC: 0.243071, p-value: 1.00e-05\n",
      "[2025-09-25 13:05:20,137 - tissue_RASSF2_whole_blood] INFO: Processing column 25/66: SMNUMGPS\n",
      "[2025-09-25 13:05:20,137 - tissue_RASSF2_whole_blood] INFO:   Skipping SMNUMGPS: all values are NaN\n",
      "[2025-09-25 13:05:20,137 - tissue_RASSF2_whole_blood] INFO: Processing column 26/66: SMMAPRT\n"
     ]
    },
    {
     "name": "stdout",
     "output_type": "stream",
     "text": [
      "  CCC: 0.243071, p-value: 1.00e-05\n",
      "Processing column 25/66: SMNUMGPS\n",
      "  Skipping SMNUMGPS: all values are NaN\n",
      "Processing column 26/66: SMMAPRT\n"
     ]
    },
    {
     "name": "stderr",
     "output_type": "stream",
     "text": [
      "[2025-09-25 13:05:20,392 - tissue_RASSF2_whole_blood] INFO:   CCC: 0.168576, p-value: 1.00e-05\n",
      "[2025-09-25 13:05:20,393 - tissue_RASSF2_whole_blood] INFO: Processing column 27/66: SMEXNCRT\n"
     ]
    },
    {
     "name": "stdout",
     "output_type": "stream",
     "text": [
      "  CCC: 0.168576, p-value: 1.00e-05\n",
      "Processing column 27/66: SMEXNCRT\n"
     ]
    },
    {
     "name": "stderr",
     "output_type": "stream",
     "text": [
      "[2025-09-25 13:05:20,646 - tissue_RASSF2_whole_blood] INFO:   CCC: 0.040140, p-value: 1.00e-05\n",
      "[2025-09-25 13:05:20,647 - tissue_RASSF2_whole_blood] INFO: Processing column 28/66: SM550NRM\n",
      "[2025-09-25 13:05:20,647 - tissue_RASSF2_whole_blood] INFO:   Skipping SM550NRM: all values are NaN\n",
      "[2025-09-25 13:05:20,648 - tissue_RASSF2_whole_blood] INFO: Processing column 29/66: SMGNSDTC\n"
     ]
    },
    {
     "name": "stdout",
     "output_type": "stream",
     "text": [
      "  CCC: 0.040140, p-value: 1.00e-05\n",
      "Processing column 28/66: SM550NRM\n",
      "  Skipping SM550NRM: all values are NaN\n",
      "Processing column 29/66: SMGNSDTC\n"
     ]
    },
    {
     "name": "stderr",
     "output_type": "stream",
     "text": [
      "[2025-09-25 13:05:20,902 - tissue_RASSF2_whole_blood] INFO:   CCC: 0.043013, p-value: 1.00e-05\n",
      "[2025-09-25 13:05:20,903 - tissue_RASSF2_whole_blood] INFO: Processing column 30/66: SMUNMPRT\n",
      "[2025-09-25 13:05:20,903 - tissue_RASSF2_whole_blood] INFO:   Skipping SMUNMPRT: only 1 unique value(s)\n",
      "[2025-09-25 13:05:20,903 - tissue_RASSF2_whole_blood] INFO: Processing column 31/66: SM350NRM\n",
      "[2025-09-25 13:05:20,903 - tissue_RASSF2_whole_blood] INFO:   Skipping SM350NRM: all values are NaN\n",
      "[2025-09-25 13:05:20,904 - tissue_RASSF2_whole_blood] INFO: Processing column 32/66: SMRDLGTH\n"
     ]
    },
    {
     "name": "stdout",
     "output_type": "stream",
     "text": [
      "  CCC: 0.043013, p-value: 1.00e-05\n",
      "Processing column 30/66: SMUNMPRT\n",
      "  Skipping SMUNMPRT: only 1 unique value(s)\n",
      "Processing column 31/66: SM350NRM\n",
      "  Skipping SM350NRM: all values are NaN\n",
      "Processing column 32/66: SMRDLGTH\n"
     ]
    },
    {
     "name": "stderr",
     "output_type": "stream",
     "text": [
      "[2025-09-25 13:05:21,156 - tissue_RASSF2_whole_blood] INFO:   CCC: 0.000028, p-value: 1.73e-01\n",
      "[2025-09-25 13:05:21,157 - tissue_RASSF2_whole_blood] INFO: Processing column 33/66: SMMNCPB\n",
      "[2025-09-25 13:05:21,157 - tissue_RASSF2_whole_blood] INFO:   Skipping SMMNCPB: all values are NaN\n",
      "[2025-09-25 13:05:21,157 - tissue_RASSF2_whole_blood] INFO: Processing column 34/66: SME1MMRT\n"
     ]
    },
    {
     "name": "stdout",
     "output_type": "stream",
     "text": [
      "  CCC: 0.000028, p-value: 1.73e-01\n",
      "Processing column 33/66: SMMNCPB\n",
      "  Skipping SMMNCPB: all values are NaN\n",
      "Processing column 34/66: SME1MMRT\n"
     ]
    },
    {
     "name": "stderr",
     "output_type": "stream",
     "text": [
      "[2025-09-25 13:05:21,411 - tissue_RASSF2_whole_blood] INFO:   CCC: 0.018125, p-value: 1.40e-04\n",
      "[2025-09-25 13:05:21,412 - tissue_RASSF2_whole_blood] INFO: Processing column 35/66: SMSFLGTH\n"
     ]
    },
    {
     "name": "stdout",
     "output_type": "stream",
     "text": [
      "  CCC: 0.018125, p-value: 1.40e-04\n",
      "Processing column 35/66: SMSFLGTH\n"
     ]
    },
    {
     "name": "stderr",
     "output_type": "stream",
     "text": [
      "[2025-09-25 13:05:21,665 - tissue_RASSF2_whole_blood] INFO:   CCC: 0.047258, p-value: 1.00e-05\n",
      "[2025-09-25 13:05:21,666 - tissue_RASSF2_whole_blood] INFO: Processing column 36/66: SMESTLBS\n",
      "[2025-09-25 13:05:21,666 - tissue_RASSF2_whole_blood] INFO:   Skipping SMESTLBS: only 1 unique value(s)\n",
      "[2025-09-25 13:05:21,666 - tissue_RASSF2_whole_blood] INFO: Processing column 37/66: SMMPPD\n"
     ]
    },
    {
     "name": "stdout",
     "output_type": "stream",
     "text": [
      "  CCC: 0.047258, p-value: 1.00e-05\n",
      "Processing column 36/66: SMESTLBS\n",
      "  Skipping SMESTLBS: only 1 unique value(s)\n",
      "Processing column 37/66: SMMPPD\n"
     ]
    },
    {
     "name": "stderr",
     "output_type": "stream",
     "text": [
      "[2025-09-25 13:05:21,921 - tissue_RASSF2_whole_blood] INFO:   CCC: 0.007761, p-value: 3.43e-02\n",
      "[2025-09-25 13:05:21,921 - tissue_RASSF2_whole_blood] INFO: Processing column 38/66: SMNTERRT\n"
     ]
    },
    {
     "name": "stdout",
     "output_type": "stream",
     "text": [
      "  CCC: 0.007761, p-value: 3.43e-02\n",
      "Processing column 38/66: SMNTERRT\n"
     ]
    },
    {
     "name": "stderr",
     "output_type": "stream",
     "text": [
      "[2025-09-25 13:05:22,175 - tissue_RASSF2_whole_blood] INFO:   CCC: 0.250997, p-value: 1.00e-05\n",
      "[2025-09-25 13:05:22,175 - tissue_RASSF2_whole_blood] INFO: Processing column 39/66: SMRRNANM\n"
     ]
    },
    {
     "name": "stdout",
     "output_type": "stream",
     "text": [
      "  CCC: 0.250997, p-value: 1.00e-05\n",
      "Processing column 39/66: SMRRNANM\n"
     ]
    },
    {
     "name": "stderr",
     "output_type": "stream",
     "text": [
      "[2025-09-25 13:05:22,430 - tissue_RASSF2_whole_blood] INFO:   CCC: 0.036631, p-value: 1.00e-05\n",
      "[2025-09-25 13:05:22,430 - tissue_RASSF2_whole_blood] INFO: Processing column 40/66: SMRDTTL\n"
     ]
    },
    {
     "name": "stdout",
     "output_type": "stream",
     "text": [
      "  CCC: 0.036631, p-value: 1.00e-05\n",
      "Processing column 40/66: SMRDTTL\n"
     ]
    },
    {
     "name": "stderr",
     "output_type": "stream",
     "text": [
      "[2025-09-25 13:05:22,686 - tissue_RASSF2_whole_blood] INFO:   CCC: 0.010388, p-value: 6.63e-03\n",
      "[2025-09-25 13:05:22,686 - tissue_RASSF2_whole_blood] INFO: Processing column 41/66: SMVQCFL\n"
     ]
    },
    {
     "name": "stdout",
     "output_type": "stream",
     "text": [
      "  CCC: 0.010388, p-value: 6.63e-03\n",
      "Processing column 41/66: SMVQCFL\n"
     ]
    },
    {
     "name": "stderr",
     "output_type": "stream",
     "text": [
      "[2025-09-25 13:05:22,941 - tissue_RASSF2_whole_blood] INFO:   CCC: 0.001442, p-value: 9.24e-01\n",
      "[2025-09-25 13:05:22,942 - tissue_RASSF2_whole_blood] INFO: Processing column 42/66: SMMNCV\n",
      "[2025-09-25 13:05:22,943 - tissue_RASSF2_whole_blood] INFO:   Skipping SMMNCV: all values are NaN\n",
      "[2025-09-25 13:05:22,943 - tissue_RASSF2_whole_blood] INFO: Processing column 43/66: SMTRSCPT\n"
     ]
    },
    {
     "name": "stdout",
     "output_type": "stream",
     "text": [
      "  CCC: 0.001442, p-value: 9.24e-01\n",
      "Processing column 42/66: SMMNCV\n",
      "  Skipping SMMNCV: all values are NaN\n",
      "Processing column 43/66: SMTRSCPT\n"
     ]
    },
    {
     "name": "stderr",
     "output_type": "stream",
     "text": [
      "[2025-09-25 13:05:23,199 - tissue_RASSF2_whole_blood] INFO:   CCC: 0.042714, p-value: 1.00e-05\n",
      "[2025-09-25 13:05:23,199 - tissue_RASSF2_whole_blood] INFO: Processing column 44/66: SMMPPDPR\n"
     ]
    },
    {
     "name": "stdout",
     "output_type": "stream",
     "text": [
      "  CCC: 0.042714, p-value: 1.00e-05\n",
      "Processing column 44/66: SMMPPDPR\n"
     ]
    },
    {
     "name": "stderr",
     "output_type": "stream",
     "text": [
      "[2025-09-25 13:05:23,453 - tissue_RASSF2_whole_blood] INFO:   CCC: 0.007761, p-value: 3.48e-02\n",
      "[2025-09-25 13:05:23,454 - tissue_RASSF2_whole_blood] INFO: Processing column 45/66: SMCGLGTH\n",
      "[2025-09-25 13:05:23,454 - tissue_RASSF2_whole_blood] INFO:   Skipping SMCGLGTH: all values are NaN\n",
      "[2025-09-25 13:05:23,454 - tissue_RASSF2_whole_blood] INFO: Processing column 46/66: SMGAPPCT\n",
      "[2025-09-25 13:05:23,455 - tissue_RASSF2_whole_blood] INFO:   Skipping SMGAPPCT: all values are NaN\n",
      "[2025-09-25 13:05:23,455 - tissue_RASSF2_whole_blood] INFO: Processing column 47/66: SMUNPDRD\n",
      "[2025-09-25 13:05:23,455 - tissue_RASSF2_whole_blood] INFO:   Skipping SMUNPDRD: only 1 unique value(s)\n",
      "[2025-09-25 13:05:23,455 - tissue_RASSF2_whole_blood] INFO: Processing column 48/66: SMNTRNRT\n"
     ]
    },
    {
     "name": "stdout",
     "output_type": "stream",
     "text": [
      "  CCC: 0.007761, p-value: 3.48e-02\n",
      "Processing column 45/66: SMCGLGTH\n",
      "  Skipping SMCGLGTH: all values are NaN\n",
      "Processing column 46/66: SMGAPPCT\n",
      "  Skipping SMGAPPCT: all values are NaN\n",
      "Processing column 47/66: SMUNPDRD\n",
      "  Skipping SMUNPDRD: only 1 unique value(s)\n",
      "Processing column 48/66: SMNTRNRT\n"
     ]
    },
    {
     "name": "stderr",
     "output_type": "stream",
     "text": [
      "[2025-09-25 13:05:23,710 - tissue_RASSF2_whole_blood] INFO:   CCC: 0.202936, p-value: 1.00e-05\n",
      "[2025-09-25 13:05:23,710 - tissue_RASSF2_whole_blood] INFO: Processing column 49/66: SMMPUNRT\n"
     ]
    },
    {
     "name": "stdout",
     "output_type": "stream",
     "text": [
      "  CCC: 0.202936, p-value: 1.00e-05\n",
      "Processing column 49/66: SMMPUNRT\n"
     ]
    },
    {
     "name": "stderr",
     "output_type": "stream",
     "text": [
      "[2025-09-25 13:05:23,964 - tissue_RASSF2_whole_blood] INFO:   CCC: 0.168576, p-value: 1.00e-05\n",
      "[2025-09-25 13:05:23,964 - tissue_RASSF2_whole_blood] INFO: Processing column 50/66: SMEXPEFF\n"
     ]
    },
    {
     "name": "stdout",
     "output_type": "stream",
     "text": [
      "  CCC: 0.168576, p-value: 1.00e-05\n",
      "Processing column 50/66: SMEXPEFF\n"
     ]
    },
    {
     "name": "stderr",
     "output_type": "stream",
     "text": [
      "[2025-09-25 13:05:24,219 - tissue_RASSF2_whole_blood] INFO:   CCC: 0.059931, p-value: 1.00e-05\n",
      "[2025-09-25 13:05:24,219 - tissue_RASSF2_whole_blood] INFO: Processing column 51/66: SMMPPDUN\n"
     ]
    },
    {
     "name": "stdout",
     "output_type": "stream",
     "text": [
      "  CCC: 0.059931, p-value: 1.00e-05\n",
      "Processing column 51/66: SMMPPDUN\n"
     ]
    },
    {
     "name": "stderr",
     "output_type": "stream",
     "text": [
      "[2025-09-25 13:05:24,474 - tissue_RASSF2_whole_blood] INFO:   CCC: 0.007761, p-value: 3.43e-02\n",
      "[2025-09-25 13:05:24,474 - tissue_RASSF2_whole_blood] INFO: Processing column 52/66: SME2MMRT\n"
     ]
    },
    {
     "name": "stdout",
     "output_type": "stream",
     "text": [
      "  CCC: 0.007761, p-value: 3.43e-02\n",
      "Processing column 52/66: SME2MMRT\n"
     ]
    },
    {
     "name": "stderr",
     "output_type": "stream",
     "text": [
      "[2025-09-25 13:05:24,730 - tissue_RASSF2_whole_blood] INFO:   CCC: 0.003990, p-value: 4.05e-01\n",
      "[2025-09-25 13:05:24,731 - tissue_RASSF2_whole_blood] INFO: Processing column 53/66: SME2ANTI\n"
     ]
    },
    {
     "name": "stdout",
     "output_type": "stream",
     "text": [
      "  CCC: 0.003990, p-value: 4.05e-01\n",
      "Processing column 53/66: SME2ANTI\n"
     ]
    },
    {
     "name": "stderr",
     "output_type": "stream",
     "text": [
      "[2025-09-25 13:05:24,987 - tissue_RASSF2_whole_blood] INFO:   CCC: 0.020742, p-value: 1.10e-04\n",
      "[2025-09-25 13:05:24,988 - tissue_RASSF2_whole_blood] INFO: Processing column 54/66: SMALTALG\n"
     ]
    },
    {
     "name": "stdout",
     "output_type": "stream",
     "text": [
      "  CCC: 0.020742, p-value: 1.10e-04\n",
      "Processing column 54/66: SMALTALG\n"
     ]
    },
    {
     "name": "stderr",
     "output_type": "stream",
     "text": [
      "[2025-09-25 13:05:25,242 - tissue_RASSF2_whole_blood] INFO:   CCC: 0.177009, p-value: 1.00e-05\n",
      "[2025-09-25 13:05:25,242 - tissue_RASSF2_whole_blood] INFO: Processing column 55/66: SME2SNSE\n"
     ]
    },
    {
     "name": "stdout",
     "output_type": "stream",
     "text": [
      "  CCC: 0.177009, p-value: 1.00e-05\n",
      "Processing column 55/66: SME2SNSE\n"
     ]
    },
    {
     "name": "stderr",
     "output_type": "stream",
     "text": [
      "[2025-09-25 13:05:25,496 - tissue_RASSF2_whole_blood] INFO:   CCC: 0.019048, p-value: 1.80e-04\n",
      "[2025-09-25 13:05:25,497 - tissue_RASSF2_whole_blood] INFO: Processing column 56/66: SMMFLGTH\n"
     ]
    },
    {
     "name": "stdout",
     "output_type": "stream",
     "text": [
      "  CCC: 0.019048, p-value: 1.80e-04\n",
      "Processing column 56/66: SMMFLGTH\n"
     ]
    },
    {
     "name": "stderr",
     "output_type": "stream",
     "text": [
      "[2025-09-25 13:05:25,751 - tissue_RASSF2_whole_blood] INFO:   CCC: 0.019296, p-value: 1.50e-04\n",
      "[2025-09-25 13:05:25,751 - tissue_RASSF2_whole_blood] INFO: Processing column 57/66: SME1ANTI\n"
     ]
    },
    {
     "name": "stdout",
     "output_type": "stream",
     "text": [
      "  CCC: 0.019296, p-value: 1.50e-04\n",
      "Processing column 57/66: SME1ANTI\n"
     ]
    },
    {
     "name": "stderr",
     "output_type": "stream",
     "text": [
      "[2025-09-25 13:05:26,007 - tissue_RASSF2_whole_blood] INFO:   CCC: 0.021058, p-value: 1.20e-04\n",
      "[2025-09-25 13:05:26,008 - tissue_RASSF2_whole_blood] INFO: Processing column 58/66: SMSPLTRD\n"
     ]
    },
    {
     "name": "stdout",
     "output_type": "stream",
     "text": [
      "  CCC: 0.021058, p-value: 1.20e-04\n",
      "Processing column 58/66: SMSPLTRD\n"
     ]
    },
    {
     "name": "stderr",
     "output_type": "stream",
     "text": [
      "[2025-09-25 13:05:26,263 - tissue_RASSF2_whole_blood] INFO:   CCC: 0.057786, p-value: 1.00e-05\n",
      "[2025-09-25 13:05:26,264 - tissue_RASSF2_whole_blood] INFO: Processing column 59/66: SMBSMMRT\n"
     ]
    },
    {
     "name": "stdout",
     "output_type": "stream",
     "text": [
      "  CCC: 0.057786, p-value: 1.00e-05\n",
      "Processing column 59/66: SMBSMMRT\n"
     ]
    },
    {
     "name": "stderr",
     "output_type": "stream",
     "text": [
      "[2025-09-25 13:05:26,518 - tissue_RASSF2_whole_blood] INFO:   CCC: 0.005333, p-value: 1.83e-01\n",
      "[2025-09-25 13:05:26,518 - tissue_RASSF2_whole_blood] INFO: Processing column 60/66: SME1SNSE\n"
     ]
    },
    {
     "name": "stdout",
     "output_type": "stream",
     "text": [
      "  CCC: 0.005333, p-value: 1.83e-01\n",
      "Processing column 60/66: SME1SNSE\n"
     ]
    },
    {
     "name": "stderr",
     "output_type": "stream",
     "text": [
      "[2025-09-25 13:05:26,773 - tissue_RASSF2_whole_blood] INFO:   CCC: 0.022008, p-value: 5.00e-05\n",
      "[2025-09-25 13:05:26,773 - tissue_RASSF2_whole_blood] INFO: Processing column 61/66: SME1PCTS\n"
     ]
    },
    {
     "name": "stdout",
     "output_type": "stream",
     "text": [
      "  CCC: 0.022008, p-value: 5.00e-05\n",
      "Processing column 61/66: SME1PCTS\n"
     ]
    },
    {
     "name": "stderr",
     "output_type": "stream",
     "text": [
      "[2025-09-25 13:05:27,030 - tissue_RASSF2_whole_blood] INFO:   CCC: 0.032073, p-value: 2.00e-05\n",
      "[2025-09-25 13:05:27,030 - tissue_RASSF2_whole_blood] INFO: Processing column 62/66: SMRRNART\n"
     ]
    },
    {
     "name": "stdout",
     "output_type": "stream",
     "text": [
      "  CCC: 0.032073, p-value: 2.00e-05\n",
      "Processing column 62/66: SMRRNART\n"
     ]
    },
    {
     "name": "stderr",
     "output_type": "stream",
     "text": [
      "[2025-09-25 13:05:27,285 - tissue_RASSF2_whole_blood] INFO:   CCC: 0.048437, p-value: 1.00e-05\n",
      "[2025-09-25 13:05:27,286 - tissue_RASSF2_whole_blood] INFO: Processing column 63/66: SME1MPRT\n"
     ]
    },
    {
     "name": "stdout",
     "output_type": "stream",
     "text": [
      "  CCC: 0.048437, p-value: 1.00e-05\n",
      "Processing column 63/66: SME1MPRT\n"
     ]
    },
    {
     "name": "stderr",
     "output_type": "stream",
     "text": [
      "[2025-09-25 13:05:27,541 - tissue_RASSF2_whole_blood] INFO:   CCC: 0.181940, p-value: 1.00e-05\n",
      "[2025-09-25 13:05:27,541 - tissue_RASSF2_whole_blood] INFO: Processing column 64/66: SMNUM5CD\n",
      "[2025-09-25 13:05:27,541 - tissue_RASSF2_whole_blood] INFO:   Skipping SMNUM5CD: all values are NaN\n",
      "[2025-09-25 13:05:27,542 - tissue_RASSF2_whole_blood] INFO: Processing column 65/66: SMDPMPRT\n",
      "[2025-09-25 13:05:27,542 - tissue_RASSF2_whole_blood] INFO:   Skipping SMDPMPRT: only 1 unique value(s)\n",
      "[2025-09-25 13:05:27,542 - tissue_RASSF2_whole_blood] INFO: Processing column 66/66: SME2PCTS\n"
     ]
    },
    {
     "name": "stdout",
     "output_type": "stream",
     "text": [
      "  CCC: 0.181940, p-value: 1.00e-05\n",
      "Processing column 64/66: SMNUM5CD\n",
      "  Skipping SMNUM5CD: all values are NaN\n",
      "Processing column 65/66: SMDPMPRT\n",
      "  Skipping SMDPMPRT: only 1 unique value(s)\n",
      "Processing column 66/66: SME2PCTS\n"
     ]
    },
    {
     "name": "stderr",
     "output_type": "stream",
     "text": [
      "[2025-09-25 13:05:27,796 - tissue_RASSF2_whole_blood] INFO:   CCC: 0.029344, p-value: 1.00e-05\n",
      "[2025-09-25 13:05:27,798 - tissue_RASSF2_whole_blood] INFO: \n",
      "Completed processing whole_blood:\n",
      "[2025-09-25 13:05:27,798 - tissue_RASSF2_whole_blood] INFO:   Total metadata columns: 66\n",
      "[2025-09-25 13:05:27,798 - tissue_RASSF2_whole_blood] INFO:   Successful analyses: 44\n",
      "[2025-09-25 13:05:27,798 - tissue_RASSF2_whole_blood] INFO:   Skipped/Failed: 22\n",
      "[2025-09-25 13:05:27,821 - summary] INFO: Results for RASSF2 in whole_blood saved to: /mnt/data/proj_data/ccc-gpu/data/tutorial/metadata_correlations/RASSF2_whole_blood_correlation_results.pkl\n",
      "[2025-09-25 13:05:27,821 - summary] INFO: Log file for RASSF2 in whole_blood saved to: /mnt/data/proj_data/ccc-gpu/data/tutorial/metadata_correlations/RASSF2_whole_blood.log\n",
      "[2025-09-25 13:05:27,822 - summary] INFO: Runtime for RASSF2 in whole_blood: 9.96 seconds (0.17 minutes)\n",
      "[2025-09-25 13:05:27,823 - summary] INFO: \n",
      "================================================================================\n",
      "[2025-09-25 13:05:27,823 - summary] INFO: COMBINED RESULTS SUMMARY\n",
      "[2025-09-25 13:05:27,823 - summary] INFO: ================================================================================\n",
      "[2025-09-25 13:05:27,824 - summary] INFO: Gene Symbol: RASSF2\n",
      "[2025-09-25 13:05:27,824 - summary] INFO: Gene ID: ENSG00000101265.15\n",
      "[2025-09-25 13:05:27,824 - summary] INFO: Permutations: 100,000\n",
      "[2025-09-25 13:05:27,824 - summary] INFO: Tissues processed: 1\n",
      "[2025-09-25 13:05:27,825 - summary] INFO: Combined results saved to: /mnt/data/proj_data/ccc-gpu/data/tutorial/metadata_correlations/RASSF2_all_tissues_correlation_results.pkl\n",
      "[2025-09-25 13:05:27,825 - summary] INFO: Combined results (CSV) saved to: /mnt/data/proj_data/ccc-gpu/data/tutorial/metadata_correlations/RASSF2_all_tissues_correlation_results.csv\n",
      "[2025-09-25 13:05:27,826 - summary] INFO: \n",
      "Total successful analyses across all tissues: 44\n",
      "[2025-09-25 13:05:27,826 - summary] INFO: \n",
      "================================================================================\n",
      "[2025-09-25 13:05:27,826 - summary] INFO: TOP CORRELATIONS ACROSS ALL TISSUES (by absolute CCC value)\n",
      "[2025-09-25 13:05:27,826 - summary] INFO: ================================================================================\n",
      "[2025-09-25 13:05:27,827 - summary] INFO: Tissue               Metadata Column           CCC Value    P-value      Significance   \n",
      "[2025-09-25 13:05:27,827 - summary] INFO: ------------------------------------------------------------------------------------------\n",
      "[2025-09-25 13:05:27,828 - summary] INFO: whole_blood          SMTSISCH                    0.528125    1.00e-05  ***            \n",
      "[2025-09-25 13:05:27,828 - summary] INFO: whole_blood          DTHHRDY                     0.464582    1.00e-05  ***            \n",
      "[2025-09-25 13:05:27,828 - summary] INFO: whole_blood          SMNTERRT                    0.250997    1.00e-05  ***            \n",
      "[2025-09-25 13:05:27,829 - summary] INFO: whole_blood          SMNTRART                    0.243071    1.00e-05  ***            \n",
      "[2025-09-25 13:05:27,829 - summary] INFO: whole_blood          SMNTRNRT                    0.202936    1.00e-05  ***            \n",
      "[2025-09-25 13:05:27,829 - summary] INFO: whole_blood          SME1MPRT                    0.181940    1.00e-05  ***            \n",
      "[2025-09-25 13:05:27,829 - summary] INFO: whole_blood          SMALTALG                    0.177009    1.00e-05  ***            \n",
      "[2025-09-25 13:05:27,830 - summary] INFO: whole_blood          SME2MPRT                    0.172974    1.00e-05  ***            \n",
      "[2025-09-25 13:05:27,830 - summary] INFO: whole_blood          SMMPUNRT                    0.168576    1.00e-05  ***            \n",
      "[2025-09-25 13:05:27,830 - summary] INFO: whole_blood          SMMAPRT                     0.168576    1.00e-05  ***            \n",
      "[2025-09-25 13:05:27,830 - summary] INFO: whole_blood          SMCHMPRS                    0.143365    1.00e-05  ***            \n",
      "[2025-09-25 13:05:27,831 - summary] INFO: whole_blood          SMCENTER                    0.108148    1.00e-05  ***            \n",
      "[2025-09-25 13:05:27,831 - summary] INFO: whole_blood          SMEXPEFF                    0.059931    1.00e-05  ***            \n",
      "[2025-09-25 13:05:27,832 - summary] INFO: whole_blood          SMSPLTRD                    0.057786    1.00e-05  ***            \n",
      "[2025-09-25 13:05:27,832 - summary] INFO: whole_blood          SMRIN                       0.048847    1.00e-05  ***            \n",
      "[2025-09-25 13:05:27,832 - summary] INFO: whole_blood          SMRRNART                    0.048437    1.00e-05  ***            \n",
      "[2025-09-25 13:05:27,833 - summary] INFO: whole_blood          SMSFLGTH                    0.047258    1.00e-05  ***            \n",
      "[2025-09-25 13:05:27,833 - summary] INFO: whole_blood          SMGNSDTC                    0.043013    1.00e-05  ***            \n",
      "[2025-09-25 13:05:27,833 - summary] INFO: whole_blood          SMTRSCPT                    0.042714    1.00e-05  ***            \n",
      "[2025-09-25 13:05:27,833 - summary] INFO: whole_blood          SMEXNCRT                    0.040140    1.00e-05  ***            \n",
      "[2025-09-25 13:05:27,834 - summary] INFO: \n",
      "================================================================================\n",
      "[2025-09-25 13:05:27,834 - summary] INFO: SUMMARY BY TISSUE\n",
      "[2025-09-25 13:05:27,834 - summary] INFO: ================================================================================\n",
      "[2025-09-25 13:05:27,834 - summary] INFO: Tissue               N Samples  Successful   Mean |CCC|   Max |CCC|   \n",
      "[2025-09-25 13:05:27,835 - summary] INFO: ----------------------------------------------------------------------\n",
      "[2025-09-25 13:05:27,835 - summary] INFO: whole_blood          755        44           0.079987     0.528125    \n",
      "[2025-09-25 13:05:27,835 - summary] INFO: \n",
      "================================================================================\n",
      "[2025-09-25 13:05:27,835 - summary] INFO: RUNTIME SUMMARY\n",
      "[2025-09-25 13:05:27,836 - summary] INFO: ================================================================================\n",
      "[2025-09-25 13:05:27,836 - summary] INFO: Total runtime: 9.96 seconds (0.17 minutes)\n",
      "[2025-09-25 13:05:27,836 - summary] INFO: Average runtime per tissue: 9.96 seconds\n",
      "[2025-09-25 13:05:27,836 - summary] INFO: \n",
      "Runtime by tissue:\n",
      "[2025-09-25 13:05:27,837 - summary] INFO: Tissue                    Runtime (sec)   Runtime (min)   Status    \n",
      "[2025-09-25 13:05:27,837 - summary] INFO: ----------------------------------------------------------------------\n",
      "[2025-09-25 13:05:27,837 - summary] INFO: whole_blood               9.96            0.17            Success   \n",
      "[2025-09-25 13:05:27,837 - summary] INFO: \n",
      "Fastest: whole_blood (9.96 seconds)\n",
      "[2025-09-25 13:05:27,837 - summary] INFO: Slowest: whole_blood (9.96 seconds)\n",
      "[2025-09-25 13:05:27,838 - summary] INFO: Speed ratio: 1.0x\n",
      "[2025-09-25 13:05:27,838 - summary] INFO: Runtime for RASSF2: 9.96 seconds (0.17 minutes)\n",
      "[2025-09-25 13:05:27,838 - summary] INFO: \n",
      "====================================================================================================\n",
      "[2025-09-25 13:05:27,838 - summary] INFO: PROCESSING GENE 2/2: CYTIP\n",
      "[2025-09-25 13:05:27,838 - summary] INFO: ====================================================================================================\n",
      "[2025-09-25 13:05:27,839 - summary] INFO: \n",
      "[1/1] Starting processing for CYTIP in whole_blood...\n",
      "[2025-09-25 13:05:27,840 - tissue_CYTIP_whole_blood] INFO: \n",
      "============================================================\n",
      "[2025-09-25 13:05:27,840 - tissue_CYTIP_whole_blood] INFO: Processing tissue: whole_blood\n",
      "[2025-09-25 13:05:27,841 - tissue_CYTIP_whole_blood] INFO: File: gtex_v8_data_whole_blood.pkl\n",
      "[2025-09-25 13:05:27,841 - tissue_CYTIP_whole_blood] INFO: Log file: /mnt/data/proj_data/ccc-gpu/data/tutorial/metadata_correlations/CYTIP_whole_blood.log\n",
      "[2025-09-25 13:05:27,841 - tissue_CYTIP_whole_blood] INFO: ============================================================\n",
      "[2025-09-25 13:05:27,841 - tissue_CYTIP_whole_blood] INFO: Loading expression data...\n",
      "[2025-09-25 13:05:27,981 - tissue_CYTIP_whole_blood] INFO: Expression data shape: (56200, 755)\n",
      "[2025-09-25 13:05:27,984 - tissue_CYTIP_whole_blood] INFO: Gene ID for CYTIP: ENSG00000115165.9\n",
      "[2025-09-25 13:05:27,986 - tissue_CYTIP_whole_blood] INFO: Number of samples: 755\n",
      "[2025-09-25 13:05:27,987 - tissue_CYTIP_whole_blood] INFO: Common samples: 755\n",
      "[2025-09-25 13:05:27,988 - tissue_CYTIP_whole_blood] INFO: Computing CCC between CYTIP expression and all metadata columns...\n",
      "[2025-09-25 13:05:27,989 - tissue_CYTIP_whole_blood] INFO: Using 100000 permutations and 4 jobs\n",
      "[2025-09-25 13:05:27,989 - tissue_CYTIP_whole_blood] INFO: Processing 66 metadata columns...\n",
      "[2025-09-25 13:05:27,989 - tissue_CYTIP_whole_blood] INFO: Processing column 1/66: SUBJID\n"
     ]
    },
    {
     "name": "stdout",
     "output_type": "stream",
     "text": [
      "  CCC: 0.029344, p-value: 1.00e-05\n",
      "\n",
      "Completed processing whole_blood:\n",
      "  Total metadata columns: 66\n",
      "  Successful analyses: 44\n",
      "  Skipped/Failed: 22\n",
      "Results for RASSF2 in whole_blood saved to: /mnt/data/proj_data/ccc-gpu/data/tutorial/metadata_correlations/RASSF2_whole_blood_correlation_results.pkl\n",
      "Log file for RASSF2 in whole_blood saved to: /mnt/data/proj_data/ccc-gpu/data/tutorial/metadata_correlations/RASSF2_whole_blood.log\n",
      "Runtime for RASSF2 in whole_blood: 9.96 seconds (0.17 minutes)\n",
      "\n",
      "================================================================================\n",
      "COMBINED RESULTS SUMMARY\n",
      "================================================================================\n",
      "Gene Symbol: RASSF2\n",
      "Gene ID: ENSG00000101265.15\n",
      "Permutations: 100,000\n",
      "Tissues processed: 1\n",
      "Combined results saved to: /mnt/data/proj_data/ccc-gpu/data/tutorial/metadata_correlations/RASSF2_all_tissues_correlation_results.pkl\n",
      "Combined results (CSV) saved to: /mnt/data/proj_data/ccc-gpu/data/tutorial/metadata_correlations/RASSF2_all_tissues_correlation_results.csv\n",
      "\n",
      "Total successful analyses across all tissues: 44\n",
      "\n",
      "================================================================================\n",
      "TOP CORRELATIONS ACROSS ALL TISSUES (by absolute CCC value)\n",
      "================================================================================\n",
      "Tissue               Metadata Column           CCC Value    P-value      Significance   \n",
      "------------------------------------------------------------------------------------------\n",
      "whole_blood          SMTSISCH                    0.528125    1.00e-05  ***            \n",
      "whole_blood          DTHHRDY                     0.464582    1.00e-05  ***            \n",
      "whole_blood          SMNTERRT                    0.250997    1.00e-05  ***            \n",
      "whole_blood          SMNTRART                    0.243071    1.00e-05  ***            \n",
      "whole_blood          SMNTRNRT                    0.202936    1.00e-05  ***            \n",
      "whole_blood          SME1MPRT                    0.181940    1.00e-05  ***            \n",
      "whole_blood          SMALTALG                    0.177009    1.00e-05  ***            \n",
      "whole_blood          SME2MPRT                    0.172974    1.00e-05  ***            \n",
      "whole_blood          SMMPUNRT                    0.168576    1.00e-05  ***            \n",
      "whole_blood          SMMAPRT                     0.168576    1.00e-05  ***            \n",
      "whole_blood          SMCHMPRS                    0.143365    1.00e-05  ***            \n",
      "whole_blood          SMCENTER                    0.108148    1.00e-05  ***            \n",
      "whole_blood          SMEXPEFF                    0.059931    1.00e-05  ***            \n",
      "whole_blood          SMSPLTRD                    0.057786    1.00e-05  ***            \n",
      "whole_blood          SMRIN                       0.048847    1.00e-05  ***            \n",
      "whole_blood          SMRRNART                    0.048437    1.00e-05  ***            \n",
      "whole_blood          SMSFLGTH                    0.047258    1.00e-05  ***            \n",
      "whole_blood          SMGNSDTC                    0.043013    1.00e-05  ***            \n",
      "whole_blood          SMTRSCPT                    0.042714    1.00e-05  ***            \n",
      "whole_blood          SMEXNCRT                    0.040140    1.00e-05  ***            \n",
      "\n",
      "================================================================================\n",
      "SUMMARY BY TISSUE\n",
      "================================================================================\n",
      "Tissue               N Samples  Successful   Mean |CCC|   Max |CCC|   \n",
      "----------------------------------------------------------------------\n",
      "whole_blood          755        44           0.079987     0.528125    \n",
      "\n",
      "================================================================================\n",
      "RUNTIME SUMMARY\n",
      "================================================================================\n",
      "Total runtime: 9.96 seconds (0.17 minutes)\n",
      "Average runtime per tissue: 9.96 seconds\n",
      "\n",
      "Runtime by tissue:\n",
      "Tissue                    Runtime (sec)   Runtime (min)   Status    \n",
      "----------------------------------------------------------------------\n",
      "whole_blood               9.96            0.17            Success   \n",
      "\n",
      "Fastest: whole_blood (9.96 seconds)\n",
      "Slowest: whole_blood (9.96 seconds)\n",
      "Speed ratio: 1.0x\n",
      "Runtime for RASSF2: 9.96 seconds (0.17 minutes)\n",
      "\n",
      "====================================================================================================\n",
      "PROCESSING GENE 2/2: CYTIP\n",
      "====================================================================================================\n",
      "\n",
      "[1/1] Starting processing for CYTIP in whole_blood...\n",
      "\n",
      "============================================================\n",
      "Processing tissue: whole_blood\n",
      "File: gtex_v8_data_whole_blood.pkl\n",
      "Log file: /mnt/data/proj_data/ccc-gpu/data/tutorial/metadata_correlations/CYTIP_whole_blood.log\n",
      "============================================================\n",
      "Loading expression data...\n",
      "Expression data shape: (56200, 755)\n",
      "Gene ID for CYTIP: ENSG00000115165.9\n",
      "Number of samples: 755\n",
      "Common samples: 755\n",
      "Computing CCC between CYTIP expression and all metadata columns...\n",
      "Using 100000 permutations and 4 jobs\n",
      "Processing 66 metadata columns...\n",
      "Processing column 1/66: SUBJID\n"
     ]
    },
    {
     "name": "stderr",
     "output_type": "stream",
     "text": [
      "[2025-09-25 13:05:28,086 - tissue_CYTIP_whole_blood] INFO:   CCC: 0.000000, p-value: 1.00e+00\n",
      "[2025-09-25 13:05:28,086 - tissue_CYTIP_whole_blood] INFO: Processing column 2/66: SEX\n",
      "[2025-09-25 13:05:28,156 - tissue_CYTIP_whole_blood] INFO:   CCC: 0.001409, p-value: 3.98e-01\n",
      "[2025-09-25 13:05:28,157 - tissue_CYTIP_whole_blood] INFO: Processing column 3/66: AGE\n",
      "[2025-09-25 13:05:28,228 - tissue_CYTIP_whole_blood] INFO:   CCC: 0.018997, p-value: 1.00e-05\n",
      "[2025-09-25 13:05:28,228 - tissue_CYTIP_whole_blood] INFO: Processing column 4/66: DTHHRDY\n"
     ]
    },
    {
     "name": "stdout",
     "output_type": "stream",
     "text": [
      "  CCC: 0.000000, p-value: 1.00e+00\n",
      "Processing column 2/66: SEX\n",
      "  CCC: 0.001409, p-value: 3.98e-01\n",
      "Processing column 3/66: AGE\n",
      "  CCC: 0.018997, p-value: 1.00e-05\n",
      "Processing column 4/66: DTHHRDY\n"
     ]
    },
    {
     "name": "stderr",
     "output_type": "stream",
     "text": [
      "[2025-09-25 13:05:28,481 - tissue_CYTIP_whole_blood] INFO:   CCC: 0.184226, p-value: 1.00e-05\n",
      "[2025-09-25 13:05:28,482 - tissue_CYTIP_whole_blood] INFO: Processing column 5/66: SMATSSCR\n",
      "[2025-09-25 13:05:28,482 - tissue_CYTIP_whole_blood] INFO:   Skipping SMATSSCR: all values are NaN\n",
      "[2025-09-25 13:05:28,482 - tissue_CYTIP_whole_blood] INFO: Processing column 6/66: SMCENTER\n",
      "[2025-09-25 13:05:28,551 - tissue_CYTIP_whole_blood] INFO:   CCC: 0.084684, p-value: 1.00e-05\n",
      "[2025-09-25 13:05:28,552 - tissue_CYTIP_whole_blood] INFO: Processing column 7/66: SMPTHNTS\n",
      "[2025-09-25 13:05:28,552 - tissue_CYTIP_whole_blood] INFO:   Skipping SMPTHNTS: all values are NaN\n",
      "[2025-09-25 13:05:28,552 - tissue_CYTIP_whole_blood] INFO: Processing column 8/66: SMRIN\n"
     ]
    },
    {
     "name": "stdout",
     "output_type": "stream",
     "text": [
      "  CCC: 0.184226, p-value: 1.00e-05\n",
      "Processing column 5/66: SMATSSCR\n",
      "  Skipping SMATSSCR: all values are NaN\n",
      "Processing column 6/66: SMCENTER\n",
      "  CCC: 0.084684, p-value: 1.00e-05\n",
      "Processing column 7/66: SMPTHNTS\n",
      "  Skipping SMPTHNTS: all values are NaN\n",
      "Processing column 8/66: SMRIN\n"
     ]
    },
    {
     "name": "stderr",
     "output_type": "stream",
     "text": [
      "[2025-09-25 13:05:28,806 - tissue_CYTIP_whole_blood] INFO:   CCC: 0.003196, p-value: 5.68e-01\n",
      "[2025-09-25 13:05:28,806 - tissue_CYTIP_whole_blood] INFO: Processing column 9/66: SMTS\n",
      "[2025-09-25 13:05:28,807 - tissue_CYTIP_whole_blood] INFO:   Skipping SMTS: only 1 unique value(s)\n",
      "[2025-09-25 13:05:28,807 - tissue_CYTIP_whole_blood] INFO: Processing column 10/66: SMTSD\n",
      "[2025-09-25 13:05:28,807 - tissue_CYTIP_whole_blood] INFO:   Skipping SMTSD: only 1 unique value(s)\n",
      "[2025-09-25 13:05:28,808 - tissue_CYTIP_whole_blood] INFO: Processing column 11/66: SMUBRID\n",
      "[2025-09-25 13:05:28,808 - tissue_CYTIP_whole_blood] INFO:   Skipping SMUBRID: only 1 unique value(s)\n",
      "[2025-09-25 13:05:28,808 - tissue_CYTIP_whole_blood] INFO: Processing column 12/66: SMTSISCH\n"
     ]
    },
    {
     "name": "stdout",
     "output_type": "stream",
     "text": [
      "  CCC: 0.003196, p-value: 5.68e-01\n",
      "Processing column 9/66: SMTS\n",
      "  Skipping SMTS: only 1 unique value(s)\n",
      "Processing column 10/66: SMTSD\n",
      "  Skipping SMTSD: only 1 unique value(s)\n",
      "Processing column 11/66: SMUBRID\n",
      "  Skipping SMUBRID: only 1 unique value(s)\n",
      "Processing column 12/66: SMTSISCH\n"
     ]
    },
    {
     "name": "stderr",
     "output_type": "stream",
     "text": [
      "[2025-09-25 13:05:29,062 - tissue_CYTIP_whole_blood] INFO:   CCC: 0.215092, p-value: 1.00e-05\n",
      "[2025-09-25 13:05:29,062 - tissue_CYTIP_whole_blood] INFO: Processing column 13/66: SMTSPAX\n",
      "[2025-09-25 13:05:29,063 - tissue_CYTIP_whole_blood] INFO:   Skipping SMTSPAX: all values are NaN\n",
      "[2025-09-25 13:05:29,063 - tissue_CYTIP_whole_blood] INFO: Processing column 14/66: SMNABTCH\n",
      "[2025-09-25 13:05:29,128 - tissue_CYTIP_whole_blood] INFO:   CCC: 0.000304, p-value: 1.00e-05\n",
      "[2025-09-25 13:05:29,128 - tissue_CYTIP_whole_blood] INFO: Processing column 15/66: SMNABTCHT\n",
      "[2025-09-25 13:05:29,129 - tissue_CYTIP_whole_blood] INFO:   Skipping SMNABTCHT: only 1 unique value(s)\n",
      "[2025-09-25 13:05:29,129 - tissue_CYTIP_whole_blood] INFO: Processing column 16/66: SMNABTCHD\n",
      "[2025-09-25 13:05:29,197 - tissue_CYTIP_whole_blood] INFO:   CCC: 0.000256, p-value: 1.00e-05\n",
      "[2025-09-25 13:05:29,197 - tissue_CYTIP_whole_blood] INFO: Processing column 17/66: SMGEBTCH\n",
      "[2025-09-25 13:05:29,258 - tissue_CYTIP_whole_blood] INFO:   CCC: 0.001533, p-value: 1.00e-05\n",
      "[2025-09-25 13:05:29,258 - tissue_CYTIP_whole_blood] INFO: Processing column 18/66: SMGEBTCHD\n"
     ]
    },
    {
     "name": "stdout",
     "output_type": "stream",
     "text": [
      "  CCC: 0.215092, p-value: 1.00e-05\n",
      "Processing column 13/66: SMTSPAX\n",
      "  Skipping SMTSPAX: all values are NaN\n",
      "Processing column 14/66: SMNABTCH\n",
      "  CCC: 0.000304, p-value: 1.00e-05\n",
      "Processing column 15/66: SMNABTCHT\n",
      "  Skipping SMNABTCHT: only 1 unique value(s)\n",
      "Processing column 16/66: SMNABTCHD\n",
      "  CCC: 0.000256, p-value: 1.00e-05\n",
      "Processing column 17/66: SMGEBTCH\n",
      "  CCC: 0.001533, p-value: 1.00e-05\n",
      "Processing column 18/66: SMGEBTCHD\n"
     ]
    },
    {
     "name": "stderr",
     "output_type": "stream",
     "text": [
      "[2025-09-25 13:05:29,317 - tissue_CYTIP_whole_blood] INFO:   CCC: 0.002104, p-value: 1.00e-05\n",
      "[2025-09-25 13:05:29,318 - tissue_CYTIP_whole_blood] INFO: Processing column 19/66: SMGEBTCHT\n",
      "[2025-09-25 13:05:29,318 - tissue_CYTIP_whole_blood] INFO:   Skipping SMGEBTCHT: only 1 unique value(s)\n",
      "[2025-09-25 13:05:29,319 - tissue_CYTIP_whole_blood] INFO: Processing column 20/66: SMAFRZE\n",
      "[2025-09-25 13:05:29,319 - tissue_CYTIP_whole_blood] INFO:   Skipping SMAFRZE: only 1 unique value(s)\n",
      "[2025-09-25 13:05:29,319 - tissue_CYTIP_whole_blood] INFO: Processing column 21/66: SMGTC\n",
      "[2025-09-25 13:05:29,320 - tissue_CYTIP_whole_blood] INFO:   Skipping SMGTC: all values are NaN\n",
      "[2025-09-25 13:05:29,320 - tissue_CYTIP_whole_blood] INFO: Processing column 22/66: SME2MPRT\n"
     ]
    },
    {
     "name": "stdout",
     "output_type": "stream",
     "text": [
      "  CCC: 0.002104, p-value: 1.00e-05\n",
      "Processing column 19/66: SMGEBTCHT\n",
      "  Skipping SMGEBTCHT: only 1 unique value(s)\n",
      "Processing column 20/66: SMAFRZE\n",
      "  Skipping SMAFRZE: only 1 unique value(s)\n",
      "Processing column 21/66: SMGTC\n",
      "  Skipping SMGTC: all values are NaN\n",
      "Processing column 22/66: SME2MPRT\n"
     ]
    },
    {
     "name": "stderr",
     "output_type": "stream",
     "text": [
      "[2025-09-25 13:05:29,573 - tissue_CYTIP_whole_blood] INFO:   CCC: 0.021744, p-value: 5.00e-05\n",
      "[2025-09-25 13:05:29,574 - tissue_CYTIP_whole_blood] INFO: Processing column 23/66: SMCHMPRS\n"
     ]
    },
    {
     "name": "stdout",
     "output_type": "stream",
     "text": [
      "  CCC: 0.021744, p-value: 5.00e-05\n",
      "Processing column 23/66: SMCHMPRS\n"
     ]
    },
    {
     "name": "stderr",
     "output_type": "stream",
     "text": [
      "[2025-09-25 13:05:29,828 - tissue_CYTIP_whole_blood] INFO:   CCC: 0.015946, p-value: 4.50e-04\n",
      "[2025-09-25 13:05:29,828 - tissue_CYTIP_whole_blood] INFO: Processing column 24/66: SMNTRART\n"
     ]
    },
    {
     "name": "stdout",
     "output_type": "stream",
     "text": [
      "  CCC: 0.015946, p-value: 4.50e-04\n",
      "Processing column 24/66: SMNTRART\n"
     ]
    },
    {
     "name": "stderr",
     "output_type": "stream",
     "text": [
      "[2025-09-25 13:05:30,082 - tissue_CYTIP_whole_blood] INFO:   CCC: 0.024407, p-value: 3.00e-05\n",
      "[2025-09-25 13:05:30,083 - tissue_CYTIP_whole_blood] INFO: Processing column 25/66: SMNUMGPS\n",
      "[2025-09-25 13:05:30,083 - tissue_CYTIP_whole_blood] INFO:   Skipping SMNUMGPS: all values are NaN\n",
      "[2025-09-25 13:05:30,084 - tissue_CYTIP_whole_blood] INFO: Processing column 26/66: SMMAPRT\n"
     ]
    },
    {
     "name": "stdout",
     "output_type": "stream",
     "text": [
      "  CCC: 0.024407, p-value: 3.00e-05\n",
      "Processing column 25/66: SMNUMGPS\n",
      "  Skipping SMNUMGPS: all values are NaN\n",
      "Processing column 26/66: SMMAPRT\n"
     ]
    },
    {
     "name": "stderr",
     "output_type": "stream",
     "text": [
      "[2025-09-25 13:05:30,338 - tissue_CYTIP_whole_blood] INFO:   CCC: 0.021052, p-value: 7.00e-05\n",
      "[2025-09-25 13:05:30,339 - tissue_CYTIP_whole_blood] INFO: Processing column 27/66: SMEXNCRT\n"
     ]
    },
    {
     "name": "stdout",
     "output_type": "stream",
     "text": [
      "  CCC: 0.021052, p-value: 7.00e-05\n",
      "Processing column 27/66: SMEXNCRT\n"
     ]
    },
    {
     "name": "stderr",
     "output_type": "stream",
     "text": [
      "[2025-09-25 13:05:30,593 - tissue_CYTIP_whole_blood] INFO:   CCC: 0.126241, p-value: 1.00e-05\n",
      "[2025-09-25 13:05:30,593 - tissue_CYTIP_whole_blood] INFO: Processing column 28/66: SM550NRM\n",
      "[2025-09-25 13:05:30,593 - tissue_CYTIP_whole_blood] INFO:   Skipping SM550NRM: all values are NaN\n",
      "[2025-09-25 13:05:30,594 - tissue_CYTIP_whole_blood] INFO: Processing column 29/66: SMGNSDTC\n"
     ]
    },
    {
     "name": "stdout",
     "output_type": "stream",
     "text": [
      "  CCC: 0.126241, p-value: 1.00e-05\n",
      "Processing column 28/66: SM550NRM\n",
      "  Skipping SM550NRM: all values are NaN\n",
      "Processing column 29/66: SMGNSDTC\n"
     ]
    },
    {
     "name": "stderr",
     "output_type": "stream",
     "text": [
      "[2025-09-25 13:05:30,847 - tissue_CYTIP_whole_blood] INFO:   CCC: 0.050841, p-value: 1.00e-05\n",
      "[2025-09-25 13:05:30,847 - tissue_CYTIP_whole_blood] INFO: Processing column 30/66: SMUNMPRT\n",
      "[2025-09-25 13:05:30,848 - tissue_CYTIP_whole_blood] INFO:   Skipping SMUNMPRT: only 1 unique value(s)\n",
      "[2025-09-25 13:05:30,848 - tissue_CYTIP_whole_blood] INFO: Processing column 31/66: SM350NRM\n",
      "[2025-09-25 13:05:30,848 - tissue_CYTIP_whole_blood] INFO:   Skipping SM350NRM: all values are NaN\n",
      "[2025-09-25 13:05:30,849 - tissue_CYTIP_whole_blood] INFO: Processing column 32/66: SMRDLGTH\n"
     ]
    },
    {
     "name": "stdout",
     "output_type": "stream",
     "text": [
      "  CCC: 0.050841, p-value: 1.00e-05\n",
      "Processing column 30/66: SMUNMPRT\n",
      "  Skipping SMUNMPRT: only 1 unique value(s)\n",
      "Processing column 31/66: SM350NRM\n",
      "  Skipping SM350NRM: all values are NaN\n",
      "Processing column 32/66: SMRDLGTH\n"
     ]
    },
    {
     "name": "stderr",
     "output_type": "stream",
     "text": [
      "[2025-09-25 13:05:31,103 - tissue_CYTIP_whole_blood] INFO:   CCC: 0.000003, p-value: 9.42e-01\n",
      "[2025-09-25 13:05:31,104 - tissue_CYTIP_whole_blood] INFO: Processing column 33/66: SMMNCPB\n",
      "[2025-09-25 13:05:31,104 - tissue_CYTIP_whole_blood] INFO:   Skipping SMMNCPB: all values are NaN\n",
      "[2025-09-25 13:05:31,104 - tissue_CYTIP_whole_blood] INFO: Processing column 34/66: SME1MMRT\n"
     ]
    },
    {
     "name": "stdout",
     "output_type": "stream",
     "text": [
      "  CCC: 0.000003, p-value: 9.42e-01\n",
      "Processing column 33/66: SMMNCPB\n",
      "  Skipping SMMNCPB: all values are NaN\n",
      "Processing column 34/66: SME1MMRT\n"
     ]
    },
    {
     "name": "stderr",
     "output_type": "stream",
     "text": [
      "[2025-09-25 13:05:31,359 - tissue_CYTIP_whole_blood] INFO:   CCC: 0.005089, p-value: 2.16e-01\n",
      "[2025-09-25 13:05:31,359 - tissue_CYTIP_whole_blood] INFO: Processing column 35/66: SMSFLGTH\n"
     ]
    },
    {
     "name": "stdout",
     "output_type": "stream",
     "text": [
      "  CCC: 0.005089, p-value: 2.16e-01\n",
      "Processing column 35/66: SMSFLGTH\n"
     ]
    },
    {
     "name": "stderr",
     "output_type": "stream",
     "text": [
      "[2025-09-25 13:05:31,614 - tissue_CYTIP_whole_blood] INFO:   CCC: 0.015322, p-value: 7.10e-04\n",
      "[2025-09-25 13:05:31,615 - tissue_CYTIP_whole_blood] INFO: Processing column 36/66: SMESTLBS\n",
      "[2025-09-25 13:05:31,615 - tissue_CYTIP_whole_blood] INFO:   Skipping SMESTLBS: only 1 unique value(s)\n",
      "[2025-09-25 13:05:31,616 - tissue_CYTIP_whole_blood] INFO: Processing column 37/66: SMMPPD\n"
     ]
    },
    {
     "name": "stdout",
     "output_type": "stream",
     "text": [
      "  CCC: 0.015322, p-value: 7.10e-04\n",
      "Processing column 36/66: SMESTLBS\n",
      "  Skipping SMESTLBS: only 1 unique value(s)\n",
      "Processing column 37/66: SMMPPD\n"
     ]
    },
    {
     "name": "stderr",
     "output_type": "stream",
     "text": [
      "[2025-09-25 13:05:31,870 - tissue_CYTIP_whole_blood] INFO:   CCC: 0.007147, p-value: 5.32e-02\n",
      "[2025-09-25 13:05:31,870 - tissue_CYTIP_whole_blood] INFO: Processing column 38/66: SMNTERRT\n"
     ]
    },
    {
     "name": "stdout",
     "output_type": "stream",
     "text": [
      "  CCC: 0.007147, p-value: 5.32e-02\n",
      "Processing column 38/66: SMNTERRT\n"
     ]
    },
    {
     "name": "stderr",
     "output_type": "stream",
     "text": [
      "[2025-09-25 13:05:32,125 - tissue_CYTIP_whole_blood] INFO:   CCC: 0.023433, p-value: 4.00e-05\n",
      "[2025-09-25 13:05:32,126 - tissue_CYTIP_whole_blood] INFO: Processing column 39/66: SMRRNANM\n"
     ]
    },
    {
     "name": "stdout",
     "output_type": "stream",
     "text": [
      "  CCC: 0.023433, p-value: 4.00e-05\n",
      "Processing column 39/66: SMRRNANM\n"
     ]
    },
    {
     "name": "stderr",
     "output_type": "stream",
     "text": [
      "[2025-09-25 13:05:32,379 - tissue_CYTIP_whole_blood] INFO:   CCC: 0.005677, p-value: 1.45e-01\n",
      "[2025-09-25 13:05:32,379 - tissue_CYTIP_whole_blood] INFO: Processing column 40/66: SMRDTTL\n"
     ]
    },
    {
     "name": "stdout",
     "output_type": "stream",
     "text": [
      "  CCC: 0.005677, p-value: 1.45e-01\n",
      "Processing column 40/66: SMRDTTL\n"
     ]
    },
    {
     "name": "stderr",
     "output_type": "stream",
     "text": [
      "[2025-09-25 13:05:32,632 - tissue_CYTIP_whole_blood] INFO:   CCC: 0.008033, p-value: 2.92e-02\n",
      "[2025-09-25 13:05:32,633 - tissue_CYTIP_whole_blood] INFO: Processing column 41/66: SMVQCFL\n"
     ]
    },
    {
     "name": "stdout",
     "output_type": "stream",
     "text": [
      "  CCC: 0.008033, p-value: 2.92e-02\n",
      "Processing column 41/66: SMVQCFL\n"
     ]
    },
    {
     "name": "stderr",
     "output_type": "stream",
     "text": [
      "[2025-09-25 13:05:32,887 - tissue_CYTIP_whole_blood] INFO:   CCC: 0.003136, p-value: 6.00e-01\n",
      "[2025-09-25 13:05:32,888 - tissue_CYTIP_whole_blood] INFO: Processing column 42/66: SMMNCV\n",
      "[2025-09-25 13:05:32,889 - tissue_CYTIP_whole_blood] INFO:   Skipping SMMNCV: all values are NaN\n",
      "[2025-09-25 13:05:32,889 - tissue_CYTIP_whole_blood] INFO: Processing column 43/66: SMTRSCPT\n"
     ]
    },
    {
     "name": "stdout",
     "output_type": "stream",
     "text": [
      "  CCC: 0.003136, p-value: 6.00e-01\n",
      "Processing column 42/66: SMMNCV\n",
      "  Skipping SMMNCV: all values are NaN\n",
      "Processing column 43/66: SMTRSCPT\n"
     ]
    },
    {
     "name": "stderr",
     "output_type": "stream",
     "text": [
      "[2025-09-25 13:05:33,142 - tissue_CYTIP_whole_blood] INFO:   CCC: 0.051533, p-value: 1.00e-05\n",
      "[2025-09-25 13:05:33,143 - tissue_CYTIP_whole_blood] INFO: Processing column 44/66: SMMPPDPR\n"
     ]
    },
    {
     "name": "stdout",
     "output_type": "stream",
     "text": [
      "  CCC: 0.051533, p-value: 1.00e-05\n",
      "Processing column 44/66: SMMPPDPR\n"
     ]
    },
    {
     "name": "stderr",
     "output_type": "stream",
     "text": [
      "[2025-09-25 13:05:33,397 - tissue_CYTIP_whole_blood] INFO:   CCC: 0.005880, p-value: 1.29e-01\n",
      "[2025-09-25 13:05:33,397 - tissue_CYTIP_whole_blood] INFO: Processing column 45/66: SMCGLGTH\n",
      "[2025-09-25 13:05:33,397 - tissue_CYTIP_whole_blood] INFO:   Skipping SMCGLGTH: all values are NaN\n",
      "[2025-09-25 13:05:33,398 - tissue_CYTIP_whole_blood] INFO: Processing column 46/66: SMGAPPCT\n",
      "[2025-09-25 13:05:33,398 - tissue_CYTIP_whole_blood] INFO:   Skipping SMGAPPCT: all values are NaN\n",
      "[2025-09-25 13:05:33,398 - tissue_CYTIP_whole_blood] INFO: Processing column 47/66: SMUNPDRD\n",
      "[2025-09-25 13:05:33,399 - tissue_CYTIP_whole_blood] INFO:   Skipping SMUNPDRD: only 1 unique value(s)\n",
      "[2025-09-25 13:05:33,399 - tissue_CYTIP_whole_blood] INFO: Processing column 48/66: SMNTRNRT\n"
     ]
    },
    {
     "name": "stdout",
     "output_type": "stream",
     "text": [
      "  CCC: 0.005880, p-value: 1.29e-01\n",
      "Processing column 45/66: SMCGLGTH\n",
      "  Skipping SMCGLGTH: all values are NaN\n",
      "Processing column 46/66: SMGAPPCT\n",
      "  Skipping SMGAPPCT: all values are NaN\n",
      "Processing column 47/66: SMUNPDRD\n",
      "  Skipping SMUNPDRD: only 1 unique value(s)\n",
      "Processing column 48/66: SMNTRNRT\n"
     ]
    },
    {
     "name": "stderr",
     "output_type": "stream",
     "text": [
      "[2025-09-25 13:05:33,653 - tissue_CYTIP_whole_blood] INFO:   CCC: 0.261762, p-value: 1.00e-05\n",
      "[2025-09-25 13:05:33,653 - tissue_CYTIP_whole_blood] INFO: Processing column 49/66: SMMPUNRT\n"
     ]
    },
    {
     "name": "stdout",
     "output_type": "stream",
     "text": [
      "  CCC: 0.261762, p-value: 1.00e-05\n",
      "Processing column 49/66: SMMPUNRT\n"
     ]
    },
    {
     "name": "stderr",
     "output_type": "stream",
     "text": [
      "[2025-09-25 13:05:33,907 - tissue_CYTIP_whole_blood] INFO:   CCC: 0.021052, p-value: 7.00e-05\n",
      "[2025-09-25 13:05:33,907 - tissue_CYTIP_whole_blood] INFO: Processing column 50/66: SMEXPEFF\n"
     ]
    },
    {
     "name": "stdout",
     "output_type": "stream",
     "text": [
      "  CCC: 0.021052, p-value: 7.00e-05\n",
      "Processing column 50/66: SMEXPEFF\n"
     ]
    },
    {
     "name": "stderr",
     "output_type": "stream",
     "text": [
      "[2025-09-25 13:05:34,163 - tissue_CYTIP_whole_blood] INFO:   CCC: 0.086945, p-value: 1.00e-05\n",
      "[2025-09-25 13:05:34,163 - tissue_CYTIP_whole_blood] INFO: Processing column 51/66: SMMPPDUN\n"
     ]
    },
    {
     "name": "stdout",
     "output_type": "stream",
     "text": [
      "  CCC: 0.086945, p-value: 1.00e-05\n",
      "Processing column 51/66: SMMPPDUN\n"
     ]
    },
    {
     "name": "stderr",
     "output_type": "stream",
     "text": [
      "[2025-09-25 13:05:34,419 - tissue_CYTIP_whole_blood] INFO:   CCC: 0.007147, p-value: 5.32e-02\n",
      "[2025-09-25 13:05:34,419 - tissue_CYTIP_whole_blood] INFO: Processing column 52/66: SME2MMRT\n"
     ]
    },
    {
     "name": "stdout",
     "output_type": "stream",
     "text": [
      "  CCC: 0.007147, p-value: 5.32e-02\n",
      "Processing column 52/66: SME2MMRT\n"
     ]
    },
    {
     "name": "stderr",
     "output_type": "stream",
     "text": [
      "[2025-09-25 13:05:34,674 - tissue_CYTIP_whole_blood] INFO:   CCC: 0.004187, p-value: 3.68e-01\n",
      "[2025-09-25 13:05:34,675 - tissue_CYTIP_whole_blood] INFO: Processing column 53/66: SME2ANTI\n"
     ]
    },
    {
     "name": "stdout",
     "output_type": "stream",
     "text": [
      "  CCC: 0.004187, p-value: 3.68e-01\n",
      "Processing column 53/66: SME2ANTI\n"
     ]
    },
    {
     "name": "stderr",
     "output_type": "stream",
     "text": [
      "[2025-09-25 13:05:34,929 - tissue_CYTIP_whole_blood] INFO:   CCC: 0.007334, p-value: 4.67e-02\n",
      "[2025-09-25 13:05:34,930 - tissue_CYTIP_whole_blood] INFO: Processing column 54/66: SMALTALG\n"
     ]
    },
    {
     "name": "stdout",
     "output_type": "stream",
     "text": [
      "  CCC: 0.007334, p-value: 4.67e-02\n",
      "Processing column 54/66: SMALTALG\n"
     ]
    },
    {
     "name": "stderr",
     "output_type": "stream",
     "text": [
      "[2025-09-25 13:05:35,186 - tissue_CYTIP_whole_blood] INFO:   CCC: 0.038381, p-value: 1.00e-05\n",
      "[2025-09-25 13:05:35,187 - tissue_CYTIP_whole_blood] INFO: Processing column 55/66: SME2SNSE\n"
     ]
    },
    {
     "name": "stdout",
     "output_type": "stream",
     "text": [
      "  CCC: 0.038381, p-value: 1.00e-05\n",
      "Processing column 55/66: SME2SNSE\n"
     ]
    },
    {
     "name": "stderr",
     "output_type": "stream",
     "text": [
      "[2025-09-25 13:05:35,441 - tissue_CYTIP_whole_blood] INFO:   CCC: 0.006734, p-value: 7.08e-02\n",
      "[2025-09-25 13:05:35,442 - tissue_CYTIP_whole_blood] INFO: Processing column 56/66: SMMFLGTH\n"
     ]
    },
    {
     "name": "stdout",
     "output_type": "stream",
     "text": [
      "  CCC: 0.006734, p-value: 7.08e-02\n",
      "Processing column 56/66: SMMFLGTH\n"
     ]
    },
    {
     "name": "stderr",
     "output_type": "stream",
     "text": [
      "[2025-09-25 13:05:35,696 - tissue_CYTIP_whole_blood] INFO:   CCC: 0.010863, p-value: 4.63e-03\n",
      "[2025-09-25 13:05:35,696 - tissue_CYTIP_whole_blood] INFO: Processing column 57/66: SME1ANTI\n"
     ]
    },
    {
     "name": "stdout",
     "output_type": "stream",
     "text": [
      "  CCC: 0.010863, p-value: 4.63e-03\n",
      "Processing column 57/66: SME1ANTI\n"
     ]
    },
    {
     "name": "stderr",
     "output_type": "stream",
     "text": [
      "[2025-09-25 13:05:35,950 - tissue_CYTIP_whole_blood] INFO:   CCC: 0.007210, p-value: 5.04e-02\n",
      "[2025-09-25 13:05:35,951 - tissue_CYTIP_whole_blood] INFO: Processing column 58/66: SMSPLTRD\n"
     ]
    },
    {
     "name": "stdout",
     "output_type": "stream",
     "text": [
      "  CCC: 0.007210, p-value: 5.04e-02\n",
      "Processing column 58/66: SMSPLTRD\n"
     ]
    },
    {
     "name": "stderr",
     "output_type": "stream",
     "text": [
      "[2025-09-25 13:05:36,208 - tissue_CYTIP_whole_blood] INFO:   CCC: 0.030117, p-value: 1.00e-05\n",
      "[2025-09-25 13:05:36,208 - tissue_CYTIP_whole_blood] INFO: Processing column 59/66: SMBSMMRT\n"
     ]
    },
    {
     "name": "stdout",
     "output_type": "stream",
     "text": [
      "  CCC: 0.030117, p-value: 1.00e-05\n",
      "Processing column 59/66: SMBSMMRT\n"
     ]
    },
    {
     "name": "stderr",
     "output_type": "stream",
     "text": [
      "[2025-09-25 13:05:36,464 - tissue_CYTIP_whole_blood] INFO:   CCC: 0.004293, p-value: 3.48e-01\n",
      "[2025-09-25 13:05:36,465 - tissue_CYTIP_whole_blood] INFO: Processing column 60/66: SME1SNSE\n"
     ]
    },
    {
     "name": "stdout",
     "output_type": "stream",
     "text": [
      "  CCC: 0.004293, p-value: 3.48e-01\n",
      "Processing column 60/66: SME1SNSE\n"
     ]
    },
    {
     "name": "stderr",
     "output_type": "stream",
     "text": [
      "[2025-09-25 13:05:36,719 - tissue_CYTIP_whole_blood] INFO:   CCC: 0.007285, p-value: 4.87e-02\n",
      "[2025-09-25 13:05:36,719 - tissue_CYTIP_whole_blood] INFO: Processing column 61/66: SME1PCTS\n"
     ]
    },
    {
     "name": "stdout",
     "output_type": "stream",
     "text": [
      "  CCC: 0.007285, p-value: 4.87e-02\n",
      "Processing column 61/66: SME1PCTS\n"
     ]
    },
    {
     "name": "stderr",
     "output_type": "stream",
     "text": [
      "[2025-09-25 13:05:36,973 - tissue_CYTIP_whole_blood] INFO:   CCC: 0.004663, p-value: 2.81e-01\n",
      "[2025-09-25 13:05:36,973 - tissue_CYTIP_whole_blood] INFO: Processing column 62/66: SMRRNART\n"
     ]
    },
    {
     "name": "stdout",
     "output_type": "stream",
     "text": [
      "  CCC: 0.004663, p-value: 2.81e-01\n",
      "Processing column 62/66: SMRRNART\n"
     ]
    },
    {
     "name": "stderr",
     "output_type": "stream",
     "text": [
      "[2025-09-25 13:05:37,228 - tissue_CYTIP_whole_blood] INFO:   CCC: 0.013729, p-value: 1.10e-03\n",
      "[2025-09-25 13:05:37,229 - tissue_CYTIP_whole_blood] INFO: Processing column 63/66: SME1MPRT\n"
     ]
    },
    {
     "name": "stdout",
     "output_type": "stream",
     "text": [
      "  CCC: 0.013729, p-value: 1.10e-03\n",
      "Processing column 63/66: SME1MPRT\n"
     ]
    },
    {
     "name": "stderr",
     "output_type": "stream",
     "text": [
      "[2025-09-25 13:05:37,483 - tissue_CYTIP_whole_blood] INFO:   CCC: 0.021952, p-value: 4.00e-05\n",
      "[2025-09-25 13:05:37,483 - tissue_CYTIP_whole_blood] INFO: Processing column 64/66: SMNUM5CD\n",
      "[2025-09-25 13:05:37,484 - tissue_CYTIP_whole_blood] INFO:   Skipping SMNUM5CD: all values are NaN\n",
      "[2025-09-25 13:05:37,484 - tissue_CYTIP_whole_blood] INFO: Processing column 65/66: SMDPMPRT\n",
      "[2025-09-25 13:05:37,485 - tissue_CYTIP_whole_blood] INFO:   Skipping SMDPMPRT: only 1 unique value(s)\n",
      "[2025-09-25 13:05:37,485 - tissue_CYTIP_whole_blood] INFO: Processing column 66/66: SME2PCTS\n"
     ]
    },
    {
     "name": "stdout",
     "output_type": "stream",
     "text": [
      "  CCC: 0.021952, p-value: 4.00e-05\n",
      "Processing column 64/66: SMNUM5CD\n",
      "  Skipping SMNUM5CD: all values are NaN\n",
      "Processing column 65/66: SMDPMPRT\n",
      "  Skipping SMDPMPRT: only 1 unique value(s)\n",
      "Processing column 66/66: SME2PCTS\n"
     ]
    },
    {
     "name": "stderr",
     "output_type": "stream",
     "text": [
      "[2025-09-25 13:05:37,739 - tissue_CYTIP_whole_blood] INFO:   CCC: 0.007812, p-value: 3.38e-02\n",
      "[2025-09-25 13:05:37,740 - tissue_CYTIP_whole_blood] INFO: \n",
      "Completed processing whole_blood:\n",
      "[2025-09-25 13:05:37,741 - tissue_CYTIP_whole_blood] INFO:   Total metadata columns: 66\n",
      "[2025-09-25 13:05:37,741 - tissue_CYTIP_whole_blood] INFO:   Successful analyses: 44\n",
      "[2025-09-25 13:05:37,741 - tissue_CYTIP_whole_blood] INFO:   Skipped/Failed: 22\n",
      "[2025-09-25 13:05:37,765 - summary] INFO: Results for CYTIP in whole_blood saved to: /mnt/data/proj_data/ccc-gpu/data/tutorial/metadata_correlations/CYTIP_whole_blood_correlation_results.pkl\n",
      "[2025-09-25 13:05:37,765 - summary] INFO: Log file for CYTIP in whole_blood saved to: /mnt/data/proj_data/ccc-gpu/data/tutorial/metadata_correlations/CYTIP_whole_blood.log\n",
      "[2025-09-25 13:05:37,766 - summary] INFO: Runtime for CYTIP in whole_blood: 9.93 seconds (0.17 minutes)\n",
      "[2025-09-25 13:05:37,767 - summary] INFO: \n",
      "================================================================================\n",
      "[2025-09-25 13:05:37,767 - summary] INFO: COMBINED RESULTS SUMMARY\n",
      "[2025-09-25 13:05:37,767 - summary] INFO: ================================================================================\n",
      "[2025-09-25 13:05:37,768 - summary] INFO: Gene Symbol: CYTIP\n",
      "[2025-09-25 13:05:37,768 - summary] INFO: Gene ID: ENSG00000115165.9\n",
      "[2025-09-25 13:05:37,768 - summary] INFO: Permutations: 100,000\n",
      "[2025-09-25 13:05:37,768 - summary] INFO: Tissues processed: 1\n",
      "[2025-09-25 13:05:37,769 - summary] INFO: Combined results saved to: /mnt/data/proj_data/ccc-gpu/data/tutorial/metadata_correlations/CYTIP_all_tissues_correlation_results.pkl\n",
      "[2025-09-25 13:05:37,769 - summary] INFO: Combined results (CSV) saved to: /mnt/data/proj_data/ccc-gpu/data/tutorial/metadata_correlations/CYTIP_all_tissues_correlation_results.csv\n",
      "[2025-09-25 13:05:37,769 - summary] INFO: \n",
      "Total successful analyses across all tissues: 44\n",
      "[2025-09-25 13:05:37,769 - summary] INFO: \n",
      "================================================================================\n",
      "[2025-09-25 13:05:37,770 - summary] INFO: TOP CORRELATIONS ACROSS ALL TISSUES (by absolute CCC value)\n",
      "[2025-09-25 13:05:37,771 - summary] INFO: ================================================================================\n",
      "[2025-09-25 13:05:37,771 - summary] INFO: Tissue               Metadata Column           CCC Value    P-value      Significance   \n",
      "[2025-09-25 13:05:37,771 - summary] INFO: ------------------------------------------------------------------------------------------\n",
      "[2025-09-25 13:05:37,772 - summary] INFO: whole_blood          SMNTRNRT                    0.261762    1.00e-05  ***            \n",
      "[2025-09-25 13:05:37,772 - summary] INFO: whole_blood          SMTSISCH                    0.215092    1.00e-05  ***            \n",
      "[2025-09-25 13:05:37,772 - summary] INFO: whole_blood          DTHHRDY                     0.184226    1.00e-05  ***            \n",
      "[2025-09-25 13:05:37,773 - summary] INFO: whole_blood          SMEXNCRT                    0.126241    1.00e-05  ***            \n",
      "[2025-09-25 13:05:37,773 - summary] INFO: whole_blood          SMEXPEFF                    0.086945    1.00e-05  ***            \n",
      "[2025-09-25 13:05:37,773 - summary] INFO: whole_blood          SMCENTER                    0.084684    1.00e-05  ***            \n",
      "[2025-09-25 13:05:37,774 - summary] INFO: whole_blood          SMTRSCPT                    0.051533    1.00e-05  ***            \n",
      "[2025-09-25 13:05:37,774 - summary] INFO: whole_blood          SMGNSDTC                    0.050841    1.00e-05  ***            \n",
      "[2025-09-25 13:05:37,774 - summary] INFO: whole_blood          SMALTALG                    0.038381    1.00e-05  ***            \n",
      "[2025-09-25 13:05:37,774 - summary] INFO: whole_blood          SMSPLTRD                    0.030117    1.00e-05  ***            \n",
      "[2025-09-25 13:05:37,775 - summary] INFO: whole_blood          SMNTRART                    0.024407    3.00e-05  ***            \n",
      "[2025-09-25 13:05:37,775 - summary] INFO: whole_blood          SMNTERRT                    0.023433    4.00e-05  ***            \n",
      "[2025-09-25 13:05:37,775 - summary] INFO: whole_blood          SME1MPRT                    0.021952    4.00e-05  ***            \n",
      "[2025-09-25 13:05:37,775 - summary] INFO: whole_blood          SME2MPRT                    0.021744    5.00e-05  ***            \n",
      "[2025-09-25 13:05:37,776 - summary] INFO: whole_blood          SMMAPRT                     0.021052    7.00e-05  ***            \n",
      "[2025-09-25 13:05:37,776 - summary] INFO: whole_blood          SMMPUNRT                    0.021052    7.00e-05  ***            \n",
      "[2025-09-25 13:05:37,776 - summary] INFO: whole_blood          AGE                         0.018997    1.00e-05  ***            \n",
      "[2025-09-25 13:05:37,777 - summary] INFO: whole_blood          SMCHMPRS                    0.015946    4.50e-04  ***            \n",
      "[2025-09-25 13:05:37,777 - summary] INFO: whole_blood          SMSFLGTH                    0.015322    7.10e-04  ***            \n",
      "[2025-09-25 13:05:37,777 - summary] INFO: whole_blood          SMRRNART                    0.013729    1.10e-03  **             \n",
      "[2025-09-25 13:05:37,777 - summary] INFO: \n",
      "================================================================================\n",
      "[2025-09-25 13:05:37,778 - summary] INFO: SUMMARY BY TISSUE\n",
      "[2025-09-25 13:05:37,778 - summary] INFO: ================================================================================\n",
      "[2025-09-25 13:05:37,778 - summary] INFO: Tissue               N Samples  Successful   Mean |CCC|   Max |CCC|   \n",
      "[2025-09-25 13:05:37,778 - summary] INFO: ----------------------------------------------------------------------\n",
      "[2025-09-25 13:05:37,779 - summary] INFO: whole_blood          755        44           0.032699     0.261762    \n",
      "[2025-09-25 13:05:37,779 - summary] INFO: \n",
      "================================================================================\n",
      "[2025-09-25 13:05:37,780 - summary] INFO: RUNTIME SUMMARY\n",
      "[2025-09-25 13:05:37,780 - summary] INFO: ================================================================================\n",
      "[2025-09-25 13:05:37,780 - summary] INFO: Total runtime: 9.93 seconds (0.17 minutes)\n",
      "[2025-09-25 13:05:37,780 - summary] INFO: Average runtime per tissue: 9.93 seconds\n",
      "[2025-09-25 13:05:37,780 - summary] INFO: \n",
      "Runtime by tissue:\n",
      "[2025-09-25 13:05:37,781 - summary] INFO: Tissue                    Runtime (sec)   Runtime (min)   Status    \n",
      "[2025-09-25 13:05:37,781 - summary] INFO: ----------------------------------------------------------------------\n",
      "[2025-09-25 13:05:37,781 - summary] INFO: whole_blood               9.93            0.17            Success   \n",
      "[2025-09-25 13:05:37,781 - summary] INFO: \n",
      "Fastest: whole_blood (9.93 seconds)\n",
      "[2025-09-25 13:05:37,781 - summary] INFO: Slowest: whole_blood (9.93 seconds)\n",
      "[2025-09-25 13:05:37,781 - summary] INFO: Speed ratio: 1.0x\n",
      "[2025-09-25 13:05:37,782 - summary] INFO: Runtime for CYTIP: 9.93 seconds (0.17 minutes)\n",
      "[2025-09-25 13:05:37,782 - summary] INFO: \n",
      "====================================================================================================\n",
      "[2025-09-25 13:05:37,782 - summary] INFO: OVERALL RESULTS SUMMARY\n",
      "[2025-09-25 13:05:37,782 - summary] INFO: ====================================================================================================\n",
      "[2025-09-25 13:05:37,783 - summary] INFO: Gene symbols processed: RASSF2, CYTIP\n",
      "[2025-09-25 13:05:37,783 - summary] INFO: Total genes: 2\n",
      "[2025-09-25 13:05:37,783 - summary] INFO: Permutations: 100,000\n",
      "[2025-09-25 13:05:37,783 - summary] INFO: Tissues per gene: 1\n",
      "[2025-09-25 13:05:37,784 - summary] INFO: All genes combined results saved to: /mnt/data/proj_data/ccc-gpu/data/tutorial/metadata_correlations/_all_genes_all_tissues_correlation_results.pkl\n",
      "[2025-09-25 13:05:37,785 - summary] INFO: All genes combined results (CSV) saved to: /mnt/data/proj_data/ccc-gpu/data/tutorial/metadata_correlations/_all_genes_all_tissues_correlation_results.csv\n",
      "[2025-09-25 13:05:37,785 - summary] INFO: \n",
      "Log files created:\n",
      "[2025-09-25 13:05:37,785 - summary] INFO:   RASSF2 - whole_blood: /mnt/data/proj_data/ccc-gpu/data/tutorial/metadata_correlations/RASSF2_whole_blood.log\n",
      "[2025-09-25 13:05:37,786 - summary] INFO:   CYTIP - whole_blood: /mnt/data/proj_data/ccc-gpu/data/tutorial/metadata_correlations/CYTIP_whole_blood.log\n",
      "[2025-09-25 13:05:37,786 - summary] INFO: \n",
      "Total successful analyses across all genes and tissues: 88\n",
      "[2025-09-25 13:05:37,786 - summary] INFO: \n",
      "====================================================================================================\n",
      "[2025-09-25 13:05:37,787 - summary] INFO: TOP CORRELATIONS ACROSS ALL GENES AND TISSUES (by absolute CCC value)\n",
      "[2025-09-25 13:05:37,787 - summary] INFO: ====================================================================================================\n",
      "[2025-09-25 13:05:37,788 - summary] INFO: Gene         Tissue               Metadata Column           CCC Value    P-value      Significance   \n",
      "[2025-09-25 13:05:37,788 - summary] INFO: --------------------------------------------------------------------------------------------------------------\n",
      "[2025-09-25 13:05:37,788 - summary] INFO: RASSF2       whole_blood          SMTSISCH                    0.528125    1.00e-05  ***            \n",
      "[2025-09-25 13:05:37,788 - summary] INFO: RASSF2       whole_blood          DTHHRDY                     0.464582    1.00e-05  ***            \n",
      "[2025-09-25 13:05:37,789 - summary] INFO: CYTIP        whole_blood          SMNTRNRT                    0.261762    1.00e-05  ***            \n",
      "[2025-09-25 13:05:37,789 - summary] INFO: RASSF2       whole_blood          SMNTERRT                    0.250997    1.00e-05  ***            \n",
      "[2025-09-25 13:05:37,789 - summary] INFO: RASSF2       whole_blood          SMNTRART                    0.243071    1.00e-05  ***            \n",
      "[2025-09-25 13:05:37,789 - summary] INFO: CYTIP        whole_blood          SMTSISCH                    0.215092    1.00e-05  ***            \n",
      "[2025-09-25 13:05:37,790 - summary] INFO: RASSF2       whole_blood          SMNTRNRT                    0.202936    1.00e-05  ***            \n",
      "[2025-09-25 13:05:37,790 - summary] INFO: CYTIP        whole_blood          DTHHRDY                     0.184226    1.00e-05  ***            \n",
      "[2025-09-25 13:05:37,790 - summary] INFO: RASSF2       whole_blood          SME1MPRT                    0.181940    1.00e-05  ***            \n",
      "[2025-09-25 13:05:37,791 - summary] INFO: RASSF2       whole_blood          SMALTALG                    0.177009    1.00e-05  ***            \n",
      "[2025-09-25 13:05:37,791 - summary] INFO: RASSF2       whole_blood          SME2MPRT                    0.172974    1.00e-05  ***            \n",
      "[2025-09-25 13:05:37,791 - summary] INFO: RASSF2       whole_blood          SMMPUNRT                    0.168576    1.00e-05  ***            \n",
      "[2025-09-25 13:05:37,791 - summary] INFO: RASSF2       whole_blood          SMMAPRT                     0.168576    1.00e-05  ***            \n",
      "[2025-09-25 13:05:37,791 - summary] INFO: RASSF2       whole_blood          SMCHMPRS                    0.143365    1.00e-05  ***            \n",
      "[2025-09-25 13:05:37,792 - summary] INFO: CYTIP        whole_blood          SMEXNCRT                    0.126241    1.00e-05  ***            \n",
      "[2025-09-25 13:05:37,792 - summary] INFO: RASSF2       whole_blood          SMCENTER                    0.108148    1.00e-05  ***            \n",
      "[2025-09-25 13:05:37,792 - summary] INFO: CYTIP        whole_blood          SMEXPEFF                    0.086945    1.00e-05  ***            \n",
      "[2025-09-25 13:05:37,793 - summary] INFO: CYTIP        whole_blood          SMCENTER                    0.084684    1.00e-05  ***            \n",
      "[2025-09-25 13:05:37,793 - summary] INFO: RASSF2       whole_blood          SMEXPEFF                    0.059931    1.00e-05  ***            \n",
      "[2025-09-25 13:05:37,793 - summary] INFO: RASSF2       whole_blood          SMSPLTRD                    0.057786    1.00e-05  ***            \n",
      "[2025-09-25 13:05:37,793 - summary] INFO: CYTIP        whole_blood          SMTRSCPT                    0.051533    1.00e-05  ***            \n",
      "[2025-09-25 13:05:37,794 - summary] INFO: CYTIP        whole_blood          SMGNSDTC                    0.050841    1.00e-05  ***            \n",
      "[2025-09-25 13:05:37,794 - summary] INFO: RASSF2       whole_blood          SMRIN                       0.048847    1.00e-05  ***            \n",
      "[2025-09-25 13:05:37,794 - summary] INFO: RASSF2       whole_blood          SMRRNART                    0.048437    1.00e-05  ***            \n",
      "[2025-09-25 13:05:37,794 - summary] INFO: RASSF2       whole_blood          SMSFLGTH                    0.047258    1.00e-05  ***            \n",
      "[2025-09-25 13:05:37,795 - summary] INFO: RASSF2       whole_blood          SMGNSDTC                    0.043013    1.00e-05  ***            \n",
      "[2025-09-25 13:05:37,795 - summary] INFO: RASSF2       whole_blood          SMTRSCPT                    0.042714    1.00e-05  ***            \n",
      "[2025-09-25 13:05:37,795 - summary] INFO: RASSF2       whole_blood          SMEXNCRT                    0.040140    1.00e-05  ***            \n",
      "[2025-09-25 13:05:37,795 - summary] INFO: RASSF2       whole_blood          AGE                         0.039824    1.00e-05  ***            \n",
      "[2025-09-25 13:05:37,796 - summary] INFO: CYTIP        whole_blood          SMALTALG                    0.038381    1.00e-05  ***            \n",
      "[2025-09-25 13:05:37,796 - summary] INFO: \n",
      "====================================================================================================\n",
      "[2025-09-25 13:05:37,796 - summary] INFO: SUMMARY BY GENE\n",
      "[2025-09-25 13:05:37,796 - summary] INFO: ====================================================================================================\n",
      "[2025-09-25 13:05:37,797 - summary] INFO: \n",
      "Gene: RASSF2 (ID: ENSG00000101265.15)\n",
      "[2025-09-25 13:05:37,797 - summary] INFO:   Tissues processed: 1\n",
      "[2025-09-25 13:05:37,797 - summary] INFO:   Successful analyses: 44\n",
      "[2025-09-25 13:05:37,797 - summary] INFO:   Mean |CCC|: 0.079987\n",
      "[2025-09-25 13:05:37,797 - summary] INFO:   Max |CCC|: 0.528125\n",
      "[2025-09-25 13:05:37,798 - summary] INFO:   Top correlation: SMTSISCH in whole_blood (CCC: 0.528125, p: 1.00e-05)\n",
      "[2025-09-25 13:05:37,798 - summary] INFO:   Runtime: 9.96 seconds (0.17 minutes)\n",
      "[2025-09-25 13:05:37,799 - summary] INFO: \n",
      "Gene: CYTIP (ID: ENSG00000115165.9)\n",
      "[2025-09-25 13:05:37,799 - summary] INFO:   Tissues processed: 1\n",
      "[2025-09-25 13:05:37,799 - summary] INFO:   Successful analyses: 44\n",
      "[2025-09-25 13:05:37,800 - summary] INFO:   Mean |CCC|: 0.032699\n",
      "[2025-09-25 13:05:37,800 - summary] INFO:   Max |CCC|: 0.261762\n",
      "[2025-09-25 13:05:37,800 - summary] INFO:   Top correlation: SMNTRNRT in whole_blood (CCC: 0.261762, p: 1.00e-05)\n",
      "[2025-09-25 13:05:37,801 - summary] INFO:   Runtime: 9.93 seconds (0.17 minutes)\n",
      "[2025-09-25 13:05:37,801 - summary] INFO: \n",
      "====================================================================================================\n",
      "[2025-09-25 13:05:37,801 - summary] INFO: SUMMARY BY TISSUE (across all genes)\n",
      "[2025-09-25 13:05:37,801 - summary] INFO: ====================================================================================================\n",
      "[2025-09-25 13:05:37,801 - summary] INFO: Tissue                    N Genes    Successful   Mean |CCC|   Max |CCC|   \n",
      "[2025-09-25 13:05:37,801 - summary] INFO: ---------------------------------------------------------------------------\n",
      "[2025-09-25 13:05:37,802 - summary] INFO: whole_blood               2          88           0.056343     0.528125    \n",
      "[2025-09-25 13:05:37,802 - summary] INFO: \n",
      "====================================================================================================\n",
      "[2025-09-25 13:05:37,803 - summary] INFO: RUNTIME SUMMARY\n",
      "[2025-09-25 13:05:37,803 - summary] INFO: ====================================================================================================\n",
      "[2025-09-25 13:05:37,803 - summary] INFO: Total runtime: 19.92 seconds (0.33 minutes)\n",
      "[2025-09-25 13:05:37,803 - summary] INFO: Average runtime per gene: 9.96 seconds\n",
      "[2025-09-25 13:05:37,803 - summary] INFO: Total gene-tissue combinations: 2\n",
      "[2025-09-25 13:05:37,803 - summary] INFO: \n",
      "Runtime by gene:\n",
      "[2025-09-25 13:05:37,803 - summary] INFO: Gene            Runtime (sec)   Runtime (min)   Tissues    Successful  \n",
      "[2025-09-25 13:05:37,804 - summary] INFO: ---------------------------------------------------------------------------\n",
      "[2025-09-25 13:05:37,804 - summary] INFO: RASSF2          9.96            0.17            1          1           \n",
      "[2025-09-25 13:05:37,804 - summary] INFO: CYTIP           9.93            0.17            1          1           \n",
      "[2025-09-25 13:05:37,804 - summary] INFO: \n",
      "Average runtime by tissue (across all genes):\n",
      "[2025-09-25 13:05:37,805 - summary] INFO: Tissue                    Avg Runtime (sec)  Avg Runtime (min)  N Runs   Min        Max       \n",
      "[2025-09-25 13:05:37,805 - summary] INFO: -----------------------------------------------------------------------------------------------\n",
      "[2025-09-25 13:05:37,805 - summary] INFO: whole_blood               9.94               0.17               2        9.93       9.96      \n",
      "[2025-09-25 13:05:37,805 - summary] INFO: \n",
      "Fastest tissue (avg): whole_blood (9.94 seconds)\n",
      "[2025-09-25 13:05:37,805 - summary] INFO: Slowest tissue (avg): whole_blood (9.94 seconds)\n",
      "[2025-09-25 13:05:37,806 - summary] INFO: Speed ratio: 1.0x\n",
      "[2025-09-25 13:05:37,806 - summary] INFO: \n",
      "Summary log saved to: /mnt/data/proj_data/ccc-gpu/data/tutorial/metadata_correlations/_RASSF2_CYTIP_summary_execution.log\n",
      "[2025-09-25 13:05:37,806 - summary] INFO: Summary tables saved to: /mnt/data/proj_data/ccc-gpu/data/tutorial/metadata_correlations/_RASSF2_CYTIP_summary_tables.log\n"
     ]
    },
    {
     "name": "stdout",
     "output_type": "stream",
     "text": [
      "  CCC: 0.007812, p-value: 3.38e-02\n",
      "\n",
      "Completed processing whole_blood:\n",
      "  Total metadata columns: 66\n",
      "  Successful analyses: 44\n",
      "  Skipped/Failed: 22\n",
      "Results for CYTIP in whole_blood saved to: /mnt/data/proj_data/ccc-gpu/data/tutorial/metadata_correlations/CYTIP_whole_blood_correlation_results.pkl\n",
      "Log file for CYTIP in whole_blood saved to: /mnt/data/proj_data/ccc-gpu/data/tutorial/metadata_correlations/CYTIP_whole_blood.log\n",
      "Runtime for CYTIP in whole_blood: 9.93 seconds (0.17 minutes)\n",
      "\n",
      "================================================================================\n",
      "COMBINED RESULTS SUMMARY\n",
      "================================================================================\n",
      "Gene Symbol: CYTIP\n",
      "Gene ID: ENSG00000115165.9\n",
      "Permutations: 100,000\n",
      "Tissues processed: 1\n",
      "Combined results saved to: /mnt/data/proj_data/ccc-gpu/data/tutorial/metadata_correlations/CYTIP_all_tissues_correlation_results.pkl\n",
      "Combined results (CSV) saved to: /mnt/data/proj_data/ccc-gpu/data/tutorial/metadata_correlations/CYTIP_all_tissues_correlation_results.csv\n",
      "\n",
      "Total successful analyses across all tissues: 44\n",
      "\n",
      "================================================================================\n",
      "TOP CORRELATIONS ACROSS ALL TISSUES (by absolute CCC value)\n",
      "================================================================================\n",
      "Tissue               Metadata Column           CCC Value    P-value      Significance   \n",
      "------------------------------------------------------------------------------------------\n",
      "whole_blood          SMNTRNRT                    0.261762    1.00e-05  ***            \n",
      "whole_blood          SMTSISCH                    0.215092    1.00e-05  ***            \n",
      "whole_blood          DTHHRDY                     0.184226    1.00e-05  ***            \n",
      "whole_blood          SMEXNCRT                    0.126241    1.00e-05  ***            \n",
      "whole_blood          SMEXPEFF                    0.086945    1.00e-05  ***            \n",
      "whole_blood          SMCENTER                    0.084684    1.00e-05  ***            \n",
      "whole_blood          SMTRSCPT                    0.051533    1.00e-05  ***            \n",
      "whole_blood          SMGNSDTC                    0.050841    1.00e-05  ***            \n",
      "whole_blood          SMALTALG                    0.038381    1.00e-05  ***            \n",
      "whole_blood          SMSPLTRD                    0.030117    1.00e-05  ***            \n",
      "whole_blood          SMNTRART                    0.024407    3.00e-05  ***            \n",
      "whole_blood          SMNTERRT                    0.023433    4.00e-05  ***            \n",
      "whole_blood          SME1MPRT                    0.021952    4.00e-05  ***            \n",
      "whole_blood          SME2MPRT                    0.021744    5.00e-05  ***            \n",
      "whole_blood          SMMAPRT                     0.021052    7.00e-05  ***            \n",
      "whole_blood          SMMPUNRT                    0.021052    7.00e-05  ***            \n",
      "whole_blood          AGE                         0.018997    1.00e-05  ***            \n",
      "whole_blood          SMCHMPRS                    0.015946    4.50e-04  ***            \n",
      "whole_blood          SMSFLGTH                    0.015322    7.10e-04  ***            \n",
      "whole_blood          SMRRNART                    0.013729    1.10e-03  **             \n",
      "\n",
      "================================================================================\n",
      "SUMMARY BY TISSUE\n",
      "================================================================================\n",
      "Tissue               N Samples  Successful   Mean |CCC|   Max |CCC|   \n",
      "----------------------------------------------------------------------\n",
      "whole_blood          755        44           0.032699     0.261762    \n",
      "\n",
      "================================================================================\n",
      "RUNTIME SUMMARY\n",
      "================================================================================\n",
      "Total runtime: 9.93 seconds (0.17 minutes)\n",
      "Average runtime per tissue: 9.93 seconds\n",
      "\n",
      "Runtime by tissue:\n",
      "Tissue                    Runtime (sec)   Runtime (min)   Status    \n",
      "----------------------------------------------------------------------\n",
      "whole_blood               9.93            0.17            Success   \n",
      "\n",
      "Fastest: whole_blood (9.93 seconds)\n",
      "Slowest: whole_blood (9.93 seconds)\n",
      "Speed ratio: 1.0x\n",
      "Runtime for CYTIP: 9.93 seconds (0.17 minutes)\n",
      "\n",
      "====================================================================================================\n",
      "OVERALL RESULTS SUMMARY\n",
      "====================================================================================================\n",
      "Gene symbols processed: RASSF2, CYTIP\n",
      "Total genes: 2\n",
      "Permutations: 100,000\n",
      "Tissues per gene: 1\n",
      "All genes combined results saved to: /mnt/data/proj_data/ccc-gpu/data/tutorial/metadata_correlations/_all_genes_all_tissues_correlation_results.pkl\n",
      "All genes combined results (CSV) saved to: /mnt/data/proj_data/ccc-gpu/data/tutorial/metadata_correlations/_all_genes_all_tissues_correlation_results.csv\n",
      "\n",
      "Log files created:\n",
      "  RASSF2 - whole_blood: /mnt/data/proj_data/ccc-gpu/data/tutorial/metadata_correlations/RASSF2_whole_blood.log\n",
      "  CYTIP - whole_blood: /mnt/data/proj_data/ccc-gpu/data/tutorial/metadata_correlations/CYTIP_whole_blood.log\n",
      "\n",
      "Total successful analyses across all genes and tissues: 88\n",
      "\n",
      "====================================================================================================\n",
      "TOP CORRELATIONS ACROSS ALL GENES AND TISSUES (by absolute CCC value)\n",
      "====================================================================================================\n",
      "Gene         Tissue               Metadata Column           CCC Value    P-value      Significance   \n",
      "--------------------------------------------------------------------------------------------------------------\n",
      "RASSF2       whole_blood          SMTSISCH                    0.528125    1.00e-05  ***            \n",
      "RASSF2       whole_blood          DTHHRDY                     0.464582    1.00e-05  ***            \n",
      "CYTIP        whole_blood          SMNTRNRT                    0.261762    1.00e-05  ***            \n",
      "RASSF2       whole_blood          SMNTERRT                    0.250997    1.00e-05  ***            \n",
      "RASSF2       whole_blood          SMNTRART                    0.243071    1.00e-05  ***            \n",
      "CYTIP        whole_blood          SMTSISCH                    0.215092    1.00e-05  ***            \n",
      "RASSF2       whole_blood          SMNTRNRT                    0.202936    1.00e-05  ***            \n",
      "CYTIP        whole_blood          DTHHRDY                     0.184226    1.00e-05  ***            \n",
      "RASSF2       whole_blood          SME1MPRT                    0.181940    1.00e-05  ***            \n",
      "RASSF2       whole_blood          SMALTALG                    0.177009    1.00e-05  ***            \n",
      "RASSF2       whole_blood          SME2MPRT                    0.172974    1.00e-05  ***            \n",
      "RASSF2       whole_blood          SMMPUNRT                    0.168576    1.00e-05  ***            \n",
      "RASSF2       whole_blood          SMMAPRT                     0.168576    1.00e-05  ***            \n",
      "RASSF2       whole_blood          SMCHMPRS                    0.143365    1.00e-05  ***            \n",
      "CYTIP        whole_blood          SMEXNCRT                    0.126241    1.00e-05  ***            \n",
      "RASSF2       whole_blood          SMCENTER                    0.108148    1.00e-05  ***            \n",
      "CYTIP        whole_blood          SMEXPEFF                    0.086945    1.00e-05  ***            \n",
      "CYTIP        whole_blood          SMCENTER                    0.084684    1.00e-05  ***            \n",
      "RASSF2       whole_blood          SMEXPEFF                    0.059931    1.00e-05  ***            \n",
      "RASSF2       whole_blood          SMSPLTRD                    0.057786    1.00e-05  ***            \n",
      "CYTIP        whole_blood          SMTRSCPT                    0.051533    1.00e-05  ***            \n",
      "CYTIP        whole_blood          SMGNSDTC                    0.050841    1.00e-05  ***            \n",
      "RASSF2       whole_blood          SMRIN                       0.048847    1.00e-05  ***            \n",
      "RASSF2       whole_blood          SMRRNART                    0.048437    1.00e-05  ***            \n",
      "RASSF2       whole_blood          SMSFLGTH                    0.047258    1.00e-05  ***            \n",
      "RASSF2       whole_blood          SMGNSDTC                    0.043013    1.00e-05  ***            \n",
      "RASSF2       whole_blood          SMTRSCPT                    0.042714    1.00e-05  ***            \n",
      "RASSF2       whole_blood          SMEXNCRT                    0.040140    1.00e-05  ***            \n",
      "RASSF2       whole_blood          AGE                         0.039824    1.00e-05  ***            \n",
      "CYTIP        whole_blood          SMALTALG                    0.038381    1.00e-05  ***            \n",
      "\n",
      "====================================================================================================\n",
      "SUMMARY BY GENE\n",
      "====================================================================================================\n",
      "\n",
      "Gene: RASSF2 (ID: ENSG00000101265.15)\n",
      "  Tissues processed: 1\n",
      "  Successful analyses: 44\n",
      "  Mean |CCC|: 0.079987\n",
      "  Max |CCC|: 0.528125\n",
      "  Top correlation: SMTSISCH in whole_blood (CCC: 0.528125, p: 1.00e-05)\n",
      "  Runtime: 9.96 seconds (0.17 minutes)\n",
      "\n",
      "Gene: CYTIP (ID: ENSG00000115165.9)\n",
      "  Tissues processed: 1\n",
      "  Successful analyses: 44\n",
      "  Mean |CCC|: 0.032699\n",
      "  Max |CCC|: 0.261762\n",
      "  Top correlation: SMNTRNRT in whole_blood (CCC: 0.261762, p: 1.00e-05)\n",
      "  Runtime: 9.93 seconds (0.17 minutes)\n",
      "\n",
      "====================================================================================================\n",
      "SUMMARY BY TISSUE (across all genes)\n",
      "====================================================================================================\n",
      "Tissue                    N Genes    Successful   Mean |CCC|   Max |CCC|   \n",
      "---------------------------------------------------------------------------\n",
      "whole_blood               2          88           0.056343     0.528125    \n",
      "\n",
      "====================================================================================================\n",
      "RUNTIME SUMMARY\n",
      "====================================================================================================\n",
      "Total runtime: 19.92 seconds (0.33 minutes)\n",
      "Average runtime per gene: 9.96 seconds\n",
      "Total gene-tissue combinations: 2\n",
      "\n",
      "Runtime by gene:\n",
      "Gene            Runtime (sec)   Runtime (min)   Tissues    Successful  \n",
      "---------------------------------------------------------------------------\n",
      "RASSF2          9.96            0.17            1          1           \n",
      "CYTIP           9.93            0.17            1          1           \n",
      "\n",
      "Average runtime by tissue (across all genes):\n",
      "Tissue                    Avg Runtime (sec)  Avg Runtime (min)  N Runs   Min        Max       \n",
      "-----------------------------------------------------------------------------------------------\n",
      "whole_blood               9.94               0.17               2        9.93       9.96      \n",
      "\n",
      "Fastest tissue (avg): whole_blood (9.94 seconds)\n",
      "Slowest tissue (avg): whole_blood (9.94 seconds)\n",
      "Speed ratio: 1.0x\n",
      "\n",
      "Summary log saved to: /mnt/data/proj_data/ccc-gpu/data/tutorial/metadata_correlations/_RASSF2_CYTIP_summary_execution.log\n",
      "Summary tables saved to: /mnt/data/proj_data/ccc-gpu/data/tutorial/metadata_correlations/_RASSF2_CYTIP_summary_tables.log\n"
     ]
    }
   ],
   "source": [
    "%run  ./nbs/common/metadata_corr_cli.py RASSF2 CYTIP --include whole_blood --expr-data-dir {TISSUE_DATA_DIR} --data-dir {ANALYSIS_DIR} --output-dir {METADATA_CORRELATIONS_RESULT_DIR}"
   ]
  },
  {
   "cell_type": "code",
   "execution_count": null,
   "metadata": {},
   "outputs": [
    {
     "data": {
      "text/plain": [
       "['RASSF2_all_tissues_correlation_results.csv',\n",
       " 'CYTIP_whole_blood.log',\n",
       " 'RASSF2_whole_blood_correlation_results.pkl',\n",
       " 'RASSF2_all_tissues_correlation_results.pkl',\n",
       " 'RASSF2_whole_blood.log',\n",
       " 'CYTIP_all_tissues_correlation_results.pkl',\n",
       " 'CYTIP_whole_blood_correlation_results.pkl',\n",
       " '_all_genes_all_tissues_correlation_results.csv',\n",
       " '_RASSF2_CYTIP_summary_tables.log',\n",
       " '_RASSF2_CYTIP_summary_execution.log',\n",
       " 'CYTIP_all_tissues_correlation_results.csv',\n",
       " '_all_genes_all_tissues_correlation_results.pkl']"
      ]
     },
     "execution_count": 105,
     "metadata": {},
     "output_type": "execute_result"
    }
   ],
   "source": [
    "# You can find the results in the `METADATA_CORRELATIONS_RESULT_DIR` directory\n",
    "os.listdir(METADATA_CORRELATIONS_RESULT_DIR)"
   ]
  }
 ],
 "metadata": {
  "kernelspec": {
   "display_name": "Python 3 (ipykernel)",
   "language": "python",
   "name": "python3"
  }
 },
 "nbformat": 4,
 "nbformat_minor": 2
}
