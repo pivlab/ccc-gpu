{
 "cells": [
  {
   "cell_type": "markdown",
   "metadata": {},
   "source": [
    "# Description\n",
    "This notebook demonstrates:\n",
    "\n",
    "1. how to compute coefficients values\n",
    "2. how to correlate gene expression data with categorical metadata\n",
    "\n",
    "using CCC GPU with public data from GTEx v8."
   ]
  },
  {
   "cell_type": "markdown",
   "metadata": {},
   "source": [
    "Please follow the instructions in the [README](../README.md), section \"Quick Install with pip\" to install CCC-GPU with a conda environment `ccc-gpu-env`.\n",
    "\n",
    "Then activate the environment and start the jupyter notebook server in order to run this notebook.\n",
    "\n",
    "```bash\n",
    "conda activate ccc-gpu-env\n",
    "pip install notebook\n",
    "jupyter notebook\n",
    "```"
   ]
  },
  {
   "cell_type": "code",
   "execution_count": 22,
   "metadata": {},
   "outputs": [],
   "source": [
    "import os\n",
    "import pandas as pd\n",
    "import urllib.request\n",
    "from tqdm import tqdm\n",
    "from pathlib import Path\n",
    "\n",
    "from ccc.utils import simplify_string\n",
    "from ccc import conf"
   ]
  },
  {
   "cell_type": "code",
   "execution_count": 39,
   "metadata": {},
   "outputs": [],
   "source": [
    "# Set this path to the directory where you want to save the intermediate data and results\n",
    "ANALYSIS_DIR = Path(\"/mnt/data/proj_data/ccc-gpu/data/tutorial\")"
   ]
  },
  {
   "cell_type": "markdown",
   "metadata": {},
   "source": [
    "## Data Fetching and Preprocessing\n",
    "This section downloads:\n",
    "1. the public GTEx v8 gene TPMs data (https://www.gtexportal.org/home/downloads/adult-gtex/bulk_tissue_expression)\n",
    "2. the GTEx sample attributes file \n",
    "\n",
    "and perform preprocessing to prepare the data for the analysis."
   ]
  },
  {
   "cell_type": "markdown",
   "metadata": {},
   "source": [
    "### Download GTEx v8 gene expression data and split by tissue"
   ]
  },
  {
   "cell_type": "code",
   "execution_count": 24,
   "metadata": {},
   "outputs": [
    {
     "name": "stdout",
     "output_type": "stream",
     "text": [
      "gtex_all_sample_ids_with_expr_data already exists at /mnt/data/proj_data/ccc-gpu/data/tutorial/GTEx_Analysis_2017-06-05_v8_RNASeQCv1.1.9_gene_tpm.gct.gz\n",
      "gtex_sample_attrs already exists at /mnt/data/proj_data/ccc-gpu/data/tutorial/GTEx_Analysis_v8_Annotations_SampleAttributesDS.txt\n"
     ]
    }
   ],
   "source": [
    "# Create analysis directory if it doesn't exist\n",
    "os.makedirs(ANALYSIS_DIR, exist_ok=True)\n",
    "\n",
    "# Define files to download\n",
    "files_to_download = {\n",
    "    \"gtex_all_sample_ids_with_expr_data\": \"https://storage.googleapis.com/adult-gtex/bulk-gex/v8/rna-seq/GTEx_Analysis_2017-06-05_v8_RNASeQCv1.1.9_gene_tpm.gct.gz\",\n",
    "    \"gtex_sample_attrs\": \"https://storage.googleapis.com/adult-gtex/annotations/v8/metadata-files/GTEx_Analysis_v8_Annotations_SampleAttributesDS.txt\"\n",
    "}\n",
    "\n",
    "# Dictionary to store file paths\n",
    "file_paths = {}\n",
    "\n",
    "# Download files\n",
    "for var_name, url in files_to_download.items():\n",
    "    filename = Path(url).name\n",
    "    file_path = Path(ANALYSIS_DIR) / filename\n",
    "    file_paths[var_name] = file_path\n",
    "    \n",
    "    if not file_path.exists():\n",
    "        print(f\"Downloading {var_name} to {file_path}\")\n",
    "        urllib.request.urlretrieve(url, file_path)\n",
    "        print(\"Download completed!\")\n",
    "    else:\n",
    "        print(f\"{var_name} already exists at {file_path}\")"
   ]
  },
  {
   "cell_type": "code",
   "execution_count": 25,
   "metadata": {},
   "outputs": [
    {
     "name": "stdout",
     "output_type": "stream",
     "text": [
      "GTEx sample attributes shape: (22951, 63)\n",
      "GTEx sample attributes columns: Index(['SAMPID', 'SMATSSCR', 'SMCENTER', 'SMPTHNTS', 'SMRIN', 'SMTS', 'SMTSD',\n",
      "       'SMUBRID', 'SMTSISCH', 'SMTSPAX', 'SMNABTCH', 'SMNABTCHT', 'SMNABTCHD',\n",
      "       'SMGEBTCH', 'SMGEBTCHD', 'SMGEBTCHT', 'SMAFRZE', 'SMGTC', 'SME2MPRT',\n",
      "       'SMCHMPRS', 'SMNTRART', 'SMNUMGPS', 'SMMAPRT', 'SMEXNCRT', 'SM550NRM',\n",
      "       'SMGNSDTC', 'SMUNMPRT', 'SM350NRM', 'SMRDLGTH', 'SMMNCPB', 'SME1MMRT',\n",
      "       'SMSFLGTH', 'SMESTLBS', 'SMMPPD', 'SMNTERRT', 'SMRRNANM', 'SMRDTTL',\n",
      "       'SMVQCFL', 'SMMNCV', 'SMTRSCPT', 'SMMPPDPR', 'SMCGLGTH', 'SMGAPPCT',\n",
      "       'SMUNPDRD', 'SMNTRNRT', 'SMMPUNRT', 'SMEXPEFF', 'SMMPPDUN', 'SME2MMRT',\n",
      "       'SME2ANTI', 'SMALTALG', 'SME2SNSE', 'SMMFLGTH', 'SME1ANTI', 'SMSPLTRD',\n",
      "       'SMBSMMRT', 'SME1SNSE', 'SME1PCTS', 'SMRRNART', 'SME1MPRT', 'SMNUM5CD',\n",
      "       'SMDPMPRT', 'SME2PCTS'],\n",
      "      dtype='object')\n"
     ]
    }
   ],
   "source": [
    "gtex_sample_attrs = pd.read_csv(file_paths[\"gtex_sample_attrs\"], sep=\"\\t\")\n",
    "print(f\"GTEx sample attributes shape: {gtex_sample_attrs.shape}\")\n",
    "print(f\"GTEx sample attributes columns: {gtex_sample_attrs.columns}\")"
   ]
  },
  {
   "cell_type": "code",
   "execution_count": 26,
   "metadata": {},
   "outputs": [
    {
     "name": "stdout",
     "output_type": "stream",
     "text": [
      "55\n",
      "['Whole Blood' 'Brain - Frontal Cortex (BA9)' 'Adipose - Subcutaneous'\n",
      " 'Muscle - Skeletal' 'Artery - Tibial' 'Artery - Coronary'\n",
      " 'Heart - Atrial Appendage' 'Adipose - Visceral (Omentum)' 'Ovary'\n",
      " 'Uterus' 'Vagina' 'Breast - Mammary Tissue'\n",
      " 'Skin - Not Sun Exposed (Suprapubic)' 'Minor Salivary Gland'\n",
      " 'Brain - Cortex' 'Adrenal Gland' 'Thyroid' 'Lung' 'Spleen' 'Pancreas'\n",
      " 'Esophagus - Muscularis' 'Esophagus - Mucosa'\n",
      " 'Esophagus - Gastroesophageal Junction' 'Stomach' 'Colon - Sigmoid'\n",
      " 'Small Intestine - Terminal Ileum' 'Colon - Transverse' 'Prostate'\n",
      " 'Testis' 'Skin - Sun Exposed (Lower leg)' 'Nerve - Tibial'\n",
      " 'Heart - Left Ventricle' 'Pituitary' 'Brain - Cerebellum'\n",
      " 'Cells - Cultured fibroblasts' 'Artery - Aorta'\n",
      " 'Cells - EBV-transformed lymphocytes' 'Brain - Cerebellar Hemisphere'\n",
      " 'Brain - Caudate (basal ganglia)'\n",
      " 'Brain - Nucleus accumbens (basal ganglia)'\n",
      " 'Brain - Putamen (basal ganglia)' 'Brain - Hypothalamus'\n",
      " 'Brain - Spinal cord (cervical c-1)' 'Liver' 'Brain - Hippocampus'\n",
      " 'Brain - Anterior cingulate cortex (BA24)' 'Brain - Substantia nigra'\n",
      " 'Kidney - Cortex' 'Brain - Amygdala' 'Cervix - Ectocervix'\n",
      " 'Fallopian Tube' 'Cervix - Endocervix' 'Bladder' 'Kidney - Medulla'\n",
      " 'Cells - Leukemia cell line (CML)']\n"
     ]
    }
   ],
   "source": [
    "# Get tissue names\n",
    "gtex_tissues = gtex_sample_attrs[\"SMTSD\"].unique()\n",
    "print(len(gtex_tissues))\n",
    "print(gtex_tissues)"
   ]
  },
  {
   "cell_type": "markdown",
   "metadata": {},
   "source": [
    "#### Get sample IDs for each tissue"
   ]
  },
  {
   "cell_type": "code",
   "execution_count": 27,
   "metadata": {},
   "outputs": [
    {
     "name": "stdout",
     "output_type": "stream",
     "text": [
      "Number of samples with expression data: 17382\n",
      "Sample IDs with expression data: ['GTEX-1H3NZ-3026-SM-9JGHW', 'GTEX-XOT4-0526-SM-4B66O', 'GTEX-1N2EF-0526-SM-E76OK', 'GTEX-1F88E-0626-SM-7PC3C', 'GTEX-139T4-0126-SM-5HL5G', 'GTEX-QLQW-0226-SM-447BJ', 'GTEX-UJMC-1326-SM-4IHLS', 'GTEX-1HCU7-0001-SM-EZ6LZ', 'GTEX-Q2AG-0011-R8A-SM-2HMK5', 'GTEX-ZXG5-0826-SM-5GID6']\n"
     ]
    }
   ],
   "source": [
    "# first, get all sample IDs with expression data\n",
    "gtex_all_sample_ids_with_expr_data = set(\n",
    "    pd.read_csv(\n",
    "        file_paths[\"gtex_all_sample_ids_with_expr_data\"],\n",
    "        sep=\"\\t\",\n",
    "        skiprows=2,\n",
    "        nrows=1,\n",
    "        usecols=lambda x: x not in (\"Name\", \"Description\"),\n",
    "    ).columns\n",
    ")\n",
    "\n",
    "print(f\"Number of samples with expression data: {len(gtex_all_sample_ids_with_expr_data)}\")\n",
    "print(f\"Sample IDs with expression data: {list(gtex_all_sample_ids_with_expr_data)[:10]}\")"
   ]
  },
  {
   "cell_type": "code",
   "execution_count": 28,
   "metadata": {},
   "outputs": [],
   "source": [
    "# get sample IDs by tissue\n",
    "sample_ids_by_tissue = {\n",
    "    tissue_name: sorted(\n",
    "        list(\n",
    "            gtex_all_sample_ids_with_expr_data.intersection(\n",
    "                set(\n",
    "                    gtex_sample_attrs[gtex_sample_attrs[\"SMTSD\"] == tissue_name][\n",
    "                        \"SAMPID\"\n",
    "                    ].tolist()\n",
    "                )\n",
    "            )\n",
    "        )\n",
    "    )\n",
    "    for tissue_name in gtex_tissues\n",
    "}\n",
    "\n",
    "assert len(gtex_tissues) == len(sample_ids_by_tissue)"
   ]
  },
  {
   "cell_type": "markdown",
   "metadata": {},
   "source": []
  },
  {
   "cell_type": "code",
   "execution_count": 29,
   "metadata": {},
   "outputs": [
    {
     "data": {
      "text/plain": [
       "['GTEX-111YS-0006-SM-5NQBE',\n",
       " 'GTEX-1122O-0005-SM-5O99J',\n",
       " 'GTEX-1128S-0005-SM-5P9HI',\n",
       " 'GTEX-113IC-0006-SM-5NQ9C',\n",
       " 'GTEX-113JC-0006-SM-5O997',\n",
       " 'GTEX-117XS-0005-SM-5PNU6',\n",
       " 'GTEX-117YW-0005-SM-5NQ8Z',\n",
       " 'GTEX-1192W-0005-SM-5NQBQ',\n",
       " 'GTEX-1192X-0005-SM-5NQC3',\n",
       " 'GTEX-11DXW-0006-SM-5NQ7Y']"
      ]
     },
     "execution_count": 29,
     "metadata": {},
     "output_type": "execute_result"
    }
   ],
   "source": [
    "sample_ids_by_tissue[\"Whole Blood\"][:10]"
   ]
  },
  {
   "cell_type": "code",
   "execution_count": 30,
   "metadata": {},
   "outputs": [],
   "source": [
    "# Ensure all IDs are unique\n",
    "assert all(\n",
    "    [\n",
    "        len(sample_ids_by_tissue[tissue_name])\n",
    "        == len(set(sample_ids_by_tissue[tissue_name]))\n",
    "        for tissue_name in sample_ids_by_tissue.keys()\n",
    "    ]\n",
    ")"
   ]
  },
  {
   "cell_type": "markdown",
   "metadata": {},
   "source": [
    "#### Show sample size by tissue"
   ]
  },
  {
   "cell_type": "code",
   "execution_count": 31,
   "metadata": {},
   "outputs": [
    {
     "data": {
      "text/html": [
       "<div>\n",
       "<style scoped>\n",
       "    .dataframe tbody tr th:only-of-type {\n",
       "        vertical-align: middle;\n",
       "    }\n",
       "\n",
       "    .dataframe tbody tr th {\n",
       "        vertical-align: top;\n",
       "    }\n",
       "\n",
       "    .dataframe thead th {\n",
       "        text-align: right;\n",
       "    }\n",
       "</style>\n",
       "<table border=\"1\" class=\"dataframe\">\n",
       "  <thead>\n",
       "    <tr style=\"text-align: right;\">\n",
       "      <th></th>\n",
       "      <th>tissue</th>\n",
       "      <th>sample_size</th>\n",
       "    </tr>\n",
       "  </thead>\n",
       "  <tbody>\n",
       "    <tr>\n",
       "      <th>3</th>\n",
       "      <td>Muscle - Skeletal</td>\n",
       "      <td>803</td>\n",
       "    </tr>\n",
       "    <tr>\n",
       "      <th>0</th>\n",
       "      <td>Whole Blood</td>\n",
       "      <td>755</td>\n",
       "    </tr>\n",
       "    <tr>\n",
       "      <th>29</th>\n",
       "      <td>Skin - Sun Exposed (Lower leg)</td>\n",
       "      <td>701</td>\n",
       "    </tr>\n",
       "    <tr>\n",
       "      <th>4</th>\n",
       "      <td>Artery - Tibial</td>\n",
       "      <td>663</td>\n",
       "    </tr>\n",
       "    <tr>\n",
       "      <th>2</th>\n",
       "      <td>Adipose - Subcutaneous</td>\n",
       "      <td>663</td>\n",
       "    </tr>\n",
       "    <tr>\n",
       "      <th>16</th>\n",
       "      <td>Thyroid</td>\n",
       "      <td>653</td>\n",
       "    </tr>\n",
       "    <tr>\n",
       "      <th>30</th>\n",
       "      <td>Nerve - Tibial</td>\n",
       "      <td>619</td>\n",
       "    </tr>\n",
       "    <tr>\n",
       "      <th>12</th>\n",
       "      <td>Skin - Not Sun Exposed (Suprapubic)</td>\n",
       "      <td>604</td>\n",
       "    </tr>\n",
       "    <tr>\n",
       "      <th>17</th>\n",
       "      <td>Lung</td>\n",
       "      <td>578</td>\n",
       "    </tr>\n",
       "    <tr>\n",
       "      <th>21</th>\n",
       "      <td>Esophagus - Mucosa</td>\n",
       "      <td>555</td>\n",
       "    </tr>\n",
       "    <tr>\n",
       "      <th>7</th>\n",
       "      <td>Adipose - Visceral (Omentum)</td>\n",
       "      <td>541</td>\n",
       "    </tr>\n",
       "    <tr>\n",
       "      <th>20</th>\n",
       "      <td>Esophagus - Muscularis</td>\n",
       "      <td>515</td>\n",
       "    </tr>\n",
       "    <tr>\n",
       "      <th>34</th>\n",
       "      <td>Cells - Cultured fibroblasts</td>\n",
       "      <td>504</td>\n",
       "    </tr>\n",
       "    <tr>\n",
       "      <th>11</th>\n",
       "      <td>Breast - Mammary Tissue</td>\n",
       "      <td>459</td>\n",
       "    </tr>\n",
       "    <tr>\n",
       "      <th>31</th>\n",
       "      <td>Heart - Left Ventricle</td>\n",
       "      <td>432</td>\n",
       "    </tr>\n",
       "    <tr>\n",
       "      <th>35</th>\n",
       "      <td>Artery - Aorta</td>\n",
       "      <td>432</td>\n",
       "    </tr>\n",
       "    <tr>\n",
       "      <th>6</th>\n",
       "      <td>Heart - Atrial Appendage</td>\n",
       "      <td>429</td>\n",
       "    </tr>\n",
       "    <tr>\n",
       "      <th>26</th>\n",
       "      <td>Colon - Transverse</td>\n",
       "      <td>406</td>\n",
       "    </tr>\n",
       "    <tr>\n",
       "      <th>22</th>\n",
       "      <td>Esophagus - Gastroesophageal Junction</td>\n",
       "      <td>375</td>\n",
       "    </tr>\n",
       "    <tr>\n",
       "      <th>24</th>\n",
       "      <td>Colon - Sigmoid</td>\n",
       "      <td>373</td>\n",
       "    </tr>\n",
       "    <tr>\n",
       "      <th>28</th>\n",
       "      <td>Testis</td>\n",
       "      <td>361</td>\n",
       "    </tr>\n",
       "    <tr>\n",
       "      <th>23</th>\n",
       "      <td>Stomach</td>\n",
       "      <td>359</td>\n",
       "    </tr>\n",
       "    <tr>\n",
       "      <th>19</th>\n",
       "      <td>Pancreas</td>\n",
       "      <td>328</td>\n",
       "    </tr>\n",
       "    <tr>\n",
       "      <th>32</th>\n",
       "      <td>Pituitary</td>\n",
       "      <td>283</td>\n",
       "    </tr>\n",
       "    <tr>\n",
       "      <th>15</th>\n",
       "      <td>Adrenal Gland</td>\n",
       "      <td>258</td>\n",
       "    </tr>\n",
       "    <tr>\n",
       "      <th>14</th>\n",
       "      <td>Brain - Cortex</td>\n",
       "      <td>255</td>\n",
       "    </tr>\n",
       "    <tr>\n",
       "      <th>38</th>\n",
       "      <td>Brain - Caudate (basal ganglia)</td>\n",
       "      <td>246</td>\n",
       "    </tr>\n",
       "    <tr>\n",
       "      <th>39</th>\n",
       "      <td>Brain - Nucleus accumbens (basal ganglia)</td>\n",
       "      <td>246</td>\n",
       "    </tr>\n",
       "    <tr>\n",
       "      <th>27</th>\n",
       "      <td>Prostate</td>\n",
       "      <td>245</td>\n",
       "    </tr>\n",
       "    <tr>\n",
       "      <th>18</th>\n",
       "      <td>Spleen</td>\n",
       "      <td>241</td>\n",
       "    </tr>\n",
       "    <tr>\n",
       "      <th>33</th>\n",
       "      <td>Brain - Cerebellum</td>\n",
       "      <td>241</td>\n",
       "    </tr>\n",
       "    <tr>\n",
       "      <th>5</th>\n",
       "      <td>Artery - Coronary</td>\n",
       "      <td>240</td>\n",
       "    </tr>\n",
       "    <tr>\n",
       "      <th>43</th>\n",
       "      <td>Liver</td>\n",
       "      <td>226</td>\n",
       "    </tr>\n",
       "    <tr>\n",
       "      <th>37</th>\n",
       "      <td>Brain - Cerebellar Hemisphere</td>\n",
       "      <td>215</td>\n",
       "    </tr>\n",
       "    <tr>\n",
       "      <th>1</th>\n",
       "      <td>Brain - Frontal Cortex (BA9)</td>\n",
       "      <td>209</td>\n",
       "    </tr>\n",
       "    <tr>\n",
       "      <th>40</th>\n",
       "      <td>Brain - Putamen (basal ganglia)</td>\n",
       "      <td>205</td>\n",
       "    </tr>\n",
       "    <tr>\n",
       "      <th>41</th>\n",
       "      <td>Brain - Hypothalamus</td>\n",
       "      <td>202</td>\n",
       "    </tr>\n",
       "    <tr>\n",
       "      <th>44</th>\n",
       "      <td>Brain - Hippocampus</td>\n",
       "      <td>197</td>\n",
       "    </tr>\n",
       "    <tr>\n",
       "      <th>25</th>\n",
       "      <td>Small Intestine - Terminal Ileum</td>\n",
       "      <td>187</td>\n",
       "    </tr>\n",
       "    <tr>\n",
       "      <th>8</th>\n",
       "      <td>Ovary</td>\n",
       "      <td>180</td>\n",
       "    </tr>\n",
       "    <tr>\n",
       "      <th>45</th>\n",
       "      <td>Brain - Anterior cingulate cortex (BA24)</td>\n",
       "      <td>176</td>\n",
       "    </tr>\n",
       "    <tr>\n",
       "      <th>36</th>\n",
       "      <td>Cells - EBV-transformed lymphocytes</td>\n",
       "      <td>174</td>\n",
       "    </tr>\n",
       "    <tr>\n",
       "      <th>13</th>\n",
       "      <td>Minor Salivary Gland</td>\n",
       "      <td>162</td>\n",
       "    </tr>\n",
       "    <tr>\n",
       "      <th>42</th>\n",
       "      <td>Brain - Spinal cord (cervical c-1)</td>\n",
       "      <td>159</td>\n",
       "    </tr>\n",
       "    <tr>\n",
       "      <th>10</th>\n",
       "      <td>Vagina</td>\n",
       "      <td>156</td>\n",
       "    </tr>\n",
       "    <tr>\n",
       "      <th>48</th>\n",
       "      <td>Brain - Amygdala</td>\n",
       "      <td>152</td>\n",
       "    </tr>\n",
       "    <tr>\n",
       "      <th>9</th>\n",
       "      <td>Uterus</td>\n",
       "      <td>142</td>\n",
       "    </tr>\n",
       "    <tr>\n",
       "      <th>46</th>\n",
       "      <td>Brain - Substantia nigra</td>\n",
       "      <td>139</td>\n",
       "    </tr>\n",
       "    <tr>\n",
       "      <th>47</th>\n",
       "      <td>Kidney - Cortex</td>\n",
       "      <td>85</td>\n",
       "    </tr>\n",
       "    <tr>\n",
       "      <th>52</th>\n",
       "      <td>Bladder</td>\n",
       "      <td>21</td>\n",
       "    </tr>\n",
       "    <tr>\n",
       "      <th>51</th>\n",
       "      <td>Cervix - Endocervix</td>\n",
       "      <td>10</td>\n",
       "    </tr>\n",
       "    <tr>\n",
       "      <th>50</th>\n",
       "      <td>Fallopian Tube</td>\n",
       "      <td>9</td>\n",
       "    </tr>\n",
       "    <tr>\n",
       "      <th>49</th>\n",
       "      <td>Cervix - Ectocervix</td>\n",
       "      <td>9</td>\n",
       "    </tr>\n",
       "    <tr>\n",
       "      <th>53</th>\n",
       "      <td>Kidney - Medulla</td>\n",
       "      <td>4</td>\n",
       "    </tr>\n",
       "    <tr>\n",
       "      <th>54</th>\n",
       "      <td>Cells - Leukemia cell line (CML)</td>\n",
       "      <td>0</td>\n",
       "    </tr>\n",
       "  </tbody>\n",
       "</table>\n",
       "</div>"
      ],
      "text/plain": [
       "                                       tissue  sample_size\n",
       "3                           Muscle - Skeletal          803\n",
       "0                                 Whole Blood          755\n",
       "29             Skin - Sun Exposed (Lower leg)          701\n",
       "4                             Artery - Tibial          663\n",
       "2                      Adipose - Subcutaneous          663\n",
       "16                                    Thyroid          653\n",
       "30                             Nerve - Tibial          619\n",
       "12        Skin - Not Sun Exposed (Suprapubic)          604\n",
       "17                                       Lung          578\n",
       "21                         Esophagus - Mucosa          555\n",
       "7                Adipose - Visceral (Omentum)          541\n",
       "20                     Esophagus - Muscularis          515\n",
       "34               Cells - Cultured fibroblasts          504\n",
       "11                    Breast - Mammary Tissue          459\n",
       "31                     Heart - Left Ventricle          432\n",
       "35                             Artery - Aorta          432\n",
       "6                    Heart - Atrial Appendage          429\n",
       "26                         Colon - Transverse          406\n",
       "22      Esophagus - Gastroesophageal Junction          375\n",
       "24                            Colon - Sigmoid          373\n",
       "28                                     Testis          361\n",
       "23                                    Stomach          359\n",
       "19                                   Pancreas          328\n",
       "32                                  Pituitary          283\n",
       "15                              Adrenal Gland          258\n",
       "14                             Brain - Cortex          255\n",
       "38            Brain - Caudate (basal ganglia)          246\n",
       "39  Brain - Nucleus accumbens (basal ganglia)          246\n",
       "27                                   Prostate          245\n",
       "18                                     Spleen          241\n",
       "33                         Brain - Cerebellum          241\n",
       "5                           Artery - Coronary          240\n",
       "43                                      Liver          226\n",
       "37              Brain - Cerebellar Hemisphere          215\n",
       "1                Brain - Frontal Cortex (BA9)          209\n",
       "40            Brain - Putamen (basal ganglia)          205\n",
       "41                       Brain - Hypothalamus          202\n",
       "44                        Brain - Hippocampus          197\n",
       "25           Small Intestine - Terminal Ileum          187\n",
       "8                                       Ovary          180\n",
       "45   Brain - Anterior cingulate cortex (BA24)          176\n",
       "36        Cells - EBV-transformed lymphocytes          174\n",
       "13                       Minor Salivary Gland          162\n",
       "42         Brain - Spinal cord (cervical c-1)          159\n",
       "10                                     Vagina          156\n",
       "48                           Brain - Amygdala          152\n",
       "9                                      Uterus          142\n",
       "46                   Brain - Substantia nigra          139\n",
       "47                            Kidney - Cortex           85\n",
       "52                                    Bladder           21\n",
       "51                        Cervix - Endocervix           10\n",
       "50                             Fallopian Tube            9\n",
       "49                        Cervix - Ectocervix            9\n",
       "53                           Kidney - Medulla            4\n",
       "54           Cells - Leukemia cell line (CML)            0"
      ]
     },
     "metadata": {},
     "output_type": "display_data"
    }
   ],
   "source": [
    "tissue_sample_size = pd.DataFrame(\n",
    "    [{\"tissue\": k, \"sample_size\": len(v)} for k, v in sample_ids_by_tissue.items()]\n",
    ")\n",
    "\n",
    "tissue_sample_size = tissue_sample_size.sort_values(\"sample_size\", ascending=False)\n",
    "display(tissue_sample_size)"
   ]
  },
  {
   "cell_type": "code",
   "execution_count": 32,
   "metadata": {},
   "outputs": [],
   "source": [
    "# Simple validations\n",
    "_tmp = tissue_sample_size.set_index(\"tissue\").squeeze()\n",
    "assert _tmp.loc[\"Muscle - Skeletal\"] == 803\n",
    "assert _tmp.loc[\"Whole Blood\"] == 755\n",
    "assert _tmp.loc[\"Skin - Not Sun Exposed (Suprapubic)\"] == 604\n",
    "assert _tmp.loc[\"Kidney - Medulla\"] == 4"
   ]
  },
  {
   "cell_type": "markdown",
   "metadata": {},
   "source": [
    "These numbers match those you can find here: https://gtexportal.org/home/tissueSummaryPage#sampleCountsPerTissue"
   ]
  },
  {
   "cell_type": "markdown",
   "metadata": {},
   "source": [
    "### Split expression data by tissue"
   ]
  },
  {
   "cell_type": "code",
   "execution_count": 33,
   "metadata": {},
   "outputs": [
    {
     "name": "stderr",
     "output_type": "stream",
     "text": [
      "Muscle - Skeletal:   0%|                                                                                                           | 0/55 [00:00<?, ?it/s]"
     ]
    },
    {
     "name": "stderr",
     "output_type": "stream",
     "text": [
      "Cells - Leukemia cell line (CML): 100%|███████████████████████████████████████████████████████████████████████████████████| 55/55 [24:07<00:00, 26.31s/it]\n"
     ]
    }
   ],
   "source": [
    "TISSUE_DATA_DIR = ANALYSIS_DIR / \"data_by_tissue\"\n",
    "TISSUE_DATA_DIR.mkdir(parents=True, exist_ok=True)\n",
    "\n",
    "pbar = tqdm(tissue_sample_size[\"tissue\"])\n",
    "\n",
    "gene_id_symbol_map_tuples = set()\n",
    "\n",
    "for tissue_name in pbar:\n",
    "    pbar.set_description(tissue_name)\n",
    "\n",
    "    tissue_ids = sample_ids_by_tissue[tissue_name]\n",
    "    if len(tissue_ids) == 0:\n",
    "        continue\n",
    "\n",
    "    # Generate output filename\n",
    "    tissue_name_simple = simplify_string(simplify_string(tissue_name.lower()))\n",
    "    output_file = TISSUE_DATA_DIR / f\"gtex_v8_data_{tissue_name_simple}.pkl\"\n",
    "    \n",
    "    # Skip if file already exists\n",
    "    if output_file.exists():\n",
    "        print(f\"Skipping {tissue_name} - file already exists\")\n",
    "        continue\n",
    "\n",
    "    try:\n",
    "        tissue_data = pd.read_csv(\n",
    "            file_paths[\"gtex_all_sample_ids_with_expr_data\"],\n",
    "            sep=\"\\t\",\n",
    "            skiprows=2,\n",
    "            usecols=[\"Name\", \"Description\"] + tissue_ids,\n",
    "        )\n",
    "\n",
    "        tissue_data = tissue_data.rename(\n",
    "            columns={\n",
    "                \"Name\": \"gene_ens_id\",\n",
    "                \"Description\": \"gene_symbol\",\n",
    "            }\n",
    "        )\n",
    "\n",
    "        # Validate data before processing\n",
    "        if tissue_data.empty:\n",
    "            print(f\"Warning: No data found for {tissue_name}\")\n",
    "            continue\n",
    "\n",
    "        # add gene id / gene symbol to mapping variable\n",
    "        gene_id_symbol_map_tuples.update(\n",
    "            tissue_data[[\"gene_ens_id\", \"gene_symbol\"]].itertuples(index=False)\n",
    "        )\n",
    "\n",
    "        tissue_data = tissue_data.drop(columns=[\"gene_symbol\"]).set_index(\"gene_ens_id\")\n",
    "\n",
    "        # Data quality checks\n",
    "        assert not tissue_data.isna().any().any(), f\"NaN values found in {tissue_name}\"\n",
    "        assert tissue_data.index.is_unique, f\"Non-unique gene IDs in {tissue_name}\"\n",
    "        assert tissue_data.columns.is_unique, f\"Non-unique sample IDs in {tissue_name}\"\n",
    "\n",
    "        # save\n",
    "        tissue_data.to_pickle(path=output_file)\n",
    "        \n",
    "    except Exception as e:\n",
    "        print(f\"Error processing {tissue_name}: {str(e)}\")\n",
    "        continue"
   ]
  },
  {
   "cell_type": "code",
   "execution_count": 34,
   "metadata": {},
   "outputs": [],
   "source": [
    "# Simple validations\n",
    "_tmp = pd.read_pickle(TISSUE_DATA_DIR / \"gtex_v8_data_brain_cerebellar_hemisphere.pkl\")\n",
    "\n",
    "assert \"GTEX-11DXY-0011-R11a-SM-DNZZN\" in _tmp.columns\n",
    "assert \"GTEX-WL46-0011-R11A-SM-3MJFT\" in _tmp.columns\n",
    "assert \"GTEX-ZF28-0011-R11a-SM-4WWEI\" in _tmp.columns\n",
    "\n",
    "_v = _tmp.loc[\"ENSG00000223972.5\", \"GTEX-11DXY-0011-R11a-SM-DNZZN\"]\n",
    "assert _v == 0.04045, _v\n",
    "_v = _tmp.loc[\"ENSG00000278267.1\", \"GTEX-11DXY-0011-R11a-SM-DNZZN\"]\n",
    "assert _v == 0.0, _v\n",
    "\n",
    "_v = _tmp.loc[\"ENSG00000233327.10\", \"GTEX-WL46-0011-R11A-SM-3MJFT\"]\n",
    "assert _v == 146.4000, _v\n",
    "_v = _tmp.loc[\"ENSG00000237118.2\", \"GTEX-WL46-0011-R11A-SM-3MJFT\"]\n",
    "assert _v == 0.3357, _v\n",
    "\n",
    "_v = _tmp.loc[\"ENSG00000233327.10\", \"GTEX-ZF28-0011-R11a-SM-4WWEI\"]\n",
    "assert _v == 30.7200, _v\n",
    "_v = _tmp.loc[\"ENSG00000186907.7\", \"GTEX-ZF28-0011-R11a-SM-4WWEI\"]\n",
    "assert _v == 0.94720, _v"
   ]
  },
  {
   "cell_type": "markdown",
   "metadata": {},
   "source": [
    "### Save gene mappings"
   ]
  },
  {
   "cell_type": "code",
   "execution_count": 37,
   "metadata": {},
   "outputs": [
    {
     "name": "stdout",
     "output_type": "stream",
     "text": [
      "gene_mappings.shape: (56200, 2)\n",
      "          gene_ens_id  gene_symbol\n",
      "0  ENSG00000144278.14      GALNT13\n",
      "1   ENSG00000260976.1    LINC01633\n",
      "2  ENSG00000186660.14        ZFP91\n",
      "3  ENSG00000123560.13         PLP1\n",
      "4   ENSG00000227371.1  RP11-3L10.2\n"
     ]
    }
   ],
   "source": [
    "gene_mappings = pd.DataFrame(gene_id_symbol_map_tuples)\n",
    "print(f\"gene_mappings.shape: {gene_mappings.shape}\")\n",
    "print(gene_mappings.head())"
   ]
  },
  {
   "cell_type": "code",
   "execution_count": 41,
   "metadata": {},
   "outputs": [],
   "source": [
    "output_gene_mappings = ANALYSIS_DIR / \"gtex_gene_id_symbol_mappings.pkl\"\n",
    "gene_mappings.to_pickle(output_gene_mappings)"
   ]
  },
  {
   "cell_type": "code",
   "execution_count": 43,
   "metadata": {},
   "outputs": [],
   "source": [
    "# Simple validations\n",
    "# no null\n",
    "assert gene_mappings.dropna(how=\"any\").shape == gene_mappings.shape\n",
    "# no duplicates\n",
    "assert gene_mappings.drop_duplicates().shape == gene_mappings.shape\n",
    "\n",
    "_tmp = gene_mappings.set_index(\"gene_ens_id\").squeeze()\n",
    "assert _tmp.loc[\"ENSG00000223972.5\"] == \"DDX11L1\"\n",
    "assert _tmp.loc[\"ENSG00000243485.5\"] == \"MIR1302-2HG\"\n",
    "assert _tmp.loc[\"ENSG00000274059.1\"] == \"5S_rRNA\"  # repeated gene\n",
    "assert _tmp.loc[\"ENSG00000275305.1\"] == \"5S_rRNA\"  # repeated gene"
   ]
  },
  {
   "cell_type": "markdown",
   "metadata": {},
   "source": [
    "## Compute correlation coefficients"
   ]
  },
  {
   "cell_type": "markdown",
   "metadata": {},
   "source": [
    "We provide a command-line tool for computing CCC, Spearman, and Pearson correlations between two genes in a given tissue.\n",
    "\n",
    "```bash\n",
    "usage: compute_single_gene_pair_correlations_cli.py [-h] [--tissue TISSUE] [--data-dir DATA_DIR] [--gene-mapping GENE_MAPPING] [--list-tissues] [--show-genes TISSUE] [--n-genes N_GENES] [--debug] [genes ...]\n",
    "```"
   ]
  },
  {
   "cell_type": "code",
   "execution_count": 53,
   "metadata": {},
   "outputs": [
    {
     "name": "stderr",
     "output_type": "stream",
     "text": [
      "[2025-09-25 00:12:43,542 - root] INFO: Loading tissue data from: /mnt/data/proj_data/ccc-gpu/data/tutorial/data_by_tissue/gtex_v8_data_whole_blood.pkl\n",
      "[2025-09-25 00:12:43,691 - root] INFO: Tissue data shape: (56200, 755)\n",
      "[2025-09-25 00:12:43,692 - root] INFO: Loading gene mapping from: /mnt/data/proj_data/ccc-gpu/data/tutorial/gtex_gene_id_symbol_mappings.pkl\n",
      "[2025-09-25 00:12:43,698 - root] INFO: Loaded 56200 gene mappings\n"
     ]
    },
    {
     "name": "stdout",
     "output_type": "stream",
     "text": [
      "\n",
      "=== Tissue: whole_blood ===\n",
      "Total genes: 56,200\n",
      "Total samples: 755\n",
      "\n",
      "First 20 genes:\n",
      "------------------------------------------------------------\n",
      "#    Gene Symbol     Ensembl ID          \n",
      "------------------------------------------------------------\n",
      "1    DDX11L1         ENSG00000223972.5   \n",
      "2    WASH7P          ENSG00000227232.5   \n",
      "3    MIR6859-1       ENSG00000278267.1   \n",
      "4    MIR1302-2HG     ENSG00000243485.5   \n",
      "5    FAM138A         ENSG00000237613.2   \n",
      "6    OR4G4P          ENSG00000268020.3   \n",
      "7    OR4G11P         ENSG00000240361.1   \n",
      "8    OR4F5           ENSG00000186092.4   \n",
      "9    RP11-34P13.7    ENSG00000238009.6   \n",
      "10   CICP27          ENSG00000233750.3   \n",
      "11   RP11-34P13.15   ENSG00000268903.1   \n",
      "12   RP11-34P13.16   ENSG00000269981.1   \n",
      "13   RP11-34P13.14   ENSG00000239906.1   \n",
      "14   RP11-34P13.13   ENSG00000241860.6   \n",
      "15   RNU6-1100P      ENSG00000222623.1   \n",
      "16   RP11-34P13.9    ENSG00000241599.1   \n",
      "17   ABC7-43046700E7.1 ENSG00000279928.2   \n",
      "18   RP11-34P13.18   ENSG00000279457.4   \n",
      "19   MIR6859-2       ENSG00000273874.1   \n",
      "20   AP006222.2      ENSG00000228463.9   \n",
      "... and 56,180 more genes\n",
      "\n"
     ]
    }
   ],
   "source": [
    "# Make sure you start the notebook from the ROOT directory of the project\n",
    "\n",
    "# Preview genes in a tissue\n",
    "%run ./nbs/common/compute_single_gene_pair_correlations_cli.py --show-genes whole_blood --data-dir {TISSUE_DATA_DIR} --gene-mapping {ANALYSIS_DIR}/gtex_gene_id_symbol_mappings.pkl"
   ]
  },
  {
   "cell_type": "code",
   "execution_count": 56,
   "metadata": {},
   "outputs": [
    {
     "name": "stderr",
     "output_type": "stream",
     "text": [
      "[2025-09-25 00:14:56,603 - root] INFO: Loading gene mapping from: /mnt/data/proj_data/ccc-gpu/data/tutorial/gtex_gene_id_symbol_mappings.pkl\n",
      "[2025-09-25 00:14:56,609 - root] INFO: Loaded 56200 gene mappings\n",
      "[2025-09-25 00:14:56,614 - root] INFO: Loading tissue data from: /mnt/data/proj_data/ccc-gpu/data/tutorial/data_by_tissue/gtex_v8_data_whole_blood.pkl\n",
      "[2025-09-25 00:14:56,764 - root] INFO: Tissue data shape: (56200, 755)\n",
      "[2025-09-25 00:14:56,768 - root] INFO: Computing correlations for 755 samples\n",
      "[2025-09-25 00:14:56,773 - root] INFO: Computing CCC correlation...\n",
      "[2025-09-25 00:14:56,786 - root] INFO: Computing Pearson correlation...\n",
      "[2025-09-25 00:14:56,800 - root] INFO: Computing Spearman correlation...\n"
     ]
    },
    {
     "name": "stdout",
     "output_type": "stream",
     "text": [
      "\n",
      "============================================================\n",
      "GENE PAIR CORRELATION RESULTS\n",
      "============================================================\n",
      "Gene 1: DDX11L1 (ENSG00000223972.5)\n",
      "Gene 2: WASH7P (ENSG00000227232.5)\n",
      "Tissue: whole_blood\n",
      "Samples: 755\n",
      "------------------------------------------------------------\n",
      "         CCC: 0.005060\n",
      "     PEARSON: 0.063041\n",
      "    SPEARMAN: 0.040069\n",
      "============================================================\n",
      "\n"
     ]
    }
   ],
   "source": [
    "# Compute CCC, Spearman, and Pearson correlations between two genes in a given tissue\n",
    "%run ./nbs/common/compute_single_gene_pair_correlations_cli.py DDX11L1 WASH7P --tissue whole_blood --data-dir {TISSUE_DATA_DIR} --gene-mapping {ANALYSIS_DIR}/gtex_gene_id_symbol_mappings.pkl"
   ]
  }
 ],
 "metadata": {
  "kernelspec": {
   "display_name": "Python 3 (ipykernel)",
   "language": "python",
   "name": "python3"
  }
 },
 "nbformat": 4,
 "nbformat_minor": 2
}
