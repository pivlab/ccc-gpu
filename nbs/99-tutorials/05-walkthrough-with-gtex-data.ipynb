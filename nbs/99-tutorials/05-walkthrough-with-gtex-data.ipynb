{
 "cells": [
  {
   "cell_type": "markdown",
   "metadata": {},
   "source": [
    "# Description\n",
    "This notebook demonstrates:\n",
    "\n",
    "1. how to compute coefficients values\n",
    "2. how to correlate gene expression data with categorical metadata\n",
    "\n",
    "using CCC GPU with public data from GTEx v8."
   ]
  },
  {
   "cell_type": "markdown",
   "metadata": {},
   "source": [
    "Please follow the instructions in the [README](../README.md), section \"Quick Install with pip\" to install CCC-GPU with a conda environment `ccc-gpu-env`.\n",
    "\n",
    "Then activate the environment and start the jupyter notebook server in order to run this notebook.\n",
    "\n",
    "```bash\n",
    "conda activate ccc-gpu-env\n",
    "pip install notebook\n",
    "jupyter notebook\n",
    "```"
   ]
  },
  {
   "cell_type": "code",
   "execution_count": 1,
   "metadata": {},
   "outputs": [],
   "source": [
    "import pandas as pd\n",
    "from tqdm import tqdm\n",
    "\n",
    "from ccc.utils import simplify_string\n",
    "from ccc import conf"
   ]
  },
  {
   "cell_type": "code",
   "execution_count": 2,
   "metadata": {},
   "outputs": [],
   "source": [
    "# Set this path to the directory where you want to save the intermediate data and results\n",
    "ANALYSIS_DIR = \"/mnt/data/proj_data/ccc-gpu/data/tutorial\""
   ]
  },
  {
   "cell_type": "markdown",
   "metadata": {},
   "source": [
    "## Data Fetching and Preprocessing\n",
    "This section downloads the public GTEx v8 gene TPMs data (https://www.gtexportal.org/home/downloads/adult-gtex/bulk_tissue_expression) and preprocesses it for the analysis."
   ]
  },
  {
   "cell_type": "code",
   "execution_count": null,
   "metadata": {},
   "outputs": [],
   "source": [
    "import os\n",
    "import urllib.request\n",
    "from pathlib import Path\n",
    "\n",
    "# Create analysis directory if it doesn't exist\n",
    "os.makedirs(ANALYSIS_DIR, exist_ok=True)\n",
    "\n",
    "# Download GTEx v8 gene TPM data\n",
    "gtex_url = \"https://storage.googleapis.com/adult-gtex/bulk-gex/v8/rna-seq/GTEx_Analysis_2017-06-05_v8_RNASeQCv1.1.9_gene_tpm.gct.gz\"\n",
    "gtex_file = Path(ANALYSIS_DIR) / \"GTEx_Analysis_2017-06-05_v8_RNASeQCv1.1.9_gene_tpm.gct.gz\"\n",
    "\n",
    "if not gtex_file.exists():\n",
    "    print(f\"Downloading GTEx v8 gene TPM data to {gtex_file}\")\n",
    "    urllib.request.urlretrieve(gtex_url, gtex_file)\n",
    "    print(\"Download completed!\")\n",
    "else:\n",
    "    print(f\"GTEx data already exists at {gtex_file}\")\n"
   ]
  },
  {
   "cell_type": "markdown",
   "metadata": {},
   "source": []
  }
 ],
 "metadata": {
  "kernelspec": {
   "display_name": "Python 3 (ipykernel)",
   "language": "python",
   "name": "python3"
  },
  "language_info": {
   "codemirror_mode": {
    "name": "ipython",
    "version": 3
   },
   "file_extension": ".py",
   "mimetype": "text/x-python",
   "name": "python",
   "nbconvert_exporter": "python",
   "pygments_lexer": "ipython3",
   "version": "3.10.16"
  }
 },
 "nbformat": 4,
 "nbformat_minor": 2
}
