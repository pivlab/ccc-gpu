{
 "cells": [
  {
   "cell_type": "markdown",
   "metadata": {},
   "source": [
    "This notebook is used to reduce all the intersections into a single dataframe that continas sums for each upset plot column."
   ]
  },
  {
   "cell_type": "code",
   "execution_count": 4,
   "metadata": {},
   "outputs": [],
   "source": [
    "import pandas as pd\n",
    "import numpy as np\n",
    "import os\n",
    "\n",
    "from pathlib import Path\n",
    "\n",
    "import matplotlib.pyplot as plt\n",
    "import seaborn as sns"
   ]
  },
  {
   "cell_type": "code",
   "execution_count": 5,
   "metadata": {},
   "outputs": [],
   "source": [
    "INPUT_DIR = Path(\"/pividori_lab/haoyu_projects/ccc-gpu/results/gene_pair_intersections\")\n",
    "OUTPUT_DIR = INPUT_DIR / \"reduced\"\n",
    "\n",
    "assert INPUT_DIR.exists(), f\"Input directory {INPUT_DIR} does not exist\"\n",
    "assert OUTPUT_DIR.exists(), f\"Output directory {OUTPUT_DIR} does not exist\""
   ]
  },
  {
   "cell_type": "code",
   "execution_count": 8,
   "metadata": {},
   "outputs": [],
   "source": [
    "# Get all the intersection files for 54 tissues\n",
    "INTERSECTION_FILES = list(INPUT_DIR.glob(\"*.pkl\"))\n",
    "assert len(INTERSECTION_FILES) == 54, \"Expected 54 intersection files, got {len(INTERSECTION_FILES)}\""
   ]
  },
  {
   "cell_type": "code",
   "execution_count": 9,
   "metadata": {},
   "outputs": [
    {
     "data": {
      "text/html": [
       "<div>\n",
       "<style scoped>\n",
       "    .dataframe tbody tr th:only-of-type {\n",
       "        vertical-align: middle;\n",
       "    }\n",
       "\n",
       "    .dataframe tbody tr th {\n",
       "        vertical-align: top;\n",
       "    }\n",
       "\n",
       "    .dataframe thead th {\n",
       "        text-align: right;\n",
       "    }\n",
       "</style>\n",
       "<table border=\"1\" class=\"dataframe\">\n",
       "  <thead>\n",
       "    <tr style=\"text-align: right;\">\n",
       "      <th></th>\n",
       "      <th></th>\n",
       "      <th>Pearson (high)</th>\n",
       "      <th>Pearson (low)</th>\n",
       "      <th>Spearman (high)</th>\n",
       "      <th>Spearman (low)</th>\n",
       "      <th>Clustermatch (high)</th>\n",
       "      <th>Clustermatch (low)</th>\n",
       "      <th>ccc</th>\n",
       "      <th>pearson</th>\n",
       "      <th>spearman</th>\n",
       "    </tr>\n",
       "  </thead>\n",
       "  <tbody>\n",
       "    <tr>\n",
       "      <th>ENSG00000102837.6</th>\n",
       "      <th>ENSG00000163810.11</th>\n",
       "      <td>False</td>\n",
       "      <td>False</td>\n",
       "      <td>True</td>\n",
       "      <td>False</td>\n",
       "      <td>False</td>\n",
       "      <td>False</td>\n",
       "      <td>0.014091</td>\n",
       "      <td>0.067688</td>\n",
       "      <td>0.122864</td>\n",
       "    </tr>\n",
       "    <tr>\n",
       "      <th rowspan=\"2\" valign=\"top\">ENSG00000134184.12</th>\n",
       "      <th>ENSG00000163810.11</th>\n",
       "      <td>False</td>\n",
       "      <td>True</td>\n",
       "      <td>False</td>\n",
       "      <td>True</td>\n",
       "      <td>False</td>\n",
       "      <td>False</td>\n",
       "      <td>0.009598</td>\n",
       "      <td>0.008987</td>\n",
       "      <td>0.003052</td>\n",
       "    </tr>\n",
       "    <tr>\n",
       "      <th>ENSG00000102837.6</th>\n",
       "      <td>True</td>\n",
       "      <td>False</td>\n",
       "      <td>False</td>\n",
       "      <td>True</td>\n",
       "      <td>True</td>\n",
       "      <td>False</td>\n",
       "      <td>0.016708</td>\n",
       "      <td>0.367920</td>\n",
       "      <td>0.032928</td>\n",
       "    </tr>\n",
       "    <tr>\n",
       "      <th rowspan=\"2\" valign=\"top\">ENSG00000142515.14</th>\n",
       "      <th>ENSG00000163810.11</th>\n",
       "      <td>True</td>\n",
       "      <td>False</td>\n",
       "      <td>True</td>\n",
       "      <td>False</td>\n",
       "      <td>True</td>\n",
       "      <td>False</td>\n",
       "      <td>0.035004</td>\n",
       "      <td>0.253662</td>\n",
       "      <td>0.308105</td>\n",
       "    </tr>\n",
       "    <tr>\n",
       "      <th>ENSG00000102837.6</th>\n",
       "      <td>True</td>\n",
       "      <td>False</td>\n",
       "      <td>True</td>\n",
       "      <td>False</td>\n",
       "      <td>True</td>\n",
       "      <td>False</td>\n",
       "      <td>0.035797</td>\n",
       "      <td>0.174561</td>\n",
       "      <td>0.129883</td>\n",
       "    </tr>\n",
       "  </tbody>\n",
       "</table>\n",
       "</div>"
      ],
      "text/plain": [
       "                                       Pearson (high)  Pearson (low)  \\\n",
       "ENSG00000102837.6  ENSG00000163810.11           False          False   \n",
       "ENSG00000134184.12 ENSG00000163810.11           False           True   \n",
       "                   ENSG00000102837.6             True          False   \n",
       "ENSG00000142515.14 ENSG00000163810.11            True          False   \n",
       "                   ENSG00000102837.6             True          False   \n",
       "\n",
       "                                       Spearman (high)  Spearman (low)  \\\n",
       "ENSG00000102837.6  ENSG00000163810.11             True           False   \n",
       "ENSG00000134184.12 ENSG00000163810.11            False            True   \n",
       "                   ENSG00000102837.6             False            True   \n",
       "ENSG00000142515.14 ENSG00000163810.11             True           False   \n",
       "                   ENSG00000102837.6              True           False   \n",
       "\n",
       "                                       Clustermatch (high)  \\\n",
       "ENSG00000102837.6  ENSG00000163810.11                False   \n",
       "ENSG00000134184.12 ENSG00000163810.11                False   \n",
       "                   ENSG00000102837.6                  True   \n",
       "ENSG00000142515.14 ENSG00000163810.11                 True   \n",
       "                   ENSG00000102837.6                  True   \n",
       "\n",
       "                                       Clustermatch (low)       ccc   pearson  \\\n",
       "ENSG00000102837.6  ENSG00000163810.11               False  0.014091  0.067688   \n",
       "ENSG00000134184.12 ENSG00000163810.11               False  0.009598  0.008987   \n",
       "                   ENSG00000102837.6                False  0.016708  0.367920   \n",
       "ENSG00000142515.14 ENSG00000163810.11               False  0.035004  0.253662   \n",
       "                   ENSG00000102837.6                False  0.035797  0.174561   \n",
       "\n",
       "                                       spearman  \n",
       "ENSG00000102837.6  ENSG00000163810.11  0.122864  \n",
       "ENSG00000134184.12 ENSG00000163810.11  0.003052  \n",
       "                   ENSG00000102837.6   0.032928  \n",
       "ENSG00000142515.14 ENSG00000163810.11  0.308105  \n",
       "                   ENSG00000102837.6   0.129883  "
      ]
     },
     "execution_count": 9,
     "metadata": {},
     "output_type": "execute_result"
    }
   ],
   "source": [
    "test_file = INTERSECTION_FILES[0]\n",
    "\n",
    "df = pd.read_pickle(test_file)\n",
    "\n",
    "df.head()"
   ]
  },
  {
   "cell_type": "code",
   "execution_count": 11,
   "metadata": {},
   "outputs": [
    {
     "data": {
      "text/plain": [
       "(1395161076, 9)"
      ]
     },
     "execution_count": 11,
     "metadata": {},
     "output_type": "execute_result"
    }
   ],
   "source": [
    "df.shape"
   ]
  },
  {
   "cell_type": "code",
   "execution_count": 12,
   "metadata": {},
   "outputs": [
    {
     "data": {
      "text/plain": [
       "MultiIndex([( 'ENSG00000102837.6', 'ENSG00000163810.11'),\n",
       "            ('ENSG00000134184.12', 'ENSG00000163810.11'),\n",
       "            ('ENSG00000134184.12',  'ENSG00000102837.6'),\n",
       "            ('ENSG00000142515.14', 'ENSG00000163810.11'),\n",
       "            ('ENSG00000142515.14',  'ENSG00000102837.6'),\n",
       "            ('ENSG00000142515.14', 'ENSG00000134184.12'),\n",
       "            ( 'ENSG00000224114.1', 'ENSG00000163810.11'),\n",
       "            ( 'ENSG00000224114.1',  'ENSG00000102837.6'),\n",
       "            ( 'ENSG00000224114.1', 'ENSG00000134184.12'),\n",
       "            ( 'ENSG00000224114.1', 'ENSG00000142515.14'),\n",
       "            ...\n",
       "            ('ENSG00000205916.11',  'ENSG00000280059.1'),\n",
       "            ('ENSG00000205916.11',  'ENSG00000212856.5'),\n",
       "            ('ENSG00000205916.11',  'ENSG00000235059.5'),\n",
       "            ('ENSG00000205916.11', 'ENSG00000188120.14'),\n",
       "            ('ENSG00000205916.11',  'ENSG00000248434.1'),\n",
       "            ('ENSG00000205916.11',  'ENSG00000235274.1'),\n",
       "            ('ENSG00000205916.11',  'ENSG00000223417.8'),\n",
       "            ('ENSG00000205916.11',  'ENSG00000250868.4'),\n",
       "            ('ENSG00000205916.11',  'ENSG00000234803.7'),\n",
       "            ('ENSG00000205916.11',  'ENSG00000251588.2')],\n",
       "           length=1395161076)"
      ]
     },
     "execution_count": 12,
     "metadata": {},
     "output_type": "execute_result"
    }
   ],
   "source": [
    "df.index"
   ]
  }
 ],
 "metadata": {
  "kernelspec": {
   "display_name": "Python 3 (ipykernel)",
   "language": "python",
   "name": "python3"
  },
  "language_info": {
   "codemirror_mode": {
    "name": "ipython",
    "version": 3
   },
   "file_extension": ".py",
   "mimetype": "text/x-python",
   "name": "python",
   "nbconvert_exporter": "python",
   "pygments_lexer": "ipython3",
   "version": "3.10.16"
  }
 },
 "nbformat": 4,
 "nbformat_minor": 2
}
