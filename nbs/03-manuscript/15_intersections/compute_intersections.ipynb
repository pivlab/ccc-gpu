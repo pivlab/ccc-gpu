{
 "cells": [
  {
   "cell_type": "markdown",
   "id": "87e0ce1b-7ce6-4499-9342-5ded05307598",
   "metadata": {
    "papermill": {
     "duration": 0.004257,
     "end_time": "2023-09-11T12:21:05.148468",
     "exception": false,
     "start_time": "2023-09-11T12:21:05.144211",
     "status": "completed"
    },
    "tags": []
   },
   "source": [
    "# Description"
   ]
  },
  {
   "cell_type": "markdown",
   "id": "4bfc7115-350a-441b-9a19-7626a948a694",
   "metadata": {
    "papermill": {
     "duration": 0.006652,
     "end_time": "2023-09-11T12:21:05.165012",
     "exception": false,
     "start_time": "2023-09-11T12:21:05.158360",
     "status": "completed"
    },
    "tags": []
   },
   "source": [
    "It analyzes how correlation coefficients intersect on different gene pairs. Basically, I take the top gene pairs with the maximum correlation coefficient according to Pearson, Spearman and CCC, and also the equivalent set with the minimum coefficient values, and then compare how these sets intersect each other.\n",
    "\n",
    "After identifying different intersection sets, I plot some gene pairs to see what's being captured or not by each coefficient."
   ]
  },
  {
   "cell_type": "markdown",
   "id": "e020c781-238b-43c2-8cad-2722b8a240e2",
   "metadata": {
    "papermill": {
     "duration": 0.005808,
     "end_time": "2023-09-11T12:21:05.175419",
     "exception": false,
     "start_time": "2023-09-11T12:21:05.169611",
     "status": "completed"
    },
    "tags": []
   },
   "source": [
    "# Modules"
   ]
  },
  {
   "cell_type": "code",
   "execution_count": 1,
   "id": "a819bfbc-5009-4c68-ba8d-37d0979d368f",
   "metadata": {
    "execution": {
     "iopub.execute_input": "2023-09-11T12:21:05.181519Z",
     "iopub.status.busy": "2023-09-11T12:21:05.181380Z",
     "iopub.status.idle": "2023-09-11T12:21:05.606880Z",
     "shell.execute_reply": "2023-09-11T12:21:05.606679Z"
    },
    "papermill": {
     "duration": 0.429535,
     "end_time": "2023-09-11T12:21:05.607760",
     "exception": false,
     "start_time": "2023-09-11T12:21:05.178225",
     "status": "completed"
    },
    "tags": []
   },
   "outputs": [],
   "source": [
    "import pandas as pd\n",
    "import numpy as np\n",
    "\n",
    "import matplotlib.pyplot as plt\n",
    "from upsetplot import plot, from_indicators\n",
    "from pathlib import Path\n",
    "from ccc.plots import MyUpSet\n",
    "from ccc import conf\n"
   ]
  },
  {
   "cell_type": "markdown",
   "id": "b4834387-58ff-468c-b326-85c408bc5feb",
   "metadata": {
    "papermill": {
     "duration": 0.009781,
     "end_time": "2023-09-11T12:21:05.621112",
     "exception": false,
     "start_time": "2023-09-11T12:21:05.611331",
     "status": "completed"
    },
    "tags": []
   },
   "source": [
    "# Settings"
   ]
  },
  {
   "cell_type": "code",
   "execution_count": 2,
   "id": "765e820a-4518-4bbc-a00f-14c9cea03821",
   "metadata": {
    "execution": {
     "iopub.execute_input": "2023-09-11T12:21:05.628086Z",
     "iopub.status.busy": "2023-09-11T12:21:05.628014Z",
     "iopub.status.idle": "2023-09-11T12:21:05.629694Z",
     "shell.execute_reply": "2023-09-11T12:21:05.629470Z"
    },
    "papermill": {
     "duration": 0.005626,
     "end_time": "2023-09-11T12:21:05.630376",
     "exception": false,
     "start_time": "2023-09-11T12:21:05.624750",
     "status": "completed"
    },
    "tags": []
   },
   "outputs": [],
   "source": [
    "GTEX_TISSUE = \"kidney_medulla\"\n",
    "GENE_SEL_STRATEGY = \"var_pc_log2\"\n",
    "TOP_N_GENES = \"all\"\n",
    "\n",
    "DATA_DIR = Path(\"/mnt/data/proj_data/ccc-gpu/gene_expr/data/gtex_v8\")\n",
    "SIMILARITY_MATRICES_DIR = DATA_DIR / \"similarity_matrices\" / TOP_N_GENES\n",
    "\n",
    "\n",
    "# this specificies the threshold to compare coefficients (see below).\n",
    "# it basically takes the top Q_DIFF coefficient values for gene pairs\n",
    "# and compare with the bottom Q_DIFF of the other coefficients\n",
    "Q_DIFF = 0.30"
   ]
  },
  {
   "cell_type": "code",
   "execution_count": 3,
   "id": "c735cb20",
   "metadata": {},
   "outputs": [],
   "source": [
    "OUTPUT_DIR = Path(\"/mnt/data/proj_data/ccc-gpu/results/gene_pair_intersections\")\n",
    "OUTPUT_FIGURE_NAME = \"upsetplot_gtex_{GTEX_TISSUE}\"\n",
    "OUTPUT_GENE_PAIR_INTERSECTIONS_NAME = f\"gene_pair_intersections-gtex_v8-{GTEX_TISSUE}-{GENE_SEL_STRATEGY}.pkl\"\n",
    "\n",
    "# Create OUTPUT_DIR\n",
    "OUTPUT_DIR.mkdir(parents=True, exist_ok=True)"
   ]
  },
  {
   "cell_type": "code",
   "execution_count": 4,
   "id": "155a291b",
   "metadata": {},
   "outputs": [],
   "source": [
    "assert OUTPUT_DIR.exists()\n",
    "assert SIMILARITY_MATRICES_DIR.exists()"
   ]
  },
  {
   "cell_type": "code",
   "execution_count": 5,
   "id": "d50e29a6-0e18-4c3d-b933-f21a17abf831",
   "metadata": {
    "execution": {
     "iopub.execute_input": "2023-09-11T12:21:05.650614Z",
     "iopub.status.busy": "2023-09-11T12:21:05.650527Z",
     "iopub.status.idle": "2023-09-11T12:21:05.651830Z",
     "shell.execute_reply": "2023-09-11T12:21:05.651696Z"
    },
    "papermill": {
     "duration": 0.004949,
     "end_time": "2023-09-11T12:21:05.652442",
     "exception": false,
     "start_time": "2023-09-11T12:21:05.647493",
     "status": "completed"
    },
    "tags": []
   },
   "outputs": [
    {
     "data": {
      "text/plain": [
       "PosixPath('/mnt/data/proj_data/ccc-gpu/gene_expr/data/gtex_v8/similarity_matrices/all/gtex_v8_data_{tissue}-{gene_sel_strategy}-{corr_method}.pkl')"
      ]
     },
     "metadata": {},
     "output_type": "display_data"
    }
   ],
   "source": [
    "SIMILARITY_MATRIX_FILENAME_TEMPLATE = \"gtex_v8_data_{tissue}-{gene_sel_strategy}-{corr_method}.pkl\"\n",
    "INPUT_CORR_FILE_TEMPLATE = SIMILARITY_MATRICES_DIR / SIMILARITY_MATRIX_FILENAME_TEMPLATE\n",
    "display(INPUT_CORR_FILE_TEMPLATE)"
   ]
  },
  {
   "cell_type": "code",
   "execution_count": 6,
   "id": "30cce6f5-ca1b-438c-859d-31903a42d4c6",
   "metadata": {
    "execution": {
     "iopub.execute_input": "2023-09-11T12:21:05.689074Z",
     "iopub.status.busy": "2023-09-11T12:21:05.688952Z",
     "iopub.status.idle": "2023-09-11T12:21:05.690832Z",
     "shell.execute_reply": "2023-09-11T12:21:05.690704Z"
    },
    "papermill": {
     "duration": 0.005494,
     "end_time": "2023-09-11T12:21:05.691324",
     "exception": false,
     "start_time": "2023-09-11T12:21:05.685830",
     "status": "completed"
    },
    "tags": []
   },
   "outputs": [
    {
     "data": {
      "text/plain": [
       "PosixPath('/mnt/data/proj_data/ccc-gpu/gene_expr/data/gtex_v8/similarity_matrices/all/gtex_v8_data_kidney_medulla-var_pc_log2-all.pkl')"
      ]
     },
     "metadata": {},
     "output_type": "display_data"
    }
   ],
   "source": [
    "INPUT_CORR_FILE = SIMILARITY_MATRICES_DIR / str(\n",
    "    INPUT_CORR_FILE_TEMPLATE\n",
    ").format(\n",
    "    tissue=GTEX_TISSUE,\n",
    "    gene_sel_strategy=GENE_SEL_STRATEGY,\n",
    "    corr_method=\"all\",\n",
    ")\n",
    "display(INPUT_CORR_FILE)\n",
    "\n",
    "assert INPUT_CORR_FILE.exists()"
   ]
  },
  {
   "cell_type": "markdown",
   "id": "f6d3322b-c8bb-4fc2-97b6-5bb1793b1577",
   "metadata": {
    "papermill": {
     "duration": 0.002842,
     "end_time": "2023-09-11T12:21:05.697057",
     "exception": false,
     "start_time": "2023-09-11T12:21:05.694215",
     "status": "completed"
    },
    "tags": []
   },
   "source": [
    "# Data"
   ]
  },
  {
   "cell_type": "markdown",
   "id": "b030f506-2fe9-4895-a8a1-51374e88c496",
   "metadata": {
    "papermill": {
     "duration": 0.002834,
     "end_time": "2023-09-11T12:21:05.702835",
     "exception": false,
     "start_time": "2023-09-11T12:21:05.700001",
     "status": "completed"
    },
    "tags": []
   },
   "source": [
    "## Correlation"
   ]
  },
  {
   "cell_type": "code",
   "execution_count": 7,
   "id": "da1d768a-fbfb-40e8-8fbb-790d1a94aa83",
   "metadata": {
    "execution": {
     "iopub.execute_input": "2023-09-11T12:21:05.708871Z",
     "iopub.status.busy": "2023-09-11T12:21:05.708760Z",
     "iopub.status.idle": "2023-09-11T12:21:05.833326Z",
     "shell.execute_reply": "2023-09-11T12:21:05.833088Z"
    },
    "papermill": {
     "duration": 0.128547,
     "end_time": "2023-09-11T12:21:05.834272",
     "exception": false,
     "start_time": "2023-09-11T12:21:05.705725",
     "status": "completed"
    },
    "tags": []
   },
   "outputs": [],
   "source": [
    "df = pd.read_pickle(INPUT_CORR_FILE)"
   ]
  },
  {
   "cell_type": "code",
   "execution_count": 8,
   "id": "6123d474-0c0d-4771-9678-248ce89424ce",
   "metadata": {
    "execution": {
     "iopub.execute_input": "2023-09-11T12:21:05.848035Z",
     "iopub.status.busy": "2023-09-11T12:21:05.847960Z",
     "iopub.status.idle": "2023-09-11T12:21:05.850262Z",
     "shell.execute_reply": "2023-09-11T12:21:05.850129Z"
    },
    "papermill": {
     "duration": 0.013326,
     "end_time": "2023-09-11T12:21:05.850865",
     "exception": false,
     "start_time": "2023-09-11T12:21:05.837539",
     "status": "completed"
    },
    "tags": []
   },
   "outputs": [
    {
     "data": {
      "text/plain": [
       "(692459505, 3)"
      ]
     },
     "execution_count": 8,
     "metadata": {},
     "output_type": "execute_result"
    }
   ],
   "source": [
    "df.shape"
   ]
  },
  {
   "cell_type": "code",
   "execution_count": 9,
   "id": "b028abd8-c5b1-48c2-aa5e-cb1b49c943a4",
   "metadata": {
    "execution": {
     "iopub.execute_input": "2023-09-11T12:21:05.857219Z",
     "iopub.status.busy": "2023-09-11T12:21:05.857131Z",
     "iopub.status.idle": "2023-09-11T12:21:05.860872Z",
     "shell.execute_reply": "2023-09-11T12:21:05.860743Z"
    },
    "papermill": {
     "duration": 0.007445,
     "end_time": "2023-09-11T12:21:05.861368",
     "exception": false,
     "start_time": "2023-09-11T12:21:05.853923",
     "status": "completed"
    },
    "tags": []
   },
   "outputs": [
    {
     "data": {
      "text/html": [
       "<div>\n",
       "<style scoped>\n",
       "    .dataframe tbody tr th:only-of-type {\n",
       "        vertical-align: middle;\n",
       "    }\n",
       "\n",
       "    .dataframe tbody tr th {\n",
       "        vertical-align: top;\n",
       "    }\n",
       "\n",
       "    .dataframe thead th {\n",
       "        text-align: right;\n",
       "    }\n",
       "</style>\n",
       "<table border=\"1\" class=\"dataframe\">\n",
       "  <thead>\n",
       "    <tr style=\"text-align: right;\">\n",
       "      <th></th>\n",
       "      <th></th>\n",
       "      <th>ccc</th>\n",
       "      <th>pearson</th>\n",
       "      <th>spearman</th>\n",
       "    </tr>\n",
       "  </thead>\n",
       "  <tbody>\n",
       "    <tr>\n",
       "      <th>ENSG00000211592.8</th>\n",
       "      <th>ENSG00000211596.3</th>\n",
       "      <td>1.0</td>\n",
       "      <td>1.000000</td>\n",
       "      <td>1.000000</td>\n",
       "    </tr>\n",
       "    <tr>\n",
       "      <th rowspan=\"2\" valign=\"top\">ENSG00000116218.12</th>\n",
       "      <th>ENSG00000211596.3</th>\n",
       "      <td>1.0</td>\n",
       "      <td>0.130737</td>\n",
       "      <td>0.799805</td>\n",
       "    </tr>\n",
       "    <tr>\n",
       "      <th>ENSG00000211592.8</th>\n",
       "      <td>1.0</td>\n",
       "      <td>0.145020</td>\n",
       "      <td>0.799805</td>\n",
       "    </tr>\n",
       "    <tr>\n",
       "      <th rowspan=\"3\" valign=\"top\">ENSG00000211893.3</th>\n",
       "      <th>ENSG00000211596.3</th>\n",
       "      <td>1.0</td>\n",
       "      <td>0.951172</td>\n",
       "      <td>1.000000</td>\n",
       "    </tr>\n",
       "    <tr>\n",
       "      <th>ENSG00000211592.8</th>\n",
       "      <td>1.0</td>\n",
       "      <td>0.955566</td>\n",
       "      <td>1.000000</td>\n",
       "    </tr>\n",
       "    <tr>\n",
       "      <th>ENSG00000116218.12</th>\n",
       "      <td>1.0</td>\n",
       "      <td>0.429932</td>\n",
       "      <td>0.799805</td>\n",
       "    </tr>\n",
       "    <tr>\n",
       "      <th rowspan=\"4\" valign=\"top\">ENSG00000211594.2</th>\n",
       "      <th>ENSG00000211596.3</th>\n",
       "      <td>1.0</td>\n",
       "      <td>1.000000</td>\n",
       "      <td>0.799805</td>\n",
       "    </tr>\n",
       "    <tr>\n",
       "      <th>ENSG00000211592.8</th>\n",
       "      <td>1.0</td>\n",
       "      <td>0.999512</td>\n",
       "      <td>0.799805</td>\n",
       "    </tr>\n",
       "    <tr>\n",
       "      <th>ENSG00000116218.12</th>\n",
       "      <td>1.0</td>\n",
       "      <td>0.116821</td>\n",
       "      <td>0.600098</td>\n",
       "    </tr>\n",
       "    <tr>\n",
       "      <th>ENSG00000211893.3</th>\n",
       "      <td>1.0</td>\n",
       "      <td>0.946777</td>\n",
       "      <td>0.799805</td>\n",
       "    </tr>\n",
       "    <tr>\n",
       "      <th rowspan=\"5\" valign=\"top\">ENSG00000211597.2</th>\n",
       "      <th>ENSG00000211596.3</th>\n",
       "      <td>1.0</td>\n",
       "      <td>1.000000</td>\n",
       "      <td>1.000000</td>\n",
       "    </tr>\n",
       "    <tr>\n",
       "      <th>ENSG00000211592.8</th>\n",
       "      <td>1.0</td>\n",
       "      <td>1.000000</td>\n",
       "      <td>1.000000</td>\n",
       "    </tr>\n",
       "    <tr>\n",
       "      <th>ENSG00000116218.12</th>\n",
       "      <td>1.0</td>\n",
       "      <td>0.129150</td>\n",
       "      <td>0.799805</td>\n",
       "    </tr>\n",
       "    <tr>\n",
       "      <th>ENSG00000211893.3</th>\n",
       "      <td>1.0</td>\n",
       "      <td>0.950684</td>\n",
       "      <td>1.000000</td>\n",
       "    </tr>\n",
       "    <tr>\n",
       "      <th>ENSG00000211594.2</th>\n",
       "      <td>1.0</td>\n",
       "      <td>1.000000</td>\n",
       "      <td>0.799805</td>\n",
       "    </tr>\n",
       "  </tbody>\n",
       "</table>\n",
       "</div>"
      ],
      "text/plain": [
       "                                       ccc   pearson  spearman\n",
       "ENSG00000211592.8  ENSG00000211596.3   1.0  1.000000  1.000000\n",
       "ENSG00000116218.12 ENSG00000211596.3   1.0  0.130737  0.799805\n",
       "                   ENSG00000211592.8   1.0  0.145020  0.799805\n",
       "ENSG00000211893.3  ENSG00000211596.3   1.0  0.951172  1.000000\n",
       "                   ENSG00000211592.8   1.0  0.955566  1.000000\n",
       "                   ENSG00000116218.12  1.0  0.429932  0.799805\n",
       "ENSG00000211594.2  ENSG00000211596.3   1.0  1.000000  0.799805\n",
       "                   ENSG00000211592.8   1.0  0.999512  0.799805\n",
       "                   ENSG00000116218.12  1.0  0.116821  0.600098\n",
       "                   ENSG00000211893.3   1.0  0.946777  0.799805\n",
       "ENSG00000211597.2  ENSG00000211596.3   1.0  1.000000  1.000000\n",
       "                   ENSG00000211592.8   1.0  1.000000  1.000000\n",
       "                   ENSG00000116218.12  1.0  0.129150  0.799805\n",
       "                   ENSG00000211893.3   1.0  0.950684  1.000000\n",
       "                   ENSG00000211594.2   1.0  1.000000  0.799805"
      ]
     },
     "execution_count": 9,
     "metadata": {},
     "output_type": "execute_result"
    }
   ],
   "source": [
    "df.head(15)"
   ]
  },
  {
   "cell_type": "code",
   "execution_count": 10,
   "id": "97c670d5-f23c-4891-8427-9efdbcc0bf4b",
   "metadata": {
    "execution": {
     "iopub.execute_input": "2023-09-11T12:21:05.867564Z",
     "iopub.status.busy": "2023-09-11T12:21:05.867478Z",
     "iopub.status.idle": "2023-09-11T12:21:06.717773Z",
     "shell.execute_reply": "2023-09-11T12:21:06.717530Z"
    },
    "papermill": {
     "duration": 0.854188,
     "end_time": "2023-09-11T12:21:06.718526",
     "exception": false,
     "start_time": "2023-09-11T12:21:05.864338",
     "status": "completed"
    },
    "tags": []
   },
   "outputs": [
    {
     "name": "stderr",
     "output_type": "stream",
     "text": [
      "/home/haoyu/miniforge3/envs/ccc-gpu/lib/python3.10/site-packages/pandas/core/nanops.py:1487: RuntimeWarning: overflow encountered in cast\n",
      "  return dtype.type(n)\n",
      "/home/haoyu/miniforge3/envs/ccc-gpu/lib/python3.10/site-packages/numpy/core/_methods.py:49: RuntimeWarning: overflow encountered in reduce\n",
      "  return umr_sum(a, axis, dtype, out, keepdims, initial, where)\n",
      "/home/haoyu/miniforge3/envs/ccc-gpu/lib/python3.10/site-packages/pandas/core/nanops.py:731: RuntimeWarning: invalid value encountered in scalar divide\n",
      "  the_mean = the_sum / count if count > 0 else np.nan\n",
      "/home/haoyu/miniforge3/envs/ccc-gpu/lib/python3.10/site-packages/pandas/core/nanops.py:1487: RuntimeWarning: overflow encountered in cast\n",
      "  return dtype.type(n)\n",
      "/home/haoyu/miniforge3/envs/ccc-gpu/lib/python3.10/site-packages/numpy/core/_methods.py:49: RuntimeWarning: overflow encountered in reduce\n",
      "  return umr_sum(a, axis, dtype, out, keepdims, initial, where)\n",
      "/home/haoyu/miniforge3/envs/ccc-gpu/lib/python3.10/site-packages/pandas/core/nanops.py:731: RuntimeWarning: invalid value encountered in scalar divide\n",
      "  the_mean = the_sum / count if count > 0 else np.nan\n",
      "/home/haoyu/miniforge3/envs/ccc-gpu/lib/python3.10/site-packages/pandas/core/nanops.py:1487: RuntimeWarning: overflow encountered in cast\n",
      "  return dtype.type(n)\n",
      "/home/haoyu/miniforge3/envs/ccc-gpu/lib/python3.10/site-packages/numpy/core/_methods.py:49: RuntimeWarning: overflow encountered in reduce\n",
      "  return umr_sum(a, axis, dtype, out, keepdims, initial, where)\n",
      "/home/haoyu/miniforge3/envs/ccc-gpu/lib/python3.10/site-packages/pandas/core/nanops.py:731: RuntimeWarning: invalid value encountered in scalar divide\n",
      "  the_mean = the_sum / count if count > 0 else np.nan\n"
     ]
    },
    {
     "data": {
      "text/html": [
       "<div>\n",
       "<style scoped>\n",
       "    .dataframe tbody tr th:only-of-type {\n",
       "        vertical-align: middle;\n",
       "    }\n",
       "\n",
       "    .dataframe tbody tr th {\n",
       "        vertical-align: top;\n",
       "    }\n",
       "\n",
       "    .dataframe thead th {\n",
       "        text-align: right;\n",
       "    }\n",
       "</style>\n",
       "<table border=\"1\" class=\"dataframe\">\n",
       "  <thead>\n",
       "    <tr style=\"text-align: right;\">\n",
       "      <th></th>\n",
       "      <th>ccc</th>\n",
       "      <th>pearson</th>\n",
       "      <th>spearman</th>\n",
       "    </tr>\n",
       "  </thead>\n",
       "  <tbody>\n",
       "    <tr>\n",
       "      <th>count</th>\n",
       "      <td>692459505.0</td>\n",
       "      <td>6.924595e+08</td>\n",
       "      <td>6.924595e+08</td>\n",
       "    </tr>\n",
       "    <tr>\n",
       "      <th>mean</th>\n",
       "      <td>NaN</td>\n",
       "      <td>NaN</td>\n",
       "      <td>NaN</td>\n",
       "    </tr>\n",
       "    <tr>\n",
       "      <th>std</th>\n",
       "      <td>0.0</td>\n",
       "      <td>0.000000e+00</td>\n",
       "      <td>0.000000e+00</td>\n",
       "    </tr>\n",
       "    <tr>\n",
       "      <th>min</th>\n",
       "      <td>0.0</td>\n",
       "      <td>0.000000e+00</td>\n",
       "      <td>0.000000e+00</td>\n",
       "    </tr>\n",
       "    <tr>\n",
       "      <th>25%</th>\n",
       "      <td>0.0</td>\n",
       "      <td>2.866211e-01</td>\n",
       "      <td>2.583008e-01</td>\n",
       "    </tr>\n",
       "    <tr>\n",
       "      <th>50%</th>\n",
       "      <td>0.0</td>\n",
       "      <td>5.302734e-01</td>\n",
       "      <td>3.999023e-01</td>\n",
       "    </tr>\n",
       "    <tr>\n",
       "      <th>75%</th>\n",
       "      <td>1.0</td>\n",
       "      <td>7.929688e-01</td>\n",
       "      <td>7.998047e-01</td>\n",
       "    </tr>\n",
       "    <tr>\n",
       "      <th>max</th>\n",
       "      <td>1.0</td>\n",
       "      <td>1.000000e+00</td>\n",
       "      <td>1.000000e+00</td>\n",
       "    </tr>\n",
       "  </tbody>\n",
       "</table>\n",
       "</div>"
      ],
      "text/plain": [
       "               ccc       pearson      spearman\n",
       "count  692459505.0  6.924595e+08  6.924595e+08\n",
       "mean           NaN           NaN           NaN\n",
       "std            0.0  0.000000e+00  0.000000e+00\n",
       "min            0.0  0.000000e+00  0.000000e+00\n",
       "25%            0.0  2.866211e-01  2.583008e-01\n",
       "50%            0.0  5.302734e-01  3.999023e-01\n",
       "75%            1.0  7.929688e-01  7.998047e-01\n",
       "max            1.0  1.000000e+00  1.000000e+00"
      ]
     },
     "execution_count": 10,
     "metadata": {},
     "output_type": "execute_result"
    }
   ],
   "source": [
    "df.describe()"
   ]
  },
  {
   "cell_type": "code",
   "execution_count": 11,
   "id": "d46d8fa8-9316-4ef9-ba36-52e6294c546a",
   "metadata": {
    "execution": {
     "iopub.execute_input": "2023-09-11T12:21:06.732408Z",
     "iopub.status.busy": "2023-09-11T12:21:06.732349Z",
     "iopub.status.idle": "2023-09-11T12:21:07.409394Z",
     "shell.execute_reply": "2023-09-11T12:21:07.409157Z"
    },
    "papermill": {
     "duration": 0.688224,
     "end_time": "2023-09-11T12:21:07.410056",
     "exception": false,
     "start_time": "2023-09-11T12:21:06.721832",
     "status": "completed"
    },
    "tags": []
   },
   "outputs": [
    {
     "data": {
      "text/html": [
       "<div>\n",
       "<style scoped>\n",
       "    .dataframe tbody tr th:only-of-type {\n",
       "        vertical-align: middle;\n",
       "    }\n",
       "\n",
       "    .dataframe tbody tr th {\n",
       "        vertical-align: top;\n",
       "    }\n",
       "\n",
       "    .dataframe thead th {\n",
       "        text-align: right;\n",
       "    }\n",
       "</style>\n",
       "<table border=\"1\" class=\"dataframe\">\n",
       "  <thead>\n",
       "    <tr style=\"text-align: right;\">\n",
       "      <th></th>\n",
       "      <th>ccc</th>\n",
       "      <th>pearson</th>\n",
       "      <th>spearman</th>\n",
       "    </tr>\n",
       "  </thead>\n",
       "  <tbody>\n",
       "    <tr>\n",
       "      <th>0.200000</th>\n",
       "      <td>0.000000</td>\n",
       "      <td>0.231201</td>\n",
       "      <td>0.258301</td>\n",
       "    </tr>\n",
       "    <tr>\n",
       "      <th>0.242105</th>\n",
       "      <td>0.000000</td>\n",
       "      <td>0.278076</td>\n",
       "      <td>0.258301</td>\n",
       "    </tr>\n",
       "    <tr>\n",
       "      <th>0.284211</th>\n",
       "      <td>0.000000</td>\n",
       "      <td>0.324219</td>\n",
       "      <td>0.272217</td>\n",
       "    </tr>\n",
       "    <tr>\n",
       "      <th>0.326316</th>\n",
       "      <td>0.000000</td>\n",
       "      <td>0.353271</td>\n",
       "      <td>0.333252</td>\n",
       "    </tr>\n",
       "    <tr>\n",
       "      <th>0.368421</th>\n",
       "      <td>0.000000</td>\n",
       "      <td>0.397705</td>\n",
       "      <td>0.399902</td>\n",
       "    </tr>\n",
       "    <tr>\n",
       "      <th>0.410526</th>\n",
       "      <td>0.000000</td>\n",
       "      <td>0.440918</td>\n",
       "      <td>0.399902</td>\n",
       "    </tr>\n",
       "    <tr>\n",
       "      <th>0.452632</th>\n",
       "      <td>0.000000</td>\n",
       "      <td>0.483887</td>\n",
       "      <td>0.399902</td>\n",
       "    </tr>\n",
       "    <tr>\n",
       "      <th>0.494737</th>\n",
       "      <td>0.000000</td>\n",
       "      <td>0.524902</td>\n",
       "      <td>0.399902</td>\n",
       "    </tr>\n",
       "    <tr>\n",
       "      <th>0.536842</th>\n",
       "      <td>0.000000</td>\n",
       "      <td>0.566895</td>\n",
       "      <td>0.600098</td>\n",
       "    </tr>\n",
       "    <tr>\n",
       "      <th>0.578947</th>\n",
       "      <td>0.000000</td>\n",
       "      <td>0.608887</td>\n",
       "      <td>0.632324</td>\n",
       "    </tr>\n",
       "    <tr>\n",
       "      <th>0.621053</th>\n",
       "      <td>0.000000</td>\n",
       "      <td>0.654297</td>\n",
       "      <td>0.737793</td>\n",
       "    </tr>\n",
       "    <tr>\n",
       "      <th>0.663158</th>\n",
       "      <td>0.333252</td>\n",
       "      <td>0.700195</td>\n",
       "      <td>0.774414</td>\n",
       "    </tr>\n",
       "    <tr>\n",
       "      <th>0.705263</th>\n",
       "      <td>0.333252</td>\n",
       "      <td>0.745117</td>\n",
       "      <td>0.774414</td>\n",
       "    </tr>\n",
       "    <tr>\n",
       "      <th>0.747368</th>\n",
       "      <td>1.000000</td>\n",
       "      <td>0.790039</td>\n",
       "      <td>0.799805</td>\n",
       "    </tr>\n",
       "    <tr>\n",
       "      <th>0.789474</th>\n",
       "      <td>1.000000</td>\n",
       "      <td>0.833008</td>\n",
       "      <td>0.799805</td>\n",
       "    </tr>\n",
       "    <tr>\n",
       "      <th>0.831579</th>\n",
       "      <td>1.000000</td>\n",
       "      <td>0.874512</td>\n",
       "      <td>0.799805</td>\n",
       "    </tr>\n",
       "    <tr>\n",
       "      <th>0.873684</th>\n",
       "      <td>1.000000</td>\n",
       "      <td>0.912598</td>\n",
       "      <td>0.799805</td>\n",
       "    </tr>\n",
       "    <tr>\n",
       "      <th>0.915789</th>\n",
       "      <td>1.000000</td>\n",
       "      <td>0.946777</td>\n",
       "      <td>0.948730</td>\n",
       "    </tr>\n",
       "    <tr>\n",
       "      <th>0.957895</th>\n",
       "      <td>1.000000</td>\n",
       "      <td>0.977051</td>\n",
       "      <td>1.000000</td>\n",
       "    </tr>\n",
       "    <tr>\n",
       "      <th>1.000000</th>\n",
       "      <td>1.000000</td>\n",
       "      <td>1.000000</td>\n",
       "      <td>1.000000</td>\n",
       "    </tr>\n",
       "  </tbody>\n",
       "</table>\n",
       "</div>"
      ],
      "text/plain": [
       "               ccc   pearson  spearman\n",
       "0.200000  0.000000  0.231201  0.258301\n",
       "0.242105  0.000000  0.278076  0.258301\n",
       "0.284211  0.000000  0.324219  0.272217\n",
       "0.326316  0.000000  0.353271  0.333252\n",
       "0.368421  0.000000  0.397705  0.399902\n",
       "0.410526  0.000000  0.440918  0.399902\n",
       "0.452632  0.000000  0.483887  0.399902\n",
       "0.494737  0.000000  0.524902  0.399902\n",
       "0.536842  0.000000  0.566895  0.600098\n",
       "0.578947  0.000000  0.608887  0.632324\n",
       "0.621053  0.000000  0.654297  0.737793\n",
       "0.663158  0.333252  0.700195  0.774414\n",
       "0.705263  0.333252  0.745117  0.774414\n",
       "0.747368  1.000000  0.790039  0.799805\n",
       "0.789474  1.000000  0.833008  0.799805\n",
       "0.831579  1.000000  0.874512  0.799805\n",
       "0.873684  1.000000  0.912598  0.799805\n",
       "0.915789  1.000000  0.946777  0.948730\n",
       "0.957895  1.000000  0.977051  1.000000\n",
       "1.000000  1.000000  1.000000  1.000000"
      ]
     },
     "execution_count": 11,
     "metadata": {},
     "output_type": "execute_result"
    }
   ],
   "source": [
    "# Calculate quantiles from 20% to 100% in 20 steps for each correlation method\n",
    "# This helps understand the distribution of correlation values and identify\n",
    "# appropriate thresholds for high/low correlation gene pairs\n",
    "df.apply(lambda x: x.quantile(np.linspace(0.20, 1.0, 20)))"
   ]
  },
  {
   "cell_type": "markdown",
   "id": "2b3613bb-0ee8-4b93-b045-6c2fbbeb61e0",
   "metadata": {
    "papermill": {
     "duration": 0.009738,
     "end_time": "2023-09-11T12:21:07.423096",
     "exception": false,
     "start_time": "2023-09-11T12:21:07.413358",
     "status": "completed"
    },
    "tags": []
   },
   "source": [
    "# Prepare data for plotting"
   ]
  },
  {
   "cell_type": "code",
   "execution_count": 12,
   "id": "056ac421-1bea-45f6-b3cb-933927cc88cd",
   "metadata": {
    "execution": {
     "iopub.execute_input": "2023-09-11T12:21:07.430335Z",
     "iopub.status.busy": "2023-09-11T12:21:07.430258Z",
     "iopub.status.idle": "2023-09-11T12:21:07.431990Z",
     "shell.execute_reply": "2023-09-11T12:21:07.431837Z"
    },
    "papermill": {
     "duration": 0.006379,
     "end_time": "2023-09-11T12:21:07.432594",
     "exception": false,
     "start_time": "2023-09-11T12:21:07.426215",
     "status": "completed"
    },
    "tags": []
   },
   "outputs": [],
   "source": [
    "def get_lower_upper_quantile(method_name, q):\n",
    "    \"\"\"Get the lower and upper quantile bounds for a correlation method.\n",
    "    \n",
    "    This function calculates the quantile thresholds that will be used to\n",
    "    identify gene pairs with high and low correlation values. Gene pairs\n",
    "    with correlation values <= lower quantile are considered \"low correlation\",\n",
    "    while those with values >= upper quantile are considered \"high correlation\".\n",
    "    \n",
    "    Args:\n",
    "        method_name (str): Name of the correlation method column ('ccc', 'pearson', 'spearman')\n",
    "        q (float): Quantile difference from extremes (e.g., 0.30 means use 30% and 70% quantiles)\n",
    "    \n",
    "    Returns:\n",
    "        pandas.Series: Series with two values [lower_quantile, upper_quantile]\n",
    "    \"\"\"\n",
    "    return df[method_name].quantile([q, 1 - q])"
   ]
  },
  {
   "cell_type": "code",
   "execution_count": 13,
   "id": "1f4a64ab-e15e-42fd-9d59-fc5dff6c571b",
   "metadata": {
    "execution": {
     "iopub.execute_input": "2023-09-11T12:21:07.439307Z",
     "iopub.status.busy": "2023-09-11T12:21:07.439246Z",
     "iopub.status.idle": "2023-09-11T12:21:07.557729Z",
     "shell.execute_reply": "2023-09-11T12:21:07.557582Z"
    },
    "papermill": {
     "duration": 0.122536,
     "end_time": "2023-09-11T12:21:07.558493",
     "exception": false,
     "start_time": "2023-09-11T12:21:07.435957",
     "status": "completed"
    },
    "tags": []
   },
   "outputs": [
    {
     "data": {
      "text/plain": [
       "0.2    0.0\n",
       "0.8    1.0\n",
       "Name: ccc, dtype: float64"
      ]
     },
     "metadata": {},
     "output_type": "display_data"
    },
    {
     "data": {
      "text/plain": [
       "(0.0, 1.0)"
      ]
     },
     "metadata": {},
     "output_type": "display_data"
    }
   ],
   "source": [
    "# Test the get_lower_upper_quantile function with CCC method\n",
    "# Using 0.20 quantile difference (20% and 80% quantiles)\n",
    "ccc_quantiles = get_lower_upper_quantile(\"ccc\", 0.20)\n",
    "display(ccc_quantiles)\n",
    "\n",
    "# Extract the lower and upper quantile values\n",
    "ccc_lower_quantile, ccc_upper_quantile = ccc_quantiles\n",
    "display((ccc_lower_quantile, ccc_upper_quantile))\n",
    "\n",
    "# Verify that the unpacked values match the series indexing\n",
    "assert ccc_lower_quantile == ccc_quantiles.iloc[0]  # Lower quantile (20%)\n",
    "assert ccc_upper_quantile == ccc_quantiles.iloc[1]  # Upper quantile (80%)\n",
    "\n",
    "# Clean up variables after assertions\n",
    "del ccc_quantiles, ccc_lower_quantile, ccc_upper_quantile"
   ]
  },
  {
   "cell_type": "code",
   "execution_count": 14,
   "id": "5bc002ff-a591-4017-8229-b9cc07f7fae1",
   "metadata": {
    "execution": {
     "iopub.execute_input": "2023-09-11T12:21:07.565818Z",
     "iopub.status.busy": "2023-09-11T12:21:07.565726Z",
     "iopub.status.idle": "2023-09-11T12:21:07.959205Z",
     "shell.execute_reply": "2023-09-11T12:21:07.958973Z"
    },
    "papermill": {
     "duration": 0.398017,
     "end_time": "2023-09-11T12:21:07.959883",
     "exception": false,
     "start_time": "2023-09-11T12:21:07.561866",
     "status": "completed"
    },
    "tags": []
   },
   "outputs": [
    {
     "data": {
      "text/plain": [
       "(0.0, 0.333251953125)"
      ]
     },
     "metadata": {},
     "output_type": "display_data"
    },
    {
     "data": {
      "text/plain": [
       "(0.333251953125, 0.73974609375)"
      ]
     },
     "metadata": {},
     "output_type": "display_data"
    },
    {
     "data": {
      "text/plain": [
       "(0.316162109375, 0.7744140625)"
      ]
     },
     "metadata": {},
     "output_type": "display_data"
    }
   ],
   "source": [
    "clustermatch_lq, clustermatch_hq = get_lower_upper_quantile(\"ccc\", Q_DIFF)\n",
    "display((clustermatch_lq, clustermatch_hq))\n",
    "\n",
    "pearson_lq, pearson_hq = get_lower_upper_quantile(\"pearson\", Q_DIFF)\n",
    "display((pearson_lq, pearson_hq))\n",
    "\n",
    "spearman_lq, spearman_hq = get_lower_upper_quantile(\"spearman\", Q_DIFF)\n",
    "display((spearman_lq, spearman_hq))"
   ]
  },
  {
   "cell_type": "code",
   "execution_count": 15,
   "id": "b7151e86-845d-4c89-8298-c8636f70566b",
   "metadata": {
    "execution": {
     "iopub.execute_input": "2023-09-11T12:21:07.973793Z",
     "iopub.status.busy": "2023-09-11T12:21:07.973703Z",
     "iopub.status.idle": "2023-09-11T12:21:07.997612Z",
     "shell.execute_reply": "2023-09-11T12:21:07.997460Z"
    },
    "papermill": {
     "duration": 0.034613,
     "end_time": "2023-09-11T12:21:07.998087",
     "exception": false,
     "start_time": "2023-09-11T12:21:07.963474",
     "status": "completed"
    },
    "tags": []
   },
   "outputs": [
    {
     "data": {
      "text/plain": [
       "207755797"
      ]
     },
     "metadata": {},
     "output_type": "display_data"
    },
    {
     "data": {
      "text/plain": [
       "212920704"
      ]
     },
     "metadata": {},
     "output_type": "display_data"
    }
   ],
   "source": [
    "pearson_higher = df[\"pearson\"] >= pearson_hq\n",
    "display(pearson_higher.sum())\n",
    "\n",
    "pearson_lower = df[\"pearson\"] <= pearson_lq\n",
    "display(pearson_lower.sum())"
   ]
  },
  {
   "cell_type": "code",
   "execution_count": 16,
   "id": "bde230a6-b84a-4dfe-a122-05b5d5cbd98b",
   "metadata": {
    "execution": {
     "iopub.execute_input": "2023-09-11T12:21:08.005732Z",
     "iopub.status.busy": "2023-09-11T12:21:08.005637Z",
     "iopub.status.idle": "2023-09-11T12:21:08.033503Z",
     "shell.execute_reply": "2023-09-11T12:21:08.033338Z"
    },
    "papermill": {
     "duration": 0.03245,
     "end_time": "2023-09-11T12:21:08.034055",
     "exception": false,
     "start_time": "2023-09-11T12:21:08.001605",
     "status": "completed"
    },
    "tags": []
   },
   "outputs": [
    {
     "data": {
      "text/plain": [
       "261251764"
      ]
     },
     "metadata": {},
     "output_type": "display_data"
    },
    {
     "data": {
      "text/plain": [
       "218201451"
      ]
     },
     "metadata": {},
     "output_type": "display_data"
    }
   ],
   "source": [
    "spearman_higher = df[\"spearman\"] >= spearman_hq\n",
    "display(spearman_higher.sum())\n",
    "\n",
    "spearman_lower = df[\"spearman\"] <= spearman_lq\n",
    "display(spearman_lower.sum())"
   ]
  },
  {
   "cell_type": "code",
   "execution_count": 17,
   "id": "69a647b9-53bd-4f40-aab3-8274bdcfa90c",
   "metadata": {
    "execution": {
     "iopub.execute_input": "2023-09-11T12:21:08.041389Z",
     "iopub.status.busy": "2023-09-11T12:21:08.041309Z",
     "iopub.status.idle": "2023-09-11T12:21:08.065018Z",
     "shell.execute_reply": "2023-09-11T12:21:08.064834Z"
    },
    "papermill": {
     "duration": 0.028123,
     "end_time": "2023-09-11T12:21:08.065736",
     "exception": false,
     "start_time": "2023-09-11T12:21:08.037613",
     "status": "completed"
    },
    "tags": []
   },
   "outputs": [
    {
     "data": {
      "text/plain": [
       "260031150"
      ]
     },
     "metadata": {},
     "output_type": "display_data"
    },
    {
     "data": {
      "text/plain": [
       "432428355"
      ]
     },
     "metadata": {},
     "output_type": "display_data"
    }
   ],
   "source": [
    "clustermatch_higher = df[\"ccc\"] >= clustermatch_hq\n",
    "display(clustermatch_higher.sum())\n",
    "\n",
    "clustermatch_lower = df[\"ccc\"] <= clustermatch_lq\n",
    "display(clustermatch_lower.sum())"
   ]
  },
  {
   "cell_type": "markdown",
   "id": "7f3682d5-c043-4c16-9871-7babc5a307a2",
   "metadata": {
    "papermill": {
     "duration": 0.005117,
     "end_time": "2023-09-11T12:21:08.074874",
     "exception": false,
     "start_time": "2023-09-11T12:21:08.069757",
     "status": "completed"
    },
    "tags": []
   },
   "source": [
    "# UpSet plot"
   ]
  },
  {
   "cell_type": "code",
   "execution_count": 18,
   "id": "ed0bd3b6-f858-469f-bbeb-c187f720cd01",
   "metadata": {
    "execution": {
     "iopub.execute_input": "2023-09-11T12:21:08.083503Z",
     "iopub.status.busy": "2023-09-11T12:21:08.083401Z",
     "iopub.status.idle": "2023-09-11T12:21:08.097151Z",
     "shell.execute_reply": "2023-09-11T12:21:08.096952Z"
    },
    "papermill": {
     "duration": 0.018659,
     "end_time": "2023-09-11T12:21:08.097721",
     "exception": false,
     "start_time": "2023-09-11T12:21:08.079062",
     "status": "completed"
    },
    "tags": []
   },
   "outputs": [],
   "source": [
    "# Create a dataframe for plotting with boolean columns indicating whether each gene pair\n",
    "# falls into the high or low quantile ranges for each correlation method\n",
    "df_plot = pd.DataFrame(\n",
    "    {\n",
    "        \"pearson_higher\": pearson_higher,  # Gene pairs with Pearson correlation >= high quantile\n",
    "        \"pearson_lower\": pearson_lower,    # Gene pairs with Pearson correlation <= low quantile\n",
    "        \"spearman_higher\": spearman_higher,  # Gene pairs with Spearman correlation >= high quantile\n",
    "        \"spearman_lower\": spearman_lower,    # Gene pairs with Spearman correlation <= low quantile\n",
    "        \"clustermatch_higher\": clustermatch_higher,  # Gene pairs with CCC >= high quantile\n",
    "        \"clustermatch_lower\": clustermatch_lower,    # Gene pairs with CCC <= low quantile\n",
    "    }\n",
    ")"
   ]
  },
  {
   "cell_type": "code",
   "execution_count": 19,
   "id": "d29af679-bd5e-4e5a-b6f8-55ae09fea9ca",
   "metadata": {
    "execution": {
     "iopub.execute_input": "2023-09-11T12:21:08.105162Z",
     "iopub.status.busy": "2023-09-11T12:21:08.105075Z",
     "iopub.status.idle": "2023-09-11T12:21:10.045448Z",
     "shell.execute_reply": "2023-09-11T12:21:10.045172Z"
    },
    "papermill": {
     "duration": 1.945305,
     "end_time": "2023-09-11T12:21:10.046399",
     "exception": false,
     "start_time": "2023-09-11T12:21:08.101094",
     "status": "completed"
    },
    "tags": []
   },
   "outputs": [],
   "source": [
    "# Add the original correlation values (ccc, pearson, spearman) to the plot dataframe\n",
    "df_plot = pd.concat([df_plot, df], axis=1)"
   ]
  },
  {
   "cell_type": "code",
   "execution_count": 20,
   "id": "3253a5b8",
   "metadata": {},
   "outputs": [],
   "source": [
    "# Clean up\n",
    "del df\n",
    "del pearson_higher, pearson_lower, spearman_higher, spearman_lower, clustermatch_higher, clustermatch_lower"
   ]
  },
  {
   "cell_type": "code",
   "execution_count": 21,
   "id": "af2b7c35-e338-44a0-b54b-22464ae41a16",
   "metadata": {
    "execution": {
     "iopub.execute_input": "2023-09-11T12:21:10.054239Z",
     "iopub.status.busy": "2023-09-11T12:21:10.054179Z",
     "iopub.status.idle": "2023-09-11T12:21:10.060651Z",
     "shell.execute_reply": "2023-09-11T12:21:10.060517Z"
    },
    "papermill": {
     "duration": 0.010972,
     "end_time": "2023-09-11T12:21:10.061174",
     "exception": false,
     "start_time": "2023-09-11T12:21:10.050202",
     "status": "completed"
    },
    "tags": []
   },
   "outputs": [
    {
     "data": {
      "text/html": [
       "<div>\n",
       "<style scoped>\n",
       "    .dataframe tbody tr th:only-of-type {\n",
       "        vertical-align: middle;\n",
       "    }\n",
       "\n",
       "    .dataframe tbody tr th {\n",
       "        vertical-align: top;\n",
       "    }\n",
       "\n",
       "    .dataframe thead th {\n",
       "        text-align: right;\n",
       "    }\n",
       "</style>\n",
       "<table border=\"1\" class=\"dataframe\">\n",
       "  <thead>\n",
       "    <tr style=\"text-align: right;\">\n",
       "      <th></th>\n",
       "      <th></th>\n",
       "      <th>pearson_higher</th>\n",
       "      <th>pearson_lower</th>\n",
       "      <th>spearman_higher</th>\n",
       "      <th>spearman_lower</th>\n",
       "      <th>clustermatch_higher</th>\n",
       "      <th>clustermatch_lower</th>\n",
       "      <th>ccc</th>\n",
       "      <th>pearson</th>\n",
       "      <th>spearman</th>\n",
       "    </tr>\n",
       "  </thead>\n",
       "  <tbody>\n",
       "    <tr>\n",
       "      <th>ENSG00000211592.8</th>\n",
       "      <th>ENSG00000211596.3</th>\n",
       "      <td>True</td>\n",
       "      <td>False</td>\n",
       "      <td>True</td>\n",
       "      <td>False</td>\n",
       "      <td>True</td>\n",
       "      <td>False</td>\n",
       "      <td>1.000000</td>\n",
       "      <td>1.000000</td>\n",
       "      <td>1.000000</td>\n",
       "    </tr>\n",
       "    <tr>\n",
       "      <th rowspan=\"2\" valign=\"top\">ENSG00000116218.12</th>\n",
       "      <th>ENSG00000211596.3</th>\n",
       "      <td>False</td>\n",
       "      <td>True</td>\n",
       "      <td>True</td>\n",
       "      <td>False</td>\n",
       "      <td>True</td>\n",
       "      <td>False</td>\n",
       "      <td>1.000000</td>\n",
       "      <td>0.130737</td>\n",
       "      <td>0.799805</td>\n",
       "    </tr>\n",
       "    <tr>\n",
       "      <th>ENSG00000211592.8</th>\n",
       "      <td>False</td>\n",
       "      <td>True</td>\n",
       "      <td>True</td>\n",
       "      <td>False</td>\n",
       "      <td>True</td>\n",
       "      <td>False</td>\n",
       "      <td>1.000000</td>\n",
       "      <td>0.145020</td>\n",
       "      <td>0.799805</td>\n",
       "    </tr>\n",
       "    <tr>\n",
       "      <th rowspan=\"2\" valign=\"top\">ENSG00000211893.3</th>\n",
       "      <th>ENSG00000211596.3</th>\n",
       "      <td>True</td>\n",
       "      <td>False</td>\n",
       "      <td>True</td>\n",
       "      <td>False</td>\n",
       "      <td>True</td>\n",
       "      <td>False</td>\n",
       "      <td>1.000000</td>\n",
       "      <td>0.951172</td>\n",
       "      <td>1.000000</td>\n",
       "    </tr>\n",
       "    <tr>\n",
       "      <th>ENSG00000211592.8</th>\n",
       "      <td>True</td>\n",
       "      <td>False</td>\n",
       "      <td>True</td>\n",
       "      <td>False</td>\n",
       "      <td>True</td>\n",
       "      <td>False</td>\n",
       "      <td>1.000000</td>\n",
       "      <td>0.955566</td>\n",
       "      <td>1.000000</td>\n",
       "    </tr>\n",
       "    <tr>\n",
       "      <th>...</th>\n",
       "      <th>...</th>\n",
       "      <td>...</td>\n",
       "      <td>...</td>\n",
       "      <td>...</td>\n",
       "      <td>...</td>\n",
       "      <td>...</td>\n",
       "      <td>...</td>\n",
       "      <td>...</td>\n",
       "      <td>...</td>\n",
       "      <td>...</td>\n",
       "    </tr>\n",
       "    <tr>\n",
       "      <th rowspan=\"5\" valign=\"top\">ENSG00000280156.1</th>\n",
       "      <th>ENSG00000146839.18</th>\n",
       "      <td>False</td>\n",
       "      <td>False</td>\n",
       "      <td>False</td>\n",
       "      <td>False</td>\n",
       "      <td>False</td>\n",
       "      <td>True</td>\n",
       "      <td>0.000000</td>\n",
       "      <td>0.380371</td>\n",
       "      <td>0.399902</td>\n",
       "    </tr>\n",
       "    <tr>\n",
       "      <th>ENSG00000181143.15</th>\n",
       "      <td>True</td>\n",
       "      <td>False</td>\n",
       "      <td>True</td>\n",
       "      <td>False</td>\n",
       "      <td>True</td>\n",
       "      <td>False</td>\n",
       "      <td>1.000000</td>\n",
       "      <td>0.871094</td>\n",
       "      <td>0.948730</td>\n",
       "    </tr>\n",
       "    <tr>\n",
       "      <th>ENSG00000280356.1</th>\n",
       "      <td>False</td>\n",
       "      <td>False</td>\n",
       "      <td>False</td>\n",
       "      <td>True</td>\n",
       "      <td>True</td>\n",
       "      <td>False</td>\n",
       "      <td>0.333252</td>\n",
       "      <td>0.527344</td>\n",
       "      <td>0.258301</td>\n",
       "    </tr>\n",
       "    <tr>\n",
       "      <th>ENSG00000281344.1</th>\n",
       "      <td>False</td>\n",
       "      <td>False</td>\n",
       "      <td>False</td>\n",
       "      <td>True</td>\n",
       "      <td>False</td>\n",
       "      <td>True</td>\n",
       "      <td>0.000000</td>\n",
       "      <td>0.560059</td>\n",
       "      <td>0.199951</td>\n",
       "    </tr>\n",
       "    <tr>\n",
       "      <th>ENSG00000169876.13</th>\n",
       "      <td>False</td>\n",
       "      <td>False</td>\n",
       "      <td>False</td>\n",
       "      <td>True</td>\n",
       "      <td>True</td>\n",
       "      <td>False</td>\n",
       "      <td>0.333252</td>\n",
       "      <td>0.527344</td>\n",
       "      <td>0.258301</td>\n",
       "    </tr>\n",
       "  </tbody>\n",
       "</table>\n",
       "<p>692459505 rows × 9 columns</p>\n",
       "</div>"
      ],
      "text/plain": [
       "                                       pearson_higher  pearson_lower  \\\n",
       "ENSG00000211592.8  ENSG00000211596.3             True          False   \n",
       "ENSG00000116218.12 ENSG00000211596.3            False           True   \n",
       "                   ENSG00000211592.8            False           True   \n",
       "ENSG00000211893.3  ENSG00000211596.3             True          False   \n",
       "                   ENSG00000211592.8             True          False   \n",
       "...                                               ...            ...   \n",
       "ENSG00000280156.1  ENSG00000146839.18           False          False   \n",
       "                   ENSG00000181143.15            True          False   \n",
       "                   ENSG00000280356.1            False          False   \n",
       "                   ENSG00000281344.1            False          False   \n",
       "                   ENSG00000169876.13           False          False   \n",
       "\n",
       "                                       spearman_higher  spearman_lower  \\\n",
       "ENSG00000211592.8  ENSG00000211596.3              True           False   \n",
       "ENSG00000116218.12 ENSG00000211596.3              True           False   \n",
       "                   ENSG00000211592.8              True           False   \n",
       "ENSG00000211893.3  ENSG00000211596.3              True           False   \n",
       "                   ENSG00000211592.8              True           False   \n",
       "...                                                ...             ...   \n",
       "ENSG00000280156.1  ENSG00000146839.18            False           False   \n",
       "                   ENSG00000181143.15             True           False   \n",
       "                   ENSG00000280356.1             False            True   \n",
       "                   ENSG00000281344.1             False            True   \n",
       "                   ENSG00000169876.13            False            True   \n",
       "\n",
       "                                       clustermatch_higher  \\\n",
       "ENSG00000211592.8  ENSG00000211596.3                  True   \n",
       "ENSG00000116218.12 ENSG00000211596.3                  True   \n",
       "                   ENSG00000211592.8                  True   \n",
       "ENSG00000211893.3  ENSG00000211596.3                  True   \n",
       "                   ENSG00000211592.8                  True   \n",
       "...                                                    ...   \n",
       "ENSG00000280156.1  ENSG00000146839.18                False   \n",
       "                   ENSG00000181143.15                 True   \n",
       "                   ENSG00000280356.1                  True   \n",
       "                   ENSG00000281344.1                 False   \n",
       "                   ENSG00000169876.13                 True   \n",
       "\n",
       "                                       clustermatch_lower       ccc   pearson  \\\n",
       "ENSG00000211592.8  ENSG00000211596.3                False  1.000000  1.000000   \n",
       "ENSG00000116218.12 ENSG00000211596.3                False  1.000000  0.130737   \n",
       "                   ENSG00000211592.8                False  1.000000  0.145020   \n",
       "ENSG00000211893.3  ENSG00000211596.3                False  1.000000  0.951172   \n",
       "                   ENSG00000211592.8                False  1.000000  0.955566   \n",
       "...                                                   ...       ...       ...   \n",
       "ENSG00000280156.1  ENSG00000146839.18                True  0.000000  0.380371   \n",
       "                   ENSG00000181143.15               False  1.000000  0.871094   \n",
       "                   ENSG00000280356.1                False  0.333252  0.527344   \n",
       "                   ENSG00000281344.1                 True  0.000000  0.560059   \n",
       "                   ENSG00000169876.13               False  0.333252  0.527344   \n",
       "\n",
       "                                       spearman  \n",
       "ENSG00000211592.8  ENSG00000211596.3   1.000000  \n",
       "ENSG00000116218.12 ENSG00000211596.3   0.799805  \n",
       "                   ENSG00000211592.8   0.799805  \n",
       "ENSG00000211893.3  ENSG00000211596.3   1.000000  \n",
       "                   ENSG00000211592.8   1.000000  \n",
       "...                                         ...  \n",
       "ENSG00000280156.1  ENSG00000146839.18  0.399902  \n",
       "                   ENSG00000181143.15  0.948730  \n",
       "                   ENSG00000280356.1   0.258301  \n",
       "                   ENSG00000281344.1   0.199951  \n",
       "                   ENSG00000169876.13  0.258301  \n",
       "\n",
       "[692459505 rows x 9 columns]"
      ]
     },
     "execution_count": 21,
     "metadata": {},
     "output_type": "execute_result"
    }
   ],
   "source": [
    "df_plot"
   ]
  },
  {
   "cell_type": "code",
   "execution_count": 22,
   "id": "97ee6d16-09e4-4d3b-80e1-41cccfb7ba5b",
   "metadata": {
    "execution": {
     "iopub.execute_input": "2023-09-11T12:21:10.068401Z",
     "iopub.status.busy": "2023-09-11T12:21:10.068325Z",
     "iopub.status.idle": "2023-09-11T12:21:10.099541Z",
     "shell.execute_reply": "2023-09-11T12:21:10.099353Z"
    },
    "papermill": {
     "duration": 0.035578,
     "end_time": "2023-09-11T12:21:10.100221",
     "exception": false,
     "start_time": "2023-09-11T12:21:10.064643",
     "status": "completed"
    },
    "tags": []
   },
   "outputs": [],
   "source": [
    "assert not df_plot.isna().any().any()"
   ]
  },
  {
   "cell_type": "code",
   "execution_count": 23,
   "id": "0f2182f1-7b78-443e-9b72-5bb83f23a89b",
   "metadata": {
    "execution": {
     "iopub.execute_input": "2023-09-11T12:21:10.107974Z",
     "iopub.status.busy": "2023-09-11T12:21:10.107886Z",
     "iopub.status.idle": "2023-09-11T12:21:10.161240Z",
     "shell.execute_reply": "2023-09-11T12:21:10.160861Z"
    },
    "papermill": {
     "duration": 0.058094,
     "end_time": "2023-09-11T12:21:10.162092",
     "exception": false,
     "start_time": "2023-09-11T12:21:10.103998",
     "status": "completed"
    },
    "tags": []
   },
   "outputs": [],
   "source": [
    "# Rename columns to more descriptive names for plotting\n",
    "# This creates cleaner labels for the UpSet plot visualization\n",
    "df_plot = df_plot.rename(\n",
    "    columns={\n",
    "        \"pearson_higher\": \"Pearson (high)\",\n",
    "        \"pearson_lower\": \"Pearson (low)\",\n",
    "        \"spearman_higher\": \"Spearman (high)\",\n",
    "        \"spearman_lower\": \"Spearman (low)\",\n",
    "        \"clustermatch_higher\": \"Clustermatch (high)\",\n",
    "        \"clustermatch_lower\": \"Clustermatch (low)\",\n",
    "    }\n",
    ")"
   ]
  },
  {
   "cell_type": "code",
   "execution_count": 24,
   "id": "49db6735-8369-4c12-8a1a-c22c91cafcb2",
   "metadata": {
    "execution": {
     "iopub.execute_input": "2023-09-11T12:21:10.169735Z",
     "iopub.status.busy": "2023-09-11T12:21:10.169657Z",
     "iopub.status.idle": "2023-09-11T12:21:10.171518Z",
     "shell.execute_reply": "2023-09-11T12:21:10.171383Z"
    },
    "papermill": {
     "duration": 0.006289,
     "end_time": "2023-09-11T12:21:10.172028",
     "exception": false,
     "start_time": "2023-09-11T12:21:10.165739",
     "status": "completed"
    },
    "tags": []
   },
   "outputs": [],
   "source": [
    "# Create sorted list of category names for the UpSet plot\n",
    "# Filter columns that contain \" (\" (our boolean indicator columns)\n",
    "# Sort by: first by threshold level (high/low), then by method name\n",
    "# This ensures consistent ordering: high thresholds before low thresholds,\n",
    "# and within each threshold level, methods are alphabetically ordered\n",
    "categories = sorted(\n",
    "    [x for x in df_plot.columns if \" (\" in x],  # Get boolean indicator columns\n",
    "    reverse=True,  # Reverse to get \"high\" before \"low\"\n",
    "    key=lambda x: x.split(\" (\")[1] + \" (\" + x.split(\" (\")[0],  # Sort by threshold then method\n",
    ")"
   ]
  },
  {
   "cell_type": "code",
   "execution_count": 25,
   "id": "b842b23d-11ea-444c-88c1-ec3cc3e1a58a",
   "metadata": {
    "execution": {
     "iopub.execute_input": "2023-09-11T12:21:10.179359Z",
     "iopub.status.busy": "2023-09-11T12:21:10.179306Z",
     "iopub.status.idle": "2023-09-11T12:21:10.181272Z",
     "shell.execute_reply": "2023-09-11T12:21:10.181155Z"
    },
    "papermill": {
     "duration": 0.006233,
     "end_time": "2023-09-11T12:21:10.181795",
     "exception": false,
     "start_time": "2023-09-11T12:21:10.175562",
     "status": "completed"
    },
    "tags": []
   },
   "outputs": [
    {
     "data": {
      "text/plain": [
       "['Spearman (low)',\n",
       " 'Pearson (low)',\n",
       " 'Clustermatch (low)',\n",
       " 'Spearman (high)',\n",
       " 'Pearson (high)',\n",
       " 'Clustermatch (high)']"
      ]
     },
     "execution_count": 25,
     "metadata": {},
     "output_type": "execute_result"
    }
   ],
   "source": [
    "categories"
   ]
  },
  {
   "cell_type": "markdown",
   "id": "e0d69585-80a1-48cc-b7b9-3c63bb120b87",
   "metadata": {
    "papermill": {
     "duration": 0.003371,
     "end_time": "2023-09-11T12:21:10.188614",
     "exception": false,
     "start_time": "2023-09-11T12:21:10.185243",
     "status": "completed"
    },
    "tags": []
   },
   "source": [
    "## All subsets (original full plot)"
   ]
  },
  {
   "cell_type": "code",
   "execution_count": 26,
   "id": "0ad38eb1-66cf-404a-880e-095718d6f26e",
   "metadata": {
    "execution": {
     "iopub.execute_input": "2023-09-11T12:21:10.195841Z",
     "iopub.status.busy": "2023-09-11T12:21:10.195765Z",
     "iopub.status.idle": "2023-09-11T12:21:10.197178Z",
     "shell.execute_reply": "2023-09-11T12:21:10.197017Z"
    },
    "papermill": {
     "duration": 0.005617,
     "end_time": "2023-09-11T12:21:10.197688",
     "exception": false,
     "start_time": "2023-09-11T12:21:10.192071",
     "status": "completed"
    },
    "tags": []
   },
   "outputs": [],
   "source": [
    "df_r_data = df_plot"
   ]
  },
  {
   "cell_type": "code",
   "execution_count": 27,
   "id": "3c5147ec-e0e0-42c5-a6ad-f634ade88ed4",
   "metadata": {
    "execution": {
     "iopub.execute_input": "2023-09-11T12:21:10.204949Z",
     "iopub.status.busy": "2023-09-11T12:21:10.204843Z",
     "iopub.status.idle": "2023-09-11T12:21:10.206320Z",
     "shell.execute_reply": "2023-09-11T12:21:10.206200Z"
    },
    "papermill": {
     "duration": 0.005832,
     "end_time": "2023-09-11T12:21:10.206924",
     "exception": false,
     "start_time": "2023-09-11T12:21:10.201092",
     "status": "completed"
    },
    "tags": []
   },
   "outputs": [
    {
     "data": {
      "text/plain": [
       "(692459505, 9)"
      ]
     },
     "execution_count": 27,
     "metadata": {},
     "output_type": "execute_result"
    }
   ],
   "source": [
    "df_r_data.shape"
   ]
  },
  {
   "cell_type": "code",
   "execution_count": 28,
   "id": "d1a63eb4-beeb-4747-922e-d852eeadf50f",
   "metadata": {
    "execution": {
     "iopub.execute_input": "2023-09-11T12:21:10.214191Z",
     "iopub.status.busy": "2023-09-11T12:21:10.214091Z",
     "iopub.status.idle": "2023-09-11T12:21:20.875223Z",
     "shell.execute_reply": "2023-09-11T12:21:20.874950Z"
    },
    "papermill": {
     "duration": 10.665687,
     "end_time": "2023-09-11T12:21:20.876085",
     "exception": false,
     "start_time": "2023-09-11T12:21:10.210398",
     "status": "completed"
    },
    "tags": []
   },
   "outputs": [],
   "source": [
    "# Convert the boolean indicator DataFrame to an UpSet-compatible format\n",
    "# This transforms our boolean columns (categories) into a multi-index structure\n",
    "# where each gene pair is associated with the set of categories it belongs to\n",
    "\n",
    "# from_indicators is a function from the upsetplot library that converts\n",
    "# boolean indicator columns into a multi-index Series suitable for UpSet plots\n",
    "# It takes the boolean columns (categories) and creates a Series where:\n",
    "# - The index is a MultiIndex with levels for each category\n",
    "# - Each gene pair is associated with True/False for each category\n",
    "# - Only combinations that actually exist in the data are included\n",
    "gene_pairs_by_cats = from_indicators(categories, data=df_r_data)"
   ]
  },
  {
   "cell_type": "code",
   "execution_count": 29,
   "id": "b60440f2-65d0-4e97-8db5-7f5f99a9beb0",
   "metadata": {
    "execution": {
     "iopub.execute_input": "2023-09-11T12:21:20.884948Z",
     "iopub.status.busy": "2023-09-11T12:21:20.884868Z",
     "iopub.status.idle": "2023-09-11T12:21:20.892727Z",
     "shell.execute_reply": "2023-09-11T12:21:20.892541Z"
    },
    "papermill": {
     "duration": 0.013283,
     "end_time": "2023-09-11T12:21:20.893275",
     "exception": false,
     "start_time": "2023-09-11T12:21:20.879992",
     "status": "completed"
    },
    "tags": []
   },
   "outputs": [
    {
     "data": {
      "text/html": [
       "<div>\n",
       "<style scoped>\n",
       "    .dataframe tbody tr th:only-of-type {\n",
       "        vertical-align: middle;\n",
       "    }\n",
       "\n",
       "    .dataframe tbody tr th {\n",
       "        vertical-align: top;\n",
       "    }\n",
       "\n",
       "    .dataframe thead th {\n",
       "        text-align: right;\n",
       "    }\n",
       "</style>\n",
       "<table border=\"1\" class=\"dataframe\">\n",
       "  <thead>\n",
       "    <tr style=\"text-align: right;\">\n",
       "      <th></th>\n",
       "      <th></th>\n",
       "      <th></th>\n",
       "      <th></th>\n",
       "      <th></th>\n",
       "      <th></th>\n",
       "      <th>Pearson (high)</th>\n",
       "      <th>Pearson (low)</th>\n",
       "      <th>Spearman (high)</th>\n",
       "      <th>Spearman (low)</th>\n",
       "      <th>Clustermatch (high)</th>\n",
       "      <th>Clustermatch (low)</th>\n",
       "      <th>ccc</th>\n",
       "      <th>pearson</th>\n",
       "      <th>spearman</th>\n",
       "    </tr>\n",
       "    <tr>\n",
       "      <th>Spearman (low)</th>\n",
       "      <th>Pearson (low)</th>\n",
       "      <th>Clustermatch (low)</th>\n",
       "      <th>Spearman (high)</th>\n",
       "      <th>Pearson (high)</th>\n",
       "      <th>Clustermatch (high)</th>\n",
       "      <th></th>\n",
       "      <th></th>\n",
       "      <th></th>\n",
       "      <th></th>\n",
       "      <th></th>\n",
       "      <th></th>\n",
       "      <th></th>\n",
       "      <th></th>\n",
       "      <th></th>\n",
       "    </tr>\n",
       "  </thead>\n",
       "  <tbody>\n",
       "    <tr>\n",
       "      <th rowspan=\"8\" valign=\"top\">False</th>\n",
       "      <th>False</th>\n",
       "      <th>False</th>\n",
       "      <th>True</th>\n",
       "      <th>True</th>\n",
       "      <th>True</th>\n",
       "      <td>True</td>\n",
       "      <td>False</td>\n",
       "      <td>True</td>\n",
       "      <td>False</td>\n",
       "      <td>True</td>\n",
       "      <td>False</td>\n",
       "      <td>1.000000</td>\n",
       "      <td>1.000000</td>\n",
       "      <td>1.000000</td>\n",
       "    </tr>\n",
       "    <tr>\n",
       "      <th rowspan=\"2\" valign=\"top\">True</th>\n",
       "      <th rowspan=\"2\" valign=\"top\">False</th>\n",
       "      <th rowspan=\"2\" valign=\"top\">True</th>\n",
       "      <th rowspan=\"2\" valign=\"top\">False</th>\n",
       "      <th>True</th>\n",
       "      <td>False</td>\n",
       "      <td>True</td>\n",
       "      <td>True</td>\n",
       "      <td>False</td>\n",
       "      <td>True</td>\n",
       "      <td>False</td>\n",
       "      <td>1.000000</td>\n",
       "      <td>0.130737</td>\n",
       "      <td>0.799805</td>\n",
       "    </tr>\n",
       "    <tr>\n",
       "      <th>True</th>\n",
       "      <td>False</td>\n",
       "      <td>True</td>\n",
       "      <td>True</td>\n",
       "      <td>False</td>\n",
       "      <td>True</td>\n",
       "      <td>False</td>\n",
       "      <td>1.000000</td>\n",
       "      <td>0.145020</td>\n",
       "      <td>0.799805</td>\n",
       "    </tr>\n",
       "    <tr>\n",
       "      <th rowspan=\"5\" valign=\"top\">False</th>\n",
       "      <th rowspan=\"2\" valign=\"top\">False</th>\n",
       "      <th rowspan=\"2\" valign=\"top\">True</th>\n",
       "      <th rowspan=\"2\" valign=\"top\">True</th>\n",
       "      <th>True</th>\n",
       "      <td>True</td>\n",
       "      <td>False</td>\n",
       "      <td>True</td>\n",
       "      <td>False</td>\n",
       "      <td>True</td>\n",
       "      <td>False</td>\n",
       "      <td>1.000000</td>\n",
       "      <td>0.951172</td>\n",
       "      <td>1.000000</td>\n",
       "    </tr>\n",
       "    <tr>\n",
       "      <th>True</th>\n",
       "      <td>True</td>\n",
       "      <td>False</td>\n",
       "      <td>True</td>\n",
       "      <td>False</td>\n",
       "      <td>True</td>\n",
       "      <td>False</td>\n",
       "      <td>1.000000</td>\n",
       "      <td>0.955566</td>\n",
       "      <td>1.000000</td>\n",
       "    </tr>\n",
       "    <tr>\n",
       "      <th>...</th>\n",
       "      <th>...</th>\n",
       "      <th>...</th>\n",
       "      <th>...</th>\n",
       "      <td>...</td>\n",
       "      <td>...</td>\n",
       "      <td>...</td>\n",
       "      <td>...</td>\n",
       "      <td>...</td>\n",
       "      <td>...</td>\n",
       "      <td>...</td>\n",
       "      <td>...</td>\n",
       "      <td>...</td>\n",
       "    </tr>\n",
       "    <tr>\n",
       "      <th>True</th>\n",
       "      <th>False</th>\n",
       "      <th>False</th>\n",
       "      <th>False</th>\n",
       "      <td>False</td>\n",
       "      <td>False</td>\n",
       "      <td>False</td>\n",
       "      <td>False</td>\n",
       "      <td>False</td>\n",
       "      <td>True</td>\n",
       "      <td>0.000000</td>\n",
       "      <td>0.380371</td>\n",
       "      <td>0.399902</td>\n",
       "    </tr>\n",
       "    <tr>\n",
       "      <th>False</th>\n",
       "      <th>True</th>\n",
       "      <th>True</th>\n",
       "      <th>True</th>\n",
       "      <td>True</td>\n",
       "      <td>False</td>\n",
       "      <td>True</td>\n",
       "      <td>False</td>\n",
       "      <td>True</td>\n",
       "      <td>False</td>\n",
       "      <td>1.000000</td>\n",
       "      <td>0.871094</td>\n",
       "      <td>0.948730</td>\n",
       "    </tr>\n",
       "    <tr>\n",
       "      <th rowspan=\"3\" valign=\"top\">True</th>\n",
       "      <th rowspan=\"3\" valign=\"top\">False</th>\n",
       "      <th>False</th>\n",
       "      <th>False</th>\n",
       "      <th>False</th>\n",
       "      <th>True</th>\n",
       "      <td>False</td>\n",
       "      <td>False</td>\n",
       "      <td>False</td>\n",
       "      <td>True</td>\n",
       "      <td>True</td>\n",
       "      <td>False</td>\n",
       "      <td>0.333252</td>\n",
       "      <td>0.527344</td>\n",
       "      <td>0.258301</td>\n",
       "    </tr>\n",
       "    <tr>\n",
       "      <th>True</th>\n",
       "      <th>False</th>\n",
       "      <th>False</th>\n",
       "      <th>False</th>\n",
       "      <td>False</td>\n",
       "      <td>False</td>\n",
       "      <td>False</td>\n",
       "      <td>True</td>\n",
       "      <td>False</td>\n",
       "      <td>True</td>\n",
       "      <td>0.000000</td>\n",
       "      <td>0.560059</td>\n",
       "      <td>0.199951</td>\n",
       "    </tr>\n",
       "    <tr>\n",
       "      <th>False</th>\n",
       "      <th>False</th>\n",
       "      <th>False</th>\n",
       "      <th>True</th>\n",
       "      <td>False</td>\n",
       "      <td>False</td>\n",
       "      <td>False</td>\n",
       "      <td>True</td>\n",
       "      <td>True</td>\n",
       "      <td>False</td>\n",
       "      <td>0.333252</td>\n",
       "      <td>0.527344</td>\n",
       "      <td>0.258301</td>\n",
       "    </tr>\n",
       "  </tbody>\n",
       "</table>\n",
       "<p>692459505 rows × 9 columns</p>\n",
       "</div>"
      ],
      "text/plain": [
       "                                                                                                    Pearson (high)  \\\n",
       "Spearman (low) Pearson (low) Clustermatch (low) Spearman (high) Pearson (high) Clustermatch (high)                   \n",
       "False          False         False              True            True           True                           True   \n",
       "               True          False              True            False          True                          False   \n",
       "                                                                               True                          False   \n",
       "               False         False              True            True           True                           True   \n",
       "                                                                               True                           True   \n",
       "...                                                                                                            ...   \n",
       "                             True               False           False          False                         False   \n",
       "                             False              True            True           True                           True   \n",
       "True           False         False              False           False          True                          False   \n",
       "                             True               False           False          False                         False   \n",
       "                             False              False           False          True                          False   \n",
       "\n",
       "                                                                                                    Pearson (low)  \\\n",
       "Spearman (low) Pearson (low) Clustermatch (low) Spearman (high) Pearson (high) Clustermatch (high)                  \n",
       "False          False         False              True            True           True                         False   \n",
       "               True          False              True            False          True                          True   \n",
       "                                                                               True                          True   \n",
       "               False         False              True            True           True                         False   \n",
       "                                                                               True                         False   \n",
       "...                                                                                                           ...   \n",
       "                             True               False           False          False                        False   \n",
       "                             False              True            True           True                         False   \n",
       "True           False         False              False           False          True                         False   \n",
       "                             True               False           False          False                        False   \n",
       "                             False              False           False          True                         False   \n",
       "\n",
       "                                                                                                    Spearman (high)  \\\n",
       "Spearman (low) Pearson (low) Clustermatch (low) Spearman (high) Pearson (high) Clustermatch (high)                    \n",
       "False          False         False              True            True           True                            True   \n",
       "               True          False              True            False          True                            True   \n",
       "                                                                               True                            True   \n",
       "               False         False              True            True           True                            True   \n",
       "                                                                               True                            True   \n",
       "...                                                                                                             ...   \n",
       "                             True               False           False          False                          False   \n",
       "                             False              True            True           True                            True   \n",
       "True           False         False              False           False          True                           False   \n",
       "                             True               False           False          False                          False   \n",
       "                             False              False           False          True                           False   \n",
       "\n",
       "                                                                                                    Spearman (low)  \\\n",
       "Spearman (low) Pearson (low) Clustermatch (low) Spearman (high) Pearson (high) Clustermatch (high)                   \n",
       "False          False         False              True            True           True                          False   \n",
       "               True          False              True            False          True                          False   \n",
       "                                                                               True                          False   \n",
       "               False         False              True            True           True                          False   \n",
       "                                                                               True                          False   \n",
       "...                                                                                                            ...   \n",
       "                             True               False           False          False                         False   \n",
       "                             False              True            True           True                          False   \n",
       "True           False         False              False           False          True                           True   \n",
       "                             True               False           False          False                          True   \n",
       "                             False              False           False          True                           True   \n",
       "\n",
       "                                                                                                    Clustermatch (high)  \\\n",
       "Spearman (low) Pearson (low) Clustermatch (low) Spearman (high) Pearson (high) Clustermatch (high)                        \n",
       "False          False         False              True            True           True                                True   \n",
       "               True          False              True            False          True                                True   \n",
       "                                                                               True                                True   \n",
       "               False         False              True            True           True                                True   \n",
       "                                                                               True                                True   \n",
       "...                                                                                                                 ...   \n",
       "                             True               False           False          False                              False   \n",
       "                             False              True            True           True                                True   \n",
       "True           False         False              False           False          True                                True   \n",
       "                             True               False           False          False                              False   \n",
       "                             False              False           False          True                                True   \n",
       "\n",
       "                                                                                                    Clustermatch (low)  \\\n",
       "Spearman (low) Pearson (low) Clustermatch (low) Spearman (high) Pearson (high) Clustermatch (high)                       \n",
       "False          False         False              True            True           True                              False   \n",
       "               True          False              True            False          True                              False   \n",
       "                                                                               True                              False   \n",
       "               False         False              True            True           True                              False   \n",
       "                                                                               True                              False   \n",
       "...                                                                                                                ...   \n",
       "                             True               False           False          False                              True   \n",
       "                             False              True            True           True                              False   \n",
       "True           False         False              False           False          True                              False   \n",
       "                             True               False           False          False                              True   \n",
       "                             False              False           False          True                              False   \n",
       "\n",
       "                                                                                                         ccc  \\\n",
       "Spearman (low) Pearson (low) Clustermatch (low) Spearman (high) Pearson (high) Clustermatch (high)             \n",
       "False          False         False              True            True           True                 1.000000   \n",
       "               True          False              True            False          True                 1.000000   \n",
       "                                                                               True                 1.000000   \n",
       "               False         False              True            True           True                 1.000000   \n",
       "                                                                               True                 1.000000   \n",
       "...                                                                                                      ...   \n",
       "                             True               False           False          False                0.000000   \n",
       "                             False              True            True           True                 1.000000   \n",
       "True           False         False              False           False          True                 0.333252   \n",
       "                             True               False           False          False                0.000000   \n",
       "                             False              False           False          True                 0.333252   \n",
       "\n",
       "                                                                                                     pearson  \\\n",
       "Spearman (low) Pearson (low) Clustermatch (low) Spearman (high) Pearson (high) Clustermatch (high)             \n",
       "False          False         False              True            True           True                 1.000000   \n",
       "               True          False              True            False          True                 0.130737   \n",
       "                                                                               True                 0.145020   \n",
       "               False         False              True            True           True                 0.951172   \n",
       "                                                                               True                 0.955566   \n",
       "...                                                                                                      ...   \n",
       "                             True               False           False          False                0.380371   \n",
       "                             False              True            True           True                 0.871094   \n",
       "True           False         False              False           False          True                 0.527344   \n",
       "                             True               False           False          False                0.560059   \n",
       "                             False              False           False          True                 0.527344   \n",
       "\n",
       "                                                                                                    spearman  \n",
       "Spearman (low) Pearson (low) Clustermatch (low) Spearman (high) Pearson (high) Clustermatch (high)            \n",
       "False          False         False              True            True           True                 1.000000  \n",
       "               True          False              True            False          True                 0.799805  \n",
       "                                                                               True                 0.799805  \n",
       "               False         False              True            True           True                 1.000000  \n",
       "                                                                               True                 1.000000  \n",
       "...                                                                                                      ...  \n",
       "                             True               False           False          False                0.399902  \n",
       "                             False              True            True           True                 0.948730  \n",
       "True           False         False              False           False          True                 0.258301  \n",
       "                             True               False           False          False                0.199951  \n",
       "                             False              False           False          True                 0.258301  \n",
       "\n",
       "[692459505 rows x 9 columns]"
      ]
     },
     "execution_count": 29,
     "metadata": {},
     "output_type": "execute_result"
    }
   ],
   "source": [
    "gene_pairs_by_cats"
   ]
  },
  {
   "cell_type": "code",
   "execution_count": 30,
   "id": "953e9835-d94f-4e97-855d-2af93f41fd1f",
   "metadata": {
    "execution": {
     "iopub.execute_input": "2023-09-11T12:21:20.901055Z",
     "iopub.status.busy": "2023-09-11T12:21:20.900969Z",
     "iopub.status.idle": "2023-09-11T12:21:24.999062Z",
     "shell.execute_reply": "2023-09-11T12:21:24.998750Z"
    },
    "papermill": {
     "duration": 4.102776,
     "end_time": "2023-09-11T12:21:24.999757",
     "exception": false,
     "start_time": "2023-09-11T12:21:20.896981",
     "status": "completed"
    },
    "tags": []
   },
   "outputs": [
    {
     "name": "stderr",
     "output_type": "stream",
     "text": [
      "/home/haoyu/miniforge3/envs/ccc-gpu/lib/python3.10/site-packages/upsetplot/plotting.py:795: FutureWarning: A value is trying to be set on a copy of a DataFrame or Series through chained assignment using an inplace method.\n",
      "The behavior will change in pandas 3.0. This inplace method will never work because the intermediate object on which we are setting values always behaves as a copy.\n",
      "\n",
      "For example, when doing 'df[col].method(value, inplace=True)', try using 'df.method({col: value}, inplace=True)' or df[col] = df[col].method(value) instead, to perform the operation inplace on the original object.\n",
      "\n",
      "\n",
      "  styles[\"linewidth\"].fillna(1, inplace=True)\n",
      "/home/haoyu/miniforge3/envs/ccc-gpu/lib/python3.10/site-packages/upsetplot/plotting.py:796: FutureWarning: A value is trying to be set on a copy of a DataFrame or Series through chained assignment using an inplace method.\n",
      "The behavior will change in pandas 3.0. This inplace method will never work because the intermediate object on which we are setting values always behaves as a copy.\n",
      "\n",
      "For example, when doing 'df[col].method(value, inplace=True)', try using 'df.method({col: value}, inplace=True)' or df[col] = df[col].method(value) instead, to perform the operation inplace on the original object.\n",
      "\n",
      "\n",
      "  styles[\"facecolor\"].fillna(self._facecolor, inplace=True)\n",
      "/home/haoyu/miniforge3/envs/ccc-gpu/lib/python3.10/site-packages/upsetplot/plotting.py:797: FutureWarning: A value is trying to be set on a copy of a DataFrame or Series through chained assignment using an inplace method.\n",
      "The behavior will change in pandas 3.0. This inplace method will never work because the intermediate object on which we are setting values always behaves as a copy.\n",
      "\n",
      "For example, when doing 'df[col].method(value, inplace=True)', try using 'df.method({col: value}, inplace=True)' or df[col] = df[col].method(value) instead, to perform the operation inplace on the original object.\n",
      "\n",
      "\n",
      "  styles[\"edgecolor\"].fillna(styles[\"facecolor\"], inplace=True)\n",
      "/home/haoyu/miniforge3/envs/ccc-gpu/lib/python3.10/site-packages/upsetplot/plotting.py:798: FutureWarning: A value is trying to be set on a copy of a DataFrame or Series through chained assignment using an inplace method.\n",
      "The behavior will change in pandas 3.0. This inplace method will never work because the intermediate object on which we are setting values always behaves as a copy.\n",
      "\n",
      "For example, when doing 'df[col].method(value, inplace=True)', try using 'df.method({col: value}, inplace=True)' or df[col] = df[col].method(value) instead, to perform the operation inplace on the original object.\n",
      "\n",
      "\n",
      "  styles[\"linestyle\"].fillna(\"solid\", inplace=True)\n"
     ]
    },
    {
     "data": {
      "image/png": "[encoded data removed]",
      "text/plain": [
       "<Figure size 1800x500 with 4 Axes>"
      ]
     },
     "metadata": {},
     "output_type": "display_data"
    }
   ],
   "source": [
    "fig = plt.figure(figsize=(18, 5))\n",
    "\n",
    "g = plot(\n",
    "    gene_pairs_by_cats,\n",
    "    show_counts=True,\n",
    "    sort_categories_by=None,\n",
    "    element_size=None,\n",
    "    fig=fig,\n",
    ")"
   ]
  },
  {
   "cell_type": "code",
   "execution_count": 33,
   "id": "8cc4020d",
   "metadata": {},
   "outputs": [
    {
     "data": {
      "text/plain": [
       "<Figure size 640x480 with 0 Axes>"
      ]
     },
     "metadata": {},
     "output_type": "display_data"
    }
   ],
   "source": [
    "plt.savefig(\n",
    "    OUTPUT_DIR / f\"{OUTPUT_FIGURE_NAME}_full.svg\",\n",
    "    bbox_inches=\"tight\",\n",
    "    facecolor=\"white\",\n",
    ")"
   ]
  },
  {
   "cell_type": "markdown",
   "id": "bcba1e8c-eb11-43be-9e8d-3b3e511bc5c0",
   "metadata": {
    "papermill": {
     "duration": 0.00402,
     "end_time": "2023-09-11T12:21:25.008094",
     "exception": false,
     "start_time": "2023-09-11T12:21:25.004074",
     "status": "completed"
    },
    "tags": []
   },
   "source": [
    "## Sort by categories of subsets"
   ]
  },
  {
   "cell_type": "code",
   "execution_count": 34,
   "id": "6b7a5b4c-fcee-4a2f-ab87-d3ae46ba3ea6",
   "metadata": {
    "execution": {
     "iopub.execute_input": "2023-09-11T12:21:25.016575Z",
     "iopub.status.busy": "2023-09-11T12:21:25.016488Z",
     "iopub.status.idle": "2023-09-11T12:21:25.017883Z",
     "shell.execute_reply": "2023-09-11T12:21:25.017734Z"
    },
    "papermill": {
     "duration": 0.006471,
     "end_time": "2023-09-11T12:21:25.018505",
     "exception": false,
     "start_time": "2023-09-11T12:21:25.012034",
     "status": "completed"
    },
    "tags": []
   },
   "outputs": [],
   "source": [
    "df_r_data = df_plot"
   ]
  },
  {
   "cell_type": "code",
   "execution_count": 35,
   "id": "242ff72e-3ec8-41ec-a11a-7b2e80217399",
   "metadata": {
    "execution": {
     "iopub.execute_input": "2023-09-11T12:21:25.026753Z",
     "iopub.status.busy": "2023-09-11T12:21:25.026676Z",
     "iopub.status.idle": "2023-09-11T12:21:25.028302Z",
     "shell.execute_reply": "2023-09-11T12:21:25.028174Z"
    },
    "papermill": {
     "duration": 0.006484,
     "end_time": "2023-09-11T12:21:25.028959",
     "exception": false,
     "start_time": "2023-09-11T12:21:25.022475",
     "status": "completed"
    },
    "tags": []
   },
   "outputs": [
    {
     "data": {
      "text/plain": [
       "(692459505, 9)"
      ]
     },
     "execution_count": 35,
     "metadata": {},
     "output_type": "execute_result"
    }
   ],
   "source": [
    "df_r_data.shape"
   ]
  },
  {
   "cell_type": "code",
   "execution_count": 36,
   "id": "95fa3efe-10d6-401d-8038-92b5c7c4a503",
   "metadata": {
    "execution": {
     "iopub.execute_input": "2023-09-11T12:21:25.037442Z",
     "iopub.status.busy": "2023-09-11T12:21:25.037299Z",
     "iopub.status.idle": "2023-09-11T12:21:33.187242Z",
     "shell.execute_reply": "2023-09-11T12:21:33.187039Z"
    },
    "papermill": {
     "duration": 8.155182,
     "end_time": "2023-09-11T12:21:33.188167",
     "exception": false,
     "start_time": "2023-09-11T12:21:25.032985",
     "status": "completed"
    },
    "tags": []
   },
   "outputs": [],
   "source": [
    "gene_pairs_by_cats = from_indicators(categories, data=df_r_data)"
   ]
  },
  {
   "cell_type": "code",
   "execution_count": 37,
   "id": "526dbc50-67d5-4721-aa5c-dd2c62f74c8d",
   "metadata": {
    "execution": {
     "iopub.execute_input": "2023-09-11T12:21:33.203427Z",
     "iopub.status.busy": "2023-09-11T12:21:33.203363Z",
     "iopub.status.idle": "2023-09-11T12:21:33.210771Z",
     "shell.execute_reply": "2023-09-11T12:21:33.210638Z"
    },
    "papermill": {
     "duration": 0.018445,
     "end_time": "2023-09-11T12:21:33.211376",
     "exception": false,
     "start_time": "2023-09-11T12:21:33.192931",
     "status": "completed"
    },
    "tags": []
   },
   "outputs": [
    {
     "data": {
      "text/html": [
       "<div>\n",
       "<style scoped>\n",
       "    .dataframe tbody tr th:only-of-type {\n",
       "        vertical-align: middle;\n",
       "    }\n",
       "\n",
       "    .dataframe tbody tr th {\n",
       "        vertical-align: top;\n",
       "    }\n",
       "\n",
       "    .dataframe thead th {\n",
       "        text-align: right;\n",
       "    }\n",
       "</style>\n",
       "<table border=\"1\" class=\"dataframe\">\n",
       "  <thead>\n",
       "    <tr style=\"text-align: right;\">\n",
       "      <th></th>\n",
       "      <th></th>\n",
       "      <th></th>\n",
       "      <th></th>\n",
       "      <th></th>\n",
       "      <th></th>\n",
       "      <th>Pearson (high)</th>\n",
       "      <th>Pearson (low)</th>\n",
       "      <th>Spearman (high)</th>\n",
       "      <th>Spearman (low)</th>\n",
       "      <th>Clustermatch (high)</th>\n",
       "      <th>Clustermatch (low)</th>\n",
       "      <th>ccc</th>\n",
       "      <th>pearson</th>\n",
       "      <th>spearman</th>\n",
       "    </tr>\n",
       "    <tr>\n",
       "      <th>Spearman (low)</th>\n",
       "      <th>Pearson (low)</th>\n",
       "      <th>Clustermatch (low)</th>\n",
       "      <th>Spearman (high)</th>\n",
       "      <th>Pearson (high)</th>\n",
       "      <th>Clustermatch (high)</th>\n",
       "      <th></th>\n",
       "      <th></th>\n",
       "      <th></th>\n",
       "      <th></th>\n",
       "      <th></th>\n",
       "      <th></th>\n",
       "      <th></th>\n",
       "      <th></th>\n",
       "      <th></th>\n",
       "    </tr>\n",
       "  </thead>\n",
       "  <tbody>\n",
       "    <tr>\n",
       "      <th rowspan=\"8\" valign=\"top\">False</th>\n",
       "      <th>False</th>\n",
       "      <th>False</th>\n",
       "      <th>True</th>\n",
       "      <th>True</th>\n",
       "      <th>True</th>\n",
       "      <td>True</td>\n",
       "      <td>False</td>\n",
       "      <td>True</td>\n",
       "      <td>False</td>\n",
       "      <td>True</td>\n",
       "      <td>False</td>\n",
       "      <td>1.000000</td>\n",
       "      <td>1.000000</td>\n",
       "      <td>1.000000</td>\n",
       "    </tr>\n",
       "    <tr>\n",
       "      <th rowspan=\"2\" valign=\"top\">True</th>\n",
       "      <th rowspan=\"2\" valign=\"top\">False</th>\n",
       "      <th rowspan=\"2\" valign=\"top\">True</th>\n",
       "      <th rowspan=\"2\" valign=\"top\">False</th>\n",
       "      <th>True</th>\n",
       "      <td>False</td>\n",
       "      <td>True</td>\n",
       "      <td>True</td>\n",
       "      <td>False</td>\n",
       "      <td>True</td>\n",
       "      <td>False</td>\n",
       "      <td>1.000000</td>\n",
       "      <td>0.130737</td>\n",
       "      <td>0.799805</td>\n",
       "    </tr>\n",
       "    <tr>\n",
       "      <th>True</th>\n",
       "      <td>False</td>\n",
       "      <td>True</td>\n",
       "      <td>True</td>\n",
       "      <td>False</td>\n",
       "      <td>True</td>\n",
       "      <td>False</td>\n",
       "      <td>1.000000</td>\n",
       "      <td>0.145020</td>\n",
       "      <td>0.799805</td>\n",
       "    </tr>\n",
       "    <tr>\n",
       "      <th rowspan=\"5\" valign=\"top\">False</th>\n",
       "      <th rowspan=\"2\" valign=\"top\">False</th>\n",
       "      <th rowspan=\"2\" valign=\"top\">True</th>\n",
       "      <th rowspan=\"2\" valign=\"top\">True</th>\n",
       "      <th>True</th>\n",
       "      <td>True</td>\n",
       "      <td>False</td>\n",
       "      <td>True</td>\n",
       "      <td>False</td>\n",
       "      <td>True</td>\n",
       "      <td>False</td>\n",
       "      <td>1.000000</td>\n",
       "      <td>0.951172</td>\n",
       "      <td>1.000000</td>\n",
       "    </tr>\n",
       "    <tr>\n",
       "      <th>True</th>\n",
       "      <td>True</td>\n",
       "      <td>False</td>\n",
       "      <td>True</td>\n",
       "      <td>False</td>\n",
       "      <td>True</td>\n",
       "      <td>False</td>\n",
       "      <td>1.000000</td>\n",
       "      <td>0.955566</td>\n",
       "      <td>1.000000</td>\n",
       "    </tr>\n",
       "    <tr>\n",
       "      <th>...</th>\n",
       "      <th>...</th>\n",
       "      <th>...</th>\n",
       "      <th>...</th>\n",
       "      <td>...</td>\n",
       "      <td>...</td>\n",
       "      <td>...</td>\n",
       "      <td>...</td>\n",
       "      <td>...</td>\n",
       "      <td>...</td>\n",
       "      <td>...</td>\n",
       "      <td>...</td>\n",
       "      <td>...</td>\n",
       "    </tr>\n",
       "    <tr>\n",
       "      <th>True</th>\n",
       "      <th>False</th>\n",
       "      <th>False</th>\n",
       "      <th>False</th>\n",
       "      <td>False</td>\n",
       "      <td>False</td>\n",
       "      <td>False</td>\n",
       "      <td>False</td>\n",
       "      <td>False</td>\n",
       "      <td>True</td>\n",
       "      <td>0.000000</td>\n",
       "      <td>0.380371</td>\n",
       "      <td>0.399902</td>\n",
       "    </tr>\n",
       "    <tr>\n",
       "      <th>False</th>\n",
       "      <th>True</th>\n",
       "      <th>True</th>\n",
       "      <th>True</th>\n",
       "      <td>True</td>\n",
       "      <td>False</td>\n",
       "      <td>True</td>\n",
       "      <td>False</td>\n",
       "      <td>True</td>\n",
       "      <td>False</td>\n",
       "      <td>1.000000</td>\n",
       "      <td>0.871094</td>\n",
       "      <td>0.948730</td>\n",
       "    </tr>\n",
       "    <tr>\n",
       "      <th rowspan=\"3\" valign=\"top\">True</th>\n",
       "      <th rowspan=\"3\" valign=\"top\">False</th>\n",
       "      <th>False</th>\n",
       "      <th>False</th>\n",
       "      <th>False</th>\n",
       "      <th>True</th>\n",
       "      <td>False</td>\n",
       "      <td>False</td>\n",
       "      <td>False</td>\n",
       "      <td>True</td>\n",
       "      <td>True</td>\n",
       "      <td>False</td>\n",
       "      <td>0.333252</td>\n",
       "      <td>0.527344</td>\n",
       "      <td>0.258301</td>\n",
       "    </tr>\n",
       "    <tr>\n",
       "      <th>True</th>\n",
       "      <th>False</th>\n",
       "      <th>False</th>\n",
       "      <th>False</th>\n",
       "      <td>False</td>\n",
       "      <td>False</td>\n",
       "      <td>False</td>\n",
       "      <td>True</td>\n",
       "      <td>False</td>\n",
       "      <td>True</td>\n",
       "      <td>0.000000</td>\n",
       "      <td>0.560059</td>\n",
       "      <td>0.199951</td>\n",
       "    </tr>\n",
       "    <tr>\n",
       "      <th>False</th>\n",
       "      <th>False</th>\n",
       "      <th>False</th>\n",
       "      <th>True</th>\n",
       "      <td>False</td>\n",
       "      <td>False</td>\n",
       "      <td>False</td>\n",
       "      <td>True</td>\n",
       "      <td>True</td>\n",
       "      <td>False</td>\n",
       "      <td>0.333252</td>\n",
       "      <td>0.527344</td>\n",
       "      <td>0.258301</td>\n",
       "    </tr>\n",
       "  </tbody>\n",
       "</table>\n",
       "<p>692459505 rows × 9 columns</p>\n",
       "</div>"
      ],
      "text/plain": [
       "                                                                                                    Pearson (high)  \\\n",
       "Spearman (low) Pearson (low) Clustermatch (low) Spearman (high) Pearson (high) Clustermatch (high)                   \n",
       "False          False         False              True            True           True                           True   \n",
       "               True          False              True            False          True                          False   \n",
       "                                                                               True                          False   \n",
       "               False         False              True            True           True                           True   \n",
       "                                                                               True                           True   \n",
       "...                                                                                                            ...   \n",
       "                             True               False           False          False                         False   \n",
       "                             False              True            True           True                           True   \n",
       "True           False         False              False           False          True                          False   \n",
       "                             True               False           False          False                         False   \n",
       "                             False              False           False          True                          False   \n",
       "\n",
       "                                                                                                    Pearson (low)  \\\n",
       "Spearman (low) Pearson (low) Clustermatch (low) Spearman (high) Pearson (high) Clustermatch (high)                  \n",
       "False          False         False              True            True           True                         False   \n",
       "               True          False              True            False          True                          True   \n",
       "                                                                               True                          True   \n",
       "               False         False              True            True           True                         False   \n",
       "                                                                               True                         False   \n",
       "...                                                                                                           ...   \n",
       "                             True               False           False          False                        False   \n",
       "                             False              True            True           True                         False   \n",
       "True           False         False              False           False          True                         False   \n",
       "                             True               False           False          False                        False   \n",
       "                             False              False           False          True                         False   \n",
       "\n",
       "                                                                                                    Spearman (high)  \\\n",
       "Spearman (low) Pearson (low) Clustermatch (low) Spearman (high) Pearson (high) Clustermatch (high)                    \n",
       "False          False         False              True            True           True                            True   \n",
       "               True          False              True            False          True                            True   \n",
       "                                                                               True                            True   \n",
       "               False         False              True            True           True                            True   \n",
       "                                                                               True                            True   \n",
       "...                                                                                                             ...   \n",
       "                             True               False           False          False                          False   \n",
       "                             False              True            True           True                            True   \n",
       "True           False         False              False           False          True                           False   \n",
       "                             True               False           False          False                          False   \n",
       "                             False              False           False          True                           False   \n",
       "\n",
       "                                                                                                    Spearman (low)  \\\n",
       "Spearman (low) Pearson (low) Clustermatch (low) Spearman (high) Pearson (high) Clustermatch (high)                   \n",
       "False          False         False              True            True           True                          False   \n",
       "               True          False              True            False          True                          False   \n",
       "                                                                               True                          False   \n",
       "               False         False              True            True           True                          False   \n",
       "                                                                               True                          False   \n",
       "...                                                                                                            ...   \n",
       "                             True               False           False          False                         False   \n",
       "                             False              True            True           True                          False   \n",
       "True           False         False              False           False          True                           True   \n",
       "                             True               False           False          False                          True   \n",
       "                             False              False           False          True                           True   \n",
       "\n",
       "                                                                                                    Clustermatch (high)  \\\n",
       "Spearman (low) Pearson (low) Clustermatch (low) Spearman (high) Pearson (high) Clustermatch (high)                        \n",
       "False          False         False              True            True           True                                True   \n",
       "               True          False              True            False          True                                True   \n",
       "                                                                               True                                True   \n",
       "               False         False              True            True           True                                True   \n",
       "                                                                               True                                True   \n",
       "...                                                                                                                 ...   \n",
       "                             True               False           False          False                              False   \n",
       "                             False              True            True           True                                True   \n",
       "True           False         False              False           False          True                                True   \n",
       "                             True               False           False          False                              False   \n",
       "                             False              False           False          True                                True   \n",
       "\n",
       "                                                                                                    Clustermatch (low)  \\\n",
       "Spearman (low) Pearson (low) Clustermatch (low) Spearman (high) Pearson (high) Clustermatch (high)                       \n",
       "False          False         False              True            True           True                              False   \n",
       "               True          False              True            False          True                              False   \n",
       "                                                                               True                              False   \n",
       "               False         False              True            True           True                              False   \n",
       "                                                                               True                              False   \n",
       "...                                                                                                                ...   \n",
       "                             True               False           False          False                              True   \n",
       "                             False              True            True           True                              False   \n",
       "True           False         False              False           False          True                              False   \n",
       "                             True               False           False          False                              True   \n",
       "                             False              False           False          True                              False   \n",
       "\n",
       "                                                                                                         ccc  \\\n",
       "Spearman (low) Pearson (low) Clustermatch (low) Spearman (high) Pearson (high) Clustermatch (high)             \n",
       "False          False         False              True            True           True                 1.000000   \n",
       "               True          False              True            False          True                 1.000000   \n",
       "                                                                               True                 1.000000   \n",
       "               False         False              True            True           True                 1.000000   \n",
       "                                                                               True                 1.000000   \n",
       "...                                                                                                      ...   \n",
       "                             True               False           False          False                0.000000   \n",
       "                             False              True            True           True                 1.000000   \n",
       "True           False         False              False           False          True                 0.333252   \n",
       "                             True               False           False          False                0.000000   \n",
       "                             False              False           False          True                 0.333252   \n",
       "\n",
       "                                                                                                     pearson  \\\n",
       "Spearman (low) Pearson (low) Clustermatch (low) Spearman (high) Pearson (high) Clustermatch (high)             \n",
       "False          False         False              True            True           True                 1.000000   \n",
       "               True          False              True            False          True                 0.130737   \n",
       "                                                                               True                 0.145020   \n",
       "               False         False              True            True           True                 0.951172   \n",
       "                                                                               True                 0.955566   \n",
       "...                                                                                                      ...   \n",
       "                             True               False           False          False                0.380371   \n",
       "                             False              True            True           True                 0.871094   \n",
       "True           False         False              False           False          True                 0.527344   \n",
       "                             True               False           False          False                0.560059   \n",
       "                             False              False           False          True                 0.527344   \n",
       "\n",
       "                                                                                                    spearman  \n",
       "Spearman (low) Pearson (low) Clustermatch (low) Spearman (high) Pearson (high) Clustermatch (high)            \n",
       "False          False         False              True            True           True                 1.000000  \n",
       "               True          False              True            False          True                 0.799805  \n",
       "                                                                               True                 0.799805  \n",
       "               False         False              True            True           True                 1.000000  \n",
       "                                                                               True                 1.000000  \n",
       "...                                                                                                      ...  \n",
       "                             True               False           False          False                0.399902  \n",
       "                             False              True            True           True                 0.948730  \n",
       "True           False         False              False           False          True                 0.258301  \n",
       "                             True               False           False          False                0.199951  \n",
       "                             False              False           False          True                 0.258301  \n",
       "\n",
       "[692459505 rows x 9 columns]"
      ]
     },
     "execution_count": 37,
     "metadata": {},
     "output_type": "execute_result"
    }
   ],
   "source": [
    "gene_pairs_by_cats"
   ]
  },
  {
   "cell_type": "code",
   "execution_count": 38,
   "id": "340b9a40-ec90-4388-ab1c-0a8bcc2bb0b1",
   "metadata": {
    "execution": {
     "iopub.execute_input": "2023-09-11T12:21:33.220057Z",
     "iopub.status.busy": "2023-09-11T12:21:33.219987Z",
     "iopub.status.idle": "2023-09-11T12:21:34.524380Z",
     "shell.execute_reply": "2023-09-11T12:21:34.524162Z"
    },
    "papermill": {
     "duration": 1.309613,
     "end_time": "2023-09-11T12:21:34.525221",
     "exception": false,
     "start_time": "2023-09-11T12:21:33.215608",
     "status": "completed"
    },
    "tags": []
   },
   "outputs": [],
   "source": [
    "gene_pairs_by_cats = gene_pairs_by_cats.sort_index()"
   ]
  },
  {
   "cell_type": "code",
   "execution_count": 39,
   "id": "6c583d89-4140-4cb6-aee8-18a1bd0427d1",
   "metadata": {
    "execution": {
     "iopub.execute_input": "2023-09-11T12:21:34.534672Z",
     "iopub.status.busy": "2023-09-11T12:21:34.534586Z",
     "iopub.status.idle": "2023-09-11T12:21:39.012340Z",
     "shell.execute_reply": "2023-09-11T12:21:39.011993Z"
    },
    "papermill": {
     "duration": 4.483172,
     "end_time": "2023-09-11T12:21:39.013096",
     "exception": false,
     "start_time": "2023-09-11T12:21:34.529924",
     "status": "completed"
    },
    "tags": []
   },
   "outputs": [
    {
     "data": {
      "text/html": [
       "<div>\n",
       "<style scoped>\n",
       "    .dataframe tbody tr th:only-of-type {\n",
       "        vertical-align: middle;\n",
       "    }\n",
       "\n",
       "    .dataframe tbody tr th {\n",
       "        vertical-align: top;\n",
       "    }\n",
       "\n",
       "    .dataframe thead th {\n",
       "        text-align: right;\n",
       "    }\n",
       "</style>\n",
       "<table border=\"1\" class=\"dataframe\">\n",
       "  <thead>\n",
       "    <tr style=\"text-align: right;\">\n",
       "      <th></th>\n",
       "      <th>Spearman (low)</th>\n",
       "      <th>Pearson (low)</th>\n",
       "      <th>Clustermatch (low)</th>\n",
       "      <th>Spearman (high)</th>\n",
       "      <th>Pearson (high)</th>\n",
       "      <th>Clustermatch (high)</th>\n",
       "    </tr>\n",
       "  </thead>\n",
       "  <tbody>\n",
       "    <tr>\n",
       "      <th>0</th>\n",
       "      <td>False</td>\n",
       "      <td>False</td>\n",
       "      <td>False</td>\n",
       "      <td>False</td>\n",
       "      <td>False</td>\n",
       "      <td>True</td>\n",
       "    </tr>\n",
       "    <tr>\n",
       "      <th>1</th>\n",
       "      <td>False</td>\n",
       "      <td>False</td>\n",
       "      <td>False</td>\n",
       "      <td>False</td>\n",
       "      <td>True</td>\n",
       "      <td>True</td>\n",
       "    </tr>\n",
       "    <tr>\n",
       "      <th>2</th>\n",
       "      <td>False</td>\n",
       "      <td>False</td>\n",
       "      <td>False</td>\n",
       "      <td>True</td>\n",
       "      <td>False</td>\n",
       "      <td>True</td>\n",
       "    </tr>\n",
       "    <tr>\n",
       "      <th>3</th>\n",
       "      <td>False</td>\n",
       "      <td>False</td>\n",
       "      <td>False</td>\n",
       "      <td>True</td>\n",
       "      <td>True</td>\n",
       "      <td>True</td>\n",
       "    </tr>\n",
       "    <tr>\n",
       "      <th>4</th>\n",
       "      <td>False</td>\n",
       "      <td>False</td>\n",
       "      <td>True</td>\n",
       "      <td>False</td>\n",
       "      <td>False</td>\n",
       "      <td>False</td>\n",
       "    </tr>\n",
       "    <tr>\n",
       "      <th>5</th>\n",
       "      <td>False</td>\n",
       "      <td>False</td>\n",
       "      <td>True</td>\n",
       "      <td>False</td>\n",
       "      <td>True</td>\n",
       "      <td>False</td>\n",
       "    </tr>\n",
       "    <tr>\n",
       "      <th>6</th>\n",
       "      <td>False</td>\n",
       "      <td>False</td>\n",
       "      <td>True</td>\n",
       "      <td>True</td>\n",
       "      <td>False</td>\n",
       "      <td>False</td>\n",
       "    </tr>\n",
       "    <tr>\n",
       "      <th>7</th>\n",
       "      <td>False</td>\n",
       "      <td>False</td>\n",
       "      <td>True</td>\n",
       "      <td>True</td>\n",
       "      <td>True</td>\n",
       "      <td>False</td>\n",
       "    </tr>\n",
       "    <tr>\n",
       "      <th>8</th>\n",
       "      <td>False</td>\n",
       "      <td>True</td>\n",
       "      <td>False</td>\n",
       "      <td>False</td>\n",
       "      <td>False</td>\n",
       "      <td>True</td>\n",
       "    </tr>\n",
       "    <tr>\n",
       "      <th>9</th>\n",
       "      <td>False</td>\n",
       "      <td>True</td>\n",
       "      <td>False</td>\n",
       "      <td>True</td>\n",
       "      <td>False</td>\n",
       "      <td>True</td>\n",
       "    </tr>\n",
       "    <tr>\n",
       "      <th>10</th>\n",
       "      <td>False</td>\n",
       "      <td>True</td>\n",
       "      <td>True</td>\n",
       "      <td>False</td>\n",
       "      <td>False</td>\n",
       "      <td>False</td>\n",
       "    </tr>\n",
       "    <tr>\n",
       "      <th>11</th>\n",
       "      <td>False</td>\n",
       "      <td>True</td>\n",
       "      <td>True</td>\n",
       "      <td>True</td>\n",
       "      <td>False</td>\n",
       "      <td>False</td>\n",
       "    </tr>\n",
       "    <tr>\n",
       "      <th>12</th>\n",
       "      <td>True</td>\n",
       "      <td>False</td>\n",
       "      <td>False</td>\n",
       "      <td>False</td>\n",
       "      <td>False</td>\n",
       "      <td>True</td>\n",
       "    </tr>\n",
       "    <tr>\n",
       "      <th>13</th>\n",
       "      <td>True</td>\n",
       "      <td>False</td>\n",
       "      <td>False</td>\n",
       "      <td>False</td>\n",
       "      <td>True</td>\n",
       "      <td>True</td>\n",
       "    </tr>\n",
       "    <tr>\n",
       "      <th>14</th>\n",
       "      <td>True</td>\n",
       "      <td>False</td>\n",
       "      <td>True</td>\n",
       "      <td>False</td>\n",
       "      <td>False</td>\n",
       "      <td>False</td>\n",
       "    </tr>\n",
       "    <tr>\n",
       "      <th>15</th>\n",
       "      <td>True</td>\n",
       "      <td>False</td>\n",
       "      <td>True</td>\n",
       "      <td>False</td>\n",
       "      <td>True</td>\n",
       "      <td>False</td>\n",
       "    </tr>\n",
       "    <tr>\n",
       "      <th>16</th>\n",
       "      <td>True</td>\n",
       "      <td>True</td>\n",
       "      <td>False</td>\n",
       "      <td>False</td>\n",
       "      <td>False</td>\n",
       "      <td>True</td>\n",
       "    </tr>\n",
       "    <tr>\n",
       "      <th>17</th>\n",
       "      <td>True</td>\n",
       "      <td>True</td>\n",
       "      <td>True</td>\n",
       "      <td>False</td>\n",
       "      <td>False</td>\n",
       "      <td>False</td>\n",
       "    </tr>\n",
       "  </tbody>\n",
       "</table>\n",
       "</div>"
      ],
      "text/plain": [
       "    Spearman (low)  Pearson (low)  Clustermatch (low)  Spearman (high)  \\\n",
       "0            False          False               False            False   \n",
       "1            False          False               False            False   \n",
       "2            False          False               False             True   \n",
       "3            False          False               False             True   \n",
       "4            False          False                True            False   \n",
       "5            False          False                True            False   \n",
       "6            False          False                True             True   \n",
       "7            False          False                True             True   \n",
       "8            False           True               False            False   \n",
       "9            False           True               False             True   \n",
       "10           False           True                True            False   \n",
       "11           False           True                True             True   \n",
       "12            True          False               False            False   \n",
       "13            True          False               False            False   \n",
       "14            True          False                True            False   \n",
       "15            True          False                True            False   \n",
       "16            True           True               False            False   \n",
       "17            True           True                True            False   \n",
       "\n",
       "    Pearson (high)  Clustermatch (high)  \n",
       "0            False                 True  \n",
       "1             True                 True  \n",
       "2            False                 True  \n",
       "3             True                 True  \n",
       "4            False                False  \n",
       "5             True                False  \n",
       "6            False                False  \n",
       "7             True                False  \n",
       "8            False                 True  \n",
       "9            False                 True  \n",
       "10           False                False  \n",
       "11           False                False  \n",
       "12           False                 True  \n",
       "13            True                 True  \n",
       "14           False                False  \n",
       "15            True                False  \n",
       "16           False                 True  \n",
       "17           False                False  "
      ]
     },
     "metadata": {},
     "output_type": "display_data"
    }
   ],
   "source": [
    "_tmp_index = gene_pairs_by_cats.index.unique().to_frame(False)\n",
    "display(_tmp_index)"
   ]
  },
  {
   "cell_type": "code",
   "execution_count": 40,
   "id": "137afe3a-2936-4270-a14c-00d9ac542b50",
   "metadata": {
    "execution": {
     "iopub.execute_input": "2023-09-11T12:21:39.028431Z",
     "iopub.status.busy": "2023-09-11T12:21:39.028330Z",
     "iopub.status.idle": "2023-09-11T12:21:39.032451Z",
     "shell.execute_reply": "2023-09-11T12:21:39.032325Z"
    },
    "papermill": {
     "duration": 0.015215,
     "end_time": "2023-09-11T12:21:39.033066",
     "exception": false,
     "start_time": "2023-09-11T12:21:39.017851",
     "status": "completed"
    },
    "tags": []
   },
   "outputs": [
    {
     "data": {
      "text/html": [
       "<div>\n",
       "<style scoped>\n",
       "    .dataframe tbody tr th:only-of-type {\n",
       "        vertical-align: middle;\n",
       "    }\n",
       "\n",
       "    .dataframe tbody tr th {\n",
       "        vertical-align: top;\n",
       "    }\n",
       "\n",
       "    .dataframe thead th {\n",
       "        text-align: right;\n",
       "    }\n",
       "</style>\n",
       "<table border=\"1\" class=\"dataframe\">\n",
       "  <thead>\n",
       "    <tr style=\"text-align: right;\">\n",
       "      <th></th>\n",
       "      <th>Spearman (low)</th>\n",
       "      <th>Pearson (low)</th>\n",
       "      <th>Clustermatch (low)</th>\n",
       "      <th>Spearman (high)</th>\n",
       "      <th>Pearson (high)</th>\n",
       "      <th>Clustermatch (high)</th>\n",
       "    </tr>\n",
       "  </thead>\n",
       "  <tbody>\n",
       "    <tr>\n",
       "      <th>3</th>\n",
       "      <td>False</td>\n",
       "      <td>False</td>\n",
       "      <td>False</td>\n",
       "      <td>True</td>\n",
       "      <td>True</td>\n",
       "      <td>True</td>\n",
       "    </tr>\n",
       "    <tr>\n",
       "      <th>7</th>\n",
       "      <td>False</td>\n",
       "      <td>False</td>\n",
       "      <td>True</td>\n",
       "      <td>True</td>\n",
       "      <td>True</td>\n",
       "      <td>False</td>\n",
       "    </tr>\n",
       "    <tr>\n",
       "      <th>9</th>\n",
       "      <td>False</td>\n",
       "      <td>True</td>\n",
       "      <td>False</td>\n",
       "      <td>True</td>\n",
       "      <td>False</td>\n",
       "      <td>True</td>\n",
       "    </tr>\n",
       "    <tr>\n",
       "      <th>11</th>\n",
       "      <td>False</td>\n",
       "      <td>True</td>\n",
       "      <td>True</td>\n",
       "      <td>True</td>\n",
       "      <td>False</td>\n",
       "      <td>False</td>\n",
       "    </tr>\n",
       "    <tr>\n",
       "      <th>13</th>\n",
       "      <td>True</td>\n",
       "      <td>False</td>\n",
       "      <td>False</td>\n",
       "      <td>False</td>\n",
       "      <td>True</td>\n",
       "      <td>True</td>\n",
       "    </tr>\n",
       "    <tr>\n",
       "      <th>15</th>\n",
       "      <td>True</td>\n",
       "      <td>False</td>\n",
       "      <td>True</td>\n",
       "      <td>False</td>\n",
       "      <td>True</td>\n",
       "      <td>False</td>\n",
       "    </tr>\n",
       "    <tr>\n",
       "      <th>16</th>\n",
       "      <td>True</td>\n",
       "      <td>True</td>\n",
       "      <td>False</td>\n",
       "      <td>False</td>\n",
       "      <td>False</td>\n",
       "      <td>True</td>\n",
       "    </tr>\n",
       "    <tr>\n",
       "      <th>17</th>\n",
       "      <td>True</td>\n",
       "      <td>True</td>\n",
       "      <td>True</td>\n",
       "      <td>False</td>\n",
       "      <td>False</td>\n",
       "      <td>False</td>\n",
       "    </tr>\n",
       "  </tbody>\n",
       "</table>\n",
       "</div>"
      ],
      "text/plain": [
       "    Spearman (low)  Pearson (low)  Clustermatch (low)  Spearman (high)  \\\n",
       "3            False          False               False             True   \n",
       "7            False          False                True             True   \n",
       "9            False           True               False             True   \n",
       "11           False           True                True             True   \n",
       "13            True          False               False            False   \n",
       "15            True          False                True            False   \n",
       "16            True           True               False            False   \n",
       "17            True           True                True            False   \n",
       "\n",
       "    Pearson (high)  Clustermatch (high)  \n",
       "3             True                 True  \n",
       "7             True                False  \n",
       "9            False                 True  \n",
       "11           False                False  \n",
       "13            True                 True  \n",
       "15            True                False  \n",
       "16           False                 True  \n",
       "17           False                False  "
      ]
     },
     "execution_count": 40,
     "metadata": {},
     "output_type": "execute_result"
    }
   ],
   "source": [
    "_tmp_index[_tmp_index.sum(axis=1) == 3]"
   ]
  },
  {
   "cell_type": "code",
   "execution_count": 41,
   "id": "ab2a49ff-700b-48c1-b8c1-428b1061ce5a",
   "metadata": {
    "execution": {
     "iopub.execute_input": "2023-09-11T12:21:39.042134Z",
     "iopub.status.busy": "2023-09-11T12:21:39.042019Z",
     "iopub.status.idle": "2023-09-11T12:21:39.045177Z",
     "shell.execute_reply": "2023-09-11T12:21:39.045056Z"
    },
    "papermill": {
     "duration": 0.008171,
     "end_time": "2023-09-11T12:21:39.045620",
     "exception": false,
     "start_time": "2023-09-11T12:21:39.037449",
     "status": "completed"
    },
    "tags": []
   },
   "outputs": [
    {
     "data": {
      "text/plain": [
       "0      True\n",
       "1      True\n",
       "2      True\n",
       "3      True\n",
       "4     False\n",
       "5     False\n",
       "6     False\n",
       "7     False\n",
       "8     False\n",
       "9     False\n",
       "10    False\n",
       "11    False\n",
       "12    False\n",
       "13    False\n",
       "14    False\n",
       "15    False\n",
       "16    False\n",
       "17    False\n",
       "dtype: bool"
      ]
     },
     "execution_count": 41,
     "metadata": {},
     "output_type": "execute_result"
    }
   ],
   "source": [
    "_tmp_index.apply(lambda x: x[0:3].sum() == 0, axis=1)"
   ]
  },
  {
   "cell_type": "code",
   "execution_count": 42,
   "id": "3008a6b3-8803-40f3-a09c-45ca94131327",
   "metadata": {
    "execution": {
     "iopub.execute_input": "2023-09-11T12:21:39.054533Z",
     "iopub.status.busy": "2023-09-11T12:21:39.054423Z",
     "iopub.status.idle": "2023-09-11T12:21:39.059556Z",
     "shell.execute_reply": "2023-09-11T12:21:39.059434Z"
    },
    "papermill": {
     "duration": 0.010198,
     "end_time": "2023-09-11T12:21:39.060109",
     "exception": false,
     "start_time": "2023-09-11T12:21:39.049911",
     "status": "completed"
    },
    "tags": []
   },
   "outputs": [
    {
     "data": {
      "text/plain": [
       "array([(False, False, False, False, True, True),\n",
       "       (False, False, False, True, False, True)], dtype=object)"
      ]
     },
     "execution_count": 42,
     "metadata": {},
     "output_type": "execute_result"
    }
   ],
   "source": [
    "# agreements on top\n",
    "_tmp_index.loc[\n",
    "    _tmp_index[\n",
    "        _tmp_index.apply(lambda x: x.sum() > 1, axis=1)\n",
    "        & _tmp_index.apply(lambda x: x[0:3].sum() == 0, axis=1)\n",
    "        & _tmp_index.apply(lambda x: 3 > x[3:].sum() > 1, axis=1)\n",
    "    ].index\n",
    "].apply(tuple, axis=1).to_numpy()"
   ]
  },
  {
   "cell_type": "code",
   "execution_count": 43,
   "id": "556b8016-3a64-4e95-adb6-705a3e8854c7",
   "metadata": {
    "execution": {
     "iopub.execute_input": "2023-09-11T12:21:39.069101Z",
     "iopub.status.busy": "2023-09-11T12:21:39.069015Z",
     "iopub.status.idle": "2023-09-11T12:21:39.074078Z",
     "shell.execute_reply": "2023-09-11T12:21:39.073957Z"
    },
    "papermill": {
     "duration": 0.010203,
     "end_time": "2023-09-11T12:21:39.074671",
     "exception": false,
     "start_time": "2023-09-11T12:21:39.064468",
     "status": "completed"
    },
    "tags": []
   },
   "outputs": [
    {
     "data": {
      "text/plain": [
       "array([(False, True, True, False, False, False),\n",
       "       (True, False, True, False, False, False)], dtype=object)"
      ]
     },
     "execution_count": 43,
     "metadata": {},
     "output_type": "execute_result"
    }
   ],
   "source": [
    "# agreements on bottom\n",
    "_tmp_index.loc[\n",
    "    _tmp_index[\n",
    "        _tmp_index.apply(lambda x: x.sum() > 1, axis=1)\n",
    "        & _tmp_index.apply(lambda x: 3 > x[0:3].sum() > 1, axis=1)\n",
    "        & _tmp_index.apply(lambda x: x[3:].sum() == 0, axis=1)\n",
    "    ].index\n",
    "].apply(tuple, axis=1).to_numpy()"
   ]
  },
  {
   "cell_type": "code",
   "execution_count": 44,
   "id": "4cd4c428-510a-497a-9c9c-4af16e9c254b",
   "metadata": {
    "execution": {
     "iopub.execute_input": "2023-09-11T12:21:39.083760Z",
     "iopub.status.busy": "2023-09-11T12:21:39.083653Z",
     "iopub.status.idle": "2023-09-11T12:21:39.088728Z",
     "shell.execute_reply": "2023-09-11T12:21:39.088604Z"
    },
    "papermill": {
     "duration": 0.010123,
     "end_time": "2023-09-11T12:21:39.089174",
     "exception": false,
     "start_time": "2023-09-11T12:21:39.079051",
     "status": "completed"
    },
    "tags": []
   },
   "outputs": [
    {
     "data": {
      "text/plain": [
       "array([(False, False, True, False, True, False),\n",
       "       (False, False, True, True, False, False),\n",
       "       (False, False, True, True, True, False),\n",
       "       (False, True, False, False, False, True),\n",
       "       (False, True, False, True, False, True),\n",
       "       (False, True, True, True, False, False),\n",
       "       (True, False, False, False, False, True),\n",
       "       (True, False, False, False, True, True),\n",
       "       (True, False, True, False, True, False),\n",
       "       (True, True, False, False, False, True)], dtype=object)"
      ]
     },
     "execution_count": 44,
     "metadata": {},
     "output_type": "execute_result"
    }
   ],
   "source": [
    "# diagreements\n",
    "_tmp_index.loc[\n",
    "    _tmp_index[\n",
    "        _tmp_index.apply(lambda x: x.sum() > 1, axis=1)\n",
    "        & _tmp_index.apply(lambda x: x[0:3].sum() > 0, axis=1)\n",
    "        & _tmp_index.apply(lambda x: x[3:].sum() > 0, axis=1)\n",
    "    ].index\n",
    "].apply(tuple, axis=1).to_numpy()"
   ]
  },
  {
   "cell_type": "code",
   "execution_count": 46,
   "id": "14911f01-eace-4982-8d82-3f45bcf65e76",
   "metadata": {
    "execution": {
     "iopub.execute_input": "2023-09-11T12:21:39.098241Z",
     "iopub.status.busy": "2023-09-11T12:21:39.098153Z",
     "iopub.status.idle": "2023-09-11T12:21:49.397857Z",
     "shell.execute_reply": "2023-09-11T12:21:49.397553Z"
    },
    "papermill": {
     "duration": 10.305168,
     "end_time": "2023-09-11T12:21:49.398690",
     "exception": false,
     "start_time": "2023-09-11T12:21:39.093522",
     "status": "completed"
    },
    "tags": []
   },
   "outputs": [],
   "source": [
    "# order subsets\n",
    "gene_pairs_by_cats = gene_pairs_by_cats.loc[\n",
    "    [\n",
    "        (False, False, False, True, True, True),\n",
    "        # agreements on top\n",
    "        (False, False, False, False, True, True),\n",
    "        (False, False, False, True, False, True),\n",
    "        (False, False, False, True, True, False),\n",
    "        # agreements on bottom\n",
    "        (False, True, True, False, False, False),\n",
    "        (True, False, True, False, False, False),\n",
    "        (True, True, False, False, False, False),\n",
    "        # full agreements on low:\n",
    "        (True, True, True, False, False, False),\n",
    "        # diagreements\n",
    "        #   ccc\n",
    "        (False, True, False, False, False, True),\n",
    "        (True, False, False, False, False, True),\n",
    "        (True, True, False, False, False, True),\n",
    "        (True, False, False, False, True, True),\n",
    "        (False, True, False, True, False, True),\n",
    "        #   pearson\n",
    "        (False, False, True, False, True, False),\n",
    "        (True, False, True, False, True, False),\n",
    "        (True, False, False, False, True, False),\n",
    "        (False, False, True, True, True, False),\n",
    "        #   spearman\n",
    "        (False, False, True, True, False, False),\n",
    "        (False, True, True, True, False, False),\n",
    "        (False, True, False, True, False, False),\n",
    "    ]\n",
    "]"
   ]
  },
  {
   "cell_type": "code",
   "execution_count": 47,
   "id": "12f6ad57-8cdf-4d7b-8f60-32773afc8809",
   "metadata": {
    "execution": {
     "iopub.execute_input": "2023-09-11T12:21:49.414156Z",
     "iopub.status.busy": "2023-09-11T12:21:49.414065Z",
     "iopub.status.idle": "2023-09-11T12:21:49.419933Z",
     "shell.execute_reply": "2023-09-11T12:21:49.419732Z"
    },
    "papermill": {
     "duration": 0.017279,
     "end_time": "2023-09-11T12:21:49.420720",
     "exception": false,
     "start_time": "2023-09-11T12:21:49.403441",
     "status": "completed"
    },
    "tags": []
   },
   "outputs": [
    {
     "data": {
      "text/html": [
       "<div>\n",
       "<style scoped>\n",
       "    .dataframe tbody tr th:only-of-type {\n",
       "        vertical-align: middle;\n",
       "    }\n",
       "\n",
       "    .dataframe tbody tr th {\n",
       "        vertical-align: top;\n",
       "    }\n",
       "\n",
       "    .dataframe thead th {\n",
       "        text-align: right;\n",
       "    }\n",
       "</style>\n",
       "<table border=\"1\" class=\"dataframe\">\n",
       "  <thead>\n",
       "    <tr style=\"text-align: right;\">\n",
       "      <th></th>\n",
       "      <th></th>\n",
       "      <th></th>\n",
       "      <th></th>\n",
       "      <th></th>\n",
       "      <th></th>\n",
       "      <th>Pearson (high)</th>\n",
       "      <th>Pearson (low)</th>\n",
       "      <th>Spearman (high)</th>\n",
       "      <th>Spearman (low)</th>\n",
       "      <th>Clustermatch (high)</th>\n",
       "      <th>Clustermatch (low)</th>\n",
       "      <th>ccc</th>\n",
       "      <th>pearson</th>\n",
       "      <th>spearman</th>\n",
       "    </tr>\n",
       "    <tr>\n",
       "      <th>Spearman (low)</th>\n",
       "      <th>Pearson (low)</th>\n",
       "      <th>Clustermatch (low)</th>\n",
       "      <th>Spearman (high)</th>\n",
       "      <th>Pearson (high)</th>\n",
       "      <th>Clustermatch (high)</th>\n",
       "      <th></th>\n",
       "      <th></th>\n",
       "      <th></th>\n",
       "      <th></th>\n",
       "      <th></th>\n",
       "      <th></th>\n",
       "      <th></th>\n",
       "      <th></th>\n",
       "      <th></th>\n",
       "    </tr>\n",
       "  </thead>\n",
       "  <tbody>\n",
       "    <tr>\n",
       "      <th rowspan=\"5\" valign=\"top\">False</th>\n",
       "      <th rowspan=\"5\" valign=\"top\">False</th>\n",
       "      <th rowspan=\"5\" valign=\"top\">False</th>\n",
       "      <th rowspan=\"5\" valign=\"top\">True</th>\n",
       "      <th rowspan=\"5\" valign=\"top\">True</th>\n",
       "      <th>True</th>\n",
       "      <td>True</td>\n",
       "      <td>False</td>\n",
       "      <td>True</td>\n",
       "      <td>False</td>\n",
       "      <td>True</td>\n",
       "      <td>False</td>\n",
       "      <td>1.0</td>\n",
       "      <td>1.000000</td>\n",
       "      <td>1.000000</td>\n",
       "    </tr>\n",
       "    <tr>\n",
       "      <th>True</th>\n",
       "      <td>True</td>\n",
       "      <td>False</td>\n",
       "      <td>True</td>\n",
       "      <td>False</td>\n",
       "      <td>True</td>\n",
       "      <td>False</td>\n",
       "      <td>1.0</td>\n",
       "      <td>0.951172</td>\n",
       "      <td>1.000000</td>\n",
       "    </tr>\n",
       "    <tr>\n",
       "      <th>True</th>\n",
       "      <td>True</td>\n",
       "      <td>False</td>\n",
       "      <td>True</td>\n",
       "      <td>False</td>\n",
       "      <td>True</td>\n",
       "      <td>False</td>\n",
       "      <td>1.0</td>\n",
       "      <td>0.955566</td>\n",
       "      <td>1.000000</td>\n",
       "    </tr>\n",
       "    <tr>\n",
       "      <th>True</th>\n",
       "      <td>True</td>\n",
       "      <td>False</td>\n",
       "      <td>True</td>\n",
       "      <td>False</td>\n",
       "      <td>True</td>\n",
       "      <td>False</td>\n",
       "      <td>1.0</td>\n",
       "      <td>1.000000</td>\n",
       "      <td>0.799805</td>\n",
       "    </tr>\n",
       "    <tr>\n",
       "      <th>True</th>\n",
       "      <td>True</td>\n",
       "      <td>False</td>\n",
       "      <td>True</td>\n",
       "      <td>False</td>\n",
       "      <td>True</td>\n",
       "      <td>False</td>\n",
       "      <td>1.0</td>\n",
       "      <td>0.999512</td>\n",
       "      <td>0.799805</td>\n",
       "    </tr>\n",
       "  </tbody>\n",
       "</table>\n",
       "</div>"
      ],
      "text/plain": [
       "                                                                                                    Pearson (high)  \\\n",
       "Spearman (low) Pearson (low) Clustermatch (low) Spearman (high) Pearson (high) Clustermatch (high)                   \n",
       "False          False         False              True            True           True                           True   \n",
       "                                                                               True                           True   \n",
       "                                                                               True                           True   \n",
       "                                                                               True                           True   \n",
       "                                                                               True                           True   \n",
       "\n",
       "                                                                                                    Pearson (low)  \\\n",
       "Spearman (low) Pearson (low) Clustermatch (low) Spearman (high) Pearson (high) Clustermatch (high)                  \n",
       "False          False         False              True            True           True                         False   \n",
       "                                                                               True                         False   \n",
       "                                                                               True                         False   \n",
       "                                                                               True                         False   \n",
       "                                                                               True                         False   \n",
       "\n",
       "                                                                                                    Spearman (high)  \\\n",
       "Spearman (low) Pearson (low) Clustermatch (low) Spearman (high) Pearson (high) Clustermatch (high)                    \n",
       "False          False         False              True            True           True                            True   \n",
       "                                                                               True                            True   \n",
       "                                                                               True                            True   \n",
       "                                                                               True                            True   \n",
       "                                                                               True                            True   \n",
       "\n",
       "                                                                                                    Spearman (low)  \\\n",
       "Spearman (low) Pearson (low) Clustermatch (low) Spearman (high) Pearson (high) Clustermatch (high)                   \n",
       "False          False         False              True            True           True                          False   \n",
       "                                                                               True                          False   \n",
       "                                                                               True                          False   \n",
       "                                                                               True                          False   \n",
       "                                                                               True                          False   \n",
       "\n",
       "                                                                                                    Clustermatch (high)  \\\n",
       "Spearman (low) Pearson (low) Clustermatch (low) Spearman (high) Pearson (high) Clustermatch (high)                        \n",
       "False          False         False              True            True           True                                True   \n",
       "                                                                               True                                True   \n",
       "                                                                               True                                True   \n",
       "                                                                               True                                True   \n",
       "                                                                               True                                True   \n",
       "\n",
       "                                                                                                    Clustermatch (low)  \\\n",
       "Spearman (low) Pearson (low) Clustermatch (low) Spearman (high) Pearson (high) Clustermatch (high)                       \n",
       "False          False         False              True            True           True                              False   \n",
       "                                                                               True                              False   \n",
       "                                                                               True                              False   \n",
       "                                                                               True                              False   \n",
       "                                                                               True                              False   \n",
       "\n",
       "                                                                                                    ccc  \\\n",
       "Spearman (low) Pearson (low) Clustermatch (low) Spearman (high) Pearson (high) Clustermatch (high)        \n",
       "False          False         False              True            True           True                 1.0   \n",
       "                                                                               True                 1.0   \n",
       "                                                                               True                 1.0   \n",
       "                                                                               True                 1.0   \n",
       "                                                                               True                 1.0   \n",
       "\n",
       "                                                                                                     pearson  \\\n",
       "Spearman (low) Pearson (low) Clustermatch (low) Spearman (high) Pearson (high) Clustermatch (high)             \n",
       "False          False         False              True            True           True                 1.000000   \n",
       "                                                                               True                 0.951172   \n",
       "                                                                               True                 0.955566   \n",
       "                                                                               True                 1.000000   \n",
       "                                                                               True                 0.999512   \n",
       "\n",
       "                                                                                                    spearman  \n",
       "Spearman (low) Pearson (low) Clustermatch (low) Spearman (high) Pearson (high) Clustermatch (high)            \n",
       "False          False         False              True            True           True                 1.000000  \n",
       "                                                                               True                 1.000000  \n",
       "                                                                               True                 1.000000  \n",
       "                                                                               True                 0.799805  \n",
       "                                                                               True                 0.799805  "
      ]
     },
     "execution_count": 47,
     "metadata": {},
     "output_type": "execute_result"
    }
   ],
   "source": [
    "gene_pairs_by_cats.head()"
   ]
  },
  {
   "cell_type": "code",
   "execution_count": 48,
   "id": "26914b58-217f-4ee2-889c-dba4c7927125",
   "metadata": {
    "execution": {
     "iopub.execute_input": "2023-09-11T12:21:49.433365Z",
     "iopub.status.busy": "2023-09-11T12:21:49.433293Z",
     "iopub.status.idle": "2023-09-11T12:21:49.464127Z",
     "shell.execute_reply": "2023-09-11T12:21:49.463790Z"
    },
    "papermill": {
     "duration": 0.036689,
     "end_time": "2023-09-11T12:21:49.464834",
     "exception": false,
     "start_time": "2023-09-11T12:21:49.428145",
     "status": "completed"
    },
    "tags": []
   },
   "outputs": [],
   "source": [
    "gene_pairs_by_cats = gene_pairs_by_cats.rename(\n",
    "    columns={\n",
    "        \"Clustermatch (high)\": \"CCC (high)\",\n",
    "        \"Clustermatch (low)\": \"CCC (low)\",\n",
    "    }\n",
    ")\n",
    "\n",
    "gene_pairs_by_cats.index.set_names(\n",
    "    {\n",
    "        \"Clustermatch (high)\": \"CCC (high)\",\n",
    "        \"Clustermatch (low)\": \"CCC (low)\",\n",
    "    },\n",
    "    inplace=True,\n",
    ")"
   ]
  },
  {
   "cell_type": "code",
   "execution_count": 49,
   "id": "a7934759-1223-42c6-88c1-179714e12c08",
   "metadata": {
    "execution": {
     "iopub.execute_input": "2023-09-11T12:21:49.479382Z",
     "iopub.status.busy": "2023-09-11T12:21:49.479323Z",
     "iopub.status.idle": "2023-09-11T12:21:51.604918Z",
     "shell.execute_reply": "2023-09-11T12:21:51.604560Z"
    },
    "papermill": {
     "duration": 2.133597,
     "end_time": "2023-09-11T12:21:51.605671",
     "exception": false,
     "start_time": "2023-09-11T12:21:49.472074",
     "status": "completed"
    },
    "tags": []
   },
   "outputs": [
    {
     "name": "stderr",
     "output_type": "stream",
     "text": [
      "/home/haoyu/miniforge3/envs/ccc-gpu/lib/python3.10/site-packages/upsetplot/plotting.py:795: FutureWarning: A value is trying to be set on a copy of a DataFrame or Series through chained assignment using an inplace method.\n",
      "The behavior will change in pandas 3.0. This inplace method will never work because the intermediate object on which we are setting values always behaves as a copy.\n",
      "\n",
      "For example, when doing 'df[col].method(value, inplace=True)', try using 'df.method({col: value}, inplace=True)' or df[col] = df[col].method(value) instead, to perform the operation inplace on the original object.\n",
      "\n",
      "\n",
      "  styles[\"linewidth\"].fillna(1, inplace=True)\n",
      "/home/haoyu/miniforge3/envs/ccc-gpu/lib/python3.10/site-packages/upsetplot/plotting.py:796: FutureWarning: A value is trying to be set on a copy of a DataFrame or Series through chained assignment using an inplace method.\n",
      "The behavior will change in pandas 3.0. This inplace method will never work because the intermediate object on which we are setting values always behaves as a copy.\n",
      "\n",
      "For example, when doing 'df[col].method(value, inplace=True)', try using 'df.method({col: value}, inplace=True)' or df[col] = df[col].method(value) instead, to perform the operation inplace on the original object.\n",
      "\n",
      "\n",
      "  styles[\"facecolor\"].fillna(self._facecolor, inplace=True)\n",
      "/home/haoyu/miniforge3/envs/ccc-gpu/lib/python3.10/site-packages/upsetplot/plotting.py:797: FutureWarning: A value is trying to be set on a copy of a DataFrame or Series through chained assignment using an inplace method.\n",
      "The behavior will change in pandas 3.0. This inplace method will never work because the intermediate object on which we are setting values always behaves as a copy.\n",
      "\n",
      "For example, when doing 'df[col].method(value, inplace=True)', try using 'df.method({col: value}, inplace=True)' or df[col] = df[col].method(value) instead, to perform the operation inplace on the original object.\n",
      "\n",
      "\n",
      "  styles[\"edgecolor\"].fillna(styles[\"facecolor\"], inplace=True)\n",
      "/home/haoyu/miniforge3/envs/ccc-gpu/lib/python3.10/site-packages/upsetplot/plotting.py:798: FutureWarning: A value is trying to be set on a copy of a DataFrame or Series through chained assignment using an inplace method.\n",
      "The behavior will change in pandas 3.0. This inplace method will never work because the intermediate object on which we are setting values always behaves as a copy.\n",
      "\n",
      "For example, when doing 'df[col].method(value, inplace=True)', try using 'df.method({col: value}, inplace=True)' or df[col] = df[col].method(value) instead, to perform the operation inplace on the original object.\n",
      "\n",
      "\n",
      "  styles[\"linestyle\"].fillna(\"solid\", inplace=True)\n"
     ]
    },
    {
     "data": {
      "image/png": "[encoded data removed]",
      "text/plain": [
       "<Figure size 1400x500 with 3 Axes>"
      ]
     },
     "metadata": {},
     "output_type": "display_data"
    }
   ],
   "source": [
    "fig = plt.figure(figsize=(14, 5))\n",
    "\n",
    "# g = plot(\n",
    "g = MyUpSet(\n",
    "    gene_pairs_by_cats,\n",
    "    show_counts=True,\n",
    "    sort_categories_by=None,\n",
    "    sort_by=None,\n",
    "    show_percentages=True,\n",
    "    # min_subset_size=2,\n",
    "    element_size=None,\n",
    "    # fig=fig,\n",
    ").plot(fig)\n",
    "\n",
    "g[\"totals\"].remove()  # set_visible(False)\n",
    "\n",
    "# display(fig.get_size_inches())\n",
    "# fig.set_size_inches(12, 5)\n",
    "\n",
    "plt.savefig(\n",
    "    OUTPUT_DIR / f\"{OUTPUT_FIGURE_NAME}_trimmed.svg\",\n",
    "    bbox_inches=\"tight\",\n",
    "    facecolor=\"white\",\n",
    ")\n",
    "\n",
    "# plt.margins(x=-0.4)"
   ]
  },
  {
   "cell_type": "markdown",
   "id": "363880b2-67e5-447d-9f0b-c0a3f0fda026",
   "metadata": {
    "papermill": {
     "duration": 0.004675,
     "end_time": "2023-09-11T12:21:51.615628",
     "exception": false,
     "start_time": "2023-09-11T12:21:51.610953",
     "status": "completed"
    },
    "tags": []
   },
   "source": [
    "This plot has the sets that represent agreements on the left, and disagreements on the right."
   ]
  },
  {
   "cell_type": "markdown",
   "id": "ed3f6261-f79b-4696-84a3-ed5166edd0cd",
   "metadata": {
    "papermill": {
     "duration": 0.004582,
     "end_time": "2023-09-11T12:21:51.624834",
     "exception": false,
     "start_time": "2023-09-11T12:21:51.620252",
     "status": "completed"
    },
    "tags": []
   },
   "source": [
    "The plot shown here is **not the final one for the manuscript**:\n",
    "\n",
    "1. Open the main output svg file (`upsetplot-main.svg`)\n",
    "1. Include the file generated here (`upsetplot.svg`)\n",
    "1. Rearrange the `1e6` at the top, which is overlapping other numbers.\n",
    "1. Add the triangles (red and green). For this I need to move the category names at the left to make space.\n",
    "1. Add a rectangle and clip it to remove the extra space on the left\n",
    "1. Add the \"Agreements\" and \"Disagreements\" labels below.\n",
    "1. Automatically resize page to drawing.\n",
    "1. Add a rectangle that covers the entire drawing with white background. And send it to the background."
   ]
  },
  {
   "cell_type": "markdown",
   "id": "29c6ba73-93a9-4d97-be9e-89e7812bc651",
   "metadata": {
    "papermill": {
     "duration": 0.00473,
     "end_time": "2023-09-11T12:21:51.634391",
     "exception": false,
     "start_time": "2023-09-11T12:21:51.629661",
     "status": "completed"
    },
    "tags": []
   },
   "source": [
    "# Save groups of gene pairs in each subset"
   ]
  },
  {
   "cell_type": "code",
   "execution_count": 50,
   "id": "b337ab8e-096d-43e2-af84-dede6193bc9e",
   "metadata": {
    "execution": {
     "iopub.execute_input": "2023-09-11T12:21:51.644151Z",
     "iopub.status.busy": "2023-09-11T12:21:51.644087Z",
     "iopub.status.idle": "2023-09-11T12:21:51.649134Z",
     "shell.execute_reply": "2023-09-11T12:21:51.649004Z"
    },
    "papermill": {
     "duration": 0.010631,
     "end_time": "2023-09-11T12:21:51.649697",
     "exception": false,
     "start_time": "2023-09-11T12:21:51.639066",
     "status": "completed"
    },
    "tags": []
   },
   "outputs": [
    {
     "data": {
      "text/plain": [
       "(692459505, 9)"
      ]
     },
     "metadata": {},
     "output_type": "display_data"
    },
    {
     "data": {
      "text/html": [
       "<div>\n",
       "<style scoped>\n",
       "    .dataframe tbody tr th:only-of-type {\n",
       "        vertical-align: middle;\n",
       "    }\n",
       "\n",
       "    .dataframe tbody tr th {\n",
       "        vertical-align: top;\n",
       "    }\n",
       "\n",
       "    .dataframe thead th {\n",
       "        text-align: right;\n",
       "    }\n",
       "</style>\n",
       "<table border=\"1\" class=\"dataframe\">\n",
       "  <thead>\n",
       "    <tr style=\"text-align: right;\">\n",
       "      <th></th>\n",
       "      <th></th>\n",
       "      <th>Pearson (high)</th>\n",
       "      <th>Pearson (low)</th>\n",
       "      <th>Spearman (high)</th>\n",
       "      <th>Spearman (low)</th>\n",
       "      <th>Clustermatch (high)</th>\n",
       "      <th>Clustermatch (low)</th>\n",
       "      <th>ccc</th>\n",
       "      <th>pearson</th>\n",
       "      <th>spearman</th>\n",
       "    </tr>\n",
       "  </thead>\n",
       "  <tbody>\n",
       "    <tr>\n",
       "      <th>ENSG00000211592.8</th>\n",
       "      <th>ENSG00000211596.3</th>\n",
       "      <td>True</td>\n",
       "      <td>False</td>\n",
       "      <td>True</td>\n",
       "      <td>False</td>\n",
       "      <td>True</td>\n",
       "      <td>False</td>\n",
       "      <td>1.0</td>\n",
       "      <td>1.000000</td>\n",
       "      <td>1.000000</td>\n",
       "    </tr>\n",
       "    <tr>\n",
       "      <th rowspan=\"2\" valign=\"top\">ENSG00000116218.12</th>\n",
       "      <th>ENSG00000211596.3</th>\n",
       "      <td>False</td>\n",
       "      <td>True</td>\n",
       "      <td>True</td>\n",
       "      <td>False</td>\n",
       "      <td>True</td>\n",
       "      <td>False</td>\n",
       "      <td>1.0</td>\n",
       "      <td>0.130737</td>\n",
       "      <td>0.799805</td>\n",
       "    </tr>\n",
       "    <tr>\n",
       "      <th>ENSG00000211592.8</th>\n",
       "      <td>False</td>\n",
       "      <td>True</td>\n",
       "      <td>True</td>\n",
       "      <td>False</td>\n",
       "      <td>True</td>\n",
       "      <td>False</td>\n",
       "      <td>1.0</td>\n",
       "      <td>0.145020</td>\n",
       "      <td>0.799805</td>\n",
       "    </tr>\n",
       "    <tr>\n",
       "      <th rowspan=\"2\" valign=\"top\">ENSG00000211893.3</th>\n",
       "      <th>ENSG00000211596.3</th>\n",
       "      <td>True</td>\n",
       "      <td>False</td>\n",
       "      <td>True</td>\n",
       "      <td>False</td>\n",
       "      <td>True</td>\n",
       "      <td>False</td>\n",
       "      <td>1.0</td>\n",
       "      <td>0.951172</td>\n",
       "      <td>1.000000</td>\n",
       "    </tr>\n",
       "    <tr>\n",
       "      <th>ENSG00000211592.8</th>\n",
       "      <td>True</td>\n",
       "      <td>False</td>\n",
       "      <td>True</td>\n",
       "      <td>False</td>\n",
       "      <td>True</td>\n",
       "      <td>False</td>\n",
       "      <td>1.0</td>\n",
       "      <td>0.955566</td>\n",
       "      <td>1.000000</td>\n",
       "    </tr>\n",
       "  </tbody>\n",
       "</table>\n",
       "</div>"
      ],
      "text/plain": [
       "                                      Pearson (high)  Pearson (low)  \\\n",
       "ENSG00000211592.8  ENSG00000211596.3            True          False   \n",
       "ENSG00000116218.12 ENSG00000211596.3           False           True   \n",
       "                   ENSG00000211592.8           False           True   \n",
       "ENSG00000211893.3  ENSG00000211596.3            True          False   \n",
       "                   ENSG00000211592.8            True          False   \n",
       "\n",
       "                                      Spearman (high)  Spearman (low)  \\\n",
       "ENSG00000211592.8  ENSG00000211596.3             True           False   \n",
       "ENSG00000116218.12 ENSG00000211596.3             True           False   \n",
       "                   ENSG00000211592.8             True           False   \n",
       "ENSG00000211893.3  ENSG00000211596.3             True           False   \n",
       "                   ENSG00000211592.8             True           False   \n",
       "\n",
       "                                      Clustermatch (high)  Clustermatch (low)  \\\n",
       "ENSG00000211592.8  ENSG00000211596.3                 True               False   \n",
       "ENSG00000116218.12 ENSG00000211596.3                 True               False   \n",
       "                   ENSG00000211592.8                 True               False   \n",
       "ENSG00000211893.3  ENSG00000211596.3                 True               False   \n",
       "                   ENSG00000211592.8                 True               False   \n",
       "\n",
       "                                      ccc   pearson  spearman  \n",
       "ENSG00000211592.8  ENSG00000211596.3  1.0  1.000000  1.000000  \n",
       "ENSG00000116218.12 ENSG00000211596.3  1.0  0.130737  0.799805  \n",
       "                   ENSG00000211592.8  1.0  0.145020  0.799805  \n",
       "ENSG00000211893.3  ENSG00000211596.3  1.0  0.951172  1.000000  \n",
       "                   ENSG00000211592.8  1.0  0.955566  1.000000  "
      ]
     },
     "metadata": {},
     "output_type": "display_data"
    }
   ],
   "source": [
    "display(df_plot.shape)\n",
    "display(df_plot.head())"
   ]
  },
  {
   "cell_type": "code",
   "execution_count": 51,
   "id": "6feab590-da47-4184-a592-68a8de53d950",
   "metadata": {
    "execution": {
     "iopub.execute_input": "2023-09-11T12:21:51.671238Z",
     "iopub.status.busy": "2023-09-11T12:21:51.671122Z",
     "iopub.status.idle": "2023-09-11T12:21:51.672754Z",
     "shell.execute_reply": "2023-09-11T12:21:51.672636Z"
    },
    "papermill": {
     "duration": 0.007046,
     "end_time": "2023-09-11T12:21:51.673202",
     "exception": false,
     "start_time": "2023-09-11T12:21:51.666156",
     "status": "completed"
    },
    "tags": []
   },
   "outputs": [
    {
     "data": {
      "text/plain": [
       "PosixPath('/mnt/data/proj_data/ccc-gpu/results/gene_pair_intersections/gene_pair_intersections-gtex_v8-kidney_medulla-var_pc_log2.pkl')"
      ]
     },
     "metadata": {},
     "output_type": "display_data"
    }
   ],
   "source": [
    "output_file = (\n",
    "    OUTPUT_DIR\n",
    "    / OUTPUT_GENE_PAIR_INTERSECTIONS_NAME\n",
    ")\n",
    "display(output_file)"
   ]
  },
  {
   "cell_type": "code",
   "execution_count": 52,
   "id": "93f74fdd-78ff-4de1-a591-a61417ad28ed",
   "metadata": {
    "execution": {
     "iopub.execute_input": "2023-09-11T12:21:51.683065Z",
     "iopub.status.busy": "2023-09-11T12:21:51.682958Z",
     "iopub.status.idle": "2023-09-11T12:21:51.887478Z",
     "shell.execute_reply": "2023-09-11T12:21:51.887099Z"
    },
    "papermill": {
     "duration": 0.210324,
     "end_time": "2023-09-11T12:21:51.888288",
     "exception": false,
     "start_time": "2023-09-11T12:21:51.677964",
     "status": "completed"
    },
    "tags": []
   },
   "outputs": [],
   "source": [
    "df_plot.to_pickle(output_file)"
   ]
  },
  {
   "cell_type": "code",
   "execution_count": null,
   "id": "d4b94505-61e2-4a16-a292-a528f0e2a20d",
   "metadata": {
    "papermill": {
     "duration": 0.009875,
     "end_time": "2023-09-11T12:21:51.903367",
     "exception": false,
     "start_time": "2023-09-11T12:21:51.893492",
     "status": "completed"
    },
    "tags": []
   },
   "outputs": [],
   "source": []
  }
 ],
 "metadata": {
  "jupytext": {
   "cell_metadata_filter": "all,-execution,-papermill,-trusted"
  },
  "kernelspec": {
   "display_name": "Python 3 (ipykernel)",
   "language": "python",
   "name": "python3"
  },
  "language_info": {
   "codemirror_mode": {
    "name": "ipython",
    "version": 3
   },
   "file_extension": ".py",
   "mimetype": "text/x-python",
   "name": "python",
   "nbconvert_exporter": "python",
   "pygments_lexer": "ipython3",
   "version": "3.10.16"
  },
  "papermill": {
   "default_parameters": {},
   "duration": 47.847169,
   "end_time": "2023-09-11T12:21:52.325447",
   "environment_variables": {},
   "exception": null,
   "input_path": "nbs/15_intersections/03-gtex_whole_blood-intersections.ipynb",
   "output_path": "nbs/15_intersections/03-gtex_whole_blood-intersections.run.ipynb",
   "parameters": {},
   "start_time": "2023-09-11T12:21:04.478278",
   "version": "2.3.4"
  },
  "toc-autonumbering": true
 },
 "nbformat": 4,
 "nbformat_minor": 5
}
