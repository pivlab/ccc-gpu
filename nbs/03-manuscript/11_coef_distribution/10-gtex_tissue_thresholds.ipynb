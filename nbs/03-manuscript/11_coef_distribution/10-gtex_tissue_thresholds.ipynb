{
 "cells": [
  {
   "cell_type": "markdown",
   "id": "15304f81-d5f3-48b4-9d3b-2feadc9b9138",
   "metadata": {},
   "source": [
    "# Description"
   ]
  },
  {
   "cell_type": "markdown",
   "id": "2604968c-e90b-4c75-941f-a1d7a0bb9b65",
   "metadata": {},
   "source": [
    "This notebook computes expected coefficient values for all tissues (using their sample sizes) using random data.\n",
    "These thresholds can be used to define \"high\" and \"low\" values."
   ]
  },
  {
   "cell_type": "markdown",
   "id": "991ee7e2-b382-4430-bfb7-a214b7a667c7",
   "metadata": {},
   "source": [
    "# Modules"
   ]
  },
  {
   "cell_type": "code",
   "execution_count": 1,
   "id": "3e28ece9-85b1-43c3-ba65-6fff3973d088",
   "metadata": {},
   "outputs": [],
   "source": [
    "from pathlib import Path\n",
    "import pandas as pd\n",
    "import numpy as np\n",
    "import numpy.typing as npt\n",
    "from scipy.spatial.distance import pdist"
   ]
  },
  {
   "cell_type": "markdown",
   "id": "fb054b41-c596-4c69-a9cf-b1c70d9d81f2",
   "metadata": {},
   "source": [
    "# Settings"
   ]
  },
  {
   "cell_type": "code",
   "execution_count": 2,
   "id": "af8cee62-b6c1-476c-bf8f-229b6e2efca2",
   "metadata": {},
   "outputs": [],
   "source": [
    "N_GENES = 10000\n",
    "N_JOBS = 10\n",
    "RNG = np.random.RandomState(42)"
   ]
  },
  {
   "cell_type": "code",
   "execution_count": 3,
   "id": "5199476c-bdaa-4c27-a93c-4da800e9658d",
   "metadata": {},
   "outputs": [
    {
     "data": {
      "text/plain": [
       "array([0.  , 0.01, 0.02, 0.03, 0.04, 0.05, 0.06, 0.07, 0.08, 0.09, 0.1 ,\n",
       "       0.11, 0.12, 0.13, 0.14, 0.15, 0.16, 0.17, 0.18, 0.19, 0.2 , 0.21,\n",
       "       0.22, 0.23, 0.24, 0.25, 0.26, 0.27, 0.28, 0.29, 0.3 , 0.31, 0.32,\n",
       "       0.33, 0.34, 0.35, 0.36, 0.37, 0.38, 0.39, 0.4 , 0.41, 0.42, 0.43,\n",
       "       0.44, 0.45, 0.46, 0.47, 0.48, 0.49, 0.5 , 0.51, 0.52, 0.53, 0.54,\n",
       "       0.55, 0.56, 0.57, 0.58, 0.59, 0.6 , 0.61, 0.62, 0.63, 0.64, 0.65,\n",
       "       0.66, 0.67, 0.68, 0.69, 0.7 , 0.71, 0.72, 0.73, 0.74, 0.75, 0.76,\n",
       "       0.77, 0.78, 0.79, 0.8 , 0.81, 0.82, 0.83, 0.84, 0.85, 0.86, 0.87,\n",
       "       0.88, 0.89, 0.9 , 0.91, 0.92, 0.93, 0.94, 0.95, 0.96, 0.97, 0.98,\n",
       "       0.99])"
      ]
     },
     "metadata": {},
     "output_type": "display_data"
    }
   ],
   "source": [
    "GENERAL_PERCENTILES = np.linspace(0, 1, 101)[:-1]\n",
    "display(GENERAL_PERCENTILES)"
   ]
  },
  {
   "cell_type": "code",
   "execution_count": 4,
   "id": "9943aeed-02a0-42c7-84d2-10754aec7c4a",
   "metadata": {},
   "outputs": [
    {
     "data": {
      "text/plain": [
       "array([0.999     , 0.9999    , 0.99999   , 0.999999  , 0.9999999 ,\n",
       "       0.99999999, 1.        , 1.        ])"
      ]
     },
     "metadata": {},
     "output_type": "display_data"
    }
   ],
   "source": [
    "TOP_PERCENTILES = 1.0 - np.array([10 ** (-i) for i in range(3, 11)])\n",
    "display(TOP_PERCENTILES)"
   ]
  },
  {
   "cell_type": "code",
   "execution_count": 5,
   "id": "7b53de7d-0feb-43b3-a22b-2bd5548ceba6",
   "metadata": {},
   "outputs": [
    {
     "data": {
      "text/plain": [
       "array([0.        , 0.01      , 0.02      , 0.03      , 0.04      ,\n",
       "       0.05      , 0.06      , 0.07      , 0.08      , 0.09      ,\n",
       "       0.1       , 0.11      , 0.12      , 0.13      , 0.14      ,\n",
       "       0.15      , 0.16      , 0.17      , 0.18      , 0.19      ,\n",
       "       0.2       , 0.21      , 0.22      , 0.23      , 0.24      ,\n",
       "       0.25      , 0.26      , 0.27      , 0.28      , 0.29      ,\n",
       "       0.3       , 0.31      , 0.32      , 0.33      , 0.34      ,\n",
       "       0.35      , 0.36      , 0.37      , 0.38      , 0.39      ,\n",
       "       0.4       , 0.41      , 0.42      , 0.43      , 0.44      ,\n",
       "       0.45      , 0.46      , 0.47      , 0.48      , 0.49      ,\n",
       "       0.5       , 0.51      , 0.52      , 0.53      , 0.54      ,\n",
       "       0.55      , 0.56      , 0.57      , 0.58      , 0.59      ,\n",
       "       0.6       , 0.61      , 0.62      , 0.63      , 0.64      ,\n",
       "       0.65      , 0.66      , 0.67      , 0.68      , 0.69      ,\n",
       "       0.7       , 0.71      , 0.72      , 0.73      , 0.74      ,\n",
       "       0.75      , 0.76      , 0.77      , 0.78      , 0.79      ,\n",
       "       0.8       , 0.81      , 0.82      , 0.83      , 0.84      ,\n",
       "       0.85      , 0.86      , 0.87      , 0.88      , 0.89      ,\n",
       "       0.9       , 0.91      , 0.92      , 0.93      , 0.94      ,\n",
       "       0.95      , 0.96      , 0.97      , 0.98      , 0.99      ,\n",
       "       0.999     , 0.9999    , 0.99999   , 0.999999  , 0.9999999 ,\n",
       "       0.99999999, 1.        , 1.        ])"
      ]
     },
     "metadata": {},
     "output_type": "display_data"
    }
   ],
   "source": [
    "PERCENTILES = np.concatenate([GENERAL_PERCENTILES, TOP_PERCENTILES])\n",
    "display(PERCENTILES)"
   ]
  },
  {
   "cell_type": "code",
   "execution_count": 6,
   "id": "931ca8b2-1b99-4eea-a2c6-ce22f7a40f38",
   "metadata": {},
   "outputs": [
    {
     "name": "stdout",
     "output_type": "stream",
     "text": [
      "Number of permutations is approximately: 49995000.0\n"
     ]
    }
   ],
   "source": [
    "print(f\"Number of permutations is approximately: {N_GENES * (N_GENES - 1) / 2}\")"
   ]
  },
  {
   "cell_type": "code",
   "execution_count": 7,
   "id": "504b2869-8322-4c77-b057-099e716ab170",
   "metadata": {},
   "outputs": [],
   "source": [
    "# FIXME: hardcoded\n",
    "TISSUE_NAMES = \"\"\"\n",
    "adipose_subcutaneous\n",
    "adipose_visceral_omentum\n",
    "adrenal_gland\n",
    "artery_aorta\n",
    "artery_coronary\n",
    "artery_tibial\n",
    "bladder\n",
    "brain_amygdala\n",
    "brain_anterior_cingulate_cortex_ba24\n",
    "brain_caudate_basal_ganglia\n",
    "brain_cerebellar_hemisphere\n",
    "brain_cerebellum\n",
    "brain_cortex\n",
    "brain_frontal_cortex_ba9\n",
    "brain_hippocampus\n",
    "brain_hypothalamus\n",
    "brain_nucleus_accumbens_basal_ganglia\n",
    "brain_putamen_basal_ganglia\n",
    "brain_spinal_cord_cervical_c1\n",
    "brain_substantia_nigra\n",
    "breast_mammary_tissue\n",
    "cells_cultured_fibroblasts\n",
    "cells_ebvtransformed_lymphocytes\n",
    "cervix_ectocervix\n",
    "cervix_endocervix\n",
    "colon_sigmoid\n",
    "colon_transverse\n",
    "esophagus_gastroesophageal_junction\n",
    "esophagus_mucosa\n",
    "esophagus_muscularis\n",
    "fallopian_tube\n",
    "heart_atrial_appendage\n",
    "heart_left_ventricle\n",
    "kidney_cortex\n",
    "kidney_medulla\n",
    "liver\n",
    "lung\n",
    "minor_salivary_gland\n",
    "muscle_skeletal\n",
    "nerve_tibial\n",
    "ovary\n",
    "pancreas\n",
    "pituitary\n",
    "prostate\n",
    "skin_not_sun_exposed_suprapubic\n",
    "skin_sun_exposed_lower_leg\n",
    "small_intestine_terminal_ileum\n",
    "spleen\n",
    "stomach\n",
    "testis\n",
    "thyroid\n",
    "uterus\n",
    "vagina\n",
    "whole_blood\n",
    "\"\"\".split()"
   ]
  },
  {
   "cell_type": "code",
   "execution_count": 8,
   "id": "e297eb39-2761-4ef7-a7bb-e1b7ef571e4b",
   "metadata": {},
   "outputs": [],
   "source": [
    "assert len(TISSUE_NAMES) == 54"
   ]
  },
  {
   "cell_type": "markdown",
   "id": "06461905-dd32-4e2a-8a65-3b08b01751f3",
   "metadata": {},
   "source": [
    "# Paths"
   ]
  },
  {
   "cell_type": "code",
   "execution_count": 13,
   "id": "38d49386-079e-49a1-963b-94529ecff08e",
   "metadata": {},
   "outputs": [],
   "source": [
    "BASE_DIR = Path(\"/home/miltondp/projects/ccc/ccc-gpu/ccc-gpu/base/\")\n",
    "GTEX_DIR = BASE_DIR / \"data/gtex\""
   ]
  },
  {
   "cell_type": "code",
   "execution_count": 14,
   "id": "62acd458-fc71-4f67-8e28-19aa2b54dd38",
   "metadata": {},
   "outputs": [],
   "source": [
    "DATA_BY_TISSUE_PATH = GTEX_DIR / \"gene_selection/all\"\n",
    "assert DATA_BY_TISSUE_PATH.exists()"
   ]
  },
  {
   "cell_type": "code",
   "execution_count": 15,
   "id": "63b5edf0-764c-4f86-b6a0-94fe715a90f4",
   "metadata": {},
   "outputs": [],
   "source": [
    "OUTPUT_DIR = GTEX_DIR / \"tissue_thresholds\"\n",
    "OUTPUT_DIR.mkdir(exist_ok=True, parents=True)"
   ]
  },
  {
   "cell_type": "code",
   "execution_count": 16,
   "id": "ea2bb115-04d9-4e2f-8594-4b2be4e300e2",
   "metadata": {},
   "outputs": [],
   "source": [
    "OUTPUT_FILE_TEMPLATE = \"{tissue}-null_coefs_percentiles.pkl\""
   ]
  },
  {
   "cell_type": "markdown",
   "id": "e72cf27a-e420-4a2a-b8b7-e5705871891c",
   "metadata": {},
   "source": [
    "# Functions"
   ]
  },
  {
   "cell_type": "code",
   "execution_count": 17,
   "id": "f8f5e6a7-048b-4dc0-9393-528e44f37317",
   "metadata": {},
   "outputs": [],
   "source": [
    "def pearson(data: pd.DataFrame) -> npt.NDArray:\n",
    "    \"\"\"\n",
    "    Compute the Pearson correlation coefficient.\n",
    "\n",
    "    Args:\n",
    "        data: genes in rows, samples in columns.\n",
    "    \"\"\"\n",
    "    return 1 - pdist(data.to_numpy(), metric=\"correlation\")\n",
    "\n",
    "\n",
    "def spearman(data: pd.DataFrame) -> npt.NDArray:\n",
    "    \"\"\"\n",
    "    Compute the Spearman correlation coefficient.\n",
    "\n",
    "    Args:\n",
    "        data: genes in rows, samples in columns.\n",
    "    \"\"\"\n",
    "    # compute ranks\n",
    "    data = data.rank(axis=1)\n",
    "\n",
    "    # corr_mat = 1 - pairwise_distances(data.to_numpy(), metric=\"correlation\", n_jobs=1)\n",
    "    return 1 - pdist(data.to_numpy(), metric=\"correlation\")\n",
    "\n",
    "\n",
    "def ccc(data: pd.DataFrame, internal_n_clusters=None, n_jobs=1) -> npt.NDArray:\n",
    "    \"\"\"\n",
    "    Compute the Clustermatch Correlation Coefficient (CCC).\n",
    "\n",
    "    Args:\n",
    "        data: genes in rows, samples in columns.\n",
    "    \"\"\"\n",
    "    # from ccc.coef import ccc\n",
    "    from ccc.coef.impl_gpu import ccc\n",
    "\n",
    "    return ccc(\n",
    "        data.to_numpy(),\n",
    "        internal_n_clusters=None,\n",
    "        n_jobs=N_JOBS,\n",
    "    )"
   ]
  },
  {
   "cell_type": "markdown",
   "id": "3a52ff22-3a38-4170-9852-9767db877da5",
   "metadata": {},
   "source": [
    "# Compute"
   ]
  },
  {
   "cell_type": "code",
   "execution_count": 19,
   "id": "801ae2a6-e52c-47c1-b858-9643f2950584",
   "metadata": {},
   "outputs": [
    {
     "name": "stdout",
     "output_type": "stream",
     "text": [
      "adipose_subcutaneous 10000 663\n",
      "  adipose_subcutaneous-null_coefs_percentiles.pkl\n",
      "adipose_visceral_omentum 10000 541\n",
      "  adipose_visceral_omentum-null_coefs_percentiles.pkl\n",
      "adrenal_gland 10000 258\n",
      "  adrenal_gland-null_coefs_percentiles.pkl\n",
      "artery_aorta 10000 432\n",
      "  artery_aorta-null_coefs_percentiles.pkl\n",
      "artery_coronary 10000 240\n",
      "  artery_coronary-null_coefs_percentiles.pkl\n",
      "artery_tibial 10000 663\n",
      "  artery_tibial-null_coefs_percentiles.pkl\n",
      "bladder 10000 21\n",
      "  bladder-null_coefs_percentiles.pkl\n",
      "brain_amygdala 10000 152\n",
      "  brain_amygdala-null_coefs_percentiles.pkl\n",
      "brain_anterior_cingulate_cortex_ba24 10000 176\n",
      "  brain_anterior_cingulate_cortex_ba24-null_coefs_percentiles.pkl\n",
      "brain_caudate_basal_ganglia 10000 246\n",
      "  brain_caudate_basal_ganglia-null_coefs_percentiles.pkl\n",
      "brain_cerebellar_hemisphere 10000 215\n",
      "  brain_cerebellar_hemisphere-null_coefs_percentiles.pkl\n",
      "brain_cerebellum 10000 241\n",
      "  brain_cerebellum-null_coefs_percentiles.pkl\n",
      "brain_cortex 10000 255\n",
      "  brain_cortex-null_coefs_percentiles.pkl\n",
      "brain_frontal_cortex_ba9 10000 209\n",
      "  brain_frontal_cortex_ba9-null_coefs_percentiles.pkl\n",
      "brain_hippocampus 10000 197\n",
      "  brain_hippocampus-null_coefs_percentiles.pkl\n",
      "brain_hypothalamus 10000 202\n",
      "  brain_hypothalamus-null_coefs_percentiles.pkl\n",
      "brain_nucleus_accumbens_basal_ganglia 10000 246\n",
      "  brain_nucleus_accumbens_basal_ganglia-null_coefs_percentiles.pkl\n",
      "brain_putamen_basal_ganglia 10000 205\n",
      "  brain_putamen_basal_ganglia-null_coefs_percentiles.pkl\n",
      "brain_spinal_cord_cervical_c1 10000 159\n",
      "  brain_spinal_cord_cervical_c1-null_coefs_percentiles.pkl\n",
      "brain_substantia_nigra 10000 139\n",
      "  brain_substantia_nigra-null_coefs_percentiles.pkl\n",
      "breast_mammary_tissue 10000 459\n",
      "  breast_mammary_tissue-null_coefs_percentiles.pkl\n",
      "cells_cultured_fibroblasts 10000 504\n",
      "  cells_cultured_fibroblasts-null_coefs_percentiles.pkl\n",
      "cells_ebvtransformed_lymphocytes 10000 174\n",
      "  cells_ebvtransformed_lymphocytes-null_coefs_percentiles.pkl\n",
      "cervix_ectocervix 10000 9\n",
      "  cervix_ectocervix-null_coefs_percentiles.pkl\n",
      "cervix_endocervix 10000 10\n",
      "  cervix_endocervix-null_coefs_percentiles.pkl\n",
      "colon_sigmoid 10000 373\n",
      "  colon_sigmoid-null_coefs_percentiles.pkl\n",
      "colon_transverse 10000 406\n",
      "  colon_transverse-null_coefs_percentiles.pkl\n",
      "esophagus_gastroesophageal_junction 10000 375\n",
      "  esophagus_gastroesophageal_junction-null_coefs_percentiles.pkl\n",
      "esophagus_mucosa 10000 555\n",
      "  esophagus_mucosa-null_coefs_percentiles.pkl\n",
      "esophagus_muscularis 10000 515\n",
      "  esophagus_muscularis-null_coefs_percentiles.pkl\n",
      "fallopian_tube 10000 9\n",
      "  fallopian_tube-null_coefs_percentiles.pkl\n",
      "heart_atrial_appendage 10000 429\n",
      "  heart_atrial_appendage-null_coefs_percentiles.pkl\n",
      "heart_left_ventricle 10000 432\n",
      "  heart_left_ventricle-null_coefs_percentiles.pkl\n",
      "kidney_cortex 10000 85\n",
      "  kidney_cortex-null_coefs_percentiles.pkl\n",
      "kidney_medulla 10000 4\n",
      "  kidney_medulla-null_coefs_percentiles.pkl\n",
      "liver 10000 226\n",
      "  liver-null_coefs_percentiles.pkl\n",
      "lung 10000 578\n",
      "  lung-null_coefs_percentiles.pkl\n",
      "minor_salivary_gland 10000 162\n",
      "  minor_salivary_gland-null_coefs_percentiles.pkl\n",
      "muscle_skeletal 10000 803\n",
      "  muscle_skeletal-null_coefs_percentiles.pkl\n",
      "nerve_tibial 10000 619\n",
      "  nerve_tibial-null_coefs_percentiles.pkl\n",
      "ovary 10000 180\n",
      "  ovary-null_coefs_percentiles.pkl\n",
      "pancreas 10000 328\n",
      "  pancreas-null_coefs_percentiles.pkl\n",
      "pituitary 10000 283\n",
      "  pituitary-null_coefs_percentiles.pkl\n",
      "prostate 10000 245\n",
      "  prostate-null_coefs_percentiles.pkl\n",
      "skin_not_sun_exposed_suprapubic 10000 604\n",
      "  skin_not_sun_exposed_suprapubic-null_coefs_percentiles.pkl\n",
      "skin_sun_exposed_lower_leg 10000 701\n",
      "  skin_sun_exposed_lower_leg-null_coefs_percentiles.pkl\n",
      "small_intestine_terminal_ileum 10000 187\n",
      "  small_intestine_terminal_ileum-null_coefs_percentiles.pkl\n",
      "spleen 10000 241\n",
      "  spleen-null_coefs_percentiles.pkl\n",
      "stomach 10000 359\n",
      "  stomach-null_coefs_percentiles.pkl\n",
      "testis 10000 361\n",
      "  testis-null_coefs_percentiles.pkl\n",
      "thyroid 10000 653\n",
      "  thyroid-null_coefs_percentiles.pkl\n",
      "uterus 10000 142\n",
      "  uterus-null_coefs_percentiles.pkl\n",
      "vagina 10000 156\n",
      "  vagina-null_coefs_percentiles.pkl\n",
      "whole_blood 10000 755\n",
      "  whole_blood-null_coefs_percentiles.pkl\n"
     ]
    }
   ],
   "source": [
    "for tissue_name in TISSUE_NAMES:\n",
    "    # get tissue data\n",
    "    tissue_data = pd.read_pickle(\n",
    "        DATA_BY_TISSUE_PATH / f\"gtex_v8_data_{tissue_name}-var_pc_log2.pkl\"\n",
    "    )\n",
    "\n",
    "    # select random set of genes\n",
    "    tissue_data = tissue_data.sample(n=N_GENES, replace=False, axis=0, random_state=RNG)\n",
    "    n_genes, n_samples = tissue_data.shape\n",
    "\n",
    "    print(tissue_name, n_genes, n_samples, flush=False)\n",
    "\n",
    "    # shuffle samples across genes\n",
    "    data_shuffled = tissue_data.apply(\n",
    "        lambda x: x.sample(frac=1, replace=False, random_state=RNG).to_numpy(), axis=0\n",
    "    )\n",
    "\n",
    "    tissue_null = pd.DataFrame(\n",
    "        {\n",
    "            \"ccc\": np.abs(ccc(data_shuffled)),\n",
    "            \"pearson\": np.abs(pearson(data_shuffled)),\n",
    "            \"spearman\": np.abs(spearman(data_shuffled)),\n",
    "        }\n",
    "    )\n",
    "\n",
    "    tissue_null_perc = tissue_null.quantile(PERCENTILES)\n",
    "\n",
    "    # save\n",
    "    output_filename = OUTPUT_FILE_TEMPLATE.format(tissue=tissue_name)\n",
    "    print(f\"  {output_filename}\", flush=True)\n",
    "    tissue_null_perc.to_pickle(OUTPUT_DIR / output_filename)"
   ]
  },
  {
   "cell_type": "markdown",
   "id": "0493ed1a-9c13-413b-940e-3bd3801b1504",
   "metadata": {},
   "source": [
    "# Testing"
   ]
  },
  {
   "cell_type": "code",
   "execution_count": 20,
   "id": "89e0ae69-a4c0-4683-be97-3eb30479a55e",
   "metadata": {},
   "outputs": [
    {
     "data": {
      "text/plain": [
       "PosixPath('/home/miltondp/projects/ccc/ccc-gpu/ccc-gpu/base/data/gtex/tissue_thresholds/adipose_subcutaneous-null_coefs_percentiles.pkl')"
      ]
     },
     "metadata": {},
     "output_type": "display_data"
    }
   ],
   "source": [
    "INPUT_FILE = OUTPUT_DIR / OUTPUT_FILE_TEMPLATE.format(tissue=\"adipose_subcutaneous\")\n",
    "display(INPUT_FILE)"
   ]
  },
  {
   "cell_type": "code",
   "execution_count": 21,
   "id": "8c939339-d21e-44b4-bd4c-f50c7b6e3b1a",
   "metadata": {},
   "outputs": [],
   "source": [
    "results = pd.read_pickle(INPUT_FILE)"
   ]
  },
  {
   "cell_type": "code",
   "execution_count": 22,
   "id": "99daab00-dd6d-44ea-99fb-0cba332dbaf9",
   "metadata": {},
   "outputs": [
    {
     "data": {
      "text/plain": [
       "(108, 3)"
      ]
     },
     "execution_count": 22,
     "metadata": {},
     "output_type": "execute_result"
    }
   ],
   "source": [
    "results.shape"
   ]
  },
  {
   "cell_type": "code",
   "execution_count": 23,
   "id": "36f90e89-1f5a-467b-a26d-872f8c6d4299",
   "metadata": {},
   "outputs": [
    {
     "data": {
      "text/html": [
       "<div>\n",
       "<style scoped>\n",
       "    .dataframe tbody tr th:only-of-type {\n",
       "        vertical-align: middle;\n",
       "    }\n",
       "\n",
       "    .dataframe tbody tr th {\n",
       "        vertical-align: top;\n",
       "    }\n",
       "\n",
       "    .dataframe thead th {\n",
       "        text-align: right;\n",
       "    }\n",
       "</style>\n",
       "<table border=\"1\" class=\"dataframe\">\n",
       "  <thead>\n",
       "    <tr style=\"text-align: right;\">\n",
       "      <th></th>\n",
       "      <th>ccc</th>\n",
       "      <th>pearson</th>\n",
       "      <th>spearman</th>\n",
       "    </tr>\n",
       "  </thead>\n",
       "  <tbody>\n",
       "    <tr>\n",
       "      <th>0.000000</th>\n",
       "      <td>0.000000</td>\n",
       "      <td>1.105982e-10</td>\n",
       "      <td>0.000000</td>\n",
       "    </tr>\n",
       "    <tr>\n",
       "      <th>0.010000</th>\n",
       "      <td>0.000000</td>\n",
       "      <td>3.110157e-04</td>\n",
       "      <td>0.000488</td>\n",
       "    </tr>\n",
       "    <tr>\n",
       "      <th>0.020000</th>\n",
       "      <td>0.000000</td>\n",
       "      <td>6.215730e-04</td>\n",
       "      <td>0.000976</td>\n",
       "    </tr>\n",
       "    <tr>\n",
       "      <th>0.030000</th>\n",
       "      <td>0.000000</td>\n",
       "      <td>9.297015e-04</td>\n",
       "      <td>0.001464</td>\n",
       "    </tr>\n",
       "    <tr>\n",
       "      <th>0.040000</th>\n",
       "      <td>0.000000</td>\n",
       "      <td>1.234677e-03</td>\n",
       "      <td>0.001953</td>\n",
       "    </tr>\n",
       "    <tr>\n",
       "      <th>...</th>\n",
       "      <td>...</td>\n",
       "      <td>...</td>\n",
       "      <td>...</td>\n",
       "    </tr>\n",
       "    <tr>\n",
       "      <th>0.999999</th>\n",
       "      <td>0.081933</td>\n",
       "      <td>9.932748e-01</td>\n",
       "      <td>0.189838</td>\n",
       "    </tr>\n",
       "    <tr>\n",
       "      <th>1.000000</th>\n",
       "      <td>0.089004</td>\n",
       "      <td>9.985866e-01</td>\n",
       "      <td>0.206378</td>\n",
       "    </tr>\n",
       "    <tr>\n",
       "      <th>1.000000</th>\n",
       "      <td>0.094901</td>\n",
       "      <td>9.995562e-01</td>\n",
       "      <td>0.211493</td>\n",
       "    </tr>\n",
       "    <tr>\n",
       "      <th>1.000000</th>\n",
       "      <td>0.095773</td>\n",
       "      <td>9.995769e-01</td>\n",
       "      <td>0.212342</td>\n",
       "    </tr>\n",
       "    <tr>\n",
       "      <th>1.000000</th>\n",
       "      <td>0.095860</td>\n",
       "      <td>9.995790e-01</td>\n",
       "      <td>0.212427</td>\n",
       "    </tr>\n",
       "  </tbody>\n",
       "</table>\n",
       "<p>108 rows × 3 columns</p>\n",
       "</div>"
      ],
      "text/plain": [
       "               ccc       pearson  spearman\n",
       "0.000000  0.000000  1.105982e-10  0.000000\n",
       "0.010000  0.000000  3.110157e-04  0.000488\n",
       "0.020000  0.000000  6.215730e-04  0.000976\n",
       "0.030000  0.000000  9.297015e-04  0.001464\n",
       "0.040000  0.000000  1.234677e-03  0.001953\n",
       "...            ...           ...       ...\n",
       "0.999999  0.081933  9.932748e-01  0.189838\n",
       "1.000000  0.089004  9.985866e-01  0.206378\n",
       "1.000000  0.094901  9.995562e-01  0.211493\n",
       "1.000000  0.095773  9.995769e-01  0.212342\n",
       "1.000000  0.095860  9.995790e-01  0.212427\n",
       "\n",
       "[108 rows x 3 columns]"
      ]
     },
     "execution_count": 23,
     "metadata": {},
     "output_type": "execute_result"
    }
   ],
   "source": [
    "results"
   ]
  },
  {
   "cell_type": "code",
   "execution_count": 24,
   "id": "c0eef44c-3313-4475-a133-fa64d083d33a",
   "metadata": {},
   "outputs": [
    {
     "data": {
      "text/html": [
       "<div>\n",
       "<style scoped>\n",
       "    .dataframe tbody tr th:only-of-type {\n",
       "        vertical-align: middle;\n",
       "    }\n",
       "\n",
       "    .dataframe tbody tr th {\n",
       "        vertical-align: top;\n",
       "    }\n",
       "\n",
       "    .dataframe thead th {\n",
       "        text-align: right;\n",
       "    }\n",
       "</style>\n",
       "<table border=\"1\" class=\"dataframe\">\n",
       "  <thead>\n",
       "    <tr style=\"text-align: right;\">\n",
       "      <th></th>\n",
       "      <th>ccc</th>\n",
       "      <th>pearson</th>\n",
       "      <th>spearman</th>\n",
       "    </tr>\n",
       "  </thead>\n",
       "  <tbody>\n",
       "    <tr>\n",
       "      <th>count</th>\n",
       "      <td>108.000000</td>\n",
       "      <td>1.080000e+02</td>\n",
       "      <td>108.000000</td>\n",
       "    </tr>\n",
       "    <tr>\n",
       "      <th>mean</th>\n",
       "      <td>0.013083</td>\n",
       "      <td>8.214961e-02</td>\n",
       "      <td>0.041910</td>\n",
       "    </tr>\n",
       "    <tr>\n",
       "      <th>std</th>\n",
       "      <td>0.021031</td>\n",
       "      <td>2.420337e-01</td>\n",
       "      <td>0.046971</td>\n",
       "    </tr>\n",
       "    <tr>\n",
       "      <th>min</th>\n",
       "      <td>0.000000</td>\n",
       "      <td>1.105982e-10</td>\n",
       "      <td>0.000000</td>\n",
       "    </tr>\n",
       "    <tr>\n",
       "      <th>25%</th>\n",
       "      <td>0.002061</td>\n",
       "      <td>6.288890e-03</td>\n",
       "      <td>0.013310</td>\n",
       "    </tr>\n",
       "    <tr>\n",
       "      <th>50%</th>\n",
       "      <td>0.005601</td>\n",
       "      <td>1.141103e-02</td>\n",
       "      <td>0.028447</td>\n",
       "    </tr>\n",
       "    <tr>\n",
       "      <th>75%</th>\n",
       "      <td>0.013642</td>\n",
       "      <td>2.052726e-02</td>\n",
       "      <td>0.050164</td>\n",
       "    </tr>\n",
       "    <tr>\n",
       "      <th>max</th>\n",
       "      <td>0.095860</td>\n",
       "      <td>9.995790e-01</td>\n",
       "      <td>0.212427</td>\n",
       "    </tr>\n",
       "  </tbody>\n",
       "</table>\n",
       "</div>"
      ],
      "text/plain": [
       "              ccc       pearson    spearman\n",
       "count  108.000000  1.080000e+02  108.000000\n",
       "mean     0.013083  8.214961e-02    0.041910\n",
       "std      0.021031  2.420337e-01    0.046971\n",
       "min      0.000000  1.105982e-10    0.000000\n",
       "25%      0.002061  6.288890e-03    0.013310\n",
       "50%      0.005601  1.141103e-02    0.028447\n",
       "75%      0.013642  2.052726e-02    0.050164\n",
       "max      0.095860  9.995790e-01    0.212427"
      ]
     },
     "execution_count": 24,
     "metadata": {},
     "output_type": "execute_result"
    }
   ],
   "source": [
    "results.describe()"
   ]
  },
  {
   "cell_type": "code",
   "execution_count": null,
   "id": "214e23b4-38ed-4076-8b03-15040388a915",
   "metadata": {},
   "outputs": [],
   "source": []
  }
 ],
 "metadata": {
  "kernelspec": {
   "display_name": "Python 3 (ipykernel)",
   "language": "python",
   "name": "python3"
  },
  "language_info": {
   "codemirror_mode": {
    "name": "ipython",
    "version": 3
   },
   "file_extension": ".py",
   "mimetype": "text/x-python",
   "name": "python",
   "nbconvert_exporter": "python",
   "pygments_lexer": "ipython3",
   "version": "3.10.16"
  }
 },
 "nbformat": 4,
 "nbformat_minor": 5
}
