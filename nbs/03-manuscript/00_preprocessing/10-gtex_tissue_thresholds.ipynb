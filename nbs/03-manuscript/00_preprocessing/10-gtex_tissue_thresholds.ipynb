{
 "cells": [
  {
   "cell_type": "markdown",
   "id": "15304f81-d5f3-48b4-9d3b-2feadc9b9138",
   "metadata": {},
   "source": [
    "# Description"
   ]
  },
  {
   "cell_type": "markdown",
   "id": "2604968c-e90b-4c75-941f-a1d7a0bb9b65",
   "metadata": {},
   "source": [
    "This notebook computes expected coefficient values for all tissues (using their sample sizes) using random data.\n",
    "These thresholds are used to define \"high\" and \"low\" values."
   ]
  },
  {
   "cell_type": "markdown",
   "id": "991ee7e2-b382-4430-bfb7-a214b7a667c7",
   "metadata": {},
   "source": [
    "# Modules"
   ]
  },
  {
   "cell_type": "code",
   "execution_count": null,
   "id": "3e28ece9-85b1-43c3-ba65-6fff3973d088",
   "metadata": {},
   "outputs": [],
   "source": [
    "from pathlib import Path\n",
    "import pandas as pd\n",
    "import numpy as np\n",
    "import numpy.typing as npt\n",
    "from scipy.spatial.distance import pdist"
   ]
  },
  {
   "cell_type": "markdown",
   "id": "fb054b41-c596-4c69-a9cf-b1c70d9d81f2",
   "metadata": {},
   "source": [
    "# Settings"
   ]
  },
  {
   "cell_type": "code",
   "execution_count": null,
   "id": "af8cee62-b6c1-476c-bf8f-229b6e2efca2",
   "metadata": {},
   "outputs": [],
   "source": [
    "N_GENES = 10000\n",
    "N_JOBS = 10\n",
    "PERCENTILES = np.linspace(0, 1, 101)\n",
    "RNG = np.random.RandomState(42)"
   ]
  },
  {
   "cell_type": "code",
   "execution_count": null,
   "id": "5199476c-bdaa-4c27-a93c-4da800e9658d",
   "metadata": {},
   "outputs": [],
   "source": [
    "PERCENTILES"
   ]
  },
  {
   "cell_type": "code",
   "execution_count": null,
   "id": "931ca8b2-1b99-4eea-a2c6-ce22f7a40f38",
   "metadata": {},
   "outputs": [],
   "source": [
    "print(f\"Number of permutations is approximately: {N_GENES * (N_GENES - 1) / 2}\")"
   ]
  },
  {
   "cell_type": "code",
   "execution_count": null,
   "id": "504b2869-8322-4c77-b057-099e716ab170",
   "metadata": {},
   "outputs": [],
   "source": [
    "# FIXME: hardcoded\n",
    "TISSUE_NAMES = \"\"\"\n",
    "adipose_subcutaneous\n",
    "adipose_visceral_omentum\n",
    "adrenal_gland\n",
    "artery_aorta\n",
    "artery_coronary\n",
    "artery_tibial\n",
    "bladder\n",
    "brain_amygdala\n",
    "brain_anterior_cingulate_cortex_ba24\n",
    "brain_caudate_basal_ganglia\n",
    "brain_cerebellar_hemisphere\n",
    "brain_cerebellum\n",
    "brain_cortex\n",
    "brain_frontal_cortex_ba9\n",
    "brain_hippocampus\n",
    "brain_hypothalamus\n",
    "brain_nucleus_accumbens_basal_ganglia\n",
    "brain_putamen_basal_ganglia\n",
    "brain_spinal_cord_cervical_c1\n",
    "brain_substantia_nigra\n",
    "breast_mammary_tissue\n",
    "cells_cultured_fibroblasts\n",
    "cells_ebvtransformed_lymphocytes\n",
    "cervix_ectocervix\n",
    "cervix_endocervix\n",
    "colon_sigmoid\n",
    "colon_transverse\n",
    "esophagus_gastroesophageal_junction\n",
    "esophagus_mucosa\n",
    "esophagus_muscularis\n",
    "fallopian_tube\n",
    "heart_atrial_appendage\n",
    "heart_left_ventricle\n",
    "kidney_cortex\n",
    "kidney_medulla\n",
    "liver\n",
    "lung\n",
    "minor_salivary_gland\n",
    "muscle_skeletal\n",
    "nerve_tibial\n",
    "ovary\n",
    "pancreas\n",
    "pituitary\n",
    "prostate\n",
    "skin_not_sun_exposed_suprapubic\n",
    "skin_sun_exposed_lower_leg\n",
    "small_intestine_terminal_ileum\n",
    "spleen\n",
    "stomach\n",
    "testis\n",
    "thyroid\n",
    "uterus\n",
    "vagina\n",
    "whole_blood\n",
    "\"\"\".split()"
   ]
  },
  {
   "cell_type": "code",
   "execution_count": null,
   "id": "e297eb39-2761-4ef7-a7bb-e1b7ef571e4b",
   "metadata": {},
   "outputs": [],
   "source": [
    "assert len(TISSUE_NAMES) == 54"
   ]
  },
  {
   "cell_type": "markdown",
   "id": "06461905-dd32-4e2a-8a65-3b08b01751f3",
   "metadata": {},
   "source": [
    "# Paths"
   ]
  },
  {
   "cell_type": "code",
   "execution_count": null,
   "id": "62acd458-fc71-4f67-8e28-19aa2b54dd38",
   "metadata": {},
   "outputs": [],
   "source": [
    "BASE_DIR = Path(\"/home/miltondp/projects/ccc/ccc-gpu/ccc-gpu/base/gtex\")\n",
    "DATA_BY_TISSUE_PATH = BASE_DIR / \"data_by_tissue\"\n",
    "assert DATA_BY_TISSUE_PATH.exists()"
   ]
  },
  {
   "cell_type": "code",
   "execution_count": null,
   "id": "63b5edf0-764c-4f86-b6a0-94fe715a90f4",
   "metadata": {},
   "outputs": [],
   "source": [
    "OUTPUT_DIR = BASE_DIR / \"tissue_thresholds\"\n",
    "OUTPUT_DIR.mkdir(exist_ok=True, parents=True)"
   ]
  },
  {
   "cell_type": "code",
   "execution_count": null,
   "id": "ea2bb115-04d9-4e2f-8594-4b2be4e300e2",
   "metadata": {},
   "outputs": [],
   "source": [
    "OUTPUT_FILE_TEMPLATE = \"{tissue}-null_coefs_percentiles.pkl\""
   ]
  },
  {
   "cell_type": "markdown",
   "id": "e72cf27a-e420-4a2a-b8b7-e5705871891c",
   "metadata": {},
   "source": [
    "# Functions"
   ]
  },
  {
   "cell_type": "code",
   "execution_count": null,
   "id": "f8f5e6a7-048b-4dc0-9393-528e44f37317",
   "metadata": {},
   "outputs": [],
   "source": [
    "def pearson(data: pd.DataFrame) -> npt.NDArray:\n",
    "    \"\"\"\n",
    "    Compute the Pearson correlation coefficient.\n",
    "\n",
    "    Args:\n",
    "        data: genes in rows, samples in columns.\n",
    "    \"\"\"\n",
    "    return (1 - pdist(data.to_numpy(), metric=\"correlation\"))\n",
    "\n",
    "\n",
    "def spearman(data: pd.DataFrame) -> npt.NDArray:\n",
    "    \"\"\"\n",
    "    Compute the Spearman correlation coefficient.\n",
    "\n",
    "    Args:\n",
    "        data: genes in rows, samples in columns.\n",
    "    \"\"\"\n",
    "    # compute ranks\n",
    "    data = data.rank(axis=1)\n",
    "\n",
    "    # corr_mat = 1 - pairwise_distances(data.to_numpy(), metric=\"correlation\", n_jobs=1)\n",
    "    return (1 - pdist(data.to_numpy(), metric=\"correlation\"))\n",
    "\n",
    "\n",
    "def ccc(data: pd.DataFrame, internal_n_clusters=None, n_jobs=1) -> npt.NDArray:\n",
    "    \"\"\"\n",
    "    Compute the Clustermatch Correlation Coefficient (CCC).\n",
    "\n",
    "    Args:\n",
    "        data: genes in rows, samples in columns.\n",
    "    \"\"\"\n",
    "    # from ccc.coef import ccc\n",
    "    from ccc.coef.impl_gpu import ccc\n",
    "\n",
    "    return ccc(\n",
    "        data.to_numpy(),\n",
    "        internal_n_clusters=None,\n",
    "        n_jobs=N_JOBS,\n",
    "    )"
   ]
  },
  {
   "cell_type": "markdown",
   "id": "3a52ff22-3a38-4170-9852-9767db877da5",
   "metadata": {},
   "source": [
    "# Compute"
   ]
  },
  {
   "cell_type": "code",
   "execution_count": null,
   "id": "801ae2a6-e52c-47c1-b858-9643f2950584",
   "metadata": {},
   "outputs": [],
   "source": [
    "for tissue_name in TISSUE_NAMES:\n",
    "    # get tissue data\n",
    "    tissue_data = pd.read_pickle(DATA_BY_TISSUE_PATH / f\"gtex_v8_data_{tissue_name}.pkl\")\n",
    "    \n",
    "    # select random set of genes\n",
    "    tissue_data = tissue_data.sample(n=N_GENES, replace=False, axis=0, random_state=RNG)\n",
    "    n_genes, n_samples = tissue_data.shape\n",
    "\n",
    "    print(tissue_name, n_genes, n_samples, flush=False)\n",
    "\n",
    "    # shuffle samples across genes\n",
    "    data_shuffled = tissue_data.apply(lambda x: x.sample(frac=1, replace=False, random_state=RNG).to_numpy(), axis=0)\n",
    "    \n",
    "    tissue_null = pd.DataFrame({\n",
    "        \"ccc\": np.abs(ccc(data_shuffled)),\n",
    "        \"pearson\": np.abs(pearson(data_shuffled)),\n",
    "        \"spearman\": np.abs(spearman(data_shuffled)),\n",
    "    })\n",
    "\n",
    "    tissue_null_perc = tissue_null.quantile(PERCENTILES)\n",
    "\n",
    "    # save\n",
    "    output_filename = OUTPUT_FILE_TEMPLATE.format(tissue=tissue_name)\n",
    "    print(f\"  {output_filename}\", flush=True)\n",
    "    tissue_null_perc.to_pickle(OUTPUT_DIR / output_filename)"
   ]
  },
  {
   "cell_type": "markdown",
   "id": "0493ed1a-9c13-413b-940e-3bd3801b1504",
   "metadata": {},
   "source": [
    "# Testing"
   ]
  },
  {
   "cell_type": "code",
   "execution_count": null,
   "id": "89e0ae69-a4c0-4683-be97-3eb30479a55e",
   "metadata": {},
   "outputs": [],
   "source": [
    "INPUT_FILE = OUTPUT_DIR / OUTPUT_FILE_TEMPLATE.format(tissue=\"adipose_subcutaneous\")\n",
    "display(INPUT_FILE)"
   ]
  },
  {
   "cell_type": "code",
   "execution_count": null,
   "id": "8c939339-d21e-44b4-bd4c-f50c7b6e3b1a",
   "metadata": {},
   "outputs": [],
   "source": [
    "results = pd.read_pickle(INPUT_FILE)"
   ]
  },
  {
   "cell_type": "code",
   "execution_count": null,
   "id": "99daab00-dd6d-44ea-99fb-0cba332dbaf9",
   "metadata": {},
   "outputs": [],
   "source": [
    "results.shape"
   ]
  },
  {
   "cell_type": "code",
   "execution_count": null,
   "id": "36f90e89-1f5a-467b-a26d-872f8c6d4299",
   "metadata": {},
   "outputs": [],
   "source": [
    "results"
   ]
  },
  {
   "cell_type": "code",
   "execution_count": null,
   "id": "c0eef44c-3313-4475-a133-fa64d083d33a",
   "metadata": {},
   "outputs": [],
   "source": [
    "results.describe()"
   ]
  },
  {
   "cell_type": "code",
   "execution_count": null,
   "id": "214e23b4-38ed-4076-8b03-15040388a915",
   "metadata": {},
   "outputs": [],
   "source": []
  }
 ],
 "metadata": {
  "kernelspec": {
   "display_name": "Python 3 (ipykernel)",
   "language": "python",
   "name": "python3"
  },
  "language_info": {
   "codemirror_mode": {
    "name": "ipython",
    "version": 3
   },
   "file_extension": ".py",
   "mimetype": "text/x-python",
   "name": "python",
   "nbconvert_exporter": "python",
   "pygments_lexer": "ipython3",
   "version": "3.10.16"
  }
 },
 "nbformat": 4,
 "nbformat_minor": 5
}
