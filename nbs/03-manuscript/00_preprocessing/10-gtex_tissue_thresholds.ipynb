{
 "cells": [
  {
   "cell_type": "markdown",
   "id": "15304f81-d5f3-48b4-9d3b-2feadc9b9138",
   "metadata": {},
   "source": [
    "# Description"
   ]
  },
  {
   "cell_type": "markdown",
   "id": "2604968c-e90b-4c75-941f-a1d7a0bb9b65",
   "metadata": {},
   "source": [
    "This notebook computes expected coefficient values for all tissues (using their sample sizes) using random data.\n",
    "These thresholds are used to define \"high\" and \"low\" values."
   ]
  },
  {
   "cell_type": "markdown",
   "id": "991ee7e2-b382-4430-bfb7-a214b7a667c7",
   "metadata": {},
   "source": [
    "# Modules"
   ]
  },
  {
   "cell_type": "code",
   "execution_count": 1,
   "id": "3e28ece9-85b1-43c3-ba65-6fff3973d088",
   "metadata": {},
   "outputs": [],
   "source": [
    "from pathlib import Path\n",
    "import pandas as pd\n",
    "import numpy as np\n",
    "import numpy.typing as npt\n",
    "from scipy.spatial.distance import pdist"
   ]
  },
  {
   "cell_type": "markdown",
   "id": "fb054b41-c596-4c69-a9cf-b1c70d9d81f2",
   "metadata": {},
   "source": [
    "# Settings"
   ]
  },
  {
   "cell_type": "code",
   "execution_count": 2,
   "id": "af8cee62-b6c1-476c-bf8f-229b6e2efca2",
   "metadata": {},
   "outputs": [],
   "source": [
    "N_GENES = 10000\n",
    "N_JOBS = 10\n",
    "PERCENTILES = np.linspace(0, 1, 101)\n",
    "RNG = np.random.RandomState(42)"
   ]
  },
  {
   "cell_type": "code",
   "execution_count": 3,
   "id": "5199476c-bdaa-4c27-a93c-4da800e9658d",
   "metadata": {},
   "outputs": [
    {
     "data": {
      "text/plain": [
       "array([0.  , 0.01, 0.02, 0.03, 0.04, 0.05, 0.06, 0.07, 0.08, 0.09, 0.1 ,\n",
       "       0.11, 0.12, 0.13, 0.14, 0.15, 0.16, 0.17, 0.18, 0.19, 0.2 , 0.21,\n",
       "       0.22, 0.23, 0.24, 0.25, 0.26, 0.27, 0.28, 0.29, 0.3 , 0.31, 0.32,\n",
       "       0.33, 0.34, 0.35, 0.36, 0.37, 0.38, 0.39, 0.4 , 0.41, 0.42, 0.43,\n",
       "       0.44, 0.45, 0.46, 0.47, 0.48, 0.49, 0.5 , 0.51, 0.52, 0.53, 0.54,\n",
       "       0.55, 0.56, 0.57, 0.58, 0.59, 0.6 , 0.61, 0.62, 0.63, 0.64, 0.65,\n",
       "       0.66, 0.67, 0.68, 0.69, 0.7 , 0.71, 0.72, 0.73, 0.74, 0.75, 0.76,\n",
       "       0.77, 0.78, 0.79, 0.8 , 0.81, 0.82, 0.83, 0.84, 0.85, 0.86, 0.87,\n",
       "       0.88, 0.89, 0.9 , 0.91, 0.92, 0.93, 0.94, 0.95, 0.96, 0.97, 0.98,\n",
       "       0.99, 1.  ])"
      ]
     },
     "execution_count": 3,
     "metadata": {},
     "output_type": "execute_result"
    }
   ],
   "source": [
    "PERCENTILES"
   ]
  },
  {
   "cell_type": "code",
   "execution_count": 4,
   "id": "931ca8b2-1b99-4eea-a2c6-ce22f7a40f38",
   "metadata": {},
   "outputs": [
    {
     "name": "stdout",
     "output_type": "stream",
     "text": [
      "Number of permutations is approximately: 49995000.0\n"
     ]
    }
   ],
   "source": [
    "print(f\"Number of permutations is approximately: {N_GENES * (N_GENES - 1) / 2}\")"
   ]
  },
  {
   "cell_type": "code",
   "execution_count": 5,
   "id": "504b2869-8322-4c77-b057-099e716ab170",
   "metadata": {},
   "outputs": [],
   "source": [
    "# FIXME: hardcoded\n",
    "TISSUE_NAMES = \"\"\"\n",
    "adipose_subcutaneous\n",
    "adipose_visceral_omentum\n",
    "adrenal_gland\n",
    "artery_aorta\n",
    "artery_coronary\n",
    "artery_tibial\n",
    "bladder\n",
    "brain_amygdala\n",
    "brain_anterior_cingulate_cortex_ba24\n",
    "brain_caudate_basal_ganglia\n",
    "brain_cerebellar_hemisphere\n",
    "brain_cerebellum\n",
    "brain_cortex\n",
    "brain_frontal_cortex_ba9\n",
    "brain_hippocampus\n",
    "brain_hypothalamus\n",
    "brain_nucleus_accumbens_basal_ganglia\n",
    "brain_putamen_basal_ganglia\n",
    "brain_spinal_cord_cervical_c1\n",
    "brain_substantia_nigra\n",
    "breast_mammary_tissue\n",
    "cells_cultured_fibroblasts\n",
    "cells_ebvtransformed_lymphocytes\n",
    "cervix_ectocervix\n",
    "cervix_endocervix\n",
    "colon_sigmoid\n",
    "colon_transverse\n",
    "esophagus_gastroesophageal_junction\n",
    "esophagus_mucosa\n",
    "esophagus_muscularis\n",
    "fallopian_tube\n",
    "heart_atrial_appendage\n",
    "heart_left_ventricle\n",
    "kidney_cortex\n",
    "kidney_medulla\n",
    "liver\n",
    "lung\n",
    "minor_salivary_gland\n",
    "muscle_skeletal\n",
    "nerve_tibial\n",
    "ovary\n",
    "pancreas\n",
    "pituitary\n",
    "prostate\n",
    "skin_not_sun_exposed_suprapubic\n",
    "skin_sun_exposed_lower_leg\n",
    "small_intestine_terminal_ileum\n",
    "spleen\n",
    "stomach\n",
    "testis\n",
    "thyroid\n",
    "uterus\n",
    "vagina\n",
    "whole_blood\n",
    "\"\"\".split()"
   ]
  },
  {
   "cell_type": "code",
   "execution_count": 6,
   "id": "e297eb39-2761-4ef7-a7bb-e1b7ef571e4b",
   "metadata": {},
   "outputs": [],
   "source": [
    "assert len(TISSUE_NAMES) == 54"
   ]
  },
  {
   "cell_type": "markdown",
   "id": "06461905-dd32-4e2a-8a65-3b08b01751f3",
   "metadata": {},
   "source": [
    "# Paths"
   ]
  },
  {
   "cell_type": "code",
   "execution_count": 7,
   "id": "62acd458-fc71-4f67-8e28-19aa2b54dd38",
   "metadata": {},
   "outputs": [],
   "source": [
    "BASE_DIR = Path(\"/home/miltondp/projects/ccc/ccc-gpu/ccc-gpu/base/gtex\")\n",
    "DATA_BY_TISSUE_PATH = BASE_DIR / \"data_by_tissue\"\n",
    "assert DATA_BY_TISSUE_PATH.exists()"
   ]
  },
  {
   "cell_type": "code",
   "execution_count": 8,
   "id": "63b5edf0-764c-4f86-b6a0-94fe715a90f4",
   "metadata": {},
   "outputs": [],
   "source": [
    "OUTPUT_DIR = BASE_DIR / \"tissue_thresholds\"\n",
    "OUTPUT_DIR.mkdir(exist_ok=True, parents=True)"
   ]
  },
  {
   "cell_type": "code",
   "execution_count": 9,
   "id": "ea2bb115-04d9-4e2f-8594-4b2be4e300e2",
   "metadata": {},
   "outputs": [],
   "source": [
    "OUTPUT_FILE_TEMPLATE = \"{tissue}-null_coefs_percentiles.pkl\""
   ]
  },
  {
   "cell_type": "markdown",
   "id": "e72cf27a-e420-4a2a-b8b7-e5705871891c",
   "metadata": {},
   "source": [
    "# Functions"
   ]
  },
  {
   "cell_type": "code",
   "execution_count": 10,
   "id": "f8f5e6a7-048b-4dc0-9393-528e44f37317",
   "metadata": {},
   "outputs": [],
   "source": [
    "def pearson(data: pd.DataFrame) -> npt.NDArray:\n",
    "    \"\"\"\n",
    "    Compute the Pearson correlation coefficient.\n",
    "\n",
    "    Args:\n",
    "        data: genes in rows, samples in columns.\n",
    "    \"\"\"\n",
    "    return (1 - pdist(data.to_numpy(), metric=\"correlation\"))\n",
    "\n",
    "\n",
    "def spearman(data: pd.DataFrame) -> npt.NDArray:\n",
    "    \"\"\"\n",
    "    Compute the Spearman correlation coefficient.\n",
    "\n",
    "    Args:\n",
    "        data: genes in rows, samples in columns.\n",
    "    \"\"\"\n",
    "    # compute ranks\n",
    "    data = data.rank(axis=1)\n",
    "\n",
    "    # corr_mat = 1 - pairwise_distances(data.to_numpy(), metric=\"correlation\", n_jobs=1)\n",
    "    return (1 - pdist(data.to_numpy(), metric=\"correlation\"))\n",
    "\n",
    "\n",
    "def ccc(data: pd.DataFrame, internal_n_clusters=None, n_jobs=1) -> npt.NDArray:\n",
    "    \"\"\"\n",
    "    Compute the Clustermatch Correlation Coefficient (CCC).\n",
    "\n",
    "    Args:\n",
    "        data: genes in rows, samples in columns.\n",
    "    \"\"\"\n",
    "    # from ccc.coef import ccc\n",
    "    from ccc.coef.impl_gpu import ccc\n",
    "\n",
    "    return ccc(\n",
    "        data.to_numpy(),\n",
    "        internal_n_clusters=None,\n",
    "        n_jobs=N_JOBS,\n",
    "    )"
   ]
  },
  {
   "cell_type": "markdown",
   "id": "3a52ff22-3a38-4170-9852-9767db877da5",
   "metadata": {},
   "source": [
    "# Compute"
   ]
  },
  {
   "cell_type": "code",
   "execution_count": null,
   "id": "801ae2a6-e52c-47c1-b858-9643f2950584",
   "metadata": {},
   "outputs": [
    {
     "name": "stdout",
     "output_type": "stream",
     "text": [
      "adipose_subcutaneous 10000 663\n",
      "[2025-07-23 14:44:30.464] [debug] CUDA Device Info:\n",
      "[2025-07-23 14:44:30.580] [debug] Device 0: \"NVIDIA GeForce RTX 4090\"\n",
      "[2025-07-23 14:44:30.580] [debug]   CUDA Driver Version / Runtime Version          12.7 / 12.5\n",
      "[2025-07-23 14:44:30.580] [debug]   CUDA Capability Major/Minor version number:    8.9\n",
      "[2025-07-23 14:44:30.580] [debug]   Total amount of global memory:                 23.52 GBytes (25251414016 bytes)\n",
      "[2025-07-23 14:44:30.580] [debug]   GPU Clock rate:                                2535 MHz (2.54 GHz)\n",
      "[2025-07-23 14:44:30.580] [debug]   Memory Clock rate:                             10501 Mhz\n",
      "[2025-07-23 14:44:30.580] [debug]   Memory Bus Width:                              384-bit\n",
      "[2025-07-23 14:44:30.580] [debug]   Shared Memory per Block:                       48.00 KB\n",
      "[2025-07-23 14:44:30.580] [debug]   Shared Memory per Multiprocessor:              100.00 KB\n",
      "[2025-07-23 14:44:30.580] [debug]   Number of Multiprocessors:                     128\n",
      "[2025-07-23 14:44:30.580] [debug] CUDA Memory Info:\n",
      "[2025-07-23 14:44:30.580] [debug] Free memory: 21.693970 GB, Total memory: 23.517212 GB\n",
      "[2025-07-23 14:44:30.580] [debug] Debug Info:\n",
      "[2025-07-23 14:44:30.580] [debug]   n_features: 10000\n",
      "[2025-07-23 14:44:30.580] [debug]   n_partitions: 9\n",
      "[2025-07-23 14:44:30.580] [debug]   n_objects: 663\n",
      "[2025-07-23 14:44:30.580] [debug]   n_feature_comp: 49995000\n",
      "[2025-07-23 14:44:30.580] [debug]   n_aris: 4049595000\n",
      "[2025-07-23 14:44:30.580] [debug]   batch_n_aris: 1012297500\n",
      "[2025-07-23 14:44:30.580] [debug] Allocating host memory...\n",
      "[2025-07-23 14:44:30.580] [debug]   Memory before allocation: \n",
      "[2025-07-23 14:44:30.580] [debug] Host Memory Usage: 1408 MB (RSS), 12816 MB (Virtual)\n",
      "[2025-07-23 14:44:30.641] [debug]   Memory after allocation: \n",
      "[2025-07-23 14:44:30.641] [debug] Host Memory Usage: 1694 MB (RSS), 13102 MB (Virtual)\n",
      "[2025-07-23 14:44:30.641] [debug]   Memory used: 286 MB\n",
      "[2025-07-23 14:44:30.641] [debug] Allocating device memory...\n",
      "[2025-07-23 14:44:30.641] [debug]   max_batch_feature_comp: 12497500\n",
      "[2025-07-23 14:44:30.641] [debug]   Memory before allocation: \n",
      "[2025-07-23 14:44:30.641] [debug] Free memory: 21.693970 GB, Total memory: 23.517212 GB\n",
      "[2025-07-23 14:44:30.660] [debug]   Memory after allocation: \n",
      "[2025-07-23 14:44:30.660] [debug] Free memory: 21.621704 GB, Total memory: 23.517212 GB\n",
      "[2025-07-23 14:44:30.660] [debug]   Memory used: 74 MB\n",
      "[2025-07-23 14:44:30.660] [debug] Processing batch 1 of 5\n",
      "[2025-07-23 14:44:30.660] [debug]   Start index: 0\n",
      "[2025-07-23 14:44:30.660] [debug]   Batch size: 1012297500\n",
      "[2025-07-23 14:44:30.660] [debug]   Memory before batch: \n",
      "[2025-07-23 14:44:30.660] [debug] Free memory: 21.621704 GB, Total memory: 23.517212 GB\n",
      "[2025-07-23 14:44:30.660] [debug]   Current batch size: 1012297500\n",
      "[2025-07-23 14:44:30.660] [debug] Memory before device allocations: \n",
      "[2025-07-23 14:44:30.660] [debug] Free memory: 21.621704 GB, Total memory: 23.517212 GB\n",
      "[2025-07-23 14:44:30.675] [debug] Memory after device allocations: \n",
      "[2025-07-23 14:44:30.675] [debug] Free memory: 17.738892 GB, Total memory: 23.517212 GB\n",
      "[2025-07-23 14:44:30.675] [debug]   Device memory used: 3976 MB\n",
      "[2025-07-23 14:44:30.677] [debug] Shared memory check: Required shared memory size: 512 bytes, within available: 49152 bytes\n",
      "[2025-07-23 14:44:30.677] [debug] Memory before kernel launch: \n",
      "[2025-07-23 14:44:30.677] [debug] Free memory: 17.738892 GB, Total memory: 23.517212 GB\n",
      "[2025-07-23 14:44:30.677] [debug] Using shared memory kernel for k=10\n",
      "[2025-07-23 14:44:30.677] [debug] Memory after kernel launch: \n",
      "[2025-07-23 14:44:30.677] [debug] Free memory: 17.738892 GB, Total memory: 23.517212 GB\n",
      "[2025-07-23 14:44:30.677] [debug]   Device memory used in kernel: 0 bytes\n",
      "[2025-07-23 14:44:30.677] [debug] Debug: d_out->size() = 1012297500\n",
      "[2025-07-23 14:44:36.148] [debug]   Launching reduction kernel with 12497500 blocks, 128 threads per block\n",
      "[2025-07-23 14:44:36.168] [debug]   Memory after batch: \n",
      "[2025-07-23 14:44:36.168] [debug] Free memory: 17.870972 GB, Total memory: 23.517212 GB\n",
      "[2025-07-23 14:44:36.168] [debug]   Memory used in batch: 3840 MB\n",
      "[2025-07-23 14:44:36.169] [debug] Processing batch 2 of 5\n",
      "[2025-07-23 14:44:36.169] [debug]   Start index: 1012297500\n",
      "[2025-07-23 14:44:36.169] [debug]   Batch size: 1012297500\n",
      "[2025-07-23 14:44:36.169] [debug]   Memory before batch: \n",
      "[2025-07-23 14:44:36.169] [debug] Free memory: 21.642456 GB, Total memory: 23.517212 GB\n",
      "[2025-07-23 14:44:36.169] [debug]   Current batch size: 1012297500\n",
      "[2025-07-23 14:44:36.169] [debug] Memory before device allocations: \n",
      "[2025-07-23 14:44:36.169] [debug] Free memory: 21.642456 GB, Total memory: 23.517212 GB\n",
      "[2025-07-23 14:44:36.199] [debug] Memory after device allocations: \n",
      "[2025-07-23 14:44:36.199] [debug] Free memory: 17.759644 GB, Total memory: 23.517212 GB\n",
      "[2025-07-23 14:44:36.199] [debug]   Device memory used: 3976 MB\n",
      "[2025-07-23 14:44:36.203] [debug] Shared memory check: Required shared memory size: 512 bytes, within available: 49152 bytes\n",
      "[2025-07-23 14:44:36.203] [debug] Memory before kernel launch: \n",
      "[2025-07-23 14:44:36.203] [debug] Free memory: 17.759644 GB, Total memory: 23.517212 GB\n",
      "[2025-07-23 14:44:36.203] [debug] Using shared memory kernel for k=10\n",
      "[2025-07-23 14:44:36.203] [debug] Memory after kernel launch: \n",
      "[2025-07-23 14:44:36.203] [debug] Free memory: 17.759644 GB, Total memory: 23.517212 GB\n",
      "[2025-07-23 14:44:36.203] [debug]   Device memory used in kernel: 0 bytes\n",
      "[2025-07-23 14:44:36.203] [debug] Debug: d_out->size() = 1012297500\n",
      "[2025-07-23 14:44:41.640] [debug]   Launching reduction kernel with 12497500 blocks, 128 threads per block\n",
      "[2025-07-23 14:44:41.661] [debug]   Memory after batch: \n",
      "[2025-07-23 14:44:41.661] [debug] Free memory: 17.871765 GB, Total memory: 23.517212 GB\n",
      "[2025-07-23 14:44:41.661] [debug]   Memory used in batch: 3861 MB\n",
      "[2025-07-23 14:44:41.662] [debug] Processing batch 3 of 5\n",
      "[2025-07-23 14:44:41.662] [debug]   Start index: 2024595000\n",
      "[2025-07-23 14:44:41.662] [debug]   Batch size: 1012297500\n",
      "[2025-07-23 14:44:41.662] [debug]   Memory before batch: \n",
      "[2025-07-23 14:44:41.662] [debug] Free memory: 21.643250 GB, Total memory: 23.517212 GB\n",
      "[2025-07-23 14:44:41.662] [debug]   Current batch size: 1012297500\n",
      "[2025-07-23 14:44:41.662] [debug] Memory before device allocations: \n",
      "[2025-07-23 14:44:41.662] [debug] Free memory: 21.643250 GB, Total memory: 23.517212 GB\n",
      "[2025-07-23 14:44:41.691] [debug] Memory after device allocations: \n",
      "[2025-07-23 14:44:41.691] [debug] Free memory: 17.760437 GB, Total memory: 23.517212 GB\n",
      "[2025-07-23 14:44:41.691] [debug]   Device memory used: 3976 MB\n",
      "[2025-07-23 14:44:41.695] [debug] Shared memory check: Required shared memory size: 512 bytes, within available: 49152 bytes\n",
      "[2025-07-23 14:44:41.695] [debug] Memory before kernel launch: \n",
      "[2025-07-23 14:44:41.695] [debug] Free memory: 17.760437 GB, Total memory: 23.517212 GB\n",
      "[2025-07-23 14:44:41.695] [debug] Using shared memory kernel for k=10\n",
      "[2025-07-23 14:44:41.695] [debug] Memory after kernel launch: \n",
      "[2025-07-23 14:44:41.695] [debug] Free memory: 17.760437 GB, Total memory: 23.517212 GB\n",
      "[2025-07-23 14:44:41.695] [debug]   Device memory used in kernel: 0 bytes\n",
      "[2025-07-23 14:44:41.695] [debug] Debug: d_out->size() = 1012297500\n",
      "[2025-07-23 14:44:47.112] [debug]   Launching reduction kernel with 12497500 blocks, 128 threads per block\n",
      "[2025-07-23 14:44:47.132] [debug]   Memory after batch: \n",
      "[2025-07-23 14:44:47.132] [debug] Free memory: 17.871765 GB, Total memory: 23.517212 GB\n",
      "[2025-07-23 14:44:47.132] [debug]   Memory used in batch: 3862 MB\n",
      "[2025-07-23 14:44:47.133] [debug] Processing batch 4 of 5\n",
      "[2025-07-23 14:44:47.133] [debug]   Start index: 3036892500\n",
      "[2025-07-23 14:44:47.133] [debug]   Batch size: 1012297500\n",
      "[2025-07-23 14:44:47.133] [debug]   Memory before batch: \n",
      "[2025-07-23 14:44:47.133] [debug] Free memory: 21.643250 GB, Total memory: 23.517212 GB\n",
      "[2025-07-23 14:44:47.133] [debug]   Current batch size: 1012297500\n",
      "[2025-07-23 14:44:47.133] [debug] Memory before device allocations: \n",
      "[2025-07-23 14:44:47.133] [debug] Free memory: 21.643250 GB, Total memory: 23.517212 GB\n",
      "[2025-07-23 14:44:47.161] [debug] Memory after device allocations: \n",
      "[2025-07-23 14:44:47.161] [debug] Free memory: 17.760437 GB, Total memory: 23.517212 GB\n",
      "[2025-07-23 14:44:47.161] [debug]   Device memory used: 3976 MB\n",
      "[2025-07-23 14:44:47.164] [debug] Shared memory check: Required shared memory size: 512 bytes, within available: 49152 bytes\n",
      "[2025-07-23 14:44:47.164] [debug] Memory before kernel launch: \n",
      "[2025-07-23 14:44:47.164] [debug] Free memory: 17.760437 GB, Total memory: 23.517212 GB\n",
      "[2025-07-23 14:44:47.164] [debug] Using shared memory kernel for k=10\n",
      "[2025-07-23 14:44:47.164] [debug] Memory after kernel launch: \n",
      "[2025-07-23 14:44:47.164] [debug] Free memory: 17.760437 GB, Total memory: 23.517212 GB\n",
      "[2025-07-23 14:44:47.164] [debug]   Device memory used in kernel: 0 bytes\n",
      "[2025-07-23 14:44:47.164] [debug] Debug: d_out->size() = 1012297500\n",
      "[2025-07-23 14:44:52.572] [debug]   Launching reduction kernel with 12497500 blocks, 128 threads per block\n",
      "[2025-07-23 14:44:52.593] [debug]   Memory after batch: \n",
      "[2025-07-23 14:44:52.593] [debug] Free memory: 17.871765 GB, Total memory: 23.517212 GB\n",
      "[2025-07-23 14:44:52.593] [debug]   Memory used in batch: 3862 MB\n",
      "[2025-07-23 14:44:52.593] [debug] Processing batch 5 of 5\n",
      "[2025-07-23 14:44:52.593] [debug]   Start index: 4049190000\n",
      "[2025-07-23 14:44:52.593] [debug]   Batch size: 1012297500\n",
      "[2025-07-23 14:44:52.593] [debug]   Memory before batch: \n",
      "[2025-07-23 14:44:52.593] [debug] Free memory: 21.643250 GB, Total memory: 23.517212 GB\n",
      "[2025-07-23 14:44:52.593] [debug]   Current batch size: 405000\n",
      "[2025-07-23 14:44:52.593] [debug] Memory before device allocations: \n",
      "[2025-07-23 14:44:52.593] [debug] Free memory: 21.643250 GB, Total memory: 23.517212 GB\n",
      "[2025-07-23 14:44:52.616] [debug] Memory after device allocations: \n",
      "[2025-07-23 14:44:52.616] [debug] Free memory: 21.529968 GB, Total memory: 23.517212 GB\n",
      "[2025-07-23 14:44:52.616] [debug]   Device memory used: 116 MB\n",
      "[2025-07-23 14:44:52.618] [debug] Shared memory check: Required shared memory size: 512 bytes, within available: 49152 bytes\n",
      "[2025-07-23 14:44:52.618] [debug] Memory before kernel launch: \n",
      "[2025-07-23 14:44:52.618] [debug] Free memory: 21.529968 GB, Total memory: 23.517212 GB\n",
      "[2025-07-23 14:44:52.618] [debug] Using shared memory kernel for k=10\n",
      "[2025-07-23 14:44:52.618] [debug] Memory after kernel launch: \n",
      "[2025-07-23 14:44:52.618] [debug] Free memory: 21.529968 GB, Total memory: 23.517212 GB\n",
      "[2025-07-23 14:44:52.618] [debug]   Device memory used in kernel: 0 bytes\n",
      "[2025-07-23 14:44:52.618] [debug] Debug: d_out->size() = 405000\n",
      "[2025-07-23 14:44:52.620] [debug]   Launching reduction kernel with 5000 blocks, 128 threads per block\n",
      "[2025-07-23 14:44:52.621] [debug]   Memory after batch: \n",
      "[2025-07-23 14:44:52.621] [debug] Free memory: 21.641296 GB, Total memory: 23.517212 GB\n",
      "[2025-07-23 14:44:52.621] [debug]   Memory used in batch: 2 MB\n",
      "  adipose_subcutaneous-null_coefs_percentiles.pkl\n",
      "adipose_visceral_omentum 10000 541\n"
     ]
    }
   ],
   "source": [
    "for tissue_name in TISSUE_NAMES:\n",
    "    # get tissue data\n",
    "    tissue_data = pd.read_pickle(DATA_BY_TISSUE_PATH / f\"gtex_v8_data_{tissue_name}.pkl\")\n",
    "    \n",
    "    # select top genes\n",
    "    tissue_data = tissue_data.sample(n=N_GENES, replace=False, axis=0)\n",
    "    n_genes, n_samples = tissue_data.shape\n",
    "\n",
    "    print(tissue_name, n_genes, n_samples, flush=False)\n",
    "    \n",
    "    data_shuffled = tissue_data.apply(lambda x: x.sample(frac=1, replace=False, random_state=RNG).to_numpy(), axis=0)\n",
    "    \n",
    "    # x, y = np.random.normal(size=n), np.random.normal(size=n)\n",
    "    \n",
    "    tissue_null = pd.DataFrame({\n",
    "        \"ccc\": np.abs(ccc(data_shuffled)),\n",
    "        \"pearson\": np.abs(pearson(data_shuffled)),\n",
    "        \"spearman\": np.abs(spearman(data_shuffled)),\n",
    "    })\n",
    "\n",
    "    tissue_null_perc = tissue_null.quantile(PERCENTILES)\n",
    "\n",
    "    # save\n",
    "    output_filename = OUTPUT_FILE_TEMPLATE.format(tissue=tissue_name)\n",
    "    print(f\"  {output_filename}\", flush=True)\n",
    "    tissue_null_perc.to_pickle(OUTPUT_DIR / output_filename)"
   ]
  },
  {
   "cell_type": "markdown",
   "id": "0493ed1a-9c13-413b-940e-3bd3801b1504",
   "metadata": {},
   "source": [
    "# Testing"
   ]
  },
  {
   "cell_type": "code",
   "execution_count": null,
   "id": "99daab00-dd6d-44ea-99fb-0cba332dbaf9",
   "metadata": {},
   "outputs": [],
   "source": [
    "results[\"whole_blood\"].tail(51)"
   ]
  },
  {
   "cell_type": "code",
   "execution_count": null,
   "id": "348b4255-96c3-4a1e-a55d-9bc3c41150ed",
   "metadata": {},
   "outputs": [],
   "source": []
  }
 ],
 "metadata": {
  "kernelspec": {
   "display_name": "Python 3 (ipykernel)",
   "language": "python",
   "name": "python3"
  },
  "language_info": {
   "codemirror_mode": {
    "name": "ipython",
    "version": 3
   },
   "file_extension": ".py",
   "mimetype": "text/x-python",
   "name": "python",
   "nbconvert_exporter": "python",
   "pygments_lexer": "ipython3",
   "version": "3.10.16"
  }
 },
 "nbformat": 4,
 "nbformat_minor": 5
}
