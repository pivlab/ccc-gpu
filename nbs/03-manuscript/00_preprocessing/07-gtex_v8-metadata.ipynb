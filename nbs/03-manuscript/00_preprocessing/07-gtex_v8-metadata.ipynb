{
 "cells": [
  {
   "cell_type": "markdown",
   "id": "b9c35e72-e087-4511-9899-5da25f3ff7ba",
   "metadata": {
    "papermill": {
     "duration": 0.058765,
     "end_time": "2022-01-24T20:12:35.546509",
     "exception": false,
     "start_time": "2022-01-24T20:12:35.487744",
     "status": "completed"
    },
    "tags": []
   },
   "source": [
    "# Description"
   ]
  },
  {
   "cell_type": "markdown",
   "id": "9ef6707b-70c2-44ce-92dd-96782b4b539e",
   "metadata": {
    "papermill": {
     "duration": 0.029921,
     "end_time": "2022-01-24T20:12:35.600878",
     "exception": false,
     "start_time": "2022-01-24T20:12:35.570957",
     "status": "completed"
    },
    "tags": []
   },
   "source": [
    "It reads GTEx v8 metadata on samples and subjects and writes a file with that info."
   ]
  },
  {
   "cell_type": "markdown",
   "id": "5d4ae4df-624d-4951-917c-880462cfb658",
   "metadata": {
    "papermill": {
     "duration": 0.024058,
     "end_time": "2022-01-24T20:12:35.651210",
     "exception": false,
     "start_time": "2022-01-24T20:12:35.627152",
     "status": "completed"
    },
    "tags": []
   },
   "source": [
    "# Modules"
   ]
  },
  {
   "cell_type": "code",
   "execution_count": 3,
   "id": "2dcd0e52-236a-44cd-9cd9-71cca1232338",
   "metadata": {
    "execution": {
     "iopub.execute_input": "2022-01-24T20:12:35.706659Z",
     "iopub.status.busy": "2022-01-24T20:12:35.706193Z",
     "iopub.status.idle": "2022-01-24T20:12:35.936077Z",
     "shell.execute_reply": "2022-01-24T20:12:35.935579Z"
    },
    "papermill": {
     "duration": 0.260879,
     "end_time": "2022-01-24T20:12:35.936190",
     "exception": false,
     "start_time": "2022-01-24T20:12:35.675311",
     "status": "completed"
    },
    "tags": []
   },
   "outputs": [],
   "source": [
    "import re\n",
    "import pandas as pd\n",
    "\n",
    "from ccc import conf\n",
    "from pathlib import Path"
   ]
  },
  {
   "cell_type": "markdown",
   "id": "e9ef3211-8d35-4b4b-be45-2de384b6fdee",
   "metadata": {
    "papermill": {
     "duration": 0.024306,
     "end_time": "2022-01-24T20:12:35.985606",
     "exception": false,
     "start_time": "2022-01-24T20:12:35.961300",
     "status": "completed"
    },
    "tags": []
   },
   "source": [
    "# Settings"
   ]
  },
  {
   "cell_type": "markdown",
   "id": "649a237d-595e-4bd7-a607-7c1773b36cb5",
   "metadata": {
    "papermill": {
     "duration": 0.024896,
     "end_time": "2022-01-24T20:12:36.035011",
     "exception": false,
     "start_time": "2022-01-24T20:12:36.010115",
     "status": "completed"
    },
    "tags": []
   },
   "source": [
    "# Paths"
   ]
  },
  {
   "cell_type": "code",
   "execution_count": null,
   "id": "1ea8a834-34dd-480f-b85f-5706aa4db334",
   "metadata": {
    "execution": {
     "iopub.execute_input": "2022-01-24T20:12:36.087101Z",
     "iopub.status.busy": "2022-01-24T20:12:36.086638Z",
     "iopub.status.idle": "2022-01-24T20:12:36.089005Z",
     "shell.execute_reply": "2022-01-24T20:12:36.088562Z"
    },
    "papermill": {
     "duration": 0.029899,
     "end_time": "2022-01-24T20:12:36.089101",
     "exception": false,
     "start_time": "2022-01-24T20:12:36.059202",
     "status": "completed"
    },
    "tags": []
   },
   "outputs": [],
   "source": [
    "DATA_DIR = Path(\"/mnt/data/proj_data/ccc-gpu/gene_expr/data/gtex_v8\")\n",
    "TISSUE_DIR = DATA_DIR / \"data_by_tissue\"\n",
    "assert TISSUE_DIR.exists()"
   ]
  },
  {
   "cell_type": "code",
   "execution_count": null,
   "id": "e299e696-c524-46fb-a200-4f40d22d111c",
   "metadata": {
    "execution": {
     "iopub.execute_input": "2022-01-24T20:12:36.146381Z",
     "iopub.status.busy": "2022-01-24T20:12:36.145913Z",
     "iopub.status.idle": "2022-01-24T20:12:36.150716Z",
     "shell.execute_reply": "2022-01-24T20:12:36.150325Z"
    },
    "papermill": {
     "duration": 0.036228,
     "end_time": "2022-01-24T20:12:36.150813",
     "exception": false,
     "start_time": "2022-01-24T20:12:36.114585",
     "status": "completed"
    },
    "tags": []
   },
   "outputs": [],
   "source": [
    "RAW_METADATA_DIR = Path(\"/mnt/data/proj_data/ccc-gpu/gtex_metadata\")\n",
    "assert RAW_METADATA_DIR.exists()\n",
    "\n",
    "OUTPUT_DIR = RAW_METADATA_DIR"
   ]
  },
  {
   "cell_type": "code",
   "execution_count": 16,
   "id": "a34abfca",
   "metadata": {},
   "outputs": [],
   "source": [
    "# Files\n",
    "SAMPLE_ATTRS_FILE = (\n",
    "    RAW_METADATA_DIR / \"GTEx_Analysis_2017-06-05_v8_Annotations_SampleAttributesDS.txt\"\n",
    ")\n",
    "assert SAMPLE_ATTRS_FILE.exists()\n",
    "\n",
    "SUBJ_ATTRS_FILE = (\n",
    "    RAW_METADATA_DIR / \"GTEx_Analysis_2017-06-05_v8_Annotations_SubjectPhenotypesDS.txt\"\n",
    ")\n",
    "assert SUBJ_ATTRS_FILE.exists()"
   ]
  },
  {
   "cell_type": "markdown",
   "id": "35453032-07b1-4e68-9f65-f8ec0d0ebcd1",
   "metadata": {
    "papermill": {
     "duration": 0.025344,
     "end_time": "2022-01-24T20:12:36.202038",
     "exception": false,
     "start_time": "2022-01-24T20:12:36.176694",
     "status": "completed"
    },
    "tags": []
   },
   "source": [
    "# Data"
   ]
  },
  {
   "cell_type": "markdown",
   "id": "76b3390f-360a-45e8-b38d-f14f92823125",
   "metadata": {
    "papermill": {
     "duration": 0.024383,
     "end_time": "2022-01-24T20:12:36.250762",
     "exception": false,
     "start_time": "2022-01-24T20:12:36.226379",
     "status": "completed"
    },
    "tags": []
   },
   "source": [
    "## GTEx samples info"
   ]
  },
  {
   "cell_type": "code",
   "execution_count": null,
   "id": "b6e7065b-e4da-423d-a8d8-0e11eb37a61f",
   "metadata": {
    "execution": {
     "iopub.execute_input": "2022-01-24T20:12:36.359759Z",
     "iopub.status.busy": "2022-01-24T20:12:36.359308Z",
     "iopub.status.idle": "2022-01-24T20:12:36.539741Z",
     "shell.execute_reply": "2022-01-24T20:12:36.539248Z"
    },
    "papermill": {
     "duration": 0.209397,
     "end_time": "2022-01-24T20:12:36.539847",
     "exception": false,
     "start_time": "2022-01-24T20:12:36.330450",
     "status": "completed"
    },
    "tags": []
   },
   "outputs": [],
   "source": [
    "gtex_samples = pd.read_csv(\n",
    "    SAMPLE_ATTRS_FILE,\n",
    "    sep=\"\\t\",\n",
    "    index_col=\"SAMPID\",\n",
    ")"
   ]
  },
  {
   "cell_type": "code",
   "execution_count": null,
   "id": "eb098bd6-b615-4200-b041-777b88927977",
   "metadata": {
    "execution": {
     "iopub.execute_input": "2022-01-24T20:12:36.604102Z",
     "iopub.status.busy": "2022-01-24T20:12:36.603531Z",
     "iopub.status.idle": "2022-01-24T20:12:36.605637Z",
     "shell.execute_reply": "2022-01-24T20:12:36.606077Z"
    },
    "papermill": {
     "duration": 0.039027,
     "end_time": "2022-01-24T20:12:36.606220",
     "exception": false,
     "start_time": "2022-01-24T20:12:36.567193",
     "status": "completed"
    },
    "tags": []
   },
   "outputs": [],
   "source": [
    "display(gtex_samples.shape)\n",
    "assert gtex_samples.index.is_unique"
   ]
  },
  {
   "cell_type": "code",
   "execution_count": null,
   "id": "05963bde-6c8c-42ee-8298-8fd96de87fcb",
   "metadata": {
    "execution": {
     "iopub.execute_input": "2022-01-24T20:12:36.666747Z",
     "iopub.status.busy": "2022-01-24T20:12:36.666230Z",
     "iopub.status.idle": "2022-01-24T20:12:36.683437Z",
     "shell.execute_reply": "2022-01-24T20:12:36.683040Z"
    },
    "papermill": {
     "duration": 0.048386,
     "end_time": "2022-01-24T20:12:36.683536",
     "exception": false,
     "start_time": "2022-01-24T20:12:36.635150",
     "status": "completed"
    },
    "tags": []
   },
   "outputs": [],
   "source": [
    "gtex_samples.head()"
   ]
  },
  {
   "cell_type": "markdown",
   "id": "dc0a9692-52bd-45e2-b03c-b271966a88af",
   "metadata": {
    "papermill": {
     "duration": 0.026352,
     "end_time": "2022-01-24T20:12:36.736644",
     "exception": false,
     "start_time": "2022-01-24T20:12:36.710292",
     "status": "completed"
    },
    "tags": []
   },
   "source": [
    "## GTEx subject phenotypes"
   ]
  },
  {
   "cell_type": "code",
   "execution_count": 17,
   "id": "64149f51-d076-40fb-8c36-f2631554ea94",
   "metadata": {
    "execution": {
     "iopub.execute_input": "2022-01-24T20:12:36.850640Z",
     "iopub.status.busy": "2022-01-24T20:12:36.850169Z",
     "iopub.status.idle": "2022-01-24T20:12:36.854173Z",
     "shell.execute_reply": "2022-01-24T20:12:36.853718Z"
    },
    "papermill": {
     "duration": 0.034002,
     "end_time": "2022-01-24T20:12:36.854272",
     "exception": false,
     "start_time": "2022-01-24T20:12:36.820270",
     "status": "completed"
    },
    "tags": []
   },
   "outputs": [],
   "source": [
    "gtex_phenotypes = pd.read_csv(\n",
    "    SUBJ_ATTRS_FILE,\n",
    "    sep=\"\\t\",\n",
    ")"
   ]
  },
  {
   "cell_type": "code",
   "execution_count": null,
   "id": "6b2639f1-c6ba-4bfb-b261-eab8961e43f7",
   "metadata": {
    "execution": {
     "iopub.execute_input": "2022-01-24T20:12:36.910775Z",
     "iopub.status.busy": "2022-01-24T20:12:36.910241Z",
     "iopub.status.idle": "2022-01-24T20:12:36.912518Z",
     "shell.execute_reply": "2022-01-24T20:12:36.912871Z"
    },
    "papermill": {
     "duration": 0.032387,
     "end_time": "2022-01-24T20:12:36.912983",
     "exception": false,
     "start_time": "2022-01-24T20:12:36.880596",
     "status": "completed"
    },
    "tags": []
   },
   "outputs": [],
   "source": [
    "gtex_phenotypes.shape"
   ]
  },
  {
   "cell_type": "code",
   "execution_count": null,
   "id": "d0cc026d-9e84-4bed-9cc3-fc221a66013e",
   "metadata": {
    "execution": {
     "iopub.execute_input": "2022-01-24T20:12:36.974899Z",
     "iopub.status.busy": "2022-01-24T20:12:36.974393Z",
     "iopub.status.idle": "2022-01-24T20:12:36.976549Z",
     "shell.execute_reply": "2022-01-24T20:12:36.976890Z"
    },
    "papermill": {
     "duration": 0.036876,
     "end_time": "2022-01-24T20:12:36.977009",
     "exception": false,
     "start_time": "2022-01-24T20:12:36.940133",
     "status": "completed"
    },
    "tags": []
   },
   "outputs": [],
   "source": [
    "gtex_phenotypes.head()"
   ]
  },
  {
   "cell_type": "markdown",
   "id": "e7bb7aa5-298e-42d2-b409-b4dcb7b5c02b",
   "metadata": {
    "papermill": {
     "duration": 0.026658,
     "end_time": "2022-01-24T20:12:37.031549",
     "exception": false,
     "start_time": "2022-01-24T20:12:37.004891",
     "status": "completed"
    },
    "tags": []
   },
   "source": [
    "## GTEx gene expression sample"
   ]
  },
  {
   "cell_type": "code",
   "execution_count": null,
   "id": "27ed2c55",
   "metadata": {},
   "outputs": [],
   "source": [
    "TISSUE_DIR.glob(\"*.pkl\")"
   ]
  },
  {
   "cell_type": "code",
   "execution_count": null,
   "id": "f7e1f625-9fe5-4b30-9b3c-a33817be7e05",
   "metadata": {
    "execution": {
     "iopub.execute_input": "2022-01-24T20:12:37.089149Z",
     "iopub.status.busy": "2022-01-24T20:12:37.088634Z",
     "iopub.status.idle": "2022-01-24T20:12:37.113267Z",
     "shell.execute_reply": "2022-01-24T20:12:37.113596Z"
    },
    "papermill": {
     "duration": 0.05542,
     "end_time": "2022-01-24T20:12:37.113713",
     "exception": false,
     "start_time": "2022-01-24T20:12:37.058293",
     "status": "completed"
    },
    "tags": []
   },
   "outputs": [],
   "source": [
    "pd.read_pickle(next(TISSUE_DIR.glob(\"*.pkl\"))).head()"
   ]
  },
  {
   "cell_type": "markdown",
   "id": "dd851f15-ad05-4eda-9af8-2cd8d383a45b",
   "metadata": {
    "papermill": {
     "duration": 0.027857,
     "end_time": "2022-01-24T20:12:37.464906",
     "exception": false,
     "start_time": "2022-01-24T20:12:37.437049",
     "status": "completed"
    },
    "tags": []
   },
   "source": [
    "# Get GTEx sample metadata"
   ]
  },
  {
   "cell_type": "code",
   "execution_count": null,
   "id": "06c8e283-64d6-4be7-8fd3-0de9a1f1d8b0",
   "metadata": {
    "execution": {
     "iopub.execute_input": "2022-01-24T20:12:37.525127Z",
     "iopub.status.busy": "2022-01-24T20:12:37.524562Z",
     "iopub.status.idle": "2022-01-24T20:12:37.527403Z",
     "shell.execute_reply": "2022-01-24T20:12:37.527024Z"
    },
    "papermill": {
     "duration": 0.034473,
     "end_time": "2022-01-24T20:12:37.527497",
     "exception": false,
     "start_time": "2022-01-24T20:12:37.493024",
     "status": "completed"
    },
    "tags": []
   },
   "outputs": [],
   "source": [
    "gtex_samples_ids = gtex_samples.index.to_list()\n",
    "display(gtex_samples_ids[:5])"
   ]
  },
  {
   "cell_type": "code",
   "execution_count": 26,
   "id": "0e1a9f52-96e2-4e71-a8ed-89f667f333bd",
   "metadata": {
    "execution": {
     "iopub.execute_input": "2022-01-24T20:12:37.592780Z",
     "iopub.status.busy": "2022-01-24T20:12:37.589092Z",
     "iopub.status.idle": "2022-01-24T20:12:37.595461Z",
     "shell.execute_reply": "2022-01-24T20:12:37.594949Z"
    },
    "papermill": {
     "duration": 0.039618,
     "end_time": "2022-01-24T20:12:37.595589",
     "exception": false,
     "start_time": "2022-01-24T20:12:37.555971",
     "status": "completed"
    },
    "tags": []
   },
   "outputs": [],
   "source": [
    "gtex_samples_ids = pd.Series(gtex_samples_ids).rename(\"SAMPID\")"
   ]
  },
  {
   "cell_type": "code",
   "execution_count": null,
   "id": "92c9b73e-12e1-400e-bd5a-fb0ecdc608e1",
   "metadata": {
    "execution": {
     "iopub.execute_input": "2022-01-24T20:12:37.663780Z",
     "iopub.status.busy": "2022-01-24T20:12:37.663255Z",
     "iopub.status.idle": "2022-01-24T20:12:37.665737Z",
     "shell.execute_reply": "2022-01-24T20:12:37.666078Z"
    },
    "papermill": {
     "duration": 0.036765,
     "end_time": "2022-01-24T20:12:37.666197",
     "exception": false,
     "start_time": "2022-01-24T20:12:37.629432",
     "status": "completed"
    },
    "tags": []
   },
   "outputs": [],
   "source": [
    "gtex_samples_ids"
   ]
  },
  {
   "cell_type": "code",
   "execution_count": 28,
   "id": "a2f4ee60-f5bc-4e68-9289-15fc6c173f77",
   "metadata": {
    "execution": {
     "iopub.execute_input": "2022-01-24T20:12:37.743705Z",
     "iopub.status.busy": "2022-01-24T20:12:37.732857Z",
     "iopub.status.idle": "2022-01-24T20:12:37.757417Z",
     "shell.execute_reply": "2022-01-24T20:12:37.757019Z"
    },
    "papermill": {
     "duration": 0.062288,
     "end_time": "2022-01-24T20:12:37.757516",
     "exception": false,
     "start_time": "2022-01-24T20:12:37.695228",
     "status": "completed"
    },
    "tags": []
   },
   "outputs": [],
   "source": [
    "gtex_subjects_ids = gtex_samples_ids.str.extract(\n",
    "    r\"([\\w\\d]+\\-[\\w\\d]+)\", flags=re.IGNORECASE, expand=True\n",
    ")[0].rename(\"SUBJID\")"
   ]
  },
  {
   "cell_type": "code",
   "execution_count": null,
   "id": "62428886-05a4-470d-891d-b4405214b8df",
   "metadata": {
    "execution": {
     "iopub.execute_input": "2022-01-24T20:12:37.823082Z",
     "iopub.status.busy": "2022-01-24T20:12:37.822431Z",
     "iopub.status.idle": "2022-01-24T20:12:37.824724Z",
     "shell.execute_reply": "2022-01-24T20:12:37.825086Z"
    },
    "papermill": {
     "duration": 0.037072,
     "end_time": "2022-01-24T20:12:37.825201",
     "exception": false,
     "start_time": "2022-01-24T20:12:37.788129",
     "status": "completed"
    },
    "tags": []
   },
   "outputs": [],
   "source": [
    "gtex_subjects_ids"
   ]
  },
  {
   "cell_type": "code",
   "execution_count": 30,
   "id": "099167be-5c93-4f6d-9903-58667691d0db",
   "metadata": {
    "execution": {
     "iopub.execute_input": "2022-01-24T20:12:37.889398Z",
     "iopub.status.busy": "2022-01-24T20:12:37.888943Z",
     "iopub.status.idle": "2022-01-24T20:12:37.890407Z",
     "shell.execute_reply": "2022-01-24T20:12:37.890744Z"
    },
    "papermill": {
     "duration": 0.035331,
     "end_time": "2022-01-24T20:12:37.890863",
     "exception": false,
     "start_time": "2022-01-24T20:12:37.855532",
     "status": "completed"
    },
    "tags": []
   },
   "outputs": [],
   "source": [
    "gtex_metadata = pd.concat([gtex_samples_ids, gtex_subjects_ids], axis=1)"
   ]
  },
  {
   "cell_type": "code",
   "execution_count": null,
   "id": "6abe8ea5-f25e-4190-8fe3-c6a359772d55",
   "metadata": {
    "execution": {
     "iopub.execute_input": "2022-01-24T20:12:37.958489Z",
     "iopub.status.busy": "2022-01-24T20:12:37.957921Z",
     "iopub.status.idle": "2022-01-24T20:12:37.960930Z",
     "shell.execute_reply": "2022-01-24T20:12:37.960500Z"
    },
    "papermill": {
     "duration": 0.039657,
     "end_time": "2022-01-24T20:12:37.961028",
     "exception": false,
     "start_time": "2022-01-24T20:12:37.921371",
     "status": "completed"
    },
    "tags": []
   },
   "outputs": [],
   "source": [
    "gtex_metadata"
   ]
  },
  {
   "cell_type": "code",
   "execution_count": null,
   "id": "384ec029-7624-42f2-a2bd-2d452de6b032",
   "metadata": {
    "execution": {
     "iopub.execute_input": "2022-01-24T20:12:38.032867Z",
     "iopub.status.busy": "2022-01-24T20:12:38.032399Z",
     "iopub.status.idle": "2022-01-24T20:12:38.034334Z",
     "shell.execute_reply": "2022-01-24T20:12:38.034747Z"
    },
    "papermill": {
     "duration": 0.043533,
     "end_time": "2022-01-24T20:12:38.034862",
     "exception": false,
     "start_time": "2022-01-24T20:12:37.991329",
     "status": "completed"
    },
    "tags": []
   },
   "outputs": [],
   "source": [
    "gtex_phenotypes"
   ]
  },
  {
   "cell_type": "code",
   "execution_count": 33,
   "id": "e9ef5701-7bdc-4834-970f-181f2861783b",
   "metadata": {
    "execution": {
     "iopub.execute_input": "2022-01-24T20:12:38.111574Z",
     "iopub.status.busy": "2022-01-24T20:12:38.111104Z",
     "iopub.status.idle": "2022-01-24T20:12:38.120144Z",
     "shell.execute_reply": "2022-01-24T20:12:38.119701Z"
    },
    "papermill": {
     "duration": 0.054268,
     "end_time": "2022-01-24T20:12:38.120247",
     "exception": false,
     "start_time": "2022-01-24T20:12:38.065979",
     "status": "completed"
    },
    "tags": []
   },
   "outputs": [],
   "source": [
    "gtex_metadata = pd.merge(gtex_metadata, gtex_phenotypes).set_index(\"SAMPID\")"
   ]
  },
  {
   "cell_type": "code",
   "execution_count": null,
   "id": "717bbdad-e15b-4076-9fa2-8fe3c46f1ff6",
   "metadata": {
    "execution": {
     "iopub.execute_input": "2022-01-24T20:12:38.193590Z",
     "iopub.status.busy": "2022-01-24T20:12:38.191327Z",
     "iopub.status.idle": "2022-01-24T20:12:38.195766Z",
     "shell.execute_reply": "2022-01-24T20:12:38.196186Z"
    },
    "papermill": {
     "duration": 0.043888,
     "end_time": "2022-01-24T20:12:38.196305",
     "exception": false,
     "start_time": "2022-01-24T20:12:38.152417",
     "status": "completed"
    },
    "tags": []
   },
   "outputs": [],
   "source": [
    "gtex_metadata"
   ]
  },
  {
   "cell_type": "code",
   "execution_count": 35,
   "id": "4ca7b4fa-0590-4ad5-bff9-4c07f508c86d",
   "metadata": {
    "execution": {
     "iopub.execute_input": "2022-01-24T20:12:38.266997Z",
     "iopub.status.busy": "2022-01-24T20:12:38.266057Z",
     "iopub.status.idle": "2022-01-24T20:12:38.275777Z",
     "shell.execute_reply": "2022-01-24T20:12:38.275402Z"
    },
    "papermill": {
     "duration": 0.047971,
     "end_time": "2022-01-24T20:12:38.275918",
     "exception": false,
     "start_time": "2022-01-24T20:12:38.227947",
     "status": "completed"
    },
    "tags": []
   },
   "outputs": [],
   "source": [
    "gtex_metadata = pd.merge(gtex_metadata, gtex_samples, left_index=True, right_index=True)"
   ]
  },
  {
   "cell_type": "code",
   "execution_count": 36,
   "id": "7470d19a-719c-48df-aeb7-aced945256d4",
   "metadata": {
    "execution": {
     "iopub.execute_input": "2022-01-24T20:12:38.353228Z",
     "iopub.status.busy": "2022-01-24T20:12:38.352728Z",
     "iopub.status.idle": "2022-01-24T20:12:38.375024Z",
     "shell.execute_reply": "2022-01-24T20:12:38.374550Z"
    },
    "papermill": {
     "duration": 0.063776,
     "end_time": "2022-01-24T20:12:38.375125",
     "exception": false,
     "start_time": "2022-01-24T20:12:38.311349",
     "status": "completed"
    },
    "tags": []
   },
   "outputs": [],
   "source": [
    "gtex_metadata = gtex_metadata.replace(\n",
    "    {\n",
    "        \"SEX\": {\n",
    "            1: \"Male\",\n",
    "            2: \"Female\",\n",
    "        }\n",
    "    }\n",
    ")"
   ]
  },
  {
   "cell_type": "code",
   "execution_count": 37,
   "id": "3b5c503c-2968-4093-a367-78809446c42d",
   "metadata": {
    "execution": {
     "iopub.execute_input": "2022-01-24T20:12:38.442590Z",
     "iopub.status.busy": "2022-01-24T20:12:38.442126Z",
     "iopub.status.idle": "2022-01-24T20:12:38.456507Z",
     "shell.execute_reply": "2022-01-24T20:12:38.456038Z"
    },
    "papermill": {
     "duration": 0.04815,
     "end_time": "2022-01-24T20:12:38.456607",
     "exception": false,
     "start_time": "2022-01-24T20:12:38.408457",
     "status": "completed"
    },
    "tags": []
   },
   "outputs": [],
   "source": [
    "gtex_metadata = gtex_metadata.sort_index()"
   ]
  },
  {
   "cell_type": "code",
   "execution_count": null,
   "id": "a0b4eb60-120b-4700-ae6e-64108e937c1f",
   "metadata": {
    "execution": {
     "iopub.execute_input": "2022-01-24T20:12:38.541628Z",
     "iopub.status.busy": "2022-01-24T20:12:38.540969Z",
     "iopub.status.idle": "2022-01-24T20:12:38.543985Z",
     "shell.execute_reply": "2022-01-24T20:12:38.543487Z"
    },
    "papermill": {
     "duration": 0.054287,
     "end_time": "2022-01-24T20:12:38.544083",
     "exception": false,
     "start_time": "2022-01-24T20:12:38.489796",
     "status": "completed"
    },
    "tags": []
   },
   "outputs": [],
   "source": [
    "gtex_metadata.head()"
   ]
  },
  {
   "cell_type": "markdown",
   "id": "cccf7fd4-329c-49e0-b6a7-3f449d78a73c",
   "metadata": {
    "papermill": {
     "duration": 0.040982,
     "end_time": "2022-01-24T20:12:38.648611",
     "exception": false,
     "start_time": "2022-01-24T20:12:38.607629",
     "status": "completed"
    },
    "tags": []
   },
   "source": [
    "# Testing"
   ]
  },
  {
   "cell_type": "code",
   "execution_count": null,
   "id": "1c15685c-ad29-4ec9-b2ab-532b98084e2d",
   "metadata": {
    "execution": {
     "iopub.execute_input": "2022-01-24T20:12:38.718344Z",
     "iopub.status.busy": "2022-01-24T20:12:38.717816Z",
     "iopub.status.idle": "2022-01-24T20:12:38.720455Z",
     "shell.execute_reply": "2022-01-24T20:12:38.720004Z"
    },
    "papermill": {
     "duration": 0.038603,
     "end_time": "2022-01-24T20:12:38.720551",
     "exception": false,
     "start_time": "2022-01-24T20:12:38.681948",
     "status": "completed"
    },
    "tags": []
   },
   "outputs": [],
   "source": [
    "gtex_metadata.shape"
   ]
  },
  {
   "cell_type": "code",
   "execution_count": 40,
   "id": "5a2ea032-ff23-4187-9375-0a1a2d713eeb",
   "metadata": {
    "execution": {
     "iopub.execute_input": "2022-01-24T20:12:38.792744Z",
     "iopub.status.busy": "2022-01-24T20:12:38.792276Z",
     "iopub.status.idle": "2022-01-24T20:12:38.793712Z",
     "shell.execute_reply": "2022-01-24T20:12:38.794050Z"
    },
    "papermill": {
     "duration": 0.039534,
     "end_time": "2022-01-24T20:12:38.794170",
     "exception": false,
     "start_time": "2022-01-24T20:12:38.754636",
     "status": "completed"
    },
    "tags": []
   },
   "outputs": [],
   "source": [
    "assert not gtex_metadata[\"SUBJID\"].isna().any()"
   ]
  },
  {
   "cell_type": "code",
   "execution_count": 41,
   "id": "65dd3a2f-bcd5-4da6-b721-ec6497e69d63",
   "metadata": {
    "execution": {
     "iopub.execute_input": "2022-01-24T20:12:38.866930Z",
     "iopub.status.busy": "2022-01-24T20:12:38.866462Z",
     "iopub.status.idle": "2022-01-24T20:12:38.868073Z",
     "shell.execute_reply": "2022-01-24T20:12:38.868416Z"
    },
    "papermill": {
     "duration": 0.040503,
     "end_time": "2022-01-24T20:12:38.868536",
     "exception": false,
     "start_time": "2022-01-24T20:12:38.828033",
     "status": "completed"
    },
    "tags": []
   },
   "outputs": [],
   "source": [
    "assert not gtex_metadata[\"SMTS\"].isna().any()\n",
    "assert not gtex_metadata[\"SMTSD\"].isna().any()"
   ]
  },
  {
   "cell_type": "code",
   "execution_count": 42,
   "id": "626151f8-4606-4817-883c-fefd1c1c7db1",
   "metadata": {
    "execution": {
     "iopub.execute_input": "2022-01-24T20:12:38.941628Z",
     "iopub.status.busy": "2022-01-24T20:12:38.940291Z",
     "iopub.status.idle": "2022-01-24T20:12:38.944346Z",
     "shell.execute_reply": "2022-01-24T20:12:38.943848Z"
    },
    "papermill": {
     "duration": 0.042328,
     "end_time": "2022-01-24T20:12:38.944440",
     "exception": false,
     "start_time": "2022-01-24T20:12:38.902112",
     "status": "completed"
    },
    "tags": []
   },
   "outputs": [],
   "source": [
    "assert not gtex_metadata[\"SEX\"].isna().any()\n",
    "assert gtex_metadata[\"SEX\"].unique().shape[0] == 2\n",
    "assert set(gtex_metadata[\"SEX\"].unique()) == {\"Female\", \"Male\"}"
   ]
  },
  {
   "cell_type": "markdown",
   "id": "3ae112d5-0b8d-456f-9fd3-b9425c7be8b8",
   "metadata": {
    "papermill": {
     "duration": 0.033894,
     "end_time": "2022-01-24T20:12:39.011070",
     "exception": false,
     "start_time": "2022-01-24T20:12:38.977176",
     "status": "completed"
    },
    "tags": []
   },
   "source": [
    "# Save"
   ]
  },
  {
   "cell_type": "code",
   "execution_count": null,
   "id": "ff4e5f05-acbf-4c28-86e4-63861f44d24d",
   "metadata": {
    "execution": {
     "iopub.execute_input": "2022-01-24T20:12:39.080737Z",
     "iopub.status.busy": "2022-01-24T20:12:39.080181Z",
     "iopub.status.idle": "2022-01-24T20:12:39.082304Z",
     "shell.execute_reply": "2022-01-24T20:12:39.082669Z"
    },
    "papermill": {
     "duration": 0.038618,
     "end_time": "2022-01-24T20:12:39.082785",
     "exception": false,
     "start_time": "2022-01-24T20:12:39.044167",
     "status": "completed"
    },
    "tags": []
   },
   "outputs": [],
   "source": [
    "output_filename = OUTPUT_DIR / \"gtex_v8-sample_metadata.pkl\"\n",
    "display(output_filename)"
   ]
  },
  {
   "cell_type": "code",
   "execution_count": 44,
   "id": "3bfcde76-54ef-40b0-a03b-0f1ae31b61d3",
   "metadata": {
    "execution": {
     "iopub.execute_input": "2022-01-24T20:12:39.152946Z",
     "iopub.status.busy": "2022-01-24T20:12:39.152475Z",
     "iopub.status.idle": "2022-01-24T20:12:39.179138Z",
     "shell.execute_reply": "2022-01-24T20:12:39.178671Z"
    },
    "papermill": {
     "duration": 0.062581,
     "end_time": "2022-01-24T20:12:39.179239",
     "exception": false,
     "start_time": "2022-01-24T20:12:39.116658",
     "status": "completed"
    },
    "tags": []
   },
   "outputs": [],
   "source": [
    "gtex_metadata.to_pickle(output_filename)"
   ]
  },
  {
   "cell_type": "code",
   "execution_count": null,
   "id": "588803c0-0655-4af7-8721-ca8ceba871cf",
   "metadata": {
    "papermill": {
     "duration": 0.033499,
     "end_time": "2022-01-24T20:12:39.247828",
     "exception": false,
     "start_time": "2022-01-24T20:12:39.214329",
     "status": "completed"
    },
    "tags": []
   },
   "outputs": [],
   "source": []
  }
 ],
 "metadata": {
  "jupytext": {
   "cell_metadata_filter": "all,-execution,-papermill,-trusted"
  },
  "kernelspec": {
   "display_name": "Python 3 (ipykernel)",
   "language": "python",
   "name": "python3"
  },
  "language_info": {
   "codemirror_mode": {
    "name": "ipython",
    "version": 3
   },
   "file_extension": ".py",
   "mimetype": "text/x-python",
   "name": "python",
   "nbconvert_exporter": "python",
   "pygments_lexer": "ipython3",
   "version": "3.10.16"
  },
  "papermill": {
   "default_parameters": {},
   "duration": 5.169549,
   "end_time": "2022-01-24T20:12:39.489386",
   "environment_variables": {},
   "exception": null,
   "input_path": "nbs/05_preprocessing/07-gtex_v8-metadata.ipynb",
   "output_path": "nbs/05_preprocessing/07-gtex_v8-metadata.run.ipynb",
   "parameters": {},
   "start_time": "2022-01-24T20:12:34.319837",
   "version": "2.3.3"
  }
 },
 "nbformat": 4,
 "nbformat_minor": 5
}
