{
 "cells": [
  {
   "cell_type": "code",
   "execution_count": 37,
   "metadata": {},
   "outputs": [],
   "source": [
    "import re\n",
    "import pandas as pd\n",
    "\n",
    "from ccc.coef import ccc\n",
    "from pathlib import Path"
   ]
  },
  {
   "cell_type": "markdown",
   "metadata": {},
   "source": [
    "## Metadata"
   ]
  },
  {
   "cell_type": "code",
   "execution_count": 19,
   "metadata": {},
   "outputs": [],
   "source": [
    "MANUSCRIPT_DIR = Path(\"/mnt/data/projs/manuscripts/ccc-gpu/\")\n",
    "assert MANUSCRIPT_DIR.exists()\n",
    "\n",
    "METADATA_DIR = Path(\"/mnt/data/proj_data/ccc-gpu/gtex_metadata\")\n",
    "METADATA_FILE = METADATA_DIR / \"gtex_v8-sample_metadata.pkl\"\n",
    "assert METADATA_FILE.exists()"
   ]
  },
  {
   "cell_type": "code",
   "execution_count": 53,
   "metadata": {},
   "outputs": [],
   "source": [
    "gtex_metadata = pd.read_pickle(METADATA_FILE)\n",
    "gtex_metadata.head()"
   ]
  },
  {
   "cell_type": "code",
   "execution_count": 52,
   "metadata": {},
   "outputs": [],
   "source": [
    "gtex_metadata.shape"
   ]
  },
  {
   "cell_type": "markdown",
   "metadata": {},
   "source": [
    "## Whole Blood Expression Data"
   ]
  },
  {
   "cell_type": "code",
   "execution_count": 7,
   "metadata": {},
   "outputs": [],
   "source": [
    "EXPR_DATA_DIR = Path(\"/mnt/data/proj_data/ccc-gpu/gene_expr/data/gtex_v8/gene_selection/all\")\n",
    "assert EXPR_DATA_DIR.exists()"
   ]
  },
  {
   "cell_type": "code",
   "execution_count": 49,
   "metadata": {},
   "outputs": [],
   "source": [
    "EXPR_DATA_DIR_FILES = EXPR_DATA_DIR.glob(\"*.pkl\")"
   ]
  },
  {
   "cell_type": "code",
   "execution_count": 11,
   "metadata": {},
   "outputs": [],
   "source": [
    "EXPR_FILE = EXPR_DATA_DIR / \"gtex_v8_data_whole_blood-var_pc_log2.pkl\"\n",
    "assert EXPR_FILE.exists()"
   ]
  },
  {
   "cell_type": "code",
   "execution_count": 12,
   "metadata": {},
   "outputs": [],
   "source": [
    "expr_data = pd.read_pickle(EXPR_FILE)"
   ]
  },
  {
   "cell_type": "code",
   "execution_count": 13,
   "metadata": {},
   "outputs": [],
   "source": [
    "expr_data.head()"
   ]
  },
  {
   "cell_type": "code",
   "execution_count": 31,
   "metadata": {},
   "outputs": [],
   "source": [
    "expr_data.shape"
   ]
  },
  {
   "cell_type": "code",
   "execution_count": 18,
   "metadata": {},
   "outputs": [],
   "source": [
    "# Get column names from expr file\n",
    "sample_ids = expr_data.columns\n",
    "sample_ids.shape"
   ]
  },
  {
   "cell_type": "code",
   "execution_count": 17,
   "metadata": {},
   "outputs": [],
   "source": [
    "# Select rows in gtex_metadata using sample_ids\n",
    "gtex_metadata.loc[sample_ids]"
   ]
  },
  {
   "cell_type": "markdown",
   "metadata": {},
   "source": [
    "## Gene Mapping"
   ]
  },
  {
   "cell_type": "code",
   "execution_count": 20,
   "metadata": {},
   "outputs": [],
   "source": [
    "gene_map = pd.read_pickle(MANUSCRIPT_DIR / \"data\" / \"gtex_gene_id_symbol_mappings.pkl\")"
   ]
  },
  {
   "cell_type": "code",
   "execution_count": 21,
   "metadata": {},
   "outputs": [],
   "source": [
    "gene_map.head()"
   ]
  },
  {
   "cell_type": "code",
   "execution_count": 27,
   "metadata": {},
   "outputs": [],
   "source": [
    "gene_symbol = \"RASSF2\"\n",
    "# Look up gene id that matches the gene symbol\n",
    "gene_id = gene_map.loc[gene_map[\"gene_symbol\"] == gene_symbol, \"gene_ens_id\"].values[0]\n",
    "gene_id"
   ]
  },
  {
   "cell_type": "markdown",
   "metadata": {},
   "source": [
    "## Compute Correlation"
   ]
  },
  {
   "cell_type": "code",
   "execution_count": 40,
   "metadata": {},
   "outputs": [],
   "source": [
    "# Select expression row for gene\n",
    "gene_expr_row = expr_data.loc[gene_id]\n",
    "gene_expr_row"
   ]
  },
  {
   "cell_type": "code",
   "execution_count": 44,
   "metadata": {},
   "outputs": [],
   "source": [
    "metadata_vector = gtex_metadata.loc[sample_ids][\"COHORT\"]\n",
    "metadata_vector"
   ]
  },
  {
   "cell_type": "code",
   "execution_count": 50,
   "metadata": {},
   "outputs": [],
   "source": [
    "# Compute ccc\n",
    "PVALUE_N_PERMS = 1000000\n",
    "\n",
    "ccc_val, ccc_pval = ccc(gene_expr_row, metadata_vector, pvalue_n_perms=PVALUE_N_PERMS, n_jobs=24)"
   ]
  },
  {
   "cell_type": "code",
   "execution_count": 51,
   "metadata": {},
   "outputs": [],
   "source": [
    "ccc_pval"
   ]
  },
  {
   "cell_type": "code",
   "execution_count": 54,
   "metadata": {},
   "outputs": [],
   "source": [
    "ccc_val"
   ]
  }
 ],
 "metadata": {
  "kernelspec": {
   "display_name": "Python 3 (ipykernel)",
   "language": "python",
   "name": "python3"
  }
 },
 "nbformat": 4,
 "nbformat_minor": 2
}
